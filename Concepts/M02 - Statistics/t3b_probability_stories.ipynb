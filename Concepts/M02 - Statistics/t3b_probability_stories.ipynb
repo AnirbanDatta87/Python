{
 "cells": [
  {
   "cell_type": "markdown",
   "metadata": {},
   "source": [
    "# Tutorial 3b: Probability distributions and their stories\n",
    "\n",
    "(c) 2016 Justin Bois. This work is licensed under a [Creative Commons Attribution License CC-BY 4.0](https://creativecommons.org/licenses/by/4.0/). All code contained herein is licensed under an [MIT license](https://opensource.org/licenses/MIT).\n",
    "\n",
    "*This tutorial was generated from an Jupyter notebook.  You can download the notebook [here](t3b_probability_stories.ipynb).*"
   ]
  },
  {
   "cell_type": "code",
   "execution_count": 1,
   "metadata": {},
   "outputs": [
    {
     "data": {
      "text/html": [
       "\n",
       "    <div class=\"bk-root\">\n",
       "        <a href=\"https://bokeh.org\" target=\"_blank\" class=\"bk-logo bk-logo-small bk-logo-notebook\"></a>\n",
       "        <span id=\"1002\">Loading BokehJS ...</span>\n",
       "    </div>"
      ]
     },
     "metadata": {},
     "output_type": "display_data"
    },
    {
     "data": {
      "application/javascript": [
       "\n",
       "(function(root) {\n",
       "  function now() {\n",
       "    return new Date();\n",
       "  }\n",
       "\n",
       "  var force = true;\n",
       "\n",
       "  if (typeof root._bokeh_onload_callbacks === \"undefined\" || force === true) {\n",
       "    root._bokeh_onload_callbacks = [];\n",
       "    root._bokeh_is_loading = undefined;\n",
       "  }\n",
       "\n",
       "  var JS_MIME_TYPE = 'application/javascript';\n",
       "  var HTML_MIME_TYPE = 'text/html';\n",
       "  var EXEC_MIME_TYPE = 'application/vnd.bokehjs_exec.v0+json';\n",
       "  var CLASS_NAME = 'output_bokeh rendered_html';\n",
       "\n",
       "  /**\n",
       "   * Render data to the DOM node\n",
       "   */\n",
       "  function render(props, node) {\n",
       "    var script = document.createElement(\"script\");\n",
       "    node.appendChild(script);\n",
       "  }\n",
       "\n",
       "  /**\n",
       "   * Handle when an output is cleared or removed\n",
       "   */\n",
       "  function handleClearOutput(event, handle) {\n",
       "    var cell = handle.cell;\n",
       "\n",
       "    var id = cell.output_area._bokeh_element_id;\n",
       "    var server_id = cell.output_area._bokeh_server_id;\n",
       "    // Clean up Bokeh references\n",
       "    if (id != null && id in Bokeh.index) {\n",
       "      Bokeh.index[id].model.document.clear();\n",
       "      delete Bokeh.index[id];\n",
       "    }\n",
       "\n",
       "    if (server_id !== undefined) {\n",
       "      // Clean up Bokeh references\n",
       "      var cmd = \"from bokeh.io.state import curstate; print(curstate().uuid_to_server['\" + server_id + \"'].get_sessions()[0].document.roots[0]._id)\";\n",
       "      cell.notebook.kernel.execute(cmd, {\n",
       "        iopub: {\n",
       "          output: function(msg) {\n",
       "            var id = msg.content.text.trim();\n",
       "            if (id in Bokeh.index) {\n",
       "              Bokeh.index[id].model.document.clear();\n",
       "              delete Bokeh.index[id];\n",
       "            }\n",
       "          }\n",
       "        }\n",
       "      });\n",
       "      // Destroy server and session\n",
       "      var cmd = \"import bokeh.io.notebook as ion; ion.destroy_server('\" + server_id + \"')\";\n",
       "      cell.notebook.kernel.execute(cmd);\n",
       "    }\n",
       "  }\n",
       "\n",
       "  /**\n",
       "   * Handle when a new output is added\n",
       "   */\n",
       "  function handleAddOutput(event, handle) {\n",
       "    var output_area = handle.output_area;\n",
       "    var output = handle.output;\n",
       "\n",
       "    // limit handleAddOutput to display_data with EXEC_MIME_TYPE content only\n",
       "    if ((output.output_type != \"display_data\") || (!Object.prototype.hasOwnProperty.call(output.data, EXEC_MIME_TYPE))) {\n",
       "      return\n",
       "    }\n",
       "\n",
       "    var toinsert = output_area.element.find(\".\" + CLASS_NAME.split(' ')[0]);\n",
       "\n",
       "    if (output.metadata[EXEC_MIME_TYPE][\"id\"] !== undefined) {\n",
       "      toinsert[toinsert.length - 1].firstChild.textContent = output.data[JS_MIME_TYPE];\n",
       "      // store reference to embed id on output_area\n",
       "      output_area._bokeh_element_id = output.metadata[EXEC_MIME_TYPE][\"id\"];\n",
       "    }\n",
       "    if (output.metadata[EXEC_MIME_TYPE][\"server_id\"] !== undefined) {\n",
       "      var bk_div = document.createElement(\"div\");\n",
       "      bk_div.innerHTML = output.data[HTML_MIME_TYPE];\n",
       "      var script_attrs = bk_div.children[0].attributes;\n",
       "      for (var i = 0; i < script_attrs.length; i++) {\n",
       "        toinsert[toinsert.length - 1].firstChild.setAttribute(script_attrs[i].name, script_attrs[i].value);\n",
       "        toinsert[toinsert.length - 1].firstChild.textContent = bk_div.children[0].textContent\n",
       "      }\n",
       "      // store reference to server id on output_area\n",
       "      output_area._bokeh_server_id = output.metadata[EXEC_MIME_TYPE][\"server_id\"];\n",
       "    }\n",
       "  }\n",
       "\n",
       "  function register_renderer(events, OutputArea) {\n",
       "\n",
       "    function append_mime(data, metadata, element) {\n",
       "      // create a DOM node to render to\n",
       "      var toinsert = this.create_output_subarea(\n",
       "        metadata,\n",
       "        CLASS_NAME,\n",
       "        EXEC_MIME_TYPE\n",
       "      );\n",
       "      this.keyboard_manager.register_events(toinsert);\n",
       "      // Render to node\n",
       "      var props = {data: data, metadata: metadata[EXEC_MIME_TYPE]};\n",
       "      render(props, toinsert[toinsert.length - 1]);\n",
       "      element.append(toinsert);\n",
       "      return toinsert\n",
       "    }\n",
       "\n",
       "    /* Handle when an output is cleared or removed */\n",
       "    events.on('clear_output.CodeCell', handleClearOutput);\n",
       "    events.on('delete.Cell', handleClearOutput);\n",
       "\n",
       "    /* Handle when a new output is added */\n",
       "    events.on('output_added.OutputArea', handleAddOutput);\n",
       "\n",
       "    /**\n",
       "     * Register the mime type and append_mime function with output_area\n",
       "     */\n",
       "    OutputArea.prototype.register_mime_type(EXEC_MIME_TYPE, append_mime, {\n",
       "      /* Is output safe? */\n",
       "      safe: true,\n",
       "      /* Index of renderer in `output_area.display_order` */\n",
       "      index: 0\n",
       "    });\n",
       "  }\n",
       "\n",
       "  // register the mime type if in Jupyter Notebook environment and previously unregistered\n",
       "  if (root.Jupyter !== undefined) {\n",
       "    var events = require('base/js/events');\n",
       "    var OutputArea = require('notebook/js/outputarea').OutputArea;\n",
       "\n",
       "    if (OutputArea.prototype.mime_types().indexOf(EXEC_MIME_TYPE) == -1) {\n",
       "      register_renderer(events, OutputArea);\n",
       "    }\n",
       "  }\n",
       "\n",
       "  \n",
       "  if (typeof (root._bokeh_timeout) === \"undefined\" || force === true) {\n",
       "    root._bokeh_timeout = Date.now() + 5000;\n",
       "    root._bokeh_failed_load = false;\n",
       "  }\n",
       "\n",
       "  var NB_LOAD_WARNING = {'data': {'text/html':\n",
       "     \"<div style='background-color: #fdd'>\\n\"+\n",
       "     \"<p>\\n\"+\n",
       "     \"BokehJS does not appear to have successfully loaded. If loading BokehJS from CDN, this \\n\"+\n",
       "     \"may be due to a slow or bad network connection. Possible fixes:\\n\"+\n",
       "     \"</p>\\n\"+\n",
       "     \"<ul>\\n\"+\n",
       "     \"<li>re-rerun `output_notebook()` to attempt to load from CDN again, or</li>\\n\"+\n",
       "     \"<li>use INLINE resources instead, as so:</li>\\n\"+\n",
       "     \"</ul>\\n\"+\n",
       "     \"<code>\\n\"+\n",
       "     \"from bokeh.resources import INLINE\\n\"+\n",
       "     \"output_notebook(resources=INLINE)\\n\"+\n",
       "     \"</code>\\n\"+\n",
       "     \"</div>\"}};\n",
       "\n",
       "  function display_loaded() {\n",
       "    var el = document.getElementById(\"1002\");\n",
       "    if (el != null) {\n",
       "      el.textContent = \"BokehJS is loading...\";\n",
       "    }\n",
       "    if (root.Bokeh !== undefined) {\n",
       "      if (el != null) {\n",
       "        el.textContent = \"BokehJS \" + root.Bokeh.version + \" successfully loaded.\";\n",
       "      }\n",
       "    } else if (Date.now() < root._bokeh_timeout) {\n",
       "      setTimeout(display_loaded, 100)\n",
       "    }\n",
       "  }\n",
       "\n",
       "\n",
       "  function run_callbacks() {\n",
       "    try {\n",
       "      root._bokeh_onload_callbacks.forEach(function(callback) {\n",
       "        if (callback != null)\n",
       "          callback();\n",
       "      });\n",
       "    } finally {\n",
       "      delete root._bokeh_onload_callbacks\n",
       "    }\n",
       "    console.debug(\"Bokeh: all callbacks have finished\");\n",
       "  }\n",
       "\n",
       "  function load_libs(css_urls, js_urls, callback) {\n",
       "    if (css_urls == null) css_urls = [];\n",
       "    if (js_urls == null) js_urls = [];\n",
       "\n",
       "    root._bokeh_onload_callbacks.push(callback);\n",
       "    if (root._bokeh_is_loading > 0) {\n",
       "      console.debug(\"Bokeh: BokehJS is being loaded, scheduling callback at\", now());\n",
       "      return null;\n",
       "    }\n",
       "    if (js_urls == null || js_urls.length === 0) {\n",
       "      run_callbacks();\n",
       "      return null;\n",
       "    }\n",
       "    console.debug(\"Bokeh: BokehJS not loaded, scheduling load and callback at\", now());\n",
       "    root._bokeh_is_loading = css_urls.length + js_urls.length;\n",
       "\n",
       "    function on_load() {\n",
       "      root._bokeh_is_loading--;\n",
       "      if (root._bokeh_is_loading === 0) {\n",
       "        console.debug(\"Bokeh: all BokehJS libraries/stylesheets loaded\");\n",
       "        run_callbacks()\n",
       "      }\n",
       "    }\n",
       "\n",
       "    function on_error(url) {\n",
       "      console.error(\"failed to load \" + url);\n",
       "    }\n",
       "\n",
       "    for (let i = 0; i < css_urls.length; i++) {\n",
       "      const url = css_urls[i];\n",
       "      const element = document.createElement(\"link\");\n",
       "      element.onload = on_load;\n",
       "      element.onerror = on_error.bind(null, url);\n",
       "      element.rel = \"stylesheet\";\n",
       "      element.type = \"text/css\";\n",
       "      element.href = url;\n",
       "      console.debug(\"Bokeh: injecting link tag for BokehJS stylesheet: \", url);\n",
       "      document.body.appendChild(element);\n",
       "    }\n",
       "\n",
       "    const hashes = {\"https://cdn.bokeh.org/bokeh/release/bokeh-2.3.1.min.js\": \"YF85VygJKMVnHE+lLv2AM93Vbstr0yo2TbIu5v8se5Rq3UQAUmcuh4aaJwNlpKwa\", \"https://cdn.bokeh.org/bokeh/release/bokeh-widgets-2.3.1.min.js\": \"KKuas3gevv3PvrlkyCMzffFeaMq5we/a2QsP5AUoS3mJ0jmaCL7jirFJN3GoE/lM\", \"https://cdn.bokeh.org/bokeh/release/bokeh-tables-2.3.1.min.js\": \"MK/uFc3YT18pkvvXRl66tTHjP0/dxoSH2e/eiNMFIguKlun2+WVqaPTWmUy/zvh4\"};\n",
       "\n",
       "    for (let i = 0; i < js_urls.length; i++) {\n",
       "      const url = js_urls[i];\n",
       "      const element = document.createElement('script');\n",
       "      element.onload = on_load;\n",
       "      element.onerror = on_error.bind(null, url);\n",
       "      element.async = false;\n",
       "      element.src = url;\n",
       "      if (url in hashes) {\n",
       "        element.crossOrigin = \"anonymous\";\n",
       "        element.integrity = \"sha384-\" + hashes[url];\n",
       "      }\n",
       "      console.debug(\"Bokeh: injecting script tag for BokehJS library: \", url);\n",
       "      document.head.appendChild(element);\n",
       "    }\n",
       "  };\n",
       "\n",
       "  function inject_raw_css(css) {\n",
       "    const element = document.createElement(\"style\");\n",
       "    element.appendChild(document.createTextNode(css));\n",
       "    document.body.appendChild(element);\n",
       "  }\n",
       "\n",
       "  \n",
       "  var js_urls = [\"https://cdn.bokeh.org/bokeh/release/bokeh-2.3.1.min.js\", \"https://cdn.bokeh.org/bokeh/release/bokeh-widgets-2.3.1.min.js\", \"https://cdn.bokeh.org/bokeh/release/bokeh-tables-2.3.1.min.js\"];\n",
       "  var css_urls = [];\n",
       "  \n",
       "\n",
       "  var inline_js = [\n",
       "    function(Bokeh) {\n",
       "      Bokeh.set_log_level(\"info\");\n",
       "    },\n",
       "    function(Bokeh) {\n",
       "    \n",
       "    \n",
       "    }\n",
       "  ];\n",
       "\n",
       "  function run_inline_js() {\n",
       "    \n",
       "    if (root.Bokeh !== undefined || force === true) {\n",
       "      \n",
       "    for (var i = 0; i < inline_js.length; i++) {\n",
       "      inline_js[i].call(root, root.Bokeh);\n",
       "    }\n",
       "    if (force === true) {\n",
       "        display_loaded();\n",
       "      }} else if (Date.now() < root._bokeh_timeout) {\n",
       "      setTimeout(run_inline_js, 100);\n",
       "    } else if (!root._bokeh_failed_load) {\n",
       "      console.log(\"Bokeh: BokehJS failed to load within specified timeout.\");\n",
       "      root._bokeh_failed_load = true;\n",
       "    } else if (force !== true) {\n",
       "      var cell = $(document.getElementById(\"1002\")).parents('.cell').data().cell;\n",
       "      cell.output_area.append_execute_result(NB_LOAD_WARNING)\n",
       "    }\n",
       "\n",
       "  }\n",
       "\n",
       "  if (root._bokeh_is_loading === 0) {\n",
       "    console.debug(\"Bokeh: BokehJS loaded, going straight to plotting\");\n",
       "    run_inline_js();\n",
       "  } else {\n",
       "    load_libs(css_urls, js_urls, function() {\n",
       "      console.debug(\"Bokeh: BokehJS plotting callback run at\", now());\n",
       "      run_inline_js();\n",
       "    });\n",
       "  }\n",
       "}(window));"
      ],
      "application/vnd.bokehjs_load.v0+json": "\n(function(root) {\n  function now() {\n    return new Date();\n  }\n\n  var force = true;\n\n  if (typeof root._bokeh_onload_callbacks === \"undefined\" || force === true) {\n    root._bokeh_onload_callbacks = [];\n    root._bokeh_is_loading = undefined;\n  }\n\n  \n\n  \n  if (typeof (root._bokeh_timeout) === \"undefined\" || force === true) {\n    root._bokeh_timeout = Date.now() + 5000;\n    root._bokeh_failed_load = false;\n  }\n\n  var NB_LOAD_WARNING = {'data': {'text/html':\n     \"<div style='background-color: #fdd'>\\n\"+\n     \"<p>\\n\"+\n     \"BokehJS does not appear to have successfully loaded. If loading BokehJS from CDN, this \\n\"+\n     \"may be due to a slow or bad network connection. Possible fixes:\\n\"+\n     \"</p>\\n\"+\n     \"<ul>\\n\"+\n     \"<li>re-rerun `output_notebook()` to attempt to load from CDN again, or</li>\\n\"+\n     \"<li>use INLINE resources instead, as so:</li>\\n\"+\n     \"</ul>\\n\"+\n     \"<code>\\n\"+\n     \"from bokeh.resources import INLINE\\n\"+\n     \"output_notebook(resources=INLINE)\\n\"+\n     \"</code>\\n\"+\n     \"</div>\"}};\n\n  function display_loaded() {\n    var el = document.getElementById(\"1002\");\n    if (el != null) {\n      el.textContent = \"BokehJS is loading...\";\n    }\n    if (root.Bokeh !== undefined) {\n      if (el != null) {\n        el.textContent = \"BokehJS \" + root.Bokeh.version + \" successfully loaded.\";\n      }\n    } else if (Date.now() < root._bokeh_timeout) {\n      setTimeout(display_loaded, 100)\n    }\n  }\n\n\n  function run_callbacks() {\n    try {\n      root._bokeh_onload_callbacks.forEach(function(callback) {\n        if (callback != null)\n          callback();\n      });\n    } finally {\n      delete root._bokeh_onload_callbacks\n    }\n    console.debug(\"Bokeh: all callbacks have finished\");\n  }\n\n  function load_libs(css_urls, js_urls, callback) {\n    if (css_urls == null) css_urls = [];\n    if (js_urls == null) js_urls = [];\n\n    root._bokeh_onload_callbacks.push(callback);\n    if (root._bokeh_is_loading > 0) {\n      console.debug(\"Bokeh: BokehJS is being loaded, scheduling callback at\", now());\n      return null;\n    }\n    if (js_urls == null || js_urls.length === 0) {\n      run_callbacks();\n      return null;\n    }\n    console.debug(\"Bokeh: BokehJS not loaded, scheduling load and callback at\", now());\n    root._bokeh_is_loading = css_urls.length + js_urls.length;\n\n    function on_load() {\n      root._bokeh_is_loading--;\n      if (root._bokeh_is_loading === 0) {\n        console.debug(\"Bokeh: all BokehJS libraries/stylesheets loaded\");\n        run_callbacks()\n      }\n    }\n\n    function on_error(url) {\n      console.error(\"failed to load \" + url);\n    }\n\n    for (let i = 0; i < css_urls.length; i++) {\n      const url = css_urls[i];\n      const element = document.createElement(\"link\");\n      element.onload = on_load;\n      element.onerror = on_error.bind(null, url);\n      element.rel = \"stylesheet\";\n      element.type = \"text/css\";\n      element.href = url;\n      console.debug(\"Bokeh: injecting link tag for BokehJS stylesheet: \", url);\n      document.body.appendChild(element);\n    }\n\n    const hashes = {\"https://cdn.bokeh.org/bokeh/release/bokeh-2.3.1.min.js\": \"YF85VygJKMVnHE+lLv2AM93Vbstr0yo2TbIu5v8se5Rq3UQAUmcuh4aaJwNlpKwa\", \"https://cdn.bokeh.org/bokeh/release/bokeh-widgets-2.3.1.min.js\": \"KKuas3gevv3PvrlkyCMzffFeaMq5we/a2QsP5AUoS3mJ0jmaCL7jirFJN3GoE/lM\", \"https://cdn.bokeh.org/bokeh/release/bokeh-tables-2.3.1.min.js\": \"MK/uFc3YT18pkvvXRl66tTHjP0/dxoSH2e/eiNMFIguKlun2+WVqaPTWmUy/zvh4\"};\n\n    for (let i = 0; i < js_urls.length; i++) {\n      const url = js_urls[i];\n      const element = document.createElement('script');\n      element.onload = on_load;\n      element.onerror = on_error.bind(null, url);\n      element.async = false;\n      element.src = url;\n      if (url in hashes) {\n        element.crossOrigin = \"anonymous\";\n        element.integrity = \"sha384-\" + hashes[url];\n      }\n      console.debug(\"Bokeh: injecting script tag for BokehJS library: \", url);\n      document.head.appendChild(element);\n    }\n  };\n\n  function inject_raw_css(css) {\n    const element = document.createElement(\"style\");\n    element.appendChild(document.createTextNode(css));\n    document.body.appendChild(element);\n  }\n\n  \n  var js_urls = [\"https://cdn.bokeh.org/bokeh/release/bokeh-2.3.1.min.js\", \"https://cdn.bokeh.org/bokeh/release/bokeh-widgets-2.3.1.min.js\", \"https://cdn.bokeh.org/bokeh/release/bokeh-tables-2.3.1.min.js\"];\n  var css_urls = [];\n  \n\n  var inline_js = [\n    function(Bokeh) {\n      Bokeh.set_log_level(\"info\");\n    },\n    function(Bokeh) {\n    \n    \n    }\n  ];\n\n  function run_inline_js() {\n    \n    if (root.Bokeh !== undefined || force === true) {\n      \n    for (var i = 0; i < inline_js.length; i++) {\n      inline_js[i].call(root, root.Bokeh);\n    }\n    if (force === true) {\n        display_loaded();\n      }} else if (Date.now() < root._bokeh_timeout) {\n      setTimeout(run_inline_js, 100);\n    } else if (!root._bokeh_failed_load) {\n      console.log(\"Bokeh: BokehJS failed to load within specified timeout.\");\n      root._bokeh_failed_load = true;\n    } else if (force !== true) {\n      var cell = $(document.getElementById(\"1002\")).parents('.cell').data().cell;\n      cell.output_area.append_execute_result(NB_LOAD_WARNING)\n    }\n\n  }\n\n  if (root._bokeh_is_loading === 0) {\n    console.debug(\"Bokeh: BokehJS loaded, going straight to plotting\");\n    run_inline_js();\n  } else {\n    load_libs(css_urls, js_urls, function() {\n      console.debug(\"Bokeh: BokehJS plotting callback run at\", now());\n      run_inline_js();\n    });\n  }\n}(window));"
     },
     "metadata": {},
     "output_type": "display_data"
    }
   ],
   "source": [
    "import numpy as np\n",
    "import scipy.stats as st\n",
    "\n",
    "import bokeh.io\n",
    "import bokeh.layouts\n",
    "import bokeh.plotting\n",
    "\n",
    "bokeh.io.output_notebook()"
   ]
  },
  {
   "cell_type": "markdown",
   "metadata": {},
   "source": [
    "Because this tutorial consists mainly of a list of probability distributions and their stories and properties, it is useful to have a little index of them up front.\n",
    "\n",
    "* [Discrete distributions](#Discrete-distributions)\n",
    "    - [Bernoulli distribution](#Bernoulli-distribution)\n",
    "    - [Geometric distribution](#Geometric-distribution)\n",
    "    - [Negative Binomial distribution](#Negative-Binomial-distribution)\n",
    "    - [Binomial distribution](#Binomial-distribution)\n",
    "    - [Hypergeometric distribution](#Hypergeometric-distribution)\n",
    "* [Continuous distributions](#Continuous-distributions)\n",
    "    - [Uniform distribution](#Uniform-distribution)\n",
    "    - [Gaussian (a.k.a. Normal) distribution](#Gaussian--(a.k.a.-Normal)-distribution)\n",
    "    - [Log-Normal distribution](#Log-Normal-distribution)\n",
    "    - [Von Mises distribution](#Von-Mises-distribution)\n",
    "    - [Chi-square distribution](#Chi-square-distribution)\n",
    "    - [Student-t/Cauchy distribution](#Student-t/Cauchy-distribution)\n",
    "    - [Exponential distribution](#Exponential-distribution)\n",
    "    - [Gamma distribution](#Gamma-distribution)\n",
    "    - [Weibull distribution](#Weibull-distribution)"
   ]
  },
  {
   "cell_type": "markdown",
   "metadata": {},
   "source": [
    "We have talked about the three levels of building a model in the\n",
    "biological sciences.\n",
    "* **Cartoon model**: A cartoon or verbal phenomenological\n",
    "  description of the system of interest.\n",
    "* **Mathemtical model**: A mathematization of a cartoon model. This gives quantitative predictions on how a biological system should behave.\n",
    "* **Statistical model**: A description of what we expect from an\n",
    "  experiment, given our model mathematical.  In the Bayesian context, this is\n",
    "  specification of the likelihood and prior.\n",
    "\n",
    "We have talked briefly about specifying priors.  We endeavor to be uninformative when we do not know much about model parameters or about the hypothesis in question. We will be a bit sloppy in our prior formulation knowing that if we are sufficiently uninformative and we have enough data, the prior has little impact on the posterior.\n",
    "\n",
    "To specify a likelihood, we need to be careful, as this is very much\n",
    "at the heart of our model.  Specifying the likelihood amounts to\n",
    "choosing a probability distribution that describes how the data will\n",
    "look under your model.  In many cases, you need to derive the\n",
    "likelihood (or even numerically compute it when it cannot be written\n",
    "in closed form).  In many practical cases, though, the choice of\n",
    "likelihood is among standard probability distributions.  These\n",
    "distributions all have **stories** associated with them.  Importantly, *if your data\n",
    "and model match the story of a distribution, you know that this is the\n",
    "distribution to choose for your likelihood.*"
   ]
  },
  {
   "cell_type": "markdown",
   "metadata": {},
   "source": [
    "## Review of probability distributions\n",
    "\n",
    "Before we begin talking about distributions, let's remind ourselves\n",
    "what probability distributions are.  We cut some corners in our\n",
    "definitions here, but these definitions are functional for most of our\n",
    "data analysis purposes.\n",
    "\n",
    "A **probability mass function** (PMF), $P(x)$, describes the\n",
    "probability of a discrete variable obtaining value $x$.  The variable\n",
    "$x$ takes on discrete values, so the **normalization condition**\n",
    "is\n",
    "\n",
    "\\begin{align}\n",
    "\\sum_x P(x) = 1.\n",
    "\\end{align}\n",
    "\n",
    "A **probability density function** (PDF), which we shall\n",
    "also call $P(x)$, is defined such that the probability that a\n",
    "continuous variable $x$ is $a \\le x \\le b$ is\n",
    "\n",
    "\\begin{align}\n",
    "\\int_a^b \\mathrm{d}x\\,P(x).\n",
    "\\end{align}\n",
    "\n",
    "A **cumulative distribution function** (CDF), denoted $F(x)$ is defined such that $F(x)$ is the probability that a variable $X$ is less than or equal to $x$."
   ]
  },
  {
   "cell_type": "markdown",
   "metadata": {},
   "source": [
    "### Moments\n",
    "\n",
    "Probability distributions **moments**.  The way they are defined can\n",
    "vary, but we will define the $n$th moment computed from a PMF as\n",
    "\n",
    "\\begin{align}\n",
    "\\left\\langle x^n \\right\\rangle = \\sum_i x_i^n P(x_i),\n",
    "\\end{align}\n",
    "\n",
    "and computed from a PDF as\n",
    "\n",
    "\\begin{align}\n",
    "\\left\\langle x^n \\right\\rangle = \\int \\mathrm{d}x\\, x^n P(x).\n",
    "\\end{align}\n",
    "\n",
    "These moments are often used to compute summary statistics.\n",
    "\n",
    "\\begin{align}\n",
    "\\text{mean} &= \\langle x \\rangle \\\\[1em]\n",
    "\\text{variance} &= \\left\\langle x^2 \\right\\rangle - \\langle x \\rangle^2\n",
    "= \\left\\langle(x - \\langle x \\rangle)^2 \\right\\rangle \\\\[1em]\n",
    "\\text{skew} &= \\frac{\\left\\langle(x - \\langle x \\rangle)^3 \\right\\rangle}\n",
    "{\\left\\langle(x - \\langle x \\rangle)^2 \\right\\rangle^{\\frac{3}{2}}} \\\\[1em]\n",
    "\\text{Pearson kurtosis} &= \\frac{\\left\\langle(x - \\langle x \\rangle)^4 \\right\\rangle}\n",
    "{\\left\\langle(x - \\langle x \\rangle)^2 \\right\\rangle^2} \\\\[1em]\n",
    "\\text{Fisher kurtosis} &= \\frac{\\left\\langle(x - \\langle x \\rangle)^4 \\right\\rangle}\n",
    "{\\left\\langle(x - \\langle x \\rangle)^2 \\right\\rangle^2} - 3.\n",
    "\\end{align}\n",
    "\n",
    "We will present PMFs, PDFs, and CDFs for distributions below.  We only show\n",
    "the univariate forms; the multivariate versions are easily derived or\n",
    "looked up."
   ]
  },
  {
   "cell_type": "markdown",
   "metadata": {},
   "source": [
    "### Sampling\n",
    "\n",
    "Given that we know a probability distribution, we can take\n",
    "*samples* out of it.  This means that we can randomly draw\n",
    "numbers and the probability that we draw a certain number $x$ is\n",
    "proportional to the PMF or PDF, $P(x)$.  As we will soon discover in the course, sampling\n",
    "out of a distribution is often easier than computing the distribution\n",
    "over a range of values because many of those values are zero. "
   ]
  },
  {
   "cell_type": "markdown",
   "metadata": {},
   "source": [
    "## Distributions and their stories\n",
    "\n",
    "In what follows, I will present some commonly used probability distributions and their associated stories. For each distribution, I will give the name of the distribution, its story, its parameters, a biological example that follows this distribution, expressions for the PDF or PMF and CDF, as well as plots of these. Along the way, we'll define other terms, such as **Bernoulli trial** and **Poisson process**. I will use the `scipy.stats` module (imported as `st`) to compute the PDF/PMF and CDF. The API for this module will be apparent as I use it.\n",
    "\n",
    "Before we begin, I'll write some functions to generate the distributions for plotting. For this tutorial, I'll use Bokeh."
   ]
  },
  {
   "cell_type": "code",
   "execution_count": 2,
   "metadata": {},
   "outputs": [],
   "source": [
    "def plot_pmf(p, x, dist, params, **kwargs):\n",
    "    \"\"\"\n",
    "    Generate plot of PMF at specified values of x.\n",
    "    \"\"\"\n",
    "    y = dist.pmf(x, *params, **kwargs)\n",
    "    p.circle(x, y, size=7, color='dodgerblue')\n",
    "    p.segment(x0=x, x1=x, y0=0, y1=y, line_width=3, color='dodgerblue')\n",
    "    return p\n",
    "\n",
    "\n",
    "def plot_pdf(p, x, dist, params, **kwargs):\n",
    "    \"\"\"\n",
    "    Generate plot of PDF at specified values of x.\n",
    "    \"\"\"\n",
    "    y = dist.pdf(x, *params, **kwargs)\n",
    "    p.line(x, y, line_width=3, color='dodgerblue')\n",
    "    return p\n",
    "\n",
    "\n",
    "def plot_discrete_cdf(p, x, dist, params, show_segments=False, **kwargs):\n",
    "    \"\"\"\n",
    "    Plot CDF of discrete distribution.\n",
    "    \"\"\"\n",
    "    y = dist.cdf(x, *params, **kwargs)\n",
    "    if show_segments:\n",
    "        p.circle(x[:-1], y[:-1], size=7, color='dodgerblue')\n",
    "        p.segment(x0=x[:-1], x1=x[1:], y0=y[:-1], y1=y[:-1], line_width=3,\n",
    "                  color='dodgerblue')\n",
    "    else:\n",
    "        p.circle(x, y, size=7, color='dodgerblue')\n",
    "    return p\n",
    "\n",
    "\n",
    "def plot_continuous_cdf(p, x, dist, params, **kwargs):\n",
    "    \"\"\"\n",
    "    Plot CDF of continuous distribution.\n",
    "    \"\"\"\n",
    "    y = dist.cdf(x, *params, **kwargs)\n",
    "    p.line(x, y, line_width=3, color='dodgerblue')\n",
    "    return p\n",
    "\n",
    "\n",
    "def plot_dists(x, dist, params, param_names, dist_name, **kwargs):\n",
    "    \"\"\"\n",
    "    Plot PDF/PMF and CDF next to each other.\n",
    "    \"\"\"\n",
    "    # Tools for plots\n",
    "    tools='pan,wheel_zoom,reset'\n",
    "    \n",
    "    # Title for plots\n",
    "    t1 = dist_name + ', ' \\\n",
    "            + ''.join([param_names[i] + ' = ' + str(params[i]) + ', ' \n",
    "                                      for i in range(len(params) - 1)])\n",
    "    t1 += param_names[-1] + ' = ' + str(params[-1])\n",
    "    \n",
    "    # Last half of y-axis label\n",
    "    ylabel = ''.join(pname + ', ' for pname in param_names[:-1])\n",
    "    ylabel += param_names[-1] + ')'\n",
    "    \n",
    "    # Set up plots\n",
    "    p1 = bokeh.plotting.figure(width=325, height=250, tools=tools, title=t1)\n",
    "    p2 = bokeh.plotting.figure(width=325, height=250, tools=tools, \n",
    "                               y_range=[-0.05, 1.05])\n",
    "\n",
    "    # Make plots\n",
    "    if hasattr(dist, 'pmf'):\n",
    "        p1 = plot_pmf(p1, x, dist, params, **kwargs)\n",
    "        p1.xaxis.axis_label = 'k'\n",
    "        p1.yaxis.axis_label = 'P(k; ' + ylabel\n",
    "        p2 = plot_discrete_cdf(p2, x, dist, params, **kwargs)\n",
    "        p2.xaxis.axis_label = 'k'\n",
    "        p2.yaxis.axis_label = 'F(k; ' + ylabel\n",
    "    else:\n",
    "        p1 = plot_pdf(p1, x, dist, params, **kwargs)\n",
    "        p1.xaxis.axis_label = 'x'\n",
    "        p1.yaxis.axis_label = 'P(x; ' + ylabel\n",
    "        p2.yaxis.axis_label = 'F(x; ' + ylabel\n",
    "        p2 = plot_continuous_cdf(p2, x, dist, params, **kwargs)\n",
    "        p2.xaxis.axis_label = 'x'\n",
    "        p2.yaxis.axis_label = 'F(k; ' + ylabel\n",
    "        \n",
    "    # Link the x-axes\n",
    "    p1.x_range = p2.x_range\n",
    "\n",
    "    return bokeh.layouts.row([p1, p2])"
   ]
  },
  {
   "cell_type": "markdown",
   "metadata": {},
   "source": [
    "With these in place, we now describe some useful named distributions. For each, I will give the mathematical form of the PDF or PMF, but will omit the the CDF because they are often expressed as special functions, but as regularized incomplete beta functions or error functions. Remember that in general, for a discrete distribution\n",
    "\n",
    "\\begin{align}\n",
    "F(k) = \\sum_{k'=k_\\mathrm{min}}^k P(k'),\n",
    "\\end{align}\n",
    "\n",
    "and for a continuous distribution,\n",
    "\n",
    "\\begin{align}\n",
    "F(x) = \\int_{-\\infty}^x \\mathrm{d}x'\\,P(x').\n",
    "\\end{align}\n",
    "\n",
    "I do plot the CDF for each distribution."
   ]
  },
  {
   "cell_type": "markdown",
   "metadata": {},
   "source": [
    "## Discrete distributions"
   ]
  },
  {
   "cell_type": "markdown",
   "metadata": {},
   "source": [
    "### Bernoulli distribution\n",
    "\n",
    "**Story.** A single trial with either a success (`k = True`) or\n",
    "failure (`k=False`) is performed. Such a trial is called a *Bernoulli trial*.  The Bernoulli distribution defines the probability of getting each outcome.\n",
    "\n",
    "**Parameter.** The Bernoulli distribution is parametrized by a\n",
    "single value, $p$, the probability that the trial is successful.\n",
    "These trials are called *Bernoulli trials*.\n",
    "\n",
    "**Example.** Check to see if a given bacterium is competent, given that it has probability $p$ of being competent.\n",
    "\n",
    "**Probability mass function.**\n",
    "\n",
    "\\begin{align}\n",
    "P(k;p) = \\left\\{ \\begin{array}{ccc}\n",
    "1-p & & k = 0 \\\\[0.5em]\n",
    "p & & k = 1 \\\\[0.5em]\n",
    "0 & & \\text{otherwise.}\n",
    "\\end{array}\n",
    "\\right.\n",
    "\\end{align}"
   ]
  },
  {
   "cell_type": "code",
   "execution_count": 3,
   "metadata": {},
   "outputs": [
    {
     "data": {
      "text/html": [
       "\n",
       "\n",
       "\n",
       "\n",
       "\n",
       "\n",
       "  <div class=\"bk-root\" id=\"1bb5d6a8-139b-48c3-b463-ef4a7f51cdeb\" data-root-id=\"1068\"></div>\n"
      ]
     },
     "metadata": {},
     "output_type": "display_data"
    },
    {
     "data": {
      "application/javascript": [
       "(function(root) {\n",
       "  function embed_document(root) {\n",
       "    \n",
       "  var docs_json = {\"f06a583c-6bbe-4bc6-9f76-aa2eed684eae\":{\"defs\":[],\"roots\":{\"references\":[{\"attributes\":{\"children\":[{\"id\":\"1003\"},{\"id\":\"1029\"}]},\"id\":\"1068\",\"type\":\"Row\"},{\"attributes\":{},\"id\":\"1070\",\"type\":\"Title\"},{\"attributes\":{},\"id\":\"1019\",\"type\":\"BasicTicker\"},{\"attributes\":{},\"id\":\"1081\",\"type\":\"AllLabels\"},{\"attributes\":{\"text\":\"Bernoulli, p = 0.4\"},\"id\":\"1004\",\"type\":\"Title\"},{\"attributes\":{},\"id\":\"1072\",\"type\":\"AllLabels\"},{\"attributes\":{},\"id\":\"1082\",\"type\":\"BasicTickFormatter\"},{\"attributes\":{},\"id\":\"1030\",\"type\":\"DataRange1d\"},{\"attributes\":{\"source\":{\"id\":\"1058\"}},\"id\":\"1062\",\"type\":\"CDSView\"},{\"attributes\":{},\"id\":\"1073\",\"type\":\"BasicTickFormatter\"},{\"attributes\":{},\"id\":\"1039\",\"type\":\"BasicTicker\"},{\"attributes\":{\"axis_label\":\"k\",\"formatter\":{\"id\":\"1082\"},\"major_label_policy\":{\"id\":\"1081\"},\"ticker\":{\"id\":\"1039\"}},\"id\":\"1038\",\"type\":\"LinearAxis\"},{\"attributes\":{},\"id\":\"1022\",\"type\":\"PanTool\"},{\"attributes\":{\"below\":[{\"id\":\"1038\"}],\"center\":[{\"id\":\"1041\"},{\"id\":\"1045\"}],\"height\":250,\"left\":[{\"id\":\"1042\"}],\"renderers\":[{\"id\":\"1066\"}],\"title\":{\"id\":\"1070\"},\"toolbar\":{\"id\":\"1049\"},\"width\":325,\"x_range\":{\"id\":\"1030\"},\"x_scale\":{\"id\":\"1034\"},\"y_range\":{\"id\":\"1032\"},\"y_scale\":{\"id\":\"1036\"}},\"id\":\"1029\",\"subtype\":\"Figure\",\"type\":\"Plot\"},{\"attributes\":{\"axis_label\":\"k\",\"formatter\":{\"id\":\"1076\"},\"major_label_policy\":{\"id\":\"1075\"},\"ticker\":{\"id\":\"1015\"}},\"id\":\"1014\",\"type\":\"LinearAxis\"},{\"attributes\":{},\"id\":\"1075\",\"type\":\"AllLabels\"},{\"attributes\":{\"line_color\":{\"value\":\"dodgerblue\"},\"line_width\":{\"value\":3},\"x0\":{\"field\":\"x0\"},\"x1\":{\"field\":\"x1\"},\"y0\":{\"value\":0},\"y1\":{\"field\":\"y1\"}},\"id\":\"1059\",\"type\":\"Segment\"},{\"attributes\":{},\"id\":\"1076\",\"type\":\"BasicTickFormatter\"},{\"attributes\":{},\"id\":\"1036\",\"type\":\"LinearScale\"},{\"attributes\":{\"fill_color\":{\"value\":\"dodgerblue\"},\"line_color\":{\"value\":\"dodgerblue\"},\"size\":{\"value\":7},\"x\":{\"field\":\"x\"},\"y\":{\"field\":\"y\"}},\"id\":\"1064\",\"type\":\"Circle\"},{\"attributes\":{},\"id\":\"1034\",\"type\":\"LinearScale\"},{\"attributes\":{},\"id\":\"1012\",\"type\":\"LinearScale\"},{\"attributes\":{\"fill_color\":{\"value\":\"dodgerblue\"},\"line_color\":{\"value\":\"dodgerblue\"},\"size\":{\"value\":7},\"x\":{\"field\":\"x\"},\"y\":{\"field\":\"y\"}},\"id\":\"1054\",\"type\":\"Circle\"},{\"attributes\":{},\"id\":\"1084\",\"type\":\"UnionRenderers\"},{\"attributes\":{},\"id\":\"1008\",\"type\":\"DataRange1d\"},{\"attributes\":{},\"id\":\"1085\",\"type\":\"Selection\"},{\"attributes\":{},\"id\":\"1010\",\"type\":\"LinearScale\"},{\"attributes\":{\"axis_label\":\"F(k; p)\",\"formatter\":{\"id\":\"1079\"},\"major_label_policy\":{\"id\":\"1078\"},\"ticker\":{\"id\":\"1043\"}},\"id\":\"1042\",\"type\":\"LinearAxis\"},{\"attributes\":{},\"id\":\"1015\",\"type\":\"BasicTicker\"},{\"attributes\":{\"axis\":{\"id\":\"1014\"},\"ticker\":null},\"id\":\"1017\",\"type\":\"Grid\"},{\"attributes\":{\"data_source\":{\"id\":\"1053\"},\"glyph\":{\"id\":\"1054\"},\"hover_glyph\":null,\"muted_glyph\":null,\"nonselection_glyph\":{\"id\":\"1055\"},\"view\":{\"id\":\"1057\"}},\"id\":\"1056\",\"type\":\"GlyphRenderer\"},{\"attributes\":{\"data\":{\"x\":{\"__ndarray__\":\"AAAAAAEAAAA=\",\"dtype\":\"int32\",\"order\":\"little\",\"shape\":[2]},\"y\":{\"__ndarray__\":\"MzMzMzMz4z+amZmZmZnZPw==\",\"dtype\":\"float64\",\"order\":\"little\",\"shape\":[2]}},\"selected\":{\"id\":\"1085\"},\"selection_policy\":{\"id\":\"1084\"}},\"id\":\"1053\",\"type\":\"ColumnDataSource\"},{\"attributes\":{\"active_multi\":null,\"tools\":[{\"id\":\"1046\"},{\"id\":\"1047\"},{\"id\":\"1048\"}]},\"id\":\"1049\",\"type\":\"Toolbar\"},{\"attributes\":{\"source\":{\"id\":\"1053\"}},\"id\":\"1057\",\"type\":\"CDSView\"},{\"attributes\":{},\"id\":\"1089\",\"type\":\"Selection\"},{\"attributes\":{\"data_source\":{\"id\":\"1058\"},\"glyph\":{\"id\":\"1059\"},\"hover_glyph\":null,\"muted_glyph\":null,\"nonselection_glyph\":{\"id\":\"1060\"},\"view\":{\"id\":\"1062\"}},\"id\":\"1061\",\"type\":\"GlyphRenderer\"},{\"attributes\":{},\"id\":\"1088\",\"type\":\"UnionRenderers\"},{\"attributes\":{\"active_multi\":null,\"tools\":[{\"id\":\"1022\"},{\"id\":\"1023\"},{\"id\":\"1024\"}]},\"id\":\"1025\",\"type\":\"Toolbar\"},{\"attributes\":{\"axis\":{\"id\":\"1018\"},\"dimension\":1,\"ticker\":null},\"id\":\"1021\",\"type\":\"Grid\"},{\"attributes\":{\"end\":1.05,\"start\":-0.05},\"id\":\"1032\",\"type\":\"Range1d\"},{\"attributes\":{\"axis_label\":\"P(k; p)\",\"formatter\":{\"id\":\"1073\"},\"major_label_policy\":{\"id\":\"1072\"},\"ticker\":{\"id\":\"1019\"}},\"id\":\"1018\",\"type\":\"LinearAxis\"},{\"attributes\":{},\"id\":\"1023\",\"type\":\"WheelZoomTool\"},{\"attributes\":{},\"id\":\"1024\",\"type\":\"ResetTool\"},{\"attributes\":{},\"id\":\"1086\",\"type\":\"UnionRenderers\"},{\"attributes\":{\"data\":{\"x0\":{\"__ndarray__\":\"AAAAAAEAAAA=\",\"dtype\":\"int32\",\"order\":\"little\",\"shape\":[2]},\"x1\":{\"__ndarray__\":\"AAAAAAEAAAA=\",\"dtype\":\"int32\",\"order\":\"little\",\"shape\":[2]},\"y1\":{\"__ndarray__\":\"MzMzMzMz4z+amZmZmZnZPw==\",\"dtype\":\"float64\",\"order\":\"little\",\"shape\":[2]}},\"selected\":{\"id\":\"1087\"},\"selection_policy\":{\"id\":\"1086\"}},\"id\":\"1058\",\"type\":\"ColumnDataSource\"},{\"attributes\":{\"axis\":{\"id\":\"1038\"},\"ticker\":null},\"id\":\"1041\",\"type\":\"Grid\"},{\"attributes\":{\"data\":{\"x\":{\"__ndarray__\":\"AAAAAAEAAAA=\",\"dtype\":\"int32\",\"order\":\"little\",\"shape\":[2]},\"y\":{\"__ndarray__\":\"MzMzMzMz4z8AAAAAAADwPw==\",\"dtype\":\"float64\",\"order\":\"little\",\"shape\":[2]}},\"selected\":{\"id\":\"1089\"},\"selection_policy\":{\"id\":\"1088\"}},\"id\":\"1063\",\"type\":\"ColumnDataSource\"},{\"attributes\":{},\"id\":\"1087\",\"type\":\"Selection\"},{\"attributes\":{\"fill_alpha\":{\"value\":0.1},\"fill_color\":{\"value\":\"dodgerblue\"},\"line_alpha\":{\"value\":0.1},\"line_color\":{\"value\":\"dodgerblue\"},\"size\":{\"value\":7},\"x\":{\"field\":\"x\"},\"y\":{\"field\":\"y\"}},\"id\":\"1065\",\"type\":\"Circle\"},{\"attributes\":{},\"id\":\"1048\",\"type\":\"ResetTool\"},{\"attributes\":{\"data_source\":{\"id\":\"1063\"},\"glyph\":{\"id\":\"1064\"},\"hover_glyph\":null,\"muted_glyph\":null,\"nonselection_glyph\":{\"id\":\"1065\"},\"view\":{\"id\":\"1067\"}},\"id\":\"1066\",\"type\":\"GlyphRenderer\"},{\"attributes\":{},\"id\":\"1047\",\"type\":\"WheelZoomTool\"},{\"attributes\":{},\"id\":\"1046\",\"type\":\"PanTool\"},{\"attributes\":{},\"id\":\"1043\",\"type\":\"BasicTicker\"},{\"attributes\":{\"axis\":{\"id\":\"1042\"},\"dimension\":1,\"ticker\":null},\"id\":\"1045\",\"type\":\"Grid\"},{\"attributes\":{\"source\":{\"id\":\"1063\"}},\"id\":\"1067\",\"type\":\"CDSView\"},{\"attributes\":{\"line_alpha\":{\"value\":0.1},\"line_color\":{\"value\":\"dodgerblue\"},\"line_width\":{\"value\":3},\"x0\":{\"field\":\"x0\"},\"x1\":{\"field\":\"x1\"},\"y0\":{\"value\":0},\"y1\":{\"field\":\"y1\"}},\"id\":\"1060\",\"type\":\"Segment\"},{\"attributes\":{},\"id\":\"1078\",\"type\":\"AllLabels\"},{\"attributes\":{},\"id\":\"1079\",\"type\":\"BasicTickFormatter\"},{\"attributes\":{\"fill_alpha\":{\"value\":0.1},\"fill_color\":{\"value\":\"dodgerblue\"},\"line_alpha\":{\"value\":0.1},\"line_color\":{\"value\":\"dodgerblue\"},\"size\":{\"value\":7},\"x\":{\"field\":\"x\"},\"y\":{\"field\":\"y\"}},\"id\":\"1055\",\"type\":\"Circle\"},{\"attributes\":{\"below\":[{\"id\":\"1014\"}],\"center\":[{\"id\":\"1017\"},{\"id\":\"1021\"}],\"height\":250,\"left\":[{\"id\":\"1018\"}],\"renderers\":[{\"id\":\"1056\"},{\"id\":\"1061\"}],\"title\":{\"id\":\"1004\"},\"toolbar\":{\"id\":\"1025\"},\"width\":325,\"x_range\":{\"id\":\"1030\"},\"x_scale\":{\"id\":\"1010\"},\"y_range\":{\"id\":\"1008\"},\"y_scale\":{\"id\":\"1012\"}},\"id\":\"1003\",\"subtype\":\"Figure\",\"type\":\"Plot\"}],\"root_ids\":[\"1068\"]},\"title\":\"Bokeh Application\",\"version\":\"2.3.1\"}};\n",
       "  var render_items = [{\"docid\":\"f06a583c-6bbe-4bc6-9f76-aa2eed684eae\",\"root_ids\":[\"1068\"],\"roots\":{\"1068\":\"1bb5d6a8-139b-48c3-b463-ef4a7f51cdeb\"}}];\n",
       "  root.Bokeh.embed.embed_items_notebook(docs_json, render_items);\n",
       "\n",
       "  }\n",
       "  if (root.Bokeh !== undefined) {\n",
       "    embed_document(root);\n",
       "  } else {\n",
       "    var attempts = 0;\n",
       "    var timer = setInterval(function(root) {\n",
       "      if (root.Bokeh !== undefined) {\n",
       "        clearInterval(timer);\n",
       "        embed_document(root);\n",
       "      } else {\n",
       "        attempts++;\n",
       "        if (attempts > 100) {\n",
       "          clearInterval(timer);\n",
       "          console.log(\"Bokeh: ERROR: Unable to run BokehJS code because BokehJS library is missing\");\n",
       "        }\n",
       "      }\n",
       "    }, 10, root)\n",
       "  }\n",
       "})(window);"
      ],
      "application/vnd.bokehjs_exec.v0+json": ""
     },
     "metadata": {
      "application/vnd.bokehjs_exec.v0+json": {
       "id": "1068"
      }
     },
     "output_type": "display_data"
    }
   ],
   "source": [
    "k = np.array([0, 1])\n",
    "p = plot_dists(k, st.bernoulli, (0.4,), ('p',), 'Bernoulli')\n",
    "bokeh.io.show(p)"
   ]
  },
  {
   "cell_type": "markdown",
   "metadata": {},
   "source": [
    "### Geometric distribution\n",
    "\n",
    "**Story.** We perform a series of Bernoulli trials until we\n",
    "get a success.  We have $k$ failures before the success.\n",
    "\n",
    "**Parameter.** The Geometric distribution is parametrized by a\n",
    "single value, $p$, the probability that the Bernoulli trial is\n",
    "successful.\n",
    "\n",
    "**Example.** Consider actin polymerization.  At each time\n",
    "step, an actin monomer may add to the filament (\"failure\"), or an\n",
    "actin monomer may fall off (\"\"success\"\") with (usually very low)\n",
    "probability $p$.  The length of actin filaments are Geometrically\n",
    "distributed.\n",
    "\n",
    "**Probability mass function.**\n",
    "\n",
    "\\begin{align}\n",
    "P(k;p) = (1-p)^k p.\n",
    "\\end{align}\n",
    "\n",
    "\n",
    "**Notes.** The Geometric distribution is only defined for non-negative\n",
    "integer $k$."
   ]
  },
  {
   "cell_type": "code",
   "execution_count": 4,
   "metadata": {},
   "outputs": [
    {
     "data": {
      "text/html": [
       "\n",
       "\n",
       "\n",
       "\n",
       "\n",
       "\n",
       "  <div class=\"bk-root\" id=\"a9be2caf-3669-4f75-940d-64b3225d7be8\" data-root-id=\"1260\"></div>\n"
      ]
     },
     "metadata": {},
     "output_type": "display_data"
    },
    {
     "data": {
      "application/javascript": [
       "(function(root) {\n",
       "  function embed_document(root) {\n",
       "    \n",
       "  var docs_json = {\"1fb2b909-c824-4729-a0e8-3a78f5891ad5\":{\"defs\":[],\"roots\":{\"references\":[{\"attributes\":{\"children\":[{\"id\":\"1195\"},{\"id\":\"1221\"}]},\"id\":\"1260\",\"type\":\"Row\"},{\"attributes\":{},\"id\":\"1297\",\"type\":\"UnionRenderers\"},{\"attributes\":{},\"id\":\"1240\",\"type\":\"ResetTool\"},{\"attributes\":{},\"id\":\"1298\",\"type\":\"Selection\"},{\"attributes\":{\"fill_alpha\":{\"value\":0.1},\"fill_color\":{\"value\":\"dodgerblue\"},\"line_alpha\":{\"value\":0.1},\"line_color\":{\"value\":\"dodgerblue\"},\"size\":{\"value\":7},\"x\":{\"field\":\"x\"},\"y\":{\"field\":\"y\"}},\"id\":\"1257\",\"type\":\"Circle\"},{\"attributes\":{},\"id\":\"1214\",\"type\":\"PanTool\"},{\"attributes\":{\"data\":{\"x\":{\"__ndarray__\":\"AAAAAAEAAAACAAAAAwAAAAQAAAAFAAAABgAAAAcAAAAIAAAACQAAAAoAAAA=\",\"dtype\":\"int32\",\"order\":\"little\",\"shape\":[11]},\"y\":{\"__ndarray__\":\"mpmZmZmZ2T97FK5H4XrkP0oMAiuHFuk/YAfOGVHa6z9sBOJ1/YLtP3TPukbLge4/ExZwKq0a7z9yQEPmZ3bvP95ZKIpxre8/uALlUnfO7z+iASOYR+LvPw==\",\"dtype\":\"float64\",\"order\":\"little\",\"shape\":[11]}},\"selected\":{\"id\":\"1302\"},\"selection_policy\":{\"id\":\"1301\"}},\"id\":\"1255\",\"type\":\"ColumnDataSource\"},{\"attributes\":{\"fill_color\":{\"value\":\"dodgerblue\"},\"line_color\":{\"value\":\"dodgerblue\"},\"size\":{\"value\":7},\"x\":{\"field\":\"x\"},\"y\":{\"field\":\"y\"}},\"id\":\"1256\",\"type\":\"Circle\"},{\"attributes\":{\"below\":[{\"id\":\"1206\"}],\"center\":[{\"id\":\"1209\"},{\"id\":\"1213\"}],\"height\":250,\"left\":[{\"id\":\"1210\"}],\"renderers\":[{\"id\":\"1248\"},{\"id\":\"1253\"}],\"title\":{\"id\":\"1196\"},\"toolbar\":{\"id\":\"1217\"},\"width\":325,\"x_range\":{\"id\":\"1222\"},\"x_scale\":{\"id\":\"1202\"},\"y_range\":{\"id\":\"1200\"},\"y_scale\":{\"id\":\"1204\"}},\"id\":\"1195\",\"subtype\":\"Figure\",\"type\":\"Plot\"},{\"attributes\":{},\"id\":\"1302\",\"type\":\"Selection\"},{\"attributes\":{\"text\":\"Geometric, p = 0.4\"},\"id\":\"1196\",\"type\":\"Title\"},{\"attributes\":{},\"id\":\"1301\",\"type\":\"UnionRenderers\"},{\"attributes\":{\"source\":{\"id\":\"1255\"}},\"id\":\"1259\",\"type\":\"CDSView\"},{\"attributes\":{\"data_source\":{\"id\":\"1255\"},\"glyph\":{\"id\":\"1256\"},\"hover_glyph\":null,\"muted_glyph\":null,\"nonselection_glyph\":{\"id\":\"1257\"},\"view\":{\"id\":\"1259\"}},\"id\":\"1258\",\"type\":\"GlyphRenderer\"},{\"attributes\":{},\"id\":\"1283\",\"type\":\"Title\"},{\"attributes\":{},\"id\":\"1299\",\"type\":\"UnionRenderers\"},{\"attributes\":{},\"id\":\"1300\",\"type\":\"Selection\"},{\"attributes\":{\"line_alpha\":{\"value\":0.1},\"line_color\":{\"value\":\"dodgerblue\"},\"line_width\":{\"value\":3},\"x0\":{\"field\":\"x0\"},\"x1\":{\"field\":\"x1\"},\"y0\":{\"value\":0},\"y1\":{\"field\":\"y1\"}},\"id\":\"1252\",\"type\":\"Segment\"},{\"attributes\":{\"below\":[{\"id\":\"1230\"}],\"center\":[{\"id\":\"1233\"},{\"id\":\"1237\"}],\"height\":250,\"left\":[{\"id\":\"1234\"}],\"renderers\":[{\"id\":\"1258\"}],\"title\":{\"id\":\"1283\"},\"toolbar\":{\"id\":\"1241\"},\"width\":325,\"x_range\":{\"id\":\"1222\"},\"x_scale\":{\"id\":\"1226\"},\"y_range\":{\"id\":\"1224\"},\"y_scale\":{\"id\":\"1228\"}},\"id\":\"1221\",\"subtype\":\"Figure\",\"type\":\"Plot\"},{\"attributes\":{\"active_multi\":null,\"tools\":[{\"id\":\"1214\"},{\"id\":\"1215\"},{\"id\":\"1216\"}]},\"id\":\"1217\",\"type\":\"Toolbar\"},{\"attributes\":{\"source\":{\"id\":\"1245\"}},\"id\":\"1249\",\"type\":\"CDSView\"},{\"attributes\":{\"end\":1.05,\"start\":-0.05},\"id\":\"1224\",\"type\":\"Range1d\"},{\"attributes\":{},\"id\":\"1216\",\"type\":\"ResetTool\"},{\"attributes\":{},\"id\":\"1226\",\"type\":\"LinearScale\"},{\"attributes\":{},\"id\":\"1200\",\"type\":\"DataRange1d\"},{\"attributes\":{},\"id\":\"1291\",\"type\":\"AllLabels\"},{\"attributes\":{\"axis_label\":\"F(k; p)\",\"formatter\":{\"id\":\"1292\"},\"major_label_policy\":{\"id\":\"1291\"},\"ticker\":{\"id\":\"1235\"}},\"id\":\"1234\",\"type\":\"LinearAxis\"},{\"attributes\":{\"axis_label\":\"P(k; p)\",\"formatter\":{\"id\":\"1286\"},\"major_label_policy\":{\"id\":\"1285\"},\"ticker\":{\"id\":\"1211\"}},\"id\":\"1210\",\"type\":\"LinearAxis\"},{\"attributes\":{\"active_multi\":null,\"tools\":[{\"id\":\"1238\"},{\"id\":\"1239\"},{\"id\":\"1240\"}]},\"id\":\"1241\",\"type\":\"Toolbar\"},{\"attributes\":{},\"id\":\"1228\",\"type\":\"LinearScale\"},{\"attributes\":{},\"id\":\"1202\",\"type\":\"LinearScale\"},{\"attributes\":{},\"id\":\"1292\",\"type\":\"BasicTickFormatter\"},{\"attributes\":{},\"id\":\"1204\",\"type\":\"LinearScale\"},{\"attributes\":{\"axis_label\":\"k\",\"formatter\":{\"id\":\"1295\"},\"major_label_policy\":{\"id\":\"1294\"},\"ticker\":{\"id\":\"1231\"}},\"id\":\"1230\",\"type\":\"LinearAxis\"},{\"attributes\":{\"axis_label\":\"k\",\"formatter\":{\"id\":\"1289\"},\"major_label_policy\":{\"id\":\"1288\"},\"ticker\":{\"id\":\"1207\"}},\"id\":\"1206\",\"type\":\"LinearAxis\"},{\"attributes\":{\"fill_alpha\":{\"value\":0.1},\"fill_color\":{\"value\":\"dodgerblue\"},\"line_alpha\":{\"value\":0.1},\"line_color\":{\"value\":\"dodgerblue\"},\"size\":{\"value\":7},\"x\":{\"field\":\"x\"},\"y\":{\"field\":\"y\"}},\"id\":\"1247\",\"type\":\"Circle\"},{\"attributes\":{},\"id\":\"1207\",\"type\":\"BasicTicker\"},{\"attributes\":{},\"id\":\"1231\",\"type\":\"BasicTicker\"},{\"attributes\":{\"fill_color\":{\"value\":\"dodgerblue\"},\"line_color\":{\"value\":\"dodgerblue\"},\"size\":{\"value\":7},\"x\":{\"field\":\"x\"},\"y\":{\"field\":\"y\"}},\"id\":\"1246\",\"type\":\"Circle\"},{\"attributes\":{},\"id\":\"1294\",\"type\":\"AllLabels\"},{\"attributes\":{\"axis\":{\"id\":\"1230\"},\"ticker\":null},\"id\":\"1233\",\"type\":\"Grid\"},{\"attributes\":{\"axis\":{\"id\":\"1206\"},\"ticker\":null},\"id\":\"1209\",\"type\":\"Grid\"},{\"attributes\":{\"data\":{\"x\":{\"__ndarray__\":\"AAAAAAEAAAACAAAAAwAAAAQAAAAFAAAABgAAAAcAAAAIAAAACQAAAAoAAAA=\",\"dtype\":\"int32\",\"order\":\"little\",\"shape\":[11]},\"y\":{\"__ndarray__\":\"mpmZmZmZ2T+4HoXrUbjOPzvfT42XbsI/rdhfdk8etj/Q0D/BxYqqP/hgGRu62Z8/yNOodjwckz+9l8r0ru6GPxW2jPLRhHs/QG1UXuSCcD+A6f49RdBjPw==\",\"dtype\":\"float64\",\"order\":\"little\",\"shape\":[11]}},\"selected\":{\"id\":\"1298\"},\"selection_policy\":{\"id\":\"1297\"}},\"id\":\"1245\",\"type\":\"ColumnDataSource\"},{\"attributes\":{},\"id\":\"1285\",\"type\":\"AllLabels\"},{\"attributes\":{},\"id\":\"1286\",\"type\":\"BasicTickFormatter\"},{\"attributes\":{},\"id\":\"1295\",\"type\":\"BasicTickFormatter\"},{\"attributes\":{\"data_source\":{\"id\":\"1250\"},\"glyph\":{\"id\":\"1251\"},\"hover_glyph\":null,\"muted_glyph\":null,\"nonselection_glyph\":{\"id\":\"1252\"},\"view\":{\"id\":\"1254\"}},\"id\":\"1253\",\"type\":\"GlyphRenderer\"},{\"attributes\":{\"axis\":{\"id\":\"1210\"},\"dimension\":1,\"ticker\":null},\"id\":\"1213\",\"type\":\"Grid\"},{\"attributes\":{\"axis\":{\"id\":\"1234\"},\"dimension\":1,\"ticker\":null},\"id\":\"1237\",\"type\":\"Grid\"},{\"attributes\":{\"source\":{\"id\":\"1250\"}},\"id\":\"1254\",\"type\":\"CDSView\"},{\"attributes\":{},\"id\":\"1211\",\"type\":\"BasicTicker\"},{\"attributes\":{},\"id\":\"1288\",\"type\":\"AllLabels\"},{\"attributes\":{},\"id\":\"1222\",\"type\":\"DataRange1d\"},{\"attributes\":{},\"id\":\"1235\",\"type\":\"BasicTicker\"},{\"attributes\":{\"line_color\":{\"value\":\"dodgerblue\"},\"line_width\":{\"value\":3},\"x0\":{\"field\":\"x0\"},\"x1\":{\"field\":\"x1\"},\"y0\":{\"value\":0},\"y1\":{\"field\":\"y1\"}},\"id\":\"1251\",\"type\":\"Segment\"},{\"attributes\":{\"data_source\":{\"id\":\"1245\"},\"glyph\":{\"id\":\"1246\"},\"hover_glyph\":null,\"muted_glyph\":null,\"nonselection_glyph\":{\"id\":\"1247\"},\"view\":{\"id\":\"1249\"}},\"id\":\"1248\",\"type\":\"GlyphRenderer\"},{\"attributes\":{},\"id\":\"1289\",\"type\":\"BasicTickFormatter\"},{\"attributes\":{},\"id\":\"1215\",\"type\":\"WheelZoomTool\"},{\"attributes\":{},\"id\":\"1239\",\"type\":\"WheelZoomTool\"},{\"attributes\":{\"data\":{\"x0\":{\"__ndarray__\":\"AAAAAAEAAAACAAAAAwAAAAQAAAAFAAAABgAAAAcAAAAIAAAACQAAAAoAAAA=\",\"dtype\":\"int32\",\"order\":\"little\",\"shape\":[11]},\"x1\":{\"__ndarray__\":\"AAAAAAEAAAACAAAAAwAAAAQAAAAFAAAABgAAAAcAAAAIAAAACQAAAAoAAAA=\",\"dtype\":\"int32\",\"order\":\"little\",\"shape\":[11]},\"y1\":{\"__ndarray__\":\"mpmZmZmZ2T+4HoXrUbjOPzvfT42XbsI/rdhfdk8etj/Q0D/BxYqqP/hgGRu62Z8/yNOodjwckz+9l8r0ru6GPxW2jPLRhHs/QG1UXuSCcD+A6f49RdBjPw==\",\"dtype\":\"float64\",\"order\":\"little\",\"shape\":[11]}},\"selected\":{\"id\":\"1300\"},\"selection_policy\":{\"id\":\"1299\"}},\"id\":\"1250\",\"type\":\"ColumnDataSource\"},{\"attributes\":{},\"id\":\"1238\",\"type\":\"PanTool\"}],\"root_ids\":[\"1260\"]},\"title\":\"Bokeh Application\",\"version\":\"2.3.1\"}};\n",
       "  var render_items = [{\"docid\":\"1fb2b909-c824-4729-a0e8-3a78f5891ad5\",\"root_ids\":[\"1260\"],\"roots\":{\"1260\":\"a9be2caf-3669-4f75-940d-64b3225d7be8\"}}];\n",
       "  root.Bokeh.embed.embed_items_notebook(docs_json, render_items);\n",
       "\n",
       "  }\n",
       "  if (root.Bokeh !== undefined) {\n",
       "    embed_document(root);\n",
       "  } else {\n",
       "    var attempts = 0;\n",
       "    var timer = setInterval(function(root) {\n",
       "      if (root.Bokeh !== undefined) {\n",
       "        clearInterval(timer);\n",
       "        embed_document(root);\n",
       "      } else {\n",
       "        attempts++;\n",
       "        if (attempts > 100) {\n",
       "          clearInterval(timer);\n",
       "          console.log(\"Bokeh: ERROR: Unable to run BokehJS code because BokehJS library is missing\");\n",
       "        }\n",
       "      }\n",
       "    }, 10, root)\n",
       "  }\n",
       "})(window);"
      ],
      "application/vnd.bokehjs_exec.v0+json": ""
     },
     "metadata": {
      "application/vnd.bokehjs_exec.v0+json": {
       "id": "1260"
      }
     },
     "output_type": "display_data"
    }
   ],
   "source": [
    "k = np.arange(11)\n",
    "p = plot_dists(k, st.geom, (0.4,), ('p',), 'Geometric', **{'loc': -1})\n",
    "bokeh.io.show(p)"
   ]
  },
  {
   "cell_type": "markdown",
   "metadata": {},
   "source": [
    "### Negative Binomial distribution\n",
    "\n",
    "**Story.** We perform a series of Bernoulli trials until we\n",
    "get $r$ successes.  The number of failures, $k$, before we get $r$\n",
    "successes is Negative Binomially distributed.\n",
    "\n",
    "**Parameters.** There are two parameters: the probability $p$\n",
    "of success for each Bernoulli trial, and the desired number of\n",
    "successes, $r$.\n",
    "\n",
    "**Example.** Bursty gene expression can give mRNA count\n",
    "distributions that are Negative Binomially distributed.  Here,\n",
    "\"success\" is that a burst in gene expression stops.  So, the\n",
    "parameter $p$ is related to the length of a burst in expression (lower\n",
    "$p$ means a longer burst).  The parameter $r$ is related to the\n",
    "frequency of the bursts.  If multiple bursts are possible within the\n",
    "lifetime of mRNA, then $r > 1$.  Then, the number of \"failures\" is\n",
    "the number of mRNA transcripts that are made in the characteristic\n",
    "lifetime of mRNA.\n",
    "\n",
    "**Probability mass function.**\n",
    "\n",
    "\\begin{align}\n",
    "P(k;r,p) = \\begin{pmatrix}\n",
    "k+r-1 \\\\\n",
    "r-1\n",
    "\\end{pmatrix}\n",
    "p^r (1-p)^k.\n",
    "\\end{align}\n",
    "\n",
    "Here, we use a combinatorial notation;\n",
    "\n",
    "\\begin{align}\n",
    "  \\begin{pmatrix}\n",
    "k+r-1 \\\\\n",
    "r-1\n",
    "\\end{pmatrix} = \\frac{(k+r-1)!}{(r-1)!\\,k!}.\n",
    "\\end{align}\n",
    "\n",
    "**Notes.** If $r = 1$, this distribution reduces to the Geometric\n",
    "distribution."
   ]
  },
  {
   "cell_type": "code",
   "execution_count": 5,
   "metadata": {},
   "outputs": [
    {
     "data": {
      "text/html": [
       "\n",
       "\n",
       "\n",
       "\n",
       "\n",
       "\n",
       "  <div class=\"bk-root\" id=\"7b92447d-eb11-46e6-8d38-9167e07d7860\" data-root-id=\"1473\"></div>\n"
      ]
     },
     "metadata": {},
     "output_type": "display_data"
    },
    {
     "data": {
      "application/javascript": [
       "(function(root) {\n",
       "  function embed_document(root) {\n",
       "    \n",
       "  var docs_json = {\"e0abbeea-0fb2-4488-b6d2-db603c49a74e\":{\"defs\":[],\"roots\":{\"references\":[{\"attributes\":{\"children\":[{\"id\":\"1408\"},{\"id\":\"1434\"}]},\"id\":\"1473\",\"type\":\"Row\"},{\"attributes\":{\"active_multi\":null,\"tools\":[{\"id\":\"1451\"},{\"id\":\"1452\"},{\"id\":\"1453\"}]},\"id\":\"1454\",\"type\":\"Toolbar\"},{\"attributes\":{\"data\":{\"x\":{\"__ndarray__\":\"AAAAAAEAAAACAAAAAwAAAAQAAAAFAAAABgAAAAcAAAAIAAAACQAAAAoAAAALAAAADAAAAA0AAAAOAAAADwAAABAAAAARAAAAEgAAABMAAAAUAAAA\",\"dtype\":\"int32\",\"order\":\"little\",\"shape\":[21]},\"y\":{\"__ndarray__\":\"/anx0k1isD+Vy39Iv329P4zgfyvZscE/i+B/K9mxwT/8YBkbutm/P7lb7HIhwbo/+OKJ9U1ntT88bVRe5IKwP+Gjfo1WxKg/aKspzpQpoj+zH8GjZSeaP5bepCmli5I/mQQaB7T2iT8Nja9TkPmBP3eVMk63png/5kadcknDcD+jHyHBPKFmP4ct7erAWV4/vXPz8dU7VD/97GUQGdZKP9LUBb5DtkE/\",\"dtype\":\"float64\",\"order\":\"little\",\"shape\":[21]}},\"selected\":{\"id\":\"1532\"},\"selection_policy\":{\"id\":\"1531\"}},\"id\":\"1458\",\"type\":\"ColumnDataSource\"},{\"attributes\":{},\"id\":\"1517\",\"type\":\"Title\"},{\"attributes\":{\"below\":[{\"id\":\"1419\"}],\"center\":[{\"id\":\"1422\"},{\"id\":\"1426\"}],\"height\":250,\"left\":[{\"id\":\"1423\"}],\"renderers\":[{\"id\":\"1461\"},{\"id\":\"1466\"}],\"title\":{\"id\":\"1409\"},\"toolbar\":{\"id\":\"1430\"},\"width\":325,\"x_range\":{\"id\":\"1435\"},\"x_scale\":{\"id\":\"1415\"},\"y_range\":{\"id\":\"1413\"},\"y_scale\":{\"id\":\"1417\"}},\"id\":\"1408\",\"subtype\":\"Figure\",\"type\":\"Plot\"},{\"attributes\":{\"axis\":{\"id\":\"1447\"},\"dimension\":1,\"ticker\":null},\"id\":\"1450\",\"type\":\"Grid\"},{\"attributes\":{\"below\":[{\"id\":\"1443\"}],\"center\":[{\"id\":\"1446\"},{\"id\":\"1450\"}],\"height\":250,\"left\":[{\"id\":\"1447\"}],\"renderers\":[{\"id\":\"1471\"}],\"title\":{\"id\":\"1517\"},\"toolbar\":{\"id\":\"1454\"},\"width\":325,\"x_range\":{\"id\":\"1435\"},\"x_scale\":{\"id\":\"1439\"},\"y_range\":{\"id\":\"1437\"},\"y_scale\":{\"id\":\"1441\"}},\"id\":\"1434\",\"subtype\":\"Figure\",\"type\":\"Plot\"},{\"attributes\":{\"text\":\"Negative Binomial, r = 3, p = 0.4\"},\"id\":\"1409\",\"type\":\"Title\"},{\"attributes\":{},\"id\":\"1452\",\"type\":\"WheelZoomTool\"},{\"attributes\":{},\"id\":\"1428\",\"type\":\"WheelZoomTool\"},{\"attributes\":{},\"id\":\"1413\",\"type\":\"DataRange1d\"},{\"attributes\":{\"fill_alpha\":{\"value\":0.1},\"fill_color\":{\"value\":\"dodgerblue\"},\"line_alpha\":{\"value\":0.1},\"line_color\":{\"value\":\"dodgerblue\"},\"size\":{\"value\":7},\"x\":{\"field\":\"x\"},\"y\":{\"field\":\"y\"}},\"id\":\"1460\",\"type\":\"Circle\"},{\"attributes\":{},\"id\":\"1525\",\"type\":\"AllLabels\"},{\"attributes\":{},\"id\":\"1439\",\"type\":\"LinearScale\"},{\"attributes\":{\"axis_label\":\"P(k; r, p)\",\"formatter\":{\"id\":\"1520\"},\"major_label_policy\":{\"id\":\"1519\"},\"ticker\":{\"id\":\"1424\"}},\"id\":\"1423\",\"type\":\"LinearAxis\"},{\"attributes\":{},\"id\":\"1526\",\"type\":\"BasicTickFormatter\"},{\"attributes\":{},\"id\":\"1415\",\"type\":\"LinearScale\"},{\"attributes\":{},\"id\":\"1417\",\"type\":\"LinearScale\"},{\"attributes\":{\"fill_color\":{\"value\":\"dodgerblue\"},\"line_color\":{\"value\":\"dodgerblue\"},\"size\":{\"value\":7},\"x\":{\"field\":\"x\"},\"y\":{\"field\":\"y\"}},\"id\":\"1459\",\"type\":\"Circle\"},{\"attributes\":{\"axis_label\":\"k\",\"formatter\":{\"id\":\"1523\"},\"major_label_policy\":{\"id\":\"1522\"},\"ticker\":{\"id\":\"1420\"}},\"id\":\"1419\",\"type\":\"LinearAxis\"},{\"attributes\":{\"source\":{\"id\":\"1458\"}},\"id\":\"1462\",\"type\":\"CDSView\"},{\"attributes\":{},\"id\":\"1519\",\"type\":\"AllLabels\"},{\"attributes\":{},\"id\":\"1420\",\"type\":\"BasicTicker\"},{\"attributes\":{},\"id\":\"1451\",\"type\":\"PanTool\"},{\"attributes\":{\"axis\":{\"id\":\"1419\"},\"ticker\":null},\"id\":\"1422\",\"type\":\"Grid\"},{\"attributes\":{},\"id\":\"1520\",\"type\":\"BasicTickFormatter\"},{\"attributes\":{},\"id\":\"1528\",\"type\":\"AllLabels\"},{\"attributes\":{},\"id\":\"1529\",\"type\":\"BasicTickFormatter\"},{\"attributes\":{\"data_source\":{\"id\":\"1458\"},\"glyph\":{\"id\":\"1459\"},\"hover_glyph\":null,\"muted_glyph\":null,\"nonselection_glyph\":{\"id\":\"1460\"},\"view\":{\"id\":\"1462\"}},\"id\":\"1461\",\"type\":\"GlyphRenderer\"},{\"attributes\":{\"line_alpha\":{\"value\":0.1},\"line_color\":{\"value\":\"dodgerblue\"},\"line_width\":{\"value\":3},\"x0\":{\"field\":\"x0\"},\"x1\":{\"field\":\"x1\"},\"y0\":{\"value\":0},\"y1\":{\"field\":\"y1\"}},\"id\":\"1465\",\"type\":\"Segment\"},{\"attributes\":{\"axis\":{\"id\":\"1443\"},\"ticker\":null},\"id\":\"1446\",\"type\":\"Grid\"},{\"attributes\":{\"data\":{\"x0\":{\"__ndarray__\":\"AAAAAAEAAAACAAAAAwAAAAQAAAAFAAAABgAAAAcAAAAIAAAACQAAAAoAAAALAAAADAAAAA0AAAAOAAAADwAAABAAAAARAAAAEgAAABMAAAAUAAAA\",\"dtype\":\"int32\",\"order\":\"little\",\"shape\":[21]},\"x1\":{\"__ndarray__\":\"AAAAAAEAAAACAAAAAwAAAAQAAAAFAAAABgAAAAcAAAAIAAAACQAAAAoAAAALAAAADAAAAA0AAAAOAAAADwAAABAAAAARAAAAEgAAABMAAAAUAAAA\",\"dtype\":\"int32\",\"order\":\"little\",\"shape\":[21]},\"y1\":{\"__ndarray__\":\"/anx0k1isD+Vy39Iv329P4zgfyvZscE/i+B/K9mxwT/8YBkbutm/P7lb7HIhwbo/+OKJ9U1ntT88bVRe5IKwP+Gjfo1WxKg/aKspzpQpoj+zH8GjZSeaP5bepCmli5I/mQQaB7T2iT8Nja9TkPmBP3eVMk63png/5kadcknDcD+jHyHBPKFmP4ct7erAWV4/vXPz8dU7VD/97GUQGdZKP9LUBb5DtkE/\",\"dtype\":\"float64\",\"order\":\"little\",\"shape\":[21]}},\"selected\":{\"id\":\"1534\"},\"selection_policy\":{\"id\":\"1533\"}},\"id\":\"1463\",\"type\":\"ColumnDataSource\"},{\"attributes\":{},\"id\":\"1522\",\"type\":\"AllLabels\"},{\"attributes\":{},\"id\":\"1523\",\"type\":\"BasicTickFormatter\"},{\"attributes\":{\"data_source\":{\"id\":\"1463\"},\"glyph\":{\"id\":\"1464\"},\"hover_glyph\":null,\"muted_glyph\":null,\"nonselection_glyph\":{\"id\":\"1465\"},\"view\":{\"id\":\"1467\"}},\"id\":\"1466\",\"type\":\"GlyphRenderer\"},{\"attributes\":{\"axis\":{\"id\":\"1423\"},\"dimension\":1,\"ticker\":null},\"id\":\"1426\",\"type\":\"Grid\"},{\"attributes\":{},\"id\":\"1441\",\"type\":\"LinearScale\"},{\"attributes\":{},\"id\":\"1532\",\"type\":\"Selection\"},{\"attributes\":{},\"id\":\"1424\",\"type\":\"BasicTicker\"},{\"attributes\":{},\"id\":\"1531\",\"type\":\"UnionRenderers\"},{\"attributes\":{},\"id\":\"1435\",\"type\":\"DataRange1d\"},{\"attributes\":{\"active_multi\":null,\"tools\":[{\"id\":\"1427\"},{\"id\":\"1428\"},{\"id\":\"1429\"}]},\"id\":\"1430\",\"type\":\"Toolbar\"},{\"attributes\":{\"axis_label\":\"F(k; r, p)\",\"formatter\":{\"id\":\"1526\"},\"major_label_policy\":{\"id\":\"1525\"},\"ticker\":{\"id\":\"1448\"}},\"id\":\"1447\",\"type\":\"LinearAxis\"},{\"attributes\":{},\"id\":\"1427\",\"type\":\"PanTool\"},{\"attributes\":{\"source\":{\"id\":\"1463\"}},\"id\":\"1467\",\"type\":\"CDSView\"},{\"attributes\":{},\"id\":\"1453\",\"type\":\"ResetTool\"},{\"attributes\":{},\"id\":\"1429\",\"type\":\"ResetTool\"},{\"attributes\":{\"data\":{\"x\":{\"__ndarray__\":\"AAAAAAEAAAACAAAAAwAAAAQAAAAFAAAABgAAAAcAAAAIAAAACQAAAAoAAAALAAAADAAAAA0AAAAOAAAADwAAABAAAAARAAAAEgAAABMAAAAUAAAA\",\"dtype\":\"int32\",\"order\":\"little\",\"shape\":[21]},\"y\":{\"__ndarray__\":\"/anx0k1isD/IuriNBvDGP65NnNzvUNQ/8D1cctwp3T8YS5F8JZDiP4zW7qpJ6OU/7BKgaTOV6D+UoGr1j6XqP9KKQl7VMew/iCUlq25U7T+GLkPYqSXuP3xVkAEHuu4/jb2s0eEh7z/Be/sSyGnvP+zgl4EVm+8/eht9FJy87z+aPD5RPdPvPzGzszFq4u8/6qysHIjs7z9mxvCiPfPvP9tH4DOr9+8/\",\"dtype\":\"float64\",\"order\":\"little\",\"shape\":[21]}},\"selected\":{\"id\":\"1536\"},\"selection_policy\":{\"id\":\"1535\"}},\"id\":\"1468\",\"type\":\"ColumnDataSource\"},{\"attributes\":{\"end\":1.05,\"start\":-0.05},\"id\":\"1437\",\"type\":\"Range1d\"},{\"attributes\":{\"axis_label\":\"k\",\"formatter\":{\"id\":\"1529\"},\"major_label_policy\":{\"id\":\"1528\"},\"ticker\":{\"id\":\"1444\"}},\"id\":\"1443\",\"type\":\"LinearAxis\"},{\"attributes\":{\"fill_alpha\":{\"value\":0.1},\"fill_color\":{\"value\":\"dodgerblue\"},\"line_alpha\":{\"value\":0.1},\"line_color\":{\"value\":\"dodgerblue\"},\"size\":{\"value\":7},\"x\":{\"field\":\"x\"},\"y\":{\"field\":\"y\"}},\"id\":\"1470\",\"type\":\"Circle\"},{\"attributes\":{},\"id\":\"1448\",\"type\":\"BasicTicker\"},{\"attributes\":{},\"id\":\"1536\",\"type\":\"Selection\"},{\"attributes\":{\"fill_color\":{\"value\":\"dodgerblue\"},\"line_color\":{\"value\":\"dodgerblue\"},\"size\":{\"value\":7},\"x\":{\"field\":\"x\"},\"y\":{\"field\":\"y\"}},\"id\":\"1469\",\"type\":\"Circle\"},{\"attributes\":{},\"id\":\"1535\",\"type\":\"UnionRenderers\"},{\"attributes\":{\"source\":{\"id\":\"1468\"}},\"id\":\"1472\",\"type\":\"CDSView\"},{\"attributes\":{\"line_color\":{\"value\":\"dodgerblue\"},\"line_width\":{\"value\":3},\"x0\":{\"field\":\"x0\"},\"x1\":{\"field\":\"x1\"},\"y0\":{\"value\":0},\"y1\":{\"field\":\"y1\"}},\"id\":\"1464\",\"type\":\"Segment\"},{\"attributes\":{\"data_source\":{\"id\":\"1468\"},\"glyph\":{\"id\":\"1469\"},\"hover_glyph\":null,\"muted_glyph\":null,\"nonselection_glyph\":{\"id\":\"1470\"},\"view\":{\"id\":\"1472\"}},\"id\":\"1471\",\"type\":\"GlyphRenderer\"},{\"attributes\":{},\"id\":\"1444\",\"type\":\"BasicTicker\"},{\"attributes\":{},\"id\":\"1533\",\"type\":\"UnionRenderers\"},{\"attributes\":{},\"id\":\"1534\",\"type\":\"Selection\"}],\"root_ids\":[\"1473\"]},\"title\":\"Bokeh Application\",\"version\":\"2.3.1\"}};\n",
       "  var render_items = [{\"docid\":\"e0abbeea-0fb2-4488-b6d2-db603c49a74e\",\"root_ids\":[\"1473\"],\"roots\":{\"1473\":\"7b92447d-eb11-46e6-8d38-9167e07d7860\"}}];\n",
       "  root.Bokeh.embed.embed_items_notebook(docs_json, render_items);\n",
       "\n",
       "  }\n",
       "  if (root.Bokeh !== undefined) {\n",
       "    embed_document(root);\n",
       "  } else {\n",
       "    var attempts = 0;\n",
       "    var timer = setInterval(function(root) {\n",
       "      if (root.Bokeh !== undefined) {\n",
       "        clearInterval(timer);\n",
       "        embed_document(root);\n",
       "      } else {\n",
       "        attempts++;\n",
       "        if (attempts > 100) {\n",
       "          clearInterval(timer);\n",
       "          console.log(\"Bokeh: ERROR: Unable to run BokehJS code because BokehJS library is missing\");\n",
       "        }\n",
       "      }\n",
       "    }, 10, root)\n",
       "  }\n",
       "})(window);"
      ],
      "application/vnd.bokehjs_exec.v0+json": ""
     },
     "metadata": {
      "application/vnd.bokehjs_exec.v0+json": {
       "id": "1473"
      }
     },
     "output_type": "display_data"
    }
   ],
   "source": [
    "k = np.arange(21)\n",
    "p = plot_dists(k, st.nbinom, (3, 0.4), ('r', 'p',), 'Negative Binomial')\n",
    "bokeh.io.show(p)"
   ]
  },
  {
   "cell_type": "markdown",
   "metadata": {},
   "source": [
    "### Binomial distribution\n",
    "\n",
    "**Story.** We perform $n$ Bernoulli trials with probability $p$ of success.  The number of\n",
    "successes, $k$, is binomially distributed.\n",
    "\n",
    "**Parameters.** There are two parameters: the probability $p$\n",
    "of success for each Bernoulli trial, and the number of trials, $n$.\n",
    "\n",
    "**Example.** Distribution of plasmids between daughter cells\n",
    "in cell division.  Each of the $n$ plasmids as a chance $p$ of being\n",
    "in daughter cell 1 (\"success\").  The number of plasmids, $k$, in\n",
    "daughter cell 1 is binomially distributed.\n",
    "\n",
    "**Probability mass function.**\n",
    "\n",
    "\\begin{align}\n",
    "P(k;n,p) = \\begin{pmatrix}\n",
    "n \\\\\n",
    "k\n",
    "\\end{pmatrix}\n",
    "p^k (1-p)^{n-k}.\n",
    "\\end{align}"
   ]
  },
  {
   "cell_type": "code",
   "execution_count": 6,
   "metadata": {},
   "outputs": [
    {
     "data": {
      "text/html": [
       "\n",
       "\n",
       "\n",
       "\n",
       "\n",
       "\n",
       "  <div class=\"bk-root\" id=\"d3b4b8a2-33fc-4b73-a9cd-10a6d8f99472\" data-root-id=\"1707\"></div>\n"
      ]
     },
     "metadata": {},
     "output_type": "display_data"
    },
    {
     "data": {
      "application/javascript": [
       "(function(root) {\n",
       "  function embed_document(root) {\n",
       "    \n",
       "  var docs_json = {\"bc775f05-9593-4729-946c-6f5d798f94d9\":{\"defs\":[],\"roots\":{\"references\":[{\"attributes\":{\"children\":[{\"id\":\"1642\"},{\"id\":\"1668\"}]},\"id\":\"1707\",\"type\":\"Row\"},{\"attributes\":{\"data\":{\"x\":{\"__ndarray__\":\"AAAAAAEAAAACAAAAAwAAAAQAAAAFAAAABgAAAAcAAAAIAAAACQAAAAoAAAALAAAADAAAAA0AAAAOAAAADwAAABAAAAARAAAAEgAAABMAAAAUAAAA\",\"dtype\":\"int32\",\"order\":\"little\",\"shape\":[21]},\"y\":{\"__ndarray__\":\"IWBteTYrAz9y+3F3CyxBP3zPTEzOlW0/P8LBgB9YkD/sxEXZXxaqP6HZIIygE8A/f+7nwiwA0D9om1xp/Z3aP1wr2A4lD+M/uUU27bgr6D/MFEiQWOvrP/Q8x53vMO4/CdGGJLtT7z/+VZoTCMvvP1CCS2PM8u8/EH02I2f97z+jxty1nP/vP79jfm31/+8/3x8CSf//7z+91xj6///vPwAAAAAAAPA/\",\"dtype\":\"float64\",\"order\":\"little\",\"shape\":[21]}},\"selected\":{\"id\":\"1791\"},\"selection_policy\":{\"id\":\"1790\"}},\"id\":\"1702\",\"type\":\"ColumnDataSource\"},{\"attributes\":{},\"id\":\"1786\",\"type\":\"UnionRenderers\"},{\"attributes\":{},\"id\":\"1787\",\"type\":\"Selection\"},{\"attributes\":{\"fill_color\":{\"value\":\"dodgerblue\"},\"line_color\":{\"value\":\"dodgerblue\"},\"size\":{\"value\":7},\"x\":{\"field\":\"x\"},\"y\":{\"field\":\"y\"}},\"id\":\"1703\",\"type\":\"Circle\"},{\"attributes\":{\"axis_label\":\"k\",\"formatter\":{\"id\":\"1778\"},\"major_label_policy\":{\"id\":\"1777\"},\"ticker\":{\"id\":\"1654\"}},\"id\":\"1653\",\"type\":\"LinearAxis\"},{\"attributes\":{\"source\":{\"id\":\"1702\"}},\"id\":\"1706\",\"type\":\"CDSView\"},{\"attributes\":{},\"id\":\"1791\",\"type\":\"Selection\"},{\"attributes\":{\"fill_alpha\":{\"value\":0.1},\"fill_color\":{\"value\":\"dodgerblue\"},\"line_alpha\":{\"value\":0.1},\"line_color\":{\"value\":\"dodgerblue\"},\"size\":{\"value\":7},\"x\":{\"field\":\"x\"},\"y\":{\"field\":\"y\"}},\"id\":\"1704\",\"type\":\"Circle\"},{\"attributes\":{},\"id\":\"1790\",\"type\":\"UnionRenderers\"},{\"attributes\":{\"below\":[{\"id\":\"1653\"}],\"center\":[{\"id\":\"1656\"},{\"id\":\"1660\"}],\"height\":250,\"left\":[{\"id\":\"1657\"}],\"renderers\":[{\"id\":\"1695\"},{\"id\":\"1700\"}],\"title\":{\"id\":\"1643\"},\"toolbar\":{\"id\":\"1664\"},\"width\":325,\"x_range\":{\"id\":\"1669\"},\"x_scale\":{\"id\":\"1649\"},\"y_range\":{\"id\":\"1647\"},\"y_scale\":{\"id\":\"1651\"}},\"id\":\"1642\",\"subtype\":\"Figure\",\"type\":\"Plot\"},{\"attributes\":{\"data_source\":{\"id\":\"1702\"},\"glyph\":{\"id\":\"1703\"},\"hover_glyph\":null,\"muted_glyph\":null,\"nonselection_glyph\":{\"id\":\"1704\"},\"view\":{\"id\":\"1706\"}},\"id\":\"1705\",\"type\":\"GlyphRenderer\"},{\"attributes\":{\"below\":[{\"id\":\"1677\"}],\"center\":[{\"id\":\"1680\"},{\"id\":\"1684\"}],\"height\":250,\"left\":[{\"id\":\"1681\"}],\"renderers\":[{\"id\":\"1705\"}],\"title\":{\"id\":\"1772\"},\"toolbar\":{\"id\":\"1688\"},\"width\":325,\"x_range\":{\"id\":\"1669\"},\"x_scale\":{\"id\":\"1673\"},\"y_range\":{\"id\":\"1671\"},\"y_scale\":{\"id\":\"1675\"}},\"id\":\"1668\",\"subtype\":\"Figure\",\"type\":\"Plot\"},{\"attributes\":{\"text\":\"Binomial, n = 20, p = 0.4\"},\"id\":\"1643\",\"type\":\"Title\"},{\"attributes\":{},\"id\":\"1788\",\"type\":\"UnionRenderers\"},{\"attributes\":{\"data_source\":{\"id\":\"1692\"},\"glyph\":{\"id\":\"1693\"},\"hover_glyph\":null,\"muted_glyph\":null,\"nonselection_glyph\":{\"id\":\"1694\"},\"view\":{\"id\":\"1696\"}},\"id\":\"1695\",\"type\":\"GlyphRenderer\"},{\"attributes\":{\"line_color\":{\"value\":\"dodgerblue\"},\"line_width\":{\"value\":3},\"x0\":{\"field\":\"x0\"},\"x1\":{\"field\":\"x1\"},\"y0\":{\"value\":0},\"y1\":{\"field\":\"y1\"}},\"id\":\"1698\",\"type\":\"Segment\"},{\"attributes\":{},\"id\":\"1647\",\"type\":\"DataRange1d\"},{\"attributes\":{},\"id\":\"1789\",\"type\":\"Selection\"},{\"attributes\":{\"axis_label\":\"P(k; n, p)\",\"formatter\":{\"id\":\"1775\"},\"major_label_policy\":{\"id\":\"1774\"},\"ticker\":{\"id\":\"1658\"}},\"id\":\"1657\",\"type\":\"LinearAxis\"},{\"attributes\":{\"end\":1.05,\"start\":-0.05},\"id\":\"1671\",\"type\":\"Range1d\"},{\"attributes\":{},\"id\":\"1649\",\"type\":\"LinearScale\"},{\"attributes\":{},\"id\":\"1673\",\"type\":\"LinearScale\"},{\"attributes\":{},\"id\":\"1651\",\"type\":\"LinearScale\"},{\"attributes\":{\"axis_label\":\"F(k; n, p)\",\"formatter\":{\"id\":\"1781\"},\"major_label_policy\":{\"id\":\"1780\"},\"ticker\":{\"id\":\"1682\"}},\"id\":\"1681\",\"type\":\"LinearAxis\"},{\"attributes\":{},\"id\":\"1654\",\"type\":\"BasicTicker\"},{\"attributes\":{},\"id\":\"1675\",\"type\":\"LinearScale\"},{\"attributes\":{\"axis\":{\"id\":\"1653\"},\"ticker\":null},\"id\":\"1656\",\"type\":\"Grid\"},{\"attributes\":{\"active_multi\":null,\"tools\":[{\"id\":\"1685\"},{\"id\":\"1686\"},{\"id\":\"1687\"}]},\"id\":\"1688\",\"type\":\"Toolbar\"},{\"attributes\":{\"axis_label\":\"k\",\"formatter\":{\"id\":\"1784\"},\"major_label_policy\":{\"id\":\"1783\"},\"ticker\":{\"id\":\"1678\"}},\"id\":\"1677\",\"type\":\"LinearAxis\"},{\"attributes\":{},\"id\":\"1678\",\"type\":\"BasicTicker\"},{\"attributes\":{\"axis\":{\"id\":\"1677\"},\"ticker\":null},\"id\":\"1680\",\"type\":\"Grid\"},{\"attributes\":{\"axis\":{\"id\":\"1657\"},\"dimension\":1,\"ticker\":null},\"id\":\"1660\",\"type\":\"Grid\"},{\"attributes\":{\"data\":{\"x\":{\"__ndarray__\":\"AAAAAAEAAAACAAAAAwAAAAQAAAAFAAAABgAAAAcAAAAIAAAACQAAAAoAAAALAAAADAAAAA0AAAAOAAAADwAAABAAAAARAAAAEgAAABMAAAAUAAAA\",\"dtype\":\"int32\",\"order\":\"little\",\"shape\":[21]},\"y\":{\"__ndarray__\":\"JmBteTYrAz/iSrYfsPI/P5pQcG7LSmk/m1BwbstKiT+54+QYUOqhP7vQnisRHLM/lAZe83HZvz/cWelMoTvFP512p2iZAMc/aGl4eU9yxD+KeI4Y/fy9P0JB+Wu4LLI/S0H5a7gsoj8+PeHEO9ONP7ooltgn4nM/v4D11X81VT8AlkwylawxP5cCR2foLQY/vB4/eAe30z7/Hcn71iKWPjVCkgyhnEc+\",\"dtype\":\"float64\",\"order\":\"little\",\"shape\":[21]}},\"selected\":{\"id\":\"1787\"},\"selection_policy\":{\"id\":\"1786\"}},\"id\":\"1692\",\"type\":\"ColumnDataSource\"},{\"attributes\":{},\"id\":\"1658\",\"type\":\"BasicTicker\"},{\"attributes\":{},\"id\":\"1780\",\"type\":\"AllLabels\"},{\"attributes\":{},\"id\":\"1669\",\"type\":\"DataRange1d\"},{\"attributes\":{\"source\":{\"id\":\"1697\"}},\"id\":\"1701\",\"type\":\"CDSView\"},{\"attributes\":{},\"id\":\"1781\",\"type\":\"BasicTickFormatter\"},{\"attributes\":{\"active_multi\":null,\"tools\":[{\"id\":\"1661\"},{\"id\":\"1662\"},{\"id\":\"1663\"}]},\"id\":\"1664\",\"type\":\"Toolbar\"},{\"attributes\":{\"axis\":{\"id\":\"1681\"},\"dimension\":1,\"ticker\":null},\"id\":\"1684\",\"type\":\"Grid\"},{\"attributes\":{},\"id\":\"1662\",\"type\":\"WheelZoomTool\"},{\"attributes\":{\"fill_color\":{\"value\":\"dodgerblue\"},\"line_color\":{\"value\":\"dodgerblue\"},\"size\":{\"value\":7},\"x\":{\"field\":\"x\"},\"y\":{\"field\":\"y\"}},\"id\":\"1693\",\"type\":\"Circle\"},{\"attributes\":{},\"id\":\"1682\",\"type\":\"BasicTicker\"},{\"attributes\":{},\"id\":\"1661\",\"type\":\"PanTool\"},{\"attributes\":{},\"id\":\"1663\",\"type\":\"ResetTool\"},{\"attributes\":{\"fill_alpha\":{\"value\":0.1},\"fill_color\":{\"value\":\"dodgerblue\"},\"line_alpha\":{\"value\":0.1},\"line_color\":{\"value\":\"dodgerblue\"},\"size\":{\"value\":7},\"x\":{\"field\":\"x\"},\"y\":{\"field\":\"y\"}},\"id\":\"1694\",\"type\":\"Circle\"},{\"attributes\":{},\"id\":\"1783\",\"type\":\"AllLabels\"},{\"attributes\":{},\"id\":\"1784\",\"type\":\"BasicTickFormatter\"},{\"attributes\":{},\"id\":\"1774\",\"type\":\"AllLabels\"},{\"attributes\":{\"source\":{\"id\":\"1692\"}},\"id\":\"1696\",\"type\":\"CDSView\"},{\"attributes\":{},\"id\":\"1686\",\"type\":\"WheelZoomTool\"},{\"attributes\":{},\"id\":\"1775\",\"type\":\"BasicTickFormatter\"},{\"attributes\":{\"line_alpha\":{\"value\":0.1},\"line_color\":{\"value\":\"dodgerblue\"},\"line_width\":{\"value\":3},\"x0\":{\"field\":\"x0\"},\"x1\":{\"field\":\"x1\"},\"y0\":{\"value\":0},\"y1\":{\"field\":\"y1\"}},\"id\":\"1699\",\"type\":\"Segment\"},{\"attributes\":{},\"id\":\"1685\",\"type\":\"PanTool\"},{\"attributes\":{},\"id\":\"1687\",\"type\":\"ResetTool\"},{\"attributes\":{},\"id\":\"1772\",\"type\":\"Title\"},{\"attributes\":{\"data_source\":{\"id\":\"1697\"},\"glyph\":{\"id\":\"1698\"},\"hover_glyph\":null,\"muted_glyph\":null,\"nonselection_glyph\":{\"id\":\"1699\"},\"view\":{\"id\":\"1701\"}},\"id\":\"1700\",\"type\":\"GlyphRenderer\"},{\"attributes\":{},\"id\":\"1777\",\"type\":\"AllLabels\"},{\"attributes\":{\"data\":{\"x0\":{\"__ndarray__\":\"AAAAAAEAAAACAAAAAwAAAAQAAAAFAAAABgAAAAcAAAAIAAAACQAAAAoAAAALAAAADAAAAA0AAAAOAAAADwAAABAAAAARAAAAEgAAABMAAAAUAAAA\",\"dtype\":\"int32\",\"order\":\"little\",\"shape\":[21]},\"x1\":{\"__ndarray__\":\"AAAAAAEAAAACAAAAAwAAAAQAAAAFAAAABgAAAAcAAAAIAAAACQAAAAoAAAALAAAADAAAAA0AAAAOAAAADwAAABAAAAARAAAAEgAAABMAAAAUAAAA\",\"dtype\":\"int32\",\"order\":\"little\",\"shape\":[21]},\"y1\":{\"__ndarray__\":\"JmBteTYrAz/iSrYfsPI/P5pQcG7LSmk/m1BwbstKiT+54+QYUOqhP7vQnisRHLM/lAZe83HZvz/cWelMoTvFP512p2iZAMc/aGl4eU9yxD+KeI4Y/fy9P0JB+Wu4LLI/S0H5a7gsoj8+PeHEO9ONP7ooltgn4nM/v4D11X81VT8AlkwylawxP5cCR2foLQY/vB4/eAe30z7/Hcn71iKWPjVCkgyhnEc+\",\"dtype\":\"float64\",\"order\":\"little\",\"shape\":[21]}},\"selected\":{\"id\":\"1789\"},\"selection_policy\":{\"id\":\"1788\"}},\"id\":\"1697\",\"type\":\"ColumnDataSource\"},{\"attributes\":{},\"id\":\"1778\",\"type\":\"BasicTickFormatter\"}],\"root_ids\":[\"1707\"]},\"title\":\"Bokeh Application\",\"version\":\"2.3.1\"}};\n",
       "  var render_items = [{\"docid\":\"bc775f05-9593-4729-946c-6f5d798f94d9\",\"root_ids\":[\"1707\"],\"roots\":{\"1707\":\"d3b4b8a2-33fc-4b73-a9cd-10a6d8f99472\"}}];\n",
       "  root.Bokeh.embed.embed_items_notebook(docs_json, render_items);\n",
       "\n",
       "  }\n",
       "  if (root.Bokeh !== undefined) {\n",
       "    embed_document(root);\n",
       "  } else {\n",
       "    var attempts = 0;\n",
       "    var timer = setInterval(function(root) {\n",
       "      if (root.Bokeh !== undefined) {\n",
       "        clearInterval(timer);\n",
       "        embed_document(root);\n",
       "      } else {\n",
       "        attempts++;\n",
       "        if (attempts > 100) {\n",
       "          clearInterval(timer);\n",
       "          console.log(\"Bokeh: ERROR: Unable to run BokehJS code because BokehJS library is missing\");\n",
       "        }\n",
       "      }\n",
       "    }, 10, root)\n",
       "  }\n",
       "})(window);"
      ],
      "application/vnd.bokehjs_exec.v0+json": ""
     },
     "metadata": {
      "application/vnd.bokehjs_exec.v0+json": {
       "id": "1707"
      }
     },
     "output_type": "display_data"
    }
   ],
   "source": [
    "k = np.arange(21)\n",
    "p = plot_dists(k, st.binom, (20, 0.4), ('n', 'p',), 'Binomial')\n",
    "bokeh.io.show(p)"
   ]
  },
  {
   "cell_type": "markdown",
   "metadata": {},
   "source": [
    "### Poisson distribution\n",
    "\n",
    "**Story.**  Rare events occur with a rate $\\lambda$ per unit\n",
    "time.  There is no \"memory\" of previous events; i.e., that rate is\n",
    "independent of time. A process that generates such events is called a *Poisson process*. The occurrence of a rare event in this context is referred to as an *arrival*. The number $k$ of arrivals in unit time is Poisson distributed.\n",
    "\n",
    "**Parameter.** The single parameter is the rate $\\lambda$ of\n",
    "the rare events occurring.\n",
    "\n",
    "**Example.** The number of mutations in a strand of DNA per\n",
    "unit length (since mutations are rare) are Poisson distributed.\n",
    "\n",
    "**Probability mass function.**\n",
    "\\begin{align}\n",
    "P(k;\\lambda) = \\frac{\\lambda^k}{k!}\\,\\mathrm{e}^{-\\lambda}.\n",
    "\\end{align}\n",
    "\n",
    "**Notes.**\n",
    "The Poisson distribution is a limit of the binomial distribution in\n",
    "which the number of trials goes to infinity, but the expected number\n",
    "of successes, $np$, stays fixed.  Thus,\n",
    "\n",
    "\\begin{align}\n",
    "P_\\mathrm{Poisson}(k;\\lambda) \\approx P_\\mathrm{Binomial}(k;n, p),\n",
    "\\end{align}\n",
    "\n",
    "with $\\lambda = np$.  Considering the biological example of mutations,\n",
    "this is binomially distributed: There are $n$ bases, each with a\n",
    "probability $p$ of mutation, so the number of mutations, $k$ is\n",
    "binomially distributed.  Since $p$ is small, it is approximately\n",
    "Poisson distributed."
   ]
  },
  {
   "cell_type": "code",
   "execution_count": 7,
   "metadata": {},
   "outputs": [
    {
     "data": {
      "text/html": [
       "\n",
       "\n",
       "\n",
       "\n",
       "\n",
       "\n",
       "  <div class=\"bk-root\" id=\"39bfb796-edeb-4c95-90fb-50db6a65a10b\" data-root-id=\"1962\"></div>\n"
      ]
     },
     "metadata": {},
     "output_type": "display_data"
    },
    {
     "data": {
      "application/javascript": [
       "(function(root) {\n",
       "  function embed_document(root) {\n",
       "    \n",
       "  var docs_json = {\"3c968afd-f8a8-439e-98b8-5be2d9c150c0\":{\"defs\":[],\"roots\":{\"references\":[{\"attributes\":{\"children\":[{\"id\":\"1897\"},{\"id\":\"1923\"}]},\"id\":\"1962\",\"type\":\"Row\"},{\"attributes\":{\"axis\":{\"id\":\"1908\"},\"ticker\":null},\"id\":\"1911\",\"type\":\"Grid\"},{\"attributes\":{\"axis_label\":\"F(k; \\u03bb)\",\"formatter\":{\"id\":\"2057\"},\"major_label_policy\":{\"id\":\"2056\"},\"ticker\":{\"id\":\"1937\"}},\"id\":\"1936\",\"type\":\"LinearAxis\"},{\"attributes\":{},\"id\":\"1930\",\"type\":\"LinearScale\"},{\"attributes\":{\"active_multi\":null,\"tools\":[{\"id\":\"1940\"},{\"id\":\"1941\"},{\"id\":\"1942\"}]},\"id\":\"1943\",\"type\":\"Toolbar\"},{\"attributes\":{},\"id\":\"2059\",\"type\":\"AllLabels\"},{\"attributes\":{\"axis_label\":\"k\",\"formatter\":{\"id\":\"2060\"},\"major_label_policy\":{\"id\":\"2059\"},\"ticker\":{\"id\":\"1933\"}},\"id\":\"1932\",\"type\":\"LinearAxis\"},{\"attributes\":{\"axis\":{\"id\":\"1912\"},\"dimension\":1,\"ticker\":null},\"id\":\"1915\",\"type\":\"Grid\"},{\"attributes\":{\"line_color\":{\"value\":\"dodgerblue\"},\"line_width\":{\"value\":3},\"x0\":{\"field\":\"x0\"},\"x1\":{\"field\":\"x1\"},\"y0\":{\"value\":0},\"y1\":{\"field\":\"y1\"}},\"id\":\"1953\",\"type\":\"Segment\"},{\"attributes\":{},\"id\":\"2050\",\"type\":\"AllLabels\"},{\"attributes\":{},\"id\":\"1924\",\"type\":\"DataRange1d\"},{\"attributes\":{},\"id\":\"2060\",\"type\":\"BasicTickFormatter\"},{\"attributes\":{\"axis\":{\"id\":\"1932\"},\"ticker\":null},\"id\":\"1935\",\"type\":\"Grid\"},{\"attributes\":{},\"id\":\"2051\",\"type\":\"BasicTickFormatter\"},{\"attributes\":{},\"id\":\"1913\",\"type\":\"BasicTicker\"},{\"attributes\":{},\"id\":\"1933\",\"type\":\"BasicTicker\"},{\"attributes\":{},\"id\":\"1917\",\"type\":\"WheelZoomTool\"},{\"attributes\":{},\"id\":\"1916\",\"type\":\"PanTool\"},{\"attributes\":{\"source\":{\"id\":\"1957\"}},\"id\":\"1961\",\"type\":\"CDSView\"},{\"attributes\":{\"axis\":{\"id\":\"1936\"},\"dimension\":1,\"ticker\":null},\"id\":\"1939\",\"type\":\"Grid\"},{\"attributes\":{},\"id\":\"1918\",\"type\":\"ResetTool\"},{\"attributes\":{\"data\":{\"x0\":{\"__ndarray__\":\"AAAAAAEAAAACAAAAAwAAAAQAAAAFAAAABgAAAAcAAAAIAAAACQAAAAoAAAA=\",\"dtype\":\"int32\",\"order\":\"little\",\"shape\":[11]},\"x1\":{\"__ndarray__\":\"AAAAAAEAAAACAAAAAwAAAAQAAAAFAAAABgAAAAcAAAAIAAAACQAAAAoAAAA=\",\"dtype\":\"int32\",\"order\":\"little\",\"shape\":[11]},\"y1\":{\"__ndarray__\":\"OO8sNlaL1z847yw2VovXPzfvLDZWi8c/S5Tm8nJkrz9NlObycmSPPz0QUsIoHWk/fLU2LBu+QD/WqocyaCITP9WqhzJoIuM+ikIjuyMCsT4VBNKRnzZ7Pg==\",\"dtype\":\"float64\",\"order\":\"little\",\"shape\":[11]}},\"selected\":{\"id\":\"2065\"},\"selection_policy\":{\"id\":\"2064\"}},\"id\":\"1952\",\"type\":\"ColumnDataSource\"},{\"attributes\":{},\"id\":\"2053\",\"type\":\"AllLabels\"},{\"attributes\":{\"line_alpha\":{\"value\":0.1},\"line_color\":{\"value\":\"dodgerblue\"},\"line_width\":{\"value\":3},\"x0\":{\"field\":\"x0\"},\"x1\":{\"field\":\"x1\"},\"y0\":{\"value\":0},\"y1\":{\"field\":\"y1\"}},\"id\":\"1954\",\"type\":\"Segment\"},{\"attributes\":{},\"id\":\"2054\",\"type\":\"BasicTickFormatter\"},{\"attributes\":{},\"id\":\"1937\",\"type\":\"BasicTicker\"},{\"attributes\":{},\"id\":\"2062\",\"type\":\"UnionRenderers\"},{\"attributes\":{},\"id\":\"2063\",\"type\":\"Selection\"},{\"attributes\":{},\"id\":\"1941\",\"type\":\"WheelZoomTool\"},{\"attributes\":{\"source\":{\"id\":\"1952\"}},\"id\":\"1956\",\"type\":\"CDSView\"},{\"attributes\":{},\"id\":\"1940\",\"type\":\"PanTool\"},{\"attributes\":{\"fill_alpha\":{\"value\":0.1},\"fill_color\":{\"value\":\"dodgerblue\"},\"line_alpha\":{\"value\":0.1},\"line_color\":{\"value\":\"dodgerblue\"},\"size\":{\"value\":7},\"x\":{\"field\":\"x\"},\"y\":{\"field\":\"y\"}},\"id\":\"1959\",\"type\":\"Circle\"},{\"attributes\":{},\"id\":\"2056\",\"type\":\"AllLabels\"},{\"attributes\":{\"text\":\"Poisson, \\u03bb = 1\"},\"id\":\"1898\",\"type\":\"Title\"},{\"attributes\":{},\"id\":\"1942\",\"type\":\"ResetTool\"},{\"attributes\":{\"fill_color\":{\"value\":\"dodgerblue\"},\"line_color\":{\"value\":\"dodgerblue\"},\"size\":{\"value\":7},\"x\":{\"field\":\"x\"},\"y\":{\"field\":\"y\"}},\"id\":\"1958\",\"type\":\"Circle\"},{\"attributes\":{\"data_source\":{\"id\":\"1952\"},\"glyph\":{\"id\":\"1953\"},\"hover_glyph\":null,\"muted_glyph\":null,\"nonselection_glyph\":{\"id\":\"1954\"},\"view\":{\"id\":\"1956\"}},\"id\":\"1955\",\"type\":\"GlyphRenderer\"},{\"attributes\":{\"data\":{\"x\":{\"__ndarray__\":\"AAAAAAEAAAACAAAAAwAAAAQAAAAFAAAABgAAAAcAAAAIAAAACQAAAAoAAAA=\",\"dtype\":\"int32\",\"order\":\"little\",\"shape\":[11]},\"y\":{\"__ndarray__\":\"Ou8sNlaL1z847yw2VovnPwYruMMrbu0/SpTm8nJk7z+cLrK+BOLvP6yAdOch++8/WY4/blH/7z+WIoGB6v/vPx5V6aP9/+8/g8wtxP//7z+mC5v6///vPw==\",\"dtype\":\"float64\",\"order\":\"little\",\"shape\":[11]}},\"selected\":{\"id\":\"2067\"},\"selection_policy\":{\"id\":\"2066\"}},\"id\":\"1957\",\"type\":\"ColumnDataSource\"},{\"attributes\":{},\"id\":\"2067\",\"type\":\"Selection\"},{\"attributes\":{},\"id\":\"2057\",\"type\":\"BasicTickFormatter\"},{\"attributes\":{},\"id\":\"2066\",\"type\":\"UnionRenderers\"},{\"attributes\":{\"end\":1.05,\"start\":-0.05},\"id\":\"1926\",\"type\":\"Range1d\"},{\"attributes\":{\"data_source\":{\"id\":\"1957\"},\"glyph\":{\"id\":\"1958\"},\"hover_glyph\":null,\"muted_glyph\":null,\"nonselection_glyph\":{\"id\":\"1959\"},\"view\":{\"id\":\"1961\"}},\"id\":\"1960\",\"type\":\"GlyphRenderer\"},{\"attributes\":{\"active_multi\":null,\"tools\":[{\"id\":\"1916\"},{\"id\":\"1917\"},{\"id\":\"1918\"}]},\"id\":\"1919\",\"type\":\"Toolbar\"},{\"attributes\":{\"data\":{\"x\":{\"__ndarray__\":\"AAAAAAEAAAACAAAAAwAAAAQAAAAFAAAABgAAAAcAAAAIAAAACQAAAAoAAAA=\",\"dtype\":\"int32\",\"order\":\"little\",\"shape\":[11]},\"y\":{\"__ndarray__\":\"OO8sNlaL1z847yw2VovXPzfvLDZWi8c/S5Tm8nJkrz9NlObycmSPPz0QUsIoHWk/fLU2LBu+QD/WqocyaCITP9WqhzJoIuM+ikIjuyMCsT4VBNKRnzZ7Pg==\",\"dtype\":\"float64\",\"order\":\"little\",\"shape\":[11]}},\"selected\":{\"id\":\"2063\"},\"selection_policy\":{\"id\":\"2062\"}},\"id\":\"1947\",\"type\":\"ColumnDataSource\"},{\"attributes\":{\"axis_label\":\"k\",\"formatter\":{\"id\":\"2054\"},\"major_label_policy\":{\"id\":\"2053\"},\"ticker\":{\"id\":\"1909\"}},\"id\":\"1908\",\"type\":\"LinearAxis\"},{\"attributes\":{\"fill_alpha\":{\"value\":0.1},\"fill_color\":{\"value\":\"dodgerblue\"},\"line_alpha\":{\"value\":0.1},\"line_color\":{\"value\":\"dodgerblue\"},\"size\":{\"value\":7},\"x\":{\"field\":\"x\"},\"y\":{\"field\":\"y\"}},\"id\":\"1949\",\"type\":\"Circle\"},{\"attributes\":{},\"id\":\"2064\",\"type\":\"UnionRenderers\"},{\"attributes\":{\"data_source\":{\"id\":\"1947\"},\"glyph\":{\"id\":\"1948\"},\"hover_glyph\":null,\"muted_glyph\":null,\"nonselection_glyph\":{\"id\":\"1949\"},\"view\":{\"id\":\"1951\"}},\"id\":\"1950\",\"type\":\"GlyphRenderer\"},{\"attributes\":{},\"id\":\"2065\",\"type\":\"Selection\"},{\"attributes\":{\"below\":[{\"id\":\"1908\"}],\"center\":[{\"id\":\"1911\"},{\"id\":\"1915\"}],\"height\":250,\"left\":[{\"id\":\"1912\"}],\"renderers\":[{\"id\":\"1950\"},{\"id\":\"1955\"}],\"title\":{\"id\":\"1898\"},\"toolbar\":{\"id\":\"1919\"},\"width\":325,\"x_range\":{\"id\":\"1924\"},\"x_scale\":{\"id\":\"1904\"},\"y_range\":{\"id\":\"1902\"},\"y_scale\":{\"id\":\"1906\"}},\"id\":\"1897\",\"subtype\":\"Figure\",\"type\":\"Plot\"},{\"attributes\":{},\"id\":\"1928\",\"type\":\"LinearScale\"},{\"attributes\":{\"fill_color\":{\"value\":\"dodgerblue\"},\"line_color\":{\"value\":\"dodgerblue\"},\"size\":{\"value\":7},\"x\":{\"field\":\"x\"},\"y\":{\"field\":\"y\"}},\"id\":\"1948\",\"type\":\"Circle\"},{\"attributes\":{},\"id\":\"2048\",\"type\":\"Title\"},{\"attributes\":{\"below\":[{\"id\":\"1932\"}],\"center\":[{\"id\":\"1935\"},{\"id\":\"1939\"}],\"height\":250,\"left\":[{\"id\":\"1936\"}],\"renderers\":[{\"id\":\"1960\"}],\"title\":{\"id\":\"2048\"},\"toolbar\":{\"id\":\"1943\"},\"width\":325,\"x_range\":{\"id\":\"1924\"},\"x_scale\":{\"id\":\"1928\"},\"y_range\":{\"id\":\"1926\"},\"y_scale\":{\"id\":\"1930\"}},\"id\":\"1923\",\"subtype\":\"Figure\",\"type\":\"Plot\"},{\"attributes\":{\"source\":{\"id\":\"1947\"}},\"id\":\"1951\",\"type\":\"CDSView\"},{\"attributes\":{},\"id\":\"1902\",\"type\":\"DataRange1d\"},{\"attributes\":{\"axis_label\":\"P(k; \\u03bb)\",\"formatter\":{\"id\":\"2051\"},\"major_label_policy\":{\"id\":\"2050\"},\"ticker\":{\"id\":\"1913\"}},\"id\":\"1912\",\"type\":\"LinearAxis\"},{\"attributes\":{},\"id\":\"1904\",\"type\":\"LinearScale\"},{\"attributes\":{},\"id\":\"1906\",\"type\":\"LinearScale\"},{\"attributes\":{},\"id\":\"1909\",\"type\":\"BasicTicker\"}],\"root_ids\":[\"1962\"]},\"title\":\"Bokeh Application\",\"version\":\"2.3.1\"}};\n",
       "  var render_items = [{\"docid\":\"3c968afd-f8a8-439e-98b8-5be2d9c150c0\",\"root_ids\":[\"1962\"],\"roots\":{\"1962\":\"39bfb796-edeb-4c95-90fb-50db6a65a10b\"}}];\n",
       "  root.Bokeh.embed.embed_items_notebook(docs_json, render_items);\n",
       "\n",
       "  }\n",
       "  if (root.Bokeh !== undefined) {\n",
       "    embed_document(root);\n",
       "  } else {\n",
       "    var attempts = 0;\n",
       "    var timer = setInterval(function(root) {\n",
       "      if (root.Bokeh !== undefined) {\n",
       "        clearInterval(timer);\n",
       "        embed_document(root);\n",
       "      } else {\n",
       "        attempts++;\n",
       "        if (attempts > 100) {\n",
       "          clearInterval(timer);\n",
       "          console.log(\"Bokeh: ERROR: Unable to run BokehJS code because BokehJS library is missing\");\n",
       "        }\n",
       "      }\n",
       "    }, 10, root)\n",
       "  }\n",
       "})(window);"
      ],
      "application/vnd.bokehjs_exec.v0+json": ""
     },
     "metadata": {
      "application/vnd.bokehjs_exec.v0+json": {
       "id": "1962"
      }
     },
     "output_type": "display_data"
    }
   ],
   "source": [
    "k = np.arange(11)\n",
    "p = plot_dists(k, st.poisson, (1,), ('λ',), 'Poisson')\n",
    "bokeh.io.show(p)"
   ]
  },
  {
   "cell_type": "markdown",
   "metadata": {},
   "source": [
    "### Hypergeometric distribution\n",
    "\n",
    "**Story.** Consider an urn with $w$ white balls and $b$ black\n",
    "balls.  Draw $n$ balls from this urn without replacement.  The number\n",
    "white balls drawn, $k$, is Hypergeometrically distributed.\n",
    "\n",
    "**Parameters.** There are three parameters: the number of\n",
    "draws $n$, the number of white balls $w$, and the number of black\n",
    "balls $b$.\n",
    "\n",
    "**Example.** There are $N$ finches on an island, and $n_t$ of\n",
    "them are tagged.  You capture $n$ finches.  The number of tagged\n",
    "finches $k$ is Hypergeometrically distributed, $P(k;n_t, N-n_t, n)$,\n",
    "as defined below.\n",
    "\n",
    "**Probability mass function.**\n",
    "\n",
    "\\begin{align}\n",
    "P(k;w, b, n) = \\frac{\\begin{pmatrix}w\\\\k\\end{pmatrix}\\begin{pmatrix}b\\\\n-k\\end{pmatrix}}\n",
    "{\\begin{pmatrix}w+b\\\\n\\end{pmatrix}}.\n",
    "\\end{align}\n",
    "\n",
    "Alternatively, if we define $N = w + b$, we could write\n",
    "\n",
    "\\begin{align}\n",
    "P(k;N, w, n) = \\frac{\\begin{pmatrix}w\\\\k\\end{pmatrix}\\begin{pmatrix}N-w\\\\n-k\\end{pmatrix}}\n",
    "{\\begin{pmatrix}N\\\\n\\end{pmatrix}}.\n",
    "\\end{align}\n",
    "\n",
    "\n",
    "**Notes.** This distribution is analogous to the Binomial\n",
    "distribution, except that the Binomial distribution describes draws\n",
    "from an urn *with* replacement.  In the analogy, $p = w/(w+b)$."
   ]
  },
  {
   "cell_type": "code",
   "execution_count": 8,
   "metadata": {},
   "outputs": [
    {
     "data": {
      "text/html": [
       "\n",
       "\n",
       "\n",
       "\n",
       "\n",
       "\n",
       "  <div class=\"bk-root\" id=\"20817193-1eba-4ecf-b06b-e2f31d34dfd6\" data-root-id=\"2238\"></div>\n"
      ]
     },
     "metadata": {},
     "output_type": "display_data"
    },
    {
     "data": {
      "application/javascript": [
       "(function(root) {\n",
       "  function embed_document(root) {\n",
       "    \n",
       "  var docs_json = {\"740c936e-02b8-4335-ab76-ce9d462a5f8c\":{\"defs\":[],\"roots\":{\"references\":[{\"attributes\":{\"children\":[{\"id\":\"2173\"},{\"id\":\"2199\"}]},\"id\":\"2238\",\"type\":\"Row\"},{\"attributes\":{\"below\":[{\"id\":\"2184\"}],\"center\":[{\"id\":\"2187\"},{\"id\":\"2191\"}],\"height\":250,\"left\":[{\"id\":\"2188\"}],\"renderers\":[{\"id\":\"2226\"},{\"id\":\"2231\"}],\"title\":{\"id\":\"2174\"},\"toolbar\":{\"id\":\"2195\"},\"width\":325,\"x_range\":{\"id\":\"2200\"},\"x_scale\":{\"id\":\"2180\"},\"y_range\":{\"id\":\"2178\"},\"y_scale\":{\"id\":\"2182\"}},\"id\":\"2173\",\"subtype\":\"Figure\",\"type\":\"Plot\"},{\"attributes\":{},\"id\":\"2194\",\"type\":\"ResetTool\"},{\"attributes\":{\"data\":{\"x\":{\"__ndarray__\":\"AAAAAAEAAAACAAAAAwAAAAQAAAAFAAAABgAAAAcAAAAIAAAACQAAAAoAAAA=\",\"dtype\":\"int32\",\"order\":\"little\",\"shape\":[11]},\"y\":{\"__ndarray__\":\"xhEo2mrwrD+G2/P7U3HQP17J7fn9qdg/atCaMxFbzj9a0JozEVuuPxekJaZ7bXM/AAAAAAAAAAAAAAAAAAAAAAAAAAAAAAAAAAAAAAAAAAAAAAAAAAAAAA==\",\"dtype\":\"float64\",\"order\":\"little\",\"shape\":[11]}},\"selected\":{\"id\":\"2360\"},\"selection_policy\":{\"id\":\"2359\"}},\"id\":\"2223\",\"type\":\"ColumnDataSource\"},{\"attributes\":{\"fill_alpha\":{\"value\":0.1},\"fill_color\":{\"value\":\"dodgerblue\"},\"line_alpha\":{\"value\":0.1},\"line_color\":{\"value\":\"dodgerblue\"},\"size\":{\"value\":7},\"x\":{\"field\":\"x\"},\"y\":{\"field\":\"y\"}},\"id\":\"2225\",\"type\":\"Circle\"},{\"attributes\":{},\"id\":\"2360\",\"type\":\"Selection\"},{\"attributes\":{\"fill_color\":{\"value\":\"dodgerblue\"},\"line_color\":{\"value\":\"dodgerblue\"},\"size\":{\"value\":7},\"x\":{\"field\":\"x\"},\"y\":{\"field\":\"y\"}},\"id\":\"2234\",\"type\":\"Circle\"},{\"attributes\":{\"axis_label\":\"k\",\"formatter\":{\"id\":\"2351\"},\"major_label_policy\":{\"id\":\"2350\"},\"ticker\":{\"id\":\"2185\"}},\"id\":\"2184\",\"type\":\"LinearAxis\"},{\"attributes\":{},\"id\":\"2213\",\"type\":\"BasicTicker\"},{\"attributes\":{\"fill_alpha\":{\"value\":0.1},\"fill_color\":{\"value\":\"dodgerblue\"},\"line_alpha\":{\"value\":0.1},\"line_color\":{\"value\":\"dodgerblue\"},\"size\":{\"value\":7},\"x\":{\"field\":\"x\"},\"y\":{\"field\":\"y\"}},\"id\":\"2235\",\"type\":\"Circle\"},{\"attributes\":{},\"id\":\"2359\",\"type\":\"UnionRenderers\"},{\"attributes\":{\"source\":{\"id\":\"2233\"}},\"id\":\"2237\",\"type\":\"CDSView\"},{\"attributes\":{},\"id\":\"2217\",\"type\":\"WheelZoomTool\"},{\"attributes\":{\"data\":{\"x\":{\"__ndarray__\":\"AAAAAAEAAAACAAAAAwAAAAQAAAAFAAAABgAAAAcAAAAIAAAACQAAAAoAAAA=\",\"dtype\":\"int32\",\"order\":\"little\",\"shape\":[11]},\"y\":{\"__ndarray__\":\"xhEo2mrwrD+/3ThXYQ/UP45Tk6ivXOY/qAd69XPz7T+utLMIJdnvPwAAAAAAAPA/AAAAAAAA8D8AAAAAAADwPwAAAAAAAPA/AAAAAAAA8D8AAAAAAADwPw==\",\"dtype\":\"float64\",\"order\":\"little\",\"shape\":[11]}},\"selected\":{\"id\":\"2364\"},\"selection_policy\":{\"id\":\"2363\"}},\"id\":\"2233\",\"type\":\"ColumnDataSource\"},{\"attributes\":{},\"id\":\"2216\",\"type\":\"PanTool\"},{\"attributes\":{},\"id\":\"2218\",\"type\":\"ResetTool\"},{\"attributes\":{\"data_source\":{\"id\":\"2233\"},\"glyph\":{\"id\":\"2234\"},\"hover_glyph\":null,\"muted_glyph\":null,\"nonselection_glyph\":{\"id\":\"2235\"},\"view\":{\"id\":\"2237\"}},\"id\":\"2236\",\"type\":\"GlyphRenderer\"},{\"attributes\":{},\"id\":\"2364\",\"type\":\"Selection\"},{\"attributes\":{},\"id\":\"2363\",\"type\":\"UnionRenderers\"},{\"attributes\":{},\"id\":\"2178\",\"type\":\"DataRange1d\"},{\"attributes\":{},\"id\":\"2182\",\"type\":\"LinearScale\"},{\"attributes\":{\"axis\":{\"id\":\"2184\"},\"ticker\":null},\"id\":\"2187\",\"type\":\"Grid\"},{\"attributes\":{},\"id\":\"2361\",\"type\":\"UnionRenderers\"},{\"attributes\":{\"line_color\":{\"value\":\"dodgerblue\"},\"line_width\":{\"value\":3},\"x0\":{\"field\":\"x0\"},\"x1\":{\"field\":\"x1\"},\"y0\":{\"value\":0},\"y1\":{\"field\":\"y1\"}},\"id\":\"2229\",\"type\":\"Segment\"},{\"attributes\":{\"axis\":{\"id\":\"2188\"},\"dimension\":1,\"ticker\":null},\"id\":\"2191\",\"type\":\"Grid\"},{\"attributes\":{\"axis\":{\"id\":\"2212\"},\"dimension\":1,\"ticker\":null},\"id\":\"2215\",\"type\":\"Grid\"},{\"attributes\":{},\"id\":\"2362\",\"type\":\"Selection\"},{\"attributes\":{},\"id\":\"2345\",\"type\":\"Title\"},{\"attributes\":{},\"id\":\"2193\",\"type\":\"WheelZoomTool\"},{\"attributes\":{\"fill_color\":{\"value\":\"dodgerblue\"},\"line_color\":{\"value\":\"dodgerblue\"},\"size\":{\"value\":7},\"x\":{\"field\":\"x\"},\"y\":{\"field\":\"y\"}},\"id\":\"2224\",\"type\":\"Circle\"},{\"attributes\":{},\"id\":\"2200\",\"type\":\"DataRange1d\"},{\"attributes\":{\"source\":{\"id\":\"2228\"}},\"id\":\"2232\",\"type\":\"CDSView\"},{\"attributes\":{\"axis_label\":\"P(k; N, w, n)\",\"formatter\":{\"id\":\"2348\"},\"major_label_policy\":{\"id\":\"2347\"},\"ticker\":{\"id\":\"2189\"}},\"id\":\"2188\",\"type\":\"LinearAxis\"},{\"attributes\":{},\"id\":\"2192\",\"type\":\"PanTool\"},{\"attributes\":{\"below\":[{\"id\":\"2208\"}],\"center\":[{\"id\":\"2211\"},{\"id\":\"2215\"}],\"height\":250,\"left\":[{\"id\":\"2212\"}],\"renderers\":[{\"id\":\"2236\"}],\"title\":{\"id\":\"2345\"},\"toolbar\":{\"id\":\"2219\"},\"width\":325,\"x_range\":{\"id\":\"2200\"},\"x_scale\":{\"id\":\"2204\"},\"y_range\":{\"id\":\"2202\"},\"y_scale\":{\"id\":\"2206\"}},\"id\":\"2199\",\"subtype\":\"Figure\",\"type\":\"Plot\"},{\"attributes\":{},\"id\":\"2180\",\"type\":\"LinearScale\"},{\"attributes\":{},\"id\":\"2353\",\"type\":\"AllLabels\"},{\"attributes\":{},\"id\":\"2189\",\"type\":\"BasicTicker\"},{\"attributes\":{},\"id\":\"2354\",\"type\":\"BasicTickFormatter\"},{\"attributes\":{\"end\":1.05,\"start\":-0.05},\"id\":\"2202\",\"type\":\"Range1d\"},{\"attributes\":{\"active_multi\":null,\"tools\":[{\"id\":\"2216\"},{\"id\":\"2217\"},{\"id\":\"2218\"}]},\"id\":\"2219\",\"type\":\"Toolbar\"},{\"attributes\":{},\"id\":\"2351\",\"type\":\"BasicTickFormatter\"},{\"attributes\":{\"active_multi\":null,\"tools\":[{\"id\":\"2192\"},{\"id\":\"2193\"},{\"id\":\"2194\"}]},\"id\":\"2195\",\"type\":\"Toolbar\"},{\"attributes\":{},\"id\":\"2204\",\"type\":\"LinearScale\"},{\"attributes\":{\"axis_label\":\"F(k; N, w, n)\",\"formatter\":{\"id\":\"2354\"},\"major_label_policy\":{\"id\":\"2353\"},\"ticker\":{\"id\":\"2213\"}},\"id\":\"2212\",\"type\":\"LinearAxis\"},{\"attributes\":{},\"id\":\"2206\",\"type\":\"LinearScale\"},{\"attributes\":{},\"id\":\"2356\",\"type\":\"AllLabels\"},{\"attributes\":{\"data_source\":{\"id\":\"2223\"},\"glyph\":{\"id\":\"2224\"},\"hover_glyph\":null,\"muted_glyph\":null,\"nonselection_glyph\":{\"id\":\"2225\"},\"view\":{\"id\":\"2227\"}},\"id\":\"2226\",\"type\":\"GlyphRenderer\"},{\"attributes\":{},\"id\":\"2357\",\"type\":\"BasicTickFormatter\"},{\"attributes\":{\"axis_label\":\"k\",\"formatter\":{\"id\":\"2357\"},\"major_label_policy\":{\"id\":\"2356\"},\"ticker\":{\"id\":\"2209\"}},\"id\":\"2208\",\"type\":\"LinearAxis\"},{\"attributes\":{\"data_source\":{\"id\":\"2228\"},\"glyph\":{\"id\":\"2229\"},\"hover_glyph\":null,\"muted_glyph\":null,\"nonselection_glyph\":{\"id\":\"2230\"},\"view\":{\"id\":\"2232\"}},\"id\":\"2231\",\"type\":\"GlyphRenderer\"},{\"attributes\":{},\"id\":\"2347\",\"type\":\"AllLabels\"},{\"attributes\":{},\"id\":\"2348\",\"type\":\"BasicTickFormatter\"},{\"attributes\":{\"text\":\"Hypergeometric, N = 25, w = 5, n = 10\"},\"id\":\"2174\",\"type\":\"Title\"},{\"attributes\":{\"source\":{\"id\":\"2223\"}},\"id\":\"2227\",\"type\":\"CDSView\"},{\"attributes\":{},\"id\":\"2209\",\"type\":\"BasicTicker\"},{\"attributes\":{\"axis\":{\"id\":\"2208\"},\"ticker\":null},\"id\":\"2211\",\"type\":\"Grid\"},{\"attributes\":{\"line_alpha\":{\"value\":0.1},\"line_color\":{\"value\":\"dodgerblue\"},\"line_width\":{\"value\":3},\"x0\":{\"field\":\"x0\"},\"x1\":{\"field\":\"x1\"},\"y0\":{\"value\":0},\"y1\":{\"field\":\"y1\"}},\"id\":\"2230\",\"type\":\"Segment\"},{\"attributes\":{},\"id\":\"2185\",\"type\":\"BasicTicker\"},{\"attributes\":{\"data\":{\"x0\":{\"__ndarray__\":\"AAAAAAEAAAACAAAAAwAAAAQAAAAFAAAABgAAAAcAAAAIAAAACQAAAAoAAAA=\",\"dtype\":\"int32\",\"order\":\"little\",\"shape\":[11]},\"x1\":{\"__ndarray__\":\"AAAAAAEAAAACAAAAAwAAAAQAAAAFAAAABgAAAAcAAAAIAAAACQAAAAoAAAA=\",\"dtype\":\"int32\",\"order\":\"little\",\"shape\":[11]},\"y1\":{\"__ndarray__\":\"xhEo2mrwrD+G2/P7U3HQP17J7fn9qdg/atCaMxFbzj9a0JozEVuuPxekJaZ7bXM/AAAAAAAAAAAAAAAAAAAAAAAAAAAAAAAAAAAAAAAAAAAAAAAAAAAAAA==\",\"dtype\":\"float64\",\"order\":\"little\",\"shape\":[11]}},\"selected\":{\"id\":\"2362\"},\"selection_policy\":{\"id\":\"2361\"}},\"id\":\"2228\",\"type\":\"ColumnDataSource\"},{\"attributes\":{},\"id\":\"2350\",\"type\":\"AllLabels\"}],\"root_ids\":[\"2238\"]},\"title\":\"Bokeh Application\",\"version\":\"2.3.1\"}};\n",
       "  var render_items = [{\"docid\":\"740c936e-02b8-4335-ab76-ce9d462a5f8c\",\"root_ids\":[\"2238\"],\"roots\":{\"2238\":\"20817193-1eba-4ecf-b06b-e2f31d34dfd6\"}}];\n",
       "  root.Bokeh.embed.embed_items_notebook(docs_json, render_items);\n",
       "\n",
       "  }\n",
       "  if (root.Bokeh !== undefined) {\n",
       "    embed_document(root);\n",
       "  } else {\n",
       "    var attempts = 0;\n",
       "    var timer = setInterval(function(root) {\n",
       "      if (root.Bokeh !== undefined) {\n",
       "        clearInterval(timer);\n",
       "        embed_document(root);\n",
       "      } else {\n",
       "        attempts++;\n",
       "        if (attempts > 100) {\n",
       "          clearInterval(timer);\n",
       "          console.log(\"Bokeh: ERROR: Unable to run BokehJS code because BokehJS library is missing\");\n",
       "        }\n",
       "      }\n",
       "    }, 10, root)\n",
       "  }\n",
       "})(window);"
      ],
      "application/vnd.bokehjs_exec.v0+json": ""
     },
     "metadata": {
      "application/vnd.bokehjs_exec.v0+json": {
       "id": "2238"
      }
     },
     "output_type": "display_data"
    }
   ],
   "source": [
    "k = np.arange(11)\n",
    "p = plot_dists(k, st.hypergeom, (25, 5, 10), ('N', 'w', 'n'), 'Hypergeometric')\n",
    "bokeh.io.show(p)"
   ]
  },
  {
   "cell_type": "markdown",
   "metadata": {},
   "source": [
    "## Continuous distributions"
   ]
  },
  {
   "cell_type": "markdown",
   "metadata": {},
   "source": [
    "### Uniform distribution\n",
    "\n",
    "**Story.** Any outcome in a given range has equal probability.\n",
    "\n",
    "**Parameters.** The Uniform distribution is not defined on an\n",
    "infinite or semi-infinite domain, so bounds, $x_\\mathrm{min}$ and\n",
    "$x_\\mathrm{max}$ are necessary parameters.\n",
    "\n",
    "**Example.** Anything in which all possibilities are equally\n",
    "likely.\n",
    "\n",
    "**Probability density function.**\n",
    "\n",
    "\\begin{align}\n",
    "P(x;x_\\mathrm{min}, x_\\mathrm{max}) = \\left\\{ \\begin{array}{ccc}\n",
    "\\frac{1}{x_\\mathrm{max} - x_\\mathrm{min}} & & x_\\mathrm{min} \\le x \\le x_\\mathrm{max} \\\\[0.5em]\n",
    "0 & & \\text{otherwise.}\n",
    "\\end{array}\n",
    "\\right.\n",
    "\\end{align}"
   ]
  },
  {
   "cell_type": "code",
   "execution_count": 9,
   "metadata": {},
   "outputs": [
    {
     "data": {
      "text/html": [
       "\n",
       "\n",
       "\n",
       "\n",
       "\n",
       "\n",
       "  <div class=\"bk-root\" id=\"f9ffa620-7f1f-45da-a738-4cb89c80ff57\" data-root-id=\"2530\"></div>\n"
      ]
     },
     "metadata": {},
     "output_type": "display_data"
    },
    {
     "data": {
      "application/javascript": [
       "(function(root) {\n",
       "  function embed_document(root) {\n",
       "    \n",
       "  var docs_json = {\"eec76a93-6750-4c86-841b-126fda7c3413\":{\"defs\":[],\"roots\":{\"references\":[{\"attributes\":{\"children\":[{\"id\":\"2470\"},{\"id\":\"2496\"}]},\"id\":\"2530\",\"type\":\"Row\"},{\"attributes\":{},\"id\":\"2672\",\"type\":\"UnionRenderers\"},{\"attributes\":{},\"id\":\"2673\",\"type\":\"Selection\"},{\"attributes\":{},\"id\":\"2660\",\"type\":\"AllLabels\"},{\"attributes\":{\"line_alpha\":0.1,\"line_color\":\"dodgerblue\",\"line_width\":3,\"x\":{\"field\":\"x\"},\"y\":{\"field\":\"y\"}},\"id\":\"2522\",\"type\":\"Line\"},{\"attributes\":{},\"id\":\"2514\",\"type\":\"WheelZoomTool\"},{\"attributes\":{\"data\":{\"x\":{\"__ndarray__\":\"AAAAAAEAAAA=\",\"dtype\":\"int32\",\"order\":\"little\",\"shape\":[2]},\"y\":{\"__ndarray__\":\"AAAAAAAA8D8AAAAAAADwPw==\",\"dtype\":\"float64\",\"order\":\"little\",\"shape\":[2]}},\"selected\":{\"id\":\"2673\"},\"selection_policy\":{\"id\":\"2672\"}},\"id\":\"2520\",\"type\":\"ColumnDataSource\"},{\"attributes\":{},\"id\":\"2513\",\"type\":\"PanTool\"},{\"attributes\":{},\"id\":\"2501\",\"type\":\"LinearScale\"},{\"attributes\":{},\"id\":\"2664\",\"type\":\"BasicTickFormatter\"},{\"attributes\":{\"source\":{\"id\":\"2525\"}},\"id\":\"2529\",\"type\":\"CDSView\"},{\"attributes\":{\"end\":1.05,\"start\":-0.05},\"id\":\"2499\",\"type\":\"Range1d\"},{\"attributes\":{\"below\":[{\"id\":\"2481\"}],\"center\":[{\"id\":\"2484\"},{\"id\":\"2488\"}],\"height\":250,\"left\":[{\"id\":\"2485\"}],\"renderers\":[{\"id\":\"2523\"}],\"title\":{\"id\":\"2471\"},\"toolbar\":{\"id\":\"2492\"},\"width\":325,\"x_range\":{\"id\":\"2497\"},\"x_scale\":{\"id\":\"2477\"},\"y_range\":{\"id\":\"2475\"},\"y_scale\":{\"id\":\"2479\"}},\"id\":\"2470\",\"subtype\":\"Figure\",\"type\":\"Plot\"},{\"attributes\":{\"axis_label\":\"F(k; xmin, xmax)\",\"formatter\":{\"id\":\"2667\"},\"major_label_policy\":{\"id\":\"2666\"},\"ticker\":{\"id\":\"2510\"}},\"id\":\"2509\",\"type\":\"LinearAxis\"},{\"attributes\":{\"data\":{\"x\":{\"__ndarray__\":\"AAAAAAEAAAA=\",\"dtype\":\"int32\",\"order\":\"little\",\"shape\":[2]},\"y\":{\"__ndarray__\":\"AAAAAAAAAAAAAAAAAADwPw==\",\"dtype\":\"float64\",\"order\":\"little\",\"shape\":[2]}},\"selected\":{\"id\":\"2675\"},\"selection_policy\":{\"id\":\"2674\"}},\"id\":\"2525\",\"type\":\"ColumnDataSource\"},{\"attributes\":{\"data_source\":{\"id\":\"2525\"},\"glyph\":{\"id\":\"2526\"},\"hover_glyph\":null,\"muted_glyph\":null,\"nonselection_glyph\":{\"id\":\"2527\"},\"view\":{\"id\":\"2529\"}},\"id\":\"2528\",\"type\":\"GlyphRenderer\"},{\"attributes\":{\"text\":\"Uniform, xmin = 0, xmax = 1\"},\"id\":\"2471\",\"type\":\"Title\"},{\"attributes\":{\"axis_label\":\"x\",\"formatter\":{\"id\":\"2670\"},\"major_label_policy\":{\"id\":\"2669\"},\"ticker\":{\"id\":\"2506\"}},\"id\":\"2505\",\"type\":\"LinearAxis\"},{\"attributes\":{\"line_color\":\"dodgerblue\",\"line_width\":3,\"x\":{\"field\":\"x\"},\"y\":{\"field\":\"y\"}},\"id\":\"2526\",\"type\":\"Line\"},{\"attributes\":{},\"id\":\"2506\",\"type\":\"BasicTicker\"},{\"attributes\":{},\"id\":\"2490\",\"type\":\"WheelZoomTool\"},{\"attributes\":{\"axis\":{\"id\":\"2505\"},\"ticker\":null},\"id\":\"2508\",\"type\":\"Grid\"},{\"attributes\":{\"line_alpha\":0.1,\"line_color\":\"dodgerblue\",\"line_width\":3,\"x\":{\"field\":\"x\"},\"y\":{\"field\":\"y\"}},\"id\":\"2527\",\"type\":\"Line\"},{\"attributes\":{},\"id\":\"2658\",\"type\":\"Title\"},{\"attributes\":{\"data_source\":{\"id\":\"2520\"},\"glyph\":{\"id\":\"2521\"},\"hover_glyph\":null,\"muted_glyph\":null,\"nonselection_glyph\":{\"id\":\"2522\"},\"view\":{\"id\":\"2524\"}},\"id\":\"2523\",\"type\":\"GlyphRenderer\"},{\"attributes\":{},\"id\":\"2497\",\"type\":\"DataRange1d\"},{\"attributes\":{\"axis\":{\"id\":\"2509\"},\"dimension\":1,\"ticker\":null},\"id\":\"2512\",\"type\":\"Grid\"},{\"attributes\":{},\"id\":\"2475\",\"type\":\"DataRange1d\"},{\"attributes\":{},\"id\":\"2510\",\"type\":\"BasicTicker\"},{\"attributes\":{\"axis_label\":\"P(x; xmin, xmax)\",\"formatter\":{\"id\":\"2661\"},\"major_label_policy\":{\"id\":\"2660\"},\"ticker\":{\"id\":\"2486\"}},\"id\":\"2485\",\"type\":\"LinearAxis\"},{\"attributes\":{\"axis_label\":\"x\",\"formatter\":{\"id\":\"2664\"},\"major_label_policy\":{\"id\":\"2663\"},\"ticker\":{\"id\":\"2482\"}},\"id\":\"2481\",\"type\":\"LinearAxis\"},{\"attributes\":{\"active_multi\":null,\"tools\":[{\"id\":\"2513\"},{\"id\":\"2514\"},{\"id\":\"2515\"}]},\"id\":\"2516\",\"type\":\"Toolbar\"},{\"attributes\":{},\"id\":\"2477\",\"type\":\"LinearScale\"},{\"attributes\":{},\"id\":\"2515\",\"type\":\"ResetTool\"},{\"attributes\":{},\"id\":\"2479\",\"type\":\"LinearScale\"},{\"attributes\":{\"source\":{\"id\":\"2520\"}},\"id\":\"2524\",\"type\":\"CDSView\"},{\"attributes\":{\"line_color\":\"dodgerblue\",\"line_width\":3,\"x\":{\"field\":\"x\"},\"y\":{\"field\":\"y\"}},\"id\":\"2521\",\"type\":\"Line\"},{\"attributes\":{},\"id\":\"2482\",\"type\":\"BasicTicker\"},{\"attributes\":{\"axis\":{\"id\":\"2481\"},\"ticker\":null},\"id\":\"2484\",\"type\":\"Grid\"},{\"attributes\":{},\"id\":\"2666\",\"type\":\"AllLabels\"},{\"attributes\":{},\"id\":\"2667\",\"type\":\"BasicTickFormatter\"},{\"attributes\":{\"axis\":{\"id\":\"2485\"},\"dimension\":1,\"ticker\":null},\"id\":\"2488\",\"type\":\"Grid\"},{\"attributes\":{},\"id\":\"2674\",\"type\":\"UnionRenderers\"},{\"attributes\":{},\"id\":\"2486\",\"type\":\"BasicTicker\"},{\"attributes\":{},\"id\":\"2661\",\"type\":\"BasicTickFormatter\"},{\"attributes\":{},\"id\":\"2669\",\"type\":\"AllLabels\"},{\"attributes\":{},\"id\":\"2675\",\"type\":\"Selection\"},{\"attributes\":{\"active_multi\":null,\"tools\":[{\"id\":\"2489\"},{\"id\":\"2490\"},{\"id\":\"2491\"}]},\"id\":\"2492\",\"type\":\"Toolbar\"},{\"attributes\":{},\"id\":\"2670\",\"type\":\"BasicTickFormatter\"},{\"attributes\":{},\"id\":\"2489\",\"type\":\"PanTool\"},{\"attributes\":{},\"id\":\"2663\",\"type\":\"AllLabels\"},{\"attributes\":{},\"id\":\"2491\",\"type\":\"ResetTool\"},{\"attributes\":{},\"id\":\"2503\",\"type\":\"LinearScale\"},{\"attributes\":{\"below\":[{\"id\":\"2505\"}],\"center\":[{\"id\":\"2508\"},{\"id\":\"2512\"}],\"height\":250,\"left\":[{\"id\":\"2509\"}],\"renderers\":[{\"id\":\"2528\"}],\"title\":{\"id\":\"2658\"},\"toolbar\":{\"id\":\"2516\"},\"width\":325,\"x_range\":{\"id\":\"2497\"},\"x_scale\":{\"id\":\"2501\"},\"y_range\":{\"id\":\"2499\"},\"y_scale\":{\"id\":\"2503\"}},\"id\":\"2496\",\"subtype\":\"Figure\",\"type\":\"Plot\"}],\"root_ids\":[\"2530\"]},\"title\":\"Bokeh Application\",\"version\":\"2.3.1\"}};\n",
       "  var render_items = [{\"docid\":\"eec76a93-6750-4c86-841b-126fda7c3413\",\"root_ids\":[\"2530\"],\"roots\":{\"2530\":\"f9ffa620-7f1f-45da-a738-4cb89c80ff57\"}}];\n",
       "  root.Bokeh.embed.embed_items_notebook(docs_json, render_items);\n",
       "\n",
       "  }\n",
       "  if (root.Bokeh !== undefined) {\n",
       "    embed_document(root);\n",
       "  } else {\n",
       "    var attempts = 0;\n",
       "    var timer = setInterval(function(root) {\n",
       "      if (root.Bokeh !== undefined) {\n",
       "        clearInterval(timer);\n",
       "        embed_document(root);\n",
       "      } else {\n",
       "        attempts++;\n",
       "        if (attempts > 100) {\n",
       "          clearInterval(timer);\n",
       "          console.log(\"Bokeh: ERROR: Unable to run BokehJS code because BokehJS library is missing\");\n",
       "        }\n",
       "      }\n",
       "    }, 10, root)\n",
       "  }\n",
       "})(window);"
      ],
      "application/vnd.bokehjs_exec.v0+json": ""
     },
     "metadata": {
      "application/vnd.bokehjs_exec.v0+json": {
       "id": "2530"
      }
     },
     "output_type": "display_data"
    }
   ],
   "source": [
    "x = np.array([0, 1])\n",
    "p = plot_dists(x, st.uniform, (0, 1), ('xmin', 'xmax'), 'Uniform')\n",
    "bokeh.io.show(p)"
   ]
  },
  {
   "cell_type": "markdown",
   "metadata": {},
   "source": [
    "### Gaussian  (a.k.a. Normal) distribution\n",
    "\n",
    "**Story.** Any quantity that emerges from a large number of\n",
    "subprocesses tends to be Gaussian distributed provided none of the\n",
    "subprocesses is very broadly distributed.\n",
    "\n",
    "**Parameters.** The Gaussian distribution has two parameters,\n",
    "the mean $\\mu$, which determines the location of its peak, and the\n",
    "standard deviation $\\sigma$, which is strictly positive (the\n",
    "$\\sigma\\to 0$ limit defines a Dirac delta function) and determines the\n",
    "width of the peak.\n",
    "\n",
    "**Example.** We measure the length of many *C. elegans*\n",
    "eggs.  The lengths are Gaussian distributed.\n",
    "\n",
    "**Probability density function.**\n",
    "\n",
    "\\begin{align}\n",
    "P(x;\\mu, \\sigma) = \\frac{1}{\\sqrt{2\\pi \\sigma^2}}\\,\\mathrm{e}^{-(x-\\mu)^2/2\\sigma^2}.\n",
    "\\end{align}\n",
    "\n",
    "**Notes.** This is a limiting distribution in the sense of the\n",
    "central limit theorem, but also in that many distributions have a\n",
    "Gaussian distribution as a limit.  This is seen by formally taking\n",
    "limits of, e.g., the Gamma, Student-t, Binomial distributions, which\n",
    "allows direct comparison of parameters."
   ]
  },
  {
   "cell_type": "code",
   "execution_count": 10,
   "metadata": {},
   "outputs": [
    {
     "data": {
      "text/html": [
       "\n",
       "\n",
       "\n",
       "\n",
       "\n",
       "\n",
       "  <div class=\"bk-root\" id=\"6624302e-0c91-4cea-80af-acc235521d02\" data-root-id=\"2831\"></div>\n"
      ]
     },
     "metadata": {},
     "output_type": "display_data"
    },
    {
     "data": {
      "application/javascript": [
       "(function(root) {\n",
       "  function embed_document(root) {\n",
       "    \n",
       "  var docs_json = {\"fa483c9a-b37b-411f-aca7-e8e12f24086a\":{\"defs\":[],\"roots\":{\"references\":[{\"attributes\":{\"children\":[{\"id\":\"2771\"},{\"id\":\"2797\"}]},\"id\":\"2831\",\"type\":\"Row\"},{\"attributes\":{},\"id\":\"2989\",\"type\":\"AllLabels\"},{\"attributes\":{},\"id\":\"2990\",\"type\":\"BasicTickFormatter\"},{\"attributes\":{},\"id\":\"2980\",\"type\":\"AllLabels\"},{\"attributes\":{},\"id\":\"2981\",\"type\":\"BasicTickFormatter\"},{\"attributes\":{\"data\":{\"x\":{\"__ndarray__\":\"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\",\"dtype\":\"float64\",\"order\":\"little\",\"shape\":[200]},\"y\":{\"__ndarray__\":\"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\",\"dtype\":\"float64\",\"order\":\"little\",\"shape\":[200]}},\"selected\":{\"id\":\"2993\"},\"selection_policy\":{\"id\":\"2992\"}},\"id\":\"2821\",\"type\":\"ColumnDataSource\"},{\"attributes\":{\"below\":[{\"id\":\"2782\"}],\"center\":[{\"id\":\"2785\"},{\"id\":\"2789\"}],\"height\":250,\"left\":[{\"id\":\"2786\"}],\"renderers\":[{\"id\":\"2824\"}],\"title\":{\"id\":\"2772\"},\"toolbar\":{\"id\":\"2793\"},\"width\":325,\"x_range\":{\"id\":\"2798\"},\"x_scale\":{\"id\":\"2778\"},\"y_range\":{\"id\":\"2776\"},\"y_scale\":{\"id\":\"2780\"}},\"id\":\"2771\",\"subtype\":\"Figure\",\"type\":\"Plot\"},{\"attributes\":{},\"id\":\"2983\",\"type\":\"AllLabels\"},{\"attributes\":{\"below\":[{\"id\":\"2806\"}],\"center\":[{\"id\":\"2809\"},{\"id\":\"2813\"}],\"height\":250,\"left\":[{\"id\":\"2810\"}],\"renderers\":[{\"id\":\"2829\"}],\"title\":{\"id\":\"2978\"},\"toolbar\":{\"id\":\"2817\"},\"width\":325,\"x_range\":{\"id\":\"2798\"},\"x_scale\":{\"id\":\"2802\"},\"y_range\":{\"id\":\"2800\"},\"y_scale\":{\"id\":\"2804\"}},\"id\":\"2797\",\"subtype\":\"Figure\",\"type\":\"Plot\"},{\"attributes\":{},\"id\":\"2984\",\"type\":\"BasicTickFormatter\"},{\"attributes\":{},\"id\":\"2992\",\"type\":\"UnionRenderers\"},{\"attributes\":{\"text\":\"Gaussian, \\u00b5 = 10, \\u03c3 = 2\"},\"id\":\"2772\",\"type\":\"Title\"},{\"attributes\":{},\"id\":\"2993\",\"type\":\"Selection\"},{\"attributes\":{\"data_source\":{\"id\":\"2821\"},\"glyph\":{\"id\":\"2822\"},\"hover_glyph\":null,\"muted_glyph\":null,\"nonselection_glyph\":{\"id\":\"2823\"},\"view\":{\"id\":\"2825\"}},\"id\":\"2824\",\"type\":\"GlyphRenderer\"},{\"attributes\":{\"active_multi\":null,\"tools\":[{\"id\":\"2790\"},{\"id\":\"2791\"},{\"id\":\"2792\"}]},\"id\":\"2793\",\"type\":\"Toolbar\"},{\"attributes\":{},\"id\":\"2776\",\"type\":\"DataRange1d\"},{\"attributes\":{\"axis_label\":\"P(x; \\u00b5, \\u03c3)\",\"formatter\":{\"id\":\"2981\"},\"major_label_policy\":{\"id\":\"2980\"},\"ticker\":{\"id\":\"2787\"}},\"id\":\"2786\",\"type\":\"LinearAxis\"},{\"attributes\":{},\"id\":\"2778\",\"type\":\"LinearScale\"},{\"attributes\":{\"end\":1.05,\"start\":-0.05},\"id\":\"2800\",\"type\":\"Range1d\"},{\"attributes\":{\"line_color\":\"dodgerblue\",\"line_width\":3,\"x\":{\"field\":\"x\"},\"y\":{\"field\":\"y\"}},\"id\":\"2822\",\"type\":\"Line\"},{\"attributes\":{},\"id\":\"2780\",\"type\":\"LinearScale\"},{\"attributes\":{},\"id\":\"2802\",\"type\":\"LinearScale\"},{\"attributes\":{\"axis_label\":\"x\",\"formatter\":{\"id\":\"2984\"},\"major_label_policy\":{\"id\":\"2983\"},\"ticker\":{\"id\":\"2783\"}},\"id\":\"2782\",\"type\":\"LinearAxis\"},{\"attributes\":{\"axis_label\":\"F(k; \\u00b5, \\u03c3)\",\"formatter\":{\"id\":\"2987\"},\"major_label_policy\":{\"id\":\"2986\"},\"ticker\":{\"id\":\"2811\"}},\"id\":\"2810\",\"type\":\"LinearAxis\"},{\"attributes\":{},\"id\":\"2783\",\"type\":\"BasicTicker\"},{\"attributes\":{},\"id\":\"2804\",\"type\":\"LinearScale\"},{\"attributes\":{\"axis\":{\"id\":\"2782\"},\"ticker\":null},\"id\":\"2785\",\"type\":\"Grid\"},{\"attributes\":{\"source\":{\"id\":\"2826\"}},\"id\":\"2830\",\"type\":\"CDSView\"},{\"attributes\":{\"axis_label\":\"x\",\"formatter\":{\"id\":\"2990\"},\"major_label_policy\":{\"id\":\"2989\"},\"ticker\":{\"id\":\"2807\"}},\"id\":\"2806\",\"type\":\"LinearAxis\"},{\"attributes\":{\"data_source\":{\"id\":\"2826\"},\"glyph\":{\"id\":\"2827\"},\"hover_glyph\":null,\"muted_glyph\":null,\"nonselection_glyph\":{\"id\":\"2828\"},\"view\":{\"id\":\"2830\"}},\"id\":\"2829\",\"type\":\"GlyphRenderer\"},{\"attributes\":{\"source\":{\"id\":\"2821\"}},\"id\":\"2825\",\"type\":\"CDSView\"},{\"attributes\":{},\"id\":\"2807\",\"type\":\"BasicTicker\"},{\"attributes\":{\"axis\":{\"id\":\"2786\"},\"dimension\":1,\"ticker\":null},\"id\":\"2789\",\"type\":\"Grid\"},{\"attributes\":{\"axis\":{\"id\":\"2806\"},\"ticker\":null},\"id\":\"2809\",\"type\":\"Grid\"},{\"attributes\":{\"line_alpha\":0.1,\"line_color\":\"dodgerblue\",\"line_width\":3,\"x\":{\"field\":\"x\"},\"y\":{\"field\":\"y\"}},\"id\":\"2823\",\"type\":\"Line\"},{\"attributes\":{},\"id\":\"2787\",\"type\":\"BasicTicker\"},{\"attributes\":{},\"id\":\"2798\",\"type\":\"DataRange1d\"},{\"attributes\":{},\"id\":\"2791\",\"type\":\"WheelZoomTool\"},{\"attributes\":{\"axis\":{\"id\":\"2810\"},\"dimension\":1,\"ticker\":null},\"id\":\"2813\",\"type\":\"Grid\"},{\"attributes\":{},\"id\":\"2790\",\"type\":\"PanTool\"},{\"attributes\":{\"line_color\":\"dodgerblue\",\"line_width\":3,\"x\":{\"field\":\"x\"},\"y\":{\"field\":\"y\"}},\"id\":\"2827\",\"type\":\"Line\"},{\"attributes\":{},\"id\":\"2811\",\"type\":\"BasicTicker\"},{\"attributes\":{},\"id\":\"2792\",\"type\":\"ResetTool\"},{\"attributes\":{\"active_multi\":null,\"tools\":[{\"id\":\"2814\"},{\"id\":\"2815\"},{\"id\":\"2816\"}]},\"id\":\"2817\",\"type\":\"Toolbar\"},{\"attributes\":{\"data\":{\"x\":{\"__ndarray__\":\"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\",\"dtype\":\"float64\",\"order\":\"little\",\"shape\":[200]},\"y\":{\"__ndarray__\":\"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\",\"dtype\":\"float64\",\"order\":\"little\",\"shape\":[200]}},\"selected\":{\"id\":\"2995\"},\"selection_policy\":{\"id\":\"2994\"}},\"id\":\"2826\",\"type\":\"ColumnDataSource\"},{\"attributes\":{},\"id\":\"2815\",\"type\":\"WheelZoomTool\"},{\"attributes\":{},\"id\":\"2814\",\"type\":\"PanTool\"},{\"attributes\":{},\"id\":\"2816\",\"type\":\"ResetTool\"},{\"attributes\":{\"line_alpha\":0.1,\"line_color\":\"dodgerblue\",\"line_width\":3,\"x\":{\"field\":\"x\"},\"y\":{\"field\":\"y\"}},\"id\":\"2828\",\"type\":\"Line\"},{\"attributes\":{},\"id\":\"2986\",\"type\":\"AllLabels\"},{\"attributes\":{},\"id\":\"2987\",\"type\":\"BasicTickFormatter\"},{\"attributes\":{},\"id\":\"2994\",\"type\":\"UnionRenderers\"},{\"attributes\":{},\"id\":\"2978\",\"type\":\"Title\"},{\"attributes\":{},\"id\":\"2995\",\"type\":\"Selection\"}],\"root_ids\":[\"2831\"]},\"title\":\"Bokeh Application\",\"version\":\"2.3.1\"}};\n",
       "  var render_items = [{\"docid\":\"fa483c9a-b37b-411f-aca7-e8e12f24086a\",\"root_ids\":[\"2831\"],\"roots\":{\"2831\":\"6624302e-0c91-4cea-80af-acc235521d02\"}}];\n",
       "  root.Bokeh.embed.embed_items_notebook(docs_json, render_items);\n",
       "\n",
       "  }\n",
       "  if (root.Bokeh !== undefined) {\n",
       "    embed_document(root);\n",
       "  } else {\n",
       "    var attempts = 0;\n",
       "    var timer = setInterval(function(root) {\n",
       "      if (root.Bokeh !== undefined) {\n",
       "        clearInterval(timer);\n",
       "        embed_document(root);\n",
       "      } else {\n",
       "        attempts++;\n",
       "        if (attempts > 100) {\n",
       "          clearInterval(timer);\n",
       "          console.log(\"Bokeh: ERROR: Unable to run BokehJS code because BokehJS library is missing\");\n",
       "        }\n",
       "      }\n",
       "    }, 10, root)\n",
       "  }\n",
       "})(window);"
      ],
      "application/vnd.bokehjs_exec.v0+json": ""
     },
     "metadata": {
      "application/vnd.bokehjs_exec.v0+json": {
       "id": "2831"
      }
     },
     "output_type": "display_data"
    }
   ],
   "source": [
    "x = np.linspace(0, 20, 200)\n",
    "p = plot_dists(x, st.norm, (10, 2), ('µ', 'σ'), 'Gaussian')\n",
    "bokeh.io.show(p)"
   ]
  },
  {
   "cell_type": "markdown",
   "metadata": {},
   "source": [
    "### Log-Normal distribution\n",
    "\n",
    "**Story.** If $\\ln x$ is Gaussian distributed, $x$ is\n",
    "Log-Normally distributed.\n",
    "\n",
    "**Parameters.** As for a Gaussian, there are two parameters,\n",
    "the mean logarithm, $\\ln \\mu$, and the variance $\\sigma^2$.\n",
    "\n",
    "**Example.** A measure of fold change in gene expression can\n",
    "be Log-Normally distributed.\n",
    "\n",
    "**Probability density function.**\n",
    "\n",
    "\\begin{align}\n",
    "P(x;\\mu, \\sigma) = \\frac{1}{x\\sqrt{2\\pi \\sigma^2}}\\,\\mathrm{e}^{-(\\ln x - \\ln \\mu)^2/2\\sigma^2}.\n",
    "\\end{align}"
   ]
  },
  {
   "cell_type": "code",
   "execution_count": 11,
   "metadata": {},
   "outputs": [
    {
     "data": {
      "text/html": [
       "\n",
       "\n",
       "\n",
       "\n",
       "\n",
       "\n",
       "  <div class=\"bk-root\" id=\"ad07df6c-d4f5-45be-9de7-d232ce1b2ed3\" data-root-id=\"3151\"></div>\n"
      ]
     },
     "metadata": {},
     "output_type": "display_data"
    },
    {
     "data": {
      "application/javascript": [
       "(function(root) {\n",
       "  function embed_document(root) {\n",
       "    \n",
       "  var docs_json = {\"f447c6bf-2716-4096-b1f4-a228566b1ce9\":{\"defs\":[],\"roots\":{\"references\":[{\"attributes\":{\"children\":[{\"id\":\"3091\"},{\"id\":\"3117\"}]},\"id\":\"3151\",\"type\":\"Row\"},{\"attributes\":{},\"id\":\"3136\",\"type\":\"ResetTool\"},{\"attributes\":{},\"id\":\"3325\",\"type\":\"AllLabels\"},{\"attributes\":{\"line_color\":\"dodgerblue\",\"line_width\":3,\"x\":{\"field\":\"x\"},\"y\":{\"field\":\"y\"}},\"id\":\"3142\",\"type\":\"Line\"},{\"attributes\":{},\"id\":\"3326\",\"type\":\"BasicTickFormatter\"},{\"attributes\":{},\"id\":\"3333\",\"type\":\"UnionRenderers\"},{\"attributes\":{},\"id\":\"3334\",\"type\":\"Selection\"},{\"attributes\":{},\"id\":\"3096\",\"type\":\"DataRange1d\"},{\"attributes\":{\"line_color\":\"dodgerblue\",\"line_width\":3,\"x\":{\"field\":\"x\"},\"y\":{\"field\":\"y\"}},\"id\":\"3147\",\"type\":\"Line\"},{\"attributes\":{},\"id\":\"3328\",\"type\":\"AllLabels\"},{\"attributes\":{},\"id\":\"3329\",\"type\":\"BasicTickFormatter\"},{\"attributes\":{},\"id\":\"3319\",\"type\":\"AllLabels\"},{\"attributes\":{\"end\":1.05,\"start\":-0.05},\"id\":\"3120\",\"type\":\"Range1d\"},{\"attributes\":{},\"id\":\"3320\",\"type\":\"BasicTickFormatter\"},{\"attributes\":{},\"id\":\"3322\",\"type\":\"AllLabels\"},{\"attributes\":{\"axis\":{\"id\":\"3102\"},\"ticker\":null},\"id\":\"3105\",\"type\":\"Grid\"},{\"attributes\":{},\"id\":\"3323\",\"type\":\"BasicTickFormatter\"},{\"attributes\":{},\"id\":\"3331\",\"type\":\"UnionRenderers\"},{\"attributes\":{},\"id\":\"3332\",\"type\":\"Selection\"},{\"attributes\":{\"data_source\":{\"id\":\"3146\"},\"glyph\":{\"id\":\"3147\"},\"hover_glyph\":null,\"muted_glyph\":null,\"nonselection_glyph\":{\"id\":\"3148\"},\"view\":{\"id\":\"3150\"}},\"id\":\"3149\",\"type\":\"GlyphRenderer\"},{\"attributes\":{\"data\":{\"x\":{\"__ndarray__\":\"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\",\"dtype\":\"float64\",\"order\":\"little\",\"shape\":[200]},\"y\":{\"__ndarray__\":\"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\",\"dtype\":\"float64\",\"order\":\"little\",\"shape\":[200]}},\"selected\":{\"id\":\"3332\"},\"selection_policy\":{\"id\":\"3331\"}},\"id\":\"3141\",\"type\":\"ColumnDataSource\"},{\"attributes\":{\"below\":[{\"id\":\"3102\"}],\"center\":[{\"id\":\"3105\"},{\"id\":\"3109\"}],\"height\":250,\"left\":[{\"id\":\"3106\"}],\"renderers\":[{\"id\":\"3144\"}],\"title\":{\"id\":\"3092\"},\"toolbar\":{\"id\":\"3113\"},\"width\":325,\"x_range\":{\"id\":\"3118\"},\"x_scale\":{\"id\":\"3098\"},\"y_range\":{\"id\":\"3096\"},\"y_scale\":{\"id\":\"3100\"}},\"id\":\"3091\",\"subtype\":\"Figure\",\"type\":\"Plot\"},{\"attributes\":{\"below\":[{\"id\":\"3126\"}],\"center\":[{\"id\":\"3129\"},{\"id\":\"3133\"}],\"height\":250,\"left\":[{\"id\":\"3130\"}],\"renderers\":[{\"id\":\"3149\"}],\"title\":{\"id\":\"3317\"},\"toolbar\":{\"id\":\"3137\"},\"width\":325,\"x_range\":{\"id\":\"3118\"},\"x_scale\":{\"id\":\"3122\"},\"y_range\":{\"id\":\"3120\"},\"y_scale\":{\"id\":\"3124\"}},\"id\":\"3117\",\"subtype\":\"Figure\",\"type\":\"Plot\"},{\"attributes\":{\"text\":\"Log-normal, \\u03c3 = 0.5, \\u00b5 = 1\"},\"id\":\"3092\",\"type\":\"Title\"},{\"attributes\":{\"active_multi\":null,\"tools\":[{\"id\":\"3110\"},{\"id\":\"3111\"},{\"id\":\"3112\"}]},\"id\":\"3113\",\"type\":\"Toolbar\"},{\"attributes\":{},\"id\":\"3317\",\"type\":\"Title\"},{\"attributes\":{\"data\":{\"x\":{\"__ndarray__\":\"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\",\"dtype\":\"float64\",\"order\":\"little\",\"shape\":[200]},\"y\":{\"__ndarray__\":\"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\",\"dtype\":\"float64\",\"order\":\"little\",\"shape\":[200]}},\"selected\":{\"id\":\"3334\"},\"selection_policy\":{\"id\":\"3333\"}},\"id\":\"3146\",\"type\":\"ColumnDataSource\"},{\"attributes\":{\"axis_label\":\"P(x; \\u03c3, \\u00b5)\",\"formatter\":{\"id\":\"3320\"},\"major_label_policy\":{\"id\":\"3319\"},\"ticker\":{\"id\":\"3107\"}},\"id\":\"3106\",\"type\":\"LinearAxis\"},{\"attributes\":{},\"id\":\"3098\",\"type\":\"LinearScale\"},{\"attributes\":{\"active_multi\":null,\"tools\":[{\"id\":\"3134\"},{\"id\":\"3135\"},{\"id\":\"3136\"}]},\"id\":\"3137\",\"type\":\"Toolbar\"},{\"attributes\":{},\"id\":\"3100\",\"type\":\"LinearScale\"},{\"attributes\":{},\"id\":\"3122\",\"type\":\"LinearScale\"},{\"attributes\":{\"axis_label\":\"x\",\"formatter\":{\"id\":\"3323\"},\"major_label_policy\":{\"id\":\"3322\"},\"ticker\":{\"id\":\"3103\"}},\"id\":\"3102\",\"type\":\"LinearAxis\"},{\"attributes\":{\"axis_label\":\"F(k; \\u03c3, \\u00b5)\",\"formatter\":{\"id\":\"3326\"},\"major_label_policy\":{\"id\":\"3325\"},\"ticker\":{\"id\":\"3131\"}},\"id\":\"3130\",\"type\":\"LinearAxis\"},{\"attributes\":{},\"id\":\"3103\",\"type\":\"BasicTicker\"},{\"attributes\":{},\"id\":\"3124\",\"type\":\"LinearScale\"},{\"attributes\":{},\"id\":\"3134\",\"type\":\"PanTool\"},{\"attributes\":{\"source\":{\"id\":\"3141\"}},\"id\":\"3145\",\"type\":\"CDSView\"},{\"attributes\":{\"axis_label\":\"x\",\"formatter\":{\"id\":\"3329\"},\"major_label_policy\":{\"id\":\"3328\"},\"ticker\":{\"id\":\"3127\"}},\"id\":\"3126\",\"type\":\"LinearAxis\"},{\"attributes\":{\"source\":{\"id\":\"3146\"}},\"id\":\"3150\",\"type\":\"CDSView\"},{\"attributes\":{},\"id\":\"3135\",\"type\":\"WheelZoomTool\"},{\"attributes\":{\"axis\":{\"id\":\"3106\"},\"dimension\":1,\"ticker\":null},\"id\":\"3109\",\"type\":\"Grid\"},{\"attributes\":{},\"id\":\"3127\",\"type\":\"BasicTicker\"},{\"attributes\":{},\"id\":\"3107\",\"type\":\"BasicTicker\"},{\"attributes\":{\"axis\":{\"id\":\"3126\"},\"ticker\":null},\"id\":\"3129\",\"type\":\"Grid\"},{\"attributes\":{},\"id\":\"3118\",\"type\":\"DataRange1d\"},{\"attributes\":{\"data_source\":{\"id\":\"3141\"},\"glyph\":{\"id\":\"3142\"},\"hover_glyph\":null,\"muted_glyph\":null,\"nonselection_glyph\":{\"id\":\"3143\"},\"view\":{\"id\":\"3145\"}},\"id\":\"3144\",\"type\":\"GlyphRenderer\"},{\"attributes\":{\"line_alpha\":0.1,\"line_color\":\"dodgerblue\",\"line_width\":3,\"x\":{\"field\":\"x\"},\"y\":{\"field\":\"y\"}},\"id\":\"3143\",\"type\":\"Line\"},{\"attributes\":{},\"id\":\"3110\",\"type\":\"PanTool\"},{\"attributes\":{\"line_alpha\":0.1,\"line_color\":\"dodgerblue\",\"line_width\":3,\"x\":{\"field\":\"x\"},\"y\":{\"field\":\"y\"}},\"id\":\"3148\",\"type\":\"Line\"},{\"attributes\":{},\"id\":\"3111\",\"type\":\"WheelZoomTool\"},{\"attributes\":{},\"id\":\"3112\",\"type\":\"ResetTool\"},{\"attributes\":{\"axis\":{\"id\":\"3130\"},\"dimension\":1,\"ticker\":null},\"id\":\"3133\",\"type\":\"Grid\"},{\"attributes\":{},\"id\":\"3131\",\"type\":\"BasicTicker\"}],\"root_ids\":[\"3151\"]},\"title\":\"Bokeh Application\",\"version\":\"2.3.1\"}};\n",
       "  var render_items = [{\"docid\":\"f447c6bf-2716-4096-b1f4-a228566b1ce9\",\"root_ids\":[\"3151\"],\"roots\":{\"3151\":\"ad07df6c-d4f5-45be-9de7-d232ce1b2ed3\"}}];\n",
       "  root.Bokeh.embed.embed_items_notebook(docs_json, render_items);\n",
       "\n",
       "  }\n",
       "  if (root.Bokeh !== undefined) {\n",
       "    embed_document(root);\n",
       "  } else {\n",
       "    var attempts = 0;\n",
       "    var timer = setInterval(function(root) {\n",
       "      if (root.Bokeh !== undefined) {\n",
       "        clearInterval(timer);\n",
       "        embed_document(root);\n",
       "      } else {\n",
       "        attempts++;\n",
       "        if (attempts > 100) {\n",
       "          clearInterval(timer);\n",
       "          console.log(\"Bokeh: ERROR: Unable to run BokehJS code because BokehJS library is missing\");\n",
       "        }\n",
       "      }\n",
       "    }, 10, root)\n",
       "  }\n",
       "})(window);"
      ],
      "application/vnd.bokehjs_exec.v0+json": ""
     },
     "metadata": {
      "application/vnd.bokehjs_exec.v0+json": {
       "id": "3151"
      }
     },
     "output_type": "display_data"
    }
   ],
   "source": [
    "x = np.linspace(0, 10, 200)\n",
    "p = plot_dists(x, st.lognorm, (0.5, 1), ('σ', 'µ'), 'Log-normal')\n",
    "bokeh.io.show(p)"
   ]
  },
  {
   "cell_type": "markdown",
   "metadata": {},
   "source": [
    "### Von Mises distribution\n",
    "\n",
    "**Story.** Gaussian, except on a periodic domain.\n",
    "\n",
    "**Parameters.** As for a Gaussian, with $\\mu$ being the\n",
    "location of the peak, and $\\beta$ being analogous to the variance.\n",
    "\n",
    "**Example.** Repeated measurements on a periodic domain, e.g.,\n",
    "the location of an ingression along the azimuthal angle of a\n",
    "developing embryo.\n",
    "\n",
    "**Probability density function.**\n",
    "\n",
    "\\begin{align}\n",
    "P(\\theta;\\mu, \\beta) = \\frac{1}{2\\pi I_0(\\beta)}\\,\\mathrm{e}^{\\beta \\cos(\\theta - \\mu)},\n",
    "\\end{align}\n",
    "\n",
    "where $I_0(\\beta)$ is a modified Bessel function of the first kind."
   ]
  },
  {
   "cell_type": "code",
   "execution_count": 12,
   "metadata": {},
   "outputs": [
    {
     "data": {
      "text/html": [
       "\n",
       "\n",
       "\n",
       "\n",
       "\n",
       "\n",
       "  <div class=\"bk-root\" id=\"ccc438da-b468-4fd4-b081-156c25c7f94f\" data-root-id=\"3490\"></div>\n"
      ]
     },
     "metadata": {},
     "output_type": "display_data"
    },
    {
     "data": {
      "application/javascript": [
       "(function(root) {\n",
       "  function embed_document(root) {\n",
       "    \n",
       "  var docs_json = {\"2842fb8c-5f3b-47d2-bf6c-ae39b3b6152e\":{\"defs\":[],\"roots\":{\"references\":[{\"attributes\":{\"children\":[{\"id\":\"3430\"},{\"id\":\"3456\"}]},\"id\":\"3490\",\"type\":\"Row\"},{\"attributes\":{\"axis\":{\"id\":\"3465\"},\"ticker\":null},\"id\":\"3468\",\"type\":\"Grid\"},{\"attributes\":{\"data_source\":{\"id\":\"3485\"},\"glyph\":{\"id\":\"3486\"},\"hover_glyph\":null,\"muted_glyph\":null,\"nonselection_glyph\":{\"id\":\"3487\"},\"view\":{\"id\":\"3489\"}},\"id\":\"3488\",\"type\":\"GlyphRenderer\"},{\"attributes\":{},\"id\":\"3461\",\"type\":\"LinearScale\"},{\"attributes\":{},\"id\":\"3437\",\"type\":\"LinearScale\"},{\"attributes\":{\"line_alpha\":0.1,\"line_color\":\"dodgerblue\",\"line_width\":3,\"x\":{\"field\":\"x\"},\"y\":{\"field\":\"y\"}},\"id\":\"3487\",\"type\":\"Line\"},{\"attributes\":{},\"id\":\"3435\",\"type\":\"DataRange1d\"},{\"attributes\":{},\"id\":\"3690\",\"type\":\"Selection\"},{\"attributes\":{\"below\":[{\"id\":\"3465\"}],\"center\":[{\"id\":\"3468\"},{\"id\":\"3472\"}],\"height\":250,\"left\":[{\"id\":\"3469\"}],\"renderers\":[{\"id\":\"3488\"}],\"title\":{\"id\":\"3675\"},\"toolbar\":{\"id\":\"3476\"},\"width\":325,\"x_range\":{\"id\":\"3457\"},\"x_scale\":{\"id\":\"3461\"},\"y_range\":{\"id\":\"3459\"},\"y_scale\":{\"id\":\"3463\"}},\"id\":\"3456\",\"subtype\":\"Figure\",\"type\":\"Plot\"},{\"attributes\":{\"axis_label\":\"P(x; \\u03b2, \\u00b5)\",\"formatter\":{\"id\":\"3678\"},\"major_label_policy\":{\"id\":\"3677\"},\"ticker\":{\"id\":\"3446\"}},\"id\":\"3445\",\"type\":\"LinearAxis\"},{\"attributes\":{},\"id\":\"3463\",\"type\":\"LinearScale\"},{\"attributes\":{},\"id\":\"3689\",\"type\":\"UnionRenderers\"},{\"attributes\":{},\"id\":\"3439\",\"type\":\"LinearScale\"},{\"attributes\":{},\"id\":\"3457\",\"type\":\"DataRange1d\"},{\"attributes\":{},\"id\":\"3684\",\"type\":\"BasicTickFormatter\"},{\"attributes\":{\"axis_label\":\"x\",\"formatter\":{\"id\":\"3681\"},\"major_label_policy\":{\"id\":\"3680\"},\"ticker\":{\"id\":\"3442\"}},\"id\":\"3441\",\"type\":\"LinearAxis\"},{\"attributes\":{},\"id\":\"3687\",\"type\":\"BasicTickFormatter\"},{\"attributes\":{},\"id\":\"3442\",\"type\":\"BasicTicker\"},{\"attributes\":{},\"id\":\"3683\",\"type\":\"AllLabels\"},{\"attributes\":{\"axis\":{\"id\":\"3441\"},\"ticker\":null},\"id\":\"3444\",\"type\":\"Grid\"},{\"attributes\":{},\"id\":\"3466\",\"type\":\"BasicTicker\"},{\"attributes\":{\"end\":1.05,\"start\":-0.05},\"id\":\"3459\",\"type\":\"Range1d\"},{\"attributes\":{\"axis_label\":\"x\",\"formatter\":{\"id\":\"3687\"},\"major_label_policy\":{\"id\":\"3686\"},\"ticker\":{\"id\":\"3466\"}},\"id\":\"3465\",\"type\":\"LinearAxis\"},{\"attributes\":{\"axis\":{\"id\":\"3445\"},\"dimension\":1,\"ticker\":null},\"id\":\"3448\",\"type\":\"Grid\"},{\"attributes\":{},\"id\":\"3446\",\"type\":\"BasicTicker\"},{\"attributes\":{},\"id\":\"3450\",\"type\":\"WheelZoomTool\"},{\"attributes\":{\"data\":{\"x\":{\"__ndarray__\":\"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\",\"dtype\":\"float64\",\"order\":\"little\",\"shape\":[200]},\"y\":{\"__ndarray__\":\"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\",\"dtype\":\"float64\",\"order\":\"little\",\"shape\":[200]}},\"selected\":{\"id\":\"3690\"},\"selection_policy\":{\"id\":\"3689\"}},\"id\":\"3480\",\"type\":\"ColumnDataSource\"},{\"attributes\":{},\"id\":\"3449\",\"type\":\"PanTool\"},{\"attributes\":{},\"id\":\"3451\",\"type\":\"ResetTool\"},{\"attributes\":{\"source\":{\"id\":\"3485\"}},\"id\":\"3489\",\"type\":\"CDSView\"},{\"attributes\":{\"line_color\":\"dodgerblue\",\"line_width\":3,\"x\":{\"field\":\"x\"},\"y\":{\"field\":\"y\"}},\"id\":\"3486\",\"type\":\"Line\"},{\"attributes\":{\"below\":[{\"id\":\"3441\"}],\"center\":[{\"id\":\"3444\"},{\"id\":\"3448\"}],\"height\":250,\"left\":[{\"id\":\"3445\"}],\"renderers\":[{\"id\":\"3483\"}],\"title\":{\"id\":\"3431\"},\"toolbar\":{\"id\":\"3452\"},\"width\":325,\"x_range\":{\"id\":\"3457\"},\"x_scale\":{\"id\":\"3437\"},\"y_range\":{\"id\":\"3435\"},\"y_scale\":{\"id\":\"3439\"}},\"id\":\"3430\",\"subtype\":\"Figure\",\"type\":\"Plot\"},{\"attributes\":{},\"id\":\"3680\",\"type\":\"AllLabels\"},{\"attributes\":{\"source\":{\"id\":\"3480\"}},\"id\":\"3484\",\"type\":\"CDSView\"},{\"attributes\":{\"line_color\":\"dodgerblue\",\"line_width\":3,\"x\":{\"field\":\"x\"},\"y\":{\"field\":\"y\"}},\"id\":\"3481\",\"type\":\"Line\"},{\"attributes\":{\"data\":{\"x\":{\"__ndarray__\":\"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\",\"dtype\":\"float64\",\"order\":\"little\",\"shape\":[200]},\"y\":{\"__ndarray__\":\"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\",\"dtype\":\"float64\",\"order\":\"little\",\"shape\":[200]}},\"selected\":{\"id\":\"3692\"},\"selection_policy\":{\"id\":\"3691\"}},\"id\":\"3485\",\"type\":\"ColumnDataSource\"},{\"attributes\":{},\"id\":\"3681\",\"type\":\"BasicTickFormatter\"},{\"attributes\":{},\"id\":\"3691\",\"type\":\"UnionRenderers\"},{\"attributes\":{},\"id\":\"3675\",\"type\":\"Title\"},{\"attributes\":{\"axis\":{\"id\":\"3469\"},\"dimension\":1,\"ticker\":null},\"id\":\"3472\",\"type\":\"Grid\"},{\"attributes\":{\"line_alpha\":0.1,\"line_color\":\"dodgerblue\",\"line_width\":3,\"x\":{\"field\":\"x\"},\"y\":{\"field\":\"y\"}},\"id\":\"3482\",\"type\":\"Line\"},{\"attributes\":{},\"id\":\"3692\",\"type\":\"Selection\"},{\"attributes\":{},\"id\":\"3470\",\"type\":\"BasicTicker\"},{\"attributes\":{\"active_multi\":null,\"tools\":[{\"id\":\"3473\"},{\"id\":\"3474\"},{\"id\":\"3475\"}]},\"id\":\"3476\",\"type\":\"Toolbar\"},{\"attributes\":{},\"id\":\"3473\",\"type\":\"PanTool\"},{\"attributes\":{},\"id\":\"3677\",\"type\":\"AllLabels\"},{\"attributes\":{},\"id\":\"3474\",\"type\":\"WheelZoomTool\"},{\"attributes\":{},\"id\":\"3475\",\"type\":\"ResetTool\"},{\"attributes\":{},\"id\":\"3686\",\"type\":\"AllLabels\"},{\"attributes\":{\"text\":\"Von Mises, \\u03b2 = 0.5, \\u00b5 = 3.14\"},\"id\":\"3431\",\"type\":\"Title\"},{\"attributes\":{\"axis_label\":\"F(k; \\u03b2, \\u00b5)\",\"formatter\":{\"id\":\"3684\"},\"major_label_policy\":{\"id\":\"3683\"},\"ticker\":{\"id\":\"3470\"}},\"id\":\"3469\",\"type\":\"LinearAxis\"},{\"attributes\":{},\"id\":\"3678\",\"type\":\"BasicTickFormatter\"},{\"attributes\":{\"active_multi\":null,\"tools\":[{\"id\":\"3449\"},{\"id\":\"3450\"},{\"id\":\"3451\"}]},\"id\":\"3452\",\"type\":\"Toolbar\"},{\"attributes\":{\"data_source\":{\"id\":\"3480\"},\"glyph\":{\"id\":\"3481\"},\"hover_glyph\":null,\"muted_glyph\":null,\"nonselection_glyph\":{\"id\":\"3482\"},\"view\":{\"id\":\"3484\"}},\"id\":\"3483\",\"type\":\"GlyphRenderer\"}],\"root_ids\":[\"3490\"]},\"title\":\"Bokeh Application\",\"version\":\"2.3.1\"}};\n",
       "  var render_items = [{\"docid\":\"2842fb8c-5f3b-47d2-bf6c-ae39b3b6152e\",\"root_ids\":[\"3490\"],\"roots\":{\"3490\":\"ccc438da-b468-4fd4-b081-156c25c7f94f\"}}];\n",
       "  root.Bokeh.embed.embed_items_notebook(docs_json, render_items);\n",
       "\n",
       "  }\n",
       "  if (root.Bokeh !== undefined) {\n",
       "    embed_document(root);\n",
       "  } else {\n",
       "    var attempts = 0;\n",
       "    var timer = setInterval(function(root) {\n",
       "      if (root.Bokeh !== undefined) {\n",
       "        clearInterval(timer);\n",
       "        embed_document(root);\n",
       "      } else {\n",
       "        attempts++;\n",
       "        if (attempts > 100) {\n",
       "          clearInterval(timer);\n",
       "          console.log(\"Bokeh: ERROR: Unable to run BokehJS code because BokehJS library is missing\");\n",
       "        }\n",
       "      }\n",
       "    }, 10, root)\n",
       "  }\n",
       "})(window);"
      ],
      "application/vnd.bokehjs_exec.v0+json": ""
     },
     "metadata": {
      "application/vnd.bokehjs_exec.v0+json": {
       "id": "3490"
      }
     },
     "output_type": "display_data"
    }
   ],
   "source": [
    "x = np.linspace(0, 2*np.pi, 200)\n",
    "p = plot_dists(x, st.vonmises, (0.5, 3.14), ('β', 'µ'), 'Von Mises')\n",
    "bokeh.io.show(p)"
   ]
  },
  {
   "cell_type": "markdown",
   "metadata": {},
   "source": [
    "### Chi-square distribution\n",
    "\n",
    "**Story.** If $X_1$,\n",
    "$X_2$, $\\ldots$, $X_n$ are Gaussian distributed,\n",
    "$X_1^2 + X_2^2 + \\cdots + X_n^2$ is $\\chi^2$-distributed.\n",
    "\n",
    "**Parameters.** There is only one parameter, the degrees of\n",
    "freedom $n$.\n",
    "\n",
    "**Probability density function.**\n",
    "\\begin{align}\n",
    "  P(x;n) \\equiv \\chi^2_n(x;n) = \\frac{1}{2^{n/2}\\Gamma\\left(\\frac{n}{2}\\right)}\\,\n",
    "x^{\\frac{n}{2}-1}\\,\\mathrm{e}^{-x/2}.\n",
    "\\end{align}"
   ]
  },
  {
   "cell_type": "code",
   "execution_count": 13,
   "metadata": {},
   "outputs": [
    {
     "data": {
      "text/html": [
       "\n",
       "\n",
       "\n",
       "\n",
       "\n",
       "\n",
       "  <div class=\"bk-root\" id=\"ae9d211c-300c-41cb-bf79-2a519e9fb738\" data-root-id=\"3848\"></div>\n"
      ]
     },
     "metadata": {},
     "output_type": "display_data"
    },
    {
     "data": {
      "application/javascript": [
       "(function(root) {\n",
       "  function embed_document(root) {\n",
       "    \n",
       "  var docs_json = {\"c25db571-a591-4452-8aa7-7fced42bf6fc\":{\"defs\":[],\"roots\":{\"references\":[{\"attributes\":{\"children\":[{\"id\":\"3788\"},{\"id\":\"3814\"}]},\"id\":\"3848\",\"type\":\"Row\"},{\"attributes\":{\"source\":{\"id\":\"3838\"}},\"id\":\"3842\",\"type\":\"CDSView\"},{\"attributes\":{\"source\":{\"id\":\"3843\"}},\"id\":\"3847\",\"type\":\"CDSView\"},{\"attributes\":{},\"id\":\"4069\",\"type\":\"Selection\"},{\"attributes\":{\"end\":1.05,\"start\":-0.05},\"id\":\"3817\",\"type\":\"Range1d\"},{\"attributes\":{},\"id\":\"3819\",\"type\":\"LinearScale\"},{\"attributes\":{\"axis_label\":\"F(k; n)\",\"formatter\":{\"id\":\"4061\"},\"major_label_policy\":{\"id\":\"4060\"},\"ticker\":{\"id\":\"3828\"}},\"id\":\"3827\",\"type\":\"LinearAxis\"},{\"attributes\":{},\"id\":\"3821\",\"type\":\"LinearScale\"},{\"attributes\":{\"active_multi\":null,\"tools\":[{\"id\":\"3831\"},{\"id\":\"3832\"},{\"id\":\"3833\"}]},\"id\":\"3834\",\"type\":\"Toolbar\"},{\"attributes\":{\"axis_label\":\"x\",\"formatter\":{\"id\":\"4064\"},\"major_label_policy\":{\"id\":\"4063\"},\"ticker\":{\"id\":\"3824\"}},\"id\":\"3823\",\"type\":\"LinearAxis\"},{\"attributes\":{\"active_multi\":null,\"tools\":[{\"id\":\"3807\"},{\"id\":\"3808\"},{\"id\":\"3809\"}]},\"id\":\"3810\",\"type\":\"Toolbar\"},{\"attributes\":{\"line_alpha\":0.1,\"line_color\":\"dodgerblue\",\"line_width\":3,\"x\":{\"field\":\"x\"},\"y\":{\"field\":\"y\"}},\"id\":\"3845\",\"type\":\"Line\"},{\"attributes\":{},\"id\":\"3824\",\"type\":\"BasicTicker\"},{\"attributes\":{\"axis\":{\"id\":\"3823\"},\"ticker\":null},\"id\":\"3826\",\"type\":\"Grid\"},{\"attributes\":{},\"id\":\"3809\",\"type\":\"ResetTool\"},{\"attributes\":{\"below\":[{\"id\":\"3799\"}],\"center\":[{\"id\":\"3802\"},{\"id\":\"3806\"}],\"height\":250,\"left\":[{\"id\":\"3803\"}],\"renderers\":[{\"id\":\"3841\"}],\"title\":{\"id\":\"3789\"},\"toolbar\":{\"id\":\"3810\"},\"width\":325,\"x_range\":{\"id\":\"3815\"},\"x_scale\":{\"id\":\"3795\"},\"y_range\":{\"id\":\"3793\"},\"y_scale\":{\"id\":\"3797\"}},\"id\":\"3788\",\"subtype\":\"Figure\",\"type\":\"Plot\"},{\"attributes\":{\"below\":[{\"id\":\"3823\"}],\"center\":[{\"id\":\"3826\"},{\"id\":\"3830\"}],\"height\":250,\"left\":[{\"id\":\"3827\"}],\"renderers\":[{\"id\":\"3846\"}],\"title\":{\"id\":\"4052\"},\"toolbar\":{\"id\":\"3834\"},\"width\":325,\"x_range\":{\"id\":\"3815\"},\"x_scale\":{\"id\":\"3819\"},\"y_range\":{\"id\":\"3817\"},\"y_scale\":{\"id\":\"3821\"}},\"id\":\"3814\",\"subtype\":\"Figure\",\"type\":\"Plot\"},{\"attributes\":{},\"id\":\"4060\",\"type\":\"AllLabels\"},{\"attributes\":{},\"id\":\"4061\",\"type\":\"BasicTickFormatter\"},{\"attributes\":{\"axis\":{\"id\":\"3827\"},\"dimension\":1,\"ticker\":null},\"id\":\"3830\",\"type\":\"Grid\"},{\"attributes\":{\"text\":\"Chi-square, n = 10\"},\"id\":\"3789\",\"type\":\"Title\"},{\"attributes\":{},\"id\":\"3828\",\"type\":\"BasicTicker\"},{\"attributes\":{},\"id\":\"3808\",\"type\":\"WheelZoomTool\"},{\"attributes\":{\"line_color\":\"dodgerblue\",\"line_width\":3,\"x\":{\"field\":\"x\"},\"y\":{\"field\":\"y\"}},\"id\":\"3844\",\"type\":\"Line\"},{\"attributes\":{},\"id\":\"4068\",\"type\":\"UnionRenderers\"},{\"attributes\":{\"data\":{\"x\":{\"__ndarray__\":\"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\",\"dtype\":\"float64\",\"order\":\"little\",\"shape\":[200]},\"y\":{\"__ndarray__\":\"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\",\"dtype\":\"float64\",\"order\":\"little\",\"shape\":[200]}},\"selected\":{\"id\":\"4067\"},\"selection_policy\":{\"id\":\"4066\"}},\"id\":\"3838\",\"type\":\"ColumnDataSource\"},{\"attributes\":{},\"id\":\"3793\",\"type\":\"DataRange1d\"},{\"attributes\":{\"data\":{\"x\":{\"__ndarray__\":\"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\",\"dtype\":\"float64\",\"order\":\"little\",\"shape\":[200]},\"y\":{\"__ndarray__\":\"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\",\"dtype\":\"float64\",\"order\":\"little\",\"shape\":[200]}},\"selected\":{\"id\":\"4069\"},\"selection_policy\":{\"id\":\"4068\"}},\"id\":\"3843\",\"type\":\"ColumnDataSource\"},{\"attributes\":{\"data_source\":{\"id\":\"3843\"},\"glyph\":{\"id\":\"3844\"},\"hover_glyph\":null,\"muted_glyph\":null,\"nonselection_glyph\":{\"id\":\"3845\"},\"view\":{\"id\":\"3847\"}},\"id\":\"3846\",\"type\":\"GlyphRenderer\"},{\"attributes\":{},\"id\":\"3832\",\"type\":\"WheelZoomTool\"},{\"attributes\":{},\"id\":\"4063\",\"type\":\"AllLabels\"},{\"attributes\":{},\"id\":\"4054\",\"type\":\"AllLabels\"},{\"attributes\":{\"line_alpha\":0.1,\"line_color\":\"dodgerblue\",\"line_width\":3,\"x\":{\"field\":\"x\"},\"y\":{\"field\":\"y\"}},\"id\":\"3840\",\"type\":\"Line\"},{\"attributes\":{},\"id\":\"3831\",\"type\":\"PanTool\"},{\"attributes\":{},\"id\":\"4055\",\"type\":\"BasicTickFormatter\"},{\"attributes\":{},\"id\":\"3795\",\"type\":\"LinearScale\"},{\"attributes\":{},\"id\":\"3833\",\"type\":\"ResetTool\"},{\"attributes\":{},\"id\":\"4064\",\"type\":\"BasicTickFormatter\"},{\"attributes\":{},\"id\":\"3797\",\"type\":\"LinearScale\"},{\"attributes\":{},\"id\":\"4052\",\"type\":\"Title\"},{\"attributes\":{\"axis_label\":\"x\",\"formatter\":{\"id\":\"4058\"},\"major_label_policy\":{\"id\":\"4057\"},\"ticker\":{\"id\":\"3800\"}},\"id\":\"3799\",\"type\":\"LinearAxis\"},{\"attributes\":{\"line_color\":\"dodgerblue\",\"line_width\":3,\"x\":{\"field\":\"x\"},\"y\":{\"field\":\"y\"}},\"id\":\"3839\",\"type\":\"Line\"},{\"attributes\":{},\"id\":\"3800\",\"type\":\"BasicTicker\"},{\"attributes\":{},\"id\":\"4057\",\"type\":\"AllLabels\"},{\"attributes\":{\"axis\":{\"id\":\"3799\"},\"ticker\":null},\"id\":\"3802\",\"type\":\"Grid\"},{\"attributes\":{},\"id\":\"4066\",\"type\":\"UnionRenderers\"},{\"attributes\":{},\"id\":\"4058\",\"type\":\"BasicTickFormatter\"},{\"attributes\":{\"data_source\":{\"id\":\"3838\"},\"glyph\":{\"id\":\"3839\"},\"hover_glyph\":null,\"muted_glyph\":null,\"nonselection_glyph\":{\"id\":\"3840\"},\"view\":{\"id\":\"3842\"}},\"id\":\"3841\",\"type\":\"GlyphRenderer\"},{\"attributes\":{},\"id\":\"3807\",\"type\":\"PanTool\"},{\"attributes\":{},\"id\":\"4067\",\"type\":\"Selection\"},{\"attributes\":{\"axis\":{\"id\":\"3803\"},\"dimension\":1,\"ticker\":null},\"id\":\"3806\",\"type\":\"Grid\"},{\"attributes\":{\"axis_label\":\"P(x; n)\",\"formatter\":{\"id\":\"4055\"},\"major_label_policy\":{\"id\":\"4054\"},\"ticker\":{\"id\":\"3804\"}},\"id\":\"3803\",\"type\":\"LinearAxis\"},{\"attributes\":{},\"id\":\"3815\",\"type\":\"DataRange1d\"},{\"attributes\":{},\"id\":\"3804\",\"type\":\"BasicTicker\"}],\"root_ids\":[\"3848\"]},\"title\":\"Bokeh Application\",\"version\":\"2.3.1\"}};\n",
       "  var render_items = [{\"docid\":\"c25db571-a591-4452-8aa7-7fced42bf6fc\",\"root_ids\":[\"3848\"],\"roots\":{\"3848\":\"ae9d211c-300c-41cb-bf79-2a519e9fb738\"}}];\n",
       "  root.Bokeh.embed.embed_items_notebook(docs_json, render_items);\n",
       "\n",
       "  }\n",
       "  if (root.Bokeh !== undefined) {\n",
       "    embed_document(root);\n",
       "  } else {\n",
       "    var attempts = 0;\n",
       "    var timer = setInterval(function(root) {\n",
       "      if (root.Bokeh !== undefined) {\n",
       "        clearInterval(timer);\n",
       "        embed_document(root);\n",
       "      } else {\n",
       "        attempts++;\n",
       "        if (attempts > 100) {\n",
       "          clearInterval(timer);\n",
       "          console.log(\"Bokeh: ERROR: Unable to run BokehJS code because BokehJS library is missing\");\n",
       "        }\n",
       "      }\n",
       "    }, 10, root)\n",
       "  }\n",
       "})(window);"
      ],
      "application/vnd.bokehjs_exec.v0+json": ""
     },
     "metadata": {
      "application/vnd.bokehjs_exec.v0+json": {
       "id": "3848"
      }
     },
     "output_type": "display_data"
    }
   ],
   "source": [
    "x = np.linspace(0, 30, 200)\n",
    "p = plot_dists(x, st.chi2, (10,), ('n'), 'Chi-square')\n",
    "bokeh.io.show(p)"
   ]
  },
  {
   "cell_type": "markdown",
   "metadata": {},
   "source": [
    "### Student-t/Cauchy distribution\n",
    "\n",
    "**Story.**  We get this distribution whenever we marginalize\n",
    "an unknown $\\sigma$ out of a Gaussian distribution with a Jeffreys\n",
    "prior for $\\sigma$.\n",
    "\n",
    "**Parameters.** The Student-t distribution is peaked, and its\n",
    "peak is located at $m$.  The peak's width is dictated by parameter\n",
    "$s$.  Finally, we define the \"degrees of freedom\" as $n$.\n",
    "\n",
    "**Example.** The story says it all!\n",
    "\n",
    "**Probability density function.**\n",
    "\n",
    "\\begin{align}\n",
    "P(x;m, s, n) = \\frac{\\Gamma\\left(\\frac{n}{2}\\right)}{\\Gamma\\left(\\frac{n+1}{2}\\right)}\\,\n",
    "\\frac{\\sqrt{\\pi n s^2}}{\\left(1 + \\frac{(x-m)^2}{ns^2}\\right)^{\\frac{n+1}{2}}}.\n",
    "\\end{align}\n",
    "\n",
    "**Notes.** For $n\\to \\infty$, we get a Gaussian distribution.\n",
    "When $n = 1$, we get the **Cauchy distribution**,\n",
    "\n",
    "\\begin{align}\n",
    "P(x;m, s) = \\left[\\pi s \\left(\\frac{x-m}{s}\\right)^2\\right]^{-1}.\n",
    "\\end{align}"
   ]
  },
  {
   "cell_type": "code",
   "execution_count": 14,
   "metadata": {},
   "outputs": [
    {
     "data": {
      "text/html": [
       "\n",
       "\n",
       "\n",
       "\n",
       "\n",
       "\n",
       "  <div class=\"bk-root\" id=\"5465824a-eac1-432b-a48f-574621c6c336\" data-root-id=\"4225\"></div>\n"
      ]
     },
     "metadata": {},
     "output_type": "display_data"
    },
    {
     "data": {
      "application/javascript": [
       "(function(root) {\n",
       "  function embed_document(root) {\n",
       "    \n",
       "  var docs_json = {\"18dc0040-5cbe-4b31-9382-49f818f1e893\":{\"defs\":[],\"roots\":{\"references\":[{\"attributes\":{\"children\":[{\"id\":\"4165\"},{\"id\":\"4191\"}]},\"id\":\"4225\",\"type\":\"Row\"},{\"attributes\":{\"below\":[{\"id\":\"4200\"}],\"center\":[{\"id\":\"4203\"},{\"id\":\"4207\"}],\"height\":250,\"left\":[{\"id\":\"4204\"}],\"renderers\":[{\"id\":\"4223\"}],\"title\":{\"id\":\"4448\"},\"toolbar\":{\"id\":\"4211\"},\"width\":325,\"x_range\":{\"id\":\"4192\"},\"x_scale\":{\"id\":\"4196\"},\"y_range\":{\"id\":\"4194\"},\"y_scale\":{\"id\":\"4198\"}},\"id\":\"4191\",\"subtype\":\"Figure\",\"type\":\"Plot\"},{\"attributes\":{\"text\":\"Student-t, n = 5, m = 10, s = 2\"},\"id\":\"4166\",\"type\":\"Title\"},{\"attributes\":{\"data_source\":{\"id\":\"4215\"},\"glyph\":{\"id\":\"4216\"},\"hover_glyph\":null,\"muted_glyph\":null,\"nonselection_glyph\":{\"id\":\"4217\"},\"view\":{\"id\":\"4219\"}},\"id\":\"4218\",\"type\":\"GlyphRenderer\"},{\"attributes\":{},\"id\":\"4453\",\"type\":\"AllLabels\"},{\"attributes\":{},\"id\":\"4462\",\"type\":\"UnionRenderers\"},{\"attributes\":{},\"id\":\"4454\",\"type\":\"BasicTickFormatter\"},{\"attributes\":{},\"id\":\"4170\",\"type\":\"DataRange1d\"},{\"attributes\":{},\"id\":\"4463\",\"type\":\"Selection\"},{\"attributes\":{\"below\":[{\"id\":\"4176\"}],\"center\":[{\"id\":\"4179\"},{\"id\":\"4183\"}],\"height\":250,\"left\":[{\"id\":\"4180\"}],\"renderers\":[{\"id\":\"4218\"}],\"title\":{\"id\":\"4166\"},\"toolbar\":{\"id\":\"4187\"},\"width\":325,\"x_range\":{\"id\":\"4192\"},\"x_scale\":{\"id\":\"4172\"},\"y_range\":{\"id\":\"4170\"},\"y_scale\":{\"id\":\"4174\"}},\"id\":\"4165\",\"subtype\":\"Figure\",\"type\":\"Plot\"},{\"attributes\":{},\"id\":\"4172\",\"type\":\"LinearScale\"},{\"attributes\":{},\"id\":\"4174\",\"type\":\"LinearScale\"},{\"attributes\":{\"axis_label\":\"x\",\"formatter\":{\"id\":\"4454\"},\"major_label_policy\":{\"id\":\"4453\"},\"ticker\":{\"id\":\"4177\"}},\"id\":\"4176\",\"type\":\"LinearAxis\"},{\"attributes\":{\"active_multi\":null,\"tools\":[{\"id\":\"4184\"},{\"id\":\"4185\"},{\"id\":\"4186\"}]},\"id\":\"4187\",\"type\":\"Toolbar\"},{\"attributes\":{},\"id\":\"4177\",\"type\":\"BasicTicker\"},{\"attributes\":{\"axis\":{\"id\":\"4176\"},\"ticker\":null},\"id\":\"4179\",\"type\":\"Grid\"},{\"attributes\":{\"end\":1.05,\"start\":-0.05},\"id\":\"4194\",\"type\":\"Range1d\"},{\"attributes\":{\"axis\":{\"id\":\"4180\"},\"dimension\":1,\"ticker\":null},\"id\":\"4183\",\"type\":\"Grid\"},{\"attributes\":{\"axis_label\":\"P(x; n, m, s)\",\"formatter\":{\"id\":\"4451\"},\"major_label_policy\":{\"id\":\"4450\"},\"ticker\":{\"id\":\"4181\"}},\"id\":\"4180\",\"type\":\"LinearAxis\"},{\"attributes\":{},\"id\":\"4196\",\"type\":\"LinearScale\"},{\"attributes\":{\"axis_label\":\"F(k; n, m, s)\",\"formatter\":{\"id\":\"4457\"},\"major_label_policy\":{\"id\":\"4456\"},\"ticker\":{\"id\":\"4205\"}},\"id\":\"4204\",\"type\":\"LinearAxis\"},{\"attributes\":{},\"id\":\"4181\",\"type\":\"BasicTicker\"},{\"attributes\":{},\"id\":\"4198\",\"type\":\"LinearScale\"},{\"attributes\":{},\"id\":\"4192\",\"type\":\"DataRange1d\"},{\"attributes\":{\"line_color\":\"dodgerblue\",\"line_width\":3,\"x\":{\"field\":\"x\"},\"y\":{\"field\":\"y\"}},\"id\":\"4216\",\"type\":\"Line\"},{\"attributes\":{\"axis_label\":\"x\",\"formatter\":{\"id\":\"4460\"},\"major_label_policy\":{\"id\":\"4459\"},\"ticker\":{\"id\":\"4201\"}},\"id\":\"4200\",\"type\":\"LinearAxis\"},{\"attributes\":{},\"id\":\"4185\",\"type\":\"WheelZoomTool\"},{\"attributes\":{},\"id\":\"4201\",\"type\":\"BasicTicker\"},{\"attributes\":{},\"id\":\"4184\",\"type\":\"PanTool\"},{\"attributes\":{\"axis\":{\"id\":\"4200\"},\"ticker\":null},\"id\":\"4203\",\"type\":\"Grid\"},{\"attributes\":{},\"id\":\"4186\",\"type\":\"ResetTool\"},{\"attributes\":{},\"id\":\"4450\",\"type\":\"AllLabels\"},{\"attributes\":{\"axis\":{\"id\":\"4204\"},\"dimension\":1,\"ticker\":null},\"id\":\"4207\",\"type\":\"Grid\"},{\"attributes\":{},\"id\":\"4205\",\"type\":\"BasicTicker\"},{\"attributes\":{\"line_alpha\":0.1,\"line_color\":\"dodgerblue\",\"line_width\":3,\"x\":{\"field\":\"x\"},\"y\":{\"field\":\"y\"}},\"id\":\"4222\",\"type\":\"Line\"},{\"attributes\":{\"data\":{\"x\":{\"__ndarray__\":\"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\",\"dtype\":\"float64\",\"order\":\"little\",\"shape\":[200]},\"y\":{\"__ndarray__\":\"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\",\"dtype\":\"float64\",\"order\":\"little\",\"shape\":[200]}},\"selected\":{\"id\":\"4463\"},\"selection_policy\":{\"id\":\"4462\"}},\"id\":\"4215\",\"type\":\"ColumnDataSource\"},{\"attributes\":{\"active_multi\":null,\"tools\":[{\"id\":\"4208\"},{\"id\":\"4209\"},{\"id\":\"4210\"}]},\"id\":\"4211\",\"type\":\"Toolbar\"},{\"attributes\":{},\"id\":\"4448\",\"type\":\"Title\"},{\"attributes\":{},\"id\":\"4209\",\"type\":\"WheelZoomTool\"},{\"attributes\":{},\"id\":\"4208\",\"type\":\"PanTool\"},{\"attributes\":{},\"id\":\"4210\",\"type\":\"ResetTool\"},{\"attributes\":{\"line_alpha\":0.1,\"line_color\":\"dodgerblue\",\"line_width\":3,\"x\":{\"field\":\"x\"},\"y\":{\"field\":\"y\"}},\"id\":\"4217\",\"type\":\"Line\"},{\"attributes\":{},\"id\":\"4456\",\"type\":\"AllLabels\"},{\"attributes\":{\"source\":{\"id\":\"4220\"}},\"id\":\"4224\",\"type\":\"CDSView\"},{\"attributes\":{},\"id\":\"4457\",\"type\":\"BasicTickFormatter\"},{\"attributes\":{\"data_source\":{\"id\":\"4220\"},\"glyph\":{\"id\":\"4221\"},\"hover_glyph\":null,\"muted_glyph\":null,\"nonselection_glyph\":{\"id\":\"4222\"},\"view\":{\"id\":\"4224\"}},\"id\":\"4223\",\"type\":\"GlyphRenderer\"},{\"attributes\":{},\"id\":\"4464\",\"type\":\"UnionRenderers\"},{\"attributes\":{},\"id\":\"4460\",\"type\":\"BasicTickFormatter\"},{\"attributes\":{},\"id\":\"4465\",\"type\":\"Selection\"},{\"attributes\":{},\"id\":\"4459\",\"type\":\"AllLabels\"},{\"attributes\":{\"data\":{\"x\":{\"__ndarray__\":\"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\",\"dtype\":\"float64\",\"order\":\"little\",\"shape\":[200]},\"y\":{\"__ndarray__\":\"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\",\"dtype\":\"float64\",\"order\":\"little\",\"shape\":[200]}},\"selected\":{\"id\":\"4465\"},\"selection_policy\":{\"id\":\"4464\"}},\"id\":\"4220\",\"type\":\"ColumnDataSource\"},{\"attributes\":{\"line_color\":\"dodgerblue\",\"line_width\":3,\"x\":{\"field\":\"x\"},\"y\":{\"field\":\"y\"}},\"id\":\"4221\",\"type\":\"Line\"},{\"attributes\":{\"source\":{\"id\":\"4215\"}},\"id\":\"4219\",\"type\":\"CDSView\"},{\"attributes\":{},\"id\":\"4451\",\"type\":\"BasicTickFormatter\"}],\"root_ids\":[\"4225\"]},\"title\":\"Bokeh Application\",\"version\":\"2.3.1\"}};\n",
       "  var render_items = [{\"docid\":\"18dc0040-5cbe-4b31-9382-49f818f1e893\",\"root_ids\":[\"4225\"],\"roots\":{\"4225\":\"5465824a-eac1-432b-a48f-574621c6c336\"}}];\n",
       "  root.Bokeh.embed.embed_items_notebook(docs_json, render_items);\n",
       "\n",
       "  }\n",
       "  if (root.Bokeh !== undefined) {\n",
       "    embed_document(root);\n",
       "  } else {\n",
       "    var attempts = 0;\n",
       "    var timer = setInterval(function(root) {\n",
       "      if (root.Bokeh !== undefined) {\n",
       "        clearInterval(timer);\n",
       "        embed_document(root);\n",
       "      } else {\n",
       "        attempts++;\n",
       "        if (attempts > 100) {\n",
       "          clearInterval(timer);\n",
       "          console.log(\"Bokeh: ERROR: Unable to run BokehJS code because BokehJS library is missing\");\n",
       "        }\n",
       "      }\n",
       "    }, 10, root)\n",
       "  }\n",
       "})(window);"
      ],
      "application/vnd.bokehjs_exec.v0+json": ""
     },
     "metadata": {
      "application/vnd.bokehjs_exec.v0+json": {
       "id": "4225"
      }
     },
     "output_type": "display_data"
    }
   ],
   "source": [
    "x = np.linspace(0, 20, 200)\n",
    "p = plot_dists(x, st.t, (5, 10, 2), ('n', 'm', 's'), 'Student-t')\n",
    "bokeh.io.show(p)"
   ]
  },
  {
   "cell_type": "markdown",
   "metadata": {},
   "source": [
    "### Exponential distribution\n",
    "\n",
    "**Story.** This is the waiting time for an arrival from a\n",
    "Poisson process.  I.e., the inter-arrival time of a Poisson process is\n",
    "Exponentially distributed.\n",
    "\n",
    "**Parameter.** The single parameter is the average arrival\n",
    "rate, $r$.\n",
    "\n",
    "**Example.** The time between conformational switches in a\n",
    "protein is Exponentially distributed (under simple mass action\n",
    "kinetics).\n",
    "\n",
    "**Probability density function.**\n",
    "\\begin{align}\n",
    "P(x;r) = r \\mathrm{e}^{-rx}.\n",
    "\\end{align}\n",
    "\n",
    "Alternatively, we could parametrize it as\n",
    "\n",
    "\\begin{align}\n",
    "P(x;\\lambda) = \\frac{1}{\\lambda}\\, \\mathrm{e}^{-x/\\lambda}.\n",
    "\\end{align}\n",
    "\n",
    "**Notes.** The Exponential distribution is the continuous\n",
    "analog of the Geometric distribution.  The \"rate\" in the Exponential\n",
    "distribution is analogous to the probability of success of the\n",
    "Bernoulli trial. Note also that because they are uncorrelated, the\n",
    "amount of time between any two arrivals is independent of all other\n",
    "inter-arrival times."
   ]
  },
  {
   "cell_type": "code",
   "execution_count": 15,
   "metadata": {},
   "outputs": [
    {
     "data": {
      "text/html": [
       "\n",
       "\n",
       "\n",
       "\n",
       "\n",
       "\n",
       "  <div class=\"bk-root\" id=\"1d0b5f3b-ebda-4132-9b47-8438ee96a5f4\" data-root-id=\"4621\"></div>\n"
      ]
     },
     "metadata": {},
     "output_type": "display_data"
    },
    {
     "data": {
      "application/javascript": [
       "(function(root) {\n",
       "  function embed_document(root) {\n",
       "    \n",
       "  var docs_json = {\"e3dc6078-de2b-496e-92e8-13a7a4c52cae\":{\"defs\":[],\"roots\":{\"references\":[{\"attributes\":{\"children\":[{\"id\":\"4561\"},{\"id\":\"4587\"}]},\"id\":\"4621\",\"type\":\"Row\"},{\"attributes\":{},\"id\":\"4566\",\"type\":\"DataRange1d\"},{\"attributes\":{\"data\":{\"x\":{\"__ndarray__\":\"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\",\"dtype\":\"float64\",\"order\":\"little\",\"shape\":[200]},\"y\":{\"__ndarray__\":\"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\",\"dtype\":\"float64\",\"order\":\"little\",\"shape\":[200]}},\"selected\":{\"id\":\"4880\"},\"selection_policy\":{\"id\":\"4879\"}},\"id\":\"4616\",\"type\":\"ColumnDataSource\"},{\"attributes\":{\"line_color\":\"dodgerblue\",\"line_width\":3,\"x\":{\"field\":\"x\"},\"y\":{\"field\":\"y\"}},\"id\":\"4617\",\"type\":\"Line\"},{\"attributes\":{\"line_alpha\":0.1,\"line_color\":\"dodgerblue\",\"line_width\":3,\"x\":{\"field\":\"x\"},\"y\":{\"field\":\"y\"}},\"id\":\"4618\",\"type\":\"Line\"},{\"attributes\":{\"axis_label\":\"F(k; \\u03bb)\",\"formatter\":{\"id\":\"4872\"},\"major_label_policy\":{\"id\":\"4871\"},\"ticker\":{\"id\":\"4601\"}},\"id\":\"4600\",\"type\":\"LinearAxis\"},{\"attributes\":{},\"id\":\"4863\",\"type\":\"Title\"},{\"attributes\":{\"data\":{\"x\":{\"__ndarray__\":\"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\",\"dtype\":\"float64\",\"order\":\"little\",\"shape\":[200]},\"y\":{\"__ndarray__\":\"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\",\"dtype\":\"float64\",\"order\":\"little\",\"shape\":[200]}},\"selected\":{\"id\":\"4878\"},\"selection_policy\":{\"id\":\"4877\"}},\"id\":\"4611\",\"type\":\"ColumnDataSource\"},{\"attributes\":{\"below\":[{\"id\":\"4572\"}],\"center\":[{\"id\":\"4575\"},{\"id\":\"4579\"}],\"height\":250,\"left\":[{\"id\":\"4576\"}],\"renderers\":[{\"id\":\"4614\"}],\"title\":{\"id\":\"4562\"},\"toolbar\":{\"id\":\"4583\"},\"width\":325,\"x_range\":{\"id\":\"4588\"},\"x_scale\":{\"id\":\"4568\"},\"y_range\":{\"id\":\"4566\"},\"y_scale\":{\"id\":\"4570\"}},\"id\":\"4561\",\"subtype\":\"Figure\",\"type\":\"Plot\"},{\"attributes\":{},\"id\":\"4871\",\"type\":\"AllLabels\"},{\"attributes\":{\"below\":[{\"id\":\"4596\"}],\"center\":[{\"id\":\"4599\"},{\"id\":\"4603\"}],\"height\":250,\"left\":[{\"id\":\"4600\"}],\"renderers\":[{\"id\":\"4619\"}],\"title\":{\"id\":\"4863\"},\"toolbar\":{\"id\":\"4607\"},\"width\":325,\"x_range\":{\"id\":\"4588\"},\"x_scale\":{\"id\":\"4592\"},\"y_range\":{\"id\":\"4590\"},\"y_scale\":{\"id\":\"4594\"}},\"id\":\"4587\",\"subtype\":\"Figure\",\"type\":\"Plot\"},{\"attributes\":{},\"id\":\"4872\",\"type\":\"BasicTickFormatter\"},{\"attributes\":{\"text\":\"Exponential, \\u03bb = 1\"},\"id\":\"4562\",\"type\":\"Title\"},{\"attributes\":{},\"id\":\"4879\",\"type\":\"UnionRenderers\"},{\"attributes\":{\"data_source\":{\"id\":\"4611\"},\"glyph\":{\"id\":\"4612\"},\"hover_glyph\":null,\"muted_glyph\":null,\"nonselection_glyph\":{\"id\":\"4613\"},\"view\":{\"id\":\"4615\"}},\"id\":\"4614\",\"type\":\"GlyphRenderer\"},{\"attributes\":{},\"id\":\"4880\",\"type\":\"Selection\"},{\"attributes\":{},\"id\":\"4588\",\"type\":\"DataRange1d\"},{\"attributes\":{},\"id\":\"4874\",\"type\":\"AllLabels\"},{\"attributes\":{\"active_multi\":null,\"tools\":[{\"id\":\"4580\"},{\"id\":\"4581\"},{\"id\":\"4582\"}]},\"id\":\"4583\",\"type\":\"Toolbar\"},{\"attributes\":{\"axis_label\":\"P(x; \\u03bb)\",\"formatter\":{\"id\":\"4866\"},\"major_label_policy\":{\"id\":\"4865\"},\"ticker\":{\"id\":\"4577\"}},\"id\":\"4576\",\"type\":\"LinearAxis\"},{\"attributes\":{},\"id\":\"4865\",\"type\":\"AllLabels\"},{\"attributes\":{},\"id\":\"4875\",\"type\":\"BasicTickFormatter\"},{\"attributes\":{},\"id\":\"4568\",\"type\":\"LinearScale\"},{\"attributes\":{},\"id\":\"4570\",\"type\":\"LinearScale\"},{\"attributes\":{},\"id\":\"4866\",\"type\":\"BasicTickFormatter\"},{\"attributes\":{\"axis_label\":\"x\",\"formatter\":{\"id\":\"4869\"},\"major_label_policy\":{\"id\":\"4868\"},\"ticker\":{\"id\":\"4573\"}},\"id\":\"4572\",\"type\":\"LinearAxis\"},{\"attributes\":{\"end\":1.05,\"start\":-0.05},\"id\":\"4590\",\"type\":\"Range1d\"},{\"attributes\":{},\"id\":\"4573\",\"type\":\"BasicTicker\"},{\"attributes\":{},\"id\":\"4592\",\"type\":\"LinearScale\"},{\"attributes\":{\"axis\":{\"id\":\"4572\"},\"ticker\":null},\"id\":\"4575\",\"type\":\"Grid\"},{\"attributes\":{},\"id\":\"4594\",\"type\":\"LinearScale\"},{\"attributes\":{\"line_color\":\"dodgerblue\",\"line_width\":3,\"x\":{\"field\":\"x\"},\"y\":{\"field\":\"y\"}},\"id\":\"4612\",\"type\":\"Line\"},{\"attributes\":{\"data_source\":{\"id\":\"4616\"},\"glyph\":{\"id\":\"4617\"},\"hover_glyph\":null,\"muted_glyph\":null,\"nonselection_glyph\":{\"id\":\"4618\"},\"view\":{\"id\":\"4620\"}},\"id\":\"4619\",\"type\":\"GlyphRenderer\"},{\"attributes\":{},\"id\":\"4868\",\"type\":\"AllLabels\"},{\"attributes\":{},\"id\":\"4877\",\"type\":\"UnionRenderers\"},{\"attributes\":{\"axis_label\":\"x\",\"formatter\":{\"id\":\"4875\"},\"major_label_policy\":{\"id\":\"4874\"},\"ticker\":{\"id\":\"4597\"}},\"id\":\"4596\",\"type\":\"LinearAxis\"},{\"attributes\":{},\"id\":\"4869\",\"type\":\"BasicTickFormatter\"},{\"attributes\":{},\"id\":\"4878\",\"type\":\"Selection\"},{\"attributes\":{},\"id\":\"4606\",\"type\":\"ResetTool\"},{\"attributes\":{\"axis\":{\"id\":\"4576\"},\"dimension\":1,\"ticker\":null},\"id\":\"4579\",\"type\":\"Grid\"},{\"attributes\":{},\"id\":\"4597\",\"type\":\"BasicTicker\"},{\"attributes\":{},\"id\":\"4577\",\"type\":\"BasicTicker\"},{\"attributes\":{\"axis\":{\"id\":\"4596\"},\"ticker\":null},\"id\":\"4599\",\"type\":\"Grid\"},{\"attributes\":{},\"id\":\"4581\",\"type\":\"WheelZoomTool\"},{\"attributes\":{\"axis\":{\"id\":\"4600\"},\"dimension\":1,\"ticker\":null},\"id\":\"4603\",\"type\":\"Grid\"},{\"attributes\":{\"source\":{\"id\":\"4611\"}},\"id\":\"4615\",\"type\":\"CDSView\"},{\"attributes\":{},\"id\":\"4580\",\"type\":\"PanTool\"},{\"attributes\":{\"line_alpha\":0.1,\"line_color\":\"dodgerblue\",\"line_width\":3,\"x\":{\"field\":\"x\"},\"y\":{\"field\":\"y\"}},\"id\":\"4613\",\"type\":\"Line\"},{\"attributes\":{},\"id\":\"4601\",\"type\":\"BasicTicker\"},{\"attributes\":{},\"id\":\"4582\",\"type\":\"ResetTool\"},{\"attributes\":{\"active_multi\":null,\"tools\":[{\"id\":\"4604\"},{\"id\":\"4605\"},{\"id\":\"4606\"}]},\"id\":\"4607\",\"type\":\"Toolbar\"},{\"attributes\":{},\"id\":\"4604\",\"type\":\"PanTool\"},{\"attributes\":{},\"id\":\"4605\",\"type\":\"WheelZoomTool\"},{\"attributes\":{\"source\":{\"id\":\"4616\"}},\"id\":\"4620\",\"type\":\"CDSView\"}],\"root_ids\":[\"4621\"]},\"title\":\"Bokeh Application\",\"version\":\"2.3.1\"}};\n",
       "  var render_items = [{\"docid\":\"e3dc6078-de2b-496e-92e8-13a7a4c52cae\",\"root_ids\":[\"4621\"],\"roots\":{\"4621\":\"1d0b5f3b-ebda-4132-9b47-8438ee96a5f4\"}}];\n",
       "  root.Bokeh.embed.embed_items_notebook(docs_json, render_items);\n",
       "\n",
       "  }\n",
       "  if (root.Bokeh !== undefined) {\n",
       "    embed_document(root);\n",
       "  } else {\n",
       "    var attempts = 0;\n",
       "    var timer = setInterval(function(root) {\n",
       "      if (root.Bokeh !== undefined) {\n",
       "        clearInterval(timer);\n",
       "        embed_document(root);\n",
       "      } else {\n",
       "        attempts++;\n",
       "        if (attempts > 100) {\n",
       "          clearInterval(timer);\n",
       "          console.log(\"Bokeh: ERROR: Unable to run BokehJS code because BokehJS library is missing\");\n",
       "        }\n",
       "      }\n",
       "    }, 10, root)\n",
       "  }\n",
       "})(window);"
      ],
      "application/vnd.bokehjs_exec.v0+json": ""
     },
     "metadata": {
      "application/vnd.bokehjs_exec.v0+json": {
       "id": "4621"
      }
     },
     "output_type": "display_data"
    }
   ],
   "source": [
    "x = np.linspace(0, 10, 200)\n",
    "p = plot_dists(x, st.expon, (0,), ('λ',), 'Exponential')\n",
    "p.children[0].title.text = 'Exponential, λ = 1'\n",
    "bokeh.io.show(p)"
   ]
  },
  {
   "cell_type": "markdown",
   "metadata": {},
   "source": [
    "### Gamma distribution\n",
    "\n",
    "**Story.** The amount of time we have to wait for $a$ arrivals\n",
    "of a Poisson process.  More concretely, if we have events, $X_1$,\n",
    "$X_2$, $\\ldots$, $X_a$ that are exponentially distributed,\n",
    "$X_1 + X_2 + \\cdots + X_a$ is gamma distributed.\n",
    "\n",
    "**Parameters.** The number of arrivals, $a$, and the rate of\n",
    "arrivals, $r$.\n",
    "\n",
    "**Example.** Any multistep process where each step happens at\n",
    "the same rate.  This is common in molecular rearrangements, and we\n",
    "will use it in class to describe the nature of processes triggering\n",
    "microtubule catastrophe.\n",
    "\n",
    "**Probability density function.**\n",
    "\n",
    "\\begin{align}\n",
    "P(x;a, r) = \\frac{1}{\\Gamma(a)}\\,\\frac{(rx)^a}{x}\\,\\mathrm{e}^{-rx},\n",
    "\\end{align}\n",
    "\n",
    "where $\\Gamma(a)$ is the gamma function.\n",
    "\n",
    "**Notes.** The Gamma distribution is the continuous\n",
    "analog of the Negative Binomial distribution."
   ]
  },
  {
   "cell_type": "code",
   "execution_count": 16,
   "metadata": {},
   "outputs": [
    {
     "data": {
      "text/html": [
       "\n",
       "\n",
       "\n",
       "\n",
       "\n",
       "\n",
       "  <div class=\"bk-root\" id=\"3786d5fc-e992-4a1c-b3f5-856882c8ab45\" data-root-id=\"5036\"></div>\n"
      ]
     },
     "metadata": {},
     "output_type": "display_data"
    },
    {
     "data": {
      "application/javascript": [
       "(function(root) {\n",
       "  function embed_document(root) {\n",
       "    \n",
       "  var docs_json = {\"61fbc31b-85c8-4411-837f-0eea345f059d\":{\"defs\":[],\"roots\":{\"references\":[{\"attributes\":{\"children\":[{\"id\":\"4976\"},{\"id\":\"5002\"}]},\"id\":\"5036\",\"type\":\"Row\"},{\"attributes\":{\"below\":[{\"id\":\"5011\"}],\"center\":[{\"id\":\"5014\"},{\"id\":\"5018\"}],\"height\":250,\"left\":[{\"id\":\"5015\"}],\"renderers\":[{\"id\":\"5034\"}],\"title\":{\"id\":\"5297\"},\"toolbar\":{\"id\":\"5022\"},\"width\":325,\"x_range\":{\"id\":\"5003\"},\"x_scale\":{\"id\":\"5007\"},\"y_range\":{\"id\":\"5005\"},\"y_scale\":{\"id\":\"5009\"}},\"id\":\"5002\",\"subtype\":\"Figure\",\"type\":\"Plot\"},{\"attributes\":{},\"id\":\"5305\",\"type\":\"AllLabels\"},{\"attributes\":{\"line_color\":\"dodgerblue\",\"line_width\":3,\"x\":{\"field\":\"x\"},\"y\":{\"field\":\"y\"}},\"id\":\"5032\",\"type\":\"Line\"},{\"attributes\":{},\"id\":\"5306\",\"type\":\"BasicTickFormatter\"},{\"attributes\":{},\"id\":\"4981\",\"type\":\"DataRange1d\"},{\"attributes\":{},\"id\":\"5313\",\"type\":\"UnionRenderers\"},{\"attributes\":{},\"id\":\"5314\",\"type\":\"Selection\"},{\"attributes\":{\"axis_label\":\"P(x; a, r)\",\"formatter\":{\"id\":\"5300\"},\"major_label_policy\":{\"id\":\"5299\"},\"ticker\":{\"id\":\"4992\"}},\"id\":\"4991\",\"type\":\"LinearAxis\"},{\"attributes\":{},\"id\":\"5308\",\"type\":\"AllLabels\"},{\"attributes\":{},\"id\":\"4983\",\"type\":\"LinearScale\"},{\"attributes\":{},\"id\":\"5309\",\"type\":\"BasicTickFormatter\"},{\"attributes\":{\"end\":1.05,\"start\":-0.05},\"id\":\"5005\",\"type\":\"Range1d\"},{\"attributes\":{},\"id\":\"4985\",\"type\":\"LinearScale\"},{\"attributes\":{},\"id\":\"5299\",\"type\":\"AllLabels\"},{\"attributes\":{},\"id\":\"5007\",\"type\":\"LinearScale\"},{\"attributes\":{\"axis_label\":\"x\",\"formatter\":{\"id\":\"5303\"},\"major_label_policy\":{\"id\":\"5302\"},\"ticker\":{\"id\":\"4988\"}},\"id\":\"4987\",\"type\":\"LinearAxis\"},{\"attributes\":{},\"id\":\"5300\",\"type\":\"BasicTickFormatter\"},{\"attributes\":{\"axis_label\":\"F(k; a, r)\",\"formatter\":{\"id\":\"5306\"},\"major_label_policy\":{\"id\":\"5305\"},\"ticker\":{\"id\":\"5016\"}},\"id\":\"5015\",\"type\":\"LinearAxis\"},{\"attributes\":{},\"id\":\"4988\",\"type\":\"BasicTicker\"},{\"attributes\":{},\"id\":\"5009\",\"type\":\"LinearScale\"},{\"attributes\":{\"axis\":{\"id\":\"4987\"},\"ticker\":null},\"id\":\"4990\",\"type\":\"Grid\"},{\"attributes\":{\"active_multi\":null,\"tools\":[{\"id\":\"5019\"},{\"id\":\"5020\"},{\"id\":\"5021\"}]},\"id\":\"5022\",\"type\":\"Toolbar\"},{\"attributes\":{\"axis_label\":\"x\",\"formatter\":{\"id\":\"5309\"},\"major_label_policy\":{\"id\":\"5308\"},\"ticker\":{\"id\":\"5012\"}},\"id\":\"5011\",\"type\":\"LinearAxis\"},{\"attributes\":{},\"id\":\"5302\",\"type\":\"AllLabels\"},{\"attributes\":{},\"id\":\"5311\",\"type\":\"UnionRenderers\"},{\"attributes\":{},\"id\":\"5303\",\"type\":\"BasicTickFormatter\"},{\"attributes\":{\"source\":{\"id\":\"5026\"}},\"id\":\"5030\",\"type\":\"CDSView\"},{\"attributes\":{},\"id\":\"5012\",\"type\":\"BasicTicker\"},{\"attributes\":{\"axis\":{\"id\":\"5011\"},\"ticker\":null},\"id\":\"5014\",\"type\":\"Grid\"},{\"attributes\":{\"axis\":{\"id\":\"4991\"},\"dimension\":1,\"ticker\":null},\"id\":\"4994\",\"type\":\"Grid\"},{\"attributes\":{},\"id\":\"5312\",\"type\":\"Selection\"},{\"attributes\":{},\"id\":\"4992\",\"type\":\"BasicTicker\"},{\"attributes\":{},\"id\":\"5003\",\"type\":\"DataRange1d\"},{\"attributes\":{\"active_multi\":null,\"tools\":[{\"id\":\"4995\"},{\"id\":\"4996\"},{\"id\":\"4997\"}]},\"id\":\"4998\",\"type\":\"Toolbar\"},{\"attributes\":{\"axis\":{\"id\":\"5015\"},\"dimension\":1,\"ticker\":null},\"id\":\"5018\",\"type\":\"Grid\"},{\"attributes\":{},\"id\":\"5297\",\"type\":\"Title\"},{\"attributes\":{},\"id\":\"4996\",\"type\":\"WheelZoomTool\"},{\"attributes\":{},\"id\":\"5016\",\"type\":\"BasicTicker\"},{\"attributes\":{},\"id\":\"4995\",\"type\":\"PanTool\"},{\"attributes\":{\"data\":{\"x\":{\"__ndarray__\":\"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\",\"dtype\":\"float64\",\"order\":\"little\",\"shape\":[200]},\"y\":{\"__ndarray__\":\"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\",\"dtype\":\"float64\",\"order\":\"little\",\"shape\":[200]}},\"selected\":{\"id\":\"5312\"},\"selection_policy\":{\"id\":\"5311\"}},\"id\":\"5026\",\"type\":\"ColumnDataSource\"},{\"attributes\":{},\"id\":\"4997\",\"type\":\"ResetTool\"},{\"attributes\":{\"line_alpha\":0.1,\"line_color\":\"dodgerblue\",\"line_width\":3,\"x\":{\"field\":\"x\"},\"y\":{\"field\":\"y\"}},\"id\":\"5028\",\"type\":\"Line\"},{\"attributes\":{},\"id\":\"5020\",\"type\":\"WheelZoomTool\"},{\"attributes\":{\"data\":{\"x\":{\"__ndarray__\":\"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\",\"dtype\":\"float64\",\"order\":\"little\",\"shape\":[200]},\"y\":{\"__ndarray__\":\"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\",\"dtype\":\"float64\",\"order\":\"little\",\"shape\":[200]}},\"selected\":{\"id\":\"5314\"},\"selection_policy\":{\"id\":\"5313\"}},\"id\":\"5031\",\"type\":\"ColumnDataSource\"},{\"attributes\":{},\"id\":\"5019\",\"type\":\"PanTool\"},{\"attributes\":{},\"id\":\"5021\",\"type\":\"ResetTool\"},{\"attributes\":{\"text\":\"Gamma, a = 3, r = 1\"},\"id\":\"4977\",\"type\":\"Title\"},{\"attributes\":{\"line_color\":\"dodgerblue\",\"line_width\":3,\"x\":{\"field\":\"x\"},\"y\":{\"field\":\"y\"}},\"id\":\"5027\",\"type\":\"Line\"},{\"attributes\":{\"line_alpha\":0.1,\"line_color\":\"dodgerblue\",\"line_width\":3,\"x\":{\"field\":\"x\"},\"y\":{\"field\":\"y\"}},\"id\":\"5033\",\"type\":\"Line\"},{\"attributes\":{\"source\":{\"id\":\"5031\"}},\"id\":\"5035\",\"type\":\"CDSView\"},{\"attributes\":{\"data_source\":{\"id\":\"5031\"},\"glyph\":{\"id\":\"5032\"},\"hover_glyph\":null,\"muted_glyph\":null,\"nonselection_glyph\":{\"id\":\"5033\"},\"view\":{\"id\":\"5035\"}},\"id\":\"5034\",\"type\":\"GlyphRenderer\"},{\"attributes\":{\"data_source\":{\"id\":\"5026\"},\"glyph\":{\"id\":\"5027\"},\"hover_glyph\":null,\"muted_glyph\":null,\"nonselection_glyph\":{\"id\":\"5028\"},\"view\":{\"id\":\"5030\"}},\"id\":\"5029\",\"type\":\"GlyphRenderer\"},{\"attributes\":{\"below\":[{\"id\":\"4987\"}],\"center\":[{\"id\":\"4990\"},{\"id\":\"4994\"}],\"height\":250,\"left\":[{\"id\":\"4991\"}],\"renderers\":[{\"id\":\"5029\"}],\"title\":{\"id\":\"4977\"},\"toolbar\":{\"id\":\"4998\"},\"width\":325,\"x_range\":{\"id\":\"5003\"},\"x_scale\":{\"id\":\"4983\"},\"y_range\":{\"id\":\"4981\"},\"y_scale\":{\"id\":\"4985\"}},\"id\":\"4976\",\"subtype\":\"Figure\",\"type\":\"Plot\"}],\"root_ids\":[\"5036\"]},\"title\":\"Bokeh Application\",\"version\":\"2.3.1\"}};\n",
       "  var render_items = [{\"docid\":\"61fbc31b-85c8-4411-837f-0eea345f059d\",\"root_ids\":[\"5036\"],\"roots\":{\"5036\":\"3786d5fc-e992-4a1c-b3f5-856882c8ab45\"}}];\n",
       "  root.Bokeh.embed.embed_items_notebook(docs_json, render_items);\n",
       "\n",
       "  }\n",
       "  if (root.Bokeh !== undefined) {\n",
       "    embed_document(root);\n",
       "  } else {\n",
       "    var attempts = 0;\n",
       "    var timer = setInterval(function(root) {\n",
       "      if (root.Bokeh !== undefined) {\n",
       "        clearInterval(timer);\n",
       "        embed_document(root);\n",
       "      } else {\n",
       "        attempts++;\n",
       "        if (attempts > 100) {\n",
       "          clearInterval(timer);\n",
       "          console.log(\"Bokeh: ERROR: Unable to run BokehJS code because BokehJS library is missing\");\n",
       "        }\n",
       "      }\n",
       "    }, 10, root)\n",
       "  }\n",
       "})(window);"
      ],
      "application/vnd.bokehjs_exec.v0+json": ""
     },
     "metadata": {
      "application/vnd.bokehjs_exec.v0+json": {
       "id": "5036"
      }
     },
     "output_type": "display_data"
    }
   ],
   "source": [
    "x = np.linspace(0, 10, 200)\n",
    "p = plot_dists(x, st.gamma, (3, 0), ('a', 'r'), 'Gamma')\n",
    "p.children[0].title.text = 'Gamma, a = 3, r = 1'\n",
    "bokeh.io.show(p)"
   ]
  },
  {
   "cell_type": "markdown",
   "metadata": {},
   "source": [
    "### Weibull distribution\n",
    "\n",
    "**Story.** Distribution of $x = y^\\beta$ if $y$ is\n",
    "exponentially distributed.  For $\\beta > 1$, the longer we have\n",
    "waited, the more likely the event is to come, and vice versa for\n",
    "$\\beta < 1$.\n",
    "\n",
    "**Parameters.** There are two parameters, both strictly\n",
    "positive: the shape parameter $\\beta$, which dictates the shape of the\n",
    "curve, and the scale parameter $\\lambda$, which dictates the rate of\n",
    "arrivals of the event.\n",
    "\n",
    "**Example.** This is a model for aging.  The longer an\n",
    "organism lives, the more likely it is to die.\n",
    "\n",
    "**Probability density function.**\n",
    "\n",
    "\\begin{align}\n",
    "P(x;\\lambda, \\beta) = \\frac{\\beta}{\\lambda}\\left(\\frac{x}{\\lambda}\\right)^{\\beta - 1}\\,\n",
    "\\mathrm{e}^{-(x/\\lambda)^\\beta}.\n",
    "\\end{align}"
   ]
  },
  {
   "cell_type": "code",
   "execution_count": 17,
   "metadata": {},
   "outputs": [
    {
     "ename": "AttributeError",
     "evalue": "module 'scipy.stats' has no attribute 'frechet_r'",
     "output_type": "error",
     "traceback": [
      "\u001b[1;31m---------------------------------------------------------------------------\u001b[0m",
      "\u001b[1;31mAttributeError\u001b[0m                            Traceback (most recent call last)",
      "\u001b[1;32m<ipython-input-17-e540c0e271fc>\u001b[0m in \u001b[0;36m<module>\u001b[1;34m\u001b[0m\n\u001b[0;32m      1\u001b[0m \u001b[0mx\u001b[0m \u001b[1;33m=\u001b[0m \u001b[0mnp\u001b[0m\u001b[1;33m.\u001b[0m\u001b[0mlinspace\u001b[0m\u001b[1;33m(\u001b[0m\u001b[1;36m0\u001b[0m\u001b[1;33m,\u001b[0m \u001b[1;36m3\u001b[0m\u001b[1;33m,\u001b[0m \u001b[1;36m200\u001b[0m\u001b[1;33m)\u001b[0m\u001b[1;33m\u001b[0m\u001b[1;33m\u001b[0m\u001b[0m\n\u001b[1;32m----> 2\u001b[1;33m \u001b[0mp\u001b[0m \u001b[1;33m=\u001b[0m \u001b[0mplot_dists\u001b[0m\u001b[1;33m(\u001b[0m\u001b[0mx\u001b[0m\u001b[1;33m,\u001b[0m \u001b[0mst\u001b[0m\u001b[1;33m.\u001b[0m\u001b[0mfrechet_r\u001b[0m\u001b[1;33m,\u001b[0m \u001b[1;33m(\u001b[0m\u001b[1;36m3\u001b[0m\u001b[1;33m,\u001b[0m \u001b[1;36m0\u001b[0m\u001b[1;33m)\u001b[0m\u001b[1;33m,\u001b[0m \u001b[1;33m(\u001b[0m\u001b[1;34m'β'\u001b[0m\u001b[1;33m,\u001b[0m \u001b[1;34m'λ'\u001b[0m\u001b[1;33m)\u001b[0m\u001b[1;33m,\u001b[0m \u001b[1;34m'Weibull'\u001b[0m\u001b[1;33m)\u001b[0m\u001b[1;33m\u001b[0m\u001b[1;33m\u001b[0m\u001b[0m\n\u001b[0m\u001b[0;32m      3\u001b[0m \u001b[0mp\u001b[0m\u001b[1;33m.\u001b[0m\u001b[0mchildren\u001b[0m\u001b[1;33m[\u001b[0m\u001b[1;36m0\u001b[0m\u001b[1;33m]\u001b[0m\u001b[1;33m.\u001b[0m\u001b[0mtitle\u001b[0m\u001b[1;33m.\u001b[0m\u001b[0mtext\u001b[0m \u001b[1;33m=\u001b[0m \u001b[1;34m'Weibull, β = 3, λ = 1'\u001b[0m\u001b[1;33m\u001b[0m\u001b[1;33m\u001b[0m\u001b[0m\n\u001b[0;32m      4\u001b[0m \u001b[0mbokeh\u001b[0m\u001b[1;33m.\u001b[0m\u001b[0mio\u001b[0m\u001b[1;33m.\u001b[0m\u001b[0mshow\u001b[0m\u001b[1;33m(\u001b[0m\u001b[0mp\u001b[0m\u001b[1;33m)\u001b[0m\u001b[1;33m\u001b[0m\u001b[1;33m\u001b[0m\u001b[0m\n",
      "\u001b[1;31mAttributeError\u001b[0m: module 'scipy.stats' has no attribute 'frechet_r'"
     ]
    }
   ],
   "source": [
    "x = np.linspace(0, 3, 200)\n",
    "p = plot_dists(x, st.frechet_r, (3, 0), ('β', 'λ'), 'Weibull')\n",
    "p.children[0].title.text = 'Weibull, β = 3, λ = 1'\n",
    "bokeh.io.show(p)"
   ]
  }
 ],
 "metadata": {
  "anaconda-cloud": {},
  "kernelspec": {
   "display_name": "Python 3",
   "language": "python",
   "name": "python3"
  },
  "language_info": {
   "codemirror_mode": {
    "name": "ipython",
    "version": 3
   },
   "file_extension": ".py",
   "mimetype": "text/x-python",
   "name": "python",
   "nbconvert_exporter": "python",
   "pygments_lexer": "ipython3",
   "version": "3.8.5"
  }
 },
 "nbformat": 4,
 "nbformat_minor": 1
}
