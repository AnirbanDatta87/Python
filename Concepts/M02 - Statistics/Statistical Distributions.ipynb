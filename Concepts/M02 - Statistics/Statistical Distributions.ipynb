{
 "cells": [
  {
   "cell_type": "code",
   "execution_count": 1,
   "metadata": {},
   "outputs": [],
   "source": [
    "# Essential Libraries\n",
    "import os\n",
    "import sys\n",
    "import numpy as np\n",
    "import pandas as pd\n",
    "import datetime\n",
    "import random\n",
    "\n",
    "# Visualization\n",
    "import seaborn as sns\n",
    "import matplotlib as mpl\n",
    "import matplotlib.pyplot as plt\n",
    "mpl.rc('axes', labelsize=14)\n",
    "mpl.rc('xtick', labelsize=12)\n",
    "mpl.rc('ytick', labelsize=12)\n",
    "sns.set_style(\"whitegrid\");\n",
    "sns.set_color_codes(palette='pastel');\n",
    "\n",
    "# Statistics\n",
    "from scipy.stats import skew, norm\n",
    "from scipy.special import boxcox1p\n",
    "from scipy.stats import boxcox_normmax\n",
    "\n",
    "pd.set_option('display.float_format', lambda x: '%.3f' % x);\n",
    "pd.set_option('display.max_columns', None);\n",
    "pd.options.display.max_seq_items = 8000;\n",
    "pd.options.display.max_rows = 8000;\n",
    "\n",
    "import warnings\n",
    "warnings.filterwarnings(action=\"ignore\");\n",
    "\n",
    "PROJECT_ROOT_DIR = \".\"\n",
    "DATA_DIR = os.path.join(PROJECT_ROOT_DIR, \"data\")\n",
    "IMAGE_DIR = os.path.join(PROJECT_ROOT_DIR, \"img\")\n",
    "\n",
    "from IPython.display import Image\n",
    "for d in [DATA_DIR, IMAGE_DIR]:\n",
    "    if not os.path.exists(d):\n",
    "        os.mkdir(d)\n",
    "        \n",
    "def save_fig(fig_id, tight_layout=True, fig_extension=\"png\", resolution=300):\n",
    "    path = os.path.join(IMAGE_DIR, fig_id + \".\" + fig_extension)\n",
    "    print(\"Saving figure\", fig_id)\n",
    "    if tight_layout:\n",
    "        plt.tight_layout()\n",
    "    plt.savefig(path, format=fig_extension, dpi=resolution)"
   ]
  },
  {
   "cell_type": "code",
   "execution_count": 2,
   "metadata": {},
   "outputs": [],
   "source": [
    "# !pip install bokeh"
   ]
  },
  {
   "cell_type": "code",
   "execution_count": 3,
   "metadata": {},
   "outputs": [],
   "source": [
    "from pprint import pprint\n",
    "\n",
    "#This is a little recursive helper function converts all nested ndarrays to python list of lists so that pretty printer knows what to do.\n",
    "\n",
    "def arrayToList(arr):\n",
    "    if type(arr) == type(np.array):\n",
    "        #If the passed type is an ndarray then convert it to a list and\n",
    "        #recursively convert all nested types\n",
    "        return arrayToList(arr.tolist())\n",
    "    else:\n",
    "        #if item isn't an ndarray leave it as is.\n",
    "        return arr\n",
    "\n",
    "#suppress exponential notation, define an appropriate float formatter\n",
    "#specify stdout line width and let pretty print do the work\n",
    "np.set_printoptions(suppress=True, formatter={'float_kind':'{:16.8f}'.format}, linewidth=120)"
   ]
  },
  {
   "cell_type": "markdown",
   "metadata": {},
   "source": [
    "# Statistical Distributions\n",
    "\n",
    "## Random Variables\n",
    "A random variable is a variable whose possible values are numerical outcomes of a random phenomenon. There are two types of random variables, <b>discrete</b> and <b>continuous</b>.\n",
    "\n",
    "### DISCRETE Random Variables\n",
    "A <b>discrete random variable</b> is one which may take on only a <b>countable</b> number of <b>distinct</b> values and thus can be quantified. \n",
    "* Example: you can define a random variable X to be the number which comes up when you roll a fair dice. X can take values : <code>[1,2,3,4,5,6]</code> and therefore is a discrete random variable.\n",
    "\n",
    "### Probability Mass Functions\n",
    "The probability distribution of a discrete random variable is a list of probabilities associated with each of its possible values. It is also sometimes called the probability function or the probability mass function. To have a mathematical sense, suppose a random variable $\\mathbf{X}$ may take $\\mathbf{k}$ different values, with the probability that $\\mathbf{X} = \\mathbf{x}_i$ defined to be $\\mathbf{P(\\mathbf{X} = \\mathbf{x}_i)}=\\mathbf{p}_i$. Then the probabilities $\\mathbf{p}_i$ must satisfy the following:\n",
    "\n",
    "$$\n",
    "\\text{1.} 0 < \\mathbf{p}_i < 1 \\hspace{1cm}- \\text{for each i.}\\\\\n",
    "\\text{2.} \\mathbf{p}_1 + \\mathbf{p}_2 + ... + \\mathbf{p}_k =1.\n",
    "$$\n",
    "\n",
    "For outcomes that can be ordered, the probability of an event equal to or less than a given value is defined by the cumulative distribution function, or CDF for short. The inverse of the CDF is called the percentage-point function and will give the discrete outcome that is less than or equal to a probability.\n",
    "\n",
    "* <b>PMF</b>: Probability Mass Function, returns the probability of a given outcome.\n",
    "* <b>CDF</b>: Cumulative Distribution Function, returns the probability of a value less than or equal to a given outcome.\n",
    "* <b>PPF</b>: Percent-Point Function, returns a discrete value that is less than or equal to the given probability.\n",
    "\n",
    "Remember that in general, for a discrete distribution\n",
    "\n",
    "\\begin{align}\n",
    "CDF(k) = \\sum_{k'=k_\\mathrm{min}}^k P(k'),\n",
    "\\end{align}\n",
    "\n",
    "and for a continuous distribution,\n",
    "\n",
    "\\begin{align}\n",
    "CDF(x) = \\int_{-\\infty}^x \\mathrm{d}x'\\,P(x').\n",
    "\\end{align}\n",
    "\n",
    "Examples of Discrete Probability Distributions:\n",
    "* Bernoulli distribution \n",
    "* Binomial (Multinomial) distribution \n",
    "* Poisson distribution\n",
    "\n",
    "### CONTINUOUS Random Variables\n",
    "A <b>continuous random variable</b> is one which takes an infinite number of possible values. For example, you can define a random variable $\\mathbf{X} to be the height of students in a class. Since the continuous random variable is defined over an interval of values, it is represented by the area under a curve (or the integral).\n",
    "\n",
    "### Probability Density Functions\n",
    "The probability distribution of a continuous random variable, known as probability distribution functions, are the functions that take on continuous values. The probability of observing any single value is equal to 0 since the number of values which may be assumed by the random variable is infinite. For example, a random variable X may take all values over an interval of real numbers. Then the probability that $\\mathbf{X}$ is in the set of outcomes $A$, $P(A)$, is defined to be the area above A and under a curve. The curve, which represents a function $\\mathbf{p(x)}$, must satisfy the following:\n",
    "\n",
    "$$\n",
    "\\text{1.} \\mathbf{p(x)} > 0 \\hspace{1cm}- \\text{for all x.}\\\\\n",
    "\\text{2.} \\int_a^b{p(x).dx} = 1 \\hspace{1cm}- \\text{or the AUC of PDF = 1.}\\\\\n",
    "$$\n",
    "\n",
    "A curve meeting these requirements is known as a <b>density curve</b>.\n",
    "\n",
    "Examples:\n",
    "* Normal distribution\n",
    "* Exponential distribution\n",
    "* Beta distribution\n",
    "* Gamma distribution"
   ]
  },
  {
   "cell_type": "markdown",
   "metadata": {},
   "source": [
    "## <font color = 'green'>Review of Statistical Measures</font>\n",
    "### Expectation Value:\n",
    "Let $\\mathbf{x}$ be a continuous random variable with range $[a; b]$ and probability density function $f(x)$. The expected value of $\\mathbf{x}$ is defined by:\n",
    "\n",
    "$\n",
    "\\mathbf{E}(\\mathbf{x}) = \\sum\\limits_{i=1}^{m}{\\mathbf{p}(\\mathbf{x}_i).\\mathbf{x}_i} \\hspace{2cm}- \\text{for Discrete x.}\\\\\n",
    "\\mathbf{E}(\\mathbf{x}) = \\int_a^b{x.f(x).dx} \\hspace{2cm}- \\text{for Continuous x.}\n",
    "$\n",
    "\n",
    "### Variance:\n",
    "\n",
    "Variance($\\sigma^2$) is the measure of how far each number from the set of random numbers is from the mean. The square root of the variance is called the standard deviation.\n",
    "\n",
    "Let $\\mathbf{x}$ be a random variable with mean $\\mu$.The variance of $\\mathbf{x}$ is defined by:\n",
    "\n",
    "$\n",
    "Var(\\mathbf{x}) = \\mathbf{E}{((\\mathbf{x} - \\mu)^2)} = \\sum\\limits_{i=1}^{m}{\\mathbf{p}(\\mathbf{x}_i).{(\\mathbf{x}_i} - \\mu)^2} = \\mathbf{E}{(\\mathbf{x}^2)} - \\mathbf{E}(\\mathbf{x})^2\n",
    "$\n",
    "\n",
    "### Standard Deviation:\n",
    "The standard deviation $\\boldsymbol{\\sigma}$ of $\\mathbf{x}$ is defined by:\n",
    "\n",
    "$\n",
    "\\boldsymbol{\\sigma} = \\sqrt{Var(\\mathbf{x})} = \\sqrt{\\sum\\limits_{i=1}^{m}{\\mathbf{p}(\\mathbf{x}_i).{(\\mathbf{x}_i} - \\mu)^2}}\n",
    "$\n",
    "\n",
    "### Covariance:\n",
    "Covariance is a measure of how much two random variables vary together. Suppose X and Y are random variables with means $\\mu_{\\mathbf{x}}$ and $\\mu_{\\mathbf{y}}$ . The covariance of X and Y is defined as:\n",
    "\n",
    "$\n",
    "Cov(X,Y) = \\mathbf{E}{((X - \\mu_{\\mathbf{x}})(Y - \\mu_{\\mathbf{y}}))}\n",
    "$\n",
    "\n",
    "Since covariance is defined as an expected value we compute it in the usual way as a sum or integral.\n",
    "\n",
    "<b>Discrete Case:</b> If X and Y have joint pmf $\\mathbf{p}(x_i,y_j)$, then:\n",
    "\n",
    "$\n",
    "Cov(X,Y) = \\mathbf{E}{((X - \\mu_{\\mathbf{x}})(Y - \\mu_{\\mathbf{y}}))} = \\sum\\limits_{i=1}^{n} \\sum\\limits_{j=1}^{m}{\\mathbf{p}(x_i,y_j).{(x_i - \\mu_{\\mathbf{x}})(y_j - \\mu_{\\mathbf{y}})}} = [\\sum\\limits_{i=1}^{n} \\sum\\limits_{j=1}^{m}{\\mathbf{p}(x_i,y_j).x_i.y_j}] - \\mu_{\\mathbf{x}}.\\mu_{\\mathbf{y}}\n",
    "$\n",
    "\n",
    "<b>Continuous Case:</b> If X and Y have joint pdf $f(x,y)$, then:\n",
    "\n",
    "$\n",
    "Cov(X,Y) = \\mathbf{E}{((X - \\mu_{\\mathbf{x}})(Y - \\mu_{\\mathbf{y}}))} = \\int_a^b \\int_c^d{(x - \\mu_{\\mathbf{x}})(y - \\mu_{\\mathbf{y}}).f(x,y).dxdy} = [\\int_a^b \\int_c^d{xy.f(x,y).dxdy}] - \\mu_x.\\mu_y \n",
    "$\n",
    "\n",
    "### Correlation:\n",
    "The units of covariance $Cov(X,Y)$ are 'units of X times units of Y'. This makes it hard to compare covariances: if we change scales, then the covariance changes as well. Correlation is a way to remove the scale from the covariance.\n",
    "\n",
    " - <b>Definition:</b> \n",
    " The correlation coefficient between X and Y is defined by:\n",
    " \n",
    " $\n",
    " Cor(X,Y) = \\rho_{\\mathbf{x}\\mathbf{y}} = \\frac{Cov(X,Y)}{\\sigma_{\\mathbf{x}}\\sigma_{\\mathbf{y}}}\n",
    " $"
   ]
  },
  {
   "cell_type": "markdown",
   "metadata": {},
   "source": [
    "## Statistical and Graphical Libraries and Functions"
   ]
  },
  {
   "cell_type": "code",
   "execution_count": 4,
   "metadata": {},
   "outputs": [],
   "source": [
    "import scipy.stats as st\n",
    "\n",
    "import bokeh.io\n",
    "import bokeh.layouts\n",
    "import bokeh.plotting\n",
    "from bokeh.plotting import show\n",
    "from bokeh.io import output_notebook"
   ]
  },
  {
   "cell_type": "code",
   "execution_count": 5,
   "metadata": {},
   "outputs": [],
   "source": [
    "def plot_pmf(p, x, dist, params, **kwargs):\n",
    "    \"\"\"\n",
    "    Generate plot of PMF at specified values of x.\n",
    "    \"\"\"\n",
    "    y = dist.pmf(x, *params, **kwargs)\n",
    "    p.circle(x, y, size=7, color='dodgerblue')\n",
    "    p.segment(x0=x, x1=x, y0=0, y1=y, line_width=3, color='dodgerblue')\n",
    "    return p\n",
    "\n",
    "\n",
    "def plot_pdf(p, x, dist, params, **kwargs):\n",
    "    \"\"\"\n",
    "    Generate plot of PDF at specified values of x.\n",
    "    \"\"\"\n",
    "    y = dist.pdf(x, *params, **kwargs)\n",
    "    p.line(x, y, line_width=1, color='dodgerblue')\n",
    "    return p\n",
    "\n",
    "\n",
    "def plot_discrete_cdf(p, x, dist, params, show_segments=False, **kwargs):\n",
    "    \"\"\"\n",
    "    Plot CDF of discrete distribution.\n",
    "    \"\"\"\n",
    "    y = dist.cdf(x, *params, **kwargs)\n",
    "    if show_segments:\n",
    "        p.circle(x[:-1], y[:-1], size=7, color='dodgerblue')\n",
    "        p.segment(x0=x[:-1], x1=x[1:], y0=y[:-1], y1=y[:-1], line_width=3,\n",
    "                  color='dodgerblue')\n",
    "    else:\n",
    "        p.circle(x, y, size=3, color='dodgerblue')\n",
    "    return p\n",
    "\n",
    "\n",
    "def plot_continuous_cdf(p, x, dist, params, **kwargs):\n",
    "    \"\"\"\n",
    "    Plot CDF of continuous distribution.\n",
    "    \"\"\"\n",
    "    y = dist.cdf(x, *params, **kwargs)\n",
    "    p.line(x, y, line_width=3, color='dodgerblue')\n",
    "    return p\n",
    "\n",
    "\n",
    "def plot_dists(x, dist, params, param_names, dist_name, **kwargs):\n",
    "    \"\"\"\n",
    "    Plot PDF/PMF and CDF next to each other.\n",
    "    \"\"\"\n",
    "    # Tools for plots\n",
    "    tools='pan,wheel_zoom,reset'\n",
    "    \n",
    "    # Title for plots\n",
    "    t1 = dist_name + ', ' \\\n",
    "            + ''.join([param_names[i] + ' = ' + str(params[i]) + ', ' \n",
    "                                      for i in range(len(params) - 1)])\n",
    "    t1 += param_names[-1] + ' = ' + str(params[-1])\n",
    "    \n",
    "    # Last half of y-axis label\n",
    "    ylabel = ''.join(pname + ', ' for pname in param_names[:-1])\n",
    "    ylabel += param_names[-1] + ')'\n",
    "    \n",
    "    # Set up plots\n",
    "    p1 = bokeh.plotting.figure(width=480, height=400, tools=tools, title=t1)\n",
    "    p2 = bokeh.plotting.figure(width=480, height=400, tools=tools, \n",
    "                               y_range=[-0.05, 1.05])\n",
    "\n",
    "    # Make plots\n",
    "    if hasattr(dist, 'pmf'):\n",
    "        p1 = plot_pmf(p1, x, dist, params, **kwargs)\n",
    "        p1.xaxis.axis_label = 'k'\n",
    "        p1.yaxis.axis_label = 'P(k; ' + ylabel\n",
    "        p2 = plot_discrete_cdf(p2, x, dist, params, **kwargs)\n",
    "        p2.xaxis.axis_label = 'k'\n",
    "        p2.yaxis.axis_label = 'F(k; ' + ylabel\n",
    "    else:\n",
    "        p1 = plot_pdf(p1, x, dist, params, **kwargs)\n",
    "        p1.xaxis.axis_label = 'x'\n",
    "        p1.yaxis.axis_label = 'P(x; ' + ylabel\n",
    "        p2.yaxis.axis_label = 'F(x; ' + ylabel\n",
    "        p2 = plot_continuous_cdf(p2, x, dist, params, **kwargs)\n",
    "        p2.xaxis.axis_label = 'x'\n",
    "        p2.yaxis.axis_label = 'F(k; ' + ylabel\n",
    "        \n",
    "    # Link the x-axes\n",
    "    p1.x_range = p2.x_range\n",
    "\n",
    "    return bokeh.layouts.row([p1, p2])"
   ]
  },
  {
   "cell_type": "markdown",
   "metadata": {},
   "source": [
    "## Bernoulli Distribution\n",
    "The Bernoulli distribution is a discrete probability distribution that covers a case where an event will have a binary outcome as either a 0 or 1.\n",
    "\n",
    "* x in {0, 1}\n",
    "\n",
    "A “Bernoulli trial” is an experiment or case where the outcome follows a Bernoulli distribution. The distribution and the trial are named after the Swiss mathematician Jacob Bernoulli.\n",
    "\n",
    "Some common examples of Bernoulli trials include:\n",
    "\n",
    "* The single flip of a coin that may have a heads (0) or a tails (1) outcome.\n",
    "* A single birth of either a boy (0) or a girl (1).\n",
    "\n",
    "A common example of a Bernoulli trial in machine learning might be a binary classification of a single example as the first class (0) or the second class (1).\n",
    "\n",
    "The distribution can be summarized by a single variable p that defines the probability of an outcome 1. Given this parameter, the probability for each event can be calculated as follows:\n",
    "\n",
    "P(x=1) = p\n",
    "P(x=0) = 1 – p\n",
    "\n",
    "If $\\mathbf{X}$ is a random variable with this distribution, then:\n",
    "\n",
    "Pr(x=1) = p = 1 - Pr(x=0) = 1 - q.\n",
    "\n",
    "The probability mass function $f$ of this distribution, over possible outcomes k, is:\n",
    "\n",
    "$\n",
    "f(k; p) =\n",
    "  \\begin{cases}\n",
    "    p & \\text{if k = 1} \\\\\n",
    "    q = 1-p & \\text{if k = 0}\n",
    "  \\end{cases}\n",
    "$\n",
    "\n",
    "This can also be expressed as:\n",
    "\n",
    "$\n",
    "f(k; p) =p^{k}(1 - p)^{(1 - k)} \\hspace{1cm} \\forall k \\in [0, 1]\n",
    "$\n",
    "\n",
    "\n",
    "In the case of flipping a fair coin, the value of p would be 0.5, giving a 50% probability of each outcome.\n",
    "\n",
    "### Summary Statistics\n",
    "\n",
    "\\begin{align}\n",
    "\\text{Mean} &= \\langle x \\rangle &= \\mathbf{E}(x) &= \\sum_i x_i*P(x_i) = \\mathbf{p}\n",
    "\\end{align}\n",
    "\n",
    "\\begin{align}\n",
    "\\text{Variance} &= \\left\\langle x^2 \\right\\rangle - \\langle x \\rangle^2\n",
    "= \\left\\langle(x - \\langle x \\rangle)^2 \\right\\rangle = \\sum\\limits_{i=1}^{m}{\\mathbf{p}(\\mathbf{x}_i).{(\\mathbf{x}_i} - \\mu)^2}  = \\mathbf{p}(1-\\mathbf{p})\n",
    "\\end{align}"
   ]
  },
  {
   "cell_type": "code",
   "execution_count": 6,
   "metadata": {},
   "outputs": [
    {
     "data": {
      "text/html": [
       "\n",
       "    <div class=\"bk-root\">\n",
       "        <a href=\"https://bokeh.org\" target=\"_blank\" class=\"bk-logo bk-logo-small bk-logo-notebook\"></a>\n",
       "        <span id=\"1001\">Loading BokehJS ...</span>\n",
       "    </div>"
      ]
     },
     "metadata": {},
     "output_type": "display_data"
    },
    {
     "data": {
      "application/javascript": [
       "\n",
       "(function(root) {\n",
       "  function now() {\n",
       "    return new Date();\n",
       "  }\n",
       "\n",
       "  var force = true;\n",
       "\n",
       "  if (typeof root._bokeh_onload_callbacks === \"undefined\" || force === true) {\n",
       "    root._bokeh_onload_callbacks = [];\n",
       "    root._bokeh_is_loading = undefined;\n",
       "  }\n",
       "\n",
       "  var JS_MIME_TYPE = 'application/javascript';\n",
       "  var HTML_MIME_TYPE = 'text/html';\n",
       "  var EXEC_MIME_TYPE = 'application/vnd.bokehjs_exec.v0+json';\n",
       "  var CLASS_NAME = 'output_bokeh rendered_html';\n",
       "\n",
       "  /**\n",
       "   * Render data to the DOM node\n",
       "   */\n",
       "  function render(props, node) {\n",
       "    var script = document.createElement(\"script\");\n",
       "    node.appendChild(script);\n",
       "  }\n",
       "\n",
       "  /**\n",
       "   * Handle when an output is cleared or removed\n",
       "   */\n",
       "  function handleClearOutput(event, handle) {\n",
       "    var cell = handle.cell;\n",
       "\n",
       "    var id = cell.output_area._bokeh_element_id;\n",
       "    var server_id = cell.output_area._bokeh_server_id;\n",
       "    // Clean up Bokeh references\n",
       "    if (id != null && id in Bokeh.index) {\n",
       "      Bokeh.index[id].model.document.clear();\n",
       "      delete Bokeh.index[id];\n",
       "    }\n",
       "\n",
       "    if (server_id !== undefined) {\n",
       "      // Clean up Bokeh references\n",
       "      var cmd = \"from bokeh.io.state import curstate; print(curstate().uuid_to_server['\" + server_id + \"'].get_sessions()[0].document.roots[0]._id)\";\n",
       "      cell.notebook.kernel.execute(cmd, {\n",
       "        iopub: {\n",
       "          output: function(msg) {\n",
       "            var id = msg.content.text.trim();\n",
       "            if (id in Bokeh.index) {\n",
       "              Bokeh.index[id].model.document.clear();\n",
       "              delete Bokeh.index[id];\n",
       "            }\n",
       "          }\n",
       "        }\n",
       "      });\n",
       "      // Destroy server and session\n",
       "      var cmd = \"import bokeh.io.notebook as ion; ion.destroy_server('\" + server_id + \"')\";\n",
       "      cell.notebook.kernel.execute(cmd);\n",
       "    }\n",
       "  }\n",
       "\n",
       "  /**\n",
       "   * Handle when a new output is added\n",
       "   */\n",
       "  function handleAddOutput(event, handle) {\n",
       "    var output_area = handle.output_area;\n",
       "    var output = handle.output;\n",
       "\n",
       "    // limit handleAddOutput to display_data with EXEC_MIME_TYPE content only\n",
       "    if ((output.output_type != \"display_data\") || (!output.data.hasOwnProperty(EXEC_MIME_TYPE))) {\n",
       "      return\n",
       "    }\n",
       "\n",
       "    var toinsert = output_area.element.find(\".\" + CLASS_NAME.split(' ')[0]);\n",
       "\n",
       "    if (output.metadata[EXEC_MIME_TYPE][\"id\"] !== undefined) {\n",
       "      toinsert[toinsert.length - 1].firstChild.textContent = output.data[JS_MIME_TYPE];\n",
       "      // store reference to embed id on output_area\n",
       "      output_area._bokeh_element_id = output.metadata[EXEC_MIME_TYPE][\"id\"];\n",
       "    }\n",
       "    if (output.metadata[EXEC_MIME_TYPE][\"server_id\"] !== undefined) {\n",
       "      var bk_div = document.createElement(\"div\");\n",
       "      bk_div.innerHTML = output.data[HTML_MIME_TYPE];\n",
       "      var script_attrs = bk_div.children[0].attributes;\n",
       "      for (var i = 0; i < script_attrs.length; i++) {\n",
       "        toinsert[toinsert.length - 1].firstChild.setAttribute(script_attrs[i].name, script_attrs[i].value);\n",
       "        toinsert[toinsert.length - 1].firstChild.textContent = bk_div.children[0].textContent\n",
       "      }\n",
       "      // store reference to server id on output_area\n",
       "      output_area._bokeh_server_id = output.metadata[EXEC_MIME_TYPE][\"server_id\"];\n",
       "    }\n",
       "  }\n",
       "\n",
       "  function register_renderer(events, OutputArea) {\n",
       "\n",
       "    function append_mime(data, metadata, element) {\n",
       "      // create a DOM node to render to\n",
       "      var toinsert = this.create_output_subarea(\n",
       "        metadata,\n",
       "        CLASS_NAME,\n",
       "        EXEC_MIME_TYPE\n",
       "      );\n",
       "      this.keyboard_manager.register_events(toinsert);\n",
       "      // Render to node\n",
       "      var props = {data: data, metadata: metadata[EXEC_MIME_TYPE]};\n",
       "      render(props, toinsert[toinsert.length - 1]);\n",
       "      element.append(toinsert);\n",
       "      return toinsert\n",
       "    }\n",
       "\n",
       "    /* Handle when an output is cleared or removed */\n",
       "    events.on('clear_output.CodeCell', handleClearOutput);\n",
       "    events.on('delete.Cell', handleClearOutput);\n",
       "\n",
       "    /* Handle when a new output is added */\n",
       "    events.on('output_added.OutputArea', handleAddOutput);\n",
       "\n",
       "    /**\n",
       "     * Register the mime type and append_mime function with output_area\n",
       "     */\n",
       "    OutputArea.prototype.register_mime_type(EXEC_MIME_TYPE, append_mime, {\n",
       "      /* Is output safe? */\n",
       "      safe: true,\n",
       "      /* Index of renderer in `output_area.display_order` */\n",
       "      index: 0\n",
       "    });\n",
       "  }\n",
       "\n",
       "  // register the mime type if in Jupyter Notebook environment and previously unregistered\n",
       "  if (root.Jupyter !== undefined) {\n",
       "    var events = require('base/js/events');\n",
       "    var OutputArea = require('notebook/js/outputarea').OutputArea;\n",
       "\n",
       "    if (OutputArea.prototype.mime_types().indexOf(EXEC_MIME_TYPE) == -1) {\n",
       "      register_renderer(events, OutputArea);\n",
       "    }\n",
       "  }\n",
       "\n",
       "  \n",
       "  if (typeof (root._bokeh_timeout) === \"undefined\" || force === true) {\n",
       "    root._bokeh_timeout = Date.now() + 5000;\n",
       "    root._bokeh_failed_load = false;\n",
       "  }\n",
       "\n",
       "  var NB_LOAD_WARNING = {'data': {'text/html':\n",
       "     \"<div style='background-color: #fdd'>\\n\"+\n",
       "     \"<p>\\n\"+\n",
       "     \"BokehJS does not appear to have successfully loaded. If loading BokehJS from CDN, this \\n\"+\n",
       "     \"may be due to a slow or bad network connection. Possible fixes:\\n\"+\n",
       "     \"</p>\\n\"+\n",
       "     \"<ul>\\n\"+\n",
       "     \"<li>re-rerun `output_notebook()` to attempt to load from CDN again, or</li>\\n\"+\n",
       "     \"<li>use INLINE resources instead, as so:</li>\\n\"+\n",
       "     \"</ul>\\n\"+\n",
       "     \"<code>\\n\"+\n",
       "     \"from bokeh.resources import INLINE\\n\"+\n",
       "     \"output_notebook(resources=INLINE)\\n\"+\n",
       "     \"</code>\\n\"+\n",
       "     \"</div>\"}};\n",
       "\n",
       "  function display_loaded() {\n",
       "    var el = document.getElementById(\"1001\");\n",
       "    if (el != null) {\n",
       "      el.textContent = \"BokehJS is loading...\";\n",
       "    }\n",
       "    if (root.Bokeh !== undefined) {\n",
       "      if (el != null) {\n",
       "        el.textContent = \"BokehJS \" + root.Bokeh.version + \" successfully loaded.\";\n",
       "      }\n",
       "    } else if (Date.now() < root._bokeh_timeout) {\n",
       "      setTimeout(display_loaded, 100)\n",
       "    }\n",
       "  }\n",
       "\n",
       "\n",
       "  function run_callbacks() {\n",
       "    try {\n",
       "      root._bokeh_onload_callbacks.forEach(function(callback) {\n",
       "        if (callback != null)\n",
       "          callback();\n",
       "      });\n",
       "    } finally {\n",
       "      delete root._bokeh_onload_callbacks\n",
       "    }\n",
       "    console.debug(\"Bokeh: all callbacks have finished\");\n",
       "  }\n",
       "\n",
       "  function load_libs(css_urls, js_urls, callback) {\n",
       "    if (css_urls == null) css_urls = [];\n",
       "    if (js_urls == null) js_urls = [];\n",
       "\n",
       "    root._bokeh_onload_callbacks.push(callback);\n",
       "    if (root._bokeh_is_loading > 0) {\n",
       "      console.debug(\"Bokeh: BokehJS is being loaded, scheduling callback at\", now());\n",
       "      return null;\n",
       "    }\n",
       "    if (js_urls == null || js_urls.length === 0) {\n",
       "      run_callbacks();\n",
       "      return null;\n",
       "    }\n",
       "    console.debug(\"Bokeh: BokehJS not loaded, scheduling load and callback at\", now());\n",
       "    root._bokeh_is_loading = css_urls.length + js_urls.length;\n",
       "\n",
       "    function on_load() {\n",
       "      root._bokeh_is_loading--;\n",
       "      if (root._bokeh_is_loading === 0) {\n",
       "        console.debug(\"Bokeh: all BokehJS libraries/stylesheets loaded\");\n",
       "        run_callbacks()\n",
       "      }\n",
       "    }\n",
       "\n",
       "    function on_error() {\n",
       "      console.error(\"failed to load \" + url);\n",
       "    }\n",
       "\n",
       "    for (var i = 0; i < css_urls.length; i++) {\n",
       "      var url = css_urls[i];\n",
       "      const element = document.createElement(\"link\");\n",
       "      element.onload = on_load;\n",
       "      element.onerror = on_error;\n",
       "      element.rel = \"stylesheet\";\n",
       "      element.type = \"text/css\";\n",
       "      element.href = url;\n",
       "      console.debug(\"Bokeh: injecting link tag for BokehJS stylesheet: \", url);\n",
       "      document.body.appendChild(element);\n",
       "    }\n",
       "\n",
       "    const hashes = {\"https://cdn.bokeh.org/bokeh/release/bokeh-2.2.3.min.js\": \"T2yuo9Oe71Cz/I4X9Ac5+gpEa5a8PpJCDlqKYO0CfAuEszu1JrXLl8YugMqYe3sM\", \"https://cdn.bokeh.org/bokeh/release/bokeh-widgets-2.2.3.min.js\": \"98GDGJ0kOMCUMUePhksaQ/GYgB3+NH9h996V88sh3aOiUNX3N+fLXAtry6xctSZ6\", \"https://cdn.bokeh.org/bokeh/release/bokeh-tables-2.2.3.min.js\": \"89bArO+nlbP3sgakeHjCo1JYxYR5wufVgA3IbUvDY+K7w4zyxJqssu7wVnfeKCq8\"};\n",
       "\n",
       "    for (var i = 0; i < js_urls.length; i++) {\n",
       "      var url = js_urls[i];\n",
       "      var element = document.createElement('script');\n",
       "      element.onload = on_load;\n",
       "      element.onerror = on_error;\n",
       "      element.async = false;\n",
       "      element.src = url;\n",
       "      if (url in hashes) {\n",
       "        element.crossOrigin = \"anonymous\";\n",
       "        element.integrity = \"sha384-\" + hashes[url];\n",
       "      }\n",
       "      console.debug(\"Bokeh: injecting script tag for BokehJS library: \", url);\n",
       "      document.head.appendChild(element);\n",
       "    }\n",
       "  };\n",
       "\n",
       "  function inject_raw_css(css) {\n",
       "    const element = document.createElement(\"style\");\n",
       "    element.appendChild(document.createTextNode(css));\n",
       "    document.body.appendChild(element);\n",
       "  }\n",
       "\n",
       "  \n",
       "  var js_urls = [\"https://cdn.bokeh.org/bokeh/release/bokeh-2.2.3.min.js\", \"https://cdn.bokeh.org/bokeh/release/bokeh-widgets-2.2.3.min.js\", \"https://cdn.bokeh.org/bokeh/release/bokeh-tables-2.2.3.min.js\"];\n",
       "  var css_urls = [];\n",
       "  \n",
       "\n",
       "  var inline_js = [\n",
       "    function(Bokeh) {\n",
       "      Bokeh.set_log_level(\"info\");\n",
       "    },\n",
       "    function(Bokeh) {\n",
       "    \n",
       "    \n",
       "    }\n",
       "  ];\n",
       "\n",
       "  function run_inline_js() {\n",
       "    \n",
       "    if (root.Bokeh !== undefined || force === true) {\n",
       "      \n",
       "    for (var i = 0; i < inline_js.length; i++) {\n",
       "      inline_js[i].call(root, root.Bokeh);\n",
       "    }\n",
       "    if (force === true) {\n",
       "        display_loaded();\n",
       "      }} else if (Date.now() < root._bokeh_timeout) {\n",
       "      setTimeout(run_inline_js, 100);\n",
       "    } else if (!root._bokeh_failed_load) {\n",
       "      console.log(\"Bokeh: BokehJS failed to load within specified timeout.\");\n",
       "      root._bokeh_failed_load = true;\n",
       "    } else if (force !== true) {\n",
       "      var cell = $(document.getElementById(\"1001\")).parents('.cell').data().cell;\n",
       "      cell.output_area.append_execute_result(NB_LOAD_WARNING)\n",
       "    }\n",
       "\n",
       "  }\n",
       "\n",
       "  if (root._bokeh_is_loading === 0) {\n",
       "    console.debug(\"Bokeh: BokehJS loaded, going straight to plotting\");\n",
       "    run_inline_js();\n",
       "  } else {\n",
       "    load_libs(css_urls, js_urls, function() {\n",
       "      console.debug(\"Bokeh: BokehJS plotting callback run at\", now());\n",
       "      run_inline_js();\n",
       "    });\n",
       "  }\n",
       "}(window));"
      ],
      "application/vnd.bokehjs_load.v0+json": "\n(function(root) {\n  function now() {\n    return new Date();\n  }\n\n  var force = true;\n\n  if (typeof root._bokeh_onload_callbacks === \"undefined\" || force === true) {\n    root._bokeh_onload_callbacks = [];\n    root._bokeh_is_loading = undefined;\n  }\n\n  \n\n  \n  if (typeof (root._bokeh_timeout) === \"undefined\" || force === true) {\n    root._bokeh_timeout = Date.now() + 5000;\n    root._bokeh_failed_load = false;\n  }\n\n  var NB_LOAD_WARNING = {'data': {'text/html':\n     \"<div style='background-color: #fdd'>\\n\"+\n     \"<p>\\n\"+\n     \"BokehJS does not appear to have successfully loaded. If loading BokehJS from CDN, this \\n\"+\n     \"may be due to a slow or bad network connection. Possible fixes:\\n\"+\n     \"</p>\\n\"+\n     \"<ul>\\n\"+\n     \"<li>re-rerun `output_notebook()` to attempt to load from CDN again, or</li>\\n\"+\n     \"<li>use INLINE resources instead, as so:</li>\\n\"+\n     \"</ul>\\n\"+\n     \"<code>\\n\"+\n     \"from bokeh.resources import INLINE\\n\"+\n     \"output_notebook(resources=INLINE)\\n\"+\n     \"</code>\\n\"+\n     \"</div>\"}};\n\n  function display_loaded() {\n    var el = document.getElementById(\"1001\");\n    if (el != null) {\n      el.textContent = \"BokehJS is loading...\";\n    }\n    if (root.Bokeh !== undefined) {\n      if (el != null) {\n        el.textContent = \"BokehJS \" + root.Bokeh.version + \" successfully loaded.\";\n      }\n    } else if (Date.now() < root._bokeh_timeout) {\n      setTimeout(display_loaded, 100)\n    }\n  }\n\n\n  function run_callbacks() {\n    try {\n      root._bokeh_onload_callbacks.forEach(function(callback) {\n        if (callback != null)\n          callback();\n      });\n    } finally {\n      delete root._bokeh_onload_callbacks\n    }\n    console.debug(\"Bokeh: all callbacks have finished\");\n  }\n\n  function load_libs(css_urls, js_urls, callback) {\n    if (css_urls == null) css_urls = [];\n    if (js_urls == null) js_urls = [];\n\n    root._bokeh_onload_callbacks.push(callback);\n    if (root._bokeh_is_loading > 0) {\n      console.debug(\"Bokeh: BokehJS is being loaded, scheduling callback at\", now());\n      return null;\n    }\n    if (js_urls == null || js_urls.length === 0) {\n      run_callbacks();\n      return null;\n    }\n    console.debug(\"Bokeh: BokehJS not loaded, scheduling load and callback at\", now());\n    root._bokeh_is_loading = css_urls.length + js_urls.length;\n\n    function on_load() {\n      root._bokeh_is_loading--;\n      if (root._bokeh_is_loading === 0) {\n        console.debug(\"Bokeh: all BokehJS libraries/stylesheets loaded\");\n        run_callbacks()\n      }\n    }\n\n    function on_error() {\n      console.error(\"failed to load \" + url);\n    }\n\n    for (var i = 0; i < css_urls.length; i++) {\n      var url = css_urls[i];\n      const element = document.createElement(\"link\");\n      element.onload = on_load;\n      element.onerror = on_error;\n      element.rel = \"stylesheet\";\n      element.type = \"text/css\";\n      element.href = url;\n      console.debug(\"Bokeh: injecting link tag for BokehJS stylesheet: \", url);\n      document.body.appendChild(element);\n    }\n\n    const hashes = {\"https://cdn.bokeh.org/bokeh/release/bokeh-2.2.3.min.js\": \"T2yuo9Oe71Cz/I4X9Ac5+gpEa5a8PpJCDlqKYO0CfAuEszu1JrXLl8YugMqYe3sM\", \"https://cdn.bokeh.org/bokeh/release/bokeh-widgets-2.2.3.min.js\": \"98GDGJ0kOMCUMUePhksaQ/GYgB3+NH9h996V88sh3aOiUNX3N+fLXAtry6xctSZ6\", \"https://cdn.bokeh.org/bokeh/release/bokeh-tables-2.2.3.min.js\": \"89bArO+nlbP3sgakeHjCo1JYxYR5wufVgA3IbUvDY+K7w4zyxJqssu7wVnfeKCq8\"};\n\n    for (var i = 0; i < js_urls.length; i++) {\n      var url = js_urls[i];\n      var element = document.createElement('script');\n      element.onload = on_load;\n      element.onerror = on_error;\n      element.async = false;\n      element.src = url;\n      if (url in hashes) {\n        element.crossOrigin = \"anonymous\";\n        element.integrity = \"sha384-\" + hashes[url];\n      }\n      console.debug(\"Bokeh: injecting script tag for BokehJS library: \", url);\n      document.head.appendChild(element);\n    }\n  };\n\n  function inject_raw_css(css) {\n    const element = document.createElement(\"style\");\n    element.appendChild(document.createTextNode(css));\n    document.body.appendChild(element);\n  }\n\n  \n  var js_urls = [\"https://cdn.bokeh.org/bokeh/release/bokeh-2.2.3.min.js\", \"https://cdn.bokeh.org/bokeh/release/bokeh-widgets-2.2.3.min.js\", \"https://cdn.bokeh.org/bokeh/release/bokeh-tables-2.2.3.min.js\"];\n  var css_urls = [];\n  \n\n  var inline_js = [\n    function(Bokeh) {\n      Bokeh.set_log_level(\"info\");\n    },\n    function(Bokeh) {\n    \n    \n    }\n  ];\n\n  function run_inline_js() {\n    \n    if (root.Bokeh !== undefined || force === true) {\n      \n    for (var i = 0; i < inline_js.length; i++) {\n      inline_js[i].call(root, root.Bokeh);\n    }\n    if (force === true) {\n        display_loaded();\n      }} else if (Date.now() < root._bokeh_timeout) {\n      setTimeout(run_inline_js, 100);\n    } else if (!root._bokeh_failed_load) {\n      console.log(\"Bokeh: BokehJS failed to load within specified timeout.\");\n      root._bokeh_failed_load = true;\n    } else if (force !== true) {\n      var cell = $(document.getElementById(\"1001\")).parents('.cell').data().cell;\n      cell.output_area.append_execute_result(NB_LOAD_WARNING)\n    }\n\n  }\n\n  if (root._bokeh_is_loading === 0) {\n    console.debug(\"Bokeh: BokehJS loaded, going straight to plotting\");\n    run_inline_js();\n  } else {\n    load_libs(css_urls, js_urls, function() {\n      console.debug(\"Bokeh: BokehJS plotting callback run at\", now());\n      run_inline_js();\n    });\n  }\n}(window));"
     },
     "metadata": {},
     "output_type": "display_data"
    }
   ],
   "source": [
    "output_notebook()"
   ]
  },
  {
   "cell_type": "code",
   "execution_count": 7,
   "metadata": {},
   "outputs": [
    {
     "data": {
      "text/html": [
       "\n",
       "\n",
       "\n",
       "\n",
       "\n",
       "\n",
       "  <div class=\"bk-root\" id=\"abe5ae69-a73a-4542-aab0-3d041d7d379d\" data-root-id=\"1067\"></div>\n"
      ]
     },
     "metadata": {},
     "output_type": "display_data"
    },
    {
     "data": {
      "application/javascript": [
       "(function(root) {\n",
       "  function embed_document(root) {\n",
       "    \n",
       "  var docs_json = {\"8e7e4e4e-03a0-424b-bc6b-65907a9e2956\":{\"roots\":{\"references\":[{\"attributes\":{\"children\":[{\"id\":\"1002\"},{\"id\":\"1028\"}]},\"id\":\"1067\",\"type\":\"Row\"},{\"attributes\":{\"below\":[{\"id\":\"1013\"}],\"center\":[{\"id\":\"1016\"},{\"id\":\"1020\"}],\"left\":[{\"id\":\"1017\"}],\"plot_height\":400,\"plot_width\":480,\"renderers\":[{\"id\":\"1055\"},{\"id\":\"1060\"}],\"title\":{\"id\":\"1003\"},\"toolbar\":{\"id\":\"1024\"},\"x_range\":{\"id\":\"1029\"},\"x_scale\":{\"id\":\"1009\"},\"y_range\":{\"id\":\"1007\"},\"y_scale\":{\"id\":\"1011\"}},\"id\":\"1002\",\"subtype\":\"Figure\",\"type\":\"Plot\"},{\"attributes\":{\"axis_label\":\"k\",\"formatter\":{\"id\":\"1073\"},\"ticker\":{\"id\":\"1014\"}},\"id\":\"1013\",\"type\":\"LinearAxis\"},{\"attributes\":{},\"id\":\"1045\",\"type\":\"PanTool\"},{\"attributes\":{},\"id\":\"1035\",\"type\":\"LinearScale\"},{\"attributes\":{},\"id\":\"1073\",\"type\":\"BasicTickFormatter\"},{\"attributes\":{},\"id\":\"1011\",\"type\":\"LinearScale\"},{\"attributes\":{\"text\":\"Bernoulli, p = 0.4\"},\"id\":\"1003\",\"type\":\"Title\"},{\"attributes\":{},\"id\":\"1029\",\"type\":\"DataRange1d\"},{\"attributes\":{\"fill_color\":{\"value\":\"dodgerblue\"},\"line_color\":{\"value\":\"dodgerblue\"},\"size\":{\"units\":\"screen\",\"value\":7},\"x\":{\"field\":\"x\"},\"y\":{\"field\":\"y\"}},\"id\":\"1053\",\"type\":\"Circle\"},{\"attributes\":{},\"id\":\"1083\",\"type\":\"Selection\"},{\"attributes\":{\"text\":\"\"},\"id\":\"1070\",\"type\":\"Title\"},{\"attributes\":{},\"id\":\"1014\",\"type\":\"BasicTicker\"},{\"attributes\":{},\"id\":\"1084\",\"type\":\"UnionRenderers\"},{\"attributes\":{\"axis\":{\"id\":\"1041\"},\"dimension\":1,\"ticker\":null},\"id\":\"1044\",\"type\":\"Grid\"},{\"attributes\":{},\"id\":\"1009\",\"type\":\"LinearScale\"},{\"attributes\":{},\"id\":\"1018\",\"type\":\"BasicTicker\"},{\"attributes\":{\"axis\":{\"id\":\"1013\"},\"ticker\":null},\"id\":\"1016\",\"type\":\"Grid\"},{\"attributes\":{},\"id\":\"1071\",\"type\":\"BasicTickFormatter\"},{\"attributes\":{\"axis\":{\"id\":\"1017\"},\"dimension\":1,\"ticker\":null},\"id\":\"1020\",\"type\":\"Grid\"},{\"attributes\":{\"data\":{\"x\":{\"__ndarray__\":\"AAAAAAEAAAA=\",\"dtype\":\"int32\",\"order\":\"little\",\"shape\":[2]},\"y\":{\"__ndarray__\":\"MzMzMzMz4z+amZmZmZnZPw==\",\"dtype\":\"float64\",\"order\":\"little\",\"shape\":[2]}},\"selected\":{\"id\":\"1079\"},\"selection_policy\":{\"id\":\"1080\"}},\"id\":\"1052\",\"type\":\"ColumnDataSource\"},{\"attributes\":{\"source\":{\"id\":\"1052\"}},\"id\":\"1056\",\"type\":\"CDSView\"},{\"attributes\":{\"data\":{\"x0\":{\"__ndarray__\":\"AAAAAAEAAAA=\",\"dtype\":\"int32\",\"order\":\"little\",\"shape\":[2]},\"x1\":{\"__ndarray__\":\"AAAAAAEAAAA=\",\"dtype\":\"int32\",\"order\":\"little\",\"shape\":[2]},\"y1\":{\"__ndarray__\":\"MzMzMzMz4z+amZmZmZnZPw==\",\"dtype\":\"float64\",\"order\":\"little\",\"shape\":[2]}},\"selected\":{\"id\":\"1081\"},\"selection_policy\":{\"id\":\"1082\"}},\"id\":\"1057\",\"type\":\"ColumnDataSource\"},{\"attributes\":{\"fill_alpha\":{\"value\":0.1},\"fill_color\":{\"value\":\"dodgerblue\"},\"line_alpha\":{\"value\":0.1},\"line_color\":{\"value\":\"dodgerblue\"},\"size\":{\"units\":\"screen\",\"value\":7},\"x\":{\"field\":\"x\"},\"y\":{\"field\":\"y\"}},\"id\":\"1054\",\"type\":\"Circle\"},{\"attributes\":{},\"id\":\"1079\",\"type\":\"Selection\"},{\"attributes\":{},\"id\":\"1080\",\"type\":\"UnionRenderers\"},{\"attributes\":{\"line_alpha\":{\"value\":0.1},\"line_color\":{\"value\":\"dodgerblue\"},\"line_width\":{\"value\":3},\"x0\":{\"field\":\"x0\"},\"x1\":{\"field\":\"x1\"},\"y0\":{\"value\":0},\"y1\":{\"field\":\"y1\"}},\"id\":\"1059\",\"type\":\"Segment\"},{\"attributes\":{\"axis_label\":\"P(k; p)\",\"formatter\":{\"id\":\"1071\"},\"ticker\":{\"id\":\"1018\"}},\"id\":\"1017\",\"type\":\"LinearAxis\"},{\"attributes\":{\"line_color\":{\"value\":\"dodgerblue\"},\"line_width\":{\"value\":3},\"x0\":{\"field\":\"x0\"},\"x1\":{\"field\":\"x1\"},\"y0\":{\"value\":0},\"y1\":{\"field\":\"y1\"}},\"id\":\"1058\",\"type\":\"Segment\"},{\"attributes\":{},\"id\":\"1046\",\"type\":\"WheelZoomTool\"},{\"attributes\":{},\"id\":\"1022\",\"type\":\"WheelZoomTool\"},{\"attributes\":{\"data_source\":{\"id\":\"1052\"},\"glyph\":{\"id\":\"1053\"},\"hover_glyph\":null,\"muted_glyph\":null,\"nonselection_glyph\":{\"id\":\"1054\"},\"selection_glyph\":null,\"view\":{\"id\":\"1056\"}},\"id\":\"1055\",\"type\":\"GlyphRenderer\"},{\"attributes\":{},\"id\":\"1021\",\"type\":\"PanTool\"},{\"attributes\":{\"active_drag\":\"auto\",\"active_inspect\":\"auto\",\"active_multi\":null,\"active_scroll\":\"auto\",\"active_tap\":\"auto\",\"tools\":[{\"id\":\"1045\"},{\"id\":\"1046\"},{\"id\":\"1047\"}]},\"id\":\"1048\",\"type\":\"Toolbar\"},{\"attributes\":{\"data_source\":{\"id\":\"1057\"},\"glyph\":{\"id\":\"1058\"},\"hover_glyph\":null,\"muted_glyph\":null,\"nonselection_glyph\":{\"id\":\"1059\"},\"selection_glyph\":null,\"view\":{\"id\":\"1061\"}},\"id\":\"1060\",\"type\":\"GlyphRenderer\"},{\"attributes\":{},\"id\":\"1023\",\"type\":\"ResetTool\"},{\"attributes\":{\"end\":1.05,\"start\":-0.05},\"id\":\"1031\",\"type\":\"Range1d\"},{\"attributes\":{},\"id\":\"1075\",\"type\":\"BasicTickFormatter\"},{\"attributes\":{\"source\":{\"id\":\"1057\"}},\"id\":\"1061\",\"type\":\"CDSView\"},{\"attributes\":{},\"id\":\"1077\",\"type\":\"BasicTickFormatter\"},{\"attributes\":{\"fill_color\":{\"value\":\"dodgerblue\"},\"line_color\":{\"value\":\"dodgerblue\"},\"size\":{\"units\":\"screen\",\"value\":3},\"x\":{\"field\":\"x\"},\"y\":{\"field\":\"y\"}},\"id\":\"1063\",\"type\":\"Circle\"},{\"attributes\":{},\"id\":\"1081\",\"type\":\"Selection\"},{\"attributes\":{},\"id\":\"1007\",\"type\":\"DataRange1d\"},{\"attributes\":{\"axis_label\":\"k\",\"formatter\":{\"id\":\"1077\"},\"ticker\":{\"id\":\"1038\"}},\"id\":\"1037\",\"type\":\"LinearAxis\"},{\"attributes\":{},\"id\":\"1082\",\"type\":\"UnionRenderers\"},{\"attributes\":{\"active_drag\":\"auto\",\"active_inspect\":\"auto\",\"active_multi\":null,\"active_scroll\":\"auto\",\"active_tap\":\"auto\",\"tools\":[{\"id\":\"1021\"},{\"id\":\"1022\"},{\"id\":\"1023\"}]},\"id\":\"1024\",\"type\":\"Toolbar\"},{\"attributes\":{},\"id\":\"1038\",\"type\":\"BasicTicker\"},{\"attributes\":{\"source\":{\"id\":\"1062\"}},\"id\":\"1066\",\"type\":\"CDSView\"},{\"attributes\":{\"fill_alpha\":{\"value\":0.1},\"fill_color\":{\"value\":\"dodgerblue\"},\"line_alpha\":{\"value\":0.1},\"line_color\":{\"value\":\"dodgerblue\"},\"size\":{\"units\":\"screen\",\"value\":3},\"x\":{\"field\":\"x\"},\"y\":{\"field\":\"y\"}},\"id\":\"1064\",\"type\":\"Circle\"},{\"attributes\":{\"data\":{\"x\":{\"__ndarray__\":\"AAAAAAEAAAA=\",\"dtype\":\"int32\",\"order\":\"little\",\"shape\":[2]},\"y\":{\"__ndarray__\":\"MzMzMzMz4z8AAAAAAADwPw==\",\"dtype\":\"float64\",\"order\":\"little\",\"shape\":[2]}},\"selected\":{\"id\":\"1083\"},\"selection_policy\":{\"id\":\"1084\"}},\"id\":\"1062\",\"type\":\"ColumnDataSource\"},{\"attributes\":{},\"id\":\"1047\",\"type\":\"ResetTool\"},{\"attributes\":{\"axis_label\":\"F(k; p)\",\"formatter\":{\"id\":\"1075\"},\"ticker\":{\"id\":\"1042\"}},\"id\":\"1041\",\"type\":\"LinearAxis\"},{\"attributes\":{},\"id\":\"1042\",\"type\":\"BasicTicker\"},{\"attributes\":{\"below\":[{\"id\":\"1037\"}],\"center\":[{\"id\":\"1040\"},{\"id\":\"1044\"}],\"left\":[{\"id\":\"1041\"}],\"plot_height\":400,\"plot_width\":480,\"renderers\":[{\"id\":\"1065\"}],\"title\":{\"id\":\"1070\"},\"toolbar\":{\"id\":\"1048\"},\"x_range\":{\"id\":\"1029\"},\"x_scale\":{\"id\":\"1033\"},\"y_range\":{\"id\":\"1031\"},\"y_scale\":{\"id\":\"1035\"}},\"id\":\"1028\",\"subtype\":\"Figure\",\"type\":\"Plot\"},{\"attributes\":{\"axis\":{\"id\":\"1037\"},\"ticker\":null},\"id\":\"1040\",\"type\":\"Grid\"},{\"attributes\":{},\"id\":\"1033\",\"type\":\"LinearScale\"},{\"attributes\":{\"data_source\":{\"id\":\"1062\"},\"glyph\":{\"id\":\"1063\"},\"hover_glyph\":null,\"muted_glyph\":null,\"nonselection_glyph\":{\"id\":\"1064\"},\"selection_glyph\":null,\"view\":{\"id\":\"1066\"}},\"id\":\"1065\",\"type\":\"GlyphRenderer\"}],\"root_ids\":[\"1067\"]},\"title\":\"Bokeh Application\",\"version\":\"2.2.3\"}};\n",
       "  var render_items = [{\"docid\":\"8e7e4e4e-03a0-424b-bc6b-65907a9e2956\",\"root_ids\":[\"1067\"],\"roots\":{\"1067\":\"abe5ae69-a73a-4542-aab0-3d041d7d379d\"}}];\n",
       "  root.Bokeh.embed.embed_items_notebook(docs_json, render_items);\n",
       "\n",
       "  }\n",
       "  if (root.Bokeh !== undefined) {\n",
       "    embed_document(root);\n",
       "  } else {\n",
       "    var attempts = 0;\n",
       "    var timer = setInterval(function(root) {\n",
       "      if (root.Bokeh !== undefined) {\n",
       "        clearInterval(timer);\n",
       "        embed_document(root);\n",
       "      } else {\n",
       "        attempts++;\n",
       "        if (attempts > 100) {\n",
       "          clearInterval(timer);\n",
       "          console.log(\"Bokeh: ERROR: Unable to run BokehJS code because BokehJS library is missing\");\n",
       "        }\n",
       "      }\n",
       "    }, 10, root)\n",
       "  }\n",
       "})(window);"
      ],
      "application/vnd.bokehjs_exec.v0+json": ""
     },
     "metadata": {
      "application/vnd.bokehjs_exec.v0+json": {
       "id": "1067"
      }
     },
     "output_type": "display_data"
    }
   ],
   "source": [
    "k = np.array([0, 1])\n",
    "p = plot_dists(k, st.bernoulli, (0.4,), ('p',), 'Bernoulli')\n",
    "show(p)"
   ]
  },
  {
   "cell_type": "markdown",
   "metadata": {},
   "source": [
    "### Bernoulli Trial\n",
    "A “Bernoulli trial” is an experiment or case where the outcome follows a Bernoulli distribution. The distribution and the trial are named after the Swiss mathematician Jacob Bernoulli."
   ]
  },
  {
   "cell_type": "markdown",
   "metadata": {},
   "source": [
    "## Binomial Distribution\n"
   ]
  },
  {
   "cell_type": "markdown",
   "metadata": {},
   "source": [
    "The repetition of multiple independent Bernoulli trials is called a Bernoulli process.\n",
    "\n",
    "The outcomes of a Bernoulli process will follow a Binomial distribution. As such, the Bernoulli distribution would be a Binomial distribution with a single trial.\n",
    "\n",
    "Some common examples of Bernoulli processes include:\n",
    "\n",
    "* A sequence of independent coin flips.\n",
    "* A sequence of independent credit card transactions (normal or fradulent).\n",
    "\n",
    "The performance of a machine learning algorithm on a binary classification problem can be analyzed as a Bernoulli process, where the prediction by the model on an example from a test set is a Bernoulli trial (correct or incorrect).\n",
    "\n",
    "The Binomial distribution summarizes the number of successes in a given number of Bernoulli trials k, with a given probability of success for each trial p.\n",
    "\n",
    "**Parameters.** There are two parameters: the probability $p$\n",
    "of success for each Bernoulli trial, and the number of trials, $n$.\n",
    "\n",
    "**Example.** Distribution of plasmids between daughter cells\n",
    "in cell division.  Each of the $n$ plasmids as a chance $p$ of being\n",
    "in daughter cell 1 (\"success\").  The number of plasmids, $k$, in\n",
    "daughter cell 1 is binomially distributed.\n",
    "\n",
    "**Probability mass function.**\n",
    "\n",
    "\\begin{align}\n",
    "P(k;n,p) = \\begin{pmatrix}\n",
    "n \\\\\n",
    "k\n",
    "\\end{pmatrix}\n",
    "p^k (1-p)^{n-k}.\n",
    "\\end{align}\n",
    "\n",
    "### Summary Statistics\n",
    "\n",
    "\\begin{align}\n",
    "\\text{Mean} &= \\langle x \\rangle &= \\mathbf{E}(x) &= \\sum_i x_i*P(x_i) = \\mathbf{n.p}\n",
    "\\end{align}\n",
    "\n",
    "\\begin{align}\n",
    "\\text{Variance} &= \\left\\langle x^2 \\right\\rangle - \\langle x \\rangle^2\n",
    "= \\left\\langle(x - \\langle x \\rangle)^2 \\right\\rangle = \\sum\\limits_{i=1}^{m}{\\mathbf{p}(\\mathbf{x}_i).{(\\mathbf{x}_i} - \\mu)^2}  = \\mathbf{n.p}(1-\\mathbf{p}) = \\mathbf{npq}\n",
    "\\end{align}\n",
    "\n",
    "We can demonstrate this with a Bernoulli process where the probability of success is 40% or P(x=1) = 0.4 and the total number of trials is 20 (k=20).\n",
    "\n",
    "We can simulate the Bernoulli process with randomly generated cases and count the number of successes over the given number of trials. This can be achieved via the <code>binomial()</code> NumPy function. This function takes the total number of trials and probability of success as arguments and returns the number of successful outcomes across the trials for one simulation."
   ]
  },
  {
   "cell_type": "code",
   "execution_count": 8,
   "metadata": {
    "scrolled": false
   },
   "outputs": [
    {
     "data": {
      "text/html": [
       "\n",
       "\n",
       "\n",
       "\n",
       "\n",
       "\n",
       "  <div class=\"bk-root\" id=\"5737711f-5cea-4547-8e3e-1afd6888482e\" data-root-id=\"1235\"></div>\n"
      ]
     },
     "metadata": {},
     "output_type": "display_data"
    },
    {
     "data": {
      "application/javascript": [
       "(function(root) {\n",
       "  function embed_document(root) {\n",
       "    \n",
       "  var docs_json = {\"eda33768-feed-44b7-9723-6604af7bc6a0\":{\"roots\":{\"references\":[{\"attributes\":{\"children\":[{\"id\":\"1170\"},{\"id\":\"1196\"}]},\"id\":\"1235\",\"type\":\"Row\"},{\"attributes\":{\"axis_label\":\"P(k; n, p)\",\"formatter\":{\"id\":\"1256\"},\"ticker\":{\"id\":\"1186\"}},\"id\":\"1185\",\"type\":\"LinearAxis\"},{\"attributes\":{\"source\":{\"id\":\"1225\"}},\"id\":\"1229\",\"type\":\"CDSView\"},{\"attributes\":{\"fill_color\":{\"value\":\"dodgerblue\"},\"line_color\":{\"value\":\"dodgerblue\"},\"size\":{\"units\":\"screen\",\"value\":3},\"x\":{\"field\":\"x\"},\"y\":{\"field\":\"y\"}},\"id\":\"1231\",\"type\":\"Circle\"},{\"attributes\":{\"fill_alpha\":{\"value\":0.1},\"fill_color\":{\"value\":\"dodgerblue\"},\"line_alpha\":{\"value\":0.1},\"line_color\":{\"value\":\"dodgerblue\"},\"size\":{\"units\":\"screen\",\"value\":7},\"x\":{\"field\":\"x\"},\"y\":{\"field\":\"y\"}},\"id\":\"1222\",\"type\":\"Circle\"},{\"attributes\":{\"fill_alpha\":{\"value\":0.1},\"fill_color\":{\"value\":\"dodgerblue\"},\"line_alpha\":{\"value\":0.1},\"line_color\":{\"value\":\"dodgerblue\"},\"size\":{\"units\":\"screen\",\"value\":3},\"x\":{\"field\":\"x\"},\"y\":{\"field\":\"y\"}},\"id\":\"1232\",\"type\":\"Circle\"},{\"attributes\":{\"fill_color\":{\"value\":\"dodgerblue\"},\"line_color\":{\"value\":\"dodgerblue\"},\"size\":{\"units\":\"screen\",\"value\":7},\"x\":{\"field\":\"x\"},\"y\":{\"field\":\"y\"}},\"id\":\"1221\",\"type\":\"Circle\"},{\"attributes\":{\"source\":{\"id\":\"1230\"}},\"id\":\"1234\",\"type\":\"CDSView\"},{\"attributes\":{},\"id\":\"1210\",\"type\":\"BasicTicker\"},{\"attributes\":{\"below\":[{\"id\":\"1181\"}],\"center\":[{\"id\":\"1184\"},{\"id\":\"1188\"}],\"left\":[{\"id\":\"1185\"}],\"plot_height\":400,\"plot_width\":480,\"renderers\":[{\"id\":\"1223\"},{\"id\":\"1228\"}],\"title\":{\"id\":\"1171\"},\"toolbar\":{\"id\":\"1192\"},\"x_range\":{\"id\":\"1197\"},\"x_scale\":{\"id\":\"1177\"},\"y_range\":{\"id\":\"1175\"},\"y_scale\":{\"id\":\"1179\"}},\"id\":\"1170\",\"subtype\":\"Figure\",\"type\":\"Plot\"},{\"attributes\":{},\"id\":\"1268\",\"type\":\"Selection\"},{\"attributes\":{},\"id\":\"1269\",\"type\":\"UnionRenderers\"},{\"attributes\":{\"text\":\"Binomial, n = 20, p = 0.4\"},\"id\":\"1171\",\"type\":\"Title\"},{\"attributes\":{\"data_source\":{\"id\":\"1230\"},\"glyph\":{\"id\":\"1231\"},\"hover_glyph\":null,\"muted_glyph\":null,\"nonselection_glyph\":{\"id\":\"1232\"},\"selection_glyph\":null,\"view\":{\"id\":\"1234\"}},\"id\":\"1233\",\"type\":\"GlyphRenderer\"},{\"attributes\":{\"line_color\":{\"value\":\"dodgerblue\"},\"line_width\":{\"value\":3},\"x0\":{\"field\":\"x0\"},\"x1\":{\"field\":\"x1\"},\"y0\":{\"value\":0},\"y1\":{\"field\":\"y1\"}},\"id\":\"1226\",\"type\":\"Segment\"},{\"attributes\":{\"axis\":{\"id\":\"1209\"},\"dimension\":1,\"ticker\":null},\"id\":\"1212\",\"type\":\"Grid\"},{\"attributes\":{},\"id\":\"1182\",\"type\":\"BasicTicker\"},{\"attributes\":{\"axis_label\":\"k\",\"formatter\":{\"id\":\"1258\"},\"ticker\":{\"id\":\"1182\"}},\"id\":\"1181\",\"type\":\"LinearAxis\"},{\"attributes\":{},\"id\":\"1179\",\"type\":\"LinearScale\"},{\"attributes\":{},\"id\":\"1175\",\"type\":\"DataRange1d\"},{\"attributes\":{},\"id\":\"1177\",\"type\":\"LinearScale\"},{\"attributes\":{\"axis\":{\"id\":\"1185\"},\"dimension\":1,\"ticker\":null},\"id\":\"1188\",\"type\":\"Grid\"},{\"attributes\":{\"axis\":{\"id\":\"1181\"},\"ticker\":null},\"id\":\"1184\",\"type\":\"Grid\"},{\"attributes\":{},\"id\":\"1264\",\"type\":\"Selection\"},{\"attributes\":{},\"id\":\"1265\",\"type\":\"UnionRenderers\"},{\"attributes\":{},\"id\":\"1206\",\"type\":\"BasicTicker\"},{\"attributes\":{},\"id\":\"1214\",\"type\":\"WheelZoomTool\"},{\"attributes\":{\"active_drag\":\"auto\",\"active_inspect\":\"auto\",\"active_multi\":null,\"active_scroll\":\"auto\",\"active_tap\":\"auto\",\"tools\":[{\"id\":\"1189\"},{\"id\":\"1190\"},{\"id\":\"1191\"}]},\"id\":\"1192\",\"type\":\"Toolbar\"},{\"attributes\":{},\"id\":\"1197\",\"type\":\"DataRange1d\"},{\"attributes\":{},\"id\":\"1260\",\"type\":\"BasicTickFormatter\"},{\"attributes\":{\"data\":{\"x\":{\"__ndarray__\":\"AAAAAAEAAAACAAAAAwAAAAQAAAAFAAAABgAAAAcAAAAIAAAACQAAAAoAAAALAAAADAAAAA0AAAAOAAAADwAAABAAAAARAAAAEgAAABMAAAAUAAAA\",\"dtype\":\"int32\",\"order\":\"little\",\"shape\":[21]},\"y\":{\"__ndarray__\":\"JmBteTYrAz/iSrYfsPI/P5pQcG7LSmk/m1BwbstKiT+54+QYUOqhP7vQnisRHLM/lAZe83HZvz/cWelMoTvFP512p2iZAMc/aGl4eU9yxD+KeI4Y/fy9P0JB+Wu4LLI/S0H5a7gsoj8+PeHEO9ONP7ooltgn4nM/v4D11X81VT8AlkwylawxP5cCR2foLQY/vB4/eAe30z7/Hcn71iKWPjVCkgyhnEc+\",\"dtype\":\"float64\",\"order\":\"little\",\"shape\":[21]}},\"selected\":{\"id\":\"1264\"},\"selection_policy\":{\"id\":\"1265\"}},\"id\":\"1220\",\"type\":\"ColumnDataSource\"},{\"attributes\":{},\"id\":\"1190\",\"type\":\"WheelZoomTool\"},{\"attributes\":{\"axis_label\":\"F(k; n, p)\",\"formatter\":{\"id\":\"1260\"},\"ticker\":{\"id\":\"1210\"}},\"id\":\"1209\",\"type\":\"LinearAxis\"},{\"attributes\":{\"active_drag\":\"auto\",\"active_inspect\":\"auto\",\"active_multi\":null,\"active_scroll\":\"auto\",\"active_tap\":\"auto\",\"tools\":[{\"id\":\"1213\"},{\"id\":\"1214\"},{\"id\":\"1215\"}]},\"id\":\"1216\",\"type\":\"Toolbar\"},{\"attributes\":{},\"id\":\"1189\",\"type\":\"PanTool\"},{\"attributes\":{\"end\":1.05,\"start\":-0.05},\"id\":\"1199\",\"type\":\"Range1d\"},{\"attributes\":{},\"id\":\"1186\",\"type\":\"BasicTicker\"},{\"attributes\":{},\"id\":\"1191\",\"type\":\"ResetTool\"},{\"attributes\":{},\"id\":\"1262\",\"type\":\"BasicTickFormatter\"},{\"attributes\":{},\"id\":\"1213\",\"type\":\"PanTool\"},{\"attributes\":{\"data\":{\"x0\":{\"__ndarray__\":\"AAAAAAEAAAACAAAAAwAAAAQAAAAFAAAABgAAAAcAAAAIAAAACQAAAAoAAAALAAAADAAAAA0AAAAOAAAADwAAABAAAAARAAAAEgAAABMAAAAUAAAA\",\"dtype\":\"int32\",\"order\":\"little\",\"shape\":[21]},\"x1\":{\"__ndarray__\":\"AAAAAAEAAAACAAAAAwAAAAQAAAAFAAAABgAAAAcAAAAIAAAACQAAAAoAAAALAAAADAAAAA0AAAAOAAAADwAAABAAAAARAAAAEgAAABMAAAAUAAAA\",\"dtype\":\"int32\",\"order\":\"little\",\"shape\":[21]},\"y1\":{\"__ndarray__\":\"JmBteTYrAz/iSrYfsPI/P5pQcG7LSmk/m1BwbstKiT+54+QYUOqhP7vQnisRHLM/lAZe83HZvz/cWelMoTvFP512p2iZAMc/aGl4eU9yxD+KeI4Y/fy9P0JB+Wu4LLI/S0H5a7gsoj8+PeHEO9ONP7ooltgn4nM/v4D11X81VT8AlkwylawxP5cCR2foLQY/vB4/eAe30z7/Hcn71iKWPjVCkgyhnEc+\",\"dtype\":\"float64\",\"order\":\"little\",\"shape\":[21]}},\"selected\":{\"id\":\"1266\"},\"selection_policy\":{\"id\":\"1267\"}},\"id\":\"1225\",\"type\":\"ColumnDataSource\"},{\"attributes\":{},\"id\":\"1266\",\"type\":\"Selection\"},{\"attributes\":{\"axis_label\":\"k\",\"formatter\":{\"id\":\"1262\"},\"ticker\":{\"id\":\"1206\"}},\"id\":\"1205\",\"type\":\"LinearAxis\"},{\"attributes\":{},\"id\":\"1267\",\"type\":\"UnionRenderers\"},{\"attributes\":{\"source\":{\"id\":\"1220\"}},\"id\":\"1224\",\"type\":\"CDSView\"},{\"attributes\":{},\"id\":\"1258\",\"type\":\"BasicTickFormatter\"},{\"attributes\":{\"below\":[{\"id\":\"1205\"}],\"center\":[{\"id\":\"1208\"},{\"id\":\"1212\"}],\"left\":[{\"id\":\"1209\"}],\"plot_height\":400,\"plot_width\":480,\"renderers\":[{\"id\":\"1233\"}],\"title\":{\"id\":\"1255\"},\"toolbar\":{\"id\":\"1216\"},\"x_range\":{\"id\":\"1197\"},\"x_scale\":{\"id\":\"1201\"},\"y_range\":{\"id\":\"1199\"},\"y_scale\":{\"id\":\"1203\"}},\"id\":\"1196\",\"subtype\":\"Figure\",\"type\":\"Plot\"},{\"attributes\":{},\"id\":\"1256\",\"type\":\"BasicTickFormatter\"},{\"attributes\":{\"line_alpha\":{\"value\":0.1},\"line_color\":{\"value\":\"dodgerblue\"},\"line_width\":{\"value\":3},\"x0\":{\"field\":\"x0\"},\"x1\":{\"field\":\"x1\"},\"y0\":{\"value\":0},\"y1\":{\"field\":\"y1\"}},\"id\":\"1227\",\"type\":\"Segment\"},{\"attributes\":{\"data_source\":{\"id\":\"1220\"},\"glyph\":{\"id\":\"1221\"},\"hover_glyph\":null,\"muted_glyph\":null,\"nonselection_glyph\":{\"id\":\"1222\"},\"selection_glyph\":null,\"view\":{\"id\":\"1224\"}},\"id\":\"1223\",\"type\":\"GlyphRenderer\"},{\"attributes\":{},\"id\":\"1201\",\"type\":\"LinearScale\"},{\"attributes\":{},\"id\":\"1203\",\"type\":\"LinearScale\"},{\"attributes\":{\"axis\":{\"id\":\"1205\"},\"ticker\":null},\"id\":\"1208\",\"type\":\"Grid\"},{\"attributes\":{\"text\":\"\"},\"id\":\"1255\",\"type\":\"Title\"},{\"attributes\":{\"data_source\":{\"id\":\"1225\"},\"glyph\":{\"id\":\"1226\"},\"hover_glyph\":null,\"muted_glyph\":null,\"nonselection_glyph\":{\"id\":\"1227\"},\"selection_glyph\":null,\"view\":{\"id\":\"1229\"}},\"id\":\"1228\",\"type\":\"GlyphRenderer\"},{\"attributes\":{\"data\":{\"x\":{\"__ndarray__\":\"AAAAAAEAAAACAAAAAwAAAAQAAAAFAAAABgAAAAcAAAAIAAAACQAAAAoAAAALAAAADAAAAA0AAAAOAAAADwAAABAAAAARAAAAEgAAABMAAAAUAAAA\",\"dtype\":\"int32\",\"order\":\"little\",\"shape\":[21]},\"y\":{\"__ndarray__\":\"IWBteTYrAz9y+3F3CyxBP3zPTEzOlW0/P8LBgB9YkD/sxEXZXxaqP6HZIIygE8A/f+7nwiwA0D9om1xp/Z3aP1wr2A4lD+M/uUU27bgr6D/MFEiQWOvrP/Q8x53vMO4/CdGGJLtT7z/+VZoTCMvvP1CCS2PM8u8/EH02I2f97z+jxty1nP/vP79jfm31/+8/3x8CSf//7z+91xj6///vPwAAAAAAAPA/\",\"dtype\":\"float64\",\"order\":\"little\",\"shape\":[21]}},\"selected\":{\"id\":\"1268\"},\"selection_policy\":{\"id\":\"1269\"}},\"id\":\"1230\",\"type\":\"ColumnDataSource\"},{\"attributes\":{},\"id\":\"1215\",\"type\":\"ResetTool\"}],\"root_ids\":[\"1235\"]},\"title\":\"Bokeh Application\",\"version\":\"2.2.3\"}};\n",
       "  var render_items = [{\"docid\":\"eda33768-feed-44b7-9723-6604af7bc6a0\",\"root_ids\":[\"1235\"],\"roots\":{\"1235\":\"5737711f-5cea-4547-8e3e-1afd6888482e\"}}];\n",
       "  root.Bokeh.embed.embed_items_notebook(docs_json, render_items);\n",
       "\n",
       "  }\n",
       "  if (root.Bokeh !== undefined) {\n",
       "    embed_document(root);\n",
       "  } else {\n",
       "    var attempts = 0;\n",
       "    var timer = setInterval(function(root) {\n",
       "      if (root.Bokeh !== undefined) {\n",
       "        clearInterval(timer);\n",
       "        embed_document(root);\n",
       "      } else {\n",
       "        attempts++;\n",
       "        if (attempts > 100) {\n",
       "          clearInterval(timer);\n",
       "          console.log(\"Bokeh: ERROR: Unable to run BokehJS code because BokehJS library is missing\");\n",
       "        }\n",
       "      }\n",
       "    }, 10, root)\n",
       "  }\n",
       "})(window);"
      ],
      "application/vnd.bokehjs_exec.v0+json": ""
     },
     "metadata": {
      "application/vnd.bokehjs_exec.v0+json": {
       "id": "1235"
      }
     },
     "output_type": "display_data"
    }
   ],
   "source": [
    "k = np.arange(21)\n",
    "p = plot_dists(k, st.binom, (20, 0.4), ('n', 'p',), 'Binomial')\n",
    "show(p)"
   ]
  },
  {
   "cell_type": "markdown",
   "metadata": {},
   "source": [
    "## Problems in Binomial Distribution\n",
    "\n",
    "### Prob 1. Coin Toss\n",
    "You flip a fair coin 10 times.\n",
    "1. Construct the probability mass function.\n",
    "2. What is the probability of getting exactly 4 heads?\n",
    "3. What is the probability of getting atleast 6 heads?\n",
    "4. What is the probability of getting atmost 6 heads?"
   ]
  },
  {
   "cell_type": "code",
   "execution_count": 9,
   "metadata": {},
   "outputs": [],
   "source": [
    "p = 0.5\n",
    "n = 10\n",
    "k = np.arange(11)\n",
    "binomial = st.binom.pmf(k,n,p)\n",
    "cumbinomial = st.binom.cdf(k,n,p)"
   ]
  },
  {
   "cell_type": "code",
   "execution_count": 10,
   "metadata": {},
   "outputs": [
    {
     "data": {
      "text/plain": [
       "array([      0.00097656,       0.00976563,       0.04394531,       0.11718750,       0.20507813,       0.24609375,\n",
       "             0.20507813,       0.11718750,       0.04394531,       0.00976563,       0.00097656])"
      ]
     },
     "execution_count": 10,
     "metadata": {},
     "output_type": "execute_result"
    }
   ],
   "source": [
    "binomial"
   ]
  },
  {
   "cell_type": "code",
   "execution_count": 11,
   "metadata": {},
   "outputs": [
    {
     "data": {
      "text/plain": [
       "array([      0.00097656,       0.01074219,       0.05468750,       0.17187500,       0.37695313,       0.62304687,\n",
       "             0.82812500,       0.94531250,       0.98925781,       0.99902344,       1.00000000])"
      ]
     },
     "execution_count": 11,
     "metadata": {},
     "output_type": "execute_result"
    }
   ],
   "source": [
    "cumbinomial"
   ]
  },
  {
   "cell_type": "code",
   "execution_count": 12,
   "metadata": {
    "scrolled": false
   },
   "outputs": [
    {
     "data": {
      "text/html": [
       "\n",
       "\n",
       "\n",
       "\n",
       "\n",
       "\n",
       "  <div class=\"bk-root\" id=\"8148fc78-bb9e-4386-81fa-6ae75b2ab080\" data-root-id=\"1420\"></div>\n"
      ]
     },
     "metadata": {},
     "output_type": "display_data"
    },
    {
     "data": {
      "application/javascript": [
       "(function(root) {\n",
       "  function embed_document(root) {\n",
       "    \n",
       "  var docs_json = {\"24e5689c-70f4-4c7b-bd49-34a4f5c9923f\":{\"roots\":{\"references\":[{\"attributes\":{\"children\":[{\"id\":\"1355\"},{\"id\":\"1381\"}]},\"id\":\"1420\",\"type\":\"Row\"},{\"attributes\":{\"source\":{\"id\":\"1410\"}},\"id\":\"1414\",\"type\":\"CDSView\"},{\"attributes\":{\"fill_alpha\":{\"value\":0.1},\"fill_color\":{\"value\":\"dodgerblue\"},\"line_alpha\":{\"value\":0.1},\"line_color\":{\"value\":\"dodgerblue\"},\"size\":{\"units\":\"screen\",\"value\":7},\"x\":{\"field\":\"x\"},\"y\":{\"field\":\"y\"}},\"id\":\"1407\",\"type\":\"Circle\"},{\"attributes\":{},\"id\":\"1371\",\"type\":\"BasicTicker\"},{\"attributes\":{\"fill_color\":{\"value\":\"dodgerblue\"},\"line_color\":{\"value\":\"dodgerblue\"},\"size\":{\"units\":\"screen\",\"value\":3},\"x\":{\"field\":\"x\"},\"y\":{\"field\":\"y\"}},\"id\":\"1416\",\"type\":\"Circle\"},{\"attributes\":{\"fill_alpha\":{\"value\":0.1},\"fill_color\":{\"value\":\"dodgerblue\"},\"line_alpha\":{\"value\":0.1},\"line_color\":{\"value\":\"dodgerblue\"},\"size\":{\"units\":\"screen\",\"value\":3},\"x\":{\"field\":\"x\"},\"y\":{\"field\":\"y\"}},\"id\":\"1417\",\"type\":\"Circle\"},{\"attributes\":{},\"id\":\"1360\",\"type\":\"DataRange1d\"},{\"attributes\":{},\"id\":\"1468\",\"type\":\"Selection\"},{\"attributes\":{},\"id\":\"1362\",\"type\":\"LinearScale\"},{\"attributes\":{\"source\":{\"id\":\"1415\"}},\"id\":\"1419\",\"type\":\"CDSView\"},{\"attributes\":{\"axis\":{\"id\":\"1370\"},\"dimension\":1,\"ticker\":null},\"id\":\"1373\",\"type\":\"Grid\"},{\"attributes\":{},\"id\":\"1466\",\"type\":\"Selection\"},{\"attributes\":{},\"id\":\"1375\",\"type\":\"WheelZoomTool\"},{\"attributes\":{},\"id\":\"1376\",\"type\":\"ResetTool\"},{\"attributes\":{},\"id\":\"1470\",\"type\":\"Selection\"},{\"attributes\":{\"data\":{\"x\":{\"__ndarray__\":\"AAAAAAEAAAACAAAAAwAAAAQAAAAFAAAABgAAAAcAAAAIAAAACQAAAAoAAAA=\",\"dtype\":\"int32\",\"order\":\"little\",\"shape\":[11]},\"y\":{\"__ndarray__\":\"AAAAAAAAUD8GAAAAAACEP///////f6Y/CgAAAAAAvj8IAAAAAEDKPwkAAAAAgM8/CAAAAABAyj8KAAAAAAC+P///////f6Y/BgAAAAAAhD8AAAAAAABQPw==\",\"dtype\":\"float64\",\"order\":\"little\",\"shape\":[11]}},\"selected\":{\"id\":\"1466\"},\"selection_policy\":{\"id\":\"1467\"}},\"id\":\"1405\",\"type\":\"ColumnDataSource\"},{\"attributes\":{},\"id\":\"1471\",\"type\":\"UnionRenderers\"},{\"attributes\":{},\"id\":\"1469\",\"type\":\"UnionRenderers\"},{\"attributes\":{\"data_source\":{\"id\":\"1415\"},\"glyph\":{\"id\":\"1416\"},\"hover_glyph\":null,\"muted_glyph\":null,\"nonselection_glyph\":{\"id\":\"1417\"},\"selection_glyph\":null,\"view\":{\"id\":\"1419\"}},\"id\":\"1418\",\"type\":\"GlyphRenderer\"},{\"attributes\":{},\"id\":\"1395\",\"type\":\"BasicTicker\"},{\"attributes\":{},\"id\":\"1462\",\"type\":\"BasicTickFormatter\"},{\"attributes\":{\"line_color\":{\"value\":\"dodgerblue\"},\"line_width\":{\"value\":3},\"x0\":{\"field\":\"x0\"},\"x1\":{\"field\":\"x1\"},\"y0\":{\"value\":0},\"y1\":{\"field\":\"y1\"}},\"id\":\"1411\",\"type\":\"Segment\"},{\"attributes\":{\"active_drag\":\"auto\",\"active_inspect\":\"auto\",\"active_multi\":null,\"active_scroll\":\"auto\",\"active_tap\":\"auto\",\"tools\":[{\"id\":\"1374\"},{\"id\":\"1375\"},{\"id\":\"1376\"}]},\"id\":\"1377\",\"type\":\"Toolbar\"},{\"attributes\":{},\"id\":\"1467\",\"type\":\"UnionRenderers\"},{\"attributes\":{},\"id\":\"1464\",\"type\":\"BasicTickFormatter\"},{\"attributes\":{\"text\":\"\"},\"id\":\"1457\",\"type\":\"Title\"},{\"attributes\":{},\"id\":\"1364\",\"type\":\"LinearScale\"},{\"attributes\":{},\"id\":\"1460\",\"type\":\"BasicTickFormatter\"},{\"attributes\":{},\"id\":\"1399\",\"type\":\"WheelZoomTool\"},{\"attributes\":{\"data\":{\"x\":{\"__ndarray__\":\"AAAAAAEAAAACAAAAAwAAAAQAAAAFAAAABgAAAAcAAAAIAAAACQAAAAoAAAA=\",\"dtype\":\"int32\",\"order\":\"little\",\"shape\":[11]},\"y\":{\"__ndarray__\":\"AAAAAAAAUD////////+FPwIAAAAAAKw//v//////xT8CAAAAACDYP///////7+M/AAAAAACA6j8AAAAAAEDuPwAAAAAAqO8/AAAAAAD47z8AAAAAAADwPw==\",\"dtype\":\"float64\",\"order\":\"little\",\"shape\":[11]}},\"selected\":{\"id\":\"1470\"},\"selection_policy\":{\"id\":\"1471\"}},\"id\":\"1415\",\"type\":\"ColumnDataSource\"},{\"attributes\":{\"axis_label\":\"k\",\"formatter\":{\"id\":\"1460\"},\"ticker\":{\"id\":\"1367\"}},\"id\":\"1366\",\"type\":\"LinearAxis\"},{\"attributes\":{},\"id\":\"1458\",\"type\":\"BasicTickFormatter\"},{\"attributes\":{\"active_drag\":\"auto\",\"active_inspect\":\"auto\",\"active_multi\":null,\"active_scroll\":\"auto\",\"active_tap\":\"auto\",\"tools\":[{\"id\":\"1398\"},{\"id\":\"1399\"},{\"id\":\"1400\"}]},\"id\":\"1401\",\"type\":\"Toolbar\"},{\"attributes\":{\"end\":1.05,\"start\":-0.05},\"id\":\"1384\",\"type\":\"Range1d\"},{\"attributes\":{},\"id\":\"1367\",\"type\":\"BasicTicker\"},{\"attributes\":{},\"id\":\"1386\",\"type\":\"LinearScale\"},{\"attributes\":{},\"id\":\"1388\",\"type\":\"LinearScale\"},{\"attributes\":{\"axis_label\":\"F(k; n, p)\",\"formatter\":{\"id\":\"1462\"},\"ticker\":{\"id\":\"1395\"}},\"id\":\"1394\",\"type\":\"LinearAxis\"},{\"attributes\":{},\"id\":\"1374\",\"type\":\"PanTool\"},{\"attributes\":{\"data\":{\"x0\":{\"__ndarray__\":\"AAAAAAEAAAACAAAAAwAAAAQAAAAFAAAABgAAAAcAAAAIAAAACQAAAAoAAAA=\",\"dtype\":\"int32\",\"order\":\"little\",\"shape\":[11]},\"x1\":{\"__ndarray__\":\"AAAAAAEAAAACAAAAAwAAAAQAAAAFAAAABgAAAAcAAAAIAAAACQAAAAoAAAA=\",\"dtype\":\"int32\",\"order\":\"little\",\"shape\":[11]},\"y1\":{\"__ndarray__\":\"AAAAAAAAUD8GAAAAAACEP///////f6Y/CgAAAAAAvj8IAAAAAEDKPwkAAAAAgM8/CAAAAABAyj8KAAAAAAC+P///////f6Y/BgAAAAAAhD8AAAAAAABQPw==\",\"dtype\":\"float64\",\"order\":\"little\",\"shape\":[11]}},\"selected\":{\"id\":\"1468\"},\"selection_policy\":{\"id\":\"1469\"}},\"id\":\"1410\",\"type\":\"ColumnDataSource\"},{\"attributes\":{},\"id\":\"1398\",\"type\":\"PanTool\"},{\"attributes\":{\"below\":[{\"id\":\"1390\"}],\"center\":[{\"id\":\"1393\"},{\"id\":\"1397\"}],\"left\":[{\"id\":\"1394\"}],\"plot_height\":400,\"plot_width\":480,\"renderers\":[{\"id\":\"1418\"}],\"title\":{\"id\":\"1457\"},\"toolbar\":{\"id\":\"1401\"},\"x_range\":{\"id\":\"1382\"},\"x_scale\":{\"id\":\"1386\"},\"y_range\":{\"id\":\"1384\"},\"y_scale\":{\"id\":\"1388\"}},\"id\":\"1381\",\"subtype\":\"Figure\",\"type\":\"Plot\"},{\"attributes\":{\"axis_label\":\"k\",\"formatter\":{\"id\":\"1464\"},\"ticker\":{\"id\":\"1391\"}},\"id\":\"1390\",\"type\":\"LinearAxis\"},{\"attributes\":{\"below\":[{\"id\":\"1366\"}],\"center\":[{\"id\":\"1369\"},{\"id\":\"1373\"}],\"left\":[{\"id\":\"1370\"}],\"plot_height\":400,\"plot_width\":480,\"renderers\":[{\"id\":\"1408\"},{\"id\":\"1413\"}],\"title\":{\"id\":\"1356\"},\"toolbar\":{\"id\":\"1377\"},\"x_range\":{\"id\":\"1382\"},\"x_scale\":{\"id\":\"1362\"},\"y_range\":{\"id\":\"1360\"},\"y_scale\":{\"id\":\"1364\"}},\"id\":\"1355\",\"subtype\":\"Figure\",\"type\":\"Plot\"},{\"attributes\":{},\"id\":\"1391\",\"type\":\"BasicTicker\"},{\"attributes\":{\"source\":{\"id\":\"1405\"}},\"id\":\"1409\",\"type\":\"CDSView\"},{\"attributes\":{\"axis_label\":\"P(k; n, p)\",\"formatter\":{\"id\":\"1458\"},\"ticker\":{\"id\":\"1371\"}},\"id\":\"1370\",\"type\":\"LinearAxis\"},{\"attributes\":{\"axis\":{\"id\":\"1390\"},\"ticker\":null},\"id\":\"1393\",\"type\":\"Grid\"},{\"attributes\":{\"text\":\"Binomial, n = 10, p = 0.5\"},\"id\":\"1356\",\"type\":\"Title\"},{\"attributes\":{\"fill_color\":{\"value\":\"dodgerblue\"},\"line_color\":{\"value\":\"dodgerblue\"},\"size\":{\"units\":\"screen\",\"value\":7},\"x\":{\"field\":\"x\"},\"y\":{\"field\":\"y\"}},\"id\":\"1406\",\"type\":\"Circle\"},{\"attributes\":{\"line_alpha\":{\"value\":0.1},\"line_color\":{\"value\":\"dodgerblue\"},\"line_width\":{\"value\":3},\"x0\":{\"field\":\"x0\"},\"x1\":{\"field\":\"x1\"},\"y0\":{\"value\":0},\"y1\":{\"field\":\"y1\"}},\"id\":\"1412\",\"type\":\"Segment\"},{\"attributes\":{\"data_source\":{\"id\":\"1405\"},\"glyph\":{\"id\":\"1406\"},\"hover_glyph\":null,\"muted_glyph\":null,\"nonselection_glyph\":{\"id\":\"1407\"},\"selection_glyph\":null,\"view\":{\"id\":\"1409\"}},\"id\":\"1408\",\"type\":\"GlyphRenderer\"},{\"attributes\":{},\"id\":\"1400\",\"type\":\"ResetTool\"},{\"attributes\":{},\"id\":\"1382\",\"type\":\"DataRange1d\"},{\"attributes\":{\"data_source\":{\"id\":\"1410\"},\"glyph\":{\"id\":\"1411\"},\"hover_glyph\":null,\"muted_glyph\":null,\"nonselection_glyph\":{\"id\":\"1412\"},\"selection_glyph\":null,\"view\":{\"id\":\"1414\"}},\"id\":\"1413\",\"type\":\"GlyphRenderer\"},{\"attributes\":{\"axis\":{\"id\":\"1394\"},\"dimension\":1,\"ticker\":null},\"id\":\"1397\",\"type\":\"Grid\"},{\"attributes\":{\"axis\":{\"id\":\"1366\"},\"ticker\":null},\"id\":\"1369\",\"type\":\"Grid\"}],\"root_ids\":[\"1420\"]},\"title\":\"Bokeh Application\",\"version\":\"2.2.3\"}};\n",
       "  var render_items = [{\"docid\":\"24e5689c-70f4-4c7b-bd49-34a4f5c9923f\",\"root_ids\":[\"1420\"],\"roots\":{\"1420\":\"8148fc78-bb9e-4386-81fa-6ae75b2ab080\"}}];\n",
       "  root.Bokeh.embed.embed_items_notebook(docs_json, render_items);\n",
       "\n",
       "  }\n",
       "  if (root.Bokeh !== undefined) {\n",
       "    embed_document(root);\n",
       "  } else {\n",
       "    var attempts = 0;\n",
       "    var timer = setInterval(function(root) {\n",
       "      if (root.Bokeh !== undefined) {\n",
       "        clearInterval(timer);\n",
       "        embed_document(root);\n",
       "      } else {\n",
       "        attempts++;\n",
       "        if (attempts > 100) {\n",
       "          clearInterval(timer);\n",
       "          console.log(\"Bokeh: ERROR: Unable to run BokehJS code because BokehJS library is missing\");\n",
       "        }\n",
       "      }\n",
       "    }, 10, root)\n",
       "  }\n",
       "})(window);"
      ],
      "application/vnd.bokehjs_exec.v0+json": ""
     },
     "metadata": {
      "application/vnd.bokehjs_exec.v0+json": {
       "id": "1420"
      }
     },
     "output_type": "display_data"
    }
   ],
   "source": [
    "dist = plot_dists(k, st.binom, (10, 0.5), ('n', 'p',), 'Binomial')\n",
    "show(dist)"
   ]
  },
  {
   "cell_type": "code",
   "execution_count": 13,
   "metadata": {},
   "outputs": [
    {
     "data": {
      "text/plain": [
       "0.205078125"
      ]
     },
     "execution_count": 13,
     "metadata": {},
     "output_type": "execute_result"
    }
   ],
   "source": [
    "import math\n",
    "# Exactly 4 Heads\n",
    "# Use the Binomial Distribution formula\n",
    "# 10C4*(0.5)^4*(0.5)^(10-4)\n",
    "math.factorial(10)/((math.factorial(4))*(math.factorial(6)))*((0.5)**4)*((0.5)**(10-4))"
   ]
  },
  {
   "cell_type": "code",
   "execution_count": 14,
   "metadata": {},
   "outputs": [
    {
     "data": {
      "text/plain": [
       "0.20507812500000022"
      ]
     },
     "execution_count": 14,
     "metadata": {},
     "output_type": "execute_result"
    }
   ],
   "source": [
    "# Or use the PMF\n",
    "binomial[4]"
   ]
  },
  {
   "cell_type": "code",
   "execution_count": 15,
   "metadata": {},
   "outputs": [
    {
     "data": {
      "text/plain": [
       "0.3769531250000001"
      ]
     },
     "execution_count": 15,
     "metadata": {},
     "output_type": "execute_result"
    }
   ],
   "source": [
    "# Probability of getting atleast 6 Heads\n",
    "# P(x >= 6) = P(6) + P(7) + P(8) + P(9) + P(10) = 1 - CDF(5) = 1 - cumbinomial(5)\n",
    "1 - cumbinomial[5]"
   ]
  },
  {
   "cell_type": "code",
   "execution_count": 16,
   "metadata": {},
   "outputs": [
    {
     "data": {
      "text/plain": [
       "0.828125"
      ]
     },
     "execution_count": 16,
     "metadata": {},
     "output_type": "execute_result"
    }
   ],
   "source": [
    "# Probability of getting atmost 6 Heads\n",
    "cumbinomial[6]"
   ]
  },
  {
   "cell_type": "markdown",
   "metadata": {},
   "source": [
    "### Prob 2. Call Centre\n",
    "In a call centre with 200 agents, each agent is assigned 50 calls a day. If the average successful conversion ratio in a call is 4%, and each successful conversion is worth a sell of 100 units, what is the mean and standard deviation of the sell in that call centre per day, assuming each agent are independent and calls with equal efficiency?"
   ]
  },
  {
   "cell_type": "code",
   "execution_count": 17,
   "metadata": {
    "scrolled": false
   },
   "outputs": [
    {
     "data": {
      "text/html": [
       "\n",
       "\n",
       "\n",
       "\n",
       "\n",
       "\n",
       "  <div class=\"bk-root\" id=\"071ce158-f3e9-4a81-bb06-c04e8000e85b\" data-root-id=\"1622\"></div>\n"
      ]
     },
     "metadata": {},
     "output_type": "display_data"
    },
    {
     "data": {
      "application/javascript": [
       "(function(root) {\n",
       "  function embed_document(root) {\n",
       "    \n",
       "  var docs_json = {\"2f8c34be-3a55-4931-9ae9-88fa3bbcbd73\":{\"roots\":{\"references\":[{\"attributes\":{\"children\":[{\"id\":\"1557\"},{\"id\":\"1583\"}]},\"id\":\"1622\",\"type\":\"Row\"},{\"attributes\":{\"axis\":{\"id\":\"1596\"},\"dimension\":1,\"ticker\":null},\"id\":\"1599\",\"type\":\"Grid\"},{\"attributes\":{},\"id\":\"1689\",\"type\":\"Selection\"},{\"attributes\":{\"axis_label\":\"F(k; n, p)\",\"formatter\":{\"id\":\"1681\"},\"ticker\":{\"id\":\"1597\"}},\"id\":\"1596\",\"type\":\"LinearAxis\"},{\"attributes\":{\"line_alpha\":{\"value\":0.1},\"line_color\":{\"value\":\"dodgerblue\"},\"line_width\":{\"value\":3},\"x0\":{\"field\":\"x0\"},\"x1\":{\"field\":\"x1\"},\"y0\":{\"value\":0},\"y1\":{\"field\":\"y1\"}},\"id\":\"1614\",\"type\":\"Segment\"},{\"attributes\":{},\"id\":\"1690\",\"type\":\"UnionRenderers\"},{\"attributes\":{\"data_source\":{\"id\":\"1612\"},\"glyph\":{\"id\":\"1613\"},\"hover_glyph\":null,\"muted_glyph\":null,\"nonselection_glyph\":{\"id\":\"1614\"},\"selection_glyph\":null,\"view\":{\"id\":\"1616\"}},\"id\":\"1615\",\"type\":\"GlyphRenderer\"},{\"attributes\":{\"line_color\":{\"value\":\"dodgerblue\"},\"line_width\":{\"value\":3},\"x0\":{\"field\":\"x0\"},\"x1\":{\"field\":\"x1\"},\"y0\":{\"value\":0},\"y1\":{\"field\":\"y1\"}},\"id\":\"1613\",\"type\":\"Segment\"},{\"attributes\":{\"below\":[{\"id\":\"1568\"}],\"center\":[{\"id\":\"1571\"},{\"id\":\"1575\"}],\"left\":[{\"id\":\"1572\"}],\"plot_height\":400,\"plot_width\":480,\"renderers\":[{\"id\":\"1610\"},{\"id\":\"1615\"}],\"title\":{\"id\":\"1558\"},\"toolbar\":{\"id\":\"1579\"},\"x_range\":{\"id\":\"1584\"},\"x_scale\":{\"id\":\"1564\"},\"y_range\":{\"id\":\"1562\"},\"y_scale\":{\"id\":\"1566\"}},\"id\":\"1557\",\"subtype\":\"Figure\",\"type\":\"Plot\"},{\"attributes\":{\"fill_alpha\":{\"value\":0.1},\"fill_color\":{\"value\":\"dodgerblue\"},\"line_alpha\":{\"value\":0.1},\"line_color\":{\"value\":\"dodgerblue\"},\"size\":{\"units\":\"screen\",\"value\":7},\"x\":{\"field\":\"x\"},\"y\":{\"field\":\"y\"}},\"id\":\"1609\",\"type\":\"Circle\"},{\"attributes\":{\"data\":{\"x\":{\"__ndarray__\":\"AAAAAAEAAAACAAAAAwAAAAQAAAAFAAAABgAAAAcAAAAIAAAACQAAAAoAAAALAAAADAAAAA0AAAAOAAAADwAAABAAAAARAAAAEgAAABMAAAAUAAAAFQAAABYAAAAXAAAAGAAAABkAAAAaAAAAGwAAABwAAAAdAAAAHgAAAB8AAAAgAAAAIQAAACIAAAAjAAAAJAAAACUAAAAmAAAAJwAAACgAAAApAAAAKgAAACsAAAAsAAAALQAAAC4AAAAvAAAAMAAAADEAAAAyAAAA\",\"dtype\":\"int32\",\"order\":\"little\",\"shape\":[51]},\"y\":{\"__ndarray__\":\"ajKyARmgwD8AY53ie6HZP+jhiiCkp+U/1qxdlT2M6z+GNTph027uP5YUpDPzie8/SyplJW3i7z91TjxGmfnvPzl97NLJ/u8/+zArJ8z/7z/1s8JI+P/vP3BThPj+/+8/XjZR4P//7z/HoIz8///vPxGBqP///+8/fhf4////7z+KWP/////vP0vz/////+8/Hf//////7z/x///////vP////////+8/////////7z/////////vP////////+8/////////7z/////////vP////////+8/////////7z/////////vP////////+8/////////7z/////////vP////////+8/////////7z/////////vP////////+8/////////7z/////////vP////////+8/////////7z/////////vP////////+8/////////7z/////////vP////////+8/////////7z/////////vP////////+8/////////7z/////////vPwAAAAAAAPA/\",\"dtype\":\"float64\",\"order\":\"little\",\"shape\":[51]}},\"selected\":{\"id\":\"1689\"},\"selection_policy\":{\"id\":\"1690\"}},\"id\":\"1617\",\"type\":\"ColumnDataSource\"},{\"attributes\":{\"axis_label\":\"k\",\"formatter\":{\"id\":\"1683\"},\"ticker\":{\"id\":\"1593\"}},\"id\":\"1592\",\"type\":\"LinearAxis\"},{\"attributes\":{\"end\":1.05,\"start\":-0.05},\"id\":\"1586\",\"type\":\"Range1d\"},{\"attributes\":{\"fill_alpha\":{\"value\":0.1},\"fill_color\":{\"value\":\"dodgerblue\"},\"line_alpha\":{\"value\":0.1},\"line_color\":{\"value\":\"dodgerblue\"},\"size\":{\"units\":\"screen\",\"value\":3},\"x\":{\"field\":\"x\"},\"y\":{\"field\":\"y\"}},\"id\":\"1619\",\"type\":\"Circle\"},{\"attributes\":{\"source\":{\"id\":\"1612\"}},\"id\":\"1616\",\"type\":\"CDSView\"},{\"attributes\":{},\"id\":\"1593\",\"type\":\"BasicTicker\"},{\"attributes\":{\"text\":\"Binomial, n = 50, p = 0.04\"},\"id\":\"1558\",\"type\":\"Title\"},{\"attributes\":{},\"id\":\"1569\",\"type\":\"BasicTicker\"},{\"attributes\":{\"active_drag\":\"auto\",\"active_inspect\":\"auto\",\"active_multi\":null,\"active_scroll\":\"auto\",\"active_tap\":\"auto\",\"tools\":[{\"id\":\"1576\"},{\"id\":\"1577\"},{\"id\":\"1578\"}]},\"id\":\"1579\",\"type\":\"Toolbar\"},{\"attributes\":{\"fill_color\":{\"value\":\"dodgerblue\"},\"line_color\":{\"value\":\"dodgerblue\"},\"size\":{\"units\":\"screen\",\"value\":3},\"x\":{\"field\":\"x\"},\"y\":{\"field\":\"y\"}},\"id\":\"1618\",\"type\":\"Circle\"},{\"attributes\":{\"axis_label\":\"k\",\"formatter\":{\"id\":\"1679\"},\"ticker\":{\"id\":\"1569\"}},\"id\":\"1568\",\"type\":\"LinearAxis\"},{\"attributes\":{\"source\":{\"id\":\"1617\"}},\"id\":\"1621\",\"type\":\"CDSView\"},{\"attributes\":{\"axis_label\":\"P(k; n, p)\",\"formatter\":{\"id\":\"1677\"},\"ticker\":{\"id\":\"1573\"}},\"id\":\"1572\",\"type\":\"LinearAxis\"},{\"attributes\":{},\"id\":\"1685\",\"type\":\"Selection\"},{\"attributes\":{},\"id\":\"1566\",\"type\":\"LinearScale\"},{\"attributes\":{},\"id\":\"1686\",\"type\":\"UnionRenderers\"},{\"attributes\":{},\"id\":\"1562\",\"type\":\"DataRange1d\"},{\"attributes\":{},\"id\":\"1564\",\"type\":\"LinearScale\"},{\"attributes\":{\"axis\":{\"id\":\"1592\"},\"ticker\":null},\"id\":\"1595\",\"type\":\"Grid\"},{\"attributes\":{\"axis\":{\"id\":\"1568\"},\"ticker\":null},\"id\":\"1571\",\"type\":\"Grid\"},{\"attributes\":{\"data_source\":{\"id\":\"1617\"},\"glyph\":{\"id\":\"1618\"},\"hover_glyph\":null,\"muted_glyph\":null,\"nonselection_glyph\":{\"id\":\"1619\"},\"selection_glyph\":null,\"view\":{\"id\":\"1621\"}},\"id\":\"1620\",\"type\":\"GlyphRenderer\"},{\"attributes\":{},\"id\":\"1681\",\"type\":\"BasicTickFormatter\"},{\"attributes\":{\"axis\":{\"id\":\"1572\"},\"dimension\":1,\"ticker\":null},\"id\":\"1575\",\"type\":\"Grid\"},{\"attributes\":{},\"id\":\"1573\",\"type\":\"BasicTicker\"},{\"attributes\":{},\"id\":\"1683\",\"type\":\"BasicTickFormatter\"},{\"attributes\":{},\"id\":\"1687\",\"type\":\"Selection\"},{\"attributes\":{},\"id\":\"1588\",\"type\":\"LinearScale\"},{\"attributes\":{},\"id\":\"1584\",\"type\":\"DataRange1d\"},{\"attributes\":{},\"id\":\"1688\",\"type\":\"UnionRenderers\"},{\"attributes\":{},\"id\":\"1577\",\"type\":\"WheelZoomTool\"},{\"attributes\":{},\"id\":\"1590\",\"type\":\"LinearScale\"},{\"attributes\":{\"data_source\":{\"id\":\"1607\"},\"glyph\":{\"id\":\"1608\"},\"hover_glyph\":null,\"muted_glyph\":null,\"nonselection_glyph\":{\"id\":\"1609\"},\"selection_glyph\":null,\"view\":{\"id\":\"1611\"}},\"id\":\"1610\",\"type\":\"GlyphRenderer\"},{\"attributes\":{},\"id\":\"1576\",\"type\":\"PanTool\"},{\"attributes\":{\"text\":\"\"},\"id\":\"1676\",\"type\":\"Title\"},{\"attributes\":{},\"id\":\"1578\",\"type\":\"ResetTool\"},{\"attributes\":{\"fill_color\":{\"value\":\"dodgerblue\"},\"line_color\":{\"value\":\"dodgerblue\"},\"size\":{\"units\":\"screen\",\"value\":7},\"x\":{\"field\":\"x\"},\"y\":{\"field\":\"y\"}},\"id\":\"1608\",\"type\":\"Circle\"},{\"attributes\":{\"source\":{\"id\":\"1607\"}},\"id\":\"1611\",\"type\":\"CDSView\"},{\"attributes\":{},\"id\":\"1679\",\"type\":\"BasicTickFormatter\"},{\"attributes\":{},\"id\":\"1602\",\"type\":\"ResetTool\"},{\"attributes\":{\"data\":{\"x\":{\"__ndarray__\":\"AAAAAAEAAAACAAAAAwAAAAQAAAAFAAAABgAAAAcAAAAIAAAACQAAAAoAAAALAAAADAAAAA0AAAAOAAAADwAAABAAAAARAAAAEgAAABMAAAAUAAAAFQAAABYAAAAXAAAAGAAAABkAAAAaAAAAGwAAABwAAAAdAAAAHgAAAB8AAAAgAAAAIQAAACIAAAAjAAAAJAAAACUAAAAmAAAAJwAAACgAAAApAAAAKgAAACsAAAAsAAAALQAAAC4AAAAvAAAAMAAAADEAAAAyAAAA\",\"dtype\":\"int32\",\"order\":\"little\",\"shape\":[51]},\"y\":{\"__ndarray__\":\"cjKyARmgwD8HSsRhb1HRP6tgeF7MrdE/BytL02WSxz+IReRerhS3P1TwnSb9saE/cW1FcHwehj81KSTXICxnP/UPu8AywkQ/myg860MlID/e4XzByxD2Pia17H0Gv8o+j27AXZz5nD5U3HloajtsPjUQ2U8C3zg+QA0Uc5vlAz7P6CddLQTNPbmaGj4eWJM9u72uvZakVz3ey5Kj44saPYiwFzprbts8iJzZmAQgmjyH7YhfWfVWPPXPjMAFohI89TfToAjzyzs2hkDI0mCDO6VqZqsH2Dg76+ZvM9Bx7TpxX0Oi2R+gOhaZk/NLT1A6anICHONx/jm10+NGazCqOS6yyUKqu1Q50zBreD0o/jgMzJyl0xqkOJ9veBU6gkg4hl9p+1w76zeEWr0UK3qLNxtNjc8iESk3gyW8o1eRxDbcnL6JgCpeNn9CA/7DnvM12QOWtE1shjXyOGUYzj8WNUJXJ+bN4KI0rnRlWFLZKjSf0kyPESGvM3cxBu9UQiwzWCEESuPWojJSN+t5hWcQMlYFjuQu/2sx\",\"dtype\":\"float64\",\"order\":\"little\",\"shape\":[51]}},\"selected\":{\"id\":\"1685\"},\"selection_policy\":{\"id\":\"1686\"}},\"id\":\"1607\",\"type\":\"ColumnDataSource\"},{\"attributes\":{\"below\":[{\"id\":\"1592\"}],\"center\":[{\"id\":\"1595\"},{\"id\":\"1599\"}],\"left\":[{\"id\":\"1596\"}],\"plot_height\":400,\"plot_width\":480,\"renderers\":[{\"id\":\"1620\"}],\"title\":{\"id\":\"1676\"},\"toolbar\":{\"id\":\"1603\"},\"x_range\":{\"id\":\"1584\"},\"x_scale\":{\"id\":\"1588\"},\"y_range\":{\"id\":\"1586\"},\"y_scale\":{\"id\":\"1590\"}},\"id\":\"1583\",\"subtype\":\"Figure\",\"type\":\"Plot\"},{\"attributes\":{},\"id\":\"1677\",\"type\":\"BasicTickFormatter\"},{\"attributes\":{},\"id\":\"1601\",\"type\":\"WheelZoomTool\"},{\"attributes\":{\"active_drag\":\"auto\",\"active_inspect\":\"auto\",\"active_multi\":null,\"active_scroll\":\"auto\",\"active_tap\":\"auto\",\"tools\":[{\"id\":\"1600\"},{\"id\":\"1601\"},{\"id\":\"1602\"}]},\"id\":\"1603\",\"type\":\"Toolbar\"},{\"attributes\":{},\"id\":\"1600\",\"type\":\"PanTool\"},{\"attributes\":{},\"id\":\"1597\",\"type\":\"BasicTicker\"},{\"attributes\":{\"data\":{\"x0\":{\"__ndarray__\":\"AAAAAAEAAAACAAAAAwAAAAQAAAAFAAAABgAAAAcAAAAIAAAACQAAAAoAAAALAAAADAAAAA0AAAAOAAAADwAAABAAAAARAAAAEgAAABMAAAAUAAAAFQAAABYAAAAXAAAAGAAAABkAAAAaAAAAGwAAABwAAAAdAAAAHgAAAB8AAAAgAAAAIQAAACIAAAAjAAAAJAAAACUAAAAmAAAAJwAAACgAAAApAAAAKgAAACsAAAAsAAAALQAAAC4AAAAvAAAAMAAAADEAAAAyAAAA\",\"dtype\":\"int32\",\"order\":\"little\",\"shape\":[51]},\"x1\":{\"__ndarray__\":\"AAAAAAEAAAACAAAAAwAAAAQAAAAFAAAABgAAAAcAAAAIAAAACQAAAAoAAAALAAAADAAAAA0AAAAOAAAADwAAABAAAAARAAAAEgAAABMAAAAUAAAAFQAAABYAAAAXAAAAGAAAABkAAAAaAAAAGwAAABwAAAAdAAAAHgAAAB8AAAAgAAAAIQAAACIAAAAjAAAAJAAAACUAAAAmAAAAJwAAACgAAAApAAAAKgAAACsAAAAsAAAALQAAAC4AAAAvAAAAMAAAADEAAAAyAAAA\",\"dtype\":\"int32\",\"order\":\"little\",\"shape\":[51]},\"y1\":{\"__ndarray__\":\"cjKyARmgwD8HSsRhb1HRP6tgeF7MrdE/BytL02WSxz+IReRerhS3P1TwnSb9saE/cW1FcHwehj81KSTXICxnP/UPu8AywkQ/myg860MlID/e4XzByxD2Pia17H0Gv8o+j27AXZz5nD5U3HloajtsPjUQ2U8C3zg+QA0Uc5vlAz7P6CddLQTNPbmaGj4eWJM9u72uvZakVz3ey5Kj44saPYiwFzprbts8iJzZmAQgmjyH7YhfWfVWPPXPjMAFohI89TfToAjzyzs2hkDI0mCDO6VqZqsH2Dg76+ZvM9Bx7TpxX0Oi2R+gOhaZk/NLT1A6anICHONx/jm10+NGazCqOS6yyUKqu1Q50zBreD0o/jgMzJyl0xqkOJ9veBU6gkg4hl9p+1w76zeEWr0UK3qLNxtNjc8iESk3gyW8o1eRxDbcnL6JgCpeNn9CA/7DnvM12QOWtE1shjXyOGUYzj8WNUJXJ+bN4KI0rnRlWFLZKjSf0kyPESGvM3cxBu9UQiwzWCEESuPWojJSN+t5hWcQMlYFjuQu/2sx\",\"dtype\":\"float64\",\"order\":\"little\",\"shape\":[51]}},\"selected\":{\"id\":\"1687\"},\"selection_policy\":{\"id\":\"1688\"}},\"id\":\"1612\",\"type\":\"ColumnDataSource\"}],\"root_ids\":[\"1622\"]},\"title\":\"Bokeh Application\",\"version\":\"2.2.3\"}};\n",
       "  var render_items = [{\"docid\":\"2f8c34be-3a55-4931-9ae9-88fa3bbcbd73\",\"root_ids\":[\"1622\"],\"roots\":{\"1622\":\"071ce158-f3e9-4a81-bb06-c04e8000e85b\"}}];\n",
       "  root.Bokeh.embed.embed_items_notebook(docs_json, render_items);\n",
       "\n",
       "  }\n",
       "  if (root.Bokeh !== undefined) {\n",
       "    embed_document(root);\n",
       "  } else {\n",
       "    var attempts = 0;\n",
       "    var timer = setInterval(function(root) {\n",
       "      if (root.Bokeh !== undefined) {\n",
       "        clearInterval(timer);\n",
       "        embed_document(root);\n",
       "      } else {\n",
       "        attempts++;\n",
       "        if (attempts > 100) {\n",
       "          clearInterval(timer);\n",
       "          console.log(\"Bokeh: ERROR: Unable to run BokehJS code because BokehJS library is missing\");\n",
       "        }\n",
       "      }\n",
       "    }, 10, root)\n",
       "  }\n",
       "})(window);"
      ],
      "application/vnd.bokehjs_exec.v0+json": ""
     },
     "metadata": {
      "application/vnd.bokehjs_exec.v0+json": {
       "id": "1622"
      }
     },
     "output_type": "display_data"
    }
   ],
   "source": [
    "k = np.arange(51)\n",
    "dist = plot_dists(k, st.binom, (50, 0.04), ('n', 'p',), 'Binomial')\n",
    "show(dist)"
   ]
  },
  {
   "cell_type": "markdown",
   "metadata": {},
   "source": [
    "We can form new distributions by combining random variables. If we know the mean and standard deviation of the original distributions, we can use that information to find the mean and standard deviation of the resulting distribution.\n",
    "We can combine means directly, but we can't do this with standard deviations. We can combine variances as long as it's reasonable to assume that the variables are independent.\n"
   ]
  },
  {
   "cell_type": "code",
   "execution_count": 18,
   "metadata": {},
   "outputs": [
    {
     "data": {
      "text/plain": [
       "400.0"
      ]
     },
     "execution_count": 18,
     "metadata": {},
     "output_type": "execute_result"
    }
   ],
   "source": [
    "# Average successful calls per agent = E(p) = n.p\n",
    "# Total successful calls = 200.n.p\n",
    "200*50*0.04"
   ]
  },
  {
   "cell_type": "code",
   "execution_count": 19,
   "metadata": {},
   "outputs": [
    {
     "data": {
      "text/plain": [
       "384.0"
      ]
     },
     "execution_count": 19,
     "metadata": {},
     "output_type": "execute_result"
    }
   ],
   "source": [
    "# Variance per agent = n.p.(1-p)\n",
    "# Total variance across all agents = 200.n.p.(1 - p)\n",
    "200*50*0.04*(1 - 0.04)"
   ]
  },
  {
   "cell_type": "code",
   "execution_count": 20,
   "metadata": {},
   "outputs": [
    {
     "data": {
      "text/plain": [
       "19.595917942265423"
      ]
     },
     "execution_count": 20,
     "metadata": {},
     "output_type": "execute_result"
    }
   ],
   "source": [
    "# Standard Deviation across all agents\n",
    "np.sqrt(384)"
   ]
  },
  {
   "cell_type": "code",
   "execution_count": 21,
   "metadata": {},
   "outputs": [
    {
     "data": {
      "text/plain": [
       "40000"
      ]
     },
     "execution_count": 21,
     "metadata": {},
     "output_type": "execute_result"
    }
   ],
   "source": [
    "# Average business per day = 400*100 units\n",
    "400*100"
   ]
  },
  {
   "cell_type": "code",
   "execution_count": 22,
   "metadata": {},
   "outputs": [
    {
     "data": {
      "text/plain": [
       "1959.5900000000001"
      ]
     },
     "execution_count": 22,
     "metadata": {},
     "output_type": "execute_result"
    }
   ],
   "source": [
    "# Standard Deviation in business per day\n",
    "19.5959*100"
   ]
  },
  {
   "cell_type": "markdown",
   "metadata": {},
   "source": [
    "## Poisson distribution\n",
    "\n",
    "Rare events occur with a rate $\\lambda$ per unit\n",
    "time.  There is no \"memory\" of previous events; i.e., that rate is\n",
    "independent of time. A process that generates such events is called a *Poisson process*. The occurrence of a rare event in this context is referred to as an *arrival*. The number $k$ of arrivals in unit time is Poisson distributed.\n",
    "\n",
    "**Parameter.** The single parameter is the rate $\\lambda$ of\n",
    "the rare events occurring.\n",
    "\n",
    "**Examples** \n",
    "* The number of mutations in a strand of DNA per unit length (since mutations are rare) are Poisson distributed.\n",
    "* The number of emergency patients arriving in a hospital between 10 and 11 AM.\n",
    "\n",
    "**Probability mass function**\n",
    "\\begin{align}\n",
    "P(k;\\lambda) = \\frac{\\lambda^k}{k!}\\,\\mathrm{e}^{-\\lambda}.\n",
    "\\end{align}\n",
    "\n",
    "**Notes.**\n",
    "The Poisson distribution is a limit of the binomial distribution in\n",
    "which the number of trials goes to infinity, but the expected number\n",
    "of successes, $np$, stays fixed.  Thus,\n",
    "\n",
    "\\begin{align}\n",
    "P_\\mathrm{Poisson}(k;\\lambda) \\approx P_\\mathrm{Binomial}(k;n, p),\n",
    "\\end{align}\n",
    "\n",
    "with $\\lambda = np$.  Considering the biological example of mutations,\n",
    "this is binomially distributed: There are $n$ bases, each with a\n",
    "probability $p$ of mutation, so the number of mutations, $k$ is\n",
    "binomially distributed.  Since $p$ is small, it is approximately\n",
    "Poisson distributed.\n",
    "\n",
    "### Summary Statistics\n",
    "\n",
    "\\begin{align}\n",
    "\\text{Mean} &= \\langle x \\rangle &= \\mathbf{E}(x) &= \\sum_i x_i*P(x_i) = \\lambda\n",
    "\\end{align}\n",
    "\n",
    "\\begin{align}\n",
    "\\text{Variance} &= \\left\\langle x^2 \\right\\rangle - \\langle x \\rangle^2\n",
    "= \\left\\langle(x - \\langle x \\rangle)^2 \\right\\rangle = \\sum\\limits_{i=1}^{m}{\\mathbf{p}(\\mathbf{x}_i).{(\\mathbf{x}_i} - \\mu)^2}  = \\mathbf{n.p}(1-\\mathbf{p}) = \\lambda\n",
    "\\end{align}"
   ]
  },
  {
   "cell_type": "code",
   "execution_count": 23,
   "metadata": {},
   "outputs": [
    {
     "data": {
      "text/plain": [
       "<matplotlib.legend.Legend at 0x1d03d786550>"
      ]
     },
     "execution_count": 23,
     "metadata": {},
     "output_type": "execute_result"
    },
    {
     "data": {
      "image/png": "[encoded data removed]",
      "text/plain": [
       "<Figure size 576x432 with 1 Axes>"
      ]
     },
     "metadata": {},
     "output_type": "display_data"
    }
   ],
   "source": [
    "k = np.arange(25)\n",
    "a = st.poisson.pmf(k,2.5)\n",
    "b = st.poisson.pmf(k, 4)\n",
    "c = st.poisson.pmf(k, 6)\n",
    "\n",
    "fig, ax = plt.subplots(figsize=(8,6))\n",
    "plt.plot(k, a, color='green', marker='o', label='lambda = 2.5')\n",
    "plt.plot(k, b, color='blue', marker = 'o', label='lambda = 4')\n",
    "plt.plot(k, c, color = 'red', marker = 'o', label='lambda = 6')\n",
    "plt.legend()"
   ]
  },
  {
   "cell_type": "code",
   "execution_count": 24,
   "metadata": {},
   "outputs": [
    {
     "data": {
      "text/html": [
       "\n",
       "\n",
       "\n",
       "\n",
       "\n",
       "\n",
       "  <div class=\"bk-root\" id=\"bebf3bd1-62fd-408c-9d64-b2eaa98b6804\" data-root-id=\"1841\"></div>\n"
      ]
     },
     "metadata": {},
     "output_type": "display_data"
    },
    {
     "data": {
      "application/javascript": [
       "(function(root) {\n",
       "  function embed_document(root) {\n",
       "    \n",
       "  var docs_json = {\"e6d4a4ac-0dd3-4e61-aaab-93ea93387900\":{\"roots\":{\"references\":[{\"attributes\":{\"children\":[{\"id\":\"1776\"},{\"id\":\"1802\"}]},\"id\":\"1841\",\"type\":\"Row\"},{\"attributes\":{\"end\":1.05,\"start\":-0.05},\"id\":\"1805\",\"type\":\"Range1d\"},{\"attributes\":{\"line_color\":{\"value\":\"dodgerblue\"},\"line_width\":{\"value\":3},\"x0\":{\"field\":\"x0\"},\"x1\":{\"field\":\"x1\"},\"y0\":{\"value\":0},\"y1\":{\"field\":\"y1\"}},\"id\":\"1832\",\"type\":\"Segment\"},{\"attributes\":{},\"id\":\"1803\",\"type\":\"DataRange1d\"},{\"attributes\":{},\"id\":\"1796\",\"type\":\"WheelZoomTool\"},{\"attributes\":{},\"id\":\"1797\",\"type\":\"ResetTool\"},{\"attributes\":{},\"id\":\"1921\",\"type\":\"Selection\"},{\"attributes\":{\"axis_label\":\"F(k; \\u03bb)\",\"formatter\":{\"id\":\"1917\"},\"ticker\":{\"id\":\"1816\"}},\"id\":\"1815\",\"type\":\"LinearAxis\"},{\"attributes\":{},\"id\":\"1922\",\"type\":\"UnionRenderers\"},{\"attributes\":{},\"id\":\"1913\",\"type\":\"BasicTickFormatter\"},{\"attributes\":{},\"id\":\"1917\",\"type\":\"BasicTickFormatter\"},{\"attributes\":{\"source\":{\"id\":\"1826\"}},\"id\":\"1830\",\"type\":\"CDSView\"},{\"attributes\":{},\"id\":\"1919\",\"type\":\"BasicTickFormatter\"},{\"attributes\":{\"axis_label\":\"k\",\"formatter\":{\"id\":\"1919\"},\"ticker\":{\"id\":\"1812\"}},\"id\":\"1811\",\"type\":\"LinearAxis\"},{\"attributes\":{\"axis\":{\"id\":\"1811\"},\"ticker\":null},\"id\":\"1814\",\"type\":\"Grid\"},{\"attributes\":{\"fill_alpha\":{\"value\":0.1},\"fill_color\":{\"value\":\"dodgerblue\"},\"line_alpha\":{\"value\":0.1},\"line_color\":{\"value\":\"dodgerblue\"},\"size\":{\"units\":\"screen\",\"value\":7},\"x\":{\"field\":\"x\"},\"y\":{\"field\":\"y\"}},\"id\":\"1828\",\"type\":\"Circle\"},{\"attributes\":{\"data\":{\"x0\":{\"__ndarray__\":\"AAAAAAEAAAACAAAAAwAAAAQAAAAFAAAABgAAAAcAAAAIAAAACQAAAAoAAAALAAAADAAAAA0AAAAOAAAADwAAABAAAAARAAAAEgAAABMAAAAUAAAA\",\"dtype\":\"int32\",\"order\":\"little\",\"shape\":[21]},\"x1\":{\"__ndarray__\":\"AAAAAAEAAAACAAAAAwAAAAQAAAAFAAAABgAAAAcAAAAIAAAACQAAAAoAAAALAAAADAAAAA0AAAAOAAAADwAAABAAAAARAAAAEgAAABMAAAAUAAAA\",\"dtype\":\"int32\",\"order\":\"little\",\"shape\":[21]},\"y1\":{\"__ndarray__\":\"9DwhuFXBkj/1PCG4VcGyP/Q8IbhVwcI/RFEsoMcByT9EUSygxwHJPzl0I4BsAcQ/RPDZqpCsuj9yyWYME3yuP3HJZgwTfJ4/4STNfPQYiz+uUNdjkK11P+ajCtcXiF8/8hcHOmUFRT9q4n6CQd8pP6QCkXBvkQ0/8SQSeBCK7z7vJBJ4EIrPPssiII8er60+51eO1MViij6SIfHNOjhmPni0jXGVxkE+\",\"dtype\":\"float64\",\"order\":\"little\",\"shape\":[21]}},\"selected\":{\"id\":\"1923\"},\"selection_policy\":{\"id\":\"1924\"}},\"id\":\"1831\",\"type\":\"ColumnDataSource\"},{\"attributes\":{},\"id\":\"1812\",\"type\":\"BasicTicker\"},{\"attributes\":{\"line_alpha\":{\"value\":0.1},\"line_color\":{\"value\":\"dodgerblue\"},\"line_width\":{\"value\":3},\"x0\":{\"field\":\"x0\"},\"x1\":{\"field\":\"x1\"},\"y0\":{\"value\":0},\"y1\":{\"field\":\"y1\"}},\"id\":\"1833\",\"type\":\"Segment\"},{\"attributes\":{},\"id\":\"1923\",\"type\":\"Selection\"},{\"attributes\":{\"data_source\":{\"id\":\"1826\"},\"glyph\":{\"id\":\"1827\"},\"hover_glyph\":null,\"muted_glyph\":null,\"nonselection_glyph\":{\"id\":\"1828\"},\"selection_glyph\":null,\"view\":{\"id\":\"1830\"}},\"id\":\"1829\",\"type\":\"GlyphRenderer\"},{\"attributes\":{},\"id\":\"1924\",\"type\":\"UnionRenderers\"},{\"attributes\":{\"data_source\":{\"id\":\"1831\"},\"glyph\":{\"id\":\"1832\"},\"hover_glyph\":null,\"muted_glyph\":null,\"nonselection_glyph\":{\"id\":\"1833\"},\"selection_glyph\":null,\"view\":{\"id\":\"1835\"}},\"id\":\"1834\",\"type\":\"GlyphRenderer\"},{\"attributes\":{\"axis\":{\"id\":\"1815\"},\"dimension\":1,\"ticker\":null},\"id\":\"1818\",\"type\":\"Grid\"},{\"attributes\":{},\"id\":\"1816\",\"type\":\"BasicTicker\"},{\"attributes\":{\"data\":{\"x\":{\"__ndarray__\":\"AAAAAAEAAAACAAAAAwAAAAQAAAAFAAAABgAAAAcAAAAIAAAACQAAAAoAAAALAAAADAAAAA0AAAAOAAAADwAAABAAAAARAAAAEgAAABMAAAAUAAAA\",\"dtype\":\"int32\",\"order\":\"little\",\"shape\":[21]},\"y\":{\"__ndarray__\":\"9DwhuFXBkj/1PCG4VcGyP/Q8IbhVwcI/RFEsoMcByT9EUSygxwHJPzl0I4BsAcQ/RPDZqpCsuj9yyWYME3yuP3HJZgwTfJ4/4STNfPQYiz+uUNdjkK11P+ajCtcXiF8/8hcHOmUFRT9q4n6CQd8pP6QCkXBvkQ0/8SQSeBCK7z7vJBJ4EIrPPssiII8er60+51eO1MViij6SIfHNOjhmPni0jXGVxkE+\",\"dtype\":\"float64\",\"order\":\"little\",\"shape\":[21]}},\"selected\":{\"id\":\"1921\"},\"selection_policy\":{\"id\":\"1922\"}},\"id\":\"1826\",\"type\":\"ColumnDataSource\"},{\"attributes\":{\"fill_color\":{\"value\":\"dodgerblue\"},\"line_color\":{\"value\":\"dodgerblue\"},\"size\":{\"units\":\"screen\",\"value\":7},\"x\":{\"field\":\"x\"},\"y\":{\"field\":\"y\"}},\"id\":\"1827\",\"type\":\"Circle\"},{\"attributes\":{\"below\":[{\"id\":\"1787\"}],\"center\":[{\"id\":\"1790\"},{\"id\":\"1794\"}],\"left\":[{\"id\":\"1791\"}],\"plot_height\":400,\"plot_width\":480,\"renderers\":[{\"id\":\"1829\"},{\"id\":\"1834\"}],\"title\":{\"id\":\"1777\"},\"toolbar\":{\"id\":\"1798\"},\"x_range\":{\"id\":\"1803\"},\"x_scale\":{\"id\":\"1783\"},\"y_range\":{\"id\":\"1781\"},\"y_scale\":{\"id\":\"1785\"}},\"id\":\"1776\",\"subtype\":\"Figure\",\"type\":\"Plot\"},{\"attributes\":{\"active_drag\":\"auto\",\"active_inspect\":\"auto\",\"active_multi\":null,\"active_scroll\":\"auto\",\"active_tap\":\"auto\",\"tools\":[{\"id\":\"1819\"},{\"id\":\"1820\"},{\"id\":\"1821\"}]},\"id\":\"1822\",\"type\":\"Toolbar\"},{\"attributes\":{\"source\":{\"id\":\"1831\"}},\"id\":\"1835\",\"type\":\"CDSView\"},{\"attributes\":{},\"id\":\"1809\",\"type\":\"LinearScale\"},{\"attributes\":{},\"id\":\"1820\",\"type\":\"WheelZoomTool\"},{\"attributes\":{\"fill_color\":{\"value\":\"dodgerblue\"},\"line_color\":{\"value\":\"dodgerblue\"},\"size\":{\"units\":\"screen\",\"value\":3},\"x\":{\"field\":\"x\"},\"y\":{\"field\":\"y\"}},\"id\":\"1837\",\"type\":\"Circle\"},{\"attributes\":{},\"id\":\"1819\",\"type\":\"PanTool\"},{\"attributes\":{\"text\":\"Poisson, \\u03bb = 4\"},\"id\":\"1777\",\"type\":\"Title\"},{\"attributes\":{\"source\":{\"id\":\"1836\"}},\"id\":\"1840\",\"type\":\"CDSView\"},{\"attributes\":{},\"id\":\"1807\",\"type\":\"LinearScale\"},{\"attributes\":{},\"id\":\"1821\",\"type\":\"ResetTool\"},{\"attributes\":{\"fill_alpha\":{\"value\":0.1},\"fill_color\":{\"value\":\"dodgerblue\"},\"line_alpha\":{\"value\":0.1},\"line_color\":{\"value\":\"dodgerblue\"},\"size\":{\"units\":\"screen\",\"value\":3},\"x\":{\"field\":\"x\"},\"y\":{\"field\":\"y\"}},\"id\":\"1838\",\"type\":\"Circle\"},{\"attributes\":{},\"id\":\"1915\",\"type\":\"BasicTickFormatter\"},{\"attributes\":{\"active_drag\":\"auto\",\"active_inspect\":\"auto\",\"active_multi\":null,\"active_scroll\":\"auto\",\"active_tap\":\"auto\",\"tools\":[{\"id\":\"1795\"},{\"id\":\"1796\"},{\"id\":\"1797\"}]},\"id\":\"1798\",\"type\":\"Toolbar\"},{\"attributes\":{\"data\":{\"x\":{\"__ndarray__\":\"AAAAAAEAAAACAAAAAwAAAAQAAAAFAAAABgAAAAcAAAAIAAAACQAAAAoAAAALAAAADAAAAA0AAAAOAAAADwAAABAAAAARAAAAEgAAABMAAAAUAAAA\",\"dtype\":\"int32\",\"order\":\"little\",\"shape\":[21]},\"y\":{\"__ndarray__\":\"9TwhuFXBkj8xjCkmq3G3Pw4DNksres4/Kiqxdfm92z9lqeOibh/kP3SG7MLJH+k/fsRH2Ft17D8WMQ4JHV3uP2FncaH9UO8/9Jtkc2G97z+WSiyUvOjvP+jPF6CA+O8/rlFm+cH97z+ceX7tX//vP+A7PDPW/+8/8rNMvfX/7z/30dCf/f/vP+m6wnr//+8/O9JN5P//7z8JDYb6///vP2Wy9/7//+8/\",\"dtype\":\"float64\",\"order\":\"little\",\"shape\":[21]}},\"selected\":{\"id\":\"1925\"},\"selection_policy\":{\"id\":\"1926\"}},\"id\":\"1836\",\"type\":\"ColumnDataSource\"},{\"attributes\":{},\"id\":\"1788\",\"type\":\"BasicTicker\"},{\"attributes\":{},\"id\":\"1795\",\"type\":\"PanTool\"},{\"attributes\":{\"axis_label\":\"k\",\"formatter\":{\"id\":\"1915\"},\"ticker\":{\"id\":\"1788\"}},\"id\":\"1787\",\"type\":\"LinearAxis\"},{\"attributes\":{\"axis_label\":\"P(k; \\u03bb)\",\"formatter\":{\"id\":\"1913\"},\"ticker\":{\"id\":\"1792\"}},\"id\":\"1791\",\"type\":\"LinearAxis\"},{\"attributes\":{},\"id\":\"1785\",\"type\":\"LinearScale\"},{\"attributes\":{\"data_source\":{\"id\":\"1836\"},\"glyph\":{\"id\":\"1837\"},\"hover_glyph\":null,\"muted_glyph\":null,\"nonselection_glyph\":{\"id\":\"1838\"},\"selection_glyph\":null,\"view\":{\"id\":\"1840\"}},\"id\":\"1839\",\"type\":\"GlyphRenderer\"},{\"attributes\":{},\"id\":\"1781\",\"type\":\"DataRange1d\"},{\"attributes\":{},\"id\":\"1783\",\"type\":\"LinearScale\"},{\"attributes\":{\"text\":\"\"},\"id\":\"1912\",\"type\":\"Title\"},{\"attributes\":{},\"id\":\"1925\",\"type\":\"Selection\"},{\"attributes\":{\"below\":[{\"id\":\"1811\"}],\"center\":[{\"id\":\"1814\"},{\"id\":\"1818\"}],\"left\":[{\"id\":\"1815\"}],\"plot_height\":400,\"plot_width\":480,\"renderers\":[{\"id\":\"1839\"}],\"title\":{\"id\":\"1912\"},\"toolbar\":{\"id\":\"1822\"},\"x_range\":{\"id\":\"1803\"},\"x_scale\":{\"id\":\"1807\"},\"y_range\":{\"id\":\"1805\"},\"y_scale\":{\"id\":\"1809\"}},\"id\":\"1802\",\"subtype\":\"Figure\",\"type\":\"Plot\"},{\"attributes\":{\"axis\":{\"id\":\"1787\"},\"ticker\":null},\"id\":\"1790\",\"type\":\"Grid\"},{\"attributes\":{},\"id\":\"1926\",\"type\":\"UnionRenderers\"},{\"attributes\":{\"axis\":{\"id\":\"1791\"},\"dimension\":1,\"ticker\":null},\"id\":\"1794\",\"type\":\"Grid\"},{\"attributes\":{},\"id\":\"1792\",\"type\":\"BasicTicker\"}],\"root_ids\":[\"1841\"]},\"title\":\"Bokeh Application\",\"version\":\"2.2.3\"}};\n",
       "  var render_items = [{\"docid\":\"e6d4a4ac-0dd3-4e61-aaab-93ea93387900\",\"root_ids\":[\"1841\"],\"roots\":{\"1841\":\"bebf3bd1-62fd-408c-9d64-b2eaa98b6804\"}}];\n",
       "  root.Bokeh.embed.embed_items_notebook(docs_json, render_items);\n",
       "\n",
       "  }\n",
       "  if (root.Bokeh !== undefined) {\n",
       "    embed_document(root);\n",
       "  } else {\n",
       "    var attempts = 0;\n",
       "    var timer = setInterval(function(root) {\n",
       "      if (root.Bokeh !== undefined) {\n",
       "        clearInterval(timer);\n",
       "        embed_document(root);\n",
       "      } else {\n",
       "        attempts++;\n",
       "        if (attempts > 100) {\n",
       "          clearInterval(timer);\n",
       "          console.log(\"Bokeh: ERROR: Unable to run BokehJS code because BokehJS library is missing\");\n",
       "        }\n",
       "      }\n",
       "    }, 10, root)\n",
       "  }\n",
       "})(window);"
      ],
      "application/vnd.bokehjs_exec.v0+json": ""
     },
     "metadata": {
      "application/vnd.bokehjs_exec.v0+json": {
       "id": "1841"
      }
     },
     "output_type": "display_data"
    }
   ],
   "source": [
    "k = np.arange(21)\n",
    "p = plot_dists(k, st.poisson, (4,), ('λ',), 'Poisson')\n",
    "show(p)"
   ]
  },
  {
   "cell_type": "markdown",
   "metadata": {},
   "source": [
    "## Problems on Poisson Distribution\n",
    "\n",
    "### Prob 1. Work related injuries in a Manufacturing Plant\n",
    "The number of work related injuries per month in a manufacturing plant is known to follow a Poisson distribution, with a mean of 2.5 work-related injuries a month.\n",
    "* What is the probability that in a given month, no work-related injuries occur?\n",
    "* What is the probability that at least one work- related injury occurs?\n",
    "\n",
    "Here, $\\lambda$ = 2.5."
   ]
  },
  {
   "cell_type": "code",
   "execution_count": 25,
   "metadata": {},
   "outputs": [
    {
     "data": {
      "text/plain": [
       "0.0820849986238988"
      ]
     },
     "execution_count": 25,
     "metadata": {},
     "output_type": "execute_result"
    }
   ],
   "source": [
    "# Probability of No injury in a month = P(x = 0)\n",
    "# From Distribution formula, P(x = 0) = e^(-2.5) * (2.5)^0 / 0!\n",
    "np.exp(-2.5)"
   ]
  },
  {
   "cell_type": "code",
   "execution_count": 26,
   "metadata": {},
   "outputs": [
    {
     "data": {
      "text/plain": [
       "0.9179150013761012"
      ]
     },
     "execution_count": 26,
     "metadata": {},
     "output_type": "execute_result"
    }
   ],
   "source": [
    "# Probability of at least one injury in a month = P(x >= 1) = 1 - P(0)\n",
    "1-np.exp(-2.5)"
   ]
  },
  {
   "cell_type": "markdown",
   "metadata": {},
   "source": [
    "### Prob 2. Views of an online blog post\n",
    "Every week, on average, 17 people view my blog post. I’d like to predict the number of people who would view next week because I get paid weekly by those numbers. What is the probability that exactly 20 people (or 10, 30, 50, etc.) will clap for the blog post next week?\n",
    "\n",
    "Source: [KDNuggets](https://www.kdnuggets.com/2019/08/poisson-distribution.html)\n",
    "\n",
    "Here, $\\lambda$ = 17."
   ]
  },
  {
   "cell_type": "code",
   "execution_count": 27,
   "metadata": {},
   "outputs": [
    {
     "data": {
      "text/plain": [
       "0.06915882695522836"
      ]
     },
     "execution_count": 27,
     "metadata": {},
     "output_type": "execute_result"
    }
   ],
   "source": [
    "# Probability of 20 views next week = P(x = 20)\n",
    "# From Distribution formula, P(x = 20) = e^(-17) * (17)^k / k!\n",
    "(np.exp(-17))*(17**20)/(math.factorial(20))"
   ]
  },
  {
   "cell_type": "markdown",
   "metadata": {},
   "source": [
    "## Continuous Distributions\n",
    "## Normal Distribution\n",
    "\n",
    "Any quantity that emerges from a large number of\n",
    "subprocesses tends to be Gaussian distributed provided none of the\n",
    "subprocesses is very broadly distributed.\n",
    "\n",
    "**Parameters.** The Gaussian distribution has two parameters,\n",
    "the mean $\\mu$, which determines the location of its peak, and the\n",
    "standard deviation $\\sigma$, which is strictly positive (the\n",
    "$\\sigma\\to 0$ limit defines a Dirac delta function) and determines the\n",
    "width of the peak.\n",
    "\n",
    "**Example.** We measure the heights of all males attending a festival. The heights are normally distributed.\n",
    "\n",
    "**Probability density function**\n",
    "\n",
    "\\begin{align}\n",
    "P(x;\\mu, \\sigma) = \\frac{1}{\\sqrt{2\\pi \\sigma^2}}\\,\\mathrm{e}^{-(x-\\mu)^2/2\\sigma^2}.\n",
    "\\end{align}\n",
    "\n",
    "**Notes.** This is a limiting distribution in the sense of the\n",
    "central limit theorem, but also in that many distributions have a\n",
    "Gaussian distribution as a limit.  This is seen by formally taking\n",
    "limits of, e.g., the Gamma, Student-t, Binomial distributions, which\n",
    "allows direct comparison of parameters.\n",
    "\n",
    "### Summary Statistics\n",
    "\n",
    "\\begin{align}\n",
    "\\text{Mean} &= \\langle x \\rangle &= \\mathbf{E}(x) &= \\int_{-\\infty}^\\infty{x.\\mathbf{P}(x).dx} = \\mu\n",
    "\\end{align}\n",
    "\n",
    "\\begin{align}\n",
    "\\text{Variance} &= \\left\\langle x^2 \\right\\rangle - \\langle x \\rangle^2\n",
    "= \\left\\langle(x - \\langle x \\rangle)^2 \\right\\rangle = \\int_{-\\infty}^\\infty{\\mathbf{P}(\\mathbf{x}).{(\\mathbf{x}} - \\mu)^2}.dx  = \\sigma^{2}\n",
    "\\end{align}"
   ]
  },
  {
   "cell_type": "code",
   "execution_count": 28,
   "metadata": {
    "scrolled": false
   },
   "outputs": [
    {
     "data": {
      "text/html": [
       "\n",
       "\n",
       "\n",
       "\n",
       "\n",
       "\n",
       "  <div class=\"bk-root\" id=\"169dc8e2-88bb-4917-912a-76cdce78a248\" data-root-id=\"2072\"></div>\n"
      ]
     },
     "metadata": {},
     "output_type": "display_data"
    },
    {
     "data": {
      "application/javascript": [
       "(function(root) {\n",
       "  function embed_document(root) {\n",
       "    \n",
       "  var docs_json = {\"97e843e6-2dca-45f8-a7a5-df77ce0fb33d\":{\"roots\":{\"references\":[{\"attributes\":{\"children\":[{\"id\":\"2012\"},{\"id\":\"2038\"}]},\"id\":\"2072\",\"type\":\"Row\"},{\"attributes\":{},\"id\":\"2024\",\"type\":\"BasicTicker\"},{\"attributes\":{\"axis_label\":\"P(x; \\u00b5, \\u03c3)\",\"formatter\":{\"id\":\"2161\"},\"ticker\":{\"id\":\"2028\"}},\"id\":\"2027\",\"type\":\"LinearAxis\"},{\"attributes\":{\"axis_label\":\"x\",\"formatter\":{\"id\":\"2163\"},\"ticker\":{\"id\":\"2024\"}},\"id\":\"2023\",\"type\":\"LinearAxis\"},{\"attributes\":{\"text\":\"\"},\"id\":\"2160\",\"type\":\"Title\"},{\"attributes\":{\"end\":1.05,\"start\":-0.05},\"id\":\"2041\",\"type\":\"Range1d\"},{\"attributes\":{\"axis\":{\"id\":\"2023\"},\"ticker\":null},\"id\":\"2026\",\"type\":\"Grid\"},{\"attributes\":{\"axis_label\":\"F(k; \\u00b5, \\u03c3)\",\"formatter\":{\"id\":\"2165\"},\"ticker\":{\"id\":\"2052\"}},\"id\":\"2051\",\"type\":\"LinearAxis\"},{\"attributes\":{},\"id\":\"2019\",\"type\":\"LinearScale\"},{\"attributes\":{},\"id\":\"2045\",\"type\":\"LinearScale\"},{\"attributes\":{},\"id\":\"2163\",\"type\":\"BasicTickFormatter\"},{\"attributes\":{\"data\":{\"x\":{\"__ndarray__\":\"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\",\"dtype\":\"float64\",\"order\":\"little\",\"shape\":[200]},\"y\":{\"__ndarray__\":\"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\",\"dtype\":\"float64\",\"order\":\"little\",\"shape\":[200]}},\"selected\":{\"id\":\"2171\"},\"selection_policy\":{\"id\":\"2172\"}},\"id\":\"2067\",\"type\":\"ColumnDataSource\"},{\"attributes\":{\"axis_label\":\"x\",\"formatter\":{\"id\":\"2167\"},\"ticker\":{\"id\":\"2048\"}},\"id\":\"2047\",\"type\":\"LinearAxis\"},{\"attributes\":{},\"id\":\"2171\",\"type\":\"Selection\"},{\"attributes\":{\"axis\":{\"id\":\"2027\"},\"dimension\":1,\"ticker\":null},\"id\":\"2030\",\"type\":\"Grid\"},{\"attributes\":{\"data_source\":{\"id\":\"2067\"},\"glyph\":{\"id\":\"2068\"},\"hover_glyph\":null,\"muted_glyph\":null,\"nonselection_glyph\":{\"id\":\"2069\"},\"selection_glyph\":null,\"view\":{\"id\":\"2071\"}},\"id\":\"2070\",\"type\":\"GlyphRenderer\"},{\"attributes\":{},\"id\":\"2028\",\"type\":\"BasicTicker\"},{\"attributes\":{},\"id\":\"2048\",\"type\":\"BasicTicker\"},{\"attributes\":{},\"id\":\"2039\",\"type\":\"DataRange1d\"},{\"attributes\":{\"axis\":{\"id\":\"2047\"},\"ticker\":null},\"id\":\"2050\",\"type\":\"Grid\"},{\"attributes\":{},\"id\":\"2021\",\"type\":\"LinearScale\"},{\"attributes\":{},\"id\":\"2032\",\"type\":\"WheelZoomTool\"},{\"attributes\":{},\"id\":\"2031\",\"type\":\"PanTool\"},{\"attributes\":{\"data\":{\"x\":{\"__ndarray__\":\"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\",\"dtype\":\"float64\",\"order\":\"little\",\"shape\":[200]},\"y\":{\"__ndarray__\":\"QP3IZGnxqD5mRtNUfQOwPj2I5UuKgrQ+TPg3YtIzuj5NTTmZ+rHAPkNyLtm1OMU+1xhaTyzoyj5qf5T4xAPRPqDKqe7jdtU+JnRFk24C2z55BsxSYPPgPi2JuoHlOOU++51wHtSA6j5soJZ/54HwPh3rLGvmgvQ+m5lg7Q1s+T523NSL2W3/PsGuQoz2YAM/RcCuNEzWBz8c+ijURz8NP4zBJkW35RE/qZ4hQ0TZFT9+M41G7ZoaP1k42s9gKCA/qbQuin+TIz80TlSWc6gnP+uJnXnUhCw/CRiJ5VclMT9B1UmBiZA0Pz/R89FPmjg/TbU4tBRcPT+q+Y1xV3lBP31iKvlcv0Q/2lHW7XiSSD9NXzqlSAdNPy0iomZsGlE/OFyg0WoaVD+sxNlQ3ZFXP6R+CWKAkFs/S9Owl9ITYD94ijLaIrViP2ChHj2LtmU//4FtnUojaT8Y4hXWiQdtP6u2IGovuHA/rA/od+Y1cz9R8kYNYQR2P7SjhDuIK3k/M6VZ9LGzfD9P3InMzFKAP79MHg8rhYI/0s7ayqb1hD+Dua77EqmHP86gFYRZpIo/XxqfpHDsjT+afex4J8OQPxIKw+Ruu5I/ct6sJ3XhlD9S6buAijeXP9wwz/7fv5k/++B/DH58nD/19iN7Om+fP1NztxPXTKE/hI58K5X+oj8zn0f5Vs2kP1mXvGJtuaY/89rmdvXCqD9S2J9W0+mqPySvPWatLa0/WoOC4ueNrz9295150ASxPz6O+qrWT7I/0z5B3Uqnsz8e1P10Sgq1P6bsdGfLd7Y/cGCDOZzutz8iNPGBZG25PzCnF/al8ro/0E2qBb58vD+bnycI6Am+P4bX9/s/mL8/+KBO6uKSwD+kUk6pMFjBPyQdfy7zGsI/1dPD6Azawj+8JhNfW5TDP8Hfv/m5SMQ/k58q7wT2xD9BHrNJHJvFP4kP6vvmNsY/K+1h91XIxj/QjRE6Z07HPyXUC8YoyMc/U8Fed7s0yD9/JTusVZPIP+XGFLRF48g/IEE3+/MjyT8XlVLp5FTJP0Bevmq6dck/rm2dHTWGyT+ubZ0dNYbJPz9evmq6dck/FpVS6eRUyT8eQTf78yPJP+PGFLRF48g/fSU7rFWTyD9RwV53uzTIPyPUC8YoyMc/zI0ROmdOxz8p7WH3VcjGP4cP6vvmNsY/Ph6zSRybxT+QnyrvBPbEP77fv/m5SMQ/uSYTX1uUwz/S08PoDNrCPyAdfy7zGsI/oFJOqTBYwT/0oE7q4pLAP37X9/s/mL8/lp8nCOgJvj/MTaoFvny8Py2nF/al8ro/HjTxgWRtuT9sYIM5nO63P6LsdGfLd7Y/GtT9dEoKtT/QPkHdSqezPzuO+qrWT7I/c/ededAEsT9Vg4Li542vPx+vPWatLa0/TdifVtPpqj/u2uZ29cKoP1WXvGJtuaY/L59H+VbNpD+Ajnwrlf6iP09ztxPXTKE/7fYjezpvnz/14H8MfnycP9Ywz/7fv5k/TOm7gIo3lz9q3qwndeGUPwsKw+Ruu5I/ln3seCfDkD9YGp+kcOyNP8igFYRZpIo/fbmu+xKphz/NztrKpvWEP7tMHg8rhYI/S9yJzMxSgD8opVn0sbN8P6qjhDuIK3k/TPJGDWEEdj+lD+h35jVzP6W2IGovuHA/EeIV1okHbT/zgW2dSiNpP1ShHj2LtmU/b4oy2iK1Yj8/07CX0hNgP6R+CWKAkFs/m8TZUN2RVz84XKDRahpUPxwiomZsGlE/TV86pUgHTT/BUdbteJJIP31iKvlcv0Q/mPmNcVd5QT9NtTi0FFw9Py3R89FPmjg/QdVJgYmQND/8F4nlVyUxP+uJnXnUhCw/HE5UlnOoJz+ptC6Kf5MjP0k42s9gKCA/fjONRu2aGj+TniFDRNkVP4zBJkW35RE/APoo1Ec/DT9FwK40TNYHP66uQoz2YAM/dtzUi9lt/z51mWDtDWz5Ph3rLGvmgvQ+VKCWf+eB8D77nXAe1IDqPhiJuoHlOOU+eQbMUmDz4D79c0WTbgLbPqDKqe7jdtU+WX+U+MQD0T7XGFpPLOjKPiRyLtm1OMU+TU05mfqxwD4k+Ddi0jO6Pj2I5UuKgrQ+TkbTVH0DsD5A/chkafGoPg==\",\"dtype\":\"float64\",\"order\":\"little\",\"shape\":[200]}},\"selected\":{\"id\":\"2169\"},\"selection_policy\":{\"id\":\"2170\"}},\"id\":\"2062\",\"type\":\"ColumnDataSource\"},{\"attributes\":{},\"id\":\"2052\",\"type\":\"BasicTicker\"},{\"attributes\":{},\"id\":\"2033\",\"type\":\"ResetTool\"},{\"attributes\":{},\"id\":\"2017\",\"type\":\"DataRange1d\"},{\"attributes\":{},\"id\":\"2056\",\"type\":\"WheelZoomTool\"},{\"attributes\":{},\"id\":\"2057\",\"type\":\"ResetTool\"},{\"attributes\":{},\"id\":\"2055\",\"type\":\"PanTool\"},{\"attributes\":{\"line_color\":\"dodgerblue\",\"x\":{\"field\":\"x\"},\"y\":{\"field\":\"y\"}},\"id\":\"2063\",\"type\":\"Line\"},{\"attributes\":{},\"id\":\"2161\",\"type\":\"BasicTickFormatter\"},{\"attributes\":{},\"id\":\"2169\",\"type\":\"Selection\"},{\"attributes\":{\"line_color\":\"dodgerblue\",\"line_width\":3,\"x\":{\"field\":\"x\"},\"y\":{\"field\":\"y\"}},\"id\":\"2068\",\"type\":\"Line\"},{\"attributes\":{},\"id\":\"2170\",\"type\":\"UnionRenderers\"},{\"attributes\":{\"line_alpha\":0.1,\"line_color\":\"dodgerblue\",\"line_width\":3,\"x\":{\"field\":\"x\"},\"y\":{\"field\":\"y\"}},\"id\":\"2069\",\"type\":\"Line\"},{\"attributes\":{},\"id\":\"2043\",\"type\":\"LinearScale\"},{\"attributes\":{\"source\":{\"id\":\"2062\"}},\"id\":\"2066\",\"type\":\"CDSView\"},{\"attributes\":{},\"id\":\"2165\",\"type\":\"BasicTickFormatter\"},{\"attributes\":{\"line_alpha\":0.1,\"line_color\":\"dodgerblue\",\"x\":{\"field\":\"x\"},\"y\":{\"field\":\"y\"}},\"id\":\"2064\",\"type\":\"Line\"},{\"attributes\":{},\"id\":\"2167\",\"type\":\"BasicTickFormatter\"},{\"attributes\":{\"source\":{\"id\":\"2067\"}},\"id\":\"2071\",\"type\":\"CDSView\"},{\"attributes\":{\"data_source\":{\"id\":\"2062\"},\"glyph\":{\"id\":\"2063\"},\"hover_glyph\":null,\"muted_glyph\":null,\"nonselection_glyph\":{\"id\":\"2064\"},\"selection_glyph\":null,\"view\":{\"id\":\"2066\"}},\"id\":\"2065\",\"type\":\"GlyphRenderer\"},{\"attributes\":{\"below\":[{\"id\":\"2023\"}],\"center\":[{\"id\":\"2026\"},{\"id\":\"2030\"}],\"left\":[{\"id\":\"2027\"}],\"plot_height\":400,\"plot_width\":480,\"renderers\":[{\"id\":\"2065\"}],\"title\":{\"id\":\"2013\"},\"toolbar\":{\"id\":\"2034\"},\"x_range\":{\"id\":\"2039\"},\"x_scale\":{\"id\":\"2019\"},\"y_range\":{\"id\":\"2017\"},\"y_scale\":{\"id\":\"2021\"}},\"id\":\"2012\",\"subtype\":\"Figure\",\"type\":\"Plot\"},{\"attributes\":{\"active_drag\":\"auto\",\"active_inspect\":\"auto\",\"active_multi\":null,\"active_scroll\":\"auto\",\"active_tap\":\"auto\",\"tools\":[{\"id\":\"2055\"},{\"id\":\"2056\"},{\"id\":\"2057\"}]},\"id\":\"2058\",\"type\":\"Toolbar\"},{\"attributes\":{\"below\":[{\"id\":\"2047\"}],\"center\":[{\"id\":\"2050\"},{\"id\":\"2054\"}],\"left\":[{\"id\":\"2051\"}],\"plot_height\":400,\"plot_width\":480,\"renderers\":[{\"id\":\"2070\"}],\"title\":{\"id\":\"2160\"},\"toolbar\":{\"id\":\"2058\"},\"x_range\":{\"id\":\"2039\"},\"x_scale\":{\"id\":\"2043\"},\"y_range\":{\"id\":\"2041\"},\"y_scale\":{\"id\":\"2045\"}},\"id\":\"2038\",\"subtype\":\"Figure\",\"type\":\"Plot\"},{\"attributes\":{\"axis\":{\"id\":\"2051\"},\"dimension\":1,\"ticker\":null},\"id\":\"2054\",\"type\":\"Grid\"},{\"attributes\":{\"text\":\"Gaussian, \\u00b5 = 10, \\u03c3 = 2\"},\"id\":\"2013\",\"type\":\"Title\"},{\"attributes\":{\"active_drag\":\"auto\",\"active_inspect\":\"auto\",\"active_multi\":null,\"active_scroll\":\"auto\",\"active_tap\":\"auto\",\"tools\":[{\"id\":\"2031\"},{\"id\":\"2032\"},{\"id\":\"2033\"}]},\"id\":\"2034\",\"type\":\"Toolbar\"},{\"attributes\":{},\"id\":\"2172\",\"type\":\"UnionRenderers\"}],\"root_ids\":[\"2072\"]},\"title\":\"Bokeh Application\",\"version\":\"2.2.3\"}};\n",
       "  var render_items = [{\"docid\":\"97e843e6-2dca-45f8-a7a5-df77ce0fb33d\",\"root_ids\":[\"2072\"],\"roots\":{\"2072\":\"169dc8e2-88bb-4917-912a-76cdce78a248\"}}];\n",
       "  root.Bokeh.embed.embed_items_notebook(docs_json, render_items);\n",
       "\n",
       "  }\n",
       "  if (root.Bokeh !== undefined) {\n",
       "    embed_document(root);\n",
       "  } else {\n",
       "    var attempts = 0;\n",
       "    var timer = setInterval(function(root) {\n",
       "      if (root.Bokeh !== undefined) {\n",
       "        clearInterval(timer);\n",
       "        embed_document(root);\n",
       "      } else {\n",
       "        attempts++;\n",
       "        if (attempts > 100) {\n",
       "          clearInterval(timer);\n",
       "          console.log(\"Bokeh: ERROR: Unable to run BokehJS code because BokehJS library is missing\");\n",
       "        }\n",
       "      }\n",
       "    }, 10, root)\n",
       "  }\n",
       "})(window);"
      ],
      "application/vnd.bokehjs_exec.v0+json": ""
     },
     "metadata": {
      "application/vnd.bokehjs_exec.v0+json": {
       "id": "2072"
      }
     },
     "output_type": "display_data"
    }
   ],
   "source": [
    "x = np.linspace(0, 20, 200)\n",
    "p = plot_dists(x, st.norm, (10, 2), ('µ', 'σ'), 'Gaussian')\n",
    "show(p)"
   ]
  },
  {
   "cell_type": "markdown",
   "metadata": {},
   "source": [
    "## Problems on Normal Distribution\n",
    "### Prob 1. Distribution of vehicle speed on a highway\n",
    "A radar unit is used to measure speeds of cars on a Mumbai – Pune Highway. The speeds are normally distributed with a mean of 70 km/hr and a standard deviation of 10 km/hr.\n",
    "\n",
    "* What is the probability that a car picked at random is travelling at more than 100 km/hr?\n",
    "\n",
    "* What is the probability that the car speed is between 80 Km / hr and 100 Km / hr?\n",
    "\n",
    "Here, $\\mathbf{\\mu} = 70, \\mathbf{\\sigma} = 10$.\n",
    "\n",
    "$\n",
    "z = (x - \\mu)/\\sigma\n",
    "$"
   ]
  },
  {
   "cell_type": "code",
   "execution_count": 29,
   "metadata": {},
   "outputs": [
    {
     "data": {
      "text/plain": [
       "0.0013498980316301035"
      ]
     },
     "execution_count": 29,
     "metadata": {},
     "output_type": "execute_result"
    }
   ],
   "source": [
    "# Soln (a): Probability of a car is travelling at >= 100kmph = 1 - CDF(z = (100 - 70)/10)\n",
    "z = (100 - 70)/10\n",
    "1 - (st.norm.cdf(z))"
   ]
  },
  {
   "cell_type": "code",
   "execution_count": 30,
   "metadata": {},
   "outputs": [
    {
     "data": {
      "text/plain": [
       "0.15730535589982697"
      ]
     },
     "execution_count": 30,
     "metadata": {},
     "output_type": "execute_result"
    }
   ],
   "source": [
    "# Soln (b): probability that the car speed is between 80 Km / hr and 100 Km / hr = CDF(speed = 100) - CDF(speed = 80)\n",
    "z1 = (80-70)/10\n",
    "st.norm.cdf(z) - st.norm.cdf(z1)"
   ]
  },
  {
   "cell_type": "markdown",
   "metadata": {},
   "source": [
    "### Prob 2. Distribution of resistances in Electrical manufacturing\n",
    "#### Given:\n",
    "At a facility that manufactures electrical resistors, a statistical sample of 1-kΩ resistors is pulled from the production line. The resistor's resistances are measured and recorded. A mean resistance of 979.8 kΩ and a standard deviation of 73.10 kΩ represents the sample of resistors. The desired resistance tolerance for the 1-kΩ resistors is ± 10%. This tolerance range means the acceptable range of resistance is 900 Ω to 1100 Ω.\n",
    "#### Find:\n",
    "Assuming a normal distribution, determine the probability that a resistor coming off the production line will be within spec (in the range of 900 Ω to 1100 Ω).\n",
    "\n",
    "### Solution\n",
    "The Python script we are going to build to solve the resistor problem above needs to accomplish a couple of things:\n",
    "\n",
    "1. Import the necessary functions. We need to use the erf() and sqrt() functions in Python's math module.\n",
    "2. Define the constants for this problem. The mean, standard deviation, lower bound and upper bound will be defined.\n",
    "3. Calculate the probability using the erf() function from Python's math() module.\n",
    "4. Print the results to the Python interpreter"
   ]
  },
  {
   "cell_type": "code",
   "execution_count": 31,
   "metadata": {},
   "outputs": [],
   "source": [
    "from math import erf, sqrt\n",
    "\n",
    "mu = 979.8    # mean = 978.8 kΩ\n",
    "sigma = 73.1  # standard deviation = 73.1 kΩ\n",
    "x1 = 900      # lower bound = 900 kΩ\n",
    "x2 = 1100     # upper bound = 1100 kΩ"
   ]
  },
  {
   "cell_type": "markdown",
   "metadata": {},
   "source": [
    "Next, we calculate the Z-transform of the upper and lower bounds using the mean and standard deviation. Then we use the erf() function to calculate the probability from Z = 0 to the Z-transform derived from the upper and lower bounds."
   ]
  },
  {
   "cell_type": "code",
   "execution_count": 32,
   "metadata": {
    "scrolled": true
   },
   "outputs": [
    {
     "name": "stdout",
     "output_type": "stream",
     "text": [
      "\n",
      " Lower Bound: -0.3625\n",
      "\n",
      " Upper Bound: 0.4499\n"
     ]
    }
   ],
   "source": [
    "# calculate probability\n",
    "\n",
    "# probability from Z=0 to lower bound\n",
    "double_prob = erf( (x1-mu) / (sigma*sqrt(2)) )\n",
    "p_lower = double_prob/2\n",
    "print(f'\\n Lower Bound: {round(p_lower,4)}')\n",
    "\n",
    "# probability from Z=0 to upper bound\n",
    "double_prob = erf( (x2-mu) / (sigma*sqrt(2)) )\n",
    "p_upper = double_prob/2\n",
    "print(f'\\n Upper Bound: {round(p_upper,4)}')"
   ]
  },
  {
   "cell_type": "markdown",
   "metadata": {},
   "source": [
    "From the Z-transform of the upper and lower limits, we calculated two probabilities: p_lower and p_upper. We can use these probabilities to calculate the likelihood a resistor randomly pulled off the line is within tolerance (inside the range of 900 kΩ to 1100 kΩ) or out of tolerance (outside the range of 900 kΩ to 1100 kΩ)."
   ]
  },
  {
   "cell_type": "code",
   "execution_count": 33,
   "metadata": {},
   "outputs": [
    {
     "name": "stdout",
     "output_type": "stream",
     "text": [
      "\n",
      "\n",
      "mean = 979.8    std dev = 73.1 \n",
      "\n",
      "Calculating the probability of occurring between 900 <--> 1100 \n",
      "\n",
      "inside interval P(in) = 81.2%\n",
      "outside interval P(out) = 18.8% \n",
      "\n",
      "The probability a resistor coming off the production line is within spec is the probability of the inside interval is 81.2%.\n"
     ]
    }
   ],
   "source": [
    "# print the results\n",
    "\n",
    "Pin = (p_upper) - (p_lower)\n",
    "print('\\n')\n",
    "print(f'mean = {mu}    std dev = {sigma} \\n')\n",
    "print(f'Calculating the probability of occurring between {x1} <--> {x2} \\n')\n",
    "print(f'inside interval P(in) = {round(Pin*100,1)}%')\n",
    "print(f'outside interval P(out) = {round((1-Pin)*100,1)}% \\n')\n",
    "print(f'The probability a resistor coming off the production line is within spec is the probability of the inside interval is {round(Pin*100,1)}%.')"
   ]
  }
 ],
 "metadata": {
  "kernelspec": {
   "display_name": "Python 3",
   "language": "python",
   "name": "python3"
  },
  "language_info": {
   "codemirror_mode": {
    "name": "ipython",
    "version": 3
   },
   "file_extension": ".py",
   "mimetype": "text/x-python",
   "name": "python",
   "nbconvert_exporter": "python",
   "pygments_lexer": "ipython3",
   "version": "3.8.5"
  }
 },
 "nbformat": 4,
 "nbformat_minor": 4
}
