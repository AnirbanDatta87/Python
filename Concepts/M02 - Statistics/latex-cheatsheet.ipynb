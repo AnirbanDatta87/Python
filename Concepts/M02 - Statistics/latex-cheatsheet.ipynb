{
 "cells": [
  {
   "cell_type": "markdown",
   "metadata": {},
   "source": [
    "# Cheatsheet"
   ]
  },
  {
   "cell_type": "markdown",
   "metadata": {},
   "source": [
    "## Basics\n",
    "\n",
    "Superscript$^{x}$ ^{x}\n",
    "Subscript$_{x}$ _{x}\n",
    "\n",
    "$ \\times$ \\times\n",
    "$ \\div$ \\div\n",
    "$ \\pm$ \\pm\n",
    "$\\frac{x}{y}$ \\frac{x}{y}\n",
    "$\\sqrt[n]{x}$ \\sqrt[n]{x}\n",
    "$\\sum_{k=1}^n$ \\sum_{k=1}^n\n",
    "$\\prod_{k=1}^n$ \\prod_{k=1}^n\n",
    "\n",
    "Scalable parenthesis $\\left( \\prod_{k=1}^n \\right)$ \\left( \\right)\n",
    "\n"
   ]
  },
  {
   "cell_type": "markdown",
   "metadata": {},
   "source": [
    "## Logic, set and arrows\n",
    "\n",
    "$ \\leq$ \\leq\n",
    "$ \\geq$ \\geq\n",
    "$ \\neq$ \\neq\n",
    "$ \\approx$ \\approx\n",
    "$ \\gg$ \\gg\n",
    "$ \\propto$ \\propto\n",
    "$ \\mid$ \\mid\n",
    "\n",
    "$ \\supset$ \\supset\n",
    "$ \\subset$ \\subset\n",
    "$ \\forall$ \\forall\n",
    "$ \\in$ \\in\n",
    "$ \\notin$ \\notin\n",
    "$ \\neg$ \\neg\n",
    "$ \\exists$ \\exists\n",
    "$ \\cup$ \\cup\n",
    "$ \\cap$ \\cap\n",
    "\n",
    "$ \\infty$ \\infty\n",
    "$ \\rightarrow$ \\rightarrow\n",
    "$ \\Rightarrow$ \\Rightarrow\n",
    "$ \\Leftrightarrow$ \\Leftrightarrow"
   ]
  },
  {
   "cell_type": "markdown",
   "metadata": {},
   "source": [
    "## Calculus\n",
    "\n",
    "Consider the objective function $f: \\mathbb{R}^d \\rightarrow \\mathbb{R}$ \n",
    "that takes a multi-dimensional vector $\\mathbf{x} = [x_1, x_2, \\ldots, x_d]^\\top$ as the input.\n",
    "Its **Hessian matrix** $\\mathbf{H} \\in \\mathbb{R}^{d \\times d}$ collects its second derivatives.\n",
    "Each entry $(i, j)$ says how much the gradient of the objective with respect to parameter $i$ changes,\n",
    "with a small change in parameter $j$.\n",
    "\n",
    "$$\\mathbf{H}_{i,j} = \\frac{\\partial^2 f(\\mathbf{x})}{\\partial x_i \\partial x_j}$$"
   ]
  },
  {
   "cell_type": "markdown",
   "metadata": {},
   "source": [
    "## Circles, dots, hats\n",
    "\n",
    "$ \\cdot$ \\cdot\n",
    "$^{\\circ}$^{\\circ}\n",
    "$ \\circ$ \\circ\n",
    "$ \\cdots$ \\cdots\n",
    "$ \\vdots$ \\vdots\n",
    "$ \\ddots$ \\ddots\n",
    "$ \\dots$ \\dots\n",
    "\n",
    "$ \\prime$ \\prime\n",
    "$ \\dot a$ \\dot a\n",
    "$ \\hat a$ \\hat a\n",
    "$ \\bar a$ \\bara\n",
    "$ \\tilde a$ \\tilde a\n",
    "$ \\underset{1 \\times k} a$ \\underset{1 \\times k} a"
   ]
  },
  {
   "cell_type": "markdown",
   "metadata": {},
   "source": [
    "## Greek letter \n",
    "\n",
    "$ \\alpha$ \\alpha\n",
    "$ \\beta$ \\beta\n",
    "$ \\gamma$ \\gamma\n",
    "$ \\delta$ \\delta\n",
    "$ \\epsilon$ \\epsilon\n",
    "$ \\zeta$ \\zeta\n",
    "$ \\eta$ \\eta\n",
    "$ \\varepsilon$ \\varepsilon\n",
    "$ \\theta$ \\theta\n",
    "$ \\iota$ \\iota\n",
    "$ \\kappa$ \\kappa\n",
    "$ \\vartheta$ \\vartheta\n",
    "$ \\lambda$ \\lambda\n",
    "$ \\mu$ \\mu\n",
    "$ \\nu$ \\nu\n",
    "$ \\xi$ \\xi\n",
    "$ \\pi$ \\pi\n",
    "$ \\rho$ \\rho\n",
    "$ \\sigma$ \\sigma\n",
    "$ \\tau$ \\tau\n",
    "$ \\upsilon$ \\upsilon\n",
    "$ \\phi$ \\phi\n",
    "$ \\chi$ \\chi\n",
    "$ \\psi$ \\psi\n",
    "$ \\omega$ \\omega\n",
    "$ \\Gamma$ \\Gamma\n",
    "$ \\Delta$ \\Delta\n",
    "$ \\Theta$ \\Theta\n",
    "$ \\Lambda$ \\Lambda\n",
    "$ \\Xi$ \\Xi\n",
    "$ \\Pi$ \\Pi\n",
    "$ \\Sigma$ \\Sigma\n",
    "$ \\Upsilon$ \\Upsilon\n",
    "$ \\Phi$ \\Phi\n",
    "$ \\Psi$ \\Psi\n",
    "$ \\Omega$ \\Omega"
   ]
  },
  {
   "cell_type": "markdown",
   "metadata": {},
   "source": [
    "---\n",
    "# Examples"
   ]
  },
  {
   "cell_type": "markdown",
   "metadata": {},
   "source": [
    "## Probability\n",
    "\n",
    "As $n \\rightarrow \\infty$, let $S=\\sum_{k=1}^n X_{i}$, we have $S \\rightarrow \\mathcal{N}(n\\mu, n\\sigma^{2})$ and $\\frac{S-n\\mu}{\\sqrt{n\\sigma^{2}}} \\rightarrow \\mathcal{N}(0,1)$\n",
    "\n"
   ]
  },
  {
   "cell_type": "markdown",
   "metadata": {},
   "source": [
    "## Matrices\n",
    "\n",
    "$X=\n",
    "\\begin{bmatrix}\n",
    "    \\boldsymbol x_1 \\\\\n",
    "    \\boldsymbol x_2 \\\\\n",
    "    \\vdots \\\\\n",
    "    \\boldsymbol x_m \\end{bmatrix} =\n",
    "    \\begin{bmatrix}\n",
    "    x_{11} & x_{12} & x_{13} & \\dots  & x_{1d} \\\\\n",
    "    x_{21} & x_{22} & x_{23} & \\dots  & x_{2d} \\\\\n",
    "    \\vdots & \\vdots & \\vdots & \\ddots & \\vdots \\\\\n",
    "    x_{m1} & x_{m2} & x_{m3} & \\dots  & x_{md} \\end{bmatrix}$"
   ]
  },
  {
   "cell_type": "markdown",
   "metadata": {},
   "source": [
    "# Things that doesn't work\n",
    "\n",
    "\\mbox\n",
    "\\newcommand"
   ]
  }
 ],
 "metadata": {
  "kernelspec": {
   "display_name": "Python 3",
   "language": "python",
   "name": "python3"
  },
  "language_info": {
   "codemirror_mode": {
    "name": "ipython",
    "version": 3
   },
   "file_extension": ".py",
   "mimetype": "text/x-python",
   "name": "python",
   "nbconvert_exporter": "python",
   "pygments_lexer": "ipython3",
   "version": "3.8.5"
  },
  "widgets": {
   "state": {},
   "version": "1.1.2"
  }
 },
 "nbformat": 4,
 "nbformat_minor": 2
}
