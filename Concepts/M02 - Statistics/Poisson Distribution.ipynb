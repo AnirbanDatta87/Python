{
 "cells": [
  {
   "cell_type": "code",
   "execution_count": 93,
   "metadata": {},
   "outputs": [],
   "source": [
    "import numpy as np\n",
    "import pandas as pd\n",
    "from scipy.stats import poisson\n",
    "from matplotlib import pyplot as plt"
   ]
  },
  {
   "cell_type": "code",
   "execution_count": 67,
   "metadata": {},
   "outputs": [],
   "source": [
    "df = pd.read_csv(\"50yr earthquake data peninsular India.csv\")"
   ]
  },
  {
   "cell_type": "code",
   "execution_count": 68,
   "metadata": {},
   "outputs": [
    {
     "data": {
      "text/html": [
       "<div>\n",
       "<style scoped>\n",
       "    .dataframe tbody tr th:only-of-type {\n",
       "        vertical-align: middle;\n",
       "    }\n",
       "\n",
       "    .dataframe tbody tr th {\n",
       "        vertical-align: top;\n",
       "    }\n",
       "\n",
       "    .dataframe thead th {\n",
       "        text-align: right;\n",
       "    }\n",
       "</style>\n",
       "<table border=\"1\" class=\"dataframe\">\n",
       "  <thead>\n",
       "    <tr style=\"text-align: right;\">\n",
       "      <th></th>\n",
       "      <th>time</th>\n",
       "      <th>latitude</th>\n",
       "      <th>longitude</th>\n",
       "      <th>depth</th>\n",
       "      <th>mag</th>\n",
       "      <th>magType</th>\n",
       "      <th>nst</th>\n",
       "      <th>gap</th>\n",
       "      <th>dmin</th>\n",
       "      <th>rms</th>\n",
       "      <th>...</th>\n",
       "      <th>updated</th>\n",
       "      <th>place</th>\n",
       "      <th>type</th>\n",
       "      <th>horizontalError</th>\n",
       "      <th>depthError</th>\n",
       "      <th>magError</th>\n",
       "      <th>magNst</th>\n",
       "      <th>status</th>\n",
       "      <th>locationSource</th>\n",
       "      <th>magSource</th>\n",
       "    </tr>\n",
       "  </thead>\n",
       "  <tbody>\n",
       "    <tr>\n",
       "      <th>0</th>\n",
       "      <td>2019-05-26T05:09:10.629Z</td>\n",
       "      <td>23.2123</td>\n",
       "      <td>86.8925</td>\n",
       "      <td>10.00</td>\n",
       "      <td>4.7</td>\n",
       "      <td>mb</td>\n",
       "      <td>NaN</td>\n",
       "      <td>99.0</td>\n",
       "      <td>6.208</td>\n",
       "      <td>0.66</td>\n",
       "      <td>...</td>\n",
       "      <td>2019-06-22T10:15:08.897Z</td>\n",
       "      <td>18km WSW of Bankura, India</td>\n",
       "      <td>earthquake</td>\n",
       "      <td>6.5</td>\n",
       "      <td>1.9</td>\n",
       "      <td>0.066</td>\n",
       "      <td>69.0</td>\n",
       "      <td>reviewed</td>\n",
       "      <td>us</td>\n",
       "      <td>us</td>\n",
       "    </tr>\n",
       "    <tr>\n",
       "      <th>1</th>\n",
       "      <td>2019-02-12T01:32:27.310Z</td>\n",
       "      <td>14.3974</td>\n",
       "      <td>85.7300</td>\n",
       "      <td>10.00</td>\n",
       "      <td>4.9</td>\n",
       "      <td>mb</td>\n",
       "      <td>NaN</td>\n",
       "      <td>78.0</td>\n",
       "      <td>7.358</td>\n",
       "      <td>0.83</td>\n",
       "      <td>...</td>\n",
       "      <td>2019-05-01T22:00:34.040Z</td>\n",
       "      <td>Bay of Bengal</td>\n",
       "      <td>earthquake</td>\n",
       "      <td>5.4</td>\n",
       "      <td>1.6</td>\n",
       "      <td>0.068</td>\n",
       "      <td>68.0</td>\n",
       "      <td>reviewed</td>\n",
       "      <td>us</td>\n",
       "      <td>us</td>\n",
       "    </tr>\n",
       "    <tr>\n",
       "      <th>2</th>\n",
       "      <td>2018-09-01T18:09:55.250Z</td>\n",
       "      <td>23.4903</td>\n",
       "      <td>82.4460</td>\n",
       "      <td>10.00</td>\n",
       "      <td>4.7</td>\n",
       "      <td>mb</td>\n",
       "      <td>NaN</td>\n",
       "      <td>78.0</td>\n",
       "      <td>9.928</td>\n",
       "      <td>0.97</td>\n",
       "      <td>...</td>\n",
       "      <td>2018-11-07T18:37:08.040Z</td>\n",
       "      <td>28km NNW of Baikunthpur, India</td>\n",
       "      <td>earthquake</td>\n",
       "      <td>9.2</td>\n",
       "      <td>1.9</td>\n",
       "      <td>0.061</td>\n",
       "      <td>81.0</td>\n",
       "      <td>reviewed</td>\n",
       "      <td>us</td>\n",
       "      <td>us</td>\n",
       "    </tr>\n",
       "    <tr>\n",
       "      <th>3</th>\n",
       "      <td>2018-08-28T13:03:27.670Z</td>\n",
       "      <td>22.6926</td>\n",
       "      <td>87.7938</td>\n",
       "      <td>10.00</td>\n",
       "      <td>4.5</td>\n",
       "      <td>mb</td>\n",
       "      <td>NaN</td>\n",
       "      <td>93.0</td>\n",
       "      <td>4.685</td>\n",
       "      <td>0.60</td>\n",
       "      <td>...</td>\n",
       "      <td>2018-11-07T18:37:03.040Z</td>\n",
       "      <td>8km ENE of Ghatal, India</td>\n",
       "      <td>earthquake</td>\n",
       "      <td>9.1</td>\n",
       "      <td>1.9</td>\n",
       "      <td>0.139</td>\n",
       "      <td>15.0</td>\n",
       "      <td>reviewed</td>\n",
       "      <td>us</td>\n",
       "      <td>us</td>\n",
       "    </tr>\n",
       "    <tr>\n",
       "      <th>4</th>\n",
       "      <td>2014-05-21T16:21:54.350Z</td>\n",
       "      <td>18.2012</td>\n",
       "      <td>88.0376</td>\n",
       "      <td>47.23</td>\n",
       "      <td>6.0</td>\n",
       "      <td>mww</td>\n",
       "      <td>NaN</td>\n",
       "      <td>38.0</td>\n",
       "      <td>5.590</td>\n",
       "      <td>0.63</td>\n",
       "      <td>...</td>\n",
       "      <td>2015-01-28T16:02:10.607Z</td>\n",
       "      <td>276km SE of Konarka, India</td>\n",
       "      <td>earthquake</td>\n",
       "      <td>NaN</td>\n",
       "      <td>3.7</td>\n",
       "      <td>NaN</td>\n",
       "      <td>NaN</td>\n",
       "      <td>reviewed</td>\n",
       "      <td>us</td>\n",
       "      <td>us</td>\n",
       "    </tr>\n",
       "  </tbody>\n",
       "</table>\n",
       "<p>5 rows × 22 columns</p>\n",
       "</div>"
      ],
      "text/plain": [
       "                       time  latitude  longitude  depth  mag magType  nst  \\\n",
       "0  2019-05-26T05:09:10.629Z   23.2123    86.8925  10.00  4.7      mb  NaN   \n",
       "1  2019-02-12T01:32:27.310Z   14.3974    85.7300  10.00  4.9      mb  NaN   \n",
       "2  2018-09-01T18:09:55.250Z   23.4903    82.4460  10.00  4.7      mb  NaN   \n",
       "3  2018-08-28T13:03:27.670Z   22.6926    87.7938  10.00  4.5      mb  NaN   \n",
       "4  2014-05-21T16:21:54.350Z   18.2012    88.0376  47.23  6.0     mww  NaN   \n",
       "\n",
       "    gap   dmin   rms  ...                   updated  \\\n",
       "0  99.0  6.208  0.66  ...  2019-06-22T10:15:08.897Z   \n",
       "1  78.0  7.358  0.83  ...  2019-05-01T22:00:34.040Z   \n",
       "2  78.0  9.928  0.97  ...  2018-11-07T18:37:08.040Z   \n",
       "3  93.0  4.685  0.60  ...  2018-11-07T18:37:03.040Z   \n",
       "4  38.0  5.590  0.63  ...  2015-01-28T16:02:10.607Z   \n",
       "\n",
       "                            place        type horizontalError depthError  \\\n",
       "0      18km WSW of Bankura, India  earthquake             6.5        1.9   \n",
       "1                   Bay of Bengal  earthquake             5.4        1.6   \n",
       "2  28km NNW of Baikunthpur, India  earthquake             9.2        1.9   \n",
       "3        8km ENE of Ghatal, India  earthquake             9.1        1.9   \n",
       "4      276km SE of Konarka, India  earthquake             NaN        3.7   \n",
       "\n",
       "   magError  magNst    status  locationSource magSource  \n",
       "0     0.066    69.0  reviewed              us        us  \n",
       "1     0.068    68.0  reviewed              us        us  \n",
       "2     0.061    81.0  reviewed              us        us  \n",
       "3     0.139    15.0  reviewed              us        us  \n",
       "4       NaN     NaN  reviewed              us        us  \n",
       "\n",
       "[5 rows x 22 columns]"
      ]
     },
     "execution_count": 68,
     "metadata": {},
     "output_type": "execute_result"
    }
   ],
   "source": [
    "df.head()"
   ]
  },
  {
   "cell_type": "code",
   "execution_count": 69,
   "metadata": {},
   "outputs": [],
   "source": [
    "df['year'] = df.time.apply(lambda x : x.split(sep = '-')[0])\n",
    "df['month'] = df.time.apply(lambda x : x.split(sep = '-')[1])"
   ]
  },
  {
   "cell_type": "code",
   "execution_count": 70,
   "metadata": {},
   "outputs": [],
   "source": [
    "df2 = pd.DataFrame(df.groupby(['year','month']).count().loc[:,'latitude'])\n",
    "df2.rename({'latitude' : 'no_earthquakes'}, axis = 1, inplace = True)\n",
    "df2.reset_index(inplace=True)"
   ]
  },
  {
   "cell_type": "code",
   "execution_count": 74,
   "metadata": {},
   "outputs": [
    {
     "data": {
      "text/plain": [
       "no_earthquakes    1.316146\n",
       "dtype: float64"
      ]
     },
     "execution_count": 74,
     "metadata": {},
     "output_type": "execute_result"
    }
   ],
   "source": [
    "df2.groupby('year').mean().mean()"
   ]
  },
  {
   "cell_type": "markdown",
   "metadata": {},
   "source": [
    "lambda = 1.31, e = 2.718281828459045\n",
    "x = ( 0,1, 2, 3, 4, 5, 6, 7, 8, 9 )"
   ]
  },
  {
   "cell_type": "code",
   "execution_count": 127,
   "metadata": {},
   "outputs": [],
   "source": [
    "\n",
    "rate = df2.groupby('year').mean().mean()\n",
    "x = np.arange(0,10,1)\n",
    "Poisson = poisson.pmf(x,rate)"
   ]
  },
  {
   "cell_type": "code",
   "execution_count": 128,
   "metadata": {},
   "outputs": [
    {
     "data": {
      "text/plain": [
       "array([2.68166873e-01, 3.52946712e-01, 2.32264672e-01, 1.01898060e-01,\n",
       "       3.35281768e-02, 8.82559405e-03, 1.93596147e-03, 3.64001089e-04,\n",
       "       5.98848146e-05, 8.75746103e-06])"
      ]
     },
     "execution_count": 128,
     "metadata": {},
     "output_type": "execute_result"
    }
   ],
   "source": [
    "Poisson"
   ]
  },
  {
   "cell_type": "code",
   "execution_count": 129,
   "metadata": {},
   "outputs": [
    {
     "data": {
      "image/png": "[encoded data removed]",
      "text/plain": [
       "<Figure size 1080x504 with 1 Axes>"
      ]
     },
     "metadata": {
      "needs_background": "light"
     },
     "output_type": "display_data"
    }
   ],
   "source": [
    "plt.figure(figsize= (15,7))\n",
    "plt.plot(x,Poisson,'o-')\n",
    "plt.title(f'Poisson: $\\lambda$ = {rate[0]}')\n",
    "plt.xlabel('Number of Earthquakes occuring in a year')\n",
    "plt.ylabel('Probability of Number of earthquakes occuring in a year')\n",
    "plt.show()"
   ]
  }
 ],
 "metadata": {
  "kernelspec": {
   "display_name": "Python 3",
   "language": "python",
   "name": "python3"
  },
  "language_info": {
   "codemirror_mode": {
    "name": "ipython",
    "version": 3
   },
   "file_extension": ".py",
   "mimetype": "text/x-python",
   "name": "python",
   "nbconvert_exporter": "python",
   "pygments_lexer": "ipython3",
   "version": "3.7.3"
  }
 },
 "nbformat": 4,
 "nbformat_minor": 2
}
