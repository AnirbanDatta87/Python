{
 "cells": [
  {
   "cell_type": "markdown",
   "metadata": {
    "_cell_guid": "cf40190e-4ebf-4a2e-8e5b-1d30164f9c74",
    "_uuid": "e73e536b1c5b44bfe0015cfdb2e4d031d6d4cbeb",
    "id": "r_kdEtQiSwVS"
   },
   "source": [
    "## Overview\n",
    "Let's say you know the mean and standard deviation of a population. How can you tell if a sample is from this population or some other population? Although we may never know with 100% certainty, we can look for statistically significant differences between the sample statistics and the population paramters. This is done by first stating what is refered to as a null hypothesis, which in this scenario would be that there is no difference between the sample mean and the population mean. Then we look for statistical evidence to accept or reject the null hypothesis. What if we don't know the population parameters? After this notebook you will know:\n",
    "* how to formulate a null hypothesis and alternative hypothesis for comparing a sample mean to a population mean.\n",
    "* how to conduct a z-test using the z-statistic for the sample mean to gain statistical evidence to accept or reject the null hypothesis.\n",
    "* how to one-sample, paired sample, and independent sample t-tests when the population standard deviation is unknown and must be estimated using the sample standard deviation.\n",
    "\n",
    "There is a terrific set of tutorials on using SPSS to do hypothesis testing at [this Kent State University website](https://libguides.library.kent.edu/SPSS)."
   ]
  },
  {
   "cell_type": "markdown",
   "metadata": {
    "_cell_guid": "b3296b0c-eb2f-4886-b54b-4a8cd12dbdd7",
    "_uuid": "c070713f2c711df50418f4137e60055b12dab7ab",
    "id": "Wz1Ya6w2SwVk"
   },
   "source": [
    "The following cell will import the WineEnthusiast data set using pandas. The data is linked to above and is formated as a CSV (comma-separated-values) file. Such a file could be opend in Excel but here we simply load the file into a pandas data structure called a dataframe and print out the first couple rows of the dataframe."
   ]
  },
  {
   "cell_type": "code",
   "execution_count": 2,
   "metadata": {
    "colab": {
     "base_uri": "https://localhost:8080/"
    },
    "id": "Kio-4QizTDWI",
    "outputId": "65c32111-6ad2-4220-993a-72d2cf462c21"
   },
   "outputs": [
    {
     "name": "stdout",
     "output_type": "stream",
     "text": [
      "Mounted at /content/drive\n"
     ]
    }
   ],
   "source": [
    "from google.colab import drive\n",
    "drive.mount('/content/drive')"
   ]
  },
  {
   "cell_type": "code",
   "execution_count": 3,
   "metadata": {
    "id": "Bf6DwwmSTpJP"
   },
   "outputs": [],
   "source": [
    "import numpy as np\n",
    "import pandas as pd\n",
    "import matplotlib.pyplot as plt\n",
    "import seaborn as sns\n",
    "import scipy.stats as stats # some useful stuff\n",
    "wine_data = pd.read_csv(\"/content/drive/MyDrive/winemag-data-130k-v2.csv\")"
   ]
  },
  {
   "cell_type": "code",
   "execution_count": 4,
   "metadata": {
    "colab": {
     "base_uri": "https://localhost:8080/",
     "height": 400
    },
    "id": "LYEnjPTpTyYo",
    "outputId": "39c0f27e-c07c-4205-8ca5-c9addd150f59"
   },
   "outputs": [
    {
     "data": {
      "text/html": [
       "<div>\n",
       "<style scoped>\n",
       "    .dataframe tbody tr th:only-of-type {\n",
       "        vertical-align: middle;\n",
       "    }\n",
       "\n",
       "    .dataframe tbody tr th {\n",
       "        vertical-align: top;\n",
       "    }\n",
       "\n",
       "    .dataframe thead th {\n",
       "        text-align: right;\n",
       "    }\n",
       "</style>\n",
       "<table border=\"1\" class=\"dataframe\">\n",
       "  <thead>\n",
       "    <tr style=\"text-align: right;\">\n",
       "      <th></th>\n",
       "      <th>Unnamed: 0</th>\n",
       "      <th>country</th>\n",
       "      <th>description</th>\n",
       "      <th>designation</th>\n",
       "      <th>points</th>\n",
       "      <th>price</th>\n",
       "      <th>province</th>\n",
       "      <th>region_1</th>\n",
       "      <th>region_2</th>\n",
       "      <th>taster_name</th>\n",
       "      <th>taster_twitter_handle</th>\n",
       "      <th>title</th>\n",
       "      <th>variety</th>\n",
       "      <th>winery</th>\n",
       "    </tr>\n",
       "  </thead>\n",
       "  <tbody>\n",
       "    <tr>\n",
       "      <th>0</th>\n",
       "      <td>0</td>\n",
       "      <td>Italy</td>\n",
       "      <td>Aromas include tropical fruit, broom, brimston...</td>\n",
       "      <td>Vulkà Bianco</td>\n",
       "      <td>87</td>\n",
       "      <td>NaN</td>\n",
       "      <td>Sicily &amp; Sardinia</td>\n",
       "      <td>Etna</td>\n",
       "      <td>NaN</td>\n",
       "      <td>Kerin O’Keefe</td>\n",
       "      <td>@kerinokeefe</td>\n",
       "      <td>Nicosia 2013 Vulkà Bianco  (Etna)</td>\n",
       "      <td>White Blend</td>\n",
       "      <td>Nicosia</td>\n",
       "    </tr>\n",
       "    <tr>\n",
       "      <th>1</th>\n",
       "      <td>1</td>\n",
       "      <td>Portugal</td>\n",
       "      <td>This is ripe and fruity, a wine that is smooth...</td>\n",
       "      <td>Avidagos</td>\n",
       "      <td>87</td>\n",
       "      <td>15.0</td>\n",
       "      <td>Douro</td>\n",
       "      <td>NaN</td>\n",
       "      <td>NaN</td>\n",
       "      <td>Roger Voss</td>\n",
       "      <td>@vossroger</td>\n",
       "      <td>Quinta dos Avidagos 2011 Avidagos Red (Douro)</td>\n",
       "      <td>Portuguese Red</td>\n",
       "      <td>Quinta dos Avidagos</td>\n",
       "    </tr>\n",
       "    <tr>\n",
       "      <th>2</th>\n",
       "      <td>2</td>\n",
       "      <td>US</td>\n",
       "      <td>Tart and snappy, the flavors of lime flesh and...</td>\n",
       "      <td>NaN</td>\n",
       "      <td>87</td>\n",
       "      <td>14.0</td>\n",
       "      <td>Oregon</td>\n",
       "      <td>Willamette Valley</td>\n",
       "      <td>Willamette Valley</td>\n",
       "      <td>Paul Gregutt</td>\n",
       "      <td>@paulgwine</td>\n",
       "      <td>Rainstorm 2013 Pinot Gris (Willamette Valley)</td>\n",
       "      <td>Pinot Gris</td>\n",
       "      <td>Rainstorm</td>\n",
       "    </tr>\n",
       "  </tbody>\n",
       "</table>\n",
       "</div>"
      ],
      "text/plain": [
       "   Unnamed: 0   country  ...         variety               winery\n",
       "0           0     Italy  ...     White Blend              Nicosia\n",
       "1           1  Portugal  ...  Portuguese Red  Quinta dos Avidagos\n",
       "2           2        US  ...      Pinot Gris            Rainstorm\n",
       "\n",
       "[3 rows x 14 columns]"
      ]
     },
     "execution_count": 4,
     "metadata": {
      "tags": []
     },
     "output_type": "execute_result"
    }
   ],
   "source": [
    "wine_data.head(3)"
   ]
  },
  {
   "cell_type": "markdown",
   "metadata": {
    "_cell_guid": "6947b130-e149-44f0-bb45-f36a88787ce0",
    "_uuid": "3f5284503c71ef3b19997b3f9a30d20b82ca657f",
    "id": "AFAUjCrCSwVn"
   },
   "source": [
    "## Is A Sample of Wine Scores From the Wine Enthusiast Population\n",
    "Let's assume the WineEnthusiast point scores are interval-scaled normally distributed data. Let's find the population mean and population standard deviation."
   ]
  },
  {
   "cell_type": "code",
   "execution_count": 5,
   "metadata": {
    "_cell_guid": "57c02446-664b-4cf6-a66a-1b3c2395e2dc",
    "_uuid": "134fb568bab52c074dc9e7c10f3d67f5c3184a56",
    "colab": {
     "base_uri": "https://localhost:8080/"
    },
    "id": "x3d-CCfKSwVo",
    "outputId": "ce876f10-1d03-425f-b55a-80e46e010998"
   },
   "outputs": [
    {
     "name": "stdout",
     "output_type": "stream",
     "text": [
      "mu:  88.44713820775404 , sigma: 3.0397185090150947\n"
     ]
    }
   ],
   "source": [
    "points = wine_data['points']\n",
    "mu = points.mean()\n",
    "sigma = points.std(ddof=0)\n",
    "print(\"mu: \", mu, \", sigma:\", sigma)"
   ]
  },
  {
   "cell_type": "markdown",
   "metadata": {
    "_cell_guid": "0c4b6d09-6a40-45b5-afc4-171a97caef7d",
    "_uuid": "92d2b57b008367b44cd18fb59db9581b0da201ae",
    "id": "Z_6qAo8vSwVq"
   },
   "source": [
    "A sample of N=10 wine point scores yields a sample mean of x_bar = 90.2. Is this sample from the WineEnthusiast population? To test this question we will use what is refered to as a one-sample z-test. First we state the null hypothesis and alternative hypothesis like this;\n",
    "* H<sub>0</sub>: The sample is from the WineEnthusiast population, x_bar = &mu;.\n",
    "* H<sub>A</sub>: The sample is not from the WineEnthusiast population, x_bar != (not equal) &mu;.\n",
    "\n",
    "Then, we specify a significance (alpha) level. Usually, statistical significance is associated with an alpha level of &alpha; = 0.05 or smaller. Next, we use a [z table](http://www.stat.ufl.edu/~athienit/Tables/Ztable.pdf) to look up the critical z value that cooresponds to this &alpha; level. Here we are doing a two-tailed test because we don't care if the sample mean is greater than or less than the population mean. We just are testing to see if the two are equal or notl (see the alternative hypothesis above). Next we calculate the z-statitic for the sample mean compared to the population mean dividing by the standard deviation of the sample mean, which is the standard error &sigma;/sqrt(N). If this z-statistic is less than z-critical then we accept the null hypothesis, otherwise we reject the null and accept the alternative hypothesis. Let's do it."
   ]
  },
  {
   "cell_type": "code",
   "execution_count": 6,
   "metadata": {
    "_cell_guid": "d4bb2a08-fe1d-4653-8d24-019911dcd7bb",
    "_uuid": "025faf9721bde2a423a7dc279bd435b74233f47f",
    "colab": {
     "base_uri": "https://localhost:8080/"
    },
    "id": "Tuviocm1SwVr",
    "outputId": "85f57a5d-bbf1-4d68-e316-3a45865bdc53"
   },
   "outputs": [
    {
     "name": "stdout",
     "output_type": "stream",
     "text": [
      "1.8235358539097541\n"
     ]
    }
   ],
   "source": [
    "z_critical = 1.96 # alpha level of 0.05 and two-tailed test\n",
    "x_bar = 90.2\n",
    "N = 10\n",
    "SE = sigma/np.sqrt(N)\n",
    "z_stat = (x_bar - mu)/SE\n",
    "print(z_stat)"
   ]
  },
  {
   "cell_type": "markdown",
   "metadata": {
    "_cell_guid": "5fa95660-43e2-4848-b758-b914919865a9",
    "_uuid": "49395110a1332f8a83c39d928d2b431f79a69b7a",
    "id": "6KKqGxFtSwVt"
   },
   "source": [
    "Since z_stat is less than z_critical we accept the null hypothesis and reject the althernative. Statistically, we say the sample mean is no different than the population mean and thus the sample is drawn from the population. But what if the sample size was larger? Let's redo the calculation with N=30."
   ]
  },
  {
   "cell_type": "code",
   "execution_count": 7,
   "metadata": {
    "_cell_guid": "94724d01-8468-459d-88c2-f812a053ecca",
    "_uuid": "223f6e27a6c146c4c0bbed8391bdeae95a0b6797",
    "colab": {
     "base_uri": "https://localhost:8080/"
    },
    "id": "isMsWT7gSwVu",
    "outputId": "ec37cfb5-e1f4-4a02-cf59-b003707530b5"
   },
   "outputs": [
    {
     "name": "stdout",
     "output_type": "stream",
     "text": [
      "3.158456748395192\n"
     ]
    }
   ],
   "source": [
    "N = 30;\n",
    "SE = sigma/np.sqrt(N)\n",
    "z_stat = (x_bar - mu)/SE\n",
    "print(z_stat)"
   ]
  },
  {
   "cell_type": "markdown",
   "metadata": {
    "_cell_guid": "c827c5cc-bc66-460e-b920-1320f71f942e",
    "_uuid": "679d215e20614e326f2b57f5d9d616b6d42288e1",
    "id": "eJhUJBetSwVv"
   },
   "source": [
    "Now the z-statistic is greater than z-critical and we reject the null hypothesis. Statistically speaking we say that this sample was drawn from some different population than the WineEnthusiast population. Why the difference? As you can see mathematically, increasing the sample size decreases the standard error of the sample mean. This means the distribution of sample means becomes narrower as N gets larger and thus it is less likely to overlap with the population mean everything else being equal."
   ]
  },
  {
   "cell_type": "markdown",
   "metadata": {
    "_cell_guid": "a870ca15-2539-4ee0-a02f-3bbfc58dd2cb",
    "_uuid": "c68730a7d4f4fb2ff3c9b9d230ca6f3678b89e5c",
    "collapsed": true,
    "id": "aA5yenowSwVw"
   },
   "source": [
    "## T-Tests\n",
    "Around 1900, a chemist and statistical wizard named William Sealy Gosset who went by the pen name Student worked for the Guiness Brewery in Ireland. in his mission to use science to make better beer, he noticed that in situations where the population standard deviation is unknown (most situations), it can be estimated using the sample standard deviation (using the unbiased version normalized by N-1). But, if the sample size is small (let's say less than 30 is small) the shape of the distribution of sample means has thicker tails than a normal distribution because there is more variability in the estimate of the standard deviation of the sample mean (the standard error), which itself depends on the sample size. Thus, the z-test is unreliable because z-values are determend using a normal distribuiton. Instead, we must draw our test statistic from a different distribution called the t-distribution. The shape of this distribution narrows and becomes more normal like and the sample size increases or degrees of freedom increases, where degrees of freedom is N-1. Thus, Student's t-test is conducted in a fashion similar to a z-test but the t-statistic is pulled from a different distribution and thus a different table. **The t-statistic itself has a similar form to the z-statistic in that it is a ration of a deviation divided by a measure of variability.** However, the exact for of the ratio for the t-statistic depends on the nature of the data being used. Next I'll show you how to apply Student's t-test to various experimental scenarios."
   ]
  },
  {
   "cell_type": "markdown",
   "metadata": {
    "_cell_guid": "d3aaab21-ec70-40e2-963a-02bc45957a73",
    "_uuid": "12dd5dd0c498a151b4d672f224881296ceb75719",
    "id": "09xpXF3xSwVx"
   },
   "source": [
    "## Framework for Statistical Hypothesis Testing with T-Tests\n",
    "* Do you have one sample that you want to compare to some spcified value? Do a **one-sample t-test**. For example, let's say it is well known that acorns have an average mass of 10 g, and you want to test to see if them mass of acorns from a forest subjected to acid rain are signifcantly different. \n",
    "* Do you have two independent samples that you want to compare to each other? Do an **independent samples t-test**. For example, let's say you take samples of acorn from a forest upwind and downwind from a coal power plant and you want to test to see if the average mass of the acorns from the two samples is the same.\n",
    "* Do you have two dependent samples taken from the same indidividuals or objects? Do a **paired samples t-test**. For example, let's say you measure the average mass of acorns from 50 trees in a forest before and after the local power plant converted from coal to natural gas and want to see if there is a difference in the masses pre-conversion to post-conversion. "
   ]
  },
  {
   "cell_type": "code",
   "execution_count": 8,
   "metadata": {
    "_cell_guid": "4befc072-c910-4ba4-900f-e0fbd7717bc1",
    "_uuid": "2f1ee61b048b9a4d1e686b9479bb52417682e7c8",
    "colab": {
     "base_uri": "https://localhost:8080/"
    },
    "id": "UJC0FdDPSwVx",
    "outputId": "56b47dc2-0b6f-40ba-a302-01e8ff213e0f"
   },
   "outputs": [
    {
     "name": "stdout",
     "output_type": "stream",
     "text": [
      "[ 7.9  7.8 11.6  9.9  8.   7.3  7.9  7.5  8.6 12.5  8.2 10.4 10.  10.4\n",
      "  8.6  7.1  7.3 10.6  9.1 11.6 11.4  9.5 11.   7.5  8.1  8.5  7.2 10.6\n",
      "  8.1  9. ]\n"
     ]
    }
   ],
   "source": [
    "x = np.random.normal(loc=9.2,scale=1.5,size=30).round(1)\n",
    "print(x)"
   ]
  },
  {
   "cell_type": "markdown",
   "metadata": {
    "_cell_guid": "9b9566bb-e9b5-4b48-9b45-0194167d2b2b",
    "_uuid": "6256e72b89e829fc8583163418120a3e50aaa156",
    "id": "I1O_8LhFSwVz"
   },
   "source": [
    "## One-sample location test on whether the mean of a population is equal to a value specified in null hypothesis\n",
    "\n",
    "The mass of a sample of N=20 acorns from a forest subjected to acid rain from a coal power plant are m = 8.8, 6.6, 9.5, 11.2, 10.2, 7.4, 8.0, 9.6, 9.9, 9.0, 7.6, 7.4, 10.4, 11.1, 8.5, 10.0, 11.6, 10.7, 10.3, and 7.0 g. Is the average mass of this sample different from the average mass of all acorns of &mu; = 10.0 g?\n",
    "\n",
    "* H<sub>0</sub>: x&#772; - &mu; = 0, that is there is no difference between my sample mean and the value of &mu;.\n",
    "* H<sub>a</sub>: x&#772; - &mu; &ne; 0 (two-sided test)\n",
    "* &alpha; = 0.05\n",
    "\n",
    "[t-table](http://www.sjsu.edu/faculty/gerstman/StatPrimer/t-table.pdf)\n",
    "* degrees of freedom: d<sub>f</sub> = N-1\n",
    "* t-critical for specified alpha level: t<sub>*</sub> = 2.093\n",
    "* t-statistic: t = (x&#772; - &mu;)/(s/sqrt(N)) where s is the sample standard deviation.\n"
   ]
  },
  {
   "cell_type": "code",
   "execution_count": 9,
   "metadata": {
    "_cell_guid": "4148d56b-fa5a-4e96-b67c-1e57bccf6417",
    "_uuid": "763af9076a0089015fc6d5d85c17e344b50b5a48",
    "colab": {
     "base_uri": "https://localhost:8080/"
    },
    "id": "2W_aNkVCSwVz",
    "outputId": "4861e891-16f2-447d-d38b-742750d1b82b",
    "scrolled": true
   },
   "outputs": [
    {
     "name": "stdout",
     "output_type": "stream",
     "text": [
      "t-statistic:  -2.2491611580763977\n",
      "t =  -2.2491611580763973 , p =  0.03655562279112415\n"
     ]
    }
   ],
   "source": [
    "x = [8.8, 6.6, 9.5, 11.2, 10.2, 7.4, 8.0, 9.6, 9.9, 9.0,\n",
    "     7.6, 7.4, 10.4, 11.1, 8.5, 10.0, 11.6, 10.7, 10.3, 7.0]\n",
    "mu = 10\n",
    "t_critical = 2.093\n",
    "x_bar = np.array(x).mean()\n",
    "s = np.array(x).std(ddof=1) # subtract 1 from N to get unbiased estimate of sample standard deviation\n",
    "N = len(x)\n",
    "SE = s/np.sqrt(N)\n",
    "t = (x_bar - mu)/SE\n",
    "print(\"t-statistic: \",t)\n",
    "\n",
    "# a one sample t-test that gives you the p-value too can be done with scipy as follows:\n",
    "t, p = stats.ttest_1samp(x, mu)\n",
    "print(\"t = \", t, \", p = \", p)"
   ]
  },
  {
   "cell_type": "markdown",
   "metadata": {
    "_cell_guid": "b2894e2f-f2ab-4004-af72-0cbaa592d286",
    "_uuid": "662933c050f5d099e89102fa8779f69d1f3ac8b2",
    "id": "NvttNPAkSwV1"
   },
   "source": [
    "Note that t is greater in magnitude that t<sub>*</sub> so there is a statistically significant difference at the &alpha; = 0.05 level between the sample mean and the stated population mean of 10 g. Note that statistical signficance doesn mean the effect is large. Let's report the 95% confidence intervals too.. "
   ]
  },
  {
   "cell_type": "code",
   "execution_count": 10,
   "metadata": {
    "_cell_guid": "a77658d4-df97-429c-a8cc-f4b0c22a7716",
    "_uuid": "48295f9db014374bc05c3e8055921a11bd4a0504",
    "colab": {
     "base_uri": "https://localhost:8080/"
    },
    "id": "Qe9VelM5SwV2",
    "outputId": "ff87d23e-1219-4912-af1a-1ce86a6d27b1"
   },
   "outputs": [
    {
     "name": "stdout",
     "output_type": "stream",
     "text": [
      "x_bar = 9.24, 95% CI [8.53, 9.95]\n",
      "CI using scipy:  (8.532759313560822, 9.947240686439175)\n"
     ]
    }
   ],
   "source": [
    "# margin of error\n",
    "err = t_critical*SE\n",
    "x_low = x_bar - err\n",
    "x_high = x_bar + err\n",
    "print(\"x_bar = {}, 95% CI [{}, {}]\".format(x_bar.round(2), x_low.round(2), x_high.round(2)))\n",
    "\n",
    "# you can also get CIs by using the build int t-distribution function like this:\n",
    "print(\"CI using scipy: \",stats.t.interval(0.95, N-1, loc=x_bar, scale=SE))"
   ]
  },
  {
   "cell_type": "markdown",
   "metadata": {
    "_cell_guid": "fd17fd23-4f92-403e-aada-0b61433b22e9",
    "_uuid": "948240552a9daac38010e7ec652d02adbdfab6f7",
    "id": "SpL6B2HdSwV4"
   },
   "source": [
    "## Independent (unpaird) two-sample location test with a null hypothesis that the means of the two samples are equal (equal variance assued).\n",
    "The mass of N<sub>1</sub>=20 acorns from oak trees up wind from a coal power plant and N<sub>2</sub>=30 acorns from oak trees down wind from the same coal power plant are mesured. Are the acorns from trees downwind less massive then the ones from up wind? This will require a one-tail (on the low/left side) test. The sample sizes are not equal but we will assume that the population variance of sample 1 and sample 2 are equal. If we don't make the assumption of equal variance then we do a Welch's t-test.\n",
    "\n",
    "* H<sub>0</sub>: x&#772;<sub>1</sub> = x&#772;<sub>2</sub>, or x&#772;<sub>2</sub> - x&#772;<sub>1</sub> = 0, that is , there is no difference between the sample means\n",
    "* H<sub>A</sub>: x&#772;<sub>2</sub> < x&#772;<sub>1</sub>, or x&#772;<sub>2</sub> - x&#772;<sub>1</sub> < 0\n",
    "* &alpha; = 0.05\n",
    "\n",
    "[t-table](http://www.sjsu.edu/faculty/gerstman/StatPrimer/t-table.pdf)\n",
    "* degrees of freedom: d<sub>f1</sub>= N<sub>1</sub>-1 = 19, d<sub>f2</sub>= N<sub>2</sub>-1 = 29, d<sub>f</sub> = d<sub>f1</sub> + d<sub>f2</sub> = N<sub>1</sub> + N<sub>2</sub> - 2 = 48\n",
    "\n",
    "* t-critical for specified alpha level: t<sub>*</sub> = -1.677 (one-tailed, left-side)\n",
    "* t-statistic: t = (x&#772;<sub>2</sub> - x&#772;<sub>1</sub>)/(s<sub>p</sub> sqrt(1/N<sub>1</sub> + 1/N<sub>2</sub>)))\n",
    "* pooled variance: s<sub>p</sub> = sqrt( ((d<sub>1</sub>) s<sub>1</sub><sup>2</sup> + (d<sub>2</sub>) s<sub>2</sub><sup>2</sup>)) / d<sub>f</sub> )\n"
   ]
  },
  {
   "cell_type": "code",
   "execution_count": 11,
   "metadata": {
    "_cell_guid": "f2b15c98-92e0-4f2b-90e1-beb62cc3ae03",
    "_uuid": "fa96a81f7f2ca3b6cb195dd0e0c087b8d30b348b",
    "colab": {
     "base_uri": "https://localhost:8080/"
    },
    "id": "lIwMWpDFSwV5",
    "outputId": "fda2fcb1-618d-4cd5-ba23-02baa78851b8"
   },
   "outputs": [
    {
     "name": "stdout",
     "output_type": "stream",
     "text": [
      "t-statistic -3.5981947686898033\n",
      "t =  -3.5981947686898033 , p_twosided =  0.0007560337478801464 , p_onesided = 0.0003780168739400732\n"
     ]
    }
   ],
   "source": [
    "# sample up wind\n",
    "x1 = [10.8, 10.0, 8.2, 9.9, 11.6, 10.1, 11.3, 10.3, 10.7, 9.7, \n",
    "      7.8, 9.6, 9.7, 11.6, 10.3, 9.8, 12.3, 11.0, 10.4, 10.4]\n",
    "\n",
    "# sample down wind\n",
    "x2 = [7.8, 7.5, 9.5, 11.7, 8.1, 8.8, 8.8, 7.7, 9.7, 7.0, \n",
    "      9.0, 9.7, 11.3, 8.7, 8.8, 10.9, 10.3, 9.6, 8.4, 6.6,\n",
    "      7.2, 7.6, 11.5, 6.6, 8.6, 10.5, 8.4, 8.5, 10.2, 9.2]\n",
    "\n",
    "# equal sample size and assume equal population variance\n",
    "t_critical = 1.677\n",
    "N1 = len(x1)\n",
    "N2 = len(x2)\n",
    "d1 = N1-1\n",
    "d2 = N2-1\n",
    "df = d1+d2\n",
    "s1 = np.std(x1,ddof=1)\n",
    "s2 = np.std(x2,ddof=1)\n",
    "x1_bar = np.mean(x1)\n",
    "x2_bar = np.mean(x2)\n",
    "\n",
    "sp = np.sqrt((d1*s1**2 + d2*s2**2)/df)\n",
    "se = sp*np.sqrt(1/N1 + 1/N2)\n",
    "t = (x2_bar - x1_bar)/(se)\n",
    "print(\"t-statistic\", t)\n",
    "\n",
    "# a two-sample independent t-test is done with scipy as follows\n",
    "# NOTE: the p-value given is two-sided so the one-sided p value would be p/2\n",
    "t, p_twosided = stats.ttest_ind(x2, x1, equal_var=True)\n",
    "print(\"t = \",t, \", p_twosided = \", p_twosided, \", p_onesided =\", p_twosided/2)"
   ]
  },
  {
   "cell_type": "markdown",
   "metadata": {
    "_cell_guid": "9fa7e955-2b68-4bb4-bd4a-d8bf115fc8c7",
    "_uuid": "4b3d56e4e2609e33a4ed094371fea1df67855ecf",
    "id": "gY1ZnNaJSwV7"
   },
   "source": [
    "## Estimating Effect Size\n",
    "Since the t-statistic above is less than t-critical, the null is rejected and the alternative hypothesis is accepted. Just because there is a statistically significant difference betwee the two samples doesn't necessaily mean the differene is meaningful. Let's calculate the 95% confidence interval and a measure of effect size, Cohen's d.. \n",
    "* Cohen's d, d = (mean deviation) / (pooled standard deviation) = (x&#772;<sub>2</sub> - x&#772;<sub>1</sub>) / s<sub>p</sub>\n",
    "\n",
    "We can also calculate a correlation of determination r<sup>2</sup> which represents the fraction of the variance in the data explained by the sample  it belongs to. \n",
    "\n",
    "* Coefficient of determination, r<sup>2</sup> = t<sup>2</sup> / ( t<sup>2</sup> + df )"
   ]
  },
  {
   "cell_type": "code",
   "execution_count": 12,
   "metadata": {
    "_cell_guid": "131e8a07-45f9-4ebf-8f6b-472bd32af34d",
    "_uuid": "e791ba38b62fa34d1a41030620ca1b95840f90cf",
    "colab": {
     "base_uri": "https://localhost:8080/",
     "height": 387
    },
    "id": "UaBZ0uvRSwV9",
    "outputId": "2e49645f-f791-435c-8f30-e16ef79f1862"
   },
   "outputs": [
    {
     "name": "stdout",
     "output_type": "stream",
     "text": [
      "Confidence Interval:\n",
      "x2_bar - x1_bar =  -1.3350000000000026 , 95% CI  (-2.0809844644533113, -0.589015535546694)\n",
      "Cohen's Effect Size, d:\n",
      "d =  -1.0387093591498806\n",
      "r_squared =  0.21243054465702976\n",
      "r_squared =  0.2124305446570291\n"
     ]
    },
    {
     "data": {
      "image/png": "[encoded data removed]",
      "text/plain": [
       "<Figure size 432x288 with 1 Axes>"
      ]
     },
     "metadata": {
      "needs_background": "light",
      "tags": []
     },
     "output_type": "display_data"
    }
   ],
   "source": [
    "print(\"Confidence Interval:\")\n",
    "print(\"x2_bar - x1_bar = \", x2_bar - x1_bar, \", 95% CI \",stats.t.interval(0.95, df, loc=x2_bar-x1_bar, scale=se))\n",
    "print(\"Cohen's Effect Size, d:\")\n",
    "print(\"d = \", (x2_bar - x1_bar)/sp)\n",
    "\n",
    "rsq = t**2 / (t**2 + df)\n",
    "print(\"r_squared = \", rsq) # 34.5 % of the variation between samples can be explained by the switch to nat. gas\n",
    "\n",
    "# notice that the r_squared value above is equal to the r_squared value you would get from linear regression\n",
    "x = np.concatenate((np.ones(N1), np.ones(N2)*2))\n",
    "y = np.concatenate((x1,x2))\n",
    "\n",
    "slope, yint, r, p, sterr = stats.linregress(x, y)\n",
    "print(\"r_squared = \",r**2)\n",
    "\n",
    "plt.plot(x,y)\n",
    "plt.show()"
   ]
  },
  {
   "cell_type": "markdown",
   "metadata": {
    "_cell_guid": "9b5d97b5-9c0c-4a45-b333-36d3bdeecdcc",
    "_uuid": "8520e337989f942369ad861e6aebece17394efe3",
    "collapsed": true,
    "id": "7cZ5KK9CSwV_"
   },
   "source": [
    "## Paired samples (dependent/repeated measures) t-test with a null hypothesis that the mean difference is a specified constant (usually zero).\n",
    "The average mass of acorns from the same N=30 trees downwind of a power plant is measured before (x<sub>1</sub>) and after (x<sub>2</sub>) the power plant converts from burning coal to buring natural gas. Does the mass of the acorns increase after the conversion from coal to natural gas? This will require a one-tail (on the low/left side) test.\n",
    "\n",
    "* H<sub>0</sub>: x&#772;<sub>2</sub> - x&#772;<sub>1</sub> = 0, that is , there is no difference between the sample means\n",
    "* H<sub>A</sub>: x&#772;<sub>2</sub> - x&#772;<sub>1</sub> > 0\n",
    "* &alpha; = 0.05\n",
    "\n",
    "[t-table](http://www.sjsu.edu/faculty/gerstman/StatPrimer/t-table.pdf)\n",
    "* degrees of freedom: d<sub>f</sub> = N-1 = 29\n",
    "* t-critical for specified alpha level: t<sub>*</sub> = 1.677 (one-tailed, right-side)\n",
    "* t-statistic: t = (x&#772;<sub>diff</sub> - 0)/(s<sub>diff</sub> / sqrt(N))\n",
    "* standard deviation of difference: s<sub>d</sub> = sqrt(s<sub>1</sub><sup>2</sup>/N<sub>1</sub> + s<sub>2</sub><sup>2</sup>/N<sub>2</sub>)\n",
    "* mean difference: x&#772;<sub>diff</sub> = x&#772;<sub>2</sub> - x&#772;<sub>1</sub>"
   ]
  },
  {
   "cell_type": "code",
   "execution_count": 13,
   "metadata": {
    "_cell_guid": "d5690fde-4d81-4f50-93c0-cad681140c71",
    "_uuid": "a256d0a2cc6426f642854fc66a63dd146d37bcf7",
    "colab": {
     "base_uri": "https://localhost:8080/"
    },
    "id": "rsDs3Vp6SwWA",
    "outputId": "9468c018-74cd-4d72-993c-8d42d554bea4"
   },
   "outputs": [
    {
     "name": "stdout",
     "output_type": "stream",
     "text": [
      "t =  3.9054390813265063\n",
      "t =  3.905439081326491 , p =  0.0002584344912342189\n",
      "d =  0.7130323606015934\n"
     ]
    }
   ],
   "source": [
    "# sample before conversion to nat. gas\n",
    "x1 = np.array([10.8, 6.4, 8.3, 7.6, 11.4, 9.9, 10.6, 8.7, 8.1, 10.9,\n",
    "      11.0, 11.8, 7.3, 9.6, 9.3, 9.9, 9.0, 9.5, 10.6, 10.3,\n",
    "      8.8, 12.3, 8.9, 10.5, 11.6, 7.6, 8.9, 10.4, 10.2, 8.8])\n",
    "# sample after conversion to nat. gas\n",
    "x2 = np.array([10.1, 6.9, 8.6, 8.8, 12.1, 11.3, 12.4, 9.3, 9.3, 10.8,\n",
    "      12.4, 11.5, 7.4, 10.0, 11.1, 10.6, 9.4, 9.5, 10.0, 10.0,\n",
    "      9.7, 13.5, 9.6, 11.6, 11.7, 7.9, 8.6, 10.8, 9.5, 9.6])\n",
    "N = len(x2)\n",
    "xbar_diff = np.mean(x2) - np.mean(x1) # could also do np.mean(x2 - x1))\n",
    "sdiff = np.std(x2-x1,ddof=1)\n",
    "t = xbar_diff / (sdiff/np.sqrt(N))\n",
    "print(\"t = \", t)\n",
    "\n",
    "t, p = stats.ttest_rel(x2, x1) # using scipy\n",
    "print(\"t = \", t, \", p = \", p/2) # divide by two because we are doing a one-tail test\n",
    "\n",
    "d = xbar_diff / sdiff\n",
    "print(\"d = \", d) # chohen's d"
   ]
  },
  {
   "cell_type": "markdown",
   "metadata": {
    "_cell_guid": "10cca2fc-bc78-46b0-a4b5-4e3908c90617",
    "_uuid": "86737f8db76a51ca47d2aa570f81af414eaf712f",
    "collapsed": true,
    "id": "dIbpGgTNSwWB"
   },
   "source": [
    "So, there is a statistically significant difference between the two samples at the &alpha; = 0.05 level. \n",
    "\n"
   ]
  },
  {
   "cell_type": "markdown",
   "metadata": {
    "id": "Vw_-L5OXUcl3"
   },
   "source": [
    "We have the potato yield from 12 different farms. We know that the standard potato yield for the given variety is µ=20.\n",
    "\n",
    "x = [21.5, 24.5, 18.5, 17.2, 14.5, 23.2, 22.1, 20.5, 19.4, 18.1, 24.1, 18.5]\n",
    "\n",
    "Test if the potato yield from these farms is significantly better than the standard yield.\n",
    "\n"
   ]
  },
  {
   "cell_type": "markdown",
   "metadata": {
    "id": "7FDZKaVuUqHs"
   },
   "source": [
    "Step 1: Define the Null and Alternate Hypothesis\n",
    "\n",
    "H0: x̅ = 20\n",
    "\n",
    "H1: x̅ > 20"
   ]
  },
  {
   "cell_type": "markdown",
   "metadata": {
    "id": "X21rsKw_U6YY"
   },
   "source": [
    "n = 12. Since this is one sample T test, the degree of freedom = n-1 = 12-1 = 11.\n",
    "\n",
    "Let’s set alpha = 0.05, to meet 95% confidence level."
   ]
  },
  {
   "cell_type": "markdown",
   "metadata": {
    "id": "ksVTJGmtVVqy"
   },
   "source": [
    "In Python, One sample T Test is implemented in ttest_1samp() function in the scipy package. However, it does a Two tailed test by default, and reports a signed T statistic. That means, the reported P-value will always be computed for a Two-tailed test. To calculate the correct P value, you need to divide the output P-value by 2."
   ]
  },
  {
   "cell_type": "code",
   "execution_count": 14,
   "metadata": {
    "colab": {
     "base_uri": "https://localhost:8080/"
    },
    "collapsed": true,
    "id": "bGNzDiqtSwWD",
    "outputId": "e1791954-b5ad-4cee-9ac1-a26578ad030e"
   },
   "outputs": [
    {
     "name": "stdout",
     "output_type": "stream",
     "text": [
      "t Statistic:  0.2006562773994862\n",
      "P Value:  0.8446291893053613\n"
     ]
    }
   ],
   "source": [
    "from scipy.stats import ttest_1samp\n",
    "x =  [21.5, 24.5, 18.5, 17.2, 14.5, 23.2, 22.1, 20.5, 19.4, 18.1, 24.1, 18.5]\n",
    "tscore, pvalue = ttest_1samp(x, popmean=20)\n",
    "print(\"t Statistic: \", tscore)  \n",
    "print(\"P Value: \", pvalue)"
   ]
  },
  {
   "cell_type": "markdown",
   "metadata": {
    "id": "yJKr8T4pVTCt"
   },
   "source": [
    "Since it is one tailed test, the real p-value is 0.8446/2 = 0.4223. We do not rejecting the Null Hypothesis anyway."
   ]
  },
  {
   "cell_type": "code",
   "execution_count": null,
   "metadata": {
    "id": "d9IhmWcnVPJn"
   },
   "outputs": [],
   "source": []
  }
 ],
 "metadata": {
  "colab": {
   "collapsed_sections": [],
   "name": "T test one sample.ipynb",
   "provenance": [],
   "toc_visible": true
  },
  "kernelspec": {
   "display_name": "Python 3",
   "language": "python",
   "name": "python3"
  },
  "language_info": {
   "codemirror_mode": {
    "name": "ipython",
    "version": 3
   },
   "file_extension": ".py",
   "mimetype": "text/x-python",
   "name": "python",
   "nbconvert_exporter": "python",
   "pygments_lexer": "ipython3",
   "version": "3.8.5"
  }
 },
 "nbformat": 4,
 "nbformat_minor": 1
}
