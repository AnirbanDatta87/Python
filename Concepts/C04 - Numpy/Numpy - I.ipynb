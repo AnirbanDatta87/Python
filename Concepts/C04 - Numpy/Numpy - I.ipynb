{
 "cells": [
  {
   "cell_type": "markdown",
   "metadata": {},
   "source": [
    "# <font color = 'green'>Numpy</font>\n",
    "## Source:\n",
    " - Book: [Johansson | (p 64 / 709)]\n",
    " - Book: [Nelli | (p 69 / 576)]\n",
    " - Book: [McKinney | (p 98 / 529)]\n",
    " \n",
    "## Topics:\n",
    " - [Part I: Numpy Basics](#Part-I:-Numpy-Basics)\n",
    " - [Part II: Creating Numpy Arrays](#Part-II:-Creating-Numpy-Arrays)\n",
    " - [Part III: Array Indexing and Slicing](#Part-III:-Array-Indexing-and-Slicing)\n",
    " - [Part IV: Array Reshaping and Resizing](#Part-IV:-Array-Reshaping-and-Resizing)\n",
    " - [Part V: Vectorization and Array Broadcasting](#Part-V:-Vectorization-and-Array-Broadcasting)\n",
    " - [Part VI: Input and Output](#Part-VI:-Input-and-Output)"
   ]
  },
  {
   "cell_type": "markdown",
   "metadata": {},
   "source": [
    "# <font color = 'green'>Part I: Numpy Basics</font>\n",
    "\n",
    "### <font color = 'green'>1.1 Introduction</font>\n",
    "\n",
    "NumPy’s main object is the homogeneous multidimensional array. It is a grid (table) of elements (usually numbers), all of the same type, indexed by a tuple of positive integers. In NumPy dimensions are called axes.\n",
    "\n",
    "For example, the coordinates of a point in 3D space <code>[1, 2, 1]</code> has one axis. That axis has 3 elements in it, so we say it has a length of 3. In the example pictured below, the array has 2 axes. The first axis has a length of 2, the second axis has a length of 3.\n",
    "\n",
    "<code>[[ 1., 0., 0.],\n",
    "  [ 0., 1., 2.]]\n",
    "</code>\n",
    " \n",
    "NumPy’s array class is called <code>ndarray</code>. It is also known by the alias <code>array</code>. Note that <code>numpy.array</code> is not the same as the Standard Python Library class <code>array.array</code>, which only handles one-dimensional arrays and offers less functionality.\n",
    "\n",
    "### <font color = 'green'>1.2 Difference between list and arrays:</font>\n",
    "\n",
    " - An important difference is that while Python lists are generic containers of objects, NumPy arrays are homogenous and typed arrays of fixed size. \n",
    "  - <b>Homogenous</b>: means that all elements in the array have the same data type. \n",
    "  - <b>Fixed size</b>: means that an array cannot be resized (without creating a new array). \n",
    "\n",
    " - For these and other reasons, operations and functions acting on NumPy arrays can be much more efficient than those using Python lists.\n",
    " - In addition to the data structures for arrays, NumPy also provides a large collection of basic operators and functions that act on these data structures, as well as submodules with higher-level algorithms such as linear algebra and fast Fourier transform.\n",
    " \n",
    "### <font color = 'green'>1.3 The NumPy Array object:</font> \n",
    "\n",
    "<p>The core of the NumPy library is the data structures for representing multidimensional arrays of homogeneous data. Homogeneous refers to all elements in an array having the same data type.</p> \n",
    "\n",
    "<p>The main data structure for multidimensional arrays in NumPy is the <code>ndarray</code> class. In addition to the data stored in the array, this data structure also contains important metadata about the array, such as its shape, size, data type, and other attributes. See the following Table for a more detailed description of these attributes. \n",
    "    A full list of attributes with descriptions is available in the ndarray docstring, which can be accessed by calling <code>help(np.ndarray)</code> in the Python interpreter or <code>np.ndarray?</code> in an IPython console.</p>\n",
    "    \n",
    "###  <font color = 'green'>Basic <code>attributes</code> of the <code>ndarray</code> class:</font>\n",
    "\n",
    "<img src=\"assets/1_ndarray_attributes.jpg\" width=800px />\n",
    "\n",
    "The more important attributes of an ndarray object are:\n",
    "\n",
    " - <code>ndarray.ndim</code>: the number of axes (dimensions) of the array.\n",
    " - <code>ndarray.shape</code>: the dimensions of the array. This is a tuple of integers indicating the size of the array in each dimension. For a matrix with n rows and m columns, shape will be (n,m). The length of the shape tuple is therefore the number of axes, ndim.\n",
    " - <code>ndarray.size</code>: the total number of elements of the array. This is equal to the product of the elements of shape.\n",
    " - <code>ndarray.dtype</code>: an object describing the type of the elements in the array. One can create or specify dtype’s using standard Python types. Additionally NumPy provides types of its own. numpy.int32, numpy.int16, and numpy.float64 are some examples.\n",
    " - <code>ndarray.itemsize</code>: the size in bytes of each element of the array. For example, an array of elements of type float64 has itemsize 8 (=64/8), while one of type complex32 has itemsize 4 (=32/8). It is equivalent to ndarray.dtype.itemsize.\n",
    " - <code>ndarray.data</code>: the buffer containing the actual elements of the array. Normally, we won’t need to use this attribute because we will access the elements in an array using indexing facilities."
   ]
  },
  {
   "cell_type": "markdown",
   "metadata": {},
   "source": [
    "####  <font color = 'green'>Example: <code>ndarray</code> Attributes:</font>"
   ]
  },
  {
   "cell_type": "code",
   "execution_count": 1,
   "metadata": {
    "scrolled": true
   },
   "outputs": [
    {
     "name": "stdout",
     "output_type": "stream",
     "text": [
      "[[ 0  1  2  3]\n",
      " [ 4  5  6  7]\n",
      " [ 8  9 10 11]\n",
      " [12 13 14 15]]\n"
     ]
    }
   ],
   "source": [
    "import numpy as np\n",
    "a = np.arange(16).reshape(4,4)\n",
    "print(a)"
   ]
  },
  {
   "cell_type": "code",
   "execution_count": 2,
   "metadata": {},
   "outputs": [
    {
     "data": {
      "text/plain": [
       "2"
      ]
     },
     "execution_count": 2,
     "metadata": {},
     "output_type": "execute_result"
    }
   ],
   "source": [
    "a.ndim"
   ]
  },
  {
   "cell_type": "code",
   "execution_count": 3,
   "metadata": {},
   "outputs": [
    {
     "data": {
      "text/plain": [
       "(4, 4)"
      ]
     },
     "execution_count": 3,
     "metadata": {},
     "output_type": "execute_result"
    }
   ],
   "source": [
    "a.shape"
   ]
  },
  {
   "cell_type": "code",
   "execution_count": 4,
   "metadata": {},
   "outputs": [
    {
     "data": {
      "text/plain": [
       "16"
      ]
     },
     "execution_count": 4,
     "metadata": {},
     "output_type": "execute_result"
    }
   ],
   "source": [
    "a.size"
   ]
  },
  {
   "cell_type": "code",
   "execution_count": 5,
   "metadata": {},
   "outputs": [
    {
     "data": {
      "text/plain": [
       "'int32'"
      ]
     },
     "execution_count": 5,
     "metadata": {},
     "output_type": "execute_result"
    }
   ],
   "source": [
    "a.dtype.name"
   ]
  },
  {
   "cell_type": "code",
   "execution_count": 6,
   "metadata": {},
   "outputs": [
    {
     "data": {
      "text/plain": [
       "4"
      ]
     },
     "execution_count": 6,
     "metadata": {},
     "output_type": "execute_result"
    }
   ],
   "source": [
    "a.itemsize"
   ]
  },
  {
   "cell_type": "code",
   "execution_count": 7,
   "metadata": {},
   "outputs": [
    {
     "name": "stdout",
     "output_type": "stream",
     "text": [
      "[[[ 2 19  5]\n",
      "  [13 29 27]\n",
      "  [ 3  2 26]]\n",
      "\n",
      " [[23 24  9]\n",
      "  [22 20  2]\n",
      "  [ 4 21 23]]\n",
      "\n",
      " [[ 7 27 15]\n",
      "  [26 14 26]\n",
      "  [22 19  6]]]\n",
      "A - Shape    : (3, 3, 3)\n",
      "A - Size     : 27\n",
      "A - Dimention: 3\n",
      "A - Datatype : int32\n",
      "A - Item Size: 4\n"
     ]
    }
   ],
   "source": [
    "import numpy as np\n",
    "A = np.random.randint(1, 30, 27)\n",
    "A = A.reshape(3, 3, 3)\n",
    "print(A)\n",
    "print(f'A - Shape    : {A.shape}')\n",
    "print(f'A - Size     : {A.size}')\n",
    "print(f'A - Dimention: {A.ndim}')\n",
    "print(f'A - Datatype : {A.dtype.name}')\n",
    "print(f'A - Item Size: {A.itemsize}')"
   ]
  },
  {
   "cell_type": "markdown",
   "metadata": {},
   "source": [
    "### <font color = 'green'>1.4 The NumPy Array datatype:</font> \n",
    "In the previous section, we encountered the dtype attribute of the <code>ndarray</code> object. This attribute describes the data type of each element in the array (remember, since NumPy arrays are homogeneous, all elements have the same data type). The basic numerical data types supported in NumPy are shown in Table 2-2. Nonnumerical data types, such as strings, objects, and user-defined compound types, are also supported.\n",
    "\n",
    "<img src=\"assets/2_ndarray_dtype.jpg\" width=800px />\n",
    "\n",
    "For numerical work the most important data types are int (for integers), float (for floating-point numbers), and complex (for complex floating-point numbers). Each of these data types comes in different sizes, such as int32 for 32-bit integers, int64 for 64-bit integers, etc. This offers more fine-grained control over data types than the standard Python types, which only provides one type for integers and one type for floats.\n",
    "\n",
    "For numerical work the most important data types are int (for integers), float (for floating-point numbers), and complex (for complex floating-point numbers). Each of these data types comes in different sizes, such as int32 for 32-bit integers, int64 for 64-bit integers, etc. This offers more fine-grained control over data types than the standard Python types, which only provides one type for integers and one type for floats.\n",
    "\n",
    "It is usually not necessary to explicitly choose the bit size of the data type to work with, but it is often necessary to explicitly choose whether to use arrays of integers, floatingpoint numbers, or complex values.\n",
    "\n",
    "The following example demonstrates how to use the dtype attribute to generate arrays of <code>integer-</code>, <code>float-</code>, and <code>complex</code>-valued elements:"
   ]
  },
  {
   "cell_type": "code",
   "execution_count": 8,
   "metadata": {},
   "outputs": [
    {
     "data": {
      "text/plain": [
       "array([1, 2, 3])"
      ]
     },
     "execution_count": 8,
     "metadata": {},
     "output_type": "execute_result"
    }
   ],
   "source": [
    "a = np.array([1,2,3], dtype=np.int)\n",
    "a"
   ]
  },
  {
   "cell_type": "code",
   "execution_count": 9,
   "metadata": {},
   "outputs": [
    {
     "data": {
      "text/plain": [
       "array([1., 2., 3.])"
      ]
     },
     "execution_count": 9,
     "metadata": {},
     "output_type": "execute_result"
    }
   ],
   "source": [
    "b = np.array([1,2,3], dtype=np.float)\n",
    "b"
   ]
  },
  {
   "cell_type": "code",
   "execution_count": 10,
   "metadata": {},
   "outputs": [
    {
     "data": {
      "text/plain": [
       "array([1.+0.j, 2.+0.j, 3.+0.j])"
      ]
     },
     "execution_count": 10,
     "metadata": {},
     "output_type": "execute_result"
    }
   ],
   "source": [
    "c = np.array([1,2,3], dtype=np.complex)\n",
    "c"
   ]
  },
  {
   "cell_type": "code",
   "execution_count": 11,
   "metadata": {},
   "outputs": [
    {
     "data": {
      "text/plain": [
       "array([ True,  True,  True])"
      ]
     },
     "execution_count": 11,
     "metadata": {},
     "output_type": "execute_result"
    }
   ],
   "source": [
    "b == c"
   ]
  },
  {
   "cell_type": "code",
   "execution_count": 12,
   "metadata": {},
   "outputs": [
    {
     "data": {
      "text/plain": [
       "True"
      ]
     },
     "execution_count": 12,
     "metadata": {},
     "output_type": "execute_result"
    }
   ],
   "source": [
    "# use the array_equal() method to check equality of array objects.\n",
    "b = np.array([1,2,3], dtype=np.float)\n",
    "c = np.array([1,2,3], dtype=np.complex)\n",
    "value = np.array_equal(b, c)\n",
    "value"
   ]
  },
  {
   "cell_type": "markdown",
   "metadata": {},
   "source": [
    "### <font color = 'green'>1.6 The NumPy Array Equality:</font> \n",
    "\n",
    "#### <code>numpy.array_equal(a, b)</code>\n",
    "\n",
    "True if two arrays have the same shape and elements, False otherwise.\n",
    " - <b>Parameters</b>: a, b: array_like (list, tuple, ndarray)\n",
    " - <b>Output</b>: Returns True if arrays are equal, false otherwise."
   ]
  },
  {
   "cell_type": "code",
   "execution_count": 13,
   "metadata": {},
   "outputs": [
    {
     "data": {
      "text/plain": [
       "True"
      ]
     },
     "execution_count": 13,
     "metadata": {},
     "output_type": "execute_result"
    }
   ],
   "source": [
    "import numpy as np\n",
    "a = np.arange(1, 10).reshape(3,3)\n",
    "b = np.array(a, dtype = np.complex)\n",
    "np.array_equal(a, b)"
   ]
  },
  {
   "cell_type": "code",
   "execution_count": 14,
   "metadata": {},
   "outputs": [
    {
     "data": {
      "text/plain": [
       "True"
      ]
     },
     "execution_count": 14,
     "metadata": {},
     "output_type": "execute_result"
    }
   ],
   "source": [
    "m = [1,3,5]\n",
    "n = [1.0 + 0.j,3.0 + 0.j, 5.0 + 0.j]\n",
    "m == n"
   ]
  },
  {
   "cell_type": "markdown",
   "metadata": {},
   "source": [
    "###  <font color = 'green'>1.5 Changing <code>ndarray</code> Datatype:</font>\n",
    "\n",
    "Once a NumPy array is created, its dtype cannot be changed, other than by creating a new copy with type-casted array values. Typecasting an array is straightforward and can be done in 2 ways:\n",
    "1. using the <code>np.array</code> function\n",
    "2. using the <code>astype()</code> method of the <code>ndarray</code> class"
   ]
  },
  {
   "cell_type": "code",
   "execution_count": 15,
   "metadata": {},
   "outputs": [
    {
     "name": "stdout",
     "output_type": "stream",
     "text": [
      "float64\n",
      "[1. 2. 3.]\n"
     ]
    }
   ],
   "source": [
    "data = np.array([1, 2, 3], dtype=np.float)\n",
    "print(data.dtype)\n",
    "print(data)"
   ]
  },
  {
   "cell_type": "markdown",
   "metadata": {},
   "source": [
    "### Changing datatype typecasting with the <code>np.array()</code> method:"
   ]
  },
  {
   "cell_type": "code",
   "execution_count": 16,
   "metadata": {},
   "outputs": [
    {
     "name": "stdout",
     "output_type": "stream",
     "text": [
      "int32\n",
      "[1 2 3]\n"
     ]
    }
   ],
   "source": [
    "data = np.array(data, dtype=np.int)\n",
    "print(data.dtype)\n",
    "print(data)"
   ]
  },
  {
   "cell_type": "code",
   "execution_count": 17,
   "metadata": {},
   "outputs": [
    {
     "name": "stdout",
     "output_type": "stream",
     "text": [
      "int32\n"
     ]
    },
    {
     "data": {
      "text/plain": [
       "array([1, 2, 3])"
      ]
     },
     "execution_count": 17,
     "metadata": {},
     "output_type": "execute_result"
    }
   ],
   "source": [
    "data = np.array([1, 2, 3], dtype=np.int)\n",
    "print(data.dtype)\n",
    "data"
   ]
  },
  {
   "cell_type": "markdown",
   "metadata": {},
   "source": [
    "### Changing datatype typecasting using the <code>astype()</code> method of the <code>ndarray</code> class:"
   ]
  },
  {
   "cell_type": "code",
   "execution_count": 18,
   "metadata": {
    "scrolled": true
   },
   "outputs": [
    {
     "data": {
      "text/plain": [
       "array([1., 2., 3.])"
      ]
     },
     "execution_count": 18,
     "metadata": {},
     "output_type": "execute_result"
    }
   ],
   "source": [
    "data.astype(np.float)"
   ]
  },
  {
   "cell_type": "markdown",
   "metadata": {},
   "source": [
    "### Create Arrays with fixed datatypes:\n",
    "In some cases, depending on the application and its requirements, it is essential to create arrays with data type appropriately set to, for example, int or complex. The default type is <code>float</code>. Consider the following example:"
   ]
  },
  {
   "cell_type": "code",
   "execution_count": 19,
   "metadata": {
    "scrolled": true
   },
   "outputs": [
    {
     "data": {
      "text/plain": [
       "array([0.+1.j, 0.+0.j, 1.+0.j])"
      ]
     },
     "execution_count": 19,
     "metadata": {},
     "output_type": "execute_result"
    }
   ],
   "source": [
    "np.sqrt(np.array([-1, 0, 1], dtype=complex))"
   ]
  },
  {
   "cell_type": "markdown",
   "metadata": {},
   "source": [
    "### <font color = 'green'>1.7 Important NumPy Array <code>methods</code>:</font> \n",
    "\n",
    "#### Method 1: <code>array.reshape()</code>:"
   ]
  },
  {
   "cell_type": "code",
   "execution_count": 20,
   "metadata": {},
   "outputs": [
    {
     "data": {
      "text/plain": [
       "array([[36, 82, 91],\n",
       "       [46, 79, 20],\n",
       "       [80, 76, 40]])"
      ]
     },
     "execution_count": 20,
     "metadata": {},
     "output_type": "execute_result"
    }
   ],
   "source": [
    "a = np.random.randint(0, 100, 9)\n",
    "a.reshape(3, 3)"
   ]
  },
  {
   "cell_type": "markdown",
   "metadata": {},
   "source": [
    "#### Method 2: <code>array.min()</code>, <code>array.max()</code>, <code>array.argmin()</code>, <code>array.argmax()</code>:"
   ]
  },
  {
   "cell_type": "code",
   "execution_count": 21,
   "metadata": {},
   "outputs": [
    {
     "data": {
      "text/plain": [
       "array([98, 38, 53, 78, 97, 87, 88, 72,  9])"
      ]
     },
     "execution_count": 21,
     "metadata": {},
     "output_type": "execute_result"
    }
   ],
   "source": [
    "import numpy as np\n",
    "b = np.random.randint(0, 100, 9)\n",
    "b"
   ]
  },
  {
   "cell_type": "code",
   "execution_count": 22,
   "metadata": {},
   "outputs": [
    {
     "name": "stdout",
     "output_type": "stream",
     "text": [
      "Min: 9; min_index: 8\n",
      "Max: 98; max_index: 0\n"
     ]
    }
   ],
   "source": [
    "print(f'Min: {b.min()}; min_index: {b.argmin()}')\n",
    "print(f'Max: {b.max()}; max_index: {b.argmax()}')"
   ]
  },
  {
   "cell_type": "markdown",
   "metadata": {},
   "source": [
    "# <font color = 'green'>Part II: Creating Numpy Arrays</font>\n",
    "\n",
    "Arrays can be generated in a number of ways, depending on their properties and the applications they are used for. For example, as we saw in the previous section, one way to initialize an ndarray instance is to use the np.array function on a Python list, which, for example, can be explicitly defined. However, this method is obviously limited to small arrays. In many situations it is necessary to generate arrays with elements that follow some given rule, such as filled with constant values, increasing integers, uniformly spaced numbers, random numbers, etc. In other cases we might need to create arrays from data stored in a file. The requirements are many and varied, and the NumPy library provides a comprehensive set of functions for generating arrays of various types.\n",
    "\n",
    "<img src=\"assets/3_generating_arrays.jpg\" width=600px />\n",
    "\n",
    "### <font color = 'blue'>2.1 Method 1: Passing arguments to the <code>np.array()</code> function</font>\n",
    "\n",
    "Using the np.array function, NumPy arrays can be constructed from explicit Python lists, iterable expressions, and other array-like objects (such as other ndarray instances). For example, to create a one-dimensional array from a Python list, we simply pass the Python list as an argument to the np.array function:"
   ]
  },
  {
   "cell_type": "code",
   "execution_count": 23,
   "metadata": {},
   "outputs": [
    {
     "name": "stdout",
     "output_type": "stream",
     "text": [
      "[1 2 3 4 5 6]\n"
     ]
    }
   ],
   "source": [
    "import numpy as np\n",
    "l1 = [x for x in range(1,7)]\n",
    "a = np.array(l1) # Creating array.\n",
    "print(a)"
   ]
  },
  {
   "cell_type": "markdown",
   "metadata": {},
   "source": [
    "#### The <code>array()</code> function:\n",
    "\n",
    "The <code>array()</code> function, in addition to lists, can accept tuples and sequences of tuples."
   ]
  },
  {
   "cell_type": "code",
   "execution_count": 24,
   "metadata": {
    "scrolled": false
   },
   "outputs": [
    {
     "name": "stdout",
     "output_type": "stream",
     "text": [
      "[[ 1  2  3  4]\n",
      " [ 5  6  7  8]\n",
      " [ 9 10 11 12]\n",
      " [13 14 15 16]]\n"
     ]
    }
   ],
   "source": [
    "import numpy as np\n",
    "def array_gen(m, n):\n",
    "    \"\"\"A program for creating m X n list of lists.\"\"\"\n",
    "    result = []\n",
    "    for c in range(m):\n",
    "        j = [k for k in range((c*n + 1), (c*n + 1 + n))]\n",
    "        result.append(j)\n",
    "    matrix  = np.array(result)\n",
    "    print(matrix)\n",
    "\n",
    "array_gen(4, 4)"
   ]
  },
  {
   "cell_type": "code",
   "execution_count": 25,
   "metadata": {},
   "outputs": [
    {
     "name": "stdout",
     "output_type": "stream",
     "text": [
      "[[ 1  2  3  4]\n",
      " [ 5  6  7  8]\n",
      " [ 9 10 11 12]\n",
      " [13 14 15 16]]\n"
     ]
    }
   ],
   "source": [
    "# achieve the same as array_gen with a single function call:\n",
    "m = np.arange(1,17).reshape(4, 4)\n",
    "print(m)"
   ]
  },
  {
   "cell_type": "markdown",
   "metadata": {},
   "source": [
    "### <font color = 'blue'>2.2 Method 2: Arrays Filled with Constant Values</font>\n",
    "\n",
    "The functions np.zeros and np.ones create and return arrays filled with <code>zeros</code> and <code>ones</code>, respectively. They take, as first argument, an integer or a tuple that describes the number of elements along each dimension of the array. \n",
    "\n",
    "Like other array-generating functions, the np.zeros and np.ones functions also accept an optional keyword argument that specifies the data type for the elements in the array. By default, the data type is float64, and it can be changed to the required type by explicitly specifying the dtype argument.\n",
    "\n",
    "For example, to create a 2 × 3 array filled with zeros, and an array of length 4 filled with ones, we can use:"
   ]
  },
  {
   "cell_type": "code",
   "execution_count": 26,
   "metadata": {},
   "outputs": [
    {
     "name": "stdout",
     "output_type": "stream",
     "text": [
      "[0 0 0]\n",
      "[1.+0.j 1.+0.j 1.+0.j]\n"
     ]
    }
   ],
   "source": [
    "# np.zeros() and np.ones()\n",
    "import numpy as np\n",
    "a = np.zeros(3, dtype = np.int)\n",
    "b = np.ones(3, dtype = np.complex)\n",
    "print(a)\n",
    "print(b)"
   ]
  },
  {
   "cell_type": "markdown",
   "metadata": {},
   "source": [
    " - <code>np.full()</code>: An array filled with an arbitrary constant value can be generated by first creating an array filled with ones and then multiplying the array with the desired fill value. However, NumPy also provides the function <code>np.full</code> that does exactly this in one step. The following two ways of constructing arrays with ten elements, which are initialized to the numerical value 5.4 in this example, produces the same results, but using np.full is slightly more efficient since it avoids the multiplication."
   ]
  },
  {
   "cell_type": "code",
   "execution_count": 27,
   "metadata": {},
   "outputs": [
    {
     "name": "stdout",
     "output_type": "stream",
     "text": [
      "m1:  [3.14 3.14 3.14]\n",
      "m2:  [3.14 3.14 3.14]\n"
     ]
    }
   ],
   "source": [
    "# np.full()\n",
    "m1 = 3.14 * np.ones(3)\n",
    "m2 = np.full(3, 3.14)\n",
    "print(\"m1: \", m1)\n",
    "print(\"m2: \", m2)"
   ]
  },
  {
   "cell_type": "markdown",
   "metadata": {},
   "source": [
    "- <code>np.fill()</code>: An already created array can also be filled with constant values using the <code>np.fill</code> function, which takes an array and a value as arguments, and set all elements in the array to the given value. The following two methods to create an array therefore give the same results:"
   ]
  },
  {
   "cell_type": "code",
   "execution_count": 28,
   "metadata": {},
   "outputs": [
    {
     "data": {
      "text/plain": [
       "array([[3., 3.],\n",
       "       [3., 3.]])"
      ]
     },
     "execution_count": 28,
     "metadata": {},
     "output_type": "execute_result"
    }
   ],
   "source": [
    "# np.fill()\n",
    "\n",
    "# In this last example, we also used the np.empty() function, which generates an array with uninitialized values, of the given size. This function should only be used when the initialization of all elements can be guaranteed by other means, such as an explicit loop over the array elements or another explicit assignment.\n",
    "\n",
    "import numpy as np\n",
    "a = np.empty(4)\n",
    "a.fill(3)\n",
    "a.reshape(2,2)"
   ]
  },
  {
   "cell_type": "markdown",
   "metadata": {},
   "source": [
    "### <font color = 'blue'>2.3 Method 3: Arrays Filled with Linear Incremental Sequences: <code>arange()</code> and <code>linspace()</code></font>\n",
    "\n",
    "In numerical computing it is very common to require arrays with evenly spaced values between a starting value and ending value. NumPy provides two similar functions to create such arrays: <code>np.arange</code> and <code>np.linspace</code>. Both functions take three arguments, where the first two arguments are the start and end values. The third argument of np.arange is the increment, while for np.linspace it is the total number of points in the array.\n",
    "\n",
    "For example, to generate arrays with values between 1 and 10, with increment 1, we could use either of the following:"
   ]
  },
  {
   "cell_type": "code",
   "execution_count": 29,
   "metadata": {},
   "outputs": [
    {
     "name": "stdout",
     "output_type": "stream",
     "text": [
      "[ 1  2  3  4  5  6  7  8  9 10]\n",
      "[ 1.  2.  3.  4.  5.  6.  7.  8.  9. 10.]\n"
     ]
    }
   ],
   "source": [
    "a = np.arange(1, 11, 1)\n",
    "b = np.linspace(1, 10, 10) # Specify the start, stop and number values needed between them. Please note the stop value is also considered in this case\n",
    "print(a)\n",
    "print(b)"
   ]
  },
  {
   "cell_type": "markdown",
   "metadata": {},
   "source": [
    "However, note that <code>np.arange</code> does not include the end value (10), while by default <code>np.linspace</code> does (although this behavior can be changed using the optional endpoint keyword argument). Whether to use <code>np.arange</code> or <code>np.linspace</code> is mostly a matter of personal preference, but it is generally recommended to use np.linspace whenever the increment is a noninteger."
   ]
  },
  {
   "cell_type": "markdown",
   "metadata": {},
   "source": [
    "### <font color = 'blue'>2.4 Method 4: Arrays Filled with Logarithmic Incremental Sequences: <code>logspace()</code></font>\n",
    "\n",
    "The function <code>np.logspace</code> is similar to <code>np.linspace</code>, but the increments between the elements in the array are logarithmically distributed, and the first two arguments, for the start and end values, are the powers of the optional base keyword argument (which defaults to 10). For example, to generate an array with logarithmically distributed values between 1 and 100, we can use:"
   ]
  },
  {
   "cell_type": "code",
   "execution_count": 30,
   "metadata": {
    "scrolled": true
   },
   "outputs": [
    {
     "data": {
      "text/plain": [
       "array([  1.        ,   1.93069773,   3.72759372,   7.19685673,\n",
       "        13.89495494,  26.82695795,  51.79474679, 100.        ])"
      ]
     },
     "execution_count": 30,
     "metadata": {},
     "output_type": "execute_result"
    }
   ],
   "source": [
    "np.logspace(0, 2, 8) # 5 data points between 10**0=1 to 10**2=100"
   ]
  },
  {
   "cell_type": "markdown",
   "metadata": {},
   "source": [
    "### <font color = 'blue'>2.5 Method 5: Creating Uninitialized Arrays: <code>np.empty()</code></font>\n",
    "\n",
    "To create an array of specific size and data type, but without initializing the elements in the array to any particular values, we can use the function <code>np.empty</code>. The advantage of using this function, for example, instead of <code>np.zeros</code>, which creates an array initialized with zero-valued elements, is that we can avoid the initiation step. If all elements are guaranteed to be initialized later in the code, this can save a little bit of time, especially when working with large arrays. To illustrate the use of the <code>np.empty</code> function, consider the following example:"
   ]
  },
  {
   "cell_type": "code",
   "execution_count": 31,
   "metadata": {},
   "outputs": [
    {
     "data": {
      "text/plain": [
       "array([ 2.02566915e-322,  1.47966021e-316,  4.72986829e-318,\n",
       "       -4.22974022e-242,  1.47966337e-316])"
      ]
     },
     "execution_count": 31,
     "metadata": {},
     "output_type": "execute_result"
    }
   ],
   "source": [
    "np.empty(5, dtype=np.float)"
   ]
  },
  {
   "cell_type": "markdown",
   "metadata": {},
   "source": [
    "Here we generated a new array with three elements of type <code>float</code>. There is no guarantee that the elements have any particular values, and the actual values will vary from time to time. For this reason it is important that all values are explicitly assigned before the array is used; otherwise unpredictable errors are likely to arise. Often the <code>np.zeros</code> function is a safer alternative to <code>np.empty</code>, and if the performance gain is not essential, it is better to use <code>np.zeros</code>, to minimize the likelihood of subtle and hard-toreproduce bugs due to uninitialized values in the array returned by <code>np.empty</code>."
   ]
  },
  {
   "cell_type": "markdown",
   "metadata": {},
   "source": [
    "### <font color = 'blue'>2.6 Method 6: Creating Matrix Arrays: <code>np.identity()</code>, <code>np.eye()</code>, and <code>np.diag()</code></font>:\n",
    "\n",
    " - <b><code>np.identity()</code></b>:\n",
    "\n",
    "Matrices, or two-dimensional arrays, are an important case for numerical computing. NumPy provides functions for generating commonly used matrices. In particular, the function <code>np.identity</code> generates a square matrix with ones on the diagonal and zeros elsewhere:"
   ]
  },
  {
   "cell_type": "code",
   "execution_count": 32,
   "metadata": {},
   "outputs": [
    {
     "data": {
      "text/plain": [
       "array([[1., 0., 0., 0.],\n",
       "       [0., 1., 0., 0.],\n",
       "       [0., 0., 1., 0.],\n",
       "       [0., 0., 0., 1.]])"
      ]
     },
     "execution_count": 32,
     "metadata": {},
     "output_type": "execute_result"
    }
   ],
   "source": [
    "np.identity(4)"
   ]
  },
  {
   "cell_type": "markdown",
   "metadata": {},
   "source": [
    "- <b><code>np.eye()</code></b>:\n",
    "\n",
    "The similar function <code>numpy.eye</code> generates matrices with ones on a diagonal (optionally offset). This is illustrated in the following example, which produces matrices with nonzero diagonals above and below the diagonal, respectively:"
   ]
  },
  {
   "cell_type": "code",
   "execution_count": 33,
   "metadata": {},
   "outputs": [
    {
     "data": {
      "text/plain": [
       "array([[1., 0., 0., 0.],\n",
       "       [0., 1., 0., 0.],\n",
       "       [0., 0., 1., 0.],\n",
       "       [0., 0., 0., 1.]])"
      ]
     },
     "execution_count": 33,
     "metadata": {},
     "output_type": "execute_result"
    }
   ],
   "source": [
    "np.eye(4)"
   ]
  },
  {
   "cell_type": "code",
   "execution_count": 34,
   "metadata": {},
   "outputs": [
    {
     "data": {
      "text/plain": [
       "array([[0., 1., 0., 0.],\n",
       "       [0., 0., 1., 0.],\n",
       "       [0., 0., 0., 1.],\n",
       "       [0., 0., 0., 0.]])"
      ]
     },
     "execution_count": 34,
     "metadata": {},
     "output_type": "execute_result"
    }
   ],
   "source": [
    "np.eye(4, k = 1)"
   ]
  },
  {
   "cell_type": "code",
   "execution_count": 35,
   "metadata": {},
   "outputs": [
    {
     "data": {
      "text/plain": [
       "array([[0., 0., 0., 0.],\n",
       "       [1., 0., 0., 0.],\n",
       "       [0., 1., 0., 0.],\n",
       "       [0., 0., 1., 0.]])"
      ]
     },
     "execution_count": 35,
     "metadata": {},
     "output_type": "execute_result"
    }
   ],
   "source": [
    "np.eye(4, k = -1)"
   ]
  },
  {
   "cell_type": "markdown",
   "metadata": {},
   "source": [
    " - <b><code>np.diag()</code></b>:\n",
    "\n",
    "To construct a matrix with an arbitrary one-dimensional array on the diagonal, we can use the <code>np.diag</code> function (which also takes the optional keyword argument k to specify an offset from the diagonal), as demonstrated here:"
   ]
  },
  {
   "cell_type": "code",
   "execution_count": 36,
   "metadata": {
    "scrolled": true
   },
   "outputs": [
    {
     "data": {
      "text/plain": [
       "array([[1, 0, 0, 0],\n",
       "       [0, 2, 0, 0],\n",
       "       [0, 0, 3, 0],\n",
       "       [0, 0, 0, 4]])"
      ]
     },
     "execution_count": 36,
     "metadata": {},
     "output_type": "execute_result"
    }
   ],
   "source": [
    "a = np.arange(1,5,1)\n",
    "b = np.diag(a)\n",
    "b"
   ]
  },
  {
   "cell_type": "markdown",
   "metadata": {},
   "source": [
    "### <font color = 'blue'>2.7 Method 7: Numpy Random Sampling:</font>\n",
    "\n",
    "Numpy has a lot of options to create random numbered arrays through random sampling in the <code>numpy.random</code> module.\n",
    "\n",
    "<img src=\"assets/4_numpy_random.jpg\" width=850px />\n",
    "\n",
    "Source: [Numpy 1.16 Documentation | Routines](https://numpy.org/doc/1.16/reference/routines.random.html)\n"
   ]
  },
  {
   "cell_type": "markdown",
   "metadata": {},
   "source": [
    "### Function 1: <font color = 'blue'><code>numpy.random.rand()</code></font>\n",
    "\n",
    "<code>numpy.random.rand(d0, d1, ..., dn)</code>\n",
    "\n",
    " - Random values in a given shape.\n",
    "\n",
    " - Create an array of the given shape and populate it with random samples from a _<b>uniform distribution</b>_ over [0, 1).\n",
    "\n",
    " - <b>Parameters:</b>\t\n",
    "        d0, d1, …, dn : int, optional\n",
    "        The dimensions of the returned array, should all be positive. If no argument is given,  then a single Python float is returned.\n",
    "\n",
    " - <b>Returns:</b>\t\n",
    "        out : ndarray, shape (d0, d1, ..., dn)\n",
    "        Random values."
   ]
  },
  {
   "cell_type": "code",
   "execution_count": 37,
   "metadata": {},
   "outputs": [
    {
     "data": {
      "text/plain": [
       "array([[0.95190017, 0.33837644, 0.8006769 ],\n",
       "       [0.45454356, 0.53758736, 0.82399991],\n",
       "       [0.36842148, 0.51523525, 0.27571348]])"
      ]
     },
     "execution_count": 37,
     "metadata": {},
     "output_type": "execute_result"
    }
   ],
   "source": [
    "import numpy as np\n",
    "u = np.random.rand(3, 3)\n",
    "u"
   ]
  },
  {
   "cell_type": "markdown",
   "metadata": {},
   "source": [
    "### Function 2: <font color = 'blue'><code>numpy.random.randn()</code></font>\n",
    "\n",
    "<code>numpy.random.randn(d0, d1, ..., dn)</code>\n",
    "\n",
    " - Return a sample (or samples) from the “standard normal” distribution.\n",
    "\n",
    " - If positive, int_like or int-convertible arguments are provided, randn generates an array of shape <code>(d0, d1, ..., dn)</code>, filled with random floats sampled from a univariate “normal” (Gaussian) distribution of mean 0 and variance 1 (if any of the d_i are floats, they are first converted to integers by truncation). A single float randomly sampled from the distribution is returned if no argument is provided.\n",
    " \n",
    " - This is a convenience function. If you want an interface that takes a tuple as the first argument, use [numpy.random.standard_normal](https://numpy.org/doc/1.16/reference/generated/numpy.random.standard_normal.html#numpy.random.standard_normal) instead.\n",
    "\n",
    " - <b>Parameters:</b>\t\n",
    "        d0, d1, …, dn : int, optional\n",
    "        The dimensions of the returned array, should be all positive. If no argument is given a single Python float is returned.\n",
    "\n",
    " - <b>Returns:</b>\t\n",
    "        Z : ndarray or float\n",
    "        A (d0, d1, ..., dn)-shaped array of floating-point samples from the standard normal distribution, or a single such float if no parameters were supplied."
   ]
  },
  {
   "cell_type": "code",
   "execution_count": 38,
   "metadata": {},
   "outputs": [
    {
     "data": {
      "text/plain": [
       "array([-2.38409378,  0.69977806, -0.86288579,  0.65072579, -1.08427449])"
      ]
     },
     "execution_count": 38,
     "metadata": {},
     "output_type": "execute_result"
    }
   ],
   "source": [
    "a = np.random.randn(5)\n",
    "a"
   ]
  },
  {
   "cell_type": "code",
   "execution_count": 39,
   "metadata": {},
   "outputs": [
    {
     "data": {
      "text/plain": [
       "array([[ 0.16936334, -0.60779225,  0.33680942],\n",
       "       [ 0.86042356, -0.03838367, -0.85896827],\n",
       "       [-0.25929984, -1.05606481, -2.21401676]])"
      ]
     },
     "execution_count": 39,
     "metadata": {},
     "output_type": "execute_result"
    }
   ],
   "source": [
    "b = np.random.randn(3, 3)\n",
    "b"
   ]
  },
  {
   "cell_type": "markdown",
   "metadata": {},
   "source": [
    "### Function 3: <font color = 'blue'><code>numpy.random.randint()</code></font>\n",
    "\n",
    "<code>numpy.random.randint(low, high=None, size=None, dtype='l')</code>\n",
    "\n",
    " - Return random integers from low (inclusive) to high (exclusive).\n",
    "\n",
    " - Return random integers from the “discrete uniform” distribution of the specified dtype in the “half-open” interval [low, high). If high is None (the default), then results are from [0, low).\n",
    " \n",
    " - <b>Parameters:</b>\t\n",
    "     - <b>low</b> : <code>int</code>\n",
    "            Lowest (signed) integer to be drawn from the distribution (unless high=None, in which case this parameter is one above the highest such integer).\n",
    "\n",
    "     - <b>high</b> : <code>int, optional</code>\n",
    "            If provided, one above the largest (signed) integer to be drawn from the distribution (see above for behavior if high=None).\n",
    "\n",
    "     - <b>size</b> : <code>int or tuple of ints, optional</code>\n",
    "            Output shape. If the given shape is, e.g., (m, n, k), then m * n * k samples are drawn. Default is None, in which case a single value is returned.\n",
    "\n",
    "     - <b>dtype</b> : <code>dtype, optional</code>\n",
    "            Desired dtype of the result. All dtypes are determined by their name, i.e., ‘int64’, ‘int’, etc, so byteorder is not available and a specific precision may have different C types depending on the platform. The default value is ‘np.int’. returned.\n",
    "\n",
    " - <b>Returns:</b>\t\n",
    "    - <b>out</b> : <code>int or ndarray of ints</code>\n",
    "            size-shaped array of random integers from the appropriate distribution, or a single such random int if size not provided."
   ]
  },
  {
   "cell_type": "code",
   "execution_count": 40,
   "metadata": {},
   "outputs": [
    {
     "data": {
      "text/plain": [
       "16"
      ]
     },
     "execution_count": 40,
     "metadata": {},
     "output_type": "execute_result"
    }
   ],
   "source": [
    "np.random.randint(5,20)       # Returns one rand integer between the values 5 & 19(20 is excluded)"
   ]
  },
  {
   "cell_type": "code",
   "execution_count": 41,
   "metadata": {},
   "outputs": [
    {
     "data": {
      "text/plain": [
       "array([30, 23, 38, 43, 24])"
      ]
     },
     "execution_count": 41,
     "metadata": {},
     "output_type": "execute_result"
    }
   ],
   "source": [
    "np.random.randint(20,50,5)  # Returns  5 rand integers between 20 & 49(50 is excluded)"
   ]
  },
  {
   "cell_type": "markdown",
   "metadata": {},
   "source": [
    "# <font color = 'green'>Part III: Array Indexing and Slicing</font>\n",
    "\n",
    "Elements and subarrays of NumPy arrays are accessed using the standard square bracket notation that is also used with Python lists. Within the square bracket, a variety of different index formats are used for different types of element selection. In general, the expression within the bracket is a tuple, where each item in the tuple is a specification of which elements to select from each axis (dimension) of the array.\n",
    "\n",
    "Slices are specified using the <code>:</code> notation that is also used for Python lists. In this notation, a range of elements can be selected using an expression like <code>m:n</code>, which selects elements starting with m and ending with n − 1 (note that the nth element is not included). The slice <code>m:n</code> can also be written more explicitly as <code>m : n : 1</code>, where the number 1 specifies that every element between m and n should be selected. To select every second element between m and n, use <code>m : n : 2</code>, and to select every p elements, use <code>m : n : p</code>, and so on. If p is negative, elements are returned in reversed order starting from m to n+1 (which implies that m has to be larger than n in this case). See Table 2-4 for a summary of indexing and slicing operations for NumPy arrays.\n",
    "\n",
    "\n",
    "<img src=\"assets/5_numpy_slicing.jpg\" width=600px />"
   ]
  },
  {
   "cell_type": "markdown",
   "metadata": {},
   "source": [
    "### <font color = 'green'>3.1 Array Slicing: 1D Arrays</font>\n",
    "\n",
    "The following examples demonstrate index and slicing operations for NumPy arrays. To begin with, consider an array with a single axis (dimension) that contains a sequence of integers between 0 and 10:"
   ]
  },
  {
   "cell_type": "code",
   "execution_count": 42,
   "metadata": {},
   "outputs": [
    {
     "data": {
      "text/plain": [
       "array([ 0,  1,  2,  3,  4,  5,  6,  7,  8,  9, 10])"
      ]
     },
     "execution_count": 42,
     "metadata": {},
     "output_type": "execute_result"
    }
   ],
   "source": [
    "a = np.arange(0, 11)\n",
    "a"
   ]
  },
  {
   "cell_type": "code",
   "execution_count": 43,
   "metadata": {
    "scrolled": true
   },
   "outputs": [
    {
     "name": "stdout",
     "output_type": "stream",
     "text": [
      "a: [ 0  1  2  3  4  5  6  7  8  9 10]\n",
      "a[0] = 0\n",
      "a[-1] = 10\n",
      "a[4] = 4\n",
      "a[1:-1] = [1 2 3 4 5 6 7 8 9]\n",
      "a[1:-1:2] = [1 3 5 7 9]\n",
      "a[:5] = [0 1 2 3 4]\n",
      "a[-5:] = [ 6  7  8  9 10]\n",
      "a[::-1] = [10  9  8  7  6  5  4  3  2  1  0]\n",
      "a[::-2] = [10  8  6  4  2  0]\n"
     ]
    }
   ],
   "source": [
    "# a[m : n : p]: m = start index, n = stop index, p = increment. \n",
    "\n",
    "a = np.arange(0, 11)\n",
    "print(f'a: {a}')\n",
    "print(f'a[0] = {a[0]}')\n",
    "print(f'a[-1] = {a[-1]}')\n",
    "print(f'a[4] = {a[4]}')\n",
    "\n",
    "#To select a range of element, say from the second to the second-to-last element, selecting every element and every second element, respectively, we can use index slices:\n",
    "\n",
    "print(f'a[1:-1] = {a[1:-1]}')\n",
    "print(f'a[1:-1:2] = {a[1:-1:2]}')\n",
    "\n",
    "# To select the first five and the last five elements from an array, we can use the slices :5 and –5:, since if m or n is omitted in m:n, the defaults are the beginning and the end of the array, respectively.\n",
    "\n",
    "print(f'a[:5] = {a[:5]}')\n",
    "print(f'a[-5:] = {a[-5:]}')\n",
    "\n",
    "# To reverse the array and select only every second value, we can use the slice ::-2, as shown in the following example:\n",
    "\n",
    "print(f'a[::-1] = {a[::-1]}')\n",
    "print(f'a[::-2] = {a[::-2]}')"
   ]
  },
  {
   "cell_type": "markdown",
   "metadata": {},
   "source": [
    "### <font color = 'green'>3.2 Array Slicing: ND Arrays</font>\n",
    "\n",
    "With multidimensional arrays, element selections like those introduced in the previous section can be applied on each axis (dimension). The result is a <b>reduced array</b> where each element matches the given selection rules. \n",
    "\n",
    "The general formats used are \n",
    "\n",
    "<code>sample_matrix[row][col]</code> \n",
    "\n",
    "    or\n",
    "\n",
    "<code>sample_matrix[row,col]</code>\n",
    "\n",
    "We will use the second option as standard.\n",
    "\n",
    "As a specific example, consider the following 2D array:"
   ]
  },
  {
   "cell_type": "code",
   "execution_count": 44,
   "metadata": {
    "scrolled": true
   },
   "outputs": [
    {
     "data": {
      "text/plain": [
       "array([[ 0,  1,  2,  3,  4,  5],\n",
       "       [10, 11, 12, 13, 14, 15],\n",
       "       [20, 21, 22, 23, 24, 25],\n",
       "       [30, 31, 32, 33, 34, 35],\n",
       "       [40, 41, 42, 43, 44, 45],\n",
       "       [50, 51, 52, 53, 54, 55]])"
      ]
     },
     "execution_count": 44,
     "metadata": {},
     "output_type": "execute_result"
    }
   ],
   "source": [
    "f = lambda m, n: n + 10 * m\n",
    "A = np.fromfunction(f, (6, 6), dtype=int)\n",
    "A"
   ]
  },
  {
   "cell_type": "code",
   "execution_count": 45,
   "metadata": {},
   "outputs": [
    {
     "data": {
      "text/plain": [
       "array([[0, 0, 0],\n",
       "       [1, 1, 1],\n",
       "       [4, 4, 4]])"
      ]
     },
     "execution_count": 45,
     "metadata": {},
     "output_type": "execute_result"
    }
   ],
   "source": [
    "g = lambda m, n: m*m\n",
    "B = np.fromfunction(g, (3, 3), dtype=int)\n",
    "B"
   ]
  },
  {
   "cell_type": "code",
   "execution_count": 46,
   "metadata": {},
   "outputs": [
    {
     "name": "stdout",
     "output_type": "stream",
     "text": [
      "[[ 0  1  2  3  4  5]\n",
      " [10 11 12 13 14 15]\n",
      " [20 21 22 23 24 25]\n",
      " [30 31 32 33 34 35]\n",
      " [40 41 42 43 44 45]\n",
      " [50 51 52 53 54 55]]\n",
      "\n",
      "Row 0: [0 1 2 3 4 5]\n",
      "Row 1: [10 11 12 13 14 15]\n",
      "Row 2: [20 21 22 23 24 25]\n",
      "Row 3: [30 31 32 33 34 35]\n",
      "Row 4: [40 41 42 43 44 45]\n",
      "Row 5: [50 51 52 53 54 55]\n",
      "\n",
      "Column 0: [ 0 10 20 30 40 50]\n",
      "Column 1: [ 1 11 21 31 41 51]\n",
      "Column 2: [ 2 12 22 32 42 52]\n",
      "Column 3: [ 3 13 23 33 43 53]\n",
      "Column 4: [ 4 14 24 34 44 54]\n",
      "Column 5: [ 5 15 25 35 45 55]\n"
     ]
    }
   ],
   "source": [
    "f = lambda m, n: n + 10 * m\n",
    "A = np.fromfunction(f, (6, 6), dtype=int)\n",
    "\n",
    "print(A)\n",
    "print()\n",
    "\n",
    "# Extracting the i-th row:\n",
    "for i in range(6):\n",
    "    print(f'Row {i}: {A[i, :]}')\n",
    "    \n",
    "print()\n",
    "    \n",
    "# Extracting the j-th column:\n",
    "for j in range(6):\n",
    "    print(f'Column {j}: {A[:, j]}')"
   ]
  },
  {
   "cell_type": "code",
   "execution_count": 47,
   "metadata": {},
   "outputs": [
    {
     "name": "stdout",
     "output_type": "stream",
     "text": [
      "A[2, 3]: 23\n",
      "A[4, 4]: 44\n",
      "A[5, 5]: 55\n"
     ]
    }
   ],
   "source": [
    "#Extracting the (i, j) th element:\n",
    "print(f'A[2, 3]: {A[2,3]}')\n",
    "print(f'A[4, 4]: {A[4,4]}')  # using A[i, j]\n",
    "print(f'A[5, 5]: {A[5][5]}') # using A[i][j]"
   ]
  },
  {
   "cell_type": "code",
   "execution_count": 48,
   "metadata": {},
   "outputs": [
    {
     "name": "stdout",
     "output_type": "stream",
     "text": [
      "[[ 0  1  2  3  4  5]\n",
      " [10 11 12 13 14 15]\n",
      " [20 21 22 23 24 25]\n",
      " [30 31 32 33 34 35]\n",
      " [40 41 42 43 44 45]\n",
      " [50 51 52 53 54 55]]\n",
      "[[ 0  1  2  3]\n",
      " [10 11 12 13]\n",
      " [20 21 22 23]\n",
      " [30 31 32 33]]\n",
      "[[11 12 13 14]\n",
      " [21 22 23 24]\n",
      " [31 32 33 34]\n",
      " [41 42 43 44]]\n"
     ]
    }
   ],
   "source": [
    "print(A)\n",
    "print(A[:4, :4])\n",
    "print(A[1:5, 1:5])"
   ]
  },
  {
   "cell_type": "code",
   "execution_count": 49,
   "metadata": {},
   "outputs": [
    {
     "name": "stdout",
     "output_type": "stream",
     "text": [
      "[[ 0  1  2  3  4  5]\n",
      " [10 11 12 13 14 15]\n",
      " [20 21 22 23 24 25]\n",
      " [30 31 32 33 34 35]\n",
      " [40 41 42 43 44 45]\n",
      " [50 51 52 53 54 55]]\n"
     ]
    },
    {
     "data": {
      "text/plain": [
       "array([[ 2,  3,  4,  5],\n",
       "       [12, 13, 14, 15],\n",
       "       [22, 23, 24, 25],\n",
       "       [32, 33, 34, 35]])"
      ]
     },
     "execution_count": 49,
     "metadata": {},
     "output_type": "execute_result"
    }
   ],
   "source": [
    "print(A)\n",
    "A[:4, 2:]"
   ]
  },
  {
   "cell_type": "code",
   "execution_count": 50,
   "metadata": {},
   "outputs": [
    {
     "name": "stdout",
     "output_type": "stream",
     "text": [
      "[[ 0  1  2  3  4  5]\n",
      " [10 11 12 13 14 15]\n",
      " [20 21 22 23 24 25]\n",
      " [30 31 32 33 34 35]\n",
      " [40 41 42 43 44 45]\n",
      " [50 51 52 53 54 55]]\n"
     ]
    },
    {
     "data": {
      "text/plain": [
       "array([[22, 23, 24, 25],\n",
       "       [32, 33, 34, 35],\n",
       "       [42, 43, 44, 45],\n",
       "       [52, 53, 54, 55]])"
      ]
     },
     "execution_count": 50,
     "metadata": {},
     "output_type": "execute_result"
    }
   ],
   "source": [
    "print(A)\n",
    "A[2:, 2:]"
   ]
  },
  {
   "cell_type": "code",
   "execution_count": 51,
   "metadata": {},
   "outputs": [
    {
     "data": {
      "text/plain": [
       "array([[ 0,  2,  4],\n",
       "       [20, 22, 24],\n",
       "       [40, 42, 44]])"
      ]
     },
     "execution_count": 51,
     "metadata": {},
     "output_type": "execute_result"
    }
   ],
   "source": [
    "# With element spacing other that 1, submatrices made up from nonconsecutive elements can be extracted:\n",
    "A[::2, ::2] # every second element starting from 0, 0"
   ]
  },
  {
   "cell_type": "code",
   "execution_count": 52,
   "metadata": {},
   "outputs": [
    {
     "data": {
      "text/plain": [
       "array([[11, 14],\n",
       "       [31, 34],\n",
       "       [51, 54]])"
      ]
     },
     "execution_count": 52,
     "metadata": {},
     "output_type": "execute_result"
    }
   ],
   "source": [
    "A[1::2, 1::3] # every second and third element starting from 1, 1"
   ]
  },
  {
   "cell_type": "markdown",
   "metadata": {},
   "source": [
    "### <font color = 'green'>3.3 Array Slicing: ND Array Views</font>\n",
    "\n",
    "Subarrays that are extracted from arrays using slice operations are <font color = 'grey'>**alternative views of the same underlying array data**</font>. That is, they are arrays that refer to the same data in the memory as the original array, but with a different <code>strides</code> configuration. When elements in a view are assigned new values, the values of the original array are therefore also updated. For example,"
   ]
  },
  {
   "cell_type": "code",
   "execution_count": 53,
   "metadata": {},
   "outputs": [
    {
     "data": {
      "text/plain": [
       "array([[11, 12, 13, 14],\n",
       "       [21, 22, 23, 24],\n",
       "       [31, 32, 33, 34],\n",
       "       [41, 42, 43, 44]])"
      ]
     },
     "execution_count": 53,
     "metadata": {},
     "output_type": "execute_result"
    }
   ],
   "source": [
    "B = A[1:5, 1:5]\n",
    "B"
   ]
  },
  {
   "cell_type": "code",
   "execution_count": 54,
   "metadata": {
    "scrolled": true
   },
   "outputs": [
    {
     "data": {
      "text/plain": [
       "array([[ 0,  1,  2,  3,  4,  5],\n",
       "       [10,  0,  0,  0,  0, 15],\n",
       "       [20,  0,  0,  0,  0, 25],\n",
       "       [30,  0,  0,  0,  0, 35],\n",
       "       [40,  0,  0,  0,  0, 45],\n",
       "       [50, 51, 52, 53, 54, 55]])"
      ]
     },
     "execution_count": 54,
     "metadata": {},
     "output_type": "execute_result"
    }
   ],
   "source": [
    "B[:, :] = 0\n",
    "A"
   ]
  },
  {
   "cell_type": "markdown",
   "metadata": {},
   "source": [
    "Here, assigning new values to the elements in an array B, which is created from the array A, also modifies the values in A (since both arrays refer to the same data in the memory). The fact that extracting subarrays results in views rather than new\n",
    "independent arrays eliminates the need for copying data and improves performance. When a copy rather than a view is needed, the view can be copied explicitly by using the <code>copy</code> method of the <code>ndarray</code> instance.\n",
    "\n",
    "### <font color = 'blue'><code>ndarray.copy():</code></font>"
   ]
  },
  {
   "cell_type": "code",
   "execution_count": 55,
   "metadata": {},
   "outputs": [
    {
     "data": {
      "text/plain": [
       "array([[0, 0],\n",
       "       [0, 0]])"
      ]
     },
     "execution_count": 55,
     "metadata": {},
     "output_type": "execute_result"
    }
   ],
   "source": [
    "C = B[1:3, 1:3].copy()\n",
    "C"
   ]
  },
  {
   "cell_type": "code",
   "execution_count": 56,
   "metadata": {},
   "outputs": [
    {
     "name": "stdout",
     "output_type": "stream",
     "text": [
      "[[1 1]\n",
      " [1 1]]\n",
      "[[ 0  1  2  3  4  5]\n",
      " [10  0  0  0  0 15]\n",
      " [20  0  0  0  0 25]\n",
      " [30  0  0  0  0 35]\n",
      " [40  0  0  0  0 45]\n",
      " [50 51 52 53 54 55]]\n"
     ]
    }
   ],
   "source": [
    "C[:, :] = 1 # this does not affect B since C is a copy of the view B[1:3, 1:3]\n",
    "\n",
    "# In addition to the copy attribute of the ndarray class, an array can also be copied using the function np.copy or, equivalently, using the np.array function with the keyword argument copy=True.\n",
    "\n",
    "print(C)\n",
    "print(A)"
   ]
  },
  {
   "cell_type": "code",
   "execution_count": 57,
   "metadata": {
    "scrolled": true
   },
   "outputs": [
    {
     "data": {
      "text/plain": [
       "array([[ 0,  1,  2,  3,  4,  5],\n",
       "       [10,  0,  0,  0,  0, 15],\n",
       "       [20,  0,  1,  1,  0, 25],\n",
       "       [30,  0,  1,  1,  0, 35],\n",
       "       [40,  0,  0,  0,  0, 45],\n",
       "       [50, 51, 52, 53, 54, 55]])"
      ]
     },
     "execution_count": 57,
     "metadata": {},
     "output_type": "execute_result"
    }
   ],
   "source": [
    "D = B[1:3, 1:3]\n",
    "D[:, :] = 1\n",
    "A"
   ]
  },
  {
   "cell_type": "markdown",
   "metadata": {},
   "source": [
    "### <font color = 'green'>3.4 Array Indexing: Fancy Indexing and Boolean valued Indexing</font>\n",
    "\n",
    "#### Fancy Indexing:\n",
    "\n",
    "In the previous section, we looked at indexing NumPy arrays with integers and slices, to\n",
    "extract individual elements or ranges of elements. NumPy provides another convenient\n",
    "method to index arrays, called fancy indexing. With fancy indexing, an array can be\n",
    "indexed with another NumPy array, a Python list, or a sequence of integers, whose\n",
    "values select elements in the indexed array. To clarify this concept, consider the\n",
    "following example: we first create a NumPy array with 11 floating-point numbers, and\n",
    "then index the array with another NumPy array (and Python list and a tuple), to extract element\n",
    "numbers 0, 2, and 4 from the original array:"
   ]
  },
  {
   "cell_type": "code",
   "execution_count": 58,
   "metadata": {},
   "outputs": [
    {
     "name": "stdout",
     "output_type": "stream",
     "text": [
      "[0.  0.1 0.2 0.3 0.4 0.5 0.6 0.7 0.8 0.9 1. ]\n",
      "[0.1 0.3 0.5]\n"
     ]
    }
   ],
   "source": [
    "A = np.linspace(0, 1, 11)\n",
    "print(A)\n",
    "print(A[np.array((1, 3, 5))])"
   ]
  },
  {
   "cell_type": "code",
   "execution_count": 59,
   "metadata": {},
   "outputs": [
    {
     "data": {
      "text/plain": [
       "array([0. , 0.2, 0.4, 0.6])"
      ]
     },
     "execution_count": 59,
     "metadata": {},
     "output_type": "execute_result"
    }
   ],
   "source": [
    "A[np.array([0, 2, 4, 6])] # Using an array for index"
   ]
  },
  {
   "cell_type": "code",
   "execution_count": 60,
   "metadata": {},
   "outputs": [
    {
     "data": {
      "text/plain": [
       "array([0.1, 0.3, 0.5])"
      ]
     },
     "execution_count": 60,
     "metadata": {},
     "output_type": "execute_result"
    }
   ],
   "source": [
    "A[[1, 3, 5]] # Using a list for index"
   ]
  },
  {
   "cell_type": "code",
   "execution_count": 61,
   "metadata": {},
   "outputs": [
    {
     "name": "stdout",
     "output_type": "stream",
     "text": [
      "[[ 6 48 45 12]\n",
      " [32 11 15 14]\n",
      " [39 38 47 46]\n",
      " [12 22 27  2]]\n",
      "\n",
      "A - Dimention: 2\n",
      "A - shape: (4, 4)\n",
      "Second row: \n",
      " [32 11 15 14]\n",
      "First and third rows: \n",
      " [[ 6 48 45 12]\n",
      " [39 38 47 46]]\n",
      "First three rows: \n",
      " [[ 6 48 45 12]\n",
      " [32 11 15 14]\n",
      " [39 38 47 46]]\n",
      "\n",
      "Second Column: \n",
      " [[48]\n",
      " [11]\n",
      " [38]\n",
      " [22]]\n",
      "First and third Columns: \n",
      " [[ 6 45]\n",
      " [32 15]\n",
      " [39 47]\n",
      " [12 27]]\n",
      "First three Columns: \n",
      " [[ 6 48 45]\n",
      " [32 11 15]\n",
      " [39 38 47]\n",
      " [12 22 27]]\n"
     ]
    }
   ],
   "source": [
    "import numpy as np\n",
    "A = np.random.randint(1, 50, 16).reshape(4,4)\n",
    "print(A)\n",
    "print()\n",
    "\n",
    "print(f'A - Dimention: {A.ndim}')\n",
    "print(f'A - shape: {A.shape}')\n",
    "\n",
    "# ith row:\n",
    "print(f'Second row: \\n {A[1, :]}')\n",
    "print(f'First and third rows: \\n {A[(0, 2), :]}')\n",
    "print(f'First three rows: \\n {A[:3, :]}')\n",
    "print()\n",
    "\n",
    "# jth column:\n",
    "print(f'Second Column: \\n {A[:, 1].reshape(4, 1)}')\n",
    "print(f'First and third Columns: \\n {A[:, (0, 2)].reshape(4, 2)}')\n",
    "print(f'First three Columns: \\n {A[:, :3].reshape(4, 3)}')"
   ]
  },
  {
   "cell_type": "markdown",
   "metadata": {},
   "source": [
    "#### Boolean Valued Indexing:\n",
    "\n",
    "Another variant of indexing NumPy arrays is to use Boolean-valued index arrays. In\n",
    "this case, each element (with values True or False) indicates whether or not to select the\n",
    "element from the list with the corresponding index. That is, if element n in the indexing\n",
    "array of Boolean values is True, then element n is selected from the indexed array. If the\n",
    "value is False, then element n is not selected. This index method is handy when filtering out\n",
    "elements from an array. For example, to select all the elements from the array A (as defined in\n",
    "the preceding section) that exceed the value 0.5, we can use the following combination of the\n",
    "comparison operator applied to a NumPy array and indexing using a Boolean-valued array:"
   ]
  },
  {
   "cell_type": "code",
   "execution_count": 62,
   "metadata": {},
   "outputs": [
    {
     "data": {
      "text/plain": [
       "array([ 6, 48, 45, 12, 32, 11, 15, 14, 39, 38, 47, 46, 12, 22, 27,  2])"
      ]
     },
     "execution_count": 62,
     "metadata": {},
     "output_type": "execute_result"
    }
   ],
   "source": [
    "A[A > 0.5]"
   ]
  },
  {
   "cell_type": "markdown",
   "metadata": {},
   "source": [
    "Unlike arrays created by using slices, the arrays returned using fancy indexing and\n",
    "Boolean-valued indexing are not views but rather new independent arrays. Nonetheless,\n",
    "it is possible to assign values to elements selected using fancy indexing:"
   ]
  },
  {
   "cell_type": "code",
   "execution_count": 63,
   "metadata": {},
   "outputs": [
    {
     "name": "stdout",
     "output_type": "stream",
     "text": [
      "B : [-1  4  6]\n",
      "A : [ 0  1 -1  3 -1  5 -1  7  8  9 10]\n"
     ]
    }
   ],
   "source": [
    "A = np.arange(0, 11, 1)\n",
    "indices = [2, 4, 6]\n",
    "B = A[indices]\n",
    "B[0] = -1 # This does not affect A, because B = A[indices] is not a 'view' of A but an independent array.\n",
    "print(f'B : {B}')\n",
    "A[indices] = -1\n",
    "print(f'A : {A}')"
   ]
  },
  {
   "cell_type": "code",
   "execution_count": 64,
   "metadata": {},
   "outputs": [
    {
     "data": {
      "text/plain": [
       "array([ 0,  1,  2,  3,  4,  5, -1, -1, -1, -1, -1])"
      ]
     },
     "execution_count": 64,
     "metadata": {},
     "output_type": "execute_result"
    }
   ],
   "source": [
    "# And likewise for boolean valued indexing:\n",
    "\n",
    "A = np.arange(0, 11, 1)\n",
    "B = A[A > 5]\n",
    "B[0] = -1 # This does not affect A, because B = A[A > 5] is not a 'view' of A but an independent array.\n",
    "A[A >5] = -1\n",
    "A"
   ]
  },
  {
   "cell_type": "markdown",
   "metadata": {},
   "source": [
    "# <font color = 'green'>Part IV: Array Reshaping and Resizing</font>\n",
    "\n",
    "When working with data in array form, it is often useful to rearrange arrays and alter the\n",
    "way they are interpreted. For example, an $N × N$ matrix array could be rearranged into a\n",
    "vector of length $N^2$, or a set of one-dimensional arrays could be concatenated together\n",
    "or stacked next to each other to form a matrix. NumPy provides a rich set of functions of\n",
    "this type of manipulation. See Table 2-5 for a summary of a selection of these functions.\n",
    "\n",
    "<img src=\"assets/6_numpy_reshape.jpg\" width=650px />"
   ]
  },
  {
   "cell_type": "markdown",
   "metadata": {},
   "source": [
    "### <font color = 'blue'>4.1. Function 1: <code>reshape()</code></font>\n",
    "\n",
    "Reshaping an array does not require modifying the underlying array data; it only\n",
    "changes in how the data is interpreted, by redefining the array’s strides attribute.\n",
    "An example of this type of operation is a 2 × 2 array (matrix) that is reinterpreted as a 4 x 1 array or a \n",
    "1 × 4 array (vector). In NumPy, the function <code>np.reshape</code>, or the <code>ndarray</code> class method\n",
    "<code>reshape</code>, can be used to reconfigure how the underlying data is interpreted. It takes an\n",
    "array and the new shape of the array as arguments:"
   ]
  },
  {
   "cell_type": "code",
   "execution_count": 65,
   "metadata": {},
   "outputs": [
    {
     "name": "stdout",
     "output_type": "stream",
     "text": [
      "a: [[1 2]\n",
      " [3 4]]\n",
      "b: [[1 2 3 4]]\n",
      "c: [[1]\n",
      " [2]\n",
      " [3]\n",
      " [4]]\n",
      "d: [[1 2]\n",
      " [3 4]]\n"
     ]
    }
   ],
   "source": [
    "a = np.array([[1, 2], [3, 4]])\n",
    "b = np.reshape(a, (1, 4)) # using np.reshape() function\n",
    "c = np.reshape(a, (4, 1))\n",
    "d = c.reshape(2, 2) # using the ndarray method reshape() for the class instance 'c'. \n",
    "print(f'a: {a}')\n",
    "print(f'b: {b}')\n",
    "print(f'c: {c}')\n",
    "print(f'd: {d}')"
   ]
  },
  {
   "cell_type": "markdown",
   "metadata": {},
   "source": [
    " - It is necessary that the requested new shape of the array match the number of elements in the original size. However, the number of axes (dimensions) does not need to be conserved, as illustrated in the previous example, where in the first case, the new array has dimension 2 and shape (1, 4), while in the second case, the new array has dimension 1 and shape (4,). \n",
    "\n",
    " - This example also demonstrates two different ways of invoking the reshape operation: using the function <code>np.reshape</code> and the <code>ndarray</code> method <code>reshape</code>. Note that <font color = 'blue'>**reshaping an array produces a view of the array**</font>, and if an independent copy of the array is needed, the view has to be copied explicitly (e.g., using <code>np.copy()</code>)."
   ]
  },
  {
   "cell_type": "markdown",
   "metadata": {},
   "source": [
    "### <font color = 'blue'>4.2. Function 2: <code>np.ravel()</code> and <code>np.flatten()</code></font>\n",
    "\n",
    "The <code>np.ravel</code> (and its corresponding ndarray method) is a special case of <code>reshape</code>,\n",
    "which collapses all dimensions of an array and returns a flattened one-dimensional\n",
    "array with a length that corresponds to the total number of elements in the original\n",
    "array. The <code>ndarray</code> method <code>flatten</code> performs the same function but returns a copy\n",
    "instead of a view."
   ]
  },
  {
   "cell_type": "code",
   "execution_count": 66,
   "metadata": {},
   "outputs": [
    {
     "data": {
      "text/plain": [
       "array([[1, 2],\n",
       "       [3, 4]])"
      ]
     },
     "execution_count": 66,
     "metadata": {},
     "output_type": "execute_result"
    }
   ],
   "source": [
    "data = np.array([[1, 2], [3, 4]])\n",
    "data"
   ]
  },
  {
   "cell_type": "code",
   "execution_count": 67,
   "metadata": {},
   "outputs": [
    {
     "data": {
      "text/plain": [
       "array([1, 2, 3, 4])"
      ]
     },
     "execution_count": 67,
     "metadata": {},
     "output_type": "execute_result"
    }
   ],
   "source": [
    "data.flatten()"
   ]
  },
  {
   "cell_type": "code",
   "execution_count": 68,
   "metadata": {},
   "outputs": [
    {
     "data": {
      "text/plain": [
       "(4,)"
      ]
     },
     "execution_count": 68,
     "metadata": {},
     "output_type": "execute_result"
    }
   ],
   "source": [
    "data.flatten().shape"
   ]
  },
  {
   "cell_type": "markdown",
   "metadata": {},
   "source": [
    "### <font color = 'blue'>4.3. Function 3: <code>np.newaxis()</code> and <code>np.expand_dims()</code></font>\n",
    "\n",
    "While <code>np.ravel</code> and <code>np.flatten</code> collapse the axes of an array into a one-dimensional\n",
    "array, it is also possible to introduce new axes into an array, either by using <code>np.reshape</code>\n",
    "or, when adding new empty axes, using indexing notation and the <code>**np.newaxis**</code> keyword\n",
    "at the place of a new axis. In the following example, the array data has one axis, so it\n",
    "should normally be indexed with a tuple with one element. However, if it is indexed with\n",
    "a tuple with more than one element, and if the extra indices in the tuple have the value\n",
    "<code>**np.newaxis()**</code>, then the corresponding new axes are added:"
   ]
  },
  {
   "cell_type": "code",
   "execution_count": 69,
   "metadata": {},
   "outputs": [
    {
     "data": {
      "text/plain": [
       "array([[0],\n",
       "       [1],\n",
       "       [2],\n",
       "       [3],\n",
       "       [4]])"
      ]
     },
     "execution_count": 69,
     "metadata": {},
     "output_type": "execute_result"
    }
   ],
   "source": [
    "data = np.arange(0, 5)\n",
    "column = data[:, np.newaxis]\n",
    "column"
   ]
  },
  {
   "cell_type": "code",
   "execution_count": 70,
   "metadata": {},
   "outputs": [
    {
     "data": {
      "text/plain": [
       "array([[0, 1, 2, 3, 4]])"
      ]
     },
     "execution_count": 70,
     "metadata": {},
     "output_type": "execute_result"
    }
   ],
   "source": [
    "row = data[np.newaxis, :]\n",
    "row"
   ]
  },
  {
   "cell_type": "markdown",
   "metadata": {},
   "source": [
    "The function <code>np.expand_dims()</code> can also be used to add new dimensions to an\n",
    "array, and in the preceding example, the expression <code>data[:, np.newaxis]</code> is\n",
    "equivalent to <code>np.expand_dims(data, axis=1)</code>, and <code>data[np.newaxis, :]</code> is equivalent\n",
    "to <code>np.expand_dims(data, axis=0)</code>. Here the axis argument specifies the location\n",
    "relative to the existing axes where the new axis is to be inserted."
   ]
  },
  {
   "cell_type": "code",
   "execution_count": 71,
   "metadata": {
    "scrolled": true
   },
   "outputs": [
    {
     "name": "stdout",
     "output_type": "stream",
     "text": [
      "[[[47 34 40]\n",
      "  [35 23 37]\n",
      "  [12  2 49]]\n",
      "\n",
      " [[27 20 13]\n",
      "  [ 0 10  0]\n",
      "  [18 31 11]]\n",
      "\n",
      " [[27 31 28]\n",
      "  [19 41 35]\n",
      "  [19 21 15]]]\n",
      "[47 34 40 35 23 37 12  2 49 27 20 13  0 10  0 18 31 11 27 31 28 19 41 35\n",
      " 19 21 15]\n",
      "a - Dimention: 3\n",
      "a - Shape    : (3, 3, 3)\n",
      "b - Dimention: 1\n",
      "b - Shape    : (27,)\n",
      "[[47 34 40 35 23 37 12  2 49 27 20 13  0 10  0 18 31 11 27 31 28 19 41 35\n",
      "  19 21 15]]\n",
      "c - Dimention: 2\n",
      "c - Shape    : (1, 27)\n"
     ]
    }
   ],
   "source": [
    "a = np.random.randint(0, 50, 27).reshape(3, 3, 3)\n",
    "b = a.flatten()\n",
    "print(a)\n",
    "print(b)\n",
    "print(f'a - Dimention: {a.ndim}')\n",
    "print(f'a - Shape    : {a.shape}')\n",
    "print(f'b - Dimention: {b.ndim}')\n",
    "print(f'b - Shape    : {b.shape}')\n",
    "c = np.expand_dims(b, axis=0)\n",
    "print(c)\n",
    "print(f'c - Dimention: {c.ndim}')\n",
    "print(f'c - Shape    : {c.shape}')"
   ]
  },
  {
   "cell_type": "markdown",
   "metadata": {},
   "source": [
    "### <font color = 'blue'>4.4. Function 4: Merging arrays into bigger arrays; vertically or horizontally: <code>np.vstack()</code>, <code>np.hstack()</code> and <code>np.concatenate()</code></font>\n",
    "\n",
    "#### 4.4.1 <code>np.vstack():</code>\n",
    "\n",
    "We have up to now looked at methods to rearrange arrays in ways that do not affect\n",
    "the underlying data. Earlier in this chapter, we also looked at how to extract subarrays\n",
    "using various indexing techniques. In addition to reshaping and selecting subarrays,\n",
    "it is often necessary to merge arrays into bigger arrays, for example, when joining\n",
    "separately computed or measured data series into a higher-dimensional array, such as\n",
    "a matrix. For this task, NumPy provides the functions <code>np.vstack</code>, for vertical stacking of,\n",
    "for example, rows into a matrix, and <code>np.hstack</code> for horizontal stacking of, for example,\n",
    "columns into a matrix. The function <code>np.concatenate</code> provides similar functionality, but\n",
    "it takes a keyword argument axis that specifies the axis along which the arrays are to be\n",
    "concatenated.\n",
    "The shape of the arrays passed to <code>np.hstack</code>, <code>np.vstack</code>, and <code>np.concatenate</code>\n",
    "is important to achieve the desired type of array joining. For example, consider the\n",
    "following cases: say we have one-dimensional arrays of data, and we want to stack them\n",
    "vertically to obtain a matrix where the rows are made up of the one-dimensional arrays.\n",
    "We can use np.vstack to achieve this:"
   ]
  },
  {
   "cell_type": "code",
   "execution_count": 72,
   "metadata": {},
   "outputs": [
    {
     "name": "stdout",
     "output_type": "stream",
     "text": [
      "a: [1 2 3 4]; b: [5 6 7 8]; c: [ 9 10 11 12]\n",
      "A: a + b + c vertically:\n",
      " [[ 1  2  3  4]\n",
      " [ 5  6  7  8]\n",
      " [ 9 10 11 12]]\n",
      "B: a + b + c horizontally:\n",
      " [ 1  2  3  4  5  6  7  8  9 10 11 12]\n"
     ]
    }
   ],
   "source": [
    "a = np.array([x for x in range(1, 5)], dtype=np.int)\n",
    "b = np.array([x for x in range(5, 9)], dtype=np.int)\n",
    "c = np.array([x for x in range(9, 13)], dtype=np.int)\n",
    "print(f'a: {a}; b: {b}; c: {c}')\n",
    "\n",
    "A = np.vstack((a, b, c))  # Stacking the arrays a, b, c vertically\n",
    "B = np.hstack((a, b, c))  # Stacking the arrays a, b, c horizontally\n",
    "\n",
    "print(f'A: a + b + c vertically:\\n {A}')\n",
    "print(f'B: a + b + c horizontally:\\n {B}')\n",
    "\n",
    "# If we instead want to stack the arrays horizontally, to obtain a matrix where the arrays are the column vectors,then we need to make np.hstack() treat the input arrays as columns and stack them accordingly.\n",
    "\n",
    "# we need to make the input arrays two-dimensional arrays of shape (1, 5) rather than one-dimensional arrays of shape (5,). As discussed earlier, we can insert a new axis by indexing with np.newaxis:\n",
    "\n"
   ]
  },
  {
   "cell_type": "markdown",
   "metadata": {},
   "source": [
    "#### 4.4.2 <code>np.hstack():</code>"
   ]
  },
  {
   "cell_type": "code",
   "execution_count": 73,
   "metadata": {},
   "outputs": [
    {
     "name": "stdout",
     "output_type": "stream",
     "text": [
      "C: a + b + c horizontally as columns:\n",
      " [[ 1  5  9]\n",
      " [ 2  6 10]\n",
      " [ 3  7 11]\n",
      " [ 4  8 12]]\n"
     ]
    }
   ],
   "source": [
    "a = np.array([x for x in range(1, 5)], dtype=np.int)\n",
    "b = np.array([x for x in range(5, 9)], dtype=np.int)\n",
    "c = np.array([x for x in range(9, 13)], dtype=np.int)\n",
    "\n",
    "a = np.expand_dims(a, axis = 1)\n",
    "b = np.expand_dims(b, axis = 1)\n",
    "c = np.expand_dims(c, axis = 1)\n",
    "\n",
    "C = np.hstack((a, b, c))\n",
    "print(f'C: a + b + c horizontally as columns:\\n {C}')"
   ]
  },
  {
   "cell_type": "markdown",
   "metadata": {},
   "source": [
    "#### 4.4.3 <code>np.concatinate():</code>"
   ]
  },
  {
   "cell_type": "code",
   "execution_count": 74,
   "metadata": {
    "scrolled": true
   },
   "outputs": [
    {
     "name": "stdout",
     "output_type": "stream",
     "text": [
      "First array:\n",
      "[[1 2]\n",
      " [3 4]]\n",
      "\n",
      "Second array:\n",
      "[[5 6]\n",
      " [7 8]]\n",
      "\n",
      "c = a + b along axis 0:\n",
      "[[1 2]\n",
      " [3 4]\n",
      " [5 6]\n",
      " [7 8]]\n",
      "c - Dimention: 2\n",
      "\n",
      "d = a + b along axis 1:\n",
      "[[1 2 5 6]\n",
      " [3 4 7 8]]\n",
      "d - Dimention: 2\n"
     ]
    }
   ],
   "source": [
    "import numpy as np \n",
    "a = np.array([[1,2],[3,4]])\n",
    "b = np.array([[5,6],[7,8]])\n",
    "c = np.concatenate((a,b))\n",
    "d = np.concatenate((a,b),axis = 1)\n",
    "\n",
    "print('First array:') \n",
    "print(a)\n",
    "print()  \n",
    "\n",
    "print('Second array:') \n",
    "print(b) \n",
    "print()  \n",
    "# both the arrays are of same dimensions \n",
    "\n",
    "print('c = a + b along axis 0:')\n",
    "print(c) \n",
    "print(f'c - Dimention: {c.ndim}')\n",
    "print()\n",
    "\n",
    "print('d = a + b along axis 1:') \n",
    "print(d)\n",
    "print(f'd - Dimention: {d.ndim}') "
   ]
  },
  {
   "cell_type": "markdown",
   "metadata": {},
   "source": [
    "# <font color = 'green'>Part V: Vectorization and Array Broadcasting</font>\n",
    "\n",
    "## <font color = 'blue'>5.1 Vectorization and Array Broadcasting</font>\n",
    "\n",
    "The purpose of storing numerical data in arrays is to be able to process the data with\n",
    "concise vectorized expressions that represent batch operations that are applied to all\n",
    "elements in the arrays. Efficient use of vectorized expressions eliminates the need of\n",
    "many explicit for loops. This results in less verbose code, better maintainability, and\n",
    "higher-performing code. NumPy implements functions and vectorized operations\n",
    "corresponding to most fundamental mathematical functions and operators. Many\n",
    "of these functions and operations act on arrays on an elementwise basis, and binary\n",
    "operations require all arrays in an expression to be of compatible size. The meaning of compatible size is normally that the variables in an expression represent either scalars\n",
    "or arrays of the same size and shape. More generally, a binary operation involving two\n",
    "arrays is well defined if the arrays can be broadcasted into the same shape and size.\n",
    "\n",
    "In the case of an operation between a scalar and an array, broadcasting refers to the\n",
    "scalar being distributed and the operation applied to each element in the array. When\n",
    "an expression contains arrays of unequal sizes, the operations may still be well defined if\n",
    "the smaller of the array can be broadcasted (“effectively expanded”) to match the larger\n",
    "array according to NumPy’s broadcasting rule: <font color = 'blue'>*an array can be broadcasted over another\n",
    "array if their axes on a one-by-one basis either have the same length or if either of them\n",
    "have length 1. If the number of axes of the two arrays is not equal, the array with fewer\n",
    "axes is padded with new axes of length 1 from the left until the numbers of dimensions of\n",
    "the two arrays agree.*</font>\n",
    "\n",
    "Two simple examples that illustrate array broadcasting are shown in Figure 2-2: a\n",
    "3 × 3 matrix is added to a 1 × 3 row vector and a 3 × 1 column vector, respectively, and\n",
    "in both cases the result is a 3 × 3 matrix. However, the elements in the two resulting\n",
    "matrices are different, because the way the elements of the row and column vectors are\n",
    "broadcasted to the shape of the larger array is different depending on the shape of the\n",
    "arrays, according to NumPy’s broadcasting rule.\n",
    "\n",
    "<img src=\"assets/7_np_array_broadcasting.jpg\" width=600px />"
   ]
  },
  {
   "cell_type": "markdown",
   "metadata": {},
   "source": [
    "## <font color = 'blue'>5.2 Arithmatic Operations</font>"
   ]
  },
  {
   "cell_type": "code",
   "execution_count": 75,
   "metadata": {
    "scrolled": true
   },
   "outputs": [
    {
     "name": "stdout",
     "output_type": "stream",
     "text": [
      "A + B: \n",
      "[[ 6  8]\n",
      " [10 12]]\n",
      "\n",
      "A - B: \n",
      "[[4 4]\n",
      " [4 4]]\n",
      "\n",
      "A * B: \n",
      "[[ 5 12]\n",
      " [21 32]]\n",
      "\n",
      "A / B: \n",
      "[[5.         3.        ]\n",
      " [2.33333333 2.        ]]\n",
      "\n",
      "A ** B: \n",
      "[[   5   36]\n",
      " [ 343 4096]]\n",
      "\n",
      "A ^ B: \n",
      "[[ 4  4]\n",
      " [ 4 12]]\n"
     ]
    }
   ],
   "source": [
    "A = np.array([[5, 6], [7, 8]])\n",
    "B = np.array([[1, 2], [3, 4]])\n",
    "print(f'A + B: \\n{A+B}')\n",
    "print()\n",
    "print(f'A - B: \\n{A-B}')\n",
    "print()\n",
    "print(f'A * B: \\n{A*B}')\n",
    "print()\n",
    "print(f'A / B: \\n{A/B}')\n",
    "print()\n",
    "print(f'A ** B: \\n{A**B}')\n",
    "print()\n",
    "print(f'A ^ B: \\n{A^B}') # Bitwise operators work on element basis as well."
   ]
  },
  {
   "cell_type": "code",
   "execution_count": 76,
   "metadata": {
    "scrolled": true
   },
   "outputs": [
    {
     "name": "stdout",
     "output_type": "stream",
     "text": [
      "[[26 27 12 25]\n",
      " [16 19 20  7]\n",
      " [22 23 16  6]\n",
      " [20  1  4  9]]\n",
      "\n",
      "[[26.  27.   6.  12.5]\n",
      " [16.  19.  10.   3.5]\n",
      " [22.  23.   8.   3. ]\n",
      " [20.   1.   2.   4.5]]\n",
      "\n",
      "[[26.  27.  12.  25. ]\n",
      " [16.  19.  20.   7. ]\n",
      " [11.  11.5  8.   3. ]\n",
      " [10.   0.5  2.   4.5]]\n",
      "\n"
     ]
    }
   ],
   "source": [
    "x = np.random.randint(1, 30, 16).reshape(4, 4)\n",
    "print(x)\n",
    "print()\n",
    "y = np.array([1, 1, 2, 2])\n",
    "a = np.expand_dims(y, axis = 0) # Broadcasted horizontally\n",
    "b = np.expand_dims(y, axis = 1) # Broadcasted vertically\n",
    "print(x/a)\n",
    "print()\n",
    "print(x/b)\n",
    "print()"
   ]
  },
  {
   "cell_type": "markdown",
   "metadata": {},
   "source": [
    "## <font color = 'blue'>5.3 Universal Array Functions</font>\n",
    "\n",
    "In addition to arithmetic expressions using operators, NumPy provides vectorized\n",
    "functions for elementwise evaluation of many elementary mathematical functions\n",
    "and operations.\n",
    "\n",
    "<img src=\"assets/8_np_operators.jpg\" width=360px />\n",
    "\n",
    "<img src=\"assets/9_np_functions.jpg\" width=520px />\n",
    "\n",
    "<img src=\"assets/10_np_functions.jpg\" width=520px />"
   ]
  },
  {
   "cell_type": "code",
   "execution_count": 77,
   "metadata": {
    "scrolled": true
   },
   "outputs": [
    {
     "data": {
      "text/plain": [
       "array([[5.74456265, 3.16227766, 5.91607978, 6.08276253],\n",
       "       [4.47213595, 6.92820323, 6.08276253, 3.16227766],\n",
       "       [4.69041576, 5.91607978, 6.40312424, 3.60555128],\n",
       "       [5.19615242, 6.63324958, 5.83095189, 4.        ]])"
      ]
     },
     "execution_count": 77,
     "metadata": {},
     "output_type": "execute_result"
    }
   ],
   "source": [
    "a = np.random.randint(1, 50, 16).reshape(4, 4)\n",
    "np.sqrt(a)"
   ]
  },
  {
   "cell_type": "code",
   "execution_count": 78,
   "metadata": {},
   "outputs": [
    {
     "data": {
      "text/plain": [
       "array([[2.14643580e+14, 2.20264658e+04, 1.58601345e+15, 1.17191424e+16],\n",
       "       [4.85165195e+08, 7.01673591e+20, 1.17191424e+16, 2.20264658e+04],\n",
       "       [3.58491285e+09, 1.58601345e+15, 6.39843494e+17, 4.42413392e+05],\n",
       "       [5.32048241e+11, 1.28516001e+19, 5.83461743e+14, 8.88611052e+06]])"
      ]
     },
     "execution_count": 78,
     "metadata": {},
     "output_type": "execute_result"
    }
   ],
   "source": [
    "np.exp(a)"
   ]
  },
  {
   "cell_type": "code",
   "execution_count": 79,
   "metadata": {},
   "outputs": [
    {
     "data": {
      "text/plain": [
       "48"
      ]
     },
     "execution_count": 79,
     "metadata": {},
     "output_type": "execute_result"
    }
   ],
   "source": [
    "np.max(a)"
   ]
  },
  {
   "cell_type": "code",
   "execution_count": 80,
   "metadata": {
    "scrolled": true
   },
   "outputs": [
    {
     "data": {
      "text/plain": [
       "5"
      ]
     },
     "execution_count": 80,
     "metadata": {},
     "output_type": "execute_result"
    }
   ],
   "source": [
    "np.argmax(a)"
   ]
  },
  {
   "cell_type": "code",
   "execution_count": 81,
   "metadata": {},
   "outputs": [
    {
     "data": {
      "text/plain": [
       "10"
      ]
     },
     "execution_count": 81,
     "metadata": {},
     "output_type": "execute_result"
    }
   ],
   "source": [
    "np.min(a)"
   ]
  },
  {
   "cell_type": "code",
   "execution_count": 82,
   "metadata": {},
   "outputs": [
    {
     "data": {
      "text/plain": [
       "1"
      ]
     },
     "execution_count": 82,
     "metadata": {},
     "output_type": "execute_result"
    }
   ],
   "source": [
    "np.argmin(a)"
   ]
  },
  {
   "cell_type": "code",
   "execution_count": 83,
   "metadata": {},
   "outputs": [
    {
     "data": {
      "text/plain": [
       "array([[ 0.99991186, -0.54402111, -0.42818267, -0.64353813],\n",
       "       [ 0.91294525, -0.76825466, -0.64353813, -0.54402111],\n",
       "       [-0.00885131, -0.42818267, -0.15862267,  0.42016704],\n",
       "       [ 0.95637593,  0.01770193,  0.52908269, -0.28790332]])"
      ]
     },
     "execution_count": 83,
     "metadata": {},
     "output_type": "execute_result"
    }
   ],
   "source": [
    "np.sin(a)"
   ]
  },
  {
   "cell_type": "code",
   "execution_count": 84,
   "metadata": {},
   "outputs": [
    {
     "data": {
      "text/plain": [
       "array([[3.49650756, 2.30258509, 3.55534806, 3.61091791],\n",
       "       [2.99573227, 3.87120101, 3.61091791, 2.30258509],\n",
       "       [3.09104245, 3.55534806, 3.71357207, 2.56494936],\n",
       "       [3.29583687, 3.78418963, 3.52636052, 2.77258872]])"
      ]
     },
     "execution_count": 84,
     "metadata": {},
     "output_type": "execute_result"
    }
   ],
   "source": [
    "np.log(a)"
   ]
  },
  {
   "cell_type": "code",
   "execution_count": 85,
   "metadata": {},
   "outputs": [
    {
     "data": {
      "text/plain": [
       "array([[-0.01327675, -0.83907153, -0.90369221,  0.76541405],\n",
       "       [ 0.40808206, -0.64014434,  0.76541405, -0.83907153],\n",
       "       [-0.99996083, -0.90369221, -0.98733928,  0.90744678],\n",
       "       [-0.29213881,  0.99984331, -0.84857027, -0.95765948]])"
      ]
     },
     "execution_count": 85,
     "metadata": {},
     "output_type": "execute_result"
    }
   ],
   "source": [
    "np.cos(a)"
   ]
  },
  {
   "cell_type": "code",
   "execution_count": 86,
   "metadata": {},
   "outputs": [
    {
     "data": {
      "text/plain": [
       "array([[1089,  100, 1225, 1369],\n",
       "       [ 400, 2304, 1369,  100],\n",
       "       [ 484, 1225, 1681,  169],\n",
       "       [ 729, 1936, 1156,  256]], dtype=int32)"
      ]
     },
     "execution_count": 86,
     "metadata": {},
     "output_type": "execute_result"
    }
   ],
   "source": [
    "np.square(a)"
   ]
  },
  {
   "cell_type": "code",
   "execution_count": 87,
   "metadata": {
    "scrolled": true
   },
   "outputs": [],
   "source": [
    "b = np.cos(a)"
   ]
  },
  {
   "cell_type": "code",
   "execution_count": 88,
   "metadata": {},
   "outputs": [
    {
     "data": {
      "text/plain": [
       "array([[-0., -1., -1.,  1.],\n",
       "       [ 0., -1.,  1., -1.],\n",
       "       [-1., -1., -1.,  1.],\n",
       "       [-0.,  1., -1., -1.]])"
      ]
     },
     "execution_count": 88,
     "metadata": {},
     "output_type": "execute_result"
    }
   ],
   "source": [
    "np.round(b)"
   ]
  },
  {
   "cell_type": "code",
   "execution_count": 89,
   "metadata": {},
   "outputs": [
    {
     "data": {
      "text/plain": [
       "array([[-0.01, -0.84, -0.9 ,  0.77],\n",
       "       [ 0.41, -0.64,  0.77, -0.84],\n",
       "       [-1.  , -0.9 , -0.99,  0.91],\n",
       "       [-0.29,  1.  , -0.85, -0.96]])"
      ]
     },
     "execution_count": 89,
     "metadata": {},
     "output_type": "execute_result"
    }
   ],
   "source": [
    "np.round(b, decimals = 2)"
   ]
  },
  {
   "cell_type": "code",
   "execution_count": 90,
   "metadata": {},
   "outputs": [
    {
     "data": {
      "text/plain": [
       "0.754647569174372"
      ]
     },
     "execution_count": 90,
     "metadata": {},
     "output_type": "execute_result"
    }
   ],
   "source": [
    "np.std(b)"
   ]
  },
  {
   "cell_type": "code",
   "execution_count": 91,
   "metadata": {},
   "outputs": [
    {
     "data": {
      "text/plain": [
       "-0.2736510604366563"
      ]
     },
     "execution_count": 91,
     "metadata": {},
     "output_type": "execute_result"
    }
   ],
   "source": [
    "np.mean(b)"
   ]
  },
  {
   "cell_type": "code",
   "execution_count": 92,
   "metadata": {},
   "outputs": [
    {
     "data": {
      "text/plain": [
       "array([ True,  True,  True])"
      ]
     },
     "execution_count": 92,
     "metadata": {},
     "output_type": "execute_result"
    }
   ],
   "source": [
    "a = np.array([1, 2, 3, 4, 5])\n",
    "b = [1, 3, 5]\n",
    "np.in1d(b, a)"
   ]
  },
  {
   "cell_type": "markdown",
   "metadata": {},
   "source": [
    "# <font color = 'green'>Part VI: Input and Output</font>"
   ]
  },
  {
   "cell_type": "code",
   "execution_count": 93,
   "metadata": {},
   "outputs": [
    {
     "data": {
      "text/plain": [
       "array([ 0,  1,  2,  3,  4,  5,  6,  7,  8,  9, 10])"
      ]
     },
     "execution_count": 93,
     "metadata": {},
     "output_type": "execute_result"
    }
   ],
   "source": [
    "a = np.arange(11)\n",
    "a"
   ]
  },
  {
   "cell_type": "code",
   "execution_count": 94,
   "metadata": {},
   "outputs": [],
   "source": [
    "# Saving and loading arrays in numpy files.\n",
    "\n",
    "np.save('myarray', a)"
   ]
  },
  {
   "cell_type": "code",
   "execution_count": 95,
   "metadata": {},
   "outputs": [],
   "source": [
    "a = np.arange(11)\n",
    "b = np.random.randint(1, 20, 10)\n",
    "np.savez('myarrays.npz', c = a, d = b)"
   ]
  },
  {
   "cell_type": "code",
   "execution_count": 96,
   "metadata": {
    "scrolled": true
   },
   "outputs": [
    {
     "data": {
      "text/plain": [
       "array([12, 18, 12,  1, 10, 14,  3,  1, 12, 17])"
      ]
     },
     "execution_count": 96,
     "metadata": {},
     "output_type": "execute_result"
    }
   ],
   "source": [
    "archived_arrays = np.load('myarrays.npz')\n",
    "archived_arrays['d']"
   ]
  },
  {
   "cell_type": "code",
   "execution_count": 97,
   "metadata": {},
   "outputs": [],
   "source": [
    "# Saving and loading arrays to a text file.\n",
    "\n",
    "a = np.random.randint(1, 40, 16).reshape(4, 4)\n",
    "np.savetxt('myarray.txt', a, delimiter = ',')"
   ]
  },
  {
   "cell_type": "code",
   "execution_count": 98,
   "metadata": {},
   "outputs": [
    {
     "data": {
      "text/plain": [
       "array([[ 8., 17., 29., 35.],\n",
       "       [ 8., 12.,  3., 29.],\n",
       "       [ 3., 16.,  2., 34.],\n",
       "       [13., 39.,  9., 30.]])"
      ]
     },
     "execution_count": 98,
     "metadata": {},
     "output_type": "execute_result"
    }
   ],
   "source": [
    "b = np.loadtxt('myarray.txt', delimiter = ',')\n",
    "b"
   ]
  }
 ],
 "metadata": {
  "kernelspec": {
   "display_name": "Python 3",
   "language": "python",
   "name": "python3"
  },
  "language_info": {
   "codemirror_mode": {
    "name": "ipython",
    "version": 3
   },
   "file_extension": ".py",
   "mimetype": "text/x-python",
   "name": "python",
   "nbconvert_exporter": "python",
   "pygments_lexer": "ipython3",
   "version": "3.7.4"
  }
 },
 "nbformat": 4,
 "nbformat_minor": 2
}
