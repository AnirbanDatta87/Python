{
 "cells": [
  {
   "cell_type": "code",
   "execution_count": 1,
   "metadata": {},
   "outputs": [
    {
     "name": "stdout",
     "output_type": "stream",
     "text": [
      "Requirement already satisfied: nba_api in d:\\programs\\lib\\site-packages (1.1.8)\n",
      "Requirement already satisfied: requests in d:\\programs\\lib\\site-packages (from nba_api) (2.22.0)\n",
      "Requirement already satisfied: certifi>=2017.4.17 in d:\\programs\\lib\\site-packages (from requests->nba_api) (2019.9.11)\n",
      "Requirement already satisfied: idna<2.9,>=2.5 in d:\\programs\\lib\\site-packages (from requests->nba_api) (2.8)\n",
      "Requirement already satisfied: chardet<3.1.0,>=3.0.2 in d:\\programs\\lib\\site-packages (from requests->nba_api) (3.0.4)\n",
      "Requirement already satisfied: urllib3!=1.25.0,!=1.25.1,<1.26,>=1.21.1 in d:\\programs\\lib\\site-packages (from requests->nba_api) (1.24.2)\n"
     ]
    }
   ],
   "source": [
    "!pip install nba_api"
   ]
  },
  {
   "cell_type": "code",
   "execution_count": 2,
   "metadata": {},
   "outputs": [],
   "source": [
    "import numpy as np\n",
    "import pandas as pd\n",
    "import matplotlib as mpl\n",
    "import matplotlib.pyplot as plt\n",
    "import seaborn as sns\n",
    "import warnings\n",
    "\n",
    "pd.plotting.register_matplotlib_converters()\n",
    "%matplotlib inline\n",
    "plt.style.use('seaborn-whitegrid')\n",
    "pd.set_option('display.max_columns', 500)\n",
    "warnings.filterwarnings(\"ignore\")"
   ]
  },
  {
   "cell_type": "code",
   "execution_count": 3,
   "metadata": {},
   "outputs": [],
   "source": [
    "def one_dict(list_dict):\n",
    "    keys=list_dict[0].keys()\n",
    "    out_dict={key:[] for key in keys}\n",
    "    for dict_ in list_dict:\n",
    "        for key, value in dict_.items():\n",
    "            out_dict[key].append(value)\n",
    "    return out_dict "
   ]
  },
  {
   "cell_type": "markdown",
   "metadata": {},
   "source": [
    "You create a dictionary, this is just data."
   ]
  },
  {
   "cell_type": "code",
   "execution_count": 4,
   "metadata": {},
   "outputs": [],
   "source": [
    "dict_={'a':[11,21,31],'b':[12,22,32]}"
   ]
  },
  {
   "cell_type": "markdown",
   "metadata": {},
   "source": [
    "When you create a Pandas object with the Dataframe constructor in API lingo, this is an \"instance\". The data in the dictionary is passed along to the pandas API. You then use the dataframe to communicate with the API."
   ]
  },
  {
   "cell_type": "code",
   "execution_count": 5,
   "metadata": {},
   "outputs": [
    {
     "data": {
      "text/plain": [
       "pandas.core.frame.DataFrame"
      ]
     },
     "execution_count": 5,
     "metadata": {},
     "output_type": "execute_result"
    }
   ],
   "source": [
    "df=pd.DataFrame(dict_)\n",
    "type(df)"
   ]
  },
  {
   "cell_type": "markdown",
   "metadata": {},
   "source": [
    "When you call the method head the dataframe communicates with the API displaying the first few rows of the dataframe."
   ]
  },
  {
   "cell_type": "code",
   "execution_count": 6,
   "metadata": {},
   "outputs": [
    {
     "data": {
      "text/html": [
       "<div>\n",
       "<style scoped>\n",
       "    .dataframe tbody tr th:only-of-type {\n",
       "        vertical-align: middle;\n",
       "    }\n",
       "\n",
       "    .dataframe tbody tr th {\n",
       "        vertical-align: top;\n",
       "    }\n",
       "\n",
       "    .dataframe thead th {\n",
       "        text-align: right;\n",
       "    }\n",
       "</style>\n",
       "<table border=\"1\" class=\"dataframe\">\n",
       "  <thead>\n",
       "    <tr style=\"text-align: right;\">\n",
       "      <th></th>\n",
       "      <th>a</th>\n",
       "      <th>b</th>\n",
       "    </tr>\n",
       "  </thead>\n",
       "  <tbody>\n",
       "    <tr>\n",
       "      <td>0</td>\n",
       "      <td>11</td>\n",
       "      <td>12</td>\n",
       "    </tr>\n",
       "    <tr>\n",
       "      <td>1</td>\n",
       "      <td>21</td>\n",
       "      <td>22</td>\n",
       "    </tr>\n",
       "    <tr>\n",
       "      <td>2</td>\n",
       "      <td>31</td>\n",
       "      <td>32</td>\n",
       "    </tr>\n",
       "  </tbody>\n",
       "</table>\n",
       "</div>"
      ],
      "text/plain": [
       "    a   b\n",
       "0  11  12\n",
       "1  21  22\n",
       "2  31  32"
      ]
     },
     "execution_count": 6,
     "metadata": {},
     "output_type": "execute_result"
    }
   ],
   "source": [
    "df.head()"
   ]
  },
  {
   "cell_type": "markdown",
   "metadata": {},
   "source": [
    "When you call the method mean,the API will calculate the mean and return the value."
   ]
  },
  {
   "cell_type": "code",
   "execution_count": 7,
   "metadata": {},
   "outputs": [
    {
     "data": {
      "text/plain": [
       "a    21.0\n",
       "b    22.0\n",
       "dtype: float64"
      ]
     },
     "execution_count": 7,
     "metadata": {},
     "output_type": "execute_result"
    }
   ],
   "source": [
    "df.mean()"
   ]
  },
  {
   "cell_type": "markdown",
   "metadata": {},
   "source": [
    "## REST API\n",
    "<p>Rest API’s function by sending a <b>request</b>,  the request is communicated via HTTP message. The HTTP message usually contains a JSON file. This contains instructions for what operation we would like the service or <b>resource</b> to perform. In a similar manner, API returns a <b>response</b>, via an HTTP message, this response is usually contained within a JSON.</p>\n",
    "<p>In this lab, we will use the <a href=https://pypi.org/project/nba-api/>NBA API</a> to determine how well the Golden State Warriors performed against the Toronto Raptors. We will use the API to determine the number of points the Golden State Warriors won or lost by for each game. So if the value is three, the Golden State Warriors won by three points. Similarly if the  Golden State Warriors lost  by two points, the result will be negative two. The API is will handle a lot of the details such a Endpoints and Authentication </p>"
   ]
  },
  {
   "cell_type": "markdown",
   "metadata": {},
   "source": [
    "In the <code>nba_api</code> to make a request for a specific team, it's quite simple, we don't require a JSON all we require is an id. This information is stored locally in the API. We import the module teams:"
   ]
  },
  {
   "cell_type": "code",
   "execution_count": 8,
   "metadata": {},
   "outputs": [],
   "source": [
    "from nba_api.stats.static import teams"
   ]
  },
  {
   "cell_type": "markdown",
   "metadata": {},
   "source": [
    "The method <code>get_teams()</code> returns a list of dictionaries, the dictionary key id has a unique identifier for each team as a value. "
   ]
  },
  {
   "cell_type": "code",
   "execution_count": 9,
   "metadata": {},
   "outputs": [],
   "source": [
    "nba_teams = teams.get_teams()\n",
    "# nba_teams"
   ]
  },
  {
   "cell_type": "code",
   "execution_count": 10,
   "metadata": {},
   "outputs": [
    {
     "data": {
      "text/plain": [
       "[{'id': 1610612737,\n",
       "  'full_name': 'Atlanta Hawks',\n",
       "  'abbreviation': 'ATL',\n",
       "  'nickname': 'Hawks',\n",
       "  'city': 'Atlanta',\n",
       "  'state': 'Atlanta',\n",
       "  'year_founded': 1949},\n",
       " {'id': 1610612738,\n",
       "  'full_name': 'Boston Celtics',\n",
       "  'abbreviation': 'BOS',\n",
       "  'nickname': 'Celtics',\n",
       "  'city': 'Boston',\n",
       "  'state': 'Massachusetts',\n",
       "  'year_founded': 1946},\n",
       " {'id': 1610612739,\n",
       "  'full_name': 'Cleveland Cavaliers',\n",
       "  'abbreviation': 'CLE',\n",
       "  'nickname': 'Cavaliers',\n",
       "  'city': 'Cleveland',\n",
       "  'state': 'Ohio',\n",
       "  'year_founded': 1970}]"
      ]
     },
     "execution_count": 10,
     "metadata": {},
     "output_type": "execute_result"
    }
   ],
   "source": [
    "nba_teams[0:3]"
   ]
  },
  {
   "cell_type": "markdown",
   "metadata": {},
   "source": [
    "To make things easier, we can convert the dictionary to a table. First, we use the function <code>one_dict</code>, to create a dictionary. We use the common keys for each team as the keys,  the value is a list; each element of the list corresponds to the values for each team.\n",
    "We then convert the dictionary to a dataframe, each row contains the information for a different team."
   ]
  },
  {
   "cell_type": "code",
   "execution_count": 11,
   "metadata": {},
   "outputs": [
    {
     "data": {
      "text/html": [
       "<div>\n",
       "<style scoped>\n",
       "    .dataframe tbody tr th:only-of-type {\n",
       "        vertical-align: middle;\n",
       "    }\n",
       "\n",
       "    .dataframe tbody tr th {\n",
       "        vertical-align: top;\n",
       "    }\n",
       "\n",
       "    .dataframe thead th {\n",
       "        text-align: right;\n",
       "    }\n",
       "</style>\n",
       "<table border=\"1\" class=\"dataframe\">\n",
       "  <thead>\n",
       "    <tr style=\"text-align: right;\">\n",
       "      <th></th>\n",
       "      <th>id</th>\n",
       "      <th>full_name</th>\n",
       "      <th>abbreviation</th>\n",
       "      <th>nickname</th>\n",
       "      <th>city</th>\n",
       "      <th>state</th>\n",
       "      <th>year_founded</th>\n",
       "    </tr>\n",
       "  </thead>\n",
       "  <tbody>\n",
       "    <tr>\n",
       "      <td>1</td>\n",
       "      <td>1610612738</td>\n",
       "      <td>Boston Celtics</td>\n",
       "      <td>BOS</td>\n",
       "      <td>Celtics</td>\n",
       "      <td>Boston</td>\n",
       "      <td>Massachusetts</td>\n",
       "      <td>1946</td>\n",
       "    </tr>\n",
       "    <tr>\n",
       "      <td>7</td>\n",
       "      <td>1610612744</td>\n",
       "      <td>Golden State Warriors</td>\n",
       "      <td>GSW</td>\n",
       "      <td>Warriors</td>\n",
       "      <td>Golden State</td>\n",
       "      <td>California</td>\n",
       "      <td>1946</td>\n",
       "    </tr>\n",
       "    <tr>\n",
       "      <td>15</td>\n",
       "      <td>1610612752</td>\n",
       "      <td>New York Knicks</td>\n",
       "      <td>NYK</td>\n",
       "      <td>Knicks</td>\n",
       "      <td>New York</td>\n",
       "      <td>New York</td>\n",
       "      <td>1946</td>\n",
       "    </tr>\n",
       "  </tbody>\n",
       "</table>\n",
       "</div>"
      ],
      "text/plain": [
       "            id              full_name abbreviation  nickname          city  \\\n",
       "1   1610612738         Boston Celtics          BOS   Celtics        Boston   \n",
       "7   1610612744  Golden State Warriors          GSW  Warriors  Golden State   \n",
       "15  1610612752        New York Knicks          NYK    Knicks      New York   \n",
       "\n",
       "            state  year_founded  \n",
       "1   Massachusetts          1946  \n",
       "7      California          1946  \n",
       "15       New York          1946  "
      ]
     },
     "execution_count": 11,
     "metadata": {},
     "output_type": "execute_result"
    }
   ],
   "source": [
    "dict_nba_team=one_dict(nba_teams)\n",
    "df_teams=pd.DataFrame(dict_nba_team)\n",
    "df_teams.head()\n",
    "df_teams[df_teams['year_founded'] == df_teams['year_founded'].min()]"
   ]
  },
  {
   "cell_type": "markdown",
   "metadata": {},
   "source": [
    "We will use the team's nickname to find the unique id, we can see the row that contains the warriors by using the column nickname as follows:"
   ]
  },
  {
   "cell_type": "code",
   "execution_count": 12,
   "metadata": {},
   "outputs": [
    {
     "data": {
      "text/html": [
       "<div>\n",
       "<style scoped>\n",
       "    .dataframe tbody tr th:only-of-type {\n",
       "        vertical-align: middle;\n",
       "    }\n",
       "\n",
       "    .dataframe tbody tr th {\n",
       "        vertical-align: top;\n",
       "    }\n",
       "\n",
       "    .dataframe thead th {\n",
       "        text-align: right;\n",
       "    }\n",
       "</style>\n",
       "<table border=\"1\" class=\"dataframe\">\n",
       "  <thead>\n",
       "    <tr style=\"text-align: right;\">\n",
       "      <th></th>\n",
       "      <th>id</th>\n",
       "      <th>full_name</th>\n",
       "      <th>abbreviation</th>\n",
       "      <th>nickname</th>\n",
       "      <th>city</th>\n",
       "      <th>state</th>\n",
       "      <th>year_founded</th>\n",
       "    </tr>\n",
       "  </thead>\n",
       "  <tbody>\n",
       "    <tr>\n",
       "      <td>7</td>\n",
       "      <td>1610612744</td>\n",
       "      <td>Golden State Warriors</td>\n",
       "      <td>GSW</td>\n",
       "      <td>Warriors</td>\n",
       "      <td>Golden State</td>\n",
       "      <td>California</td>\n",
       "      <td>1946</td>\n",
       "    </tr>\n",
       "  </tbody>\n",
       "</table>\n",
       "</div>"
      ],
      "text/plain": [
       "           id              full_name abbreviation  nickname          city  \\\n",
       "7  1610612744  Golden State Warriors          GSW  Warriors  Golden State   \n",
       "\n",
       "        state  year_founded  \n",
       "7  California          1946  "
      ]
     },
     "execution_count": 12,
     "metadata": {},
     "output_type": "execute_result"
    }
   ],
   "source": [
    "df_warriors=df_teams[df_teams['nickname']=='Warriors']\n",
    "df_warriors"
   ]
  },
  {
   "cell_type": "markdown",
   "metadata": {},
   "source": [
    "We can use the following line of code to access the first column of the dataframe:"
   ]
  },
  {
   "cell_type": "code",
   "execution_count": 13,
   "metadata": {},
   "outputs": [
    {
     "data": {
      "text/plain": [
       "1610612744"
      ]
     },
     "execution_count": 13,
     "metadata": {},
     "output_type": "execute_result"
    }
   ],
   "source": [
    "id_warriors=df_warriors[['id']].values[0][0]\n",
    "#we now have an integer that can be used   to request the Warriors information \n",
    "id_warriors"
   ]
  },
  {
   "cell_type": "markdown",
   "metadata": {},
   "source": [
    "The function \"League Game Finder \" will make an API call. It is in the module <code>stats.endpoints</code> "
   ]
  },
  {
   "cell_type": "code",
   "execution_count": 14,
   "metadata": {},
   "outputs": [],
   "source": [
    "from nba_api.stats.endpoints import leaguegamefinder"
   ]
  },
  {
   "cell_type": "markdown",
   "metadata": {},
   "source": [
    "The parameter <code>team_id_nullable</code> is the unique ID for the warriors. Under the hood, the NBA API is making a HTTP request.  \n",
    "The information requested is provided and is transmitted via an HTTP response this is assigned to the object <code>gamefinder</code>."
   ]
  },
  {
   "cell_type": "code",
   "execution_count": 15,
   "metadata": {},
   "outputs": [],
   "source": [
    "# Since https://stats.nba.com does lot allow api calls from Cloud IPs and Skills Network Labs uses a Cloud IP.\n",
    "# The following code is comment out, you can run it on jupyter labs on your own computer.\n",
    "gamefinder = leaguegamefinder.LeagueGameFinder(team_id_nullable=id_warriors)"
   ]
  },
  {
   "cell_type": "code",
   "execution_count": 16,
   "metadata": {},
   "outputs": [],
   "source": [
    "# we can see the json file by running the following line of code.\n",
    "# gamefinder.get_json()"
   ]
  },
  {
   "cell_type": "markdown",
   "metadata": {},
   "source": [
    "The game finder object has a method <code>get_data_frames()</code>, that returns a dataframe.  If we view the dataframe, we can see it contains information about all the games the Warriors played.  The <code>PLUS_MINUS</code> column contains information on the score, if the value is negative the Warriors lost by that many points, if the value is positive, the warriors one by that amount of points. The column <code>MATCHUP </code>had the team the Warriors were playing, GSW stands for golden state and TOR means Toronto Raptors; <code>vs</code> signifies it was a home game and the <code>@ </code>symbol means an away game."
   ]
  },
  {
   "cell_type": "code",
   "execution_count": 17,
   "metadata": {},
   "outputs": [
    {
     "data": {
      "text/html": [
       "<div>\n",
       "<style scoped>\n",
       "    .dataframe tbody tr th:only-of-type {\n",
       "        vertical-align: middle;\n",
       "    }\n",
       "\n",
       "    .dataframe tbody tr th {\n",
       "        vertical-align: top;\n",
       "    }\n",
       "\n",
       "    .dataframe thead th {\n",
       "        text-align: right;\n",
       "    }\n",
       "</style>\n",
       "<table border=\"1\" class=\"dataframe\">\n",
       "  <thead>\n",
       "    <tr style=\"text-align: right;\">\n",
       "      <th></th>\n",
       "      <th>SEASON_ID</th>\n",
       "      <th>TEAM_ID</th>\n",
       "      <th>TEAM_ABBREVIATION</th>\n",
       "      <th>TEAM_NAME</th>\n",
       "      <th>GAME_ID</th>\n",
       "      <th>GAME_DATE</th>\n",
       "      <th>MATCHUP</th>\n",
       "      <th>WL</th>\n",
       "      <th>MIN</th>\n",
       "      <th>PTS</th>\n",
       "      <th>FGM</th>\n",
       "      <th>FGA</th>\n",
       "      <th>FG_PCT</th>\n",
       "      <th>FG3M</th>\n",
       "      <th>FG3A</th>\n",
       "      <th>FG3_PCT</th>\n",
       "      <th>FTM</th>\n",
       "      <th>FTA</th>\n",
       "      <th>FT_PCT</th>\n",
       "      <th>OREB</th>\n",
       "      <th>DREB</th>\n",
       "      <th>REB</th>\n",
       "      <th>AST</th>\n",
       "      <th>STL</th>\n",
       "      <th>BLK</th>\n",
       "      <th>TOV</th>\n",
       "      <th>PF</th>\n",
       "      <th>PLUS_MINUS</th>\n",
       "    </tr>\n",
       "  </thead>\n",
       "  <tbody>\n",
       "    <tr>\n",
       "      <td>0</td>\n",
       "      <td>22019</td>\n",
       "      <td>1610612744</td>\n",
       "      <td>GSW</td>\n",
       "      <td>Golden State Warriors</td>\n",
       "      <td>0021900815</td>\n",
       "      <td>2020-02-12</td>\n",
       "      <td>GSW @ PHX</td>\n",
       "      <td>L</td>\n",
       "      <td>240</td>\n",
       "      <td>106</td>\n",
       "      <td>39</td>\n",
       "      <td>77</td>\n",
       "      <td>0.506</td>\n",
       "      <td>11</td>\n",
       "      <td>31.0</td>\n",
       "      <td>0.355</td>\n",
       "      <td>17</td>\n",
       "      <td>19</td>\n",
       "      <td>0.895</td>\n",
       "      <td>4.0</td>\n",
       "      <td>34.0</td>\n",
       "      <td>38.0</td>\n",
       "      <td>27</td>\n",
       "      <td>8</td>\n",
       "      <td>7</td>\n",
       "      <td>22</td>\n",
       "      <td>20</td>\n",
       "      <td>-6.0</td>\n",
       "    </tr>\n",
       "    <tr>\n",
       "      <td>1</td>\n",
       "      <td>22019</td>\n",
       "      <td>1610612744</td>\n",
       "      <td>GSW</td>\n",
       "      <td>Golden State Warriors</td>\n",
       "      <td>0021900800</td>\n",
       "      <td>2020-02-10</td>\n",
       "      <td>GSW vs. MIA</td>\n",
       "      <td>L</td>\n",
       "      <td>240</td>\n",
       "      <td>101</td>\n",
       "      <td>30</td>\n",
       "      <td>77</td>\n",
       "      <td>0.390</td>\n",
       "      <td>11</td>\n",
       "      <td>34.0</td>\n",
       "      <td>0.324</td>\n",
       "      <td>30</td>\n",
       "      <td>34</td>\n",
       "      <td>0.882</td>\n",
       "      <td>6.0</td>\n",
       "      <td>34.0</td>\n",
       "      <td>40.0</td>\n",
       "      <td>23</td>\n",
       "      <td>8</td>\n",
       "      <td>2</td>\n",
       "      <td>15</td>\n",
       "      <td>21</td>\n",
       "      <td>-12.0</td>\n",
       "    </tr>\n",
       "    <tr>\n",
       "      <td>2</td>\n",
       "      <td>22019</td>\n",
       "      <td>1610612744</td>\n",
       "      <td>GSW</td>\n",
       "      <td>Golden State Warriors</td>\n",
       "      <td>0021900783</td>\n",
       "      <td>2020-02-08</td>\n",
       "      <td>GSW vs. LAL</td>\n",
       "      <td>L</td>\n",
       "      <td>238</td>\n",
       "      <td>120</td>\n",
       "      <td>46</td>\n",
       "      <td>89</td>\n",
       "      <td>0.517</td>\n",
       "      <td>13</td>\n",
       "      <td>32.0</td>\n",
       "      <td>0.406</td>\n",
       "      <td>15</td>\n",
       "      <td>23</td>\n",
       "      <td>0.652</td>\n",
       "      <td>8.0</td>\n",
       "      <td>25.0</td>\n",
       "      <td>33.0</td>\n",
       "      <td>31</td>\n",
       "      <td>15</td>\n",
       "      <td>6</td>\n",
       "      <td>18</td>\n",
       "      <td>27</td>\n",
       "      <td>-5.0</td>\n",
       "    </tr>\n",
       "    <tr>\n",
       "      <td>3</td>\n",
       "      <td>22019</td>\n",
       "      <td>1610612744</td>\n",
       "      <td>GSW</td>\n",
       "      <td>Golden State Warriors</td>\n",
       "      <td>0021900757</td>\n",
       "      <td>2020-02-05</td>\n",
       "      <td>GSW @ BKN</td>\n",
       "      <td>L</td>\n",
       "      <td>241</td>\n",
       "      <td>88</td>\n",
       "      <td>35</td>\n",
       "      <td>96</td>\n",
       "      <td>0.365</td>\n",
       "      <td>5</td>\n",
       "      <td>39.0</td>\n",
       "      <td>0.128</td>\n",
       "      <td>13</td>\n",
       "      <td>18</td>\n",
       "      <td>0.722</td>\n",
       "      <td>7.0</td>\n",
       "      <td>27.0</td>\n",
       "      <td>34.0</td>\n",
       "      <td>20</td>\n",
       "      <td>6</td>\n",
       "      <td>7</td>\n",
       "      <td>7</td>\n",
       "      <td>14</td>\n",
       "      <td>-41.0</td>\n",
       "    </tr>\n",
       "    <tr>\n",
       "      <td>4</td>\n",
       "      <td>22019</td>\n",
       "      <td>1610612744</td>\n",
       "      <td>GSW</td>\n",
       "      <td>Golden State Warriors</td>\n",
       "      <td>0021900744</td>\n",
       "      <td>2020-02-03</td>\n",
       "      <td>GSW @ WAS</td>\n",
       "      <td>W</td>\n",
       "      <td>241</td>\n",
       "      <td>125</td>\n",
       "      <td>43</td>\n",
       "      <td>87</td>\n",
       "      <td>0.494</td>\n",
       "      <td>15</td>\n",
       "      <td>30.0</td>\n",
       "      <td>0.500</td>\n",
       "      <td>24</td>\n",
       "      <td>31</td>\n",
       "      <td>0.774</td>\n",
       "      <td>12.0</td>\n",
       "      <td>32.0</td>\n",
       "      <td>44.0</td>\n",
       "      <td>31</td>\n",
       "      <td>8</td>\n",
       "      <td>6</td>\n",
       "      <td>14</td>\n",
       "      <td>25</td>\n",
       "      <td>8.0</td>\n",
       "    </tr>\n",
       "  </tbody>\n",
       "</table>\n",
       "</div>"
      ],
      "text/plain": [
       "  SEASON_ID     TEAM_ID TEAM_ABBREVIATION              TEAM_NAME     GAME_ID  \\\n",
       "0     22019  1610612744               GSW  Golden State Warriors  0021900815   \n",
       "1     22019  1610612744               GSW  Golden State Warriors  0021900800   \n",
       "2     22019  1610612744               GSW  Golden State Warriors  0021900783   \n",
       "3     22019  1610612744               GSW  Golden State Warriors  0021900757   \n",
       "4     22019  1610612744               GSW  Golden State Warriors  0021900744   \n",
       "\n",
       "    GAME_DATE      MATCHUP WL  MIN  PTS  FGM  FGA  FG_PCT  FG3M  FG3A  \\\n",
       "0  2020-02-12    GSW @ PHX  L  240  106   39   77   0.506    11  31.0   \n",
       "1  2020-02-10  GSW vs. MIA  L  240  101   30   77   0.390    11  34.0   \n",
       "2  2020-02-08  GSW vs. LAL  L  238  120   46   89   0.517    13  32.0   \n",
       "3  2020-02-05    GSW @ BKN  L  241   88   35   96   0.365     5  39.0   \n",
       "4  2020-02-03    GSW @ WAS  W  241  125   43   87   0.494    15  30.0   \n",
       "\n",
       "   FG3_PCT  FTM  FTA  FT_PCT  OREB  DREB   REB  AST  STL  BLK  TOV  PF  \\\n",
       "0    0.355   17   19   0.895   4.0  34.0  38.0   27    8    7   22  20   \n",
       "1    0.324   30   34   0.882   6.0  34.0  40.0   23    8    2   15  21   \n",
       "2    0.406   15   23   0.652   8.0  25.0  33.0   31   15    6   18  27   \n",
       "3    0.128   13   18   0.722   7.0  27.0  34.0   20    6    7    7  14   \n",
       "4    0.500   24   31   0.774  12.0  32.0  44.0   31    8    6   14  25   \n",
       "\n",
       "   PLUS_MINUS  \n",
       "0        -6.0  \n",
       "1       -12.0  \n",
       "2        -5.0  \n",
       "3       -41.0  \n",
       "4         8.0  "
      ]
     },
     "execution_count": 17,
     "metadata": {},
     "output_type": "execute_result"
    }
   ],
   "source": [
    "games = gamefinder.get_data_frames()[0]\n",
    "games.head()"
   ]
  },
  {
   "cell_type": "markdown",
   "metadata": {},
   "source": [
    "You can download the dataframe from the API call for Golden State and run the rest like a video."
   ]
  },
  {
   "cell_type": "code",
   "execution_count": 18,
   "metadata": {},
   "outputs": [],
   "source": [
    "# ! wget https://s3-api.us-geo.objectstorage.softlayer.net/cf-courses data/CognitiveClass/PY0101EN/Chapter%205/Labs/Golden_State.pkl"
   ]
  },
  {
   "cell_type": "code",
   "execution_count": 19,
   "metadata": {},
   "outputs": [
    {
     "data": {
      "text/plain": [
       "('Golden_State.pkl', <http.client.HTTPMessage at 0xc163788>)"
      ]
     },
     "execution_count": 19,
     "metadata": {},
     "output_type": "execute_result"
    }
   ],
   "source": [
    "import urllib.request\n",
    "url = 'https://s3-api.us-geo.objectstorage.softlayer.net/cf-courses-data/CognitiveClass/PY0101EN/Chapter%205/Labs/Golden_State.pkl'\n",
    "filename = 'Golden_State.pkl'\n",
    "urllib.request.urlretrieve(url, filename)"
   ]
  },
  {
   "cell_type": "code",
   "execution_count": 20,
   "metadata": {},
   "outputs": [
    {
     "data": {
      "text/html": [
       "<div>\n",
       "<style scoped>\n",
       "    .dataframe tbody tr th:only-of-type {\n",
       "        vertical-align: middle;\n",
       "    }\n",
       "\n",
       "    .dataframe tbody tr th {\n",
       "        vertical-align: top;\n",
       "    }\n",
       "\n",
       "    .dataframe thead th {\n",
       "        text-align: right;\n",
       "    }\n",
       "</style>\n",
       "<table border=\"1\" class=\"dataframe\">\n",
       "  <thead>\n",
       "    <tr style=\"text-align: right;\">\n",
       "      <th></th>\n",
       "      <th>SEASON_ID</th>\n",
       "      <th>TEAM_ID</th>\n",
       "      <th>TEAM_ABBREVIATION</th>\n",
       "      <th>TEAM_NAME</th>\n",
       "      <th>GAME_ID</th>\n",
       "      <th>GAME_DATE</th>\n",
       "      <th>MATCHUP</th>\n",
       "      <th>WL</th>\n",
       "      <th>MIN</th>\n",
       "      <th>PTS</th>\n",
       "      <th>FGM</th>\n",
       "      <th>FGA</th>\n",
       "      <th>FG_PCT</th>\n",
       "      <th>FG3M</th>\n",
       "      <th>FG3A</th>\n",
       "      <th>FG3_PCT</th>\n",
       "      <th>FTM</th>\n",
       "      <th>FTA</th>\n",
       "      <th>FT_PCT</th>\n",
       "      <th>OREB</th>\n",
       "      <th>DREB</th>\n",
       "      <th>REB</th>\n",
       "      <th>AST</th>\n",
       "      <th>STL</th>\n",
       "      <th>BLK</th>\n",
       "      <th>TOV</th>\n",
       "      <th>PF</th>\n",
       "      <th>PLUS_MINUS</th>\n",
       "    </tr>\n",
       "  </thead>\n",
       "  <tbody>\n",
       "    <tr>\n",
       "      <td>0</td>\n",
       "      <td>22019</td>\n",
       "      <td>1610612744</td>\n",
       "      <td>GSW</td>\n",
       "      <td>Golden State Warriors</td>\n",
       "      <td>1521900066</td>\n",
       "      <td>2019-07-12</td>\n",
       "      <td>GSW vs. LAL</td>\n",
       "      <td>L</td>\n",
       "      <td>200</td>\n",
       "      <td>87</td>\n",
       "      <td>32</td>\n",
       "      <td>82</td>\n",
       "      <td>0.390</td>\n",
       "      <td>7</td>\n",
       "      <td>31.0</td>\n",
       "      <td>0.226</td>\n",
       "      <td>16</td>\n",
       "      <td>20</td>\n",
       "      <td>0.800</td>\n",
       "      <td>13.0</td>\n",
       "      <td>29.0</td>\n",
       "      <td>42.0</td>\n",
       "      <td>13</td>\n",
       "      <td>10.0</td>\n",
       "      <td>3</td>\n",
       "      <td>11.0</td>\n",
       "      <td>21</td>\n",
       "      <td>3.2</td>\n",
       "    </tr>\n",
       "    <tr>\n",
       "      <td>1</td>\n",
       "      <td>22019</td>\n",
       "      <td>1610612744</td>\n",
       "      <td>GSW</td>\n",
       "      <td>Golden State Warriors</td>\n",
       "      <td>1521900058</td>\n",
       "      <td>2019-07-10</td>\n",
       "      <td>GSW @ DEN</td>\n",
       "      <td>W</td>\n",
       "      <td>201</td>\n",
       "      <td>73</td>\n",
       "      <td>29</td>\n",
       "      <td>66</td>\n",
       "      <td>0.439</td>\n",
       "      <td>2</td>\n",
       "      <td>15.0</td>\n",
       "      <td>0.133</td>\n",
       "      <td>13</td>\n",
       "      <td>15</td>\n",
       "      <td>0.867</td>\n",
       "      <td>7.0</td>\n",
       "      <td>27.0</td>\n",
       "      <td>34.0</td>\n",
       "      <td>10</td>\n",
       "      <td>11.0</td>\n",
       "      <td>7</td>\n",
       "      <td>20.0</td>\n",
       "      <td>20</td>\n",
       "      <td>-8.0</td>\n",
       "    </tr>\n",
       "    <tr>\n",
       "      <td>2</td>\n",
       "      <td>22019</td>\n",
       "      <td>1610612744</td>\n",
       "      <td>GSW</td>\n",
       "      <td>Golden State Warriors</td>\n",
       "      <td>1521900039</td>\n",
       "      <td>2019-07-08</td>\n",
       "      <td>GSW @ LAL</td>\n",
       "      <td>W</td>\n",
       "      <td>200</td>\n",
       "      <td>88</td>\n",
       "      <td>32</td>\n",
       "      <td>74</td>\n",
       "      <td>0.432</td>\n",
       "      <td>6</td>\n",
       "      <td>28.0</td>\n",
       "      <td>0.214</td>\n",
       "      <td>18</td>\n",
       "      <td>29</td>\n",
       "      <td>0.621</td>\n",
       "      <td>8.0</td>\n",
       "      <td>29.0</td>\n",
       "      <td>37.0</td>\n",
       "      <td>21</td>\n",
       "      <td>10.0</td>\n",
       "      <td>4</td>\n",
       "      <td>13.0</td>\n",
       "      <td>22</td>\n",
       "      <td>8.0</td>\n",
       "    </tr>\n",
       "  </tbody>\n",
       "</table>\n",
       "</div>"
      ],
      "text/plain": [
       "  SEASON_ID     TEAM_ID TEAM_ABBREVIATION              TEAM_NAME     GAME_ID  \\\n",
       "0     22019  1610612744               GSW  Golden State Warriors  1521900066   \n",
       "1     22019  1610612744               GSW  Golden State Warriors  1521900058   \n",
       "2     22019  1610612744               GSW  Golden State Warriors  1521900039   \n",
       "\n",
       "    GAME_DATE      MATCHUP WL  MIN  PTS  FGM  FGA  FG_PCT  FG3M  FG3A  \\\n",
       "0  2019-07-12  GSW vs. LAL  L  200   87   32   82   0.390     7  31.0   \n",
       "1  2019-07-10    GSW @ DEN  W  201   73   29   66   0.439     2  15.0   \n",
       "2  2019-07-08    GSW @ LAL  W  200   88   32   74   0.432     6  28.0   \n",
       "\n",
       "   FG3_PCT  FTM  FTA  FT_PCT  OREB  DREB   REB  AST   STL  BLK   TOV  PF  \\\n",
       "0    0.226   16   20   0.800  13.0  29.0  42.0   13  10.0    3  11.0  21   \n",
       "1    0.133   13   15   0.867   7.0  27.0  34.0   10  11.0    7  20.0  20   \n",
       "2    0.214   18   29   0.621   8.0  29.0  37.0   21  10.0    4  13.0  22   \n",
       "\n",
       "   PLUS_MINUS  \n",
       "0         3.2  \n",
       "1        -8.0  \n",
       "2         8.0  "
      ]
     },
     "execution_count": 20,
     "metadata": {},
     "output_type": "execute_result"
    }
   ],
   "source": [
    "file_name = \"Golden_State.pkl\"\n",
    "games = pd.read_pickle(file_name)\n",
    "games.head(3)"
   ]
  },
  {
   "cell_type": "markdown",
   "metadata": {},
   "source": [
    "We can create two dataframes, one  for the games that the Warriors faced the raptors at home and the second for away games."
   ]
  },
  {
   "cell_type": "code",
   "execution_count": 21,
   "metadata": {},
   "outputs": [],
   "source": [
    "games_home=games [games ['MATCHUP']=='GSW vs. TOR']\n",
    "games_away=games [games ['MATCHUP']=='GSW @ TOR']"
   ]
  },
  {
   "cell_type": "markdown",
   "metadata": {},
   "source": [
    "games_home=games [games ['MATCHUP']=='GSW vs. TOR']\n",
    "games_away=games [games ['MATCHUP']=='GSW @ TOR']"
   ]
  },
  {
   "cell_type": "code",
   "execution_count": 22,
   "metadata": {},
   "outputs": [
    {
     "data": {
      "text/plain": [
       "3.730769230769231"
      ]
     },
     "execution_count": 22,
     "metadata": {},
     "output_type": "execute_result"
    }
   ],
   "source": [
    "games_home.mean()['PLUS_MINUS']"
   ]
  },
  {
   "cell_type": "code",
   "execution_count": 23,
   "metadata": {},
   "outputs": [
    {
     "data": {
      "text/plain": [
       "3.730769230769231"
      ]
     },
     "execution_count": 23,
     "metadata": {},
     "output_type": "execute_result"
    }
   ],
   "source": [
    "games_home.mean()['PLUS_MINUS']"
   ]
  },
  {
   "cell_type": "code",
   "execution_count": 24,
   "metadata": {},
   "outputs": [
    {
     "data": {
      "text/plain": [
       "-0.6071428571428571"
      ]
     },
     "execution_count": 24,
     "metadata": {},
     "output_type": "execute_result"
    }
   ],
   "source": [
    "games_away.mean()['PLUS_MINUS']"
   ]
  },
  {
   "cell_type": "markdown",
   "metadata": {},
   "source": [
    "We can plot out the <code>PLUS MINUS</code> column for  for the dataframes  <code>games_home</code> and <code> games_away</code>.\n",
    "We see the warriors played better at home."
   ]
  },
  {
   "cell_type": "code",
   "execution_count": 25,
   "metadata": {},
   "outputs": [
    {
     "data": {
      "image/png": "[encoded data removed]",
      "text/plain": [
       "<Figure size 432x288 with 1 Axes>"
      ]
     },
     "metadata": {
      "needs_background": "light"
     },
     "output_type": "display_data"
    }
   ],
   "source": [
    "fig, ax = plt.subplots()\n",
    "\n",
    "games_away.plot(x='GAME_DATE',y='PLUS_MINUS', ax=ax)\n",
    "games_home.plot(x='GAME_DATE',y='PLUS_MINUS', ax=ax)\n",
    "ax.legend([\"away\", \"home\"])\n",
    "plt.show()"
   ]
  }
 ],
 "metadata": {
  "kernelspec": {
   "display_name": "Python 3",
   "language": "python",
   "name": "python3"
  },
  "language_info": {
   "codemirror_mode": {
    "name": "ipython",
    "version": 3
   },
   "file_extension": ".py",
   "mimetype": "text/x-python",
   "name": "python",
   "nbconvert_exporter": "python",
   "pygments_lexer": "ipython3",
   "version": "3.7.4"
  }
 },
 "nbformat": 4,
 "nbformat_minor": 2
}
