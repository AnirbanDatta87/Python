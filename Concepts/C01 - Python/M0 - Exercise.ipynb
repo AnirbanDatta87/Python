{
 "cells": [
  {
   "cell_type": "code",
   "execution_count": 1,
   "metadata": {
    "scrolled": true
   },
   "outputs": [
    {
     "data": {
      "text/plain": [
       "array([20.        , 19.6122449 , 19.2244898 , 18.83673469, 18.44897959,\n",
       "       18.06122449, 17.67346939, 17.28571429, 16.89795918, 16.51020408,\n",
       "       16.12244898, 15.73469388, 15.34693878, 14.95918367, 14.57142857,\n",
       "       14.18367347, 13.79591837, 13.40816327, 13.02040816, 12.63265306,\n",
       "       12.24489796, 11.85714286, 11.46938776, 11.08163265, 10.69387755,\n",
       "       10.30612245,  9.91836735,  9.53061224,  9.14285714,  8.75510204,\n",
       "        8.36734694,  7.97959184,  7.59183673,  7.20408163,  6.81632653,\n",
       "        6.42857143,  6.04081633,  5.65306122,  5.26530612,  4.87755102,\n",
       "        4.48979592,  4.10204082,  3.71428571,  3.32653061,  2.93877551,\n",
       "        2.55102041,  2.16326531,  1.7755102 ,  1.3877551 ,  1.        ])"
      ]
     },
     "execution_count": 1,
     "metadata": {},
     "output_type": "execute_result"
    }
   ],
   "source": [
    "import numpy as np\n",
    "np.array((np.linspace(20, stop = 1)))"
   ]
  },
  {
   "cell_type": "code",
   "execution_count": 2,
   "metadata": {},
   "outputs": [
    {
     "data": {
      "text/plain": [
       "[1, 3, 5, 7, 9]"
      ]
     },
     "execution_count": 2,
     "metadata": {},
     "output_type": "execute_result"
    }
   ],
   "source": [
    "l1 = [1, 3, 5, 7]\n",
    "l1.append(9)\n",
    "l1"
   ]
  },
  {
   "cell_type": "code",
   "execution_count": 3,
   "metadata": {
    "scrolled": true
   },
   "outputs": [
    {
     "name": "stdout",
     "output_type": "stream",
     "text": [
      "[('Name', 'Mobile', 'Email', 'Address', 'City')]\n"
     ]
    }
   ],
   "source": [
    "from itertools import permutations, combinations\n",
    "perm5 = combinations(['Name', 'Mobile', 'Email', 'Address', 'City'], 5)\n",
    "print(list(perm5))"
   ]
  },
  {
   "cell_type": "code",
   "execution_count": 4,
   "metadata": {},
   "outputs": [
    {
     "name": "stdout",
     "output_type": "stream",
     "text": [
      "[('Name', 'Mobile', 'Email', 'Address'), ('Name', 'Mobile', 'Email', 'City'), ('Name', 'Mobile', 'Address', 'City'), ('Name', 'Email', 'Address', 'City'), ('Mobile', 'Email', 'Address', 'City')]\n"
     ]
    }
   ],
   "source": [
    "perm4 = combinations(['Name', 'Mobile', 'Email', 'Address', 'City'], 4)\n",
    "print(list(perm4))"
   ]
  },
  {
   "cell_type": "code",
   "execution_count": 5,
   "metadata": {},
   "outputs": [
    {
     "data": {
      "text/html": [
       "<div>\n",
       "<style scoped>\n",
       "    .dataframe tbody tr th:only-of-type {\n",
       "        vertical-align: middle;\n",
       "    }\n",
       "\n",
       "    .dataframe tbody tr th {\n",
       "        vertical-align: top;\n",
       "    }\n",
       "\n",
       "    .dataframe thead th {\n",
       "        text-align: right;\n",
       "    }\n",
       "</style>\n",
       "<table border=\"1\" class=\"dataframe\">\n",
       "  <thead>\n",
       "    <tr style=\"text-align: right;\">\n",
       "      <th></th>\n",
       "      <th>Attr1</th>\n",
       "      <th>Attr2</th>\n",
       "      <th>Attr3</th>\n",
       "    </tr>\n",
       "  </thead>\n",
       "  <tbody>\n",
       "    <tr>\n",
       "      <td>0</td>\n",
       "      <td>Name</td>\n",
       "      <td>Mobile</td>\n",
       "      <td>Email</td>\n",
       "    </tr>\n",
       "    <tr>\n",
       "      <td>1</td>\n",
       "      <td>Name</td>\n",
       "      <td>Mobile</td>\n",
       "      <td>Address</td>\n",
       "    </tr>\n",
       "    <tr>\n",
       "      <td>2</td>\n",
       "      <td>Name</td>\n",
       "      <td>Mobile</td>\n",
       "      <td>City</td>\n",
       "    </tr>\n",
       "    <tr>\n",
       "      <td>3</td>\n",
       "      <td>Name</td>\n",
       "      <td>Email</td>\n",
       "      <td>Address</td>\n",
       "    </tr>\n",
       "    <tr>\n",
       "      <td>4</td>\n",
       "      <td>Name</td>\n",
       "      <td>Email</td>\n",
       "      <td>City</td>\n",
       "    </tr>\n",
       "    <tr>\n",
       "      <td>5</td>\n",
       "      <td>Name</td>\n",
       "      <td>Address</td>\n",
       "      <td>City</td>\n",
       "    </tr>\n",
       "    <tr>\n",
       "      <td>6</td>\n",
       "      <td>Mobile</td>\n",
       "      <td>Email</td>\n",
       "      <td>Address</td>\n",
       "    </tr>\n",
       "    <tr>\n",
       "      <td>7</td>\n",
       "      <td>Mobile</td>\n",
       "      <td>Email</td>\n",
       "      <td>City</td>\n",
       "    </tr>\n",
       "    <tr>\n",
       "      <td>8</td>\n",
       "      <td>Mobile</td>\n",
       "      <td>Address</td>\n",
       "      <td>City</td>\n",
       "    </tr>\n",
       "    <tr>\n",
       "      <td>9</td>\n",
       "      <td>Email</td>\n",
       "      <td>Address</td>\n",
       "      <td>City</td>\n",
       "    </tr>\n",
       "  </tbody>\n",
       "</table>\n",
       "</div>"
      ],
      "text/plain": [
       "    Attr1    Attr2    Attr3\n",
       "0    Name   Mobile    Email\n",
       "1    Name   Mobile  Address\n",
       "2    Name   Mobile     City\n",
       "3    Name    Email  Address\n",
       "4    Name    Email     City\n",
       "5    Name  Address     City\n",
       "6  Mobile    Email  Address\n",
       "7  Mobile    Email     City\n",
       "8  Mobile  Address     City\n",
       "9   Email  Address     City"
      ]
     },
     "execution_count": 5,
     "metadata": {},
     "output_type": "execute_result"
    }
   ],
   "source": [
    "import numpy as np\n",
    "import pandas as pd\n",
    "combination_3 = combinations(['Name', 'Mobile', 'Email', 'Address', 'City'], 3)\n",
    "lst = list(combination_3)\n",
    "l = np.array(lst)\n",
    "df3 = pd.DataFrame(l, columns = ['Attr1', 'Attr2', 'Attr3'])\n",
    "df3"
   ]
  },
  {
   "cell_type": "code",
   "execution_count": 6,
   "metadata": {
    "scrolled": true
   },
   "outputs": [
    {
     "data": {
      "text/html": [
       "<div>\n",
       "<style scoped>\n",
       "    .dataframe tbody tr th:only-of-type {\n",
       "        vertical-align: middle;\n",
       "    }\n",
       "\n",
       "    .dataframe tbody tr th {\n",
       "        vertical-align: top;\n",
       "    }\n",
       "\n",
       "    .dataframe thead th {\n",
       "        text-align: right;\n",
       "    }\n",
       "</style>\n",
       "<table border=\"1\" class=\"dataframe\">\n",
       "  <thead>\n",
       "    <tr style=\"text-align: right;\">\n",
       "      <th></th>\n",
       "      <th>Attr1</th>\n",
       "      <th>Attr2</th>\n",
       "      <th>Attr3</th>\n",
       "      <th>Attr4</th>\n",
       "    </tr>\n",
       "  </thead>\n",
       "  <tbody>\n",
       "    <tr>\n",
       "      <td>0</td>\n",
       "      <td>Name</td>\n",
       "      <td>Mobile</td>\n",
       "      <td>Email</td>\n",
       "      <td>Address</td>\n",
       "    </tr>\n",
       "    <tr>\n",
       "      <td>1</td>\n",
       "      <td>Name</td>\n",
       "      <td>Mobile</td>\n",
       "      <td>Email</td>\n",
       "      <td>City</td>\n",
       "    </tr>\n",
       "    <tr>\n",
       "      <td>2</td>\n",
       "      <td>Name</td>\n",
       "      <td>Mobile</td>\n",
       "      <td>Address</td>\n",
       "      <td>City</td>\n",
       "    </tr>\n",
       "    <tr>\n",
       "      <td>3</td>\n",
       "      <td>Name</td>\n",
       "      <td>Email</td>\n",
       "      <td>Address</td>\n",
       "      <td>City</td>\n",
       "    </tr>\n",
       "    <tr>\n",
       "      <td>4</td>\n",
       "      <td>Mobile</td>\n",
       "      <td>Email</td>\n",
       "      <td>Address</td>\n",
       "      <td>City</td>\n",
       "    </tr>\n",
       "  </tbody>\n",
       "</table>\n",
       "</div>"
      ],
      "text/plain": [
       "    Attr1   Attr2    Attr3    Attr4\n",
       "0    Name  Mobile    Email  Address\n",
       "1    Name  Mobile    Email     City\n",
       "2    Name  Mobile  Address     City\n",
       "3    Name   Email  Address     City\n",
       "4  Mobile   Email  Address     City"
      ]
     },
     "execution_count": 6,
     "metadata": {},
     "output_type": "execute_result"
    }
   ],
   "source": [
    "combination_4 = combinations(['Name', 'Mobile', 'Email', 'Address', 'City'], 4)\n",
    "lst = list(combination_4)\n",
    "l = np.array(lst)\n",
    "df2 = pd.DataFrame(l, columns = ['Attr1', 'Attr2', 'Attr3', 'Attr4'])\n",
    "df2"
   ]
  },
  {
   "cell_type": "code",
   "execution_count": 7,
   "metadata": {},
   "outputs": [
    {
     "data": {
      "text/html": [
       "<div>\n",
       "<style scoped>\n",
       "    .dataframe tbody tr th:only-of-type {\n",
       "        vertical-align: middle;\n",
       "    }\n",
       "\n",
       "    .dataframe tbody tr th {\n",
       "        vertical-align: top;\n",
       "    }\n",
       "\n",
       "    .dataframe thead th {\n",
       "        text-align: right;\n",
       "    }\n",
       "</style>\n",
       "<table border=\"1\" class=\"dataframe\">\n",
       "  <thead>\n",
       "    <tr style=\"text-align: right;\">\n",
       "      <th></th>\n",
       "      <th>Attr1</th>\n",
       "      <th>Attr2</th>\n",
       "      <th>Attr3</th>\n",
       "      <th>Attr4</th>\n",
       "      <th>Attr5</th>\n",
       "    </tr>\n",
       "  </thead>\n",
       "  <tbody>\n",
       "    <tr>\n",
       "      <td>0</td>\n",
       "      <td>Name</td>\n",
       "      <td>Mobile</td>\n",
       "      <td>Email</td>\n",
       "      <td>Address</td>\n",
       "      <td>City</td>\n",
       "    </tr>\n",
       "  </tbody>\n",
       "</table>\n",
       "</div>"
      ],
      "text/plain": [
       "  Attr1   Attr2  Attr3    Attr4 Attr5\n",
       "0  Name  Mobile  Email  Address  City"
      ]
     },
     "execution_count": 7,
     "metadata": {},
     "output_type": "execute_result"
    }
   ],
   "source": [
    "combination_5 = combinations(['Name', 'Mobile', 'Email', 'Address', 'City'], 5)\n",
    "lst = list(combination_5)\n",
    "l = np.array(lst)\n",
    "df = pd.DataFrame(l, columns = ['Attr1', 'Attr2', 'Attr3', 'Attr4', 'Attr5'])\n",
    "df"
   ]
  },
  {
   "cell_type": "code",
   "execution_count": 8,
   "metadata": {
    "scrolled": false
   },
   "outputs": [
    {
     "data": {
      "text/html": [
       "<div>\n",
       "<style scoped>\n",
       "    .dataframe tbody tr th:only-of-type {\n",
       "        vertical-align: middle;\n",
       "    }\n",
       "\n",
       "    .dataframe tbody tr th {\n",
       "        vertical-align: top;\n",
       "    }\n",
       "\n",
       "    .dataframe thead th {\n",
       "        text-align: right;\n",
       "    }\n",
       "</style>\n",
       "<table border=\"1\" class=\"dataframe\">\n",
       "  <thead>\n",
       "    <tr style=\"text-align: right;\">\n",
       "      <th></th>\n",
       "      <th>Attr1</th>\n",
       "      <th>Attr2</th>\n",
       "      <th>Attr3</th>\n",
       "      <th>Attr4</th>\n",
       "      <th>Attr5</th>\n",
       "    </tr>\n",
       "  </thead>\n",
       "  <tbody>\n",
       "    <tr>\n",
       "      <td>0</td>\n",
       "      <td>Name</td>\n",
       "      <td>Mobile</td>\n",
       "      <td>Email</td>\n",
       "      <td>Address</td>\n",
       "      <td>City</td>\n",
       "    </tr>\n",
       "    <tr>\n",
       "      <td>1</td>\n",
       "      <td>Name</td>\n",
       "      <td>Mobile</td>\n",
       "      <td>Email</td>\n",
       "      <td>Address</td>\n",
       "      <td>0</td>\n",
       "    </tr>\n",
       "    <tr>\n",
       "      <td>2</td>\n",
       "      <td>Name</td>\n",
       "      <td>Mobile</td>\n",
       "      <td>Email</td>\n",
       "      <td>City</td>\n",
       "      <td>0</td>\n",
       "    </tr>\n",
       "    <tr>\n",
       "      <td>3</td>\n",
       "      <td>Name</td>\n",
       "      <td>Mobile</td>\n",
       "      <td>Address</td>\n",
       "      <td>City</td>\n",
       "      <td>0</td>\n",
       "    </tr>\n",
       "    <tr>\n",
       "      <td>4</td>\n",
       "      <td>Name</td>\n",
       "      <td>Email</td>\n",
       "      <td>Address</td>\n",
       "      <td>City</td>\n",
       "      <td>0</td>\n",
       "    </tr>\n",
       "    <tr>\n",
       "      <td>5</td>\n",
       "      <td>Mobile</td>\n",
       "      <td>Email</td>\n",
       "      <td>Address</td>\n",
       "      <td>City</td>\n",
       "      <td>0</td>\n",
       "    </tr>\n",
       "    <tr>\n",
       "      <td>6</td>\n",
       "      <td>Name</td>\n",
       "      <td>Mobile</td>\n",
       "      <td>Email</td>\n",
       "      <td>0</td>\n",
       "      <td>0</td>\n",
       "    </tr>\n",
       "    <tr>\n",
       "      <td>7</td>\n",
       "      <td>Name</td>\n",
       "      <td>Mobile</td>\n",
       "      <td>Address</td>\n",
       "      <td>0</td>\n",
       "      <td>0</td>\n",
       "    </tr>\n",
       "    <tr>\n",
       "      <td>8</td>\n",
       "      <td>Name</td>\n",
       "      <td>Mobile</td>\n",
       "      <td>City</td>\n",
       "      <td>0</td>\n",
       "      <td>0</td>\n",
       "    </tr>\n",
       "    <tr>\n",
       "      <td>9</td>\n",
       "      <td>Name</td>\n",
       "      <td>Email</td>\n",
       "      <td>Address</td>\n",
       "      <td>0</td>\n",
       "      <td>0</td>\n",
       "    </tr>\n",
       "    <tr>\n",
       "      <td>10</td>\n",
       "      <td>Name</td>\n",
       "      <td>Email</td>\n",
       "      <td>City</td>\n",
       "      <td>0</td>\n",
       "      <td>0</td>\n",
       "    </tr>\n",
       "    <tr>\n",
       "      <td>11</td>\n",
       "      <td>Name</td>\n",
       "      <td>Address</td>\n",
       "      <td>City</td>\n",
       "      <td>0</td>\n",
       "      <td>0</td>\n",
       "    </tr>\n",
       "    <tr>\n",
       "      <td>12</td>\n",
       "      <td>Mobile</td>\n",
       "      <td>Email</td>\n",
       "      <td>Address</td>\n",
       "      <td>0</td>\n",
       "      <td>0</td>\n",
       "    </tr>\n",
       "    <tr>\n",
       "      <td>13</td>\n",
       "      <td>Mobile</td>\n",
       "      <td>Email</td>\n",
       "      <td>City</td>\n",
       "      <td>0</td>\n",
       "      <td>0</td>\n",
       "    </tr>\n",
       "    <tr>\n",
       "      <td>14</td>\n",
       "      <td>Mobile</td>\n",
       "      <td>Address</td>\n",
       "      <td>City</td>\n",
       "      <td>0</td>\n",
       "      <td>0</td>\n",
       "    </tr>\n",
       "    <tr>\n",
       "      <td>15</td>\n",
       "      <td>Email</td>\n",
       "      <td>Address</td>\n",
       "      <td>City</td>\n",
       "      <td>0</td>\n",
       "      <td>0</td>\n",
       "    </tr>\n",
       "  </tbody>\n",
       "</table>\n",
       "</div>"
      ],
      "text/plain": [
       "     Attr1    Attr2    Attr3    Attr4 Attr5\n",
       "0     Name   Mobile    Email  Address  City\n",
       "1     Name   Mobile    Email  Address     0\n",
       "2     Name   Mobile    Email     City     0\n",
       "3     Name   Mobile  Address     City     0\n",
       "4     Name    Email  Address     City     0\n",
       "5   Mobile    Email  Address     City     0\n",
       "6     Name   Mobile    Email        0     0\n",
       "7     Name   Mobile  Address        0     0\n",
       "8     Name   Mobile     City        0     0\n",
       "9     Name    Email  Address        0     0\n",
       "10    Name    Email     City        0     0\n",
       "11    Name  Address     City        0     0\n",
       "12  Mobile    Email  Address        0     0\n",
       "13  Mobile    Email     City        0     0\n",
       "14  Mobile  Address     City        0     0\n",
       "15   Email  Address     City        0     0"
      ]
     },
     "execution_count": 8,
     "metadata": {},
     "output_type": "execute_result"
    }
   ],
   "source": [
    "data = pd.concat([df, df2, df3], sort = True)\n",
    "data.reset_index(drop = True, inplace = True)\n",
    "data.fillna(0, inplace = True)\n",
    "data"
   ]
  },
  {
   "cell_type": "code",
   "execution_count": 9,
   "metadata": {
    "scrolled": true
   },
   "outputs": [
    {
     "data": {
      "text/plain": [
       "False"
      ]
     },
     "execution_count": 9,
     "metadata": {},
     "output_type": "execute_result"
    }
   ],
   "source": [
    "i=6\n",
    "i<5"
   ]
  },
  {
   "cell_type": "code",
   "execution_count": 10,
   "metadata": {
    "scrolled": true
   },
   "outputs": [
    {
     "data": {
      "text/plain": [
       "[1, 2, 3]"
      ]
     },
     "execution_count": 10,
     "metadata": {},
     "output_type": "execute_result"
    }
   ],
   "source": [
    "L=[1,3,2]\n",
    "sorted(L)"
   ]
  },
  {
   "cell_type": "code",
   "execution_count": 11,
   "metadata": {},
   "outputs": [
    {
     "name": "stdout",
     "output_type": "stream",
     "text": [
      "a1\n",
      "b1\n",
      "c1\n"
     ]
    }
   ],
   "source": [
    "def Print(A):\n",
    "    for a in A:\n",
    "        print(a+'1')\n",
    "        \n",
    "Print(['a','b','c'])"
   ]
  },
  {
   "cell_type": "code",
   "execution_count": 12,
   "metadata": {},
   "outputs": [],
   "source": [
    "with open(\"Example3.txt\",\"w\") as file1:\n",
    "    file1.write(\"This is line C\\n\")"
   ]
  },
  {
   "cell_type": "code",
   "execution_count": 13,
   "metadata": {},
   "outputs": [
    {
     "data": {
      "text/plain": [
       "array([11, 11, 11, 11, 11])"
      ]
     },
     "execution_count": 13,
     "metadata": {},
     "output_type": "execute_result"
    }
   ],
   "source": [
    "import numpy as np\n",
    "a=np.array([1,1,1,1,1])\n",
    "a+10 "
   ]
  },
  {
   "cell_type": "code",
   "execution_count": 14,
   "metadata": {},
   "outputs": [
    {
     "data": {
      "text/plain": [
       "array([[2, 1],\n",
       "       [1, 2]])"
      ]
     },
     "execution_count": 14,
     "metadata": {},
     "output_type": "execute_result"
    }
   ],
   "source": [
    "X=np.array([[1,0],[0,1]])\n",
    "Y=np.array([[2,1],[1,2]]) \n",
    "Z=np.dot(X,Y)\n",
    "Z"
   ]
  },
  {
   "cell_type": "code",
   "execution_count": 15,
   "metadata": {},
   "outputs": [
    {
     "name": "stdout",
     "output_type": "stream",
     "text": [
      "Requirement already satisfied: nba_api in d:\\programs\\lib\\site-packages (1.1.8)\n",
      "Requirement already satisfied: requests in d:\\programs\\lib\\site-packages (from nba_api) (2.22.0)\n",
      "Requirement already satisfied: urllib3!=1.25.0,!=1.25.1,<1.26,>=1.21.1 in d:\\programs\\lib\\site-packages (from requests->nba_api) (1.24.2)\n",
      "Requirement already satisfied: chardet<3.1.0,>=3.0.2 in d:\\programs\\lib\\site-packages (from requests->nba_api) (3.0.4)\n",
      "Requirement already satisfied: idna<2.9,>=2.5 in d:\\programs\\lib\\site-packages (from requests->nba_api) (2.8)\n",
      "Requirement already satisfied: certifi>=2017.4.17 in d:\\programs\\lib\\site-packages (from requests->nba_api) (2019.9.11)\n"
     ]
    }
   ],
   "source": [
    "!pip install nba_api"
   ]
  },
  {
   "cell_type": "code",
   "execution_count": 18,
   "metadata": {},
   "outputs": [],
   "source": [
    "data.to_csv(r'C:\\Code\\myfile.csv', index = False)"
   ]
  }
 ],
 "metadata": {
  "kernelspec": {
   "display_name": "Python 3",
   "language": "python",
   "name": "python3"
  },
  "language_info": {
   "codemirror_mode": {
    "name": "ipython",
    "version": 3
   },
   "file_extension": ".py",
   "mimetype": "text/x-python",
   "name": "python",
   "nbconvert_exporter": "python",
   "pygments_lexer": "ipython3",
   "version": "3.7.4"
  }
 },
 "nbformat": 4,
 "nbformat_minor": 2
}
