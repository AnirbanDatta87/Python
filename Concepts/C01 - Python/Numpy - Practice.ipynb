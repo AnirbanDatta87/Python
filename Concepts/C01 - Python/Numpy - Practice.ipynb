{
 "cells": [
  {
   "cell_type": "code",
   "execution_count": 3,
   "metadata": {
    "scrolled": true
   },
   "outputs": [
    {
     "data": {
      "text/plain": [
       "array([[[15, 20, 22],\n",
       "        [ 3, 13,  8],\n",
       "        [28,  9, 29]],\n",
       "\n",
       "       [[16, 28,  5],\n",
       "        [ 3, 24, 21],\n",
       "        [14, 19,  7]],\n",
       "\n",
       "       [[27, 28,  9],\n",
       "        [22, 17, 14],\n",
       "        [27, 28, 22]]])"
      ]
     },
     "execution_count": 3,
     "metadata": {},
     "output_type": "execute_result"
    }
   ],
   "source": [
    "import numpy as np\n",
    "A = np.random.randint(1, 30, 27)\n",
    "A\n",
    "A.reshape(3, 3, 3)"
   ]
  },
  {
   "cell_type": "code",
   "execution_count": 17,
   "metadata": {},
   "outputs": [
    {
     "name": "stdout",
     "output_type": "stream",
     "text": [
      "a: [0, 1, 2, 3, 4, 5]; b: [0, 1, 2, 3, 4, 5]\n",
      "a: [5, 4, 3, 2, 1, 0]; b: [5, 4, 3, 2, 1, 0]; c: None\n"
     ]
    }
   ],
   "source": [
    "a = [x for x in range(6)]\n",
    "b = a\n",
    "print(f'a: {a}; b: {b}')\n",
    "c = a.reverse()\n",
    "print(f'a: {a}; b: {b}; c: {c}')"
   ]
  },
  {
   "cell_type": "code",
   "execution_count": 4,
   "metadata": {},
   "outputs": [
    {
     "data": {
      "text/plain": [
       "array(['Apple', 'Banana', 'Cherry', 'Orange', 'Guava'], dtype=object)"
      ]
     },
     "execution_count": 4,
     "metadata": {},
     "output_type": "execute_result"
    }
   ],
   "source": [
    "import pandas as pd\n",
    "import numpy as np\n",
    "\n",
    "a = pd.Series(['Apple', 'Banana', 'Cherry', 'Orange', 'Guava'])\n",
    "a.values"
   ]
  }
 ],
 "metadata": {
  "kernelspec": {
   "display_name": "Python 3",
   "language": "python",
   "name": "python3"
  },
  "language_info": {
   "codemirror_mode": {
    "name": "ipython",
    "version": 3
   },
   "file_extension": ".py",
   "mimetype": "text/x-python",
   "name": "python",
   "nbconvert_exporter": "python",
   "pygments_lexer": "ipython3",
   "version": "3.7.4"
  }
 },
 "nbformat": 4,
 "nbformat_minor": 2
}
