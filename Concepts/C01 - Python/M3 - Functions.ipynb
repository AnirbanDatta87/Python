{
 "cells": [
  {
   "cell_type": "markdown",
   "metadata": {},
   "source": [
    "# <font color='green'>M3 - Functions</font>\n",
    "## <font color='blue'>Source:</font>\n",
    " - ATBS | [Book](https://automatetheboringstuff.com/chapter1/) | [Course](https://www.udemy.com/course/automate/learn/lecture/3309062#overview)\n",
    " - CMS | [Course](https://www.youtube.com/watch?v=9Os0o3wzS_I&list=PL-osiE80TeTt2d9bfVyTiXJA-UTHn6WwU&index=8)\n",
    " - CP | Book | [C9 | P237]\n",
    " - Doc | [Functions](https://docs.python.org/3/tutorial/controlflow.html#defining-functions) | [Modules](https://docs.python.org/3/tutorial/modules.html) | [docstrings](https://docs.python.org/3/tutorial/controlflow.html#tut-docstrings)"
   ]
  },
  {
   "cell_type": "markdown",
   "metadata": {},
   "source": [
    "## Module:\n",
    "\n",
    "If you quit from the Python interpreter and enter it again, the definitions you have made (functions and variables) are lost. Therefore, if you want to write a somewhat longer program, you are better off using a text editor to prepare the input for the interpreter and running it with that file as input instead. This is known as creating a script. As your program gets longer, you may want to split it into several files for easier maintenance. You may also want to use a handy function that you’ve written in several programs without copying its definition into each program.\n",
    "\n",
    "To support this, Python has a way to put definitions in a file and use them in a script or in an interactive instance of the interpreter. Such a file is called a module; definitions from a module can be imported into other modules or into the main module (the collection of variables that you have access to in a script executed at the top level and in calculator mode).\n",
    "\n",
    "<font color = 'blue'><b>A module consists of Classes, methods, functions, variables and statements.</b></font>\n",
    "\n",
    "A module is a file containing Python definitions and statements. The file name is the module name with the suffix .py appended. Within a module, the module’s name (as a string) is available as the value of the global variable __name__. For instance, use your favorite text editor to create a file called fibo.py in the current directory with the following contents:"
   ]
  },
  {
   "cell_type": "code",
   "execution_count": null,
   "metadata": {},
   "outputs": [],
   "source": [
    "import calc\n",
    "\n",
    "calc.add(3 + 2j, 6 + 2j)"
   ]
  },
  {
   "cell_type": "code",
   "execution_count": null,
   "metadata": {},
   "outputs": [],
   "source": [
    "import calc\n",
    "calc.fibonacci(34)"
   ]
  },
  {
   "cell_type": "code",
   "execution_count": null,
   "metadata": {},
   "outputs": [],
   "source": [
    "calc.__name__"
   ]
  },
  {
   "cell_type": "markdown",
   "metadata": {},
   "source": [
    "## <font color='green'>Concept 1: Function</font>\n",
    " - A function is a block of code (instructions) that performs a specific task.\n",
    " - <b>Argument</b>: The value passed in the function call.\n",
    " - <b>Parameter</b>: The variable inside the function.\n",
    " - Every function call has a return value."
   ]
  },
  {
   "cell_type": "code",
   "execution_count": null,
   "metadata": {
    "scrolled": true
   },
   "outputs": [],
   "source": [
    "def add(a, b):\n",
    "    \"\"\"Function to add two numbers.\"\"\"\n",
    "    c = a+b\n",
    "    print('Sum = ', c)\n",
    "    \n",
    "add([0,1], [5,5,7])\n",
    "print(add.__doc__)"
   ]
  },
  {
   "cell_type": "markdown",
   "metadata": {},
   "source": [
    "## <font color='green'>Concept 2: Arguments</font>\n",
    " - <b>Parameters:</b> Values that are part of function definition, and are described in the function description.\n",
    " - <b>Arguments:</b> Values that are passed to the function from outside.\n",
    "\n",
    "### There are 4 types of arguments:\n",
    " - Positional Arg\n",
    " - Keyword Arg\n",
    " - Default Arg\n",
    " - Variable Length Arg"
   ]
  },
  {
   "cell_type": "markdown",
   "metadata": {},
   "source": [
    "#### <font color = 'green'>Keyword Arguments:</font>\n",
    "<b>keyword argument:</b> an argument preceded by an identifier (e.g. name=) in a function call or passed as a value in a dictionary preceded by **. For example, 3 and 5 are both keyword arguments in the following calls to complex():"
   ]
  },
  {
   "cell_type": "code",
   "execution_count": null,
   "metadata": {},
   "outputs": [],
   "source": [
    "complex(real=3, imag=5)\n",
    "complex(**{'real': 3, 'imag': 5})"
   ]
  },
  {
   "cell_type": "markdown",
   "metadata": {},
   "source": [
    "#### <font color = 'green'>Positional Arguments:</font>\n",
    "<b>positional argument:</b> an argument that is not a keyword argument. Positional arguments can appear at the beginning of an argument list and/or be passed as elements of an iterable preceded by *. For example, 3 and 5 are both positional arguments in the following calls:"
   ]
  },
  {
   "cell_type": "code",
   "execution_count": null,
   "metadata": {},
   "outputs": [],
   "source": [
    "complex(3, 5)\n",
    "complex(*(3, 5))"
   ]
  },
  {
   "cell_type": "code",
   "execution_count": null,
   "metadata": {},
   "outputs": [],
   "source": [
    "#positional arguments example\n",
    "def string_combine(str1, str2):\n",
    "#To join str1 and str2 with str3\n",
    "    str3 = f'{str1} {str2}.'\n",
    "    print(str3)\n",
    "add = string_combine\n",
    "add('Hello','Teertha')"
   ]
  },
  {
   "cell_type": "markdown",
   "metadata": {},
   "source": [
    "#### <font color = 'green'>Variable Arguments:</font>"
   ]
  },
  {
   "cell_type": "code",
   "execution_count": null,
   "metadata": {},
   "outputs": [],
   "source": [
    "def student_info(*args, **kwargs):# In function defition the *args, **kwargs allow the function to accept a variable number of keyword and positional arguments.\n",
    "    print(args)\n",
    "    print(kwargs)\n",
    "\n",
    "student_info('Math', 'Physics', 'Chemistry', name = 'Anirban', age = 33)"
   ]
  },
  {
   "cell_type": "code",
   "execution_count": null,
   "metadata": {},
   "outputs": [],
   "source": [
    "courses = ['Math', 'Physics', 'Chemistry']\n",
    "info = {'name': 'Anirban', 'age': 33}\n",
    "student_info(courses, info)"
   ]
  },
  {
   "cell_type": "code",
   "execution_count": null,
   "metadata": {
    "scrolled": true
   },
   "outputs": [],
   "source": [
    "courses = ['Math', 'Physics', 'Chemistry']\n",
    "info = {'name': 'Anirban', 'age': 33}\n",
    "# If we add the * inf positional arguments (courses) and ** inf keyword arguments, it will 'unpack' the values from the argument data objects and pass the values in individually as keyword and positional arguments.\n",
    "student_info(*courses, **info)"
   ]
  },
  {
   "cell_type": "markdown",
   "metadata": {},
   "source": [
    "#### <font color = 'green'>Example: the print() function</font>"
   ]
  },
  {
   "cell_type": "code",
   "execution_count": null,
   "metadata": {},
   "outputs": [],
   "source": [
    "print('Hello')\n",
    "print('World')"
   ]
  },
  {
   "cell_type": "code",
   "execution_count": null,
   "metadata": {},
   "outputs": [],
   "source": [
    "# Printing integer chains:\n",
    "n = int(input())\n",
    "for i in range(1, n+1):\n",
    "    print(i, end='', sep='')"
   ]
  },
  {
   "cell_type": "markdown",
   "metadata": {},
   "source": [
    "## <font color='green'>Concept 3: Local and Global variables</font>\n",
    "There are four rules to tell whether a variable is in a local scope or global scope:\n",
    "\n",
    " - If a variable is being used in the global scope (that is, outside of all functions), then it is always a global variable.\n",
    " - If there is a global statement for that variable in a function, it is a global variable.\n",
    " - Otherwise, if the variable is used in an assignment statement in the function, it is a local variable.\n",
    " - But if the variable is not used in an assignment statement, it is a global variable."
   ]
  },
  {
   "cell_type": "markdown",
   "metadata": {},
   "source": [
    "<img src=\"assets/scope.jpg\" width=600px />"
   ]
  },
  {
   "cell_type": "markdown",
   "metadata": {},
   "source": [
    "## <font color='blue'>Problem 1: Check prime number</font>\n",
    "#### For a given number, check if it is prime or not."
   ]
  },
  {
   "cell_type": "code",
   "execution_count": null,
   "metadata": {},
   "outputs": [],
   "source": [
    "def check_prime(n):\n",
    "    for x in range(2, n):\n",
    "        if n%x == 0:\n",
    "            return f'{n} is not a prime number.\\n{n} equals {x} * {n//x}.'\n",
    "            break\n",
    "    else:\n",
    "        return f'{n} is a prime number.'\n",
    "            \n",
    "while True:\n",
    "    try:\n",
    "        n = int(input('Please enter an integer: '))\n",
    "        print(check_prime(n))\n",
    "    except ValueError:\n",
    "        answer = input('Invalid input. Would like to try again? [y/n]: ')\n",
    "        if answer == 'y':\n",
    "            continue\n",
    "        elif answer == 'n':\n",
    "            print('Thank you for playing!')\n",
    "        else:\n",
    "            print('Invalid input. Thank you for playing!')\n",
    "    break"
   ]
  },
  {
   "cell_type": "markdown",
   "metadata": {},
   "source": [
    "## <font color='blue'>Problem 2: Generate a list of Prime numbers</font>\n",
    "#### For a given n, generate a list of n prime numbers."
   ]
  },
  {
   "cell_type": "code",
   "execution_count": null,
   "metadata": {},
   "outputs": [],
   "source": [
    "# A function to test whether a given number is prime or not.\n",
    "def prime(n):\n",
    "    \"\"\"To check if n is prime or not.\"\"\"\n",
    "    x = 1\n",
    "    for i in range(2, n):\n",
    "        if n%i == 0:\n",
    "            x = 0\n",
    "            break\n",
    "        else:\n",
    "            x = 1\n",
    "    return x\n",
    "\n",
    "# generate the prime number sequence for a given length.\n",
    "num = int(input('How many prime numbers do you want? '))\n",
    "i = 2 # starts the prime sequence with i = 2.\n",
    "c = 1 # this variable counts the number of primes\n",
    "prime_list = []\n",
    "while True:\n",
    "    if prime(i):\n",
    "        prime_list.append(i) # if i is prime, add it to the list\n",
    "        c += 1     # increase the counter\n",
    "    i += 1         # generate next number to test\n",
    "    if c > num:    # if count exceeds num\n",
    "        break      # come out of while loop\n",
    "print(prime_list)\n",
    "    "
   ]
  },
  {
   "cell_type": "markdown",
   "metadata": {},
   "source": [
    "## <font color='blue'>Problem 3: Multiple Return values</font>\n",
    "#### Take multiple inputs and return multple return values."
   ]
  },
  {
   "cell_type": "code",
   "execution_count": null,
   "metadata": {},
   "outputs": [],
   "source": [
    "a, b = [int(x) for x in input('Enter two numbers: ').split()]\n",
    "\n",
    "def arithmatic(a, b):\n",
    "    c = a + b\n",
    "    d = a - b\n",
    "    e = a * b\n",
    "    f = a / b\n",
    "    return c, d, e, f\n",
    "t = arithmatic(a,b)\n",
    "print('The results are: ')\n",
    "print('a + b = ', t[0])\n",
    "print('a - b = ', t[1])\n",
    "print('a * b = ', t[2])\n",
    "print('a / b = ', t[3])\n",
    "    "
   ]
  },
  {
   "cell_type": "markdown",
   "metadata": {},
   "source": [
    "## <font color='green'>Concept 4: Recursive Functions</font>"
   ]
  },
  {
   "cell_type": "markdown",
   "metadata": {},
   "source": [
    "## <font color='blue'>Problem 4: Factorial</font>\n",
    "#### Calculate n! for a given n."
   ]
  },
  {
   "cell_type": "code",
   "execution_count": null,
   "metadata": {},
   "outputs": [],
   "source": [
    "n = int(input('Enter a number: '))\n",
    "\n",
    "def factorial(n):\n",
    "    result = 1\n",
    "    if n == 0:\n",
    "        result = 1\n",
    "    else:\n",
    "        result = n * factorial(n-1) # The function calls itself.\n",
    "    return result\n",
    "print(factorial(n))"
   ]
  },
  {
   "cell_type": "markdown",
   "metadata": {},
   "source": [
    "## <font color='blue'>Problem 5: The Tower of Hanoi</font>\n",
    "#### Solve the Tower of Hanoi (List all the steps) for n discs."
   ]
  },
  {
   "cell_type": "code",
   "execution_count": null,
   "metadata": {},
   "outputs": [],
   "source": [
    "def towers(n, a, c, b):\n",
    "    if n == 1:\n",
    "        print(f'Move disk {n} from pole {a} to pole {c}.')\n",
    "    else:\n",
    "        towers(n-1, a, b, c)\n",
    "        print(f'Move disk {n} from pole {a} to pole {c}.')\n",
    "        towers(n-1, b, c, a)\n",
    "        \n",
    "n = int(input('Enter the number of discs: '))\n",
    "towers(n, 'A', 'C', 'B')"
   ]
  },
  {
   "cell_type": "markdown",
   "metadata": {},
   "source": [
    "## <font color='green'>Concept 5: Functions are first class objects.</font>\n",
    "First class objects in a language are handled uniformly throughout. They may be stored in data structures, passed as arguments, or used in control structures. A programming language is said to support first-class functions if it treats functions as first-class objects. Python supports the concept of First Class functions.\n",
    "\n",
    "Properties of first class functions:\n",
    "\n",
    " - A function is an instance of the Object type.\n",
    " - You can store the function in a variable.\n",
    " - You can pass the function as a parameter to another function.\n",
    " - You can return the function from a function.\n",
    " - You can store them in data structures such as hash tables, lists, dictionaries etc."
   ]
  },
  {
   "cell_type": "code",
   "execution_count": null,
   "metadata": {},
   "outputs": [],
   "source": [
    "def add(a, b):\n",
    "    a = int(input('a = '))\n",
    "    b = int(input('b = '))\n",
    "    c = a + b\n",
    "    return f'a + b = {c}'\n",
    "add(a, b)"
   ]
  },
  {
   "cell_type": "code",
   "execution_count": null,
   "metadata": {},
   "outputs": [],
   "source": [
    "x = add(5,2) # Assigning a function to a variable.\n",
    "print(x)"
   ]
  },
  {
   "cell_type": "code",
   "execution_count": null,
   "metadata": {},
   "outputs": [],
   "source": [
    "import random\n",
    "greetings = ['Hello', 'Hi', 'Greetings', 'Hey there']\n",
    "def message():\n",
    "    message = random.choice(greetings)\n",
    "    return message\n",
    "\n",
    "def welcome(name='Stranger'):\n",
    "    name = input('What\\'s your name? ')\n",
    "    welcome = f'{message()}, {name}!' # Passing a function inside another function.\n",
    "    print(welcome)\n",
    "welcome()   "
   ]
  },
  {
   "cell_type": "markdown",
   "metadata": {},
   "source": [
    "## <font color='green'>Concept 6: lambda (Anonymus) Functions | filter, map and reduce</font>"
   ]
  },
  {
   "cell_type": "code",
   "execution_count": null,
   "metadata": {},
   "outputs": [],
   "source": [
    "# Using the lambda function.\n",
    "# Program to calculate the square of a number.\n",
    "n = int(input('Enter a number: '))\n",
    "result = lambda x: x*x\n",
    "print(f'The square of {n} is {result(n)}.')"
   ]
  },
  {
   "cell_type": "markdown",
   "metadata": {},
   "source": [
    "## <code>filter()</code>:\n",
    " - In simple words, the filter() method filters the given iterable with the help of a function that tests each element in the   iterable to be true or not. The syntax of filter() method is:\n",
    "\n",
    "  <code>filter(function, iterable)</code>"
   ]
  },
  {
   "cell_type": "code",
   "execution_count": null,
   "metadata": {},
   "outputs": [],
   "source": [
    "# Program to filter out even numebrs from a list of numbers\n",
    "def is_even(x):\n",
    "    if x%2 == 0:\n",
    "        return True\n",
    "    else:\n",
    "        return False\n",
    "\n",
    "mylist = [i for i in range(21)]\n",
    "filtered_numbers = list(filter(is_even, mylist))\n",
    "# for j in filtered_numbers:\n",
    "    # print(j, end=' ')\n",
    "print(filtered_numbers)"
   ]
  },
  {
   "cell_type": "code",
   "execution_count": null,
   "metadata": {
    "scrolled": true
   },
   "outputs": [],
   "source": [
    "# Program to filter vowels from a list of alphabets\n",
    "alphabets = ['a', 'b', 'd', 'e', 'i', 'j', 'o']\n",
    "\n",
    "# function that filters vowels\n",
    "def filterVowels(alphabet):\n",
    "    vowels = ['a', 'e', 'i', 'o', 'u']\n",
    "\n",
    "    if(alphabet in vowels):\n",
    "        return True\n",
    "    else:\n",
    "        return False\n",
    "\n",
    "filteredVowels = filter(filterVowels, alphabets)\n",
    "\n",
    "print('The filtered vowels are:')\n",
    "for vowel in filteredVowels:\n",
    "    print(vowel, end=' ')"
   ]
  },
  {
   "cell_type": "code",
   "execution_count": null,
   "metadata": {},
   "outputs": [],
   "source": [
    "# Using lambda function to filter lists\n",
    "mylist = [i for i in range(21)]\n",
    "newlist = list(filter(lambda x: (x%2 == 0), mylist))\n",
    "print(newlist)"
   ]
  },
  {
   "cell_type": "markdown",
   "metadata": {},
   "source": [
    "## <code>map()</code>:\n",
    " - The map() function applies a given function to each item of an iterable (list, tuple etc.) and returns a list of the results.The syntax of map() is:\n",
    "\n",
    "  <code>map(function, iterable, ...)</code>"
   ]
  },
  {
   "cell_type": "code",
   "execution_count": null,
   "metadata": {},
   "outputs": [],
   "source": [
    "# Using lambda function to map x: x*x for all x in list\n",
    "mylist = [i for i in range(11)]\n",
    "newlist = list(map(lambda x: x*x, mylist))\n",
    "print(newlist)"
   ]
  },
  {
   "cell_type": "code",
   "execution_count": null,
   "metadata": {},
   "outputs": [],
   "source": [
    "# program to find the products of elements of 2 different lists using the lambda program\n",
    "list1 = [2, 4, 6, 8]\n",
    "list2 = [3, 5, 7, 9]\n",
    "list3 = list(map(lambda x, y: x*y, list1, list2))\n",
    "print(list3)"
   ]
  },
  {
   "cell_type": "markdown",
   "metadata": {},
   "source": [
    "## <code>reduce()</code>:\n",
    " - The reduce() function reduces a sequence of elements to a single value by processing the elements according to a function supplied. The reduce() function is used in this format:\n",
    "\n",
    "  <code>reduce(function, sequence)</code>"
   ]
  },
  {
   "cell_type": "code",
   "execution_count": null,
   "metadata": {},
   "outputs": [],
   "source": [
    "# program to reduce a sequence using the lambda function:\n",
    "from functools import reduce\n",
    "list1 = [i for i in range(6)]\n",
    "value = reduce(lambda x, y: x*y, list1)\n",
    "print(value)"
   ]
  },
  {
   "cell_type": "markdown",
   "metadata": {},
   "source": [
    "## <font color='green'>Concept 7: Closure</font>"
   ]
  },
  {
   "cell_type": "code",
   "execution_count": null,
   "metadata": {},
   "outputs": [],
   "source": [
    "def square(x):\n",
    "    return x*x\n",
    "\n",
    "def cube(x):\n",
    "    return x*x*x\n",
    "\n",
    "def my_map(func, arg_list):\n",
    "    result =  []\n",
    "    for i in arg_list:\n",
    "        result.append(func(i))\n",
    "    return result\n",
    "\n",
    "squares = my_map(square, [1, 2, 3, 4, 5])\n",
    "cubes = my_map(cube, [1, 2, 3, 4, 5])\n",
    "print(squares)\n",
    "print(cubes)"
   ]
  },
  {
   "cell_type": "markdown",
   "metadata": {},
   "source": [
    "### <font color='blue'>Closure</font>\n",
    "\n",
    "A Closure is a function object that remembers values in enclosing scopes even if they are not present in memory.\n",
    "\n",
    " - It is a record that stores a function together with an environment: a mapping associating each free variable of the function (variables that are used locally, but defined in an enclosing scope) with the value or reference to which the name was bound when the closure was created.\n",
    " - A closure—unlike a plain function—allows the function to access those captured variables through the closure’s copies of their values or references, even when the function is invoked outside their scope.\n",
    " \n",
    " #### Functions are first class objects, which means we can:\n",
    "  - pass functions as arguments to another function\n",
    "  - return functions\n",
    "  - assign functions to variables"
   ]
  },
  {
   "cell_type": "code",
   "execution_count": null,
   "metadata": {},
   "outputs": [],
   "source": [
    "def outer_func():\n",
    "    message = 'Hi'\n",
    "    \n",
    "    def inner_func():\n",
    "        print(message) # message is a 'free' variable because it is not defined inside inner_func()\n",
    "        \n",
    "    return inner_func()\n",
    "\n",
    "outer_func()"
   ]
  },
  {
   "cell_type": "code",
   "execution_count": null,
   "metadata": {},
   "outputs": [],
   "source": [
    "# A closure is a record of an inner function that remembers and has access to variables in the local scope in which it was created even after the outer function has finished executing.\n",
    "\n",
    "def outer_func():\n",
    "    message = 'Hi'\n",
    "    \n",
    "    def inner_func():\n",
    "        print(message) \n",
    "        \n",
    "    return inner_func\n",
    "\n",
    "my_func = outer_func()\n",
    "print(my_func)\n",
    "print(my_func.__name__)\n",
    "my_func()"
   ]
  },
  {
   "cell_type": "code",
   "execution_count": null,
   "metadata": {},
   "outputs": [],
   "source": [
    "# Using arguments\n",
    "\n",
    "def outer_func(message):\n",
    "    msg = message\n",
    "    \n",
    "    def inner_func():\n",
    "        print(msg) \n",
    "        \n",
    "    return inner_func\n",
    "\n",
    "my_func = outer_func('Hello')\n",
    "new_func = outer_func('Welcome')\n",
    "\n",
    "# A closure closes over free variable from their environments. In this case, message would be that free variable.\n",
    "\n",
    "my_func()\n",
    "new_func()"
   ]
  },
  {
   "cell_type": "code",
   "execution_count": null,
   "metadata": {},
   "outputs": [],
   "source": [
    "def html_tag(tag):\n",
    "    def wrap_txt(msg):\n",
    "        print(f'<{tag}>{msg}</{tag}>')\n",
    "    return wrap_txt\n",
    "\n",
    "print_h1 = html_tag('h1')\n",
    "print_h1('This is a headline!')\n",
    "print_p = html_tag('p')\n",
    "print_p('This is a paragraph.')"
   ]
  },
  {
   "cell_type": "code",
   "execution_count": null,
   "metadata": {},
   "outputs": [],
   "source": [
    "import logging\n",
    "logging.basicConfig(filename = 'example.log', level = logging.INFO)\n",
    "\n",
    "def logger(func):\n",
    "    def log_func(*args):\n",
    "        logging.info(f'Running {func.__name__} with arguments {args}.')\n",
    "        print(func(*args))\n",
    "    return log_func\n",
    "\n",
    "def add(x,y):\n",
    "    return x+y\n",
    "\n",
    "def sub(x,y):\n",
    "    return x-y\n",
    "\n",
    "def \n",
    "\n",
    "add_logger = logger(add)\n",
    "sub_logger = logger(sub)\n",
    "\n",
    "add_logger(3, 4)\n",
    "add_logger(7, 3)\n",
    "\n",
    "sub_logger(5, 3)\n",
    "sub_logger(8, 4)"
   ]
  },
  {
   "cell_type": "markdown",
   "metadata": {},
   "source": [
    "## <font color='green'>Concept 8: Decorators</font>\n",
    "In Python, functions are the first class objects, which means that –\n",
    "\n",
    " - Functions are objects; they can be referenced to, passed to a variable and returned from other functions as well.\n",
    " - Functions can be defined inside another function and can also be passed as argument to another function.\n",
    "\n",
    "Decorators are very powerful and useful tool in Python since it allows programmers to modify the behavior of function or class. Decorators allow us to wrap another function in order to extend the behavior of wrapped function, without permanently modifying it.\n",
    "\n",
    "In Decorators, functions are taken as the argument into another function and then called inside the wrapper function."
   ]
  },
  {
   "cell_type": "code",
   "execution_count": null,
   "metadata": {},
   "outputs": [],
   "source": [
    "def decorator_func(original_func):\n",
    "    def wrapper_func():\n",
    "        print(f'wrapper executed this before {original_func.__name__}') # Modify the behaviour of the original function.\n",
    "        return original_func()\n",
    "    return wrapper_func\n",
    "\n",
    "def display():\n",
    "    print('display function ran.')\n",
    "    \n",
    "decorated_display = decorator_func(display)\n",
    "decorated_display()"
   ]
  },
  {
   "cell_type": "code",
   "execution_count": null,
   "metadata": {},
   "outputs": [],
   "source": [
    "def decorator_func(original_func):\n",
    "    def wrapper_func(*args, **kwargs):\n",
    "        print(f'wrapper executed this before {original_func.__name__}') # Modify the behaviour of the original function.\n",
    "        return original_func(*args, **kwargs)\n",
    "    return wrapper_func\n",
    "\n",
    "@decorator_func\n",
    "def display():\n",
    "    print('display function ran.')\n",
    "    \n",
    "# decorated_display = decorator_func(display)\n",
    "# decorated_display()\n",
    "    \n",
    "@decorator_func\n",
    "def display_info(name, age):\n",
    "    print(f'display_info ran with arguments {name} and {age}.')\n",
    "    \n",
    "display()\n",
    "display_info('Anirban', 33)"
   ]
  },
  {
   "cell_type": "code",
   "execution_count": null,
   "metadata": {},
   "outputs": [],
   "source": [
    "# Using decorator class.\n",
    "class decorator_class(object):\n",
    "    def __init__(self, original_func):\n",
    "        self.original_func = original_func # Tie our function with the instance of this class.\n",
    "        \n",
    "    def __call__(self, *args, **kwargs):\n",
    "        print(f'call method executed this before {self.original_func.__name__}') # Modify the behaviour of the original function.\n",
    "        return self.original_func(*args, **kwargs)\n",
    "\n",
    "@decorator_class\n",
    "def display():\n",
    "    print('display function ran.')\n",
    "    \n",
    "# decorated_display = decorator_func(display)\n",
    "# decorated_display()\n",
    "    \n",
    "@decorator_class\n",
    "def display_info(name, age):\n",
    "    print(f'display_info ran with arguments {name} and {age}.')\n",
    "\n",
    "display()\n",
    "display_info('Teertha', 33)"
   ]
  },
  {
   "cell_type": "code",
   "execution_count": 8,
   "metadata": {
    "scrolled": true
   },
   "outputs": [
    {
     "name": "stdout",
     "output_type": "stream",
     "text": [
      "Logged function.\n",
      "display_info ran with arguments Anirban and 33.\n"
     ]
    }
   ],
   "source": [
    "import time \n",
    "\n",
    "def my_logger(original_func):\n",
    "    import logging\n",
    "    logging.basicConfig(filename = f'{original_func.__name__}.log', level = logging.INFO)\n",
    "    \n",
    "    def wrapper(*args, **kwargs):\n",
    "        logging.info(f'Ran with args: {args} and kwargs: {kwargs}')\n",
    "        print('Logged function.')\n",
    "        return original_func(*args, **kwargs)\n",
    "    \n",
    "    return wrapper\n",
    "\n",
    "def my_timer(original_func):\n",
    "    import time\n",
    "    \n",
    "    def wrapper(*args, **kwargs):\n",
    "        t1 = time.time()\n",
    "        result = original_func(*args, **kwargs)\n",
    "        t2 = time.time() - t1\n",
    "        print('{} ran in: {} sec'.format(original_func.__name__, t2))\n",
    "        return result\n",
    "        \n",
    "    return wrapper()\n",
    "\n",
    "@my_logger\n",
    "def display_info(name, age):\n",
    "    print(f'display_info ran with arguments {name} and {age}.')   \n",
    "    \n",
    "display_info('Anirban', 33)\n"
   ]
  },
  {
   "cell_type": "code",
   "execution_count": 22,
   "metadata": {},
   "outputs": [
    {
     "name": "stdout",
     "output_type": "stream",
     "text": [
      "display_info ran with arguments (Anirban, 33).\n",
      "display_info ran in: 1.0001 sec\n"
     ]
    }
   ],
   "source": [
    "import time \n",
    "\n",
    "def my_timer(original_func):\n",
    "    import time\n",
    "    \n",
    "    def wrapper(*args, **kwargs):\n",
    "        t1 = time.time()\n",
    "        result = original_func(*args, **kwargs)\n",
    "        t2 = time.time() - t1\n",
    "        print(f'{original_func.__name__} ran in: {t2:.4f} sec')\n",
    "        return result\n",
    "        \n",
    "    return wrapper\n",
    "\n",
    "@my_timer\n",
    "def display_info(name, age):\n",
    "    time.sleep(1)\n",
    "    print(f'display_info ran with arguments ({name}, {age}).')   \n",
    "    \n",
    "display_info('Anirban', 33)"
   ]
  },
  {
   "cell_type": "code",
   "execution_count": 13,
   "metadata": {},
   "outputs": [
    {
     "name": "stdout",
     "output_type": "stream",
     "text": [
      "12\n"
     ]
    }
   ],
   "source": [
    "def decor(func):\n",
    "    def wrapper():\n",
    "        value = func()\n",
    "        return value + 2\n",
    "    return wrapper\n",
    "\n",
    "@decor\n",
    "def num():\n",
    "    return 10\n",
    "\n",
    "print(num())"
   ]
  },
  {
   "cell_type": "code",
   "execution_count": 15,
   "metadata": {},
   "outputs": [
    {
     "name": "stdout",
     "output_type": "stream",
     "text": [
      "24\n"
     ]
    }
   ],
   "source": [
    "def decor1(func):\n",
    "    def wrapper():\n",
    "        value = func()\n",
    "        return value + 2\n",
    "    return wrapper\n",
    "\n",
    "def decor2(func):\n",
    "    def wrapper():\n",
    "        value = func()\n",
    "        return value * 2\n",
    "    return wrapper\n",
    "\n",
    "@decor2\n",
    "@decor1\n",
    "def num():\n",
    "    return 10\n",
    "\n",
    "print(num())"
   ]
  }
 ],
 "metadata": {
  "kernelspec": {
   "display_name": "Python 3",
   "language": "python",
   "name": "python3"
  },
  "language_info": {
   "codemirror_mode": {
    "name": "ipython",
    "version": 3
   },
   "file_extension": ".py",
   "mimetype": "text/x-python",
   "name": "python",
   "nbconvert_exporter": "python",
   "pygments_lexer": "ipython3",
   "version": "3.7.4"
  }
 },
 "nbformat": 4,
 "nbformat_minor": 2
}
