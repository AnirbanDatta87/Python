{
 "cells": [
  {
   "cell_type": "markdown",
   "metadata": {},
   "source": [
    "# <font color='green'>M4 - Lists</font>\n",
    "## <font color='blue'>Source:</font>\n",
    " - ATBS | [Book](https://automatetheboringstuff.com/chapter1/) | [Course](https://www.udemy.com/course/automate/learn/lecture/3309062#overview)\n",
    " - CMS | [Course](https://www.youtube.com/watch?v=9Os0o3wzS_I&list=PL-osiE80TeTt2d9bfVyTiXJA-UTHn6WwU&index=8)\n",
    " - CP | Book | [C10 | P283]\n",
    " - Doc | [Data Structure](https://docs.python.org/3/tutorial/datastructures.html) | [Modules](https://docs.python.org/3/tutorial/modules.html) | [RTD Lists](https://python-reference.readthedocs.io/en/latest/docs/list/)"
   ]
  },
  {
   "cell_type": "markdown",
   "metadata": {},
   "source": [
    "# <font color = 'blue'>Lists</font>\n",
    "\n",
    "Lists are mutable ordered and indexed collections of objects. The items of a list are arbitrary Python objects. Lists are formed by placing a comma-separated list of expressions in square brackets. (Note that there are no special cases needed to form lists of length 0 or 1.)\n"
   ]
  }
 ],
 "metadata": {
  "kernelspec": {
   "display_name": "Python 3",
   "language": "python",
   "name": "python3"
  },
  "language_info": {
   "codemirror_mode": {
    "name": "ipython",
    "version": 3
   },
   "file_extension": ".py",
   "mimetype": "text/x-python",
   "name": "python",
   "nbconvert_exporter": "python",
   "pygments_lexer": "ipython3",
   "version": "3.7.4"
  }
 },
 "nbformat": 4,
 "nbformat_minor": 2
}
