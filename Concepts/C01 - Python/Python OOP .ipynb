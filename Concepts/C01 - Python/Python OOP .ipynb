{
 "cells": [
  {
   "cell_type": "code",
   "execution_count": 1,
   "metadata": {},
   "outputs": [],
   "source": [
    "import numpy as np\n",
    "import pandas as pd"
   ]
  },
  {
   "cell_type": "code",
   "execution_count": 2,
   "metadata": {},
   "outputs": [],
   "source": [
    "class Student:\n",
    "    '''\n",
    "    To declare and initialize variables\n",
    "    '''\n",
    "    def __init__(self):\n",
    "        self.id = id\n",
    "        self.name = 'name'\n",
    "        self.__grade = 2 # Private variable: Abstraction\n",
    "        \n",
    "    # display student details:\n",
    "    def display(self):\n",
    "        print(self.id)\n",
    "        print(self.name)"
   ]
  },
  {
   "cell_type": "code",
   "execution_count": 3,
   "metadata": {},
   "outputs": [
    {
     "name": "stdout",
     "output_type": "stream",
     "text": [
      "1\n",
      "Ani\n"
     ]
    }
   ],
   "source": [
    "ani = Student()\n",
    "ani.id = 1\n",
    "ani.name = 'Ani'\n",
    "ani.display()"
   ]
  },
  {
   "cell_type": "code",
   "execution_count": 4,
   "metadata": {},
   "outputs": [],
   "source": [
    "class MyClass:\n",
    "   \n",
    "    def __init__(self):\n",
    "        self.x = 1\n",
    "        self.__y = 2\n",
    "        \n",
    "    # display MyClass details:\n",
    "    def display(self):\n",
    "        print(self.x)\n",
    "        print(self._MyClass__y) # Name Mangling required"
   ]
  },
  {
   "cell_type": "code",
   "execution_count": 5,
   "metadata": {},
   "outputs": [
    {
     "name": "stdout",
     "output_type": "stream",
     "text": [
      "1\n",
      "2\n"
     ]
    }
   ],
   "source": [
    "# Accessing variables through MyClass.display() method\n",
    "m = MyClass()\n",
    "m.display()"
   ]
  },
  {
   "cell_type": "code",
   "execution_count": 6,
   "metadata": {},
   "outputs": [
    {
     "name": "stdout",
     "output_type": "stream",
     "text": [
      "1\n",
      "2\n"
     ]
    }
   ],
   "source": [
    "# Accessing variables through instance\n",
    "print(m.x)\n",
    "print(m._MyClass__y)"
   ]
  },
  {
   "cell_type": "code",
   "execution_count": 7,
   "metadata": {},
   "outputs": [
    {
     "name": "stdout",
     "output_type": "stream",
     "text": [
      "1 2\n"
     ]
    }
   ],
   "source": [
    "class A:\n",
    "    def __init__(self, a, b):\n",
    "        self.a = a\n",
    "        self.b = b\n",
    "        \n",
    "    def method1(self):\n",
    "        print(self.a, self.b)\n",
    "        \n",
    "        \n",
    "class B(A):\n",
    "    def __init__(self, a, b, c):\n",
    "        super().__init__(a, b)\n",
    "        self.c = c\n",
    "        \n",
    "    def method2(self):\n",
    "        print(self.c)\n",
    "        \n",
    "        \n",
    "var_b = B(1, 2, 3)\n",
    "var_b.method1()"
   ]
  },
  {
   "cell_type": "code",
   "execution_count": 8,
   "metadata": {},
   "outputs": [
    {
     "name": "stdout",
     "output_type": "stream",
     "text": [
      "3\n"
     ]
    }
   ],
   "source": [
    "var_b.method2()"
   ]
  }
 ],
 "metadata": {
  "kernelspec": {
   "display_name": "Python 3",
   "language": "python",
   "name": "python3"
  },
  "language_info": {
   "codemirror_mode": {
    "name": "ipython",
    "version": 3
   },
   "file_extension": ".py",
   "mimetype": "text/x-python",
   "name": "python",
   "nbconvert_exporter": "python",
   "pygments_lexer": "ipython3",
   "version": "3.8.5"
  }
 },
 "nbformat": 4,
 "nbformat_minor": 4
}
