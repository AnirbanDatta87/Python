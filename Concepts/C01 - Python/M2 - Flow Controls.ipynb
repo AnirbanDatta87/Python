{
 "cells": [
  {
   "cell_type": "markdown",
   "metadata": {},
   "source": [
    "# <font color='green'>M2 - Flow Controls</font>\n",
    "## <font color='blue'>Source:</font>\n",
    " - ATBS | [Book](https://automatetheboringstuff.com/chapter1/) | [Course](https://www.udemy.com/course/automate/learn/lecture/3309062#overview)\n",
    " - CMS | [Course](https://www.youtube.com/watch?v=k9TUPpGqYTo&list=PL-osiE80TeTt2d9bfVyTiXJA-UTHn6WwU&index=2)\n",
    " - CP | Book\n",
    " - PyN | [Course](https://pynative.com/python-range-function/#:~:targetText=The%20range()%20is%20a,iterate%20over%20with%20for%20loop.) | DB\n"
   ]
  },
  {
   "cell_type": "markdown",
   "metadata": {},
   "source": [
    "## Flow: if, elif, else"
   ]
  },
  {
   "cell_type": "code",
   "execution_count": 1,
   "metadata": {},
   "outputs": [
    {
     "name": "stdout",
     "output_type": "stream",
     "text": [
      "Please enter an integer: 34\n",
      "34 is even.\n"
     ]
    }
   ],
   "source": [
    "n = 0\n",
    "\n",
    "def even_odd(n):\n",
    "    if n%2 == 0:\n",
    "        return f'{str(n)} is even.'\n",
    "    else:\n",
    "        return f'{str(n)} is odd.'\n",
    "\n",
    "n = int(input('Please enter an integer: '))\n",
    "print(even_odd(n))"
   ]
  },
  {
   "cell_type": "markdown",
   "metadata": {},
   "source": [
    "## Flow: while"
   ]
  },
  {
   "cell_type": "markdown",
   "metadata": {},
   "source": [
    "### Source: \n",
    " - [SO | Input Validation](https://stackoverflow.com/questions/23294658/asking-the-user-for-input-until-they-give-a-valid-response)\n",
    " - [RP | while loop](https://realpython.com/python-while-loop/)\n",
    " - [EPD | Error Handling](http://easypythondocs.com/validation.html)"
   ]
  },
  {
   "cell_type": "markdown",
   "metadata": {},
   "source": [
    "## <font color='blue'>Problem 1: Even-odd</font>\n",
    "#### Take an input integer n and check if it is even or odd."
   ]
  },
  {
   "cell_type": "code",
   "execution_count": 8,
   "metadata": {},
   "outputs": [
    {
     "name": "stdout",
     "output_type": "stream",
     "text": [
      "Please enter an integer: asd\n",
      "Invalid input. Would like to try again? [y/n]: n\n",
      "Thank you for playing!\n"
     ]
    }
   ],
   "source": [
    "def even_odd(n):\n",
    "    if n%2 == 0:\n",
    "        return f'{str(n)} is even.'\n",
    "    else:\n",
    "        return f'{str(n)} is odd.'\n",
    "\n",
    "while True:\n",
    "    try:\n",
    "        n = int(input('Please enter an integer: '))\n",
    "        print(even_odd(n))\n",
    "    except ValueError:\n",
    "        answer = input('Invalid input. Would like to try again? [y/n]: ')\n",
    "        if answer == 'y':\n",
    "            continue\n",
    "        elif answer == 'n':\n",
    "            print('Thank you for playing!')\n",
    "        else:\n",
    "            print('Invalid input. Thank you for playing!')\n",
    "    break"
   ]
  },
  {
   "cell_type": "markdown",
   "metadata": {},
   "source": [
    "## Flow: for"
   ]
  },
  {
   "cell_type": "code",
   "execution_count": 11,
   "metadata": {},
   "outputs": [
    {
     "name": "stdout",
     "output_type": "stream",
     "text": [
      "[0, 1, 2, 3, 4, 5]\n"
     ]
    }
   ],
   "source": [
    "list = []\n",
    "i = 0\n",
    "for i in range(6):\n",
    "    list.append(i)\n",
    "print(list)"
   ]
  },
  {
   "cell_type": "markdown",
   "metadata": {},
   "source": [
    "## <font color='blue'>Problem 2: if - else</font>\n",
    "#### Source: [Hackerrank](https://www.hackerrank.com/challenges/py-if-else/problem)\n",
    "\n",
    "Given an integer , perform the following conditional actions:\n",
    "\n",
    "If  is odd, print Weird\n",
    "If  is even and in the inclusive range of  to , print Not Weird\n",
    "If  is even and in the inclusive range of  to , print Weird\n",
    "If  is even and greater than , print Not Weird\n",
    "Input Format\n",
    "\n",
    "A single line containing a positive integer, .\n",
    "\n",
    "Constraints: 1 <= n <= 20\n",
    "\n",
    "Output Format\n",
    "\n",
    "Print Weird if the number is weird; otherwise, print Not Weird."
   ]
  },
  {
   "cell_type": "markdown",
   "metadata": {},
   "source": [
    "## <font color='blue'>Problem 3: Check Prime Number</font>\n",
    "#### Take an input integer n and check if it is prime."
   ]
  },
  {
   "cell_type": "code",
   "execution_count": 24,
   "metadata": {},
   "outputs": [
    {
     "name": "stdout",
     "output_type": "stream",
     "text": [
      "Please enter an integer: 101973\n",
      "101973 is not a prime number.\n",
      "101973 equals 3 * 33991.\n"
     ]
    }
   ],
   "source": [
    "def check_prime(n):\n",
    "    for x in range(2, n):\n",
    "        if n%x == 0:\n",
    "            return f'{n} is not a prime number.\\n{n} equals {x} * {n//x}.'\n",
    "            break\n",
    "    else:\n",
    "        return f'{n} is a prime number.'\n",
    "            \n",
    "while True:\n",
    "    try:\n",
    "        n = int(input('Please enter an integer: '))\n",
    "        print(check_prime(n))\n",
    "    except ValueError:\n",
    "        answer = input('Invalid input. Would like to try again? [y/n]: ')\n",
    "        if answer == 'y':\n",
    "            continue\n",
    "        elif answer == 'n':\n",
    "            print('Thank you for playing!')\n",
    "        else:\n",
    "            print('Invalid input. Thank you for playing!')\n",
    "    break"
   ]
  },
  {
   "cell_type": "markdown",
   "metadata": {},
   "source": [
    "## <font color='blue'>Problem 4: Fibonacci Sequence</font>\n",
    "#### Generate Fibonacci Sequence for a given number n."
   ]
  },
  {
   "cell_type": "code",
   "execution_count": 25,
   "metadata": {},
   "outputs": [
    {
     "data": {
      "text/plain": [
       "[0, 1, 1, 2, 3, 5, 8, 13, 21]"
      ]
     },
     "execution_count": 25,
     "metadata": {},
     "output_type": "execute_result"
    }
   ],
   "source": [
    "def fibonacci(n):   # return Fibonacci series up to n\n",
    "    result = []\n",
    "    a, b = 0, 1\n",
    "    while a < n:\n",
    "        result.append(a)\n",
    "        a, b = b, a+b\n",
    "    return result\n",
    "\n",
    "fibonacci(29)"
   ]
  },
  {
   "cell_type": "markdown",
   "metadata": {},
   "source": [
    "## <font color='blue'>Problem 5: Leap year Calculation</font>\n",
    "#### For a given year, calculate whether it is a leap year or not."
   ]
  },
  {
   "cell_type": "code",
   "execution_count": null,
   "metadata": {},
   "outputs": [],
   "source": [
    "# Lead year, method 1\n",
    "def is_leap(y):\n",
    "    leap = False\n",
    "    \n",
    "    if y%4 == 0:\n",
    "        if y%100 == 0:\n",
    "            if y%400 == 0:\n",
    "                leap = True\n",
    "            else:\n",
    "                leap = False\n",
    "        else:\n",
    "            leap = True\n",
    "    else:\n",
    "        leap = False\n",
    "    \n",
    "    return leap\n",
    "\n",
    "y = int(input())\n",
    "print(is_leap(y))"
   ]
  },
  {
   "cell_type": "code",
   "execution_count": 7,
   "metadata": {},
   "outputs": [
    {
     "data": {
      "text/plain": [
       "False"
      ]
     },
     "execution_count": 7,
     "metadata": {},
     "output_type": "execute_result"
    }
   ],
   "source": [
    "# Lead year, method 2\n",
    "def is_leap(y):\n",
    "    leap_year = (y%4 == 0) and (y%100 != 0 or y%400 == 0)\n",
    "    return leap_year\n",
    "is_leap(2100)"
   ]
  },
  {
   "cell_type": "markdown",
   "metadata": {},
   "source": [
    "## <font color='blue'>Problem 6: Day for the date Calculation</font>\n",
    "#### Find the day of the week for a given date."
   ]
  },
  {
   "cell_type": "code",
   "execution_count": 12,
   "metadata": {},
   "outputs": [
    {
     "name": "stdout",
     "output_type": "stream",
     "text": [
      "Enter a day: 19/11/1764\n",
      "Monday\n"
     ]
    }
   ],
   "source": [
    "# program to Find day of  the week for a given date \n",
    "import calendar \n",
    "date = input('Enter a day: ')\n",
    "  \n",
    "def findDay(date): \n",
    "    day, month, year = (int(i) for i in date.split('/'))     \n",
    "    dayNumber = calendar.weekday(year, month, day) \n",
    "    days =[\"Monday\", \"Tuesday\", \"Wednesday\", \"Thursday\", \n",
    "                         \"Friday\", \"Saturday\", \"Sunday\"] \n",
    "    return (days[dayNumber]) \n",
    "  \n",
    "# Driver program \n",
    "print(findDay(date)) "
   ]
  },
  {
   "cell_type": "code",
   "execution_count": null,
   "metadata": {},
   "outputs": [],
   "source": []
  }
 ],
 "metadata": {
  "kernelspec": {
   "display_name": "Python 3",
   "language": "python",
   "name": "python3"
  },
  "language_info": {
   "codemirror_mode": {
    "name": "ipython",
    "version": 3
   },
   "file_extension": ".py",
   "mimetype": "text/x-python",
   "name": "python",
   "nbconvert_exporter": "python",
   "pygments_lexer": "ipython3",
   "version": "3.7.4"
  }
 },
 "nbformat": 4,
 "nbformat_minor": 2
}
