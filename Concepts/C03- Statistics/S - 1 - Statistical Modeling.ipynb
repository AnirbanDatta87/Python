{
 "cells": [
  {
   "cell_type": "markdown",
   "metadata": {},
   "source": [
    "# Statistical Modeling\n",
    "### Reference:\n",
    " 1. Book: Johansson [p.471]\n",
    " 2. Book: Massaron [p.88]"
   ]
  },
  {
   "cell_type": "code",
   "execution_count": 1,
   "metadata": {},
   "outputs": [],
   "source": [
    "import numpy as np\n",
    "import pandas as pd\n",
    "from scipy import stats\n",
    "import statsmodels.api as sm\n",
    "import statsmodels.formula.api as smf\n",
    "import statsmodels.graphics.api as smg\n",
    "import patsy\n",
    "import matplotlib as mpl\n",
    "import matplotlib.pyplot as plt\n",
    "import seaborn as sns\n",
    "import warnings\n",
    "\n",
    "pd.plotting.register_matplotlib_converters()\n",
    "%matplotlib inline\n",
    "plt.style.use('seaborn-whitegrid')\n",
    "pd.set_option('display.max_columns', 500)\n",
    "warnings.filterwarnings(\"ignore\")"
   ]
  },
  {
   "cell_type": "markdown",
   "metadata": {},
   "source": [
    "Reference:\n",
    " 1. [SO | Sc. to Num Output and Pretty Printing](https://stackoverflow.com/questions/9777783/suppress-scientific-notation-in-numpy-when-creating-array-from-nested-list)"
   ]
  },
  {
   "cell_type": "code",
   "execution_count": 2,
   "metadata": {},
   "outputs": [],
   "source": [
    "from pprint import pprint\n",
    "\n",
    "#This is a little recursive helper function converts all nested ndarrays to python list of lists so that pretty printer knows what to do.\n",
    "\n",
    "def arrayToList(arr):\n",
    "    if type(arr) == type(np.array):\n",
    "        #If the passed type is an ndarray then convert it to a list and\n",
    "        #recursively convert all nested types\n",
    "        return arrayToList(arr.tolist())\n",
    "    else:\n",
    "        #if item isn't an ndarray leave it as is.\n",
    "        return arr\n",
    "\n",
    "#suppress exponential notation, define an appropriate float formatter\n",
    "#specify stdout line width and let pretty print do the work\n",
    "np.set_printoptions(suppress=True, formatter={'float_kind':'{:16.8f}'.format}, linewidth=120)"
   ]
  },
  {
   "cell_type": "markdown",
   "metadata": {},
   "source": [
    "## 1. Statistical Modeling Basics:\n",
    "\n",
    "- A widely used statistical model is Y = β0 + β1 X + ε, where β0 and β1 are model parameters and ε is normally distributed with zero mean and variance σ2: ε~N(0, σ2). This model is known as simple linear regression if X is a scalar, multiple linear regression if X is a vector, and multivariate linear regression if Y is a vector. \n",
    "- Because the residual ε is normally distributed, for all these cases, the model can be fitted to data using ordinary least squares (OLS). \n",
    "- Relaxing the condition that the elements in Y, in the case of multivariate linear regression, must be independent and normally distributed with equal variance gives rise to variations of the model that can be solved with methods known as generalized least squares (GLS) and weighted least squares (WLS). \n",
    "- All methods for solving statistical models typically have a set of assumptions that one has to be mindful of when applying the models. For standard linear regression, the most important assumption is that the residuals are independent and normally distributed."
   ]
  },
  {
   "cell_type": "markdown",
   "metadata": {},
   "source": [
    "### 1.1. Design Matrix:\n",
    "Once the mathematical form of the model has been established, the next step is often\n",
    "to construct the so-called design matrices y and X such that the regression problem can\n",
    "be written in matrix form as y = Xβ + ε, where y is the vector (or matrix) of observations,\n",
    "β is a vector of coefficients, and ε is the residual (error). The elements Xij of the design\n",
    "matrix X are the values of the (functions of) explanatory variables corresponding to each\n",
    "coefficient βj and observation yi. Many solvers for statistical models in statsmodels and\n",
    "other statistical modeling libraries can take the design matrices X and y as input.\n",
    "For example, if the observed values are y = [1, 2, 3, 4, 5] with two independent\n",
    "variables with corresponding values x1 = [6, 7, 8, 9, 10] and x2 = [11, 12, 13, 14, 15], and\n",
    "if the linear model under consideration is Y = β0 + β1X1 + β2X2 + β3X1X2, then the design\n",
    "matrix for the right-hand side is X = [1, x1, x2, x1x2]. We can construct this design matrix\n",
    "using the NumPy vstack function:"
   ]
  },
  {
   "cell_type": "code",
   "execution_count": 3,
   "metadata": {
    "scrolled": true
   },
   "outputs": [
    {
     "data": {
      "text/plain": [
       "array([[      1.00000000,       6.00000000,      11.00000000,      66.00000000],\n",
       "       [      1.00000000,       7.00000000,      12.00000000,      84.00000000],\n",
       "       [      1.00000000,       8.00000000,      13.00000000,     104.00000000],\n",
       "       [      1.00000000,       9.00000000,      14.00000000,     126.00000000],\n",
       "       [      1.00000000,      10.00000000,      15.00000000,     150.00000000]])"
      ]
     },
     "execution_count": 3,
     "metadata": {},
     "output_type": "execute_result"
    }
   ],
   "source": [
    "y = np.array([1, 2, 3, 4, 5])\n",
    "x1 = np.array([6, 7, 8, 9, 10])\n",
    "x2 = np.array([11, 12, 13, 14, 15])\n",
    "X = np.vstack([np.ones(5), x1, x2, x1*x2]).T\n",
    "X"
   ]
  },
  {
   "cell_type": "markdown",
   "metadata": {},
   "source": [
    "Given the design matrix X and observation vector y, we can solve for the unknown\n",
    "coefficient vector β, for example, using least square fit:"
   ]
  },
  {
   "cell_type": "code",
   "execution_count": 4,
   "metadata": {},
   "outputs": [
    {
     "name": "stdout",
     "output_type": "stream",
     "text": [
      "array([     -0.55555556,       1.88888889,      -0.88888889,      -0.00000000])\n"
     ]
    }
   ],
   "source": [
    "beta, res, rank, sval = np.linalg.lstsq(X, y)\n",
    "pprint(arrayToList(beta))"
   ]
  },
  {
   "cell_type": "markdown",
   "metadata": {},
   "source": [
    "## 1.2. Patsy\n",
    "Although constructing the design matrix X was straightforward\n",
    "in this simple example, it can be tedious for more involved models and if we wish to be\n",
    "able to easily change how the model is defined. This is where the Patsy library enters\n",
    "the picture. It offers a convenient (although not necessarily intuitive) formula language\n",
    "for defining a model and automatically constructing the relevant design matrices.\n",
    "\n",
    "\n",
    "To construct the design matrix for a Patsy formula, we can use the <code>patsy.dmatrices</code>\n",
    "function. It takes the formula as a string as the first argument and a dictionary-like object\n",
    "with data arrays for the response and explanatory variables as the second argument.\n",
    "The basic syntax for the Patsy formula is <code>\"y ~ x1 + x2 + ...\"</code>, which means that y\n",
    "is a linear combination of the explanatory variables x1 and x2 (explicitly including an\n",
    "intercept coefficient). For a summary of the Patsy formula syntax, see Table 14-1.\n",
    "As an introductory example, consider again the linear model <code>Y = β0 + β1X1+ β2X2 + β3X1X2</code>\n",
    "that we used earlier. To define this model with Patsy, we can use the formula <code>y ~ 1 + x1 + x2 + x1*x2</code>.\n",
    "\n",
    "<img src=\"assets/patsy.jpg\"/>\n",
    "\n",
    "Note that we leave out coefficients in the model formula, as it is\n",
    "implicitly assumed that each term in the formula has a model parameter as a coefficient.\n",
    "In addition to specifying the formula, we also need to create a dictionary data that maps\n",
    "the variable names to the corresponding data arrays:"
   ]
  },
  {
   "cell_type": "code",
   "execution_count": 5,
   "metadata": {},
   "outputs": [
    {
     "data": {
      "text/plain": [
       "DesignMatrix with shape (5, 1)\n",
       "  y\n",
       "  1\n",
       "  2\n",
       "  3\n",
       "  4\n",
       "  5\n",
       "  Terms:\n",
       "    'y' (column 0)"
      ]
     },
     "execution_count": 5,
     "metadata": {},
     "output_type": "execute_result"
    }
   ],
   "source": [
    "data = {\"y\": y, \"x1\": x1, \"x2\": x2}\n",
    "y, X = patsy.dmatrices(\"y ~ 1 + x1 + x2 + x1*x2\", data)\n",
    "\n",
    "# The result is two arrays y and X, which are the design matrices for the given data arrays and the specified model formula:\n",
    "y"
   ]
  },
  {
   "cell_type": "code",
   "execution_count": 6,
   "metadata": {},
   "outputs": [
    {
     "name": "stdout",
     "output_type": "stream",
     "text": [
      "Type of X: <class 'patsy.design_info.DesignMatrix'>\n"
     ]
    },
    {
     "data": {
      "text/plain": [
       "DesignMatrix with shape (5, 4)\n",
       "  Intercept  x1  x2  x1:x2\n",
       "          1   6  11     66\n",
       "          1   7  12     84\n",
       "          1   8  13    104\n",
       "          1   9  14    126\n",
       "          1  10  15    150\n",
       "  Terms:\n",
       "    'Intercept' (column 0)\n",
       "    'x1' (column 1)\n",
       "    'x2' (column 2)\n",
       "    'x1:x2' (column 3)"
      ]
     },
     "execution_count": 6,
     "metadata": {},
     "output_type": "execute_result"
    }
   ],
   "source": [
    "# These arrays are of type DesignMatrix, which is a Patsy-supplied subclass of the\n",
    "# standard NumPy array, which contains additional metadata and an altered printing\n",
    "# representation.\n",
    "# help(patsy.design_info.DesignMatrix)\n",
    "\n",
    "print(f'Type of X: {type(X)}')\n",
    "X"
   ]
  },
  {
   "cell_type": "markdown",
   "metadata": {},
   "source": [
    "As a subclass of the NumPy <code>ndarray</code>, the arrays of type <code>DesignMatrix</code> are fully\n",
    "compatible with code that expects NumPy <code>array</code>s as input. However, we can also\n",
    "explicitly cast a <code>DesignMatrix</code> instance into an <code>ndarray</code> object using the <code>np.array</code>\n",
    "function, although this normally should not be necessary."
   ]
  },
  {
   "cell_type": "code",
   "execution_count": 7,
   "metadata": {},
   "outputs": [
    {
     "data": {
      "text/plain": [
       "array([[      1.00000000,       6.00000000,      11.00000000,      66.00000000],\n",
       "       [      1.00000000,       7.00000000,      12.00000000,      84.00000000],\n",
       "       [      1.00000000,       8.00000000,      13.00000000,     104.00000000],\n",
       "       [      1.00000000,       9.00000000,      14.00000000,     126.00000000],\n",
       "       [      1.00000000,      10.00000000,      15.00000000,     150.00000000]])"
      ]
     },
     "execution_count": 7,
     "metadata": {},
     "output_type": "execute_result"
    }
   ],
   "source": [
    "np.array(X)"
   ]
  },
  {
   "cell_type": "markdown",
   "metadata": {},
   "source": [
    "Alternatively, we can set the <code>return_type</code> argument to <code>DataFrame</code>, in which case the <code>patsy.dmatrices</code> function returns design matrices in the form of Pandas <code>DataFrame</code> objects. Also note that since <code>DataFrame</code> objects behave as dictionary-like objects, so we can use data frames to specify the model data as the second argument to the <code>patsy.dmatrices</code> function."
   ]
  },
  {
   "cell_type": "code",
   "execution_count": 8,
   "metadata": {},
   "outputs": [
    {
     "data": {
      "text/html": [
       "<div>\n",
       "<style scoped>\n",
       "    .dataframe tbody tr th:only-of-type {\n",
       "        vertical-align: middle;\n",
       "    }\n",
       "\n",
       "    .dataframe tbody tr th {\n",
       "        vertical-align: top;\n",
       "    }\n",
       "\n",
       "    .dataframe thead th {\n",
       "        text-align: right;\n",
       "    }\n",
       "</style>\n",
       "<table border=\"1\" class=\"dataframe\">\n",
       "  <thead>\n",
       "    <tr style=\"text-align: right;\">\n",
       "      <th></th>\n",
       "      <th>Intercept</th>\n",
       "      <th>x1</th>\n",
       "      <th>x2</th>\n",
       "      <th>x1:x2</th>\n",
       "    </tr>\n",
       "  </thead>\n",
       "  <tbody>\n",
       "    <tr>\n",
       "      <td>0</td>\n",
       "      <td>1.0</td>\n",
       "      <td>6.0</td>\n",
       "      <td>11.0</td>\n",
       "      <td>66.0</td>\n",
       "    </tr>\n",
       "    <tr>\n",
       "      <td>1</td>\n",
       "      <td>1.0</td>\n",
       "      <td>7.0</td>\n",
       "      <td>12.0</td>\n",
       "      <td>84.0</td>\n",
       "    </tr>\n",
       "    <tr>\n",
       "      <td>2</td>\n",
       "      <td>1.0</td>\n",
       "      <td>8.0</td>\n",
       "      <td>13.0</td>\n",
       "      <td>104.0</td>\n",
       "    </tr>\n",
       "    <tr>\n",
       "      <td>3</td>\n",
       "      <td>1.0</td>\n",
       "      <td>9.0</td>\n",
       "      <td>14.0</td>\n",
       "      <td>126.0</td>\n",
       "    </tr>\n",
       "    <tr>\n",
       "      <td>4</td>\n",
       "      <td>1.0</td>\n",
       "      <td>10.0</td>\n",
       "      <td>15.0</td>\n",
       "      <td>150.0</td>\n",
       "    </tr>\n",
       "  </tbody>\n",
       "</table>\n",
       "</div>"
      ],
      "text/plain": [
       "   Intercept    x1    x2  x1:x2\n",
       "0        1.0   6.0  11.0   66.0\n",
       "1        1.0   7.0  12.0   84.0\n",
       "2        1.0   8.0  13.0  104.0\n",
       "3        1.0   9.0  14.0  126.0\n",
       "4        1.0  10.0  15.0  150.0"
      ]
     },
     "execution_count": 8,
     "metadata": {},
     "output_type": "execute_result"
    }
   ],
   "source": [
    "df_data = pd.DataFrame(data)\n",
    "y, X = patsy.dmatrices(\"y ~ 1 + x1 + x2 + x1*x2\", df_data, return_type=\"dataframe\")\n",
    "X"
   ]
  },
  {
   "cell_type": "markdown",
   "metadata": {},
   "source": [
    "### <code>statsmodels.api</code>\n",
    "With the help of Patsy, we have now automatically created the design matrices\n",
    "required for solving a statistical model, using, for example, the <code>np.linalg.lstsq</code>\n",
    "function (as we saw an example earlier), or using one of the many statistical model\n",
    "solvers provided by the statsmodels library. For example, to perform an ordinary linear\n",
    "regression (OLS), we can use the class <code>OLS</code> from the <code>statsmodels</code> library instead of using\n",
    "the lower-level method <code>np.linalg.lstsq</code>. Nearly all classes for statistical models in\n",
    "statsmodels take the design matrices y and X as the first and second arguments and return a class instance that represents the model. To actually fit the model to the data encoded in the design matrices, we need to invoke the <code>fit</code> method, which returns a result object that contains fitted parameters (among other attributes):"
   ]
  },
  {
   "cell_type": "code",
   "execution_count": 9,
   "metadata": {
    "scrolled": true
   },
   "outputs": [
    {
     "data": {
      "text/plain": [
       "Intercept   -5.555556e-01\n",
       "x1           1.888889e+00\n",
       "x2          -8.888889e-01\n",
       "x1:x2       -1.332268e-15\n",
       "dtype: float64"
      ]
     },
     "execution_count": 9,
     "metadata": {},
     "output_type": "execute_result"
    }
   ],
   "source": [
    "model = sm.OLS(y, X)\n",
    "result = model.fit()\n",
    "result.params"
   ]
  },
  {
   "cell_type": "markdown",
   "metadata": {},
   "source": [
    "### <code>statsmodels.formulas.api</code>\n",
    "Using the statsmodels formula API (the module that we imported as smf),\n",
    "we can directly pass the Patsy formula for the model when we create a model instance,\n",
    "which completely eliminates the need for first creating the design matrices. Instead of\n",
    "passing y and X as arguments, we then pass the Patsy formula and the dictionary-like\n",
    "object (e.g., a Pandas data frame) that contains the model data."
   ]
  },
  {
   "cell_type": "code",
   "execution_count": 10,
   "metadata": {
    "scrolled": true
   },
   "outputs": [
    {
     "data": {
      "text/plain": [
       "Intercept   -5.555556e-01\n",
       "x1           1.888889e+00\n",
       "x2          -8.888889e-01\n",
       "x1:x2       -1.332268e-15\n",
       "dtype: float64"
      ]
     },
     "execution_count": 10,
     "metadata": {},
     "output_type": "execute_result"
    }
   ],
   "source": [
    "model = smf.ols(\"y ~ 1 + x1 + x2 + x1:x2\", df_data)\n",
    "result = model.fit()\n",
    "result.params"
   ]
  },
  {
   "cell_type": "markdown",
   "metadata": {},
   "source": [
    "### Reference:\n",
    " 1. [DefaultDict](https://www.accelebrate.com/blog/using-defaultdict-python)"
   ]
  },
  {
   "cell_type": "markdown",
   "metadata": {},
   "source": [
    "As a concrete example, consider the following formula and the resulting right-hand\n",
    "side terms (which we can extract from the <code>design_info</code> attribute using the <code>term_names</code>\n",
    "attribute):"
   ]
  },
  {
   "cell_type": "code",
   "execution_count": 11,
   "metadata": {},
   "outputs": [
    {
     "data": {
      "text/plain": [
       "defaultdict(<function __main__.<lambda>()>,\n",
       "            {'a': array([], dtype=float64), 'y': array([], dtype=float64)})"
      ]
     },
     "execution_count": 11,
     "metadata": {},
     "output_type": "execute_result"
    }
   ],
   "source": [
    "from collections import defaultdict\n",
    "data = defaultdict(lambda: np.array([]))\n",
    "patsy.dmatrices(\"y ~ a\", data=data)[1].design_info.term_names\n",
    "data"
   ]
  },
  {
   "cell_type": "markdown",
   "metadata": {},
   "source": [
    "## 2. Linear Regression\n",
    "\n",
    "The statsmodels library supports several types of statistical models that are applicable\n",
    "in varying situations, but nearly all follow the same usage pattern, which makes it easy\n",
    "to switch between different models. Statistical models in <code>statsmodels</code> are represented\n",
    "by model classes. These can be initiated given the design matrices for the response and\n",
    "explanatory variables of a linear model or given a Patsy formula and a data frame (or\n",
    "another dictionary-like object). The basic workflow when setting up and analyzing a\n",
    "statistical model with <code>statsmodels</code> includes the following steps:\n",
    "\n",
    "#### 1. Create Model Instance\n",
    "Create an instance of a model class, for example, using <code>model = sm.MODEL(y, X)</code> or <code>model = smf.model(formula, data)</code>, where <code>MODEL</code> and <code>model</code> are the name of a particular model, such as <code>OLS, GLS, Logit</code> etc. Here the convention is that uppercase names are used for classes that take design matrices as arguments and lowercase names for classes that take Patsy formulas and dataframes as arguments.\n",
    "    \n",
    "#### 2. Fit Data to Model\n",
    "Creating a model instance does not perform any computations. To\n",
    "    fit the model to the data, we must invoke the <code>fit</code> method, <code>result =\n",
    "    model.fit()</code>, which performs the fit and returns a result object that\n",
    "    has methods and attributes for further analysis.\n",
    "    \n",
    "#### 3. Statistical Summary\n",
    "Print summary statistics for the result object returned by the\n",
    "   <code>fit</code> method. The result object varies in content slightly for each\n",
    "    statistical model, but most models implement the method\n",
    "    summary, which produces a summary text that describes the result\n",
    "    of the fit, including several types of statistics that can be useful\n",
    "    for judging if the statistical model successfully explains the data.\n",
    "    Viewing the output from the summary method is usually a good\n",
    "    starting point when analyzing the result of a fitting process.\n",
    "   \n",
    "#### 4. Post - processing (Parameters, Residual, Fitted Values, Prediction)\n",
    "Post-process the model fit results: in addition to the summary\n",
    "   method, the result object also contains methods and attributes\n",
    "    for obtaining the fitted parameters (<code>params</code>), the residual for the\n",
    "    model and the data (<code>resid</code>), the fitted values (<code>fittedvalues</code>), and a\n",
    "    method for predicting the value of the response variables for new\n",
    "    independent variables (<code>predict</code>).\n",
    "    \n",
    "#### 5. Visualization of the Model\n",
    "Finally, it may be useful to visualize the result of the fitting, for\n",
    "   example, with the <code>Matplotlib</code> and <code>Seaborn</code> graphics libraries,\n",
    "    of using some of the many graphing routines that are directly\n",
    "    included in the <code>statsmodels</code> library (see the statsmodels.\n",
    "    graphics module).\n",
    "    \n",
    "## 2.1. Statistical Linear Regression: Creating Model Instance   \n",
    "\n",
    "To demonstrate this workflow with a simple example, in the following we consider\n",
    "fitting a model to generate data whose true value is <code>y = 1 + 2.x1 + 3.x2 + 4.x1.x2</code>. We begin with\n",
    "storing the data in a Pandas data frame object:"
   ]
  },
  {
   "cell_type": "code",
   "execution_count": 12,
   "metadata": {
    "scrolled": true
   },
   "outputs": [
    {
     "data": {
      "text/html": [
       "<div>\n",
       "<style scoped>\n",
       "    .dataframe tbody tr th:only-of-type {\n",
       "        vertical-align: middle;\n",
       "    }\n",
       "\n",
       "    .dataframe tbody tr th {\n",
       "        vertical-align: top;\n",
       "    }\n",
       "\n",
       "    .dataframe thead th {\n",
       "        text-align: right;\n",
       "    }\n",
       "</style>\n",
       "<table border=\"1\" class=\"dataframe\">\n",
       "  <thead>\n",
       "    <tr style=\"text-align: right;\">\n",
       "      <th></th>\n",
       "      <th>x1</th>\n",
       "      <th>x2</th>\n",
       "    </tr>\n",
       "  </thead>\n",
       "  <tbody>\n",
       "    <tr>\n",
       "      <td>0</td>\n",
       "      <td>-0.052805</td>\n",
       "      <td>-1.345321</td>\n",
       "    </tr>\n",
       "    <tr>\n",
       "      <td>1</td>\n",
       "      <td>-0.453226</td>\n",
       "      <td>-1.945994</td>\n",
       "    </tr>\n",
       "    <tr>\n",
       "      <td>2</td>\n",
       "      <td>0.833825</td>\n",
       "      <td>0.117000</td>\n",
       "    </tr>\n",
       "  </tbody>\n",
       "</table>\n",
       "</div>"
      ],
      "text/plain": [
       "         x1        x2\n",
       "0 -0.052805 -1.345321\n",
       "1 -0.453226 -1.945994\n",
       "2  0.833825  0.117000"
      ]
     },
     "execution_count": 12,
     "metadata": {},
     "output_type": "execute_result"
    }
   ],
   "source": [
    "N = 100\n",
    "x1 = np.random.randn(N)\n",
    "x2 = np.random.randn(N)\n",
    "data = pd.DataFrame({\"x1\": x1, \"x2\": x2})\n",
    "data.head(3)"
   ]
  },
  {
   "cell_type": "code",
   "execution_count": 13,
   "metadata": {},
   "outputs": [
    {
     "data": {
      "text/html": [
       "<div>\n",
       "<style scoped>\n",
       "    .dataframe tbody tr th:only-of-type {\n",
       "        vertical-align: middle;\n",
       "    }\n",
       "\n",
       "    .dataframe tbody tr th {\n",
       "        vertical-align: top;\n",
       "    }\n",
       "\n",
       "    .dataframe thead th {\n",
       "        text-align: right;\n",
       "    }\n",
       "</style>\n",
       "<table border=\"1\" class=\"dataframe\">\n",
       "  <thead>\n",
       "    <tr style=\"text-align: right;\">\n",
       "      <th></th>\n",
       "      <th>x1</th>\n",
       "      <th>x2</th>\n",
       "      <th>y_true</th>\n",
       "    </tr>\n",
       "  </thead>\n",
       "  <tbody>\n",
       "    <tr>\n",
       "      <td>0</td>\n",
       "      <td>-0.053</td>\n",
       "      <td>-1.345</td>\n",
       "      <td>-2.857</td>\n",
       "    </tr>\n",
       "    <tr>\n",
       "      <td>1</td>\n",
       "      <td>-0.453</td>\n",
       "      <td>-1.946</td>\n",
       "      <td>-2.217</td>\n",
       "    </tr>\n",
       "    <tr>\n",
       "      <td>2</td>\n",
       "      <td>0.834</td>\n",
       "      <td>0.117</td>\n",
       "      <td>3.409</td>\n",
       "    </tr>\n",
       "  </tbody>\n",
       "</table>\n",
       "</div>"
      ],
      "text/plain": [
       "      x1     x2  y_true\n",
       "0 -0.053 -1.345  -2.857\n",
       "1 -0.453 -1.946  -2.217\n",
       "2  0.834  0.117   3.409"
      ]
     },
     "execution_count": 13,
     "metadata": {},
     "output_type": "execute_result"
    }
   ],
   "source": [
    "def y_true(x1, x2):\n",
    "    return 1 + 2 * x1 + 3 * x2 + 4 * x1 * x2\n",
    "\n",
    "data[\"y_true\"] = y_true(x1, x2)\n",
    "data.head(3).round(3)"
   ]
  },
  {
   "cell_type": "markdown",
   "metadata": {},
   "source": [
    "Here we have stored the true value of y in the <code>y_true</code> column in the <code>DataFrame</code> object\n",
    "<code>data</code>. We simulate a noisy observation of y by adding a normal distributed noise to the\n",
    "true values and store the result in the y column:"
   ]
  },
  {
   "cell_type": "code",
   "execution_count": 14,
   "metadata": {},
   "outputs": [
    {
     "name": "stdout",
     "output_type": "stream",
     "text": [
      "(100, 4)\n"
     ]
    },
    {
     "data": {
      "text/html": [
       "<div>\n",
       "<style scoped>\n",
       "    .dataframe tbody tr th:only-of-type {\n",
       "        vertical-align: middle;\n",
       "    }\n",
       "\n",
       "    .dataframe tbody tr th {\n",
       "        vertical-align: top;\n",
       "    }\n",
       "\n",
       "    .dataframe thead th {\n",
       "        text-align: right;\n",
       "    }\n",
       "</style>\n",
       "<table border=\"1\" class=\"dataframe\">\n",
       "  <thead>\n",
       "    <tr style=\"text-align: right;\">\n",
       "      <th></th>\n",
       "      <th>x1</th>\n",
       "      <th>x2</th>\n",
       "      <th>y_true</th>\n",
       "      <th>y</th>\n",
       "    </tr>\n",
       "  </thead>\n",
       "  <tbody>\n",
       "    <tr>\n",
       "      <td>0</td>\n",
       "      <td>-0.053</td>\n",
       "      <td>-1.345</td>\n",
       "      <td>-2.857</td>\n",
       "      <td>-7.407</td>\n",
       "    </tr>\n",
       "    <tr>\n",
       "      <td>1</td>\n",
       "      <td>-0.453</td>\n",
       "      <td>-1.946</td>\n",
       "      <td>-2.217</td>\n",
       "      <td>-0.977</td>\n",
       "    </tr>\n",
       "    <tr>\n",
       "      <td>2</td>\n",
       "      <td>0.834</td>\n",
       "      <td>0.117</td>\n",
       "      <td>3.409</td>\n",
       "      <td>-2.289</td>\n",
       "    </tr>\n",
       "  </tbody>\n",
       "</table>\n",
       "</div>"
      ],
      "text/plain": [
       "      x1     x2  y_true      y\n",
       "0 -0.053 -1.345  -2.857 -7.407\n",
       "1 -0.453 -1.946  -2.217 -0.977\n",
       "2  0.834  0.117   3.409 -2.289"
      ]
     },
     "execution_count": 14,
     "metadata": {},
     "output_type": "execute_result"
    }
   ],
   "source": [
    "e = 4* np.random.randn(N)\n",
    "data[\"y\"] = data[\"y_true\"] + e\n",
    "print(data.shape)\n",
    "data.head(3).round(3)"
   ]
  },
  {
   "cell_type": "code",
   "execution_count": 15,
   "metadata": {},
   "outputs": [
    {
     "data": {
      "image/png": "[encoded data removed]",
      "text/plain": [
       "<Figure size 1152x432 with 4 Axes>"
      ]
     },
     "metadata": {
      "needs_background": "light"
     },
     "output_type": "display_data"
    }
   ],
   "source": [
    "from mpl_toolkits.mplot3d import Axes3D\n",
    "fig, ax = plt.subplots(1, 2, figsize=(16, 6), subplot_kw={'projection': '3d'})\n",
    "\n",
    "def title_and_labels(ax, title):\n",
    "    ax.set_title(title)\n",
    "    ax.set_xlabel(\"$x1$\", fontsize=16)\n",
    "    ax.set_ylabel(\"$x2$\", fontsize=16)\n",
    "    ax.set_zlabel(\"$y$\", fontsize=16)\n",
    "\n",
    "x = y = np.linspace(-4, 3, 100)\n",
    "X, Y = np.meshgrid(x, y)\n",
    "\n",
    "# Z = 1 + 2 * x1 + 3 * x2 + 4 * x1 * x2\n",
    "Z1 = data['y_true']\n",
    "Z2 = data['y']\n",
    "\n",
    "norm = mpl.colors.Normalize(-abs(Z1).max(), abs(Z1).max())\n",
    "\n",
    "p = ax[0].scatter(x, y, Z1, c='r', marker='o')\n",
    "\n",
    "cb = fig.colorbar(p, ax=ax[0], shrink=0.6) \n",
    "\n",
    "title_and_labels(ax[0], \"Scatter Plot\")\n",
    "\n",
    "p = ax[1].scatter(x, y, Z2, c='b', marker='^')\n",
    "\n",
    "cb = fig.colorbar(p, ax=ax[1], shrink=0.6) \n",
    "\n",
    "title_and_labels(ax[1], \"Scatter Plot\")"
   ]
  },
  {
   "cell_type": "markdown",
   "metadata": {},
   "source": [
    "## 2.2 Fit Model\n",
    "\n",
    "The simplest possible model we can start with is the\n",
    "linear model <code>Y = β0 + β1x1 + β2x2</code>, which we can define with the Patsy formula <code>y ~ x1 + x2</code>.\n",
    "Since the response variable is continuous, it is a good starting point to fit the model to\n",
    "the data using ordinary linear squares, for which we can use the <code>smf.ols</code> class."
   ]
  },
  {
   "cell_type": "code",
   "execution_count": 16,
   "metadata": {},
   "outputs": [],
   "source": [
    "model = smf.ols(\"y ~ x1 + x2\", data)\n",
    "result = model.fit()"
   ]
  },
  {
   "cell_type": "markdown",
   "metadata": {},
   "source": [
    "Remember that ordinary least square regression assumes that the residuals of the\n",
    "fitted model and the data are normally distributed. However, before analyzing the\n",
    "data, we might not know if this condition is satisfied or not. Nonetheless, we can start\n",
    "by fitting the data to the model and investigate the distribution of the residual using\n",
    "graphical methods and statistical tests (with the null hypothesis that the residuals are\n",
    "indeed normally distributed). \n",
    "\n",
    "## 2.3 Summary\n",
    "\n",
    "A lot of useful information, including several types of test\n",
    "statistics, can be displayed using the <code>summary</code> method:"
   ]
  },
  {
   "cell_type": "code",
   "execution_count": 17,
   "metadata": {
    "scrolled": false
   },
   "outputs": [
    {
     "data": {
      "text/html": [
       "<table class=\"simpletable\">\n",
       "<caption>OLS Regression Results</caption>\n",
       "<tr>\n",
       "  <th>Dep. Variable:</th>            <td>y</td>        <th>  R-squared:         </th> <td>   0.442</td>\n",
       "</tr>\n",
       "<tr>\n",
       "  <th>Model:</th>                   <td>OLS</td>       <th>  Adj. R-squared:    </th> <td>   0.430</td>\n",
       "</tr>\n",
       "<tr>\n",
       "  <th>Method:</th>             <td>Least Squares</td>  <th>  F-statistic:       </th> <td>   38.40</td>\n",
       "</tr>\n",
       "<tr>\n",
       "  <th>Date:</th>             <td>Wed, 12 Feb 2020</td> <th>  Prob (F-statistic):</th> <td>5.20e-13</td>\n",
       "</tr>\n",
       "<tr>\n",
       "  <th>Time:</th>                 <td>15:09:27</td>     <th>  Log-Likelihood:    </th> <td> -312.86</td>\n",
       "</tr>\n",
       "<tr>\n",
       "  <th>No. Observations:</th>      <td>   100</td>      <th>  AIC:               </th> <td>   631.7</td>\n",
       "</tr>\n",
       "<tr>\n",
       "  <th>Df Residuals:</th>          <td>    97</td>      <th>  BIC:               </th> <td>   639.5</td>\n",
       "</tr>\n",
       "<tr>\n",
       "  <th>Df Model:</th>              <td>     2</td>      <th>                     </th>     <td> </td>   \n",
       "</tr>\n",
       "<tr>\n",
       "  <th>Covariance Type:</th>      <td>nonrobust</td>    <th>                     </th>     <td> </td>   \n",
       "</tr>\n",
       "</table>\n",
       "<table class=\"simpletable\">\n",
       "<tr>\n",
       "      <td></td>         <th>coef</th>     <th>std err</th>      <th>t</th>      <th>P>|t|</th>  <th>[0.025</th>    <th>0.975]</th>  \n",
       "</tr>\n",
       "<tr>\n",
       "  <th>Intercept</th> <td>    0.8745</td> <td>    0.574</td> <td>    1.524</td> <td> 0.131</td> <td>   -0.264</td> <td>    2.013</td>\n",
       "</tr>\n",
       "<tr>\n",
       "  <th>x1</th>        <td>    3.9205</td> <td>    0.556</td> <td>    7.053</td> <td> 0.000</td> <td>    2.817</td> <td>    5.024</td>\n",
       "</tr>\n",
       "<tr>\n",
       "  <th>x2</th>        <td>    3.1969</td> <td>    0.596</td> <td>    5.368</td> <td> 0.000</td> <td>    2.015</td> <td>    4.379</td>\n",
       "</tr>\n",
       "</table>\n",
       "<table class=\"simpletable\">\n",
       "<tr>\n",
       "  <th>Omnibus:</th>       <td> 1.663</td> <th>  Durbin-Watson:     </th> <td>   1.932</td>\n",
       "</tr>\n",
       "<tr>\n",
       "  <th>Prob(Omnibus):</th> <td> 0.435</td> <th>  Jarque-Bera (JB):  </th> <td>   1.498</td>\n",
       "</tr>\n",
       "<tr>\n",
       "  <th>Skew:</th>          <td>-0.299</td> <th>  Prob(JB):          </th> <td>   0.473</td>\n",
       "</tr>\n",
       "<tr>\n",
       "  <th>Kurtosis:</th>      <td> 2.944</td> <th>  Cond. No.          </th> <td>    1.24</td>\n",
       "</tr>\n",
       "</table><br/><br/>Warnings:<br/>[1] Standard Errors assume that the covariance matrix of the errors is correctly specified."
      ],
      "text/plain": [
       "<class 'statsmodels.iolib.summary.Summary'>\n",
       "\"\"\"\n",
       "                            OLS Regression Results                            \n",
       "==============================================================================\n",
       "Dep. Variable:                      y   R-squared:                       0.442\n",
       "Model:                            OLS   Adj. R-squared:                  0.430\n",
       "Method:                 Least Squares   F-statistic:                     38.40\n",
       "Date:                Wed, 12 Feb 2020   Prob (F-statistic):           5.20e-13\n",
       "Time:                        15:09:27   Log-Likelihood:                -312.86\n",
       "No. Observations:                 100   AIC:                             631.7\n",
       "Df Residuals:                      97   BIC:                             639.5\n",
       "Df Model:                           2                                         \n",
       "Covariance Type:            nonrobust                                         \n",
       "==============================================================================\n",
       "                 coef    std err          t      P>|t|      [0.025      0.975]\n",
       "------------------------------------------------------------------------------\n",
       "Intercept      0.8745      0.574      1.524      0.131      -0.264       2.013\n",
       "x1             3.9205      0.556      7.053      0.000       2.817       5.024\n",
       "x2             3.1969      0.596      5.368      0.000       2.015       4.379\n",
       "==============================================================================\n",
       "Omnibus:                        1.663   Durbin-Watson:                   1.932\n",
       "Prob(Omnibus):                  0.435   Jarque-Bera (JB):                1.498\n",
       "Skew:                          -0.299   Prob(JB):                        0.473\n",
       "Kurtosis:                       2.944   Cond. No.                         1.24\n",
       "==============================================================================\n",
       "\n",
       "Warnings:\n",
       "[1] Standard Errors assume that the covariance matrix of the errors is correctly specified.\n",
       "\"\"\""
      ]
     },
     "execution_count": 17,
     "metadata": {},
     "output_type": "execute_result"
    }
   ],
   "source": [
    "result.summary()"
   ]
  },
  {
   "cell_type": "markdown",
   "metadata": {},
   "source": [
    "## 2.4 Post Processing\n",
    "\n",
    "The output produced by the summary method is rather verbose, and a detailed\n",
    "description of all the information provided by this method is beyond the scope of\n",
    "this treatment. Instead, here we only focus on a few key indicators. \n",
    "\n",
    "\n",
    "### 2.4.1 $R^{2}$\n",
    "To begin with, the $R^{2}$ value is a statistic that indicates how well the model fits the data. It can take\n",
    "values between 0 and 1, where an $R^{2}$ statistic of 1 corresponds to a perfect fit.\n",
    "The $R^{2}$ value of 0.380 reported in the preceding <code>summary</code> method is rather poor,\n",
    "and it indicates that we need to refine our model (which is expected, since we left out\n",
    "the interaction term <code>x1 ∙ x2</code>). We can also explicitly access the $R^{2}$ statistic from the\n",
    "result object using the <code>rsquared</code> attribute."
   ]
  },
  {
   "cell_type": "code",
   "execution_count": 18,
   "metadata": {},
   "outputs": [
    {
     "data": {
      "text/plain": [
       "0.44189628167431116"
      ]
     },
     "execution_count": 18,
     "metadata": {},
     "output_type": "execute_result"
    }
   ],
   "source": [
    "result.rsquared"
   ]
  }
 ],
 "metadata": {
  "kernelspec": {
   "display_name": "Python 3",
   "language": "python",
   "name": "python3"
  },
  "language_info": {
   "codemirror_mode": {
    "name": "ipython",
    "version": 3
   },
   "file_extension": ".py",
   "mimetype": "text/x-python",
   "name": "python",
   "nbconvert_exporter": "python",
   "pygments_lexer": "ipython3",
   "version": "3.7.4"
  }
 },
 "nbformat": 4,
 "nbformat_minor": 2
}
