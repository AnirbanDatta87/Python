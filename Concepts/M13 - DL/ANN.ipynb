{
 "cells": [
  {
   "cell_type": "code",
   "execution_count": 1,
   "metadata": {},
   "outputs": [],
   "source": [
    "# Essential Libraries\n",
    "import os\n",
    "import sys\n",
    "import numpy as np\n",
    "import pandas as pd\n",
    "import datetime\n",
    "import random\n",
    "\n",
    "# ML\n",
    "from sklearn import datasets\n",
    "import tensorflow as tf\n",
    "import keras\n",
    "\n",
    "# Plots\n",
    "import seaborn as sns\n",
    "import matplotlib as mpl\n",
    "import matplotlib.pyplot as plt\n",
    "mpl.rc('axes', labelsize=14)\n",
    "mpl.rc('xtick', labelsize=12)\n",
    "mpl.rc('ytick', labelsize=12)\n",
    "sns.set_style(\"whitegrid\");\n",
    "sns.set_color_codes(palette='pastel');\n",
    "\n",
    "# Stats\n",
    "from scipy.stats import skew, norm\n",
    "from scipy.special import boxcox1p\n",
    "from scipy.stats import boxcox_normmax\n",
    "\n",
    "# Display options\n",
    "pd.set_option('display.max_columns', None);\n",
    "pd.options.display.max_seq_items = 8000;\n",
    "pd.options.display.max_rows = 8000;\n",
    "%precision 6\n",
    "\n",
    "# Ignore Warnings\n",
    "import warnings\n",
    "warnings.filterwarnings(action=\"ignore\")"
   ]
  },
  {
   "cell_type": "code",
   "execution_count": 2,
   "metadata": {},
   "outputs": [],
   "source": [
    "# Define data and image directory\n",
    "PROJECT_ROOT_DIR = \".\"\n",
    "DATA_DIR = os.path.join(PROJECT_ROOT_DIR, \"data\")\n",
    "IMAGE_DIR = os.path.join(PROJECT_ROOT_DIR, \"img\")\n",
    "\n",
    "from IPython.display import Image\n",
    "for d in [DATA_DIR, IMAGE_DIR]:\n",
    "    if not os.path.exists(d):\n",
    "        os.mkdir(d)\n",
    "\n",
    "# Define a function to save images\n",
    "def save_fig(fig_id, tight_layout=True, fig_extension=\"png\", resolution=300):\n",
    "    path = os.path.join(IMAGE_DIR, fig_id + \".\" + fig_extension)\n",
    "    print(\"Saving figure\", fig_id)\n",
    "    if tight_layout:\n",
    "        plt.tight_layout()\n",
    "    plt.savefig(path, format=fig_extension, dpi=resolution)\n",
    "    \n",
    "from pprint import pprint\n",
    "\n",
    "# This is a little recursive helper function converts all nested ndarrays to python list of lists so that pretty printer knows what to do.\n",
    "\n",
    "def arrayToList(arr):\n",
    "    if type(arr) == type(np.array):\n",
    "        #If the passed type is an ndarray then convert it to a list and\n",
    "        #recursively convert all nested types\n",
    "        return arrayToList(arr.tolist())\n",
    "    else:\n",
    "        #if item isn't an ndarray leave it as is.\n",
    "        return arr\n",
    "    \n",
    "# Suppress exponential notation, define an appropriate float formatter\n",
    "# Specify stdout line width and let pretty print do the work\n",
    "np.set_printoptions(suppress=True, formatter={'float_kind':'{:.6f}'.format}, linewidth=100)\n",
    "np.set_printoptions(precision=6)"
   ]
  },
  {
   "cell_type": "markdown",
   "metadata": {},
   "source": [
    "## What is a Neural Network?\n",
    "### NN with 1 input"
   ]
  },
  {
   "cell_type": "code",
   "execution_count": 3,
   "metadata": {},
   "outputs": [
    {
     "name": "stdout",
     "output_type": "stream",
     "text": [
      "0.8500000000000001\n"
     ]
    }
   ],
   "source": [
    "# The network:\n",
    "\n",
    "weight = 0.1 \n",
    "def neural_network(input, weight):\n",
    "    prediction = input * weight\n",
    "    return prediction\n",
    "\n",
    "# How we use the network to predict something:\n",
    "\n",
    "number_of_toes = [8.5, 9.5, 10, 9]\n",
    "input = number_of_toes[0]\n",
    "pred = neural_network(input,weight)\n",
    "print(pred)"
   ]
  },
  {
   "cell_type": "markdown",
   "metadata": {},
   "source": [
    "### NN with multiple inputs"
   ]
  },
  {
   "cell_type": "code",
   "execution_count": 4,
   "metadata": {},
   "outputs": [
    {
     "name": "stdout",
     "output_type": "stream",
     "text": [
      "0.9800000000000001\n"
     ]
    }
   ],
   "source": [
    "def w_sum(a,b):\n",
    "    assert(len(a) == len(b))\n",
    "    output = 0\n",
    "    for i in range(len(a)):\n",
    "        output += (a[i] * b[i])\n",
    "    return output\n",
    "\n",
    "weights = [0.1, 0.2, 0] \n",
    "    \n",
    "def neural_network(input, weights):\n",
    "    pred = w_sum(input,weights)\n",
    "    return pred\n",
    "\n",
    "# This dataset is the current\n",
    "# status at the beginning of\n",
    "# each game for the first 4 games\n",
    "# in a season.\n",
    "\n",
    "# toes = current number of toes\n",
    "# wlrec = current games won (percent)\n",
    "# nfans = fan count (in millions)\n",
    "\n",
    "toes =  [8.5, 9.5, 9.9, 9.0]\n",
    "wlrec = [0.65, 0.8, 0.8, 0.9]\n",
    "nfans = [1.2, 1.3, 0.5, 1.0]\n",
    "\n",
    "# Input corresponds to every entry\n",
    "# for the first game of the season.\n",
    "\n",
    "input = [toes[0],wlrec[0],nfans[0]]\n",
    "pred = neural_network(input,weights)\n",
    "\n",
    "print(pred)"
   ]
  },
  {
   "cell_type": "markdown",
   "metadata": {},
   "source": [
    "### Multiple Inputs - Numpy"
   ]
  },
  {
   "cell_type": "code",
   "execution_count": 5,
   "metadata": {},
   "outputs": [
    {
     "data": {
      "text/plain": [
       "16"
      ]
     },
     "execution_count": 5,
     "metadata": {},
     "output_type": "execute_result"
    }
   ],
   "source": [
    "a = [3, 4, 2]\n",
    "b = [2, 1, 3]\n",
    "result = np.dot(a, b)\n",
    "result"
   ]
  },
  {
   "cell_type": "code",
   "execution_count": 6,
   "metadata": {},
   "outputs": [
    {
     "name": "stdout",
     "output_type": "stream",
     "text": [
      "0.9800000000000001\n"
     ]
    }
   ],
   "source": [
    "import numpy as np\n",
    "weights = np.array([0.1, 0.2, 0])\n",
    "def neural_network(input, weights):\n",
    "    pred = input.dot(weights)\n",
    "    return pred\n",
    "    \n",
    "toes =  np.array([8.5, 9.5, 9.9, 9.0])\n",
    "wlrec = np.array([0.65, 0.8, 0.8, 0.9])\n",
    "nfans = np.array([1.2, 1.3, 0.5, 1.0])\n",
    "\n",
    "# Input corresponds to every entry\n",
    "# for the first game of the season.\n",
    "\n",
    "input = np.array([toes[0],wlrec[0],nfans[0]])\n",
    "pred = neural_network(input,weights)\n",
    "\n",
    "print(pred)"
   ]
  },
  {
   "cell_type": "code",
   "execution_count": 7,
   "metadata": {},
   "outputs": [
    {
     "data": {
      "text/plain": [
       "[0, 0, 0]"
      ]
     },
     "execution_count": 7,
     "metadata": {},
     "output_type": "execute_result"
    }
   ],
   "source": [
    "vector = [2, 3, 4]\n",
    "lst = [0 for x in range(len(vector))]\n",
    "lst"
   ]
  },
  {
   "cell_type": "markdown",
   "metadata": {},
   "source": [
    "### Single Input - Multiple Output"
   ]
  },
  {
   "cell_type": "code",
   "execution_count": 8,
   "metadata": {},
   "outputs": [
    {
     "data": {
      "text/plain": [
       "[0.195000, 0.130000, 0.520000]"
      ]
     },
     "execution_count": 8,
     "metadata": {},
     "output_type": "execute_result"
    }
   ],
   "source": [
    "def ele_mult(number, vector):\n",
    "    output = [0 for x in range(len(vector))]\n",
    "    for i in range(len(vector)):\n",
    "        output[i] += number*vector[i]\n",
    "        \n",
    "    return output\n",
    "\n",
    "def neural_network(predictor, weights):\n",
    "    prediction = ele_mult(predictor, weights)\n",
    "    \n",
    "    return prediction\n",
    "\n",
    "predictor = 0.65\n",
    "weights = [0.3, 0.2, 0.8]\n",
    "\n",
    "neural_network(predictor, weights) "
   ]
  },
  {
   "cell_type": "code",
   "execution_count": 9,
   "metadata": {},
   "outputs": [
    {
     "data": {
      "text/plain": [
       "array([0.195, 0.13 , 0.52 ])"
      ]
     },
     "execution_count": 9,
     "metadata": {},
     "output_type": "execute_result"
    }
   ],
   "source": [
    "def neural_network(predictor, weights):\n",
    "    prediction = np.dot(predictor, weights)\n",
    "    \n",
    "    return prediction\n",
    "\n",
    "predictor = 0.65\n",
    "weights = [0.3, 0.2, 0.8]\n",
    "\n",
    "neural_network(predictor, weights) "
   ]
  },
  {
   "cell_type": "markdown",
   "metadata": {},
   "source": [
    "### Multiple Input and Output"
   ]
  },
  {
   "cell_type": "code",
   "execution_count": 10,
   "metadata": {},
   "outputs": [
    {
     "data": {
      "text/plain": [
       "[0.555, 0.9800000000000001, 0.9650000000000001]"
      ]
     },
     "execution_count": 10,
     "metadata": {},
     "output_type": "execute_result"
    }
   ],
   "source": [
    "def w_sum(a,b):\n",
    "    assert(len(a) == len(b))\n",
    "    output = 0\n",
    "    for i in range(len(a)):\n",
    "        output += (a[i] * b[i])\n",
    "    return output\n",
    "\n",
    "def vector_mat_mult(vector, matrix):\n",
    "    output = [0 for x in range(len(matrix))]\n",
    "    for i in range(len(matrix)):\n",
    "        output[i] += w_sum(matrix[i], vector)\n",
    "        \n",
    "    return output\n",
    "\n",
    "def neural_network(predictor, weights):\n",
    "    prediction = vector_mat_mult(predictor, weights)\n",
    "    \n",
    "    return prediction\n",
    "\n",
    "toes =  [8.5, 9.5, 9.9, 9.0]\n",
    "wlrec = [0.65,0.8, 0.8, 0.9]\n",
    "nfans = [1.2, 1.3, 0.5, 1.0]\n",
    "\n",
    "predictor = [toes[0],wlrec[0],nfans[0]]\n",
    "weights = np.array([[0.1, 0.1, -0.3], [0.1, 0.2, 0.0], [0.0, 1.3, 0.1]])\n",
    "\n",
    "prediction = neural_network(predictor, weights)\n",
    "prediction"
   ]
  },
  {
   "cell_type": "code",
   "execution_count": 11,
   "metadata": {
    "scrolled": true
   },
   "outputs": [
    {
     "data": {
      "text/plain": [
       "[0.555, 0.9800000000000001, 0.9650000000000001, 1.0350000000000001]"
      ]
     },
     "execution_count": 11,
     "metadata": {},
     "output_type": "execute_result"
    }
   ],
   "source": [
    "predictor = [toes[0],wlrec[0],nfans[0]]\n",
    "weights = np.array([[0.1, 0.1, -0.3], [0.1, 0.2, 0.0], [0.0, 1.3, 0.1], [0.1, 0.1, 0.1]]) # Different weight dimension \n",
    "\n",
    "prediction = neural_network(predictor, weights)\n",
    "prediction"
   ]
  },
  {
   "cell_type": "markdown",
   "metadata": {},
   "source": [
    "### Multiple Input and Output - with 1 Hidden layer"
   ]
  },
  {
   "cell_type": "code",
   "execution_count": 12,
   "metadata": {},
   "outputs": [
    {
     "name": "stdout",
     "output_type": "stream",
     "text": [
      "[0.21350000000000002, 0.14500000000000002, 0.5065]\n"
     ]
    }
   ],
   "source": [
    "            #toes %win #fans\n",
    "ih_wgt = [ [0.1, 0.2, -0.1], #hid[0]\n",
    "           [-0.1,0.1, 0.9], #hid[1]\n",
    "           [0.1, 0.4, 0.1] ] #hid[2]\n",
    "\n",
    "           #hid[0] hid[1] hid[2]\n",
    "hp_wgt = [ [0.3, 1.1, -0.3], #hurt?\n",
    "           [0.1, 0.2, 0.0], #win?\n",
    "           [0.0, 1.3, 0.1] ] #sad?\n",
    "\n",
    "weights = [ih_wgt, hp_wgt]\n",
    "\n",
    "def w_sum(a,b):\n",
    "    assert(len(a) == len(b))\n",
    "    output = 0\n",
    "    for i in range(len(a)):\n",
    "        output += (a[i] * b[i])\n",
    "    return output\n",
    "\n",
    "def vector_mat_mult(vector, matrix):\n",
    "    output = [0 for x in range(len(matrix))]\n",
    "    for i in range(len(matrix)):\n",
    "        output[i] += w_sum(matrix[i], vector)\n",
    "        \n",
    "    return output\n",
    "\n",
    "def neural_network(predictor, weights):\n",
    "    hidden = vector_mat_mult(predictor, weights[0])\n",
    "    output = vector_mat_mult(hidden, weights[1])\n",
    "    return output\n",
    "\n",
    "toes =  [8.5, 9.5, 9.9, 9.0]\n",
    "wlrec = [0.65,0.8, 0.8, 0.9]\n",
    "nfans = [1.2, 1.3, 0.5, 1.0]\n",
    "\n",
    "# Input corresponds to every entry\n",
    "# for the first game of the season.\n",
    "\n",
    "predictor = [toes[0],wlrec[0],nfans[0]]\n",
    "pred = neural_network(predictor,weights)\n",
    "\n",
    "print(pred)"
   ]
  },
  {
   "cell_type": "code",
   "execution_count": 13,
   "metadata": {},
   "outputs": [
    {
     "name": "stdout",
     "output_type": "stream",
     "text": [
      "[0.31050000000000005, 0.24200000000000005]\n"
     ]
    }
   ],
   "source": [
    "            #toes %win #fans\n",
    "ih_wgt = [ [0.1, 0.2, -0.1], #hid[0]\n",
    "           [-0.1,0.1, 0.9], #hid[1]\n",
    "           [0.1, 0.4, 0.1],\n",
    "           [0.1, 0.0, 0.1]] #hid[2]\n",
    "\n",
    "           #hid[0] hid[1] hid[2]\n",
    "hp_wgt = [ [0.3, 1.1, -0.3, 0.1], #hurt?\n",
    "           [0.1, 0.2, 0.0, 0.1]] #win?\n",
    "           \n",
    "\n",
    "weights = [ih_wgt, hp_wgt]\n",
    "\n",
    "def w_sum(a,b):\n",
    "    assert(len(a) == len(b))\n",
    "    output = 0\n",
    "    for i in range(len(a)):\n",
    "        output += (a[i] * b[i])\n",
    "    return output\n",
    "\n",
    "def vector_mat_mult(vector, matrix):\n",
    "    output = [0 for x in range(len(matrix))]\n",
    "    for i in range(len(matrix)):\n",
    "        output[i] += w_sum(matrix[i], vector)\n",
    "        \n",
    "    return output\n",
    "\n",
    "def neural_network(predictor, weights):\n",
    "    hidden = vector_mat_mult(predictor, weights[0])\n",
    "    output = vector_mat_mult(hidden, weights[1])\n",
    "    return output\n",
    "\n",
    "toes =  [8.5, 9.5, 9.9, 9.0]\n",
    "wlrec = [0.65,0.8, 0.8, 0.9]\n",
    "nfans = [1.2, 1.3, 0.5, 1.0]\n",
    "\n",
    "# Input corresponds to every entry\n",
    "# for the first game of the season.\n",
    "\n",
    "predictor = [toes[0],wlrec[0],nfans[0]]\n",
    "pred = neural_network(predictor,weights)\n",
    "\n",
    "print(pred)"
   ]
  },
  {
   "cell_type": "markdown",
   "metadata": {},
   "source": [
    "### Neural Network with 1 hidden layer - Numpy"
   ]
  },
  {
   "cell_type": "code",
   "execution_count": 14,
   "metadata": {},
   "outputs": [
    {
     "name": "stdout",
     "output_type": "stream",
     "text": [
      "[0.2135 0.145  0.5065]\n"
     ]
    }
   ],
   "source": [
    "import numpy as np\n",
    "\n",
    "#toes %win #fans\n",
    "ih_wgt = np.array([ \n",
    "            [0.1, 0.2, -0.1], #hid[0]\n",
    "            [-0.1,0.1, 0.9], #hid[1]\n",
    "            [0.1, 0.4, 0.1]]).T #hid[2]\n",
    "\n",
    "\n",
    "# hid[0] hid[1] hid[2]\n",
    "hp_wgt = np.array([  \n",
    "            [0.3, 1.1, -0.3], #hurt?\n",
    "            [0.1, 0.2, 0.0], #win?\n",
    "            [0.0, 1.3, 0.1] ]).T #sad?\n",
    "\n",
    "weights = [ih_wgt, hp_wgt]\n",
    "\n",
    "def neural_network(input, weights):\n",
    "\n",
    "    hid = input.dot(weights[0])\n",
    "    pred = hid.dot(weights[1])\n",
    "    return pred\n",
    "\n",
    "\n",
    "toes =  np.array([8.5, 9.5, 9.9, 9.0])\n",
    "wlrec = np.array([0.65,0.8, 0.8, 0.9])\n",
    "nfans = np.array([1.2, 1.3, 0.5, 1.0])\n",
    "\n",
    "input = np.array([toes[0],wlrec[0],nfans[0]])\n",
    "\n",
    "pred = neural_network(input,weights)\n",
    "print(pred)"
   ]
  },
  {
   "cell_type": "markdown",
   "metadata": {},
   "source": [
    "## Gradient Descent\n",
    "#### Mean Squared Error"
   ]
  },
  {
   "cell_type": "code",
   "execution_count": 15,
   "metadata": {},
   "outputs": [
    {
     "data": {
      "text/plain": [
       "0.160000"
      ]
     },
     "execution_count": 15,
     "metadata": {},
     "output_type": "execute_result"
    }
   ],
   "source": [
    "weight = 0.5\n",
    "predictor = 0.8\n",
    "\n",
    "output = weight*predictor\n",
    "observation = 0.8\n",
    "error = (observation - output)**2\n",
    "error"
   ]
  },
  {
   "cell_type": "markdown",
   "metadata": {},
   "source": [
    "### The simplest learning method: Hot and Cold learning"
   ]
  },
  {
   "cell_type": "code",
   "execution_count": 16,
   "metadata": {},
   "outputs": [
    {
     "name": "stdout",
     "output_type": "stream",
     "text": [
      "0.022499999999999975\n"
     ]
    }
   ],
   "source": [
    "# 1) An Empty Network\n",
    "\n",
    "weight = 0.1 \n",
    "lr = 0.01\n",
    "\n",
    "def neural_network(x, weight):\n",
    "    prediction = x * weight\n",
    "    return prediction\n",
    "\n",
    "\n",
    "# 2) PREDICT: Making A Prediction And Evaluating Error\n",
    "\n",
    "number_of_toes = [8.5]\n",
    "win_or_lose_binary = [1] #(won!)\n",
    "\n",
    "x = number_of_toes[0]\n",
    "true = win_or_lose_binary[0]\n",
    "\n",
    "pred = neural_network(x, weight)\n",
    "error = (pred - true) ** 2\n",
    "print(error)"
   ]
  },
  {
   "cell_type": "code",
   "execution_count": 17,
   "metadata": {},
   "outputs": [
    {
     "name": "stdout",
     "output_type": "stream",
     "text": [
      "0.004224999999999993\n"
     ]
    }
   ],
   "source": [
    "# 3) COMPARE: Making A Prediction With a *Higher* Weight And Evaluating Error\n",
    "\n",
    "weight = 0.1 \n",
    "\n",
    "def neural_network(x, weight):\n",
    "    prediction = x * weight\n",
    "    return prediction\n",
    "\n",
    "number_of_toes = [8.5]\n",
    "win_or_lose_binary = [1] #(won!)\n",
    "\n",
    "x = number_of_toes[0]\n",
    "true = win_or_lose_binary[0]\n",
    "\n",
    "lr = 0.01\n",
    "p_up = neural_network(x, weight+lr) # Prediction\n",
    "e_up = (p_up - true) ** 2\n",
    "print(e_up)"
   ]
  },
  {
   "cell_type": "code",
   "execution_count": 18,
   "metadata": {},
   "outputs": [
    {
     "name": "stdout",
     "output_type": "stream",
     "text": [
      "0.05522499999999994\n"
     ]
    }
   ],
   "source": [
    "# 4) COMPARE: Making A Prediction With a *Lower* Weight And Evaluating Error\n",
    "\n",
    "weight = 0.1 \n",
    "\n",
    "def neural_network(x, weight):\n",
    "    prediction = x * weight\n",
    "    return prediction\n",
    "\n",
    "number_of_toes = [8.5]\n",
    "win_or_lose_binary = [1] #(won!)\n",
    "\n",
    "x = number_of_toes[0]\n",
    "true = win_or_lose_binary[0]\n",
    "\n",
    "lr = 0.01\n",
    "p_dn = neural_network(x, weight-lr) # Prediction\n",
    "e_dn = (p_dn - true) ** 2\n",
    "print(e_dn)"
   ]
  },
  {
   "cell_type": "code",
   "execution_count": 19,
   "metadata": {},
   "outputs": [
    {
     "data": {
      "text/html": [
       "<div>\n",
       "<style scoped>\n",
       "    .dataframe tbody tr th:only-of-type {\n",
       "        vertical-align: middle;\n",
       "    }\n",
       "\n",
       "    .dataframe tbody tr th {\n",
       "        vertical-align: top;\n",
       "    }\n",
       "\n",
       "    .dataframe thead th {\n",
       "        text-align: right;\n",
       "    }\n",
       "</style>\n",
       "<table border=\"1\" class=\"dataframe\">\n",
       "  <thead>\n",
       "    <tr style=\"text-align: right;\">\n",
       "      <th></th>\n",
       "      <th>prediction</th>\n",
       "      <th>error</th>\n",
       "    </tr>\n",
       "  </thead>\n",
       "  <tbody>\n",
       "    <tr>\n",
       "      <th>0</th>\n",
       "      <td>0.2500</td>\n",
       "      <td>0.302500</td>\n",
       "    </tr>\n",
       "    <tr>\n",
       "      <th>1</th>\n",
       "      <td>0.2505</td>\n",
       "      <td>0.301950</td>\n",
       "    </tr>\n",
       "    <tr>\n",
       "      <th>2</th>\n",
       "      <td>0.2510</td>\n",
       "      <td>0.301401</td>\n",
       "    </tr>\n",
       "    <tr>\n",
       "      <th>3</th>\n",
       "      <td>0.2515</td>\n",
       "      <td>0.300852</td>\n",
       "    </tr>\n",
       "    <tr>\n",
       "      <th>4</th>\n",
       "      <td>0.2520</td>\n",
       "      <td>0.300304</td>\n",
       "    </tr>\n",
       "  </tbody>\n",
       "</table>\n",
       "</div>"
      ],
      "text/plain": [
       "   prediction     error\n",
       "0      0.2500  0.302500\n",
       "1      0.2505  0.301950\n",
       "2      0.2510  0.301401\n",
       "3      0.2515  0.300852\n",
       "4      0.2520  0.300304"
      ]
     },
     "execution_count": 19,
     "metadata": {},
     "output_type": "execute_result"
    }
   ],
   "source": [
    "weight = 0.5\n",
    "x = 0.5\n",
    "goal_prediction = 0.8\n",
    "\n",
    "step_amount = 0.001\n",
    "\n",
    "lst_predictions = []\n",
    "lst_errors = []\n",
    "\n",
    "for i in range(1101):\n",
    "\n",
    "    prediction = x * weight\n",
    "    error = (prediction - goal_prediction) ** 2\n",
    "\n",
    "#     print(\"Error:\" + str(error) + \" Prediction:\" + str(prediction))\n",
    "    \n",
    "    up_prediction = x * (weight + step_amount)\n",
    "    up_error = (goal_prediction - up_prediction) ** 2\n",
    "\n",
    "    down_prediction = x * (weight - step_amount)\n",
    "    down_error = (goal_prediction - down_prediction) ** 2\n",
    "    \n",
    "    lst_predictions.append(prediction)\n",
    "    lst_errors.append(error)\n",
    "\n",
    "    if(down_error < up_error):\n",
    "        weight = weight - step_amount\n",
    "        \n",
    "    elif(down_error > up_error):\n",
    "        weight = weight + step_amount\n",
    "        \n",
    "err_df = pd.DataFrame(list(zip(lst_predictions, lst_errors)), columns=['prediction','error'])\n",
    "err_df.head()"
   ]
  },
  {
   "cell_type": "code",
   "execution_count": 20,
   "metadata": {},
   "outputs": [
    {
     "data": {
      "image/png": "[encoded data removed]",
      "text/plain": [
       "<Figure size 576x432 with 1 Axes>"
      ]
     },
     "metadata": {},
     "output_type": "display_data"
    }
   ],
   "source": [
    "err_df.plot(figsize=(8, 6));"
   ]
  },
  {
   "cell_type": "markdown",
   "metadata": {},
   "source": [
    "### Problems with Hot and Cold learning:\n",
    "* It is inefficient because you predict three times for each weight update (error, error_up and error_down),\n",
    "* even though you know the correct direction to move weight, you don’t know the correct amount. Instead, you pick a fixed one at random <code>step_amount</code>.\n",
    "* Furthermore, this amount has nothing to do with error. Whether error is big or tiny, <code>step_amount</code> is the same.\n",
    "* If the perfect weight (for 0 error) != <code>n.step_amount</code>, the prediction will start to oscillate back and forth around the correct observation value.\n",
    "\n",
    "### Gradient Descent\n",
    "#### What is <code>direction_and_amount</code>?\n",
    "<code>direction_and_amount</code> represents how you want to change weight. The first part <code>(pred - goal_pred)</code>\n",
    "is what I call pure error, which equals (pred - goal_pred). The\n",
    "second part c is the multiplication by the input that performs scaling, negative reversal,\n",
    "and stopping, modifying the pure error so it’s ready to update weight.\n",
    "#### What is the pure error?\n",
    "The pure error is (pred - goal_pred), which indicates the raw direction and amount you\n",
    "missed. If this is a positive number, you predicted too high, and vice versa. If this is a big\n",
    "number, you missed by a big amount, and so on.\n",
    "#### What are scaling, negative reversal, and stopping?\n",
    "These three attributes have the combined effect of translating the pure error into the absolute\n",
    "amount you want to change weight. <b>They do so by addressing three major edge cases\n",
    "where the pure error isn’t sufficient to make a good modification to weight.</b>\n",
    "#### What is stopping?\n",
    "Stopping is the first (and simplest) effect on the pure error caused by multiplying it by\n",
    "input. Imagine plugging a CD player into your stereo. If you turned the volume all the\n",
    "way up but the CD player was off, the volume change wouldn’t matter. Stopping addresses\n",
    "this in a neural network. If input is 0, then it will force direction_and_amount to also\n",
    "be 0. You don’t learn (change the volume) when input is 0, because there’s nothing\n",
    "to learn. Every weight value has the same error, and moving it makes no difference\n",
    "because pred is always 0.\n",
    "#### What is negative reversal?\n",
    "This is probably the most difficult and important effect. Normally (when input is positive),\n",
    "moving weight upward makes the prediction move upward. But if input is negative,\n",
    "then all of a sudden weight changes directions! When input is negative, moving\n",
    "weight up makes the prediction go down. It’s reversed! How do you address this? Well,\n",
    "multiplying the pure error by input will reverse the sign of direction_and_amount in\n",
    "the event that input is negative. This is negative reversal, ensuring that weight moves in\n",
    "the correct direction even if input is negative.\n",
    "#### What is scaling?\n",
    "Scaling is the third effect on the pure error caused by multiplying it by input. Logically, if\n",
    "input is big, your weight update should also be big. This is more of a side effect, because\n",
    "it often goes out of control. Later, you’ll use alpha to address when that happens."
   ]
  },
  {
   "cell_type": "code",
   "execution_count": 21,
   "metadata": {},
   "outputs": [
    {
     "data": {
      "image/png": "[encoded data removed]",
      "text/plain": [
       "<Figure size 576x432 with 1 Axes>"
      ]
     },
     "metadata": {},
     "output_type": "display_data"
    }
   ],
   "source": [
    "weight = 0.5\n",
    "goal_pred = 0.8\n",
    "input = 0.5\n",
    "\n",
    "lst_predictions = []\n",
    "lst_errors = []\n",
    "\n",
    "for iteration in range(20):\n",
    "    pred = input * weight\n",
    "    error = (pred - goal_pred) ** 2\n",
    "    direction_and_amount = (pred - goal_pred) * input\n",
    "    weight = weight - direction_and_amount\n",
    "    lst_predictions.append(pred)\n",
    "    lst_errors.append(error)\n",
    "\n",
    "#     print(\"Error:\" + str(error) + \" Prediction:\" + str(pred))\n",
    "\n",
    "err_df = pd.DataFrame(list(zip(lst_predictions, lst_errors)), columns=['prediction','error'])\n",
    "err_df.plot(figsize=(8, 6));"
   ]
  }
 ],
 "metadata": {
  "kernelspec": {
   "display_name": "Python 3",
   "language": "python",
   "name": "python3"
  },
  "language_info": {
   "codemirror_mode": {
    "name": "ipython",
    "version": 3
   },
   "file_extension": ".py",
   "mimetype": "text/x-python",
   "name": "python",
   "nbconvert_exporter": "python",
   "pygments_lexer": "ipython3",
   "version": "3.8.5"
  }
 },
 "nbformat": 4,
 "nbformat_minor": 4
}
