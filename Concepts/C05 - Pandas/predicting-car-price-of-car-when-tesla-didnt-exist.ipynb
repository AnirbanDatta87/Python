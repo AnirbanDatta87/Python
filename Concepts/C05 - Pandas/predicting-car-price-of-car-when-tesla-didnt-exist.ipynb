{
 "cells": [
  {
   "cell_type": "markdown",
   "metadata": {
    "_kg_hide-input": true,
    "_uuid": "0e5c257257301865df9f39960b6763802a2819c0"
   },
   "source": [
    "I have been working in automobile industry for last 12 years.So any data on automotive industry is interesting for me.Automotive industry has been going through disruptions like electric cars,car sharing and autonomous vehicles.In this project I will be exploring the data set and predicting the price of the car.This project is work in process and I will be updating the project in coming days.If you like my work please do vote for me.Please go through below blog link to read my views on future of Automotive industry. \n",
    "Electric cars http://btplife.blogspot.com/2017/05/electric-car-disruption.html\n"
   ]
  },
  {
   "cell_type": "code",
   "execution_count": 1,
   "metadata": {
    "_cell_guid": "b1076dfc-b9ad-4769-8c92-a6c4dae69d19",
    "_kg_hide-input": true,
    "_uuid": "8f2839f25d086af736a60e9eeb907d3b93b6e0e5"
   },
   "outputs": [],
   "source": [
    "# This Python 3 environment comes with many helpful analytics libraries installed\n",
    "# It is defined by the kaggle/python docker image: https://github.com/kaggle/docker-python\n",
    "# For example, here's several helpful packages to load in \n",
    "\n",
    "import numpy as np # linear algebra\n",
    "import pandas as pd # data processing, CSV file I/O (e.g. pd.read_csv)\n",
    "\n",
    "# Input data files are available in the \"../input/\" directory.\n",
    "# For example, running this (by clicking run or pressing Shift+Enter) will list the files in the input directory\n",
    "\n",
    "import os\n",
    "\n",
    "# Any results you write to the current directory are saved as output."
   ]
  },
  {
   "cell_type": "markdown",
   "metadata": {
    "_uuid": "c4a0661f3e426c0365d89c4d8665bb039ddc836e"
   },
   "source": [
    "### Importing Python Modules"
   ]
  },
  {
   "cell_type": "code",
   "execution_count": 2,
   "metadata": {
    "_cell_guid": "79c7e3d0-c299-4dcb-8224-4455121ee9b0",
    "_kg_hide-input": true,
    "_uuid": "d629ff2d2480ee46fbb7e2d37f6b5fab8052498a"
   },
   "outputs": [],
   "source": [
    "import pandas as pd\n",
    "import numpy as np\n",
    "import matplotlib.pyplot as plt \n",
    "plt.style.use('seaborn')\n",
    "import seaborn as sns"
   ]
  },
  {
   "cell_type": "markdown",
   "metadata": {
    "_uuid": "1a33972b5949d37546b2d454695407cefb3366bf"
   },
   "source": [
    "### Importing data "
   ]
  },
  {
   "cell_type": "code",
   "execution_count": 3,
   "metadata": {
    "_kg_hide-input": true,
    "_uuid": "44967fbff61266bd97373450c09289ff2f6a4c5d"
   },
   "outputs": [],
   "source": [
    "car=pd.read_csv('Automobile.csv')"
   ]
  },
  {
   "cell_type": "markdown",
   "metadata": {
    "_uuid": "7d01a8698db27e799d83b4e70982ca7404721b63"
   },
   "source": [
    "### Displaying the first five columns of the data"
   ]
  },
  {
   "cell_type": "code",
   "execution_count": 4,
   "metadata": {
    "_kg_hide-input": true,
    "_uuid": "214013147a4279d3529cddda882da06b1040db32"
   },
   "outputs": [
    {
     "data": {
      "text/html": [
       "<div>\n",
       "<style scoped>\n",
       "    .dataframe tbody tr th:only-of-type {\n",
       "        vertical-align: middle;\n",
       "    }\n",
       "\n",
       "    .dataframe tbody tr th {\n",
       "        vertical-align: top;\n",
       "    }\n",
       "\n",
       "    .dataframe thead th {\n",
       "        text-align: right;\n",
       "    }\n",
       "</style>\n",
       "<table border=\"1\" class=\"dataframe\">\n",
       "  <thead>\n",
       "    <tr style=\"text-align: right;\">\n",
       "      <th></th>\n",
       "      <th>symboling</th>\n",
       "      <th>normalized_losses</th>\n",
       "      <th>make</th>\n",
       "      <th>fuel_type</th>\n",
       "      <th>aspiration</th>\n",
       "      <th>number_of_doors</th>\n",
       "      <th>body_style</th>\n",
       "      <th>drive_wheels</th>\n",
       "      <th>engine_location</th>\n",
       "      <th>wheel_base</th>\n",
       "      <th>...</th>\n",
       "      <th>engine_size</th>\n",
       "      <th>fuel_system</th>\n",
       "      <th>bore</th>\n",
       "      <th>stroke</th>\n",
       "      <th>compression_ratio</th>\n",
       "      <th>horsepower</th>\n",
       "      <th>peak_rpm</th>\n",
       "      <th>city_mpg</th>\n",
       "      <th>highway_mpg</th>\n",
       "      <th>price</th>\n",
       "    </tr>\n",
       "  </thead>\n",
       "  <tbody>\n",
       "    <tr>\n",
       "      <td>0</td>\n",
       "      <td>3</td>\n",
       "      <td>168</td>\n",
       "      <td>alfa-romero</td>\n",
       "      <td>gas</td>\n",
       "      <td>std</td>\n",
       "      <td>two</td>\n",
       "      <td>convertible</td>\n",
       "      <td>rwd</td>\n",
       "      <td>front</td>\n",
       "      <td>88.6</td>\n",
       "      <td>...</td>\n",
       "      <td>130</td>\n",
       "      <td>mpfi</td>\n",
       "      <td>3.47</td>\n",
       "      <td>2.68</td>\n",
       "      <td>9.0</td>\n",
       "      <td>111</td>\n",
       "      <td>5000</td>\n",
       "      <td>21</td>\n",
       "      <td>27</td>\n",
       "      <td>13495</td>\n",
       "    </tr>\n",
       "    <tr>\n",
       "      <td>1</td>\n",
       "      <td>3</td>\n",
       "      <td>168</td>\n",
       "      <td>alfa-romero</td>\n",
       "      <td>gas</td>\n",
       "      <td>std</td>\n",
       "      <td>two</td>\n",
       "      <td>convertible</td>\n",
       "      <td>rwd</td>\n",
       "      <td>front</td>\n",
       "      <td>88.6</td>\n",
       "      <td>...</td>\n",
       "      <td>130</td>\n",
       "      <td>mpfi</td>\n",
       "      <td>3.47</td>\n",
       "      <td>2.68</td>\n",
       "      <td>9.0</td>\n",
       "      <td>111</td>\n",
       "      <td>5000</td>\n",
       "      <td>21</td>\n",
       "      <td>27</td>\n",
       "      <td>16500</td>\n",
       "    </tr>\n",
       "    <tr>\n",
       "      <td>2</td>\n",
       "      <td>1</td>\n",
       "      <td>168</td>\n",
       "      <td>alfa-romero</td>\n",
       "      <td>gas</td>\n",
       "      <td>std</td>\n",
       "      <td>two</td>\n",
       "      <td>hatchback</td>\n",
       "      <td>rwd</td>\n",
       "      <td>front</td>\n",
       "      <td>94.5</td>\n",
       "      <td>...</td>\n",
       "      <td>152</td>\n",
       "      <td>mpfi</td>\n",
       "      <td>2.68</td>\n",
       "      <td>3.47</td>\n",
       "      <td>9.0</td>\n",
       "      <td>154</td>\n",
       "      <td>5000</td>\n",
       "      <td>19</td>\n",
       "      <td>26</td>\n",
       "      <td>16500</td>\n",
       "    </tr>\n",
       "    <tr>\n",
       "      <td>3</td>\n",
       "      <td>2</td>\n",
       "      <td>164</td>\n",
       "      <td>audi</td>\n",
       "      <td>gas</td>\n",
       "      <td>std</td>\n",
       "      <td>four</td>\n",
       "      <td>sedan</td>\n",
       "      <td>fwd</td>\n",
       "      <td>front</td>\n",
       "      <td>99.8</td>\n",
       "      <td>...</td>\n",
       "      <td>109</td>\n",
       "      <td>mpfi</td>\n",
       "      <td>3.19</td>\n",
       "      <td>3.40</td>\n",
       "      <td>10.0</td>\n",
       "      <td>102</td>\n",
       "      <td>5500</td>\n",
       "      <td>24</td>\n",
       "      <td>30</td>\n",
       "      <td>13950</td>\n",
       "    </tr>\n",
       "    <tr>\n",
       "      <td>4</td>\n",
       "      <td>2</td>\n",
       "      <td>164</td>\n",
       "      <td>audi</td>\n",
       "      <td>gas</td>\n",
       "      <td>std</td>\n",
       "      <td>four</td>\n",
       "      <td>sedan</td>\n",
       "      <td>4wd</td>\n",
       "      <td>front</td>\n",
       "      <td>99.4</td>\n",
       "      <td>...</td>\n",
       "      <td>136</td>\n",
       "      <td>mpfi</td>\n",
       "      <td>3.19</td>\n",
       "      <td>3.40</td>\n",
       "      <td>8.0</td>\n",
       "      <td>115</td>\n",
       "      <td>5500</td>\n",
       "      <td>18</td>\n",
       "      <td>22</td>\n",
       "      <td>17450</td>\n",
       "    </tr>\n",
       "  </tbody>\n",
       "</table>\n",
       "<p>5 rows × 26 columns</p>\n",
       "</div>"
      ],
      "text/plain": [
       "   symboling  normalized_losses         make fuel_type aspiration  \\\n",
       "0          3                168  alfa-romero       gas        std   \n",
       "1          3                168  alfa-romero       gas        std   \n",
       "2          1                168  alfa-romero       gas        std   \n",
       "3          2                164         audi       gas        std   \n",
       "4          2                164         audi       gas        std   \n",
       "\n",
       "  number_of_doors   body_style drive_wheels engine_location  wheel_base  ...  \\\n",
       "0             two  convertible          rwd           front        88.6  ...   \n",
       "1             two  convertible          rwd           front        88.6  ...   \n",
       "2             two    hatchback          rwd           front        94.5  ...   \n",
       "3            four        sedan          fwd           front        99.8  ...   \n",
       "4            four        sedan          4wd           front        99.4  ...   \n",
       "\n",
       "   engine_size  fuel_system  bore  stroke compression_ratio horsepower  \\\n",
       "0          130         mpfi  3.47    2.68               9.0        111   \n",
       "1          130         mpfi  3.47    2.68               9.0        111   \n",
       "2          152         mpfi  2.68    3.47               9.0        154   \n",
       "3          109         mpfi  3.19    3.40              10.0        102   \n",
       "4          136         mpfi  3.19    3.40               8.0        115   \n",
       "\n",
       "   peak_rpm city_mpg  highway_mpg  price  \n",
       "0      5000       21           27  13495  \n",
       "1      5000       21           27  16500  \n",
       "2      5000       19           26  16500  \n",
       "3      5500       24           30  13950  \n",
       "4      5500       18           22  17450  \n",
       "\n",
       "[5 rows x 26 columns]"
      ]
     },
     "execution_count": 4,
     "metadata": {},
     "output_type": "execute_result"
    }
   ],
   "source": [
    "car.head()"
   ]
  },
  {
   "cell_type": "code",
   "execution_count": 5,
   "metadata": {
    "_kg_hide-input": true,
    "_uuid": "6568eab296aa46e95ebacea8f15ec5088b2aca5c"
   },
   "outputs": [
    {
     "data": {
      "text/plain": [
       "(201, 26)"
      ]
     },
     "execution_count": 5,
     "metadata": {},
     "output_type": "execute_result"
    }
   ],
   "source": [
    "car.shape"
   ]
  },
  {
   "cell_type": "markdown",
   "metadata": {
    "_uuid": "426aa436c7b7f61dd23697af22fface6137348c7"
   },
   "source": [
    "There are 25 features in the data.We have to figure out which parameter will have highest impact on the price of the car."
   ]
  },
  {
   "cell_type": "code",
   "execution_count": 6,
   "metadata": {
    "_kg_hide-input": true,
    "_kg_hide-output": true,
    "_uuid": "540190dca8c75c374066584068e4d1c59882686e"
   },
   "outputs": [
    {
     "data": {
      "text/plain": [
       "symboling              0\n",
       "normalized_losses      0\n",
       "make                   0\n",
       "fuel_type              0\n",
       "aspiration             0\n",
       "number_of_doors        0\n",
       "body_style             0\n",
       "drive_wheels           0\n",
       "engine_location        0\n",
       "wheel_base             0\n",
       "length                 0\n",
       "width                  0\n",
       "height                 0\n",
       "curb_weight            0\n",
       "engine_type            0\n",
       "number_of_cylinders    0\n",
       "engine_size            0\n",
       "fuel_system            0\n",
       "bore                   0\n",
       "stroke                 0\n",
       "compression_ratio      0\n",
       "horsepower             0\n",
       "peak_rpm               0\n",
       "city_mpg               0\n",
       "highway_mpg            0\n",
       "price                  0\n",
       "dtype: int64"
      ]
     },
     "execution_count": 6,
     "metadata": {},
     "output_type": "execute_result"
    }
   ],
   "source": [
    "car.isnull().sum()"
   ]
  },
  {
   "cell_type": "markdown",
   "metadata": {
    "_uuid": "cc74ec824ba3cc79842fd026a8632149a2206267"
   },
   "source": [
    "There are no missing values in the data"
   ]
  },
  {
   "cell_type": "code",
   "execution_count": 7,
   "metadata": {
    "_kg_hide-input": true,
    "_kg_hide-output": true,
    "_uuid": "a79bb72b545dd94fddcda05d467e50b80f629044"
   },
   "outputs": [
    {
     "data": {
      "text/plain": [
       "<bound method DataFrame.info of      symboling  normalized_losses         make fuel_type aspiration  \\\n",
       "0            3                168  alfa-romero       gas        std   \n",
       "1            3                168  alfa-romero       gas        std   \n",
       "2            1                168  alfa-romero       gas        std   \n",
       "3            2                164         audi       gas        std   \n",
       "4            2                164         audi       gas        std   \n",
       "..         ...                ...          ...       ...        ...   \n",
       "196         -1                 95        volvo       gas        std   \n",
       "197         -1                 95        volvo       gas      turbo   \n",
       "198         -1                 95        volvo       gas        std   \n",
       "199         -1                 95        volvo    diesel      turbo   \n",
       "200         -1                 95        volvo       gas      turbo   \n",
       "\n",
       "    number_of_doors   body_style drive_wheels engine_location  wheel_base  \\\n",
       "0               two  convertible          rwd           front        88.6   \n",
       "1               two  convertible          rwd           front        88.6   \n",
       "2               two    hatchback          rwd           front        94.5   \n",
       "3              four        sedan          fwd           front        99.8   \n",
       "4              four        sedan          4wd           front        99.4   \n",
       "..              ...          ...          ...             ...         ...   \n",
       "196            four        sedan          rwd           front       109.1   \n",
       "197            four        sedan          rwd           front       109.1   \n",
       "198            four        sedan          rwd           front       109.1   \n",
       "199            four        sedan          rwd           front       109.1   \n",
       "200            four        sedan          rwd           front       109.1   \n",
       "\n",
       "     ...  engine_size  fuel_system  bore  stroke compression_ratio horsepower  \\\n",
       "0    ...          130         mpfi  3.47    2.68               9.0        111   \n",
       "1    ...          130         mpfi  3.47    2.68               9.0        111   \n",
       "2    ...          152         mpfi  2.68    3.47               9.0        154   \n",
       "3    ...          109         mpfi  3.19    3.40              10.0        102   \n",
       "4    ...          136         mpfi  3.19    3.40               8.0        115   \n",
       "..   ...          ...          ...   ...     ...               ...        ...   \n",
       "196  ...          141         mpfi  3.78    3.15               9.5        114   \n",
       "197  ...          141         mpfi  3.78    3.15               8.7        160   \n",
       "198  ...          173         mpfi  3.58    2.87               8.8        134   \n",
       "199  ...          145          idi  3.01    3.40              23.0        106   \n",
       "200  ...          141         mpfi  3.78    3.15               9.5        114   \n",
       "\n",
       "     peak_rpm city_mpg  highway_mpg  price  \n",
       "0        5000       21           27  13495  \n",
       "1        5000       21           27  16500  \n",
       "2        5000       19           26  16500  \n",
       "3        5500       24           30  13950  \n",
       "4        5500       18           22  17450  \n",
       "..        ...      ...          ...    ...  \n",
       "196      5400       23           28  16845  \n",
       "197      5300       19           25  19045  \n",
       "198      5500       18           23  21485  \n",
       "199      4800       26           27  22470  \n",
       "200      5400       19           25  22625  \n",
       "\n",
       "[201 rows x 26 columns]>"
      ]
     },
     "execution_count": 7,
     "metadata": {},
     "output_type": "execute_result"
    }
   ],
   "source": [
    "car.info"
   ]
  },
  {
   "cell_type": "markdown",
   "metadata": {
    "_kg_hide-input": true,
    "_uuid": "7bda2e63c5cddb7b6b8c081543ab2912b8ecf675"
   },
   "source": [
    "Using the info command we can see that in many place data is represent by symbol **?**.We have to replace **?** with the mean value of the columns.We have to first prepare the data by doing cleaning on the data set."
   ]
  },
  {
   "cell_type": "markdown",
   "metadata": {
    "_uuid": "31f776f74247ea109a78f56300e417907da717ec"
   },
   "source": [
    "### Handling missing data"
   ]
  },
  {
   "cell_type": "code",
   "execution_count": 8,
   "metadata": {
    "_kg_hide-input": false,
    "_uuid": "c2b407b37f0478cb59b6bb8b003c1a06d18079f1"
   },
   "outputs": [
    {
     "ename": "KeyError",
     "evalue": "'normalized-losses'",
     "output_type": "error",
     "traceback": [
      "\u001b[1;31m---------------------------------------------------------------------------\u001b[0m",
      "\u001b[1;31mKeyError\u001b[0m                                  Traceback (most recent call last)",
      "\u001b[1;32mD:\\Programs\\lib\\site-packages\\pandas\\core\\indexes\\base.py\u001b[0m in \u001b[0;36mget_loc\u001b[1;34m(self, key, method, tolerance)\u001b[0m\n\u001b[0;32m   2896\u001b[0m             \u001b[1;32mtry\u001b[0m\u001b[1;33m:\u001b[0m\u001b[1;33m\u001b[0m\u001b[1;33m\u001b[0m\u001b[0m\n\u001b[1;32m-> 2897\u001b[1;33m                 \u001b[1;32mreturn\u001b[0m \u001b[0mself\u001b[0m\u001b[1;33m.\u001b[0m\u001b[0m_engine\u001b[0m\u001b[1;33m.\u001b[0m\u001b[0mget_loc\u001b[0m\u001b[1;33m(\u001b[0m\u001b[0mkey\u001b[0m\u001b[1;33m)\u001b[0m\u001b[1;33m\u001b[0m\u001b[1;33m\u001b[0m\u001b[0m\n\u001b[0m\u001b[0;32m   2898\u001b[0m             \u001b[1;32mexcept\u001b[0m \u001b[0mKeyError\u001b[0m\u001b[1;33m:\u001b[0m\u001b[1;33m\u001b[0m\u001b[1;33m\u001b[0m\u001b[0m\n",
      "\u001b[1;32mpandas\\_libs\\index.pyx\u001b[0m in \u001b[0;36mpandas._libs.index.IndexEngine.get_loc\u001b[1;34m()\u001b[0m\n",
      "\u001b[1;32mpandas\\_libs\\index.pyx\u001b[0m in \u001b[0;36mpandas._libs.index.IndexEngine.get_loc\u001b[1;34m()\u001b[0m\n",
      "\u001b[1;32mpandas\\_libs\\hashtable_class_helper.pxi\u001b[0m in \u001b[0;36mpandas._libs.hashtable.PyObjectHashTable.get_item\u001b[1;34m()\u001b[0m\n",
      "\u001b[1;32mpandas\\_libs\\hashtable_class_helper.pxi\u001b[0m in \u001b[0;36mpandas._libs.hashtable.PyObjectHashTable.get_item\u001b[1;34m()\u001b[0m\n",
      "\u001b[1;31mKeyError\u001b[0m: 'normalized-losses'",
      "\nDuring handling of the above exception, another exception occurred:\n",
      "\u001b[1;31mKeyError\u001b[0m                                  Traceback (most recent call last)",
      "\u001b[1;32m<ipython-input-8-967e6188d89b>\u001b[0m in \u001b[0;36m<module>\u001b[1;34m\u001b[0m\n\u001b[1;32m----> 1\u001b[1;33m \u001b[0ma\u001b[0m\u001b[1;33m=\u001b[0m\u001b[0mcar\u001b[0m\u001b[1;33m[\u001b[0m\u001b[0mcar\u001b[0m\u001b[1;33m[\u001b[0m\u001b[1;34m'normalized-losses'\u001b[0m\u001b[1;33m]\u001b[0m\u001b[1;33m!=\u001b[0m\u001b[1;34m'?'\u001b[0m\u001b[1;33m]\u001b[0m\u001b[1;33m\u001b[0m\u001b[1;33m\u001b[0m\u001b[0m\n\u001b[0m\u001b[0;32m      2\u001b[0m \u001b[0mb\u001b[0m\u001b[1;33m=\u001b[0m\u001b[1;33m(\u001b[0m\u001b[0ma\u001b[0m\u001b[1;33m[\u001b[0m\u001b[1;34m'normalized-losses'\u001b[0m\u001b[1;33m]\u001b[0m\u001b[1;33m.\u001b[0m\u001b[0mastype\u001b[0m\u001b[1;33m(\u001b[0m\u001b[0mint\u001b[0m\u001b[1;33m)\u001b[0m\u001b[1;33m)\u001b[0m\u001b[1;33m.\u001b[0m\u001b[0mmean\u001b[0m\u001b[1;33m(\u001b[0m\u001b[1;33m)\u001b[0m\u001b[1;33m\u001b[0m\u001b[1;33m\u001b[0m\u001b[0m\n\u001b[0;32m      3\u001b[0m \u001b[0mcar\u001b[0m\u001b[1;33m[\u001b[0m\u001b[1;34m'normalized-losses'\u001b[0m\u001b[1;33m]\u001b[0m\u001b[1;33m=\u001b[0m\u001b[0mcar\u001b[0m\u001b[1;33m[\u001b[0m\u001b[1;34m'normalized-losses'\u001b[0m\u001b[1;33m]\u001b[0m\u001b[1;33m.\u001b[0m\u001b[0mreplace\u001b[0m\u001b[1;33m(\u001b[0m\u001b[1;34m'?'\u001b[0m\u001b[1;33m,\u001b[0m\u001b[0mb\u001b[0m\u001b[1;33m)\u001b[0m\u001b[1;33m.\u001b[0m\u001b[0mastype\u001b[0m\u001b[1;33m(\u001b[0m\u001b[0mint\u001b[0m\u001b[1;33m)\u001b[0m\u001b[1;33m\u001b[0m\u001b[1;33m\u001b[0m\u001b[0m\n",
      "\u001b[1;32mD:\\Programs\\lib\\site-packages\\pandas\\core\\frame.py\u001b[0m in \u001b[0;36m__getitem__\u001b[1;34m(self, key)\u001b[0m\n\u001b[0;32m   2978\u001b[0m             \u001b[1;32mif\u001b[0m \u001b[0mself\u001b[0m\u001b[1;33m.\u001b[0m\u001b[0mcolumns\u001b[0m\u001b[1;33m.\u001b[0m\u001b[0mnlevels\u001b[0m \u001b[1;33m>\u001b[0m \u001b[1;36m1\u001b[0m\u001b[1;33m:\u001b[0m\u001b[1;33m\u001b[0m\u001b[1;33m\u001b[0m\u001b[0m\n\u001b[0;32m   2979\u001b[0m                 \u001b[1;32mreturn\u001b[0m \u001b[0mself\u001b[0m\u001b[1;33m.\u001b[0m\u001b[0m_getitem_multilevel\u001b[0m\u001b[1;33m(\u001b[0m\u001b[0mkey\u001b[0m\u001b[1;33m)\u001b[0m\u001b[1;33m\u001b[0m\u001b[1;33m\u001b[0m\u001b[0m\n\u001b[1;32m-> 2980\u001b[1;33m             \u001b[0mindexer\u001b[0m \u001b[1;33m=\u001b[0m \u001b[0mself\u001b[0m\u001b[1;33m.\u001b[0m\u001b[0mcolumns\u001b[0m\u001b[1;33m.\u001b[0m\u001b[0mget_loc\u001b[0m\u001b[1;33m(\u001b[0m\u001b[0mkey\u001b[0m\u001b[1;33m)\u001b[0m\u001b[1;33m\u001b[0m\u001b[1;33m\u001b[0m\u001b[0m\n\u001b[0m\u001b[0;32m   2981\u001b[0m             \u001b[1;32mif\u001b[0m \u001b[0mis_integer\u001b[0m\u001b[1;33m(\u001b[0m\u001b[0mindexer\u001b[0m\u001b[1;33m)\u001b[0m\u001b[1;33m:\u001b[0m\u001b[1;33m\u001b[0m\u001b[1;33m\u001b[0m\u001b[0m\n\u001b[0;32m   2982\u001b[0m                 \u001b[0mindexer\u001b[0m \u001b[1;33m=\u001b[0m \u001b[1;33m[\u001b[0m\u001b[0mindexer\u001b[0m\u001b[1;33m]\u001b[0m\u001b[1;33m\u001b[0m\u001b[1;33m\u001b[0m\u001b[0m\n",
      "\u001b[1;32mD:\\Programs\\lib\\site-packages\\pandas\\core\\indexes\\base.py\u001b[0m in \u001b[0;36mget_loc\u001b[1;34m(self, key, method, tolerance)\u001b[0m\n\u001b[0;32m   2897\u001b[0m                 \u001b[1;32mreturn\u001b[0m \u001b[0mself\u001b[0m\u001b[1;33m.\u001b[0m\u001b[0m_engine\u001b[0m\u001b[1;33m.\u001b[0m\u001b[0mget_loc\u001b[0m\u001b[1;33m(\u001b[0m\u001b[0mkey\u001b[0m\u001b[1;33m)\u001b[0m\u001b[1;33m\u001b[0m\u001b[1;33m\u001b[0m\u001b[0m\n\u001b[0;32m   2898\u001b[0m             \u001b[1;32mexcept\u001b[0m \u001b[0mKeyError\u001b[0m\u001b[1;33m:\u001b[0m\u001b[1;33m\u001b[0m\u001b[1;33m\u001b[0m\u001b[0m\n\u001b[1;32m-> 2899\u001b[1;33m                 \u001b[1;32mreturn\u001b[0m \u001b[0mself\u001b[0m\u001b[1;33m.\u001b[0m\u001b[0m_engine\u001b[0m\u001b[1;33m.\u001b[0m\u001b[0mget_loc\u001b[0m\u001b[1;33m(\u001b[0m\u001b[0mself\u001b[0m\u001b[1;33m.\u001b[0m\u001b[0m_maybe_cast_indexer\u001b[0m\u001b[1;33m(\u001b[0m\u001b[0mkey\u001b[0m\u001b[1;33m)\u001b[0m\u001b[1;33m)\u001b[0m\u001b[1;33m\u001b[0m\u001b[1;33m\u001b[0m\u001b[0m\n\u001b[0m\u001b[0;32m   2900\u001b[0m         \u001b[0mindexer\u001b[0m \u001b[1;33m=\u001b[0m \u001b[0mself\u001b[0m\u001b[1;33m.\u001b[0m\u001b[0mget_indexer\u001b[0m\u001b[1;33m(\u001b[0m\u001b[1;33m[\u001b[0m\u001b[0mkey\u001b[0m\u001b[1;33m]\u001b[0m\u001b[1;33m,\u001b[0m \u001b[0mmethod\u001b[0m\u001b[1;33m=\u001b[0m\u001b[0mmethod\u001b[0m\u001b[1;33m,\u001b[0m \u001b[0mtolerance\u001b[0m\u001b[1;33m=\u001b[0m\u001b[0mtolerance\u001b[0m\u001b[1;33m)\u001b[0m\u001b[1;33m\u001b[0m\u001b[1;33m\u001b[0m\u001b[0m\n\u001b[0;32m   2901\u001b[0m         \u001b[1;32mif\u001b[0m \u001b[0mindexer\u001b[0m\u001b[1;33m.\u001b[0m\u001b[0mndim\u001b[0m \u001b[1;33m>\u001b[0m \u001b[1;36m1\u001b[0m \u001b[1;32mor\u001b[0m \u001b[0mindexer\u001b[0m\u001b[1;33m.\u001b[0m\u001b[0msize\u001b[0m \u001b[1;33m>\u001b[0m \u001b[1;36m1\u001b[0m\u001b[1;33m:\u001b[0m\u001b[1;33m\u001b[0m\u001b[1;33m\u001b[0m\u001b[0m\n",
      "\u001b[1;32mpandas\\_libs\\index.pyx\u001b[0m in \u001b[0;36mpandas._libs.index.IndexEngine.get_loc\u001b[1;34m()\u001b[0m\n",
      "\u001b[1;32mpandas\\_libs\\index.pyx\u001b[0m in \u001b[0;36mpandas._libs.index.IndexEngine.get_loc\u001b[1;34m()\u001b[0m\n",
      "\u001b[1;32mpandas\\_libs\\hashtable_class_helper.pxi\u001b[0m in \u001b[0;36mpandas._libs.hashtable.PyObjectHashTable.get_item\u001b[1;34m()\u001b[0m\n",
      "\u001b[1;32mpandas\\_libs\\hashtable_class_helper.pxi\u001b[0m in \u001b[0;36mpandas._libs.hashtable.PyObjectHashTable.get_item\u001b[1;34m()\u001b[0m\n",
      "\u001b[1;31mKeyError\u001b[0m: 'normalized-losses'"
     ]
    }
   ],
   "source": [
    "a=car[car['normalized-losses']!='?']\n",
    "b=(a['normalized-losses'].astype(int)).mean()\n",
    "car['normalized-losses']=car['normalized-losses'].replace('?',b).astype(int)"
   ]
  },
  {
   "cell_type": "markdown",
   "metadata": {
    "_uuid": "2036c88bb2588b89ef1430d019abfdf433e56497"
   },
   "source": [
    "We can see than in some places the value for num-of-doors data is marked as **?**.We fill this with appropriate value of num of doors."
   ]
  },
  {
   "cell_type": "markdown",
   "metadata": {
    "_uuid": "71a155b77da9af6d98c76287733d6a20fd9bd8ae"
   },
   "source": [
    "### Cleaning num-of-doors"
   ]
  },
  {
   "cell_type": "code",
   "execution_count": null,
   "metadata": {
    "_kg_hide-input": false,
    "_uuid": "96ba40b27e128b9db5b8a4375510cd0f4439e01b"
   },
   "outputs": [],
   "source": [
    "a=car[car['body-style']=='sedan']\n",
    "a['num-of-doors'].value_counts()"
   ]
  },
  {
   "cell_type": "markdown",
   "metadata": {
    "_uuid": "b5c61be4163280d06bbe785530040e8d6142a938"
   },
   "source": [
    "In case of sedan cars the value of num-of-doors is missing in two places.We can see in most sedan cars the number of doors is 4.We can replace the missing values of num-of-doors with value 4"
   ]
  },
  {
   "cell_type": "code",
   "execution_count": null,
   "metadata": {
    "_kg_hide-input": false,
    "_uuid": "5d2745a49843e45c6d013976a05bf9f89f30fefa"
   },
   "outputs": [],
   "source": [
    "a=car['num-of-doors'].map({'two':2,'four':4,'?':4})\n",
    "car['num-of-doors']=a"
   ]
  },
  {
   "cell_type": "markdown",
   "metadata": {
    "_uuid": "bcb69827e52f21a27f4eaf7e44cbed885efa2dba"
   },
   "source": [
    "### Cleaning price"
   ]
  },
  {
   "cell_type": "code",
   "execution_count": null,
   "metadata": {
    "_kg_hide-input": false,
    "_uuid": "fc7012561d85df7747011318137d12597a606dbb"
   },
   "outputs": [],
   "source": [
    "a=car[car['price']!='?']\n",
    "b=(a['price'].astype(int)).mean()\n",
    "car['price']=car['price'].replace('?',b).astype(int)"
   ]
  },
  {
   "cell_type": "markdown",
   "metadata": {
    "_uuid": "078a433512cad29368724da415db1ef02968d55f"
   },
   "source": [
    "### Cleaning horse power "
   ]
  },
  {
   "cell_type": "code",
   "execution_count": null,
   "metadata": {
    "_kg_hide-input": false,
    "_uuid": "9627d7ae2a42fdda3d5224b5d189b2bbee588fd8"
   },
   "outputs": [],
   "source": [
    "a=car[car['horsepower']!='?']\n",
    "b=(a['horsepower'].astype(int)).mean()\n",
    "car['horsepower']=car['horsepower'].replace('?',b).astype(int)"
   ]
  },
  {
   "cell_type": "markdown",
   "metadata": {
    "_uuid": "1d2295ae4fe47a8a20c64c99760aa49e2c5dabbf"
   },
   "source": [
    "### Cleaning bore"
   ]
  },
  {
   "cell_type": "code",
   "execution_count": null,
   "metadata": {
    "_kg_hide-input": false,
    "_uuid": "2607d4af28d793b677ce71f313aef57b44098e34"
   },
   "outputs": [],
   "source": [
    "a=car[car['bore']!='?']\n",
    "b=(a['bore'].astype(float)).mean()\n",
    "car['bore']=car['bore'].replace('?',b).astype(float)"
   ]
  },
  {
   "cell_type": "markdown",
   "metadata": {
    "_uuid": "21679394a059300f8d305ea7f6bf1f04f2880aa8"
   },
   "source": [
    "### Cleaning the stroke column"
   ]
  },
  {
   "cell_type": "code",
   "execution_count": null,
   "metadata": {
    "_kg_hide-input": false,
    "_uuid": "7edbfc988496439fafbd542ab026b274d31ff416"
   },
   "outputs": [],
   "source": [
    "a=car[car['stroke']!='?']\n",
    "b=(a['stroke'].astype(float)).mean()\n",
    "car['stroke']=car['stroke'].replace('?',b).astype(float)"
   ]
  },
  {
   "cell_type": "markdown",
   "metadata": {
    "_uuid": "9047306d50846ff197639cfb18d25acf65c99753"
   },
   "source": [
    "### Cleaning peak rpm"
   ]
  },
  {
   "cell_type": "code",
   "execution_count": null,
   "metadata": {
    "_kg_hide-input": false,
    "_uuid": "58e66560041cf145216a2db0193ad0d5125fa696"
   },
   "outputs": [],
   "source": [
    "a=car[car['peak-rpm']!='?']\n",
    "b=(a['peak-rpm'].astype(float)).mean()\n",
    "car['peak-rpm']=car['peak-rpm'].replace('?',b).astype(float)"
   ]
  },
  {
   "cell_type": "markdown",
   "metadata": {
    "_uuid": "4071905ac0db62c048240c9d91c5ca9f9bb3a944"
   },
   "source": [
    "### Cleaning peak rpm"
   ]
  },
  {
   "cell_type": "code",
   "execution_count": null,
   "metadata": {
    "_kg_hide-input": true,
    "_kg_hide-output": true,
    "_uuid": "a9b828f3b0f0a3f8f10a031186dcb140b566cf8f"
   },
   "outputs": [],
   "source": [
    "a=car[car['peak-rpm']!='?']\n",
    "b=(a['peak-rpm'].astype(float)).mean()\n",
    "car['peak-rpm']=car['peak-rpm'].replace('?',b).astype(float)"
   ]
  },
  {
   "cell_type": "markdown",
   "metadata": {
    "_uuid": "ba8e270dcb3715c17ec2a540c4a1f7d865a1bef0"
   },
   "source": [
    "### Cleaning the number of cylinders"
   ]
  },
  {
   "cell_type": "code",
   "execution_count": null,
   "metadata": {
    "_uuid": "481f33b718f7e407eb2167860ebe6cdbda4efbeb"
   },
   "outputs": [],
   "source": [
    "a=car['num-of-cylinders'].map({'four':4,'five':5,'six':6,'?':4})\n",
    "car['num-of-doors']=a"
   ]
  },
  {
   "cell_type": "markdown",
   "metadata": {
    "_uuid": "c1a529c48e23c796c33045b66c365d5d57e48535"
   },
   "source": [
    "### Getting the basic stats of the data"
   ]
  },
  {
   "cell_type": "code",
   "execution_count": null,
   "metadata": {
    "_kg_hide-input": true,
    "_uuid": "df2fc4521e3faa668d229ef61f349751b4b7f842"
   },
   "outputs": [],
   "source": [
    "car.describe()"
   ]
  },
  {
   "cell_type": "markdown",
   "metadata": {
    "_uuid": "72c037d51a758a54d2f2c87ac7fd76863ed062a0"
   },
   "source": [
    "### Cars of different make in the data set"
   ]
  },
  {
   "cell_type": "code",
   "execution_count": null,
   "metadata": {
    "_kg_hide-input": true,
    "_uuid": "785f349444f3dda67eea825822ea24856b372b79"
   },
   "outputs": [],
   "source": [
    "print('Car makers in the data set are',car['make'].unique())"
   ]
  },
  {
   "cell_type": "raw",
   "metadata": {
    "_kg_hide-input": true,
    "_uuid": "47eda769c2173667687a67e43ec3abe8a55a19a7"
   },
   "source": [
    "List contains American,Japanese and European car brands."
   ]
  },
  {
   "cell_type": "markdown",
   "metadata": {
    "_uuid": "dbaa76625bf68e63b2a6c2a00b7d57b3111144fd"
   },
   "source": [
    "### Understanding the range of important features"
   ]
  },
  {
   "cell_type": "code",
   "execution_count": null,
   "metadata": {
    "_kg_hide-input": true,
    "_uuid": "a83d0ad2e797e1b3d9fb3f132f66423787759386"
   },
   "outputs": [],
   "source": [
    "car[['engine-size','peak-rpm','curb-weight','horsepower','price','highway-mpg']].hist(figsize=(10,8),bins=6,color='b',linewidth='3',edgecolor='k')\n",
    "plt.tight_layout()\n",
    "plt.show()"
   ]
  },
  {
   "cell_type": "markdown",
   "metadata": {
    "_uuid": "cdcdc4b93e1f526ce36018560380b248b129e2f1"
   },
   "source": [
    "**1.Curb weight:** Is the total weight of the vehicle without the weight of the passenger.It includes weight of coolants,oil and fuel.Defination of curb weight may vary based on the standard adopted by a country.In this data set the curb weight of most cars is in the range 2000-3100 lbs.\n",
    "\n",
    "**2.Engine Size:** It is the amount of air that can be sucked in by the engine.Generally it is measured in litres.For example an average car in India would have an engine capacity in the rane of 1-1.5 liter.\n",
    "\n",
    "**3.Highway-mpg:** It is the kilometer or miles that a  car can travel with one liter of fuel on the highway.In this data set it seems to me that it is the amount of miles the car travels with one gallon of fuel.\n",
    "\n",
    "**4.Horse Power:** It is the measure of the power of the engine.One horse power is equivalent of the power of one horse.So 100 hp engine woulf be equivalent to the power of 100 horses.Now a days engine power is measure in Kilowatt which is the unit of power in SI System.\n",
    "\n",
    "**5.Peak rpm:** RPM (Reolutions per minute) is the measure of the speed of roation of Engine per minute.The peak rpm of the vehicles are generally in the range 5000-6500 rpm.\n",
    "\n",
    "**6.Price:** In US today the median price of the vehicle is around 35000$.This is a old data so it shows very low median car price."
   ]
  },
  {
   "cell_type": "markdown",
   "metadata": {
    "_uuid": "739af9bacbebc920e705f248cb5184554c08b7b1"
   },
   "source": [
    "### Who sells th highest no of cars?"
   ]
  },
  {
   "cell_type": "code",
   "execution_count": null,
   "metadata": {
    "_kg_hide-input": true,
    "_uuid": "3c66d8c0b2e7cd6b951642fdbfbc1d51c79b9c78"
   },
   "outputs": [],
   "source": [
    "fig = plt.figure(figsize=(15, 10))\n",
    "ax=sns.countplot(car['make'],palette='dark',edgecolor='k',linewidth=2)\n",
    "plt.xticks(rotation='vertical')\n",
    "plt.xlabel('Car Maker',fontsize=20)\n",
    "plt.ylabel('Number of Cars',fontsize=20)\n",
    "plt.title('Cars count by manufacturer',fontsize=30)\n",
    "ax.tick_params(labelsize=15)\n",
    "#plt.yticks(rotation='vertical')\n",
    "plt.show()"
   ]
  },
  {
   "cell_type": "markdown",
   "metadata": {
    "_uuid": "52743293e4d7563ee9e164b27a0003145dc662c9"
   },
   "source": [
    "It seems more Japanese cars are sold in the US.As expected Toyota sold more cars in US.In the 70's due to oil price rise Americans switched to small cars.Japanese car makers were good at making high quality small cars.This is the reason we have more cars been sold from Toyota,Mazda and Nissan."
   ]
  },
  {
   "cell_type": "code",
   "execution_count": null,
   "metadata": {
    "_kg_hide-input": true,
    "_kg_hide-output": true,
    "_uuid": "6e413ea5b2c3fa5a90f0d9e0f11ed33a6219c26b"
   },
   "outputs": [],
   "source": [
    "print('Different types of cars',car['body-style'].unique())"
   ]
  },
  {
   "cell_type": "code",
   "execution_count": null,
   "metadata": {
    "_kg_hide-input": true,
    "_kg_hide-output": true,
    "_uuid": "ecf3634ce2d9ec2e575a54693bf93eed051c3b0b"
   },
   "outputs": [],
   "source": [
    "fig = plt.figure(figsize=(15, 10))\n",
    "cars_type=car.groupby(['body-style']).count()['make']\n",
    "ax=cars_type.sort_values(ascending=False).plot.bar(edgecolor='k',linewidth=2)\n",
    "for p in ax.patches:\n",
    "    ax.annotate(format(p.get_height()), (p.get_x()+0.15, p.get_height()+1),fontsize=11)\n",
    "plt.xticks(rotation='vertical')\n",
    "plt.xlabel('Body Type',fontsize=20)\n",
    "plt.ylabel('Number of Cars',fontsize=20)\n",
    "plt.title('Count of Cars by Body Type',fontsize=30)\n",
    "ax.tick_params(labelsize=15)\n",
    "#plt.yticks(rotation='vertical')\n",
    "plt.show()"
   ]
  },
  {
   "cell_type": "code",
   "execution_count": null,
   "metadata": {
    "_kg_hide-input": true,
    "_kg_hide-output": true,
    "_uuid": "eea773c35292179bd9710a5b2fbaf214719bce97"
   },
   "outputs": [],
   "source": [
    "from matplotlib.pyplot import plot\n",
    "fig = plt.figure(figsize=(25, 25))\n",
    "a=car.groupby(['body-style','make']).count().reset_index()\n",
    "a=a[['make','body-style','symboling']]\n",
    "a.columns=['make','style','count']\n",
    "a=a.pivot('make','style','count')\n",
    "a.dropna(thresh=3).plot.bar(width=0.85)\n",
    "# plot.bar()\n",
    "plt.show()"
   ]
  },
  {
   "cell_type": "markdown",
   "metadata": {
    "_uuid": "9e14d76abda199f997b65daa52afbf6ef85ed8aa"
   },
   "source": [
    "### Getting details of Engine type,Number of doors,type of fuel and body style"
   ]
  },
  {
   "cell_type": "code",
   "execution_count": null,
   "metadata": {
    "_kg_hide-input": true,
    "_kg_hide-output": false,
    "_uuid": "ca37db45a4289bf4c7e026dae140cb6ef8d61a2c"
   },
   "outputs": [],
   "source": [
    "plt.figure(1)\n",
    "plt.subplot(221)\n",
    "ax1=car['engine-type'].value_counts(normalize=True).plot(figsize=(10,8),kind='bar',color='orange',edgecolor='k',linewidth=2)\n",
    "plt.title(\"Number of Engine Type frequency diagram\")\n",
    "plt.ylabel('Number of Engine Type',fontsize=15)\n",
    "ax1.tick_params(labelsize=15)\n",
    "plt.xlabel('engine-type',fontsize=15);\n",
    "\n",
    "\n",
    "plt.subplot(222)\n",
    "ax2=car['num-of-doors'].value_counts(normalize=True).plot(figsize=(10,8),kind='bar',color='purple',edgecolor='k',linewidth=2)\n",
    "plt.title(\"Number of Door frequetncy diagram\")\n",
    "plt.ylabel('Number of Doors',fontsize=15)\n",
    "ax2.tick_params(labelsize=15)\n",
    "plt.xlabel('num-of-doors',fontsize=15);\n",
    "\n",
    "plt.subplot(223)\n",
    "ax3=car['fuel-type'].value_counts(normalize= True).plot(figsize=(10,8),kind='bar',color='green',edgecolor='k',linewidth=2)\n",
    "plt.title(\"Number of Fuel Type frequency diagram\")\n",
    "plt.ylabel('Number of vehicles',fontsize=15)\n",
    "plt.xlabel('fuel-type',fontsize=15)\n",
    "ax2.tick_params(labelsize=15)\n",
    "\n",
    "plt.subplot(224)\n",
    "ax4=car['body-style'].value_counts(normalize=True).plot(figsize=(10,8),kind='bar',color='red',edgecolor='k',linewidth=2)\n",
    "plt.title(\"Number of Body Style frequency diagram\")\n",
    "plt.ylabel('Number of vehicles',fontsize=15)\n",
    "plt.xlabel('body-style',fontsize=15);\n",
    "plt.tight_layout()\n",
    "plt.show()\n"
   ]
  },
  {
   "cell_type": "markdown",
   "metadata": {
    "_uuid": "bab165d4eeab382e8dd37367a6164580aea26b0f"
   },
   "source": [
    "1.DHC (Direct overhead cam) tyoe of engines are more in the data.\n",
    "\n",
    "2.Most cars sold have 4 doors \n",
    "\n",
    "3.Petrol(Gas) cars are more popular in America\n",
    "\n",
    "4.Sedan Cars are most popular in America"
   ]
  },
  {
   "cell_type": "markdown",
   "metadata": {
    "_uuid": "19e26c849b0e32c5596dac86f08ca334d33dd1dd"
   },
   "source": [
    "### Plotting the fuel economy of different car makers"
   ]
  },
  {
   "cell_type": "code",
   "execution_count": null,
   "metadata": {
    "_kg_hide-input": true,
    "_uuid": "cab540f782bbd5ca19fb79991e1c8e52d6e89ebb"
   },
   "outputs": [],
   "source": [
    "fig = plt.figure(figsize=(15, 10))\n",
    "mileage=car.groupby(['make']).mean()\n",
    "mileage['avg-mpg']=((mileage['city-mpg']+mileage['highway-mpg'])/2)\n",
    "ax=mileage['avg-mpg'].sort_values(ascending=False).plot.bar(edgecolor='k',linewidth=2)\n",
    "plt.xticks(rotation='vertical')\n",
    "plt.xlabel('Car Maker',fontsize=20)\n",
    "plt.ylabel('Number of Cars',fontsize=20)\n",
    "plt.title('Fuel Economy of Car Makers',fontsize=30)\n",
    "ax.tick_params(labelsize=20)\n",
    "#plt.yticks(rotation='vertical')\n",
    "plt.show()\n",
    "plt.show()"
   ]
  },
  {
   "cell_type": "markdown",
   "metadata": {
    "_uuid": "1bb4a2c854e3cbd4d0b5f6656209b6c60bc86e02"
   },
   "source": [
    "Chevy which is a brand of General motors had the highest milage followed by the Japanese car makers.European car makers except Volkswagen sell Luxary cars.So the Mileage of European car makers are lower.Cars with lower engine capacity generally have higher fuel economy."
   ]
  },
  {
   "cell_type": "markdown",
   "metadata": {
    "_uuid": "4db9afbb3669999ee8fe0e282c4119c9100ef0eb"
   },
   "source": [
    "### Find out the relation between the horse power and the number of cylinders "
   ]
  },
  {
   "cell_type": "code",
   "execution_count": null,
   "metadata": {
    "_uuid": "cf302e150e2e5170cbe70237312d010669f0b26f"
   },
   "outputs": [],
   "source": [
    "plt.rcParams['figure.figsize']=(23,10)\n",
    "ax=sns.catplot(data=car, x=\"num-of-cylinders\", y=\"horsepower\",kind=\"violin\")\n",
    "#ax.set_xlabel('Number of Cyliner',fontsize=30)\n",
    "#ax.set_ylabel('Horse Power',fontsize=30)\n",
    "#plt.title('Horse Power Vs Num of Cylinder',fontsize=40)\n",
    "#ax.tick_params(axis='x',labelsize=20,rotation=90)"
   ]
  },
  {
   "cell_type": "markdown",
   "metadata": {
    "_uuid": "4ffdc831b0ad09e476be26499d5877ff931af055"
   },
   "source": [
    "We can see that the range of power output from eight cylinder engine is very high.It seems more the engines with higher number of cylinders can give a bigger range of power output"
   ]
  },
  {
   "cell_type": "markdown",
   "metadata": {
    "_uuid": "20ff3d7aba201d13f8360b9cbad88f98f5053603"
   },
   "source": [
    "### Getting the Price of car based on make"
   ]
  },
  {
   "cell_type": "code",
   "execution_count": null,
   "metadata": {
    "_kg_hide-input": true,
    "_uuid": "ac4032decdb1b05e5d5a9e6f0b4b906dde0c5ab5"
   },
   "outputs": [],
   "source": [
    "plt.rcParams['figure.figsize']=(23,10)\n",
    "ax = sns.boxplot(x=\"make\", y=\"price\", data=car,width=0.8,linewidth=5)\n",
    "ax.set_xlabel('Make of Car',fontsize=30)\n",
    "ax.set_ylabel('Price in $',fontsize=30)\n",
    "plt.title('Price of Car Based on Make',fontsize=40)\n",
    "ax.tick_params(axis='x',labelsize=20,rotation=90)"
   ]
  },
  {
   "cell_type": "markdown",
   "metadata": {
    "_uuid": "ebf94595f610d3a0dacf2f3f6825eb9ccccb7541"
   },
   "source": [
    "We can see that Mercedes Benz , BMW and Prosche sell the expensive cars in America."
   ]
  },
  {
   "cell_type": "markdown",
   "metadata": {
    "_uuid": "ca2eb999c0f914b05ed2f70ecf609b6a3a0e644f"
   },
   "source": [
    "From the heat map we can make out that Width,Curb weight,Engine weight,Horse power,Highway-mpg have very high correlation to the price of the car."
   ]
  },
  {
   "cell_type": "code",
   "execution_count": null,
   "metadata": {
    "_uuid": "effd4bdcc1586c3f45e15dcc382f57fd01860e52"
   },
   "outputs": [],
   "source": [
    "sns.catplot(data=car, y=\"price\", x=\"body-style\" , hue=\"fuel-type\" ,kind=\"point\")\n",
    "plt.xlabel('Type of Engine',fontsize=20)\n",
    "plt.ylabel('Price in $',fontsize=20)\n",
    "plt.title('Price Vs Engine Type',fontsize=20)\n",
    "plt.tick_params(axis='x',labelsize=10,rotation=90)"
   ]
  },
  {
   "cell_type": "code",
   "execution_count": null,
   "metadata": {
    "_uuid": "c8dc665d898d74038e209f50186db6ac1b20c8c5"
   },
   "outputs": [],
   "source": [
    "plt.rcParams['figure.figsize']=(23,10)\n",
    "ax=sns.boxplot(x='drive-wheels',y='price',data=car,width=0.8,linewidth=5)\n",
    "ax.set_xlabel('Make of Car',fontsize=30)\n",
    "ax.set_ylabel('Price in $',fontsize=30)\n",
    "plt.title('Price of Car Based on Make',fontsize=40)\n",
    "ax.tick_params(axis='x',labelsize=20,rotation=90)"
   ]
  },
  {
   "cell_type": "markdown",
   "metadata": {
    "_uuid": "070a31f3b85034809f80b678fc7b133fa8ea59c3"
   },
   "source": [
    "Rear wheel drive are more expensive with a median price of $17000.Generally four wheel drive are more expensive.This is bit surprising."
   ]
  },
  {
   "cell_type": "markdown",
   "metadata": {
    "_uuid": "c0ed06f30b9129dfc039574cf4d6dc255c7d2d93"
   },
   "source": [
    "### Plotting heat map to understand correlations between diffeent features"
   ]
  },
  {
   "cell_type": "code",
   "execution_count": null,
   "metadata": {
    "_kg_hide-input": true,
    "_uuid": "52fcc41c3ddd06a780ae8129b31699e72badb704"
   },
   "outputs": [],
   "source": [
    "import seaborn as sns\n",
    "plt.figure(figsize=(20,10))\n",
    "sns.heatmap(car.corr(),annot=True,cmap='summer')"
   ]
  },
  {
   "cell_type": "markdown",
   "metadata": {
    "_uuid": "f16712846460388ca211cbeb57c171963f68ce23"
   },
   "source": [
    "### From a Pair plot we can try to Vizualise the correlation of parameters"
   ]
  },
  {
   "cell_type": "code",
   "execution_count": null,
   "metadata": {
    "_uuid": "d1caf6b1316943abde0cfe6c77321e4267f3f75b",
    "scrolled": false
   },
   "outputs": [],
   "source": [
    "ax = sns.pairplot(car[[\"width\", \"curb-weight\",\"engine-size\",\"horsepower\",\"highway-mpg\",\"fuel-type\",\"price\",]], hue=\"fuel-type\",palette='dark') #diag_kind=\"hist\""
   ]
  },
  {
   "cell_type": "markdown",
   "metadata": {
    "_uuid": "fe97d63d2a63ea9e7ae1f578e0121094c6bff4cb"
   },
   "source": [
    "1.Vehicle with high price have low mileage.This because high priced vehicles go into luxary segment which are meant for high performance and running cost is not very important in this segment.\n",
    "\n",
    "2.As the engine power(horse power) increases the price of the vehicle increases.More horse power also means bigger engine size\n",
    "\n",
    "3.As the engine size increases the price of the vehicle increases.Weight of the engine increases with the increase in engine size.\n",
    "\n",
    "4.High curb weight increases price of the vehicle and decreases the mileage of the vehicle.\n",
    "\n",
    "5.Width has very good positive correlation to the price of the vehicle.\n",
    "\n"
   ]
  },
  {
   "cell_type": "markdown",
   "metadata": {
    "_uuid": "80dbfa90b6d98f1ffcb7316633e8ac38781e1c29"
   },
   "source": [
    "### Predicting the price of Cars"
   ]
  },
  {
   "cell_type": "code",
   "execution_count": null,
   "metadata": {
    "_kg_hide-input": true,
    "_uuid": "ff27adf0ffc67e02956478e52338846354114f0c"
   },
   "outputs": [],
   "source": [
    "from sklearn.linear_model import LogisticRegression\n",
    "from sklearn.neighbors import KNeighborsClassifier\n",
    "from sklearn import svm\n",
    "from sklearn.tree import DecisionTreeClassifier\n",
    "from sklearn.linear_model import LinearRegression\n",
    "# from sklearn.cross_validation import train_test_split, deprecated, cross_validation > model_selection  \n",
    "from sklearn.model_selection import train_test_split # for spliting the data into training and test set\n",
    "from sklearn import metrics # for validating the accuracy of the model"
   ]
  },
  {
   "cell_type": "code",
   "execution_count": null,
   "metadata": {
    "_kg_hide-input": true,
    "_uuid": "c9fd16c43d31a12026e5ff4a2480e12319158641"
   },
   "outputs": [],
   "source": [
    "train,test=train_test_split(car,test_size=0.05)\n",
    "train.head()"
   ]
  },
  {
   "cell_type": "code",
   "execution_count": null,
   "metadata": {
    "_kg_hide-input": true,
    "_uuid": "d2a2b56f9757592b1f23d76eef83af364a8f27d4"
   },
   "outputs": [],
   "source": [
    "X_train=train[['curb-weight','engine-size','horsepower','width']]\n",
    "#X_train = train.drop('price',axis=1)\n",
    "y_train=train.price"
   ]
  },
  {
   "cell_type": "code",
   "execution_count": null,
   "metadata": {
    "_kg_hide-input": true,
    "_uuid": "61865637a901139a7f6fff4d38951760ee84dd42"
   },
   "outputs": [],
   "source": [
    "X_test=test[['curb-weight','engine-size','horsepower','width']]\n",
    "y_test=test.price"
   ]
  },
  {
   "cell_type": "code",
   "execution_count": null,
   "metadata": {
    "_kg_hide-input": true,
    "_uuid": "5485627635bb957aedab930a13fff00f8d325bdf"
   },
   "outputs": [],
   "source": [
    "model=LinearRegression()\n",
    "model.fit(X_train,y_train)\n",
    "prediction=model.predict(X_test)"
   ]
  },
  {
   "cell_type": "code",
   "execution_count": null,
   "metadata": {
    "_uuid": "feb475d39810199ae7200b9bd6b656397b234330"
   },
   "outputs": [],
   "source": [
    "y_test"
   ]
  },
  {
   "cell_type": "code",
   "execution_count": null,
   "metadata": {
    "_uuid": "4593bddbca04bd0befdf63cb98156ca5f667d00a"
   },
   "outputs": [],
   "source": [
    "Line=prediction.astype(int)\n",
    "Line"
   ]
  },
  {
   "cell_type": "markdown",
   "metadata": {
    "_uuid": "405bfa72b69e320d512c3905c53b5e31cae2128e"
   },
   "source": [
    "### Logistic regression"
   ]
  },
  {
   "cell_type": "code",
   "execution_count": null,
   "metadata": {
    "_kg_hide-input": true,
    "_uuid": "fc2323b86327519c9ee3103ba463ae35252df52b"
   },
   "outputs": [],
   "source": [
    "model=LogisticRegression()\n",
    "lm=model.fit(X_train,y_train)\n",
    "prediction=model.predict(X_test)\n",
    "#print('Accuracy of the Logistic Regression is:',metrics.accuracy_score(prediction,y_test))\n"
   ]
  },
  {
   "cell_type": "code",
   "execution_count": null,
   "metadata": {
    "_uuid": "e327cda9eb8ea1207cb40fcdca2615e2c4b46dec"
   },
   "outputs": [],
   "source": [
    "logi=prediction.astype(int)\n",
    "logi"
   ]
  },
  {
   "cell_type": "markdown",
   "metadata": {
    "_uuid": "97e9d1b62a3d39b062c6606cd8103676c1a3f631"
   },
   "source": [
    "### Decision Tree"
   ]
  },
  {
   "cell_type": "code",
   "execution_count": null,
   "metadata": {
    "_uuid": "51544c58db8b32e47df4b52fe899fb875b2e9cd4"
   },
   "outputs": [],
   "source": [
    "model=DecisionTreeClassifier()\n",
    "model.fit(X_train,y_train)\n",
    "prediction=model.predict(X_test)"
   ]
  },
  {
   "cell_type": "code",
   "execution_count": null,
   "metadata": {
    "_uuid": "66779a8d73b279a27828092069f51def4b735958"
   },
   "outputs": [],
   "source": [
    "DTree=prediction.astype(int)\n",
    "DTree"
   ]
  }
 ],
 "metadata": {
  "kernelspec": {
   "display_name": "Python 3",
   "language": "python",
   "name": "python3"
  },
  "language_info": {
   "codemirror_mode": {
    "name": "ipython",
    "version": 3
   },
   "file_extension": ".py",
   "mimetype": "text/x-python",
   "name": "python",
   "nbconvert_exporter": "python",
   "pygments_lexer": "ipython3",
   "version": "3.7.4"
  }
 },
 "nbformat": 4,
 "nbformat_minor": 1
}
