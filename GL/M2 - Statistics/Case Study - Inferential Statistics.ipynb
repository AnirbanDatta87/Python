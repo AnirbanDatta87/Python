{
 "cells": [
  {
   "cell_type": "markdown",
   "metadata": {},
   "source": [
    "# Statistical Learning Week 2 hands on exercises\n"
   ]
  },
  {
   "cell_type": "markdown",
   "metadata": {},
   "source": [
    "# Question 1"
   ]
  },
  {
   "cell_type": "markdown",
   "metadata": {},
   "source": [
    "|Planned to purchase Apple iPhone Xs Max| Actually placed an order for Apple iPhone Xs Max- Yes| Actually placed an order for Apple iPhone Xs Max - No|Total|\n",
    "|--|--|--|--|\n",
    "|Yes|400|100|500|\n",
    "|No|200|1300|1500|\n",
    "|Total|600|1400|2000|\n",
    "\n",
    "1. Calculate the joint probability of the people who planned to purchase and actually placed an order."
   ]
  },
  {
   "cell_type": "markdown",
   "metadata": {},
   "source": [
    "You observe from the above table, that 400 people planned to purchase and actually placed an order for Apple iPhone Xs Max is \n",
    "400 out of 2000 people."
   ]
  },
  {
   "cell_type": "code",
   "execution_count": 1,
   "metadata": {},
   "outputs": [
    {
     "name": "stdout",
     "output_type": "stream",
     "text": [
      "Joint probability of the people who planned to purchase and actually placed an order. is 0.2000\n"
     ]
    }
   ],
   "source": [
    "# FE6 is the number of people who planned and actually placed an order for Apple iPhone Xs Max\n",
    "FE6 = 400\n",
    "TE  = 2000\n",
    "PE7 = round(FE6 / TE,4) \n",
    "print('Joint probability of the people who planned to purchase and actually placed an order. is %1.4f' % PE7)"
   ]
  },
  {
   "cell_type": "markdown",
   "metadata": {},
   "source": [
    "Joint probability of the people who planned to purchase and actually placed an order. is 0.2000"
   ]
  },
  {
   "cell_type": "markdown",
   "metadata": {},
   "source": [
    "# Conditional Probability refers to the probability of event A, given information about the occurrence of another event B"
   ]
  },
  {
   "cell_type": "markdown",
   "metadata": {},
   "source": [
    "# Probability of A given B is written as P(A | B)."
   ]
  },
  {
   "cell_type": "markdown",
   "metadata": {},
   "source": [
    "Probability of A given B is written as P(A | B).\n",
    "\n",
    "$P(A\\mid B) = \\frac{P(A \\quad and \\quad B)}{P(B)}$\n",
    "\n",
    "where P(A and B) = Joint probability of A and B\n",
    "*     P(A)       = Marginal probability of A\n",
    "*     P(B)       = Marginal probability of B"
   ]
  },
  {
   "cell_type": "markdown",
   "metadata": {},
   "source": [
    "# Question 2"
   ]
  },
  {
   "cell_type": "markdown",
   "metadata": {},
   "source": [
    "Use the purchase of Apple iPhone Xs Max table.\n",
    "\n",
    "Find the joint probability of the people who planned to purchase and actually placed an order, given that people planned to \n",
    "purchase."
   ]
  },
  {
   "cell_type": "code",
   "execution_count": 2,
   "metadata": {},
   "outputs": [
    {
     "name": "stdout",
     "output_type": "stream",
     "text": [
      "P(Actually placed an order | Planned to purchase) is 0.8000\n"
     ]
    }
   ],
   "source": [
    "# P1 = P(Actually placed an order | Planned to purchase)\n",
    "# P2 = Planned to purchase and actually placed an order\n",
    "# P3 = Planned to purchase\n",
    "P1   = (400 / 2000 )/ (500 / 2000)\n",
    "\n",
    "print('P(Actually placed an order | Planned to purchase) is %1.4f' % P1)     "
   ]
  },
  {
   "cell_type": "markdown",
   "metadata": {},
   "source": [
    "# Binomial Distribution"
   ]
  },
  {
   "cell_type": "markdown",
   "metadata": {},
   "source": [
    "It is widely used probability distribution of a discrete random variable. \n",
    "\n",
    "Plays major role in quality control and quality assurance function. "
   ]
  },
  {
   "cell_type": "markdown",
   "metadata": {},
   "source": [
    "$P(X = x\\mid n,\\pi)$ = $\\frac{n!}{x!(n - x)!}\\pi^x (1 - \\pi)^{n-x} $\n",
    "* where P(X = x) is the probability of getting x successes in n trials\n",
    "and $\\pi$ is the probability of an event of interest"
   ]
  },
  {
   "cell_type": "markdown",
   "metadata": {},
   "source": [
    "Some important functions in Python for Binomial distribution:\n",
    "    \n",
    "1) Probability mass function\n",
    "scipy.stats.binom.pmf gives the probability mass function for the binomial distribution\n",
    "binomial = scipy.stats.binom.pmf (k,n,p), \n",
    "where k is an array and takes values in {0, 1,..., n}\n",
    "n and p are shape parameters for the binomial distribution\n",
    "The output, binomial, gives probability of binomial distribution function in terms of array.\n",
    "\n",
    "2) Cumulative Density function\n",
    "cumbinomial = scipy.stats.binom.cdf(k,n,p) gives cumulative binomial distribution.\n",
    "The output, cumbinomial, gives cumulative probability of binomial distribution function in terms of array.\n",
    "\n",
    "3) Plot the binomial Density function\n",
    "The function, matplotlib.pyplot.plot(k, binomial, ‘o-’) gives us plot of the binomial distribution function."
   ]
  },
  {
   "cell_type": "markdown",
   "metadata": {},
   "source": [
    "# Question 3"
   ]
  },
  {
   "cell_type": "markdown",
   "metadata": {},
   "source": [
    "A LED bulb manufacturing company regularly conducts quality checks at specified periods on the products it manufactures. \n",
    "Historically, the failure rate for LED light bulbs that the company manufactures is 5%. Suppose a random sample of 10 LED light \n",
    "bulbs is selected. What is the probability that \n",
    "\n",
    "a) None of the LED bulbs are defective?\n",
    "\n",
    "b) Exactly one of the LED bulbs is defective?\n",
    "\n",
    "c) Two or fewer of the LED bulbs are defective?\n",
    "\n",
    "d) Three or more of the LED bulbs are defective"
   ]
  },
  {
   "cell_type": "code",
   "execution_count": 3,
   "metadata": {},
   "outputs": [],
   "source": [
    "import numpy             as np\n",
    "import pandas            as pd\n",
    "import scipy.stats       as stats\n",
    "import matplotlib.pyplot as plt"
   ]
  },
  {
   "cell_type": "code",
   "execution_count": 4,
   "metadata": {},
   "outputs": [],
   "source": [
    "p   =  0.05 # failure rate for LED light bulbs that the company manufactures is 5%\n",
    "n   =  10 # sample size\n",
    "k   =  np.arange(0,11) # An array of quantiles"
   ]
  },
  {
   "cell_type": "code",
   "execution_count": 5,
   "metadata": {},
   "outputs": [],
   "source": [
    "binomial = stats.binom.pmf(k,n,p)"
   ]
  },
  {
   "cell_type": "code",
   "execution_count": 6,
   "metadata": {},
   "outputs": [
    {
     "name": "stdout",
     "output_type": "stream",
     "text": [
      "[5.98736939e-01 3.15124705e-01 7.46347985e-02 1.04750594e-02\n",
      " 9.64808106e-04 6.09352488e-05 2.67259863e-06 8.03789063e-08\n",
      " 1.58642578e-09 1.85546875e-11 9.76562500e-14]\n"
     ]
    }
   ],
   "source": [
    "print(binomial)"
   ]
  },
  {
   "cell_type": "code",
   "execution_count": 7,
   "metadata": {},
   "outputs": [
    {
     "name": "stdout",
     "output_type": "stream",
     "text": [
      "a) None of the LED bulbs are defective? is 0.5987\n"
     ]
    }
   ],
   "source": [
    "print('a) None of the LED bulbs are defective? is %1.4f' %binomial[0])"
   ]
  },
  {
   "cell_type": "code",
   "execution_count": 8,
   "metadata": {},
   "outputs": [
    {
     "name": "stdout",
     "output_type": "stream",
     "text": [
      "b) Exactly one of the LED bulbs is defective? is 0.3151\n"
     ]
    }
   ],
   "source": [
    "print('b) Exactly one of the LED bulbs is defective? is %1.4f' %binomial[1])"
   ]
  },
  {
   "cell_type": "markdown",
   "metadata": {},
   "source": [
    "To answer the question c) Two or fewer of the LED bulbs are defective?\n",
    "\n",
    "we need to calculate cumulative probability of Upto Two LED bulbs being defective"
   ]
  },
  {
   "cell_type": "code",
   "execution_count": 9,
   "metadata": {},
   "outputs": [],
   "source": [
    "cumbinomial = stats.binom.cdf(k,n,p)"
   ]
  },
  {
   "cell_type": "code",
   "execution_count": 10,
   "metadata": {},
   "outputs": [
    {
     "name": "stdout",
     "output_type": "stream",
     "text": [
      "[0.59873694 0.91386164 0.98849644 0.9989715  0.99993631 0.99999725\n",
      " 0.99999992 1.         1.         1.         1.        ]\n"
     ]
    }
   ],
   "source": [
    "print(cumbinomial)"
   ]
  },
  {
   "cell_type": "code",
   "execution_count": 11,
   "metadata": {},
   "outputs": [
    {
     "name": "stdout",
     "output_type": "stream",
     "text": [
      "c) Two or fewer of the LED bulbs are defective? is 0.9885\n"
     ]
    }
   ],
   "source": [
    "print('c) Two or fewer of the LED bulbs are defective? is %1.4f' %cumbinomial[2])"
   ]
  },
  {
   "cell_type": "markdown",
   "metadata": {},
   "source": [
    "To answer the question d) Three or more of the LED bulbs are defective, we need to subtract cumulative Probability upto 2 \n",
    "defective LED bulbs from 1."
   ]
  },
  {
   "cell_type": "code",
   "execution_count": 12,
   "metadata": {},
   "outputs": [
    {
     "name": "stdout",
     "output_type": "stream",
     "text": [
      "d) Three or more of the LED bulbs are defective is 0.0115\n"
     ]
    }
   ],
   "source": [
    "P = 1- cumbinomial[2]\n",
    "print('d) Three or more of the LED bulbs are defective is %1.4f' % P)"
   ]
  },
  {
   "cell_type": "markdown",
   "metadata": {},
   "source": [
    "# Plot the binomial distribution function"
   ]
  },
  {
   "cell_type": "code",
   "execution_count": 13,
   "metadata": {},
   "outputs": [
    {
     "data": {
      "image/png": "[encoded data removed]",
      "text/plain": [
       "<Figure size 432x288 with 1 Axes>"
      ]
     },
     "metadata": {
      "needs_background": "light"
     },
     "output_type": "display_data"
    }
   ],
   "source": [
    "plt.plot(k,binomial, 'o-')\n",
    "plt.title('Binomial')\n",
    "plt.xlabel('Number of Def LED bulbs')\n",
    "plt.ylabel('Prob of Defective LED bulbs')\n",
    "plt.show()"
   ]
  },
  {
   "cell_type": "markdown",
   "metadata": {},
   "source": [
    "# Poisson Distribution"
   ]
  },
  {
   "cell_type": "markdown",
   "metadata": {},
   "source": [
    "This discrete distribution which also plays a major role in quality control. \n",
    "\n",
    "The Poisson distribution is a discrete probability distribution for the counts of events that occur randomly in a given \n",
    "interval of time or space. In such areas of opportunity, there can be more than one occurrence. In such situations, Poisson \n",
    "distribution can be used to compute probabilities.\n",
    "\n",
    "Examples include number of defects per item, number of defects per transformer produced. \n",
    "Notes: Poisson Distribution helps to predict the arrival rate in a waiting line situation where a queue is formed and people \n",
    "wait to be served and the service rate is generally higher than the arrival rate."
   ]
  },
  {
   "cell_type": "markdown",
   "metadata": {},
   "source": [
    "# Properties:\n",
    "\n",
    "Mean μ = λ\n",
    "\n",
    "Standard deviation σ = √ μ\n",
    "\n",
    "The Poisson distribution is the limit of binomial distribution as n approaches ∞and p approaches 0"
   ]
  },
  {
   "cell_type": "markdown",
   "metadata": {},
   "source": [
    "P(X = x) = $\\frac{e^\\lambda \\lambda^x}{x!} $\n",
    "where \n",
    "* P(x)              = Probability of x successes given an idea of  $\\lambda$\n",
    "* $\\lambda$ = Average number of successes\n",
    "* e                   = 2.71828 (based on natural logarithm)\n",
    "* x                    = successes per unit which can take values 0,1,2,3,... $\\infty$"
   ]
  },
  {
   "cell_type": "markdown",
   "metadata": {},
   "source": [
    "Applications\n",
    "\n",
    "Car Accidents\n",
    "\n",
    "Number of deaths by horse kicking in Prussian Army (first application)\n",
    "\n",
    "Birth defects and genetic mutation\n",
    "\n",
    "Note\n",
    "\n",
    "If there is a fixed number of observations, n, each of which is classified as an event of interest or not an event of interest,\n",
    "use the binomial distribution.\n",
    "\n",
    "If there is an area of opportunity, use the Poisson distribution."
   ]
  },
  {
   "cell_type": "markdown",
   "metadata": {},
   "source": [
    "# Question 4"
   ]
  },
  {
   "cell_type": "markdown",
   "metadata": {},
   "source": [
    "A Life Insurance agent sells on the average 3 life insurance policies per week. Use the Poisson law to calculate the \n",
    "probability that in a given week, he will sell a. Some policies b. 2 or more but less than 5 policies?"
   ]
  },
  {
   "cell_type": "markdown",
   "metadata": {},
   "source": [
    "Here $\\lambda$ = 3"
   ]
  },
  {
   "cell_type": "code",
   "execution_count": 14,
   "metadata": {},
   "outputs": [],
   "source": [
    "rate =  3 # which is the mean\n",
    "n    =  np.arange(0,16)\n",
    "cumpoisson = stats.poisson.cdf(n,rate)"
   ]
  },
  {
   "cell_type": "code",
   "execution_count": 15,
   "metadata": {},
   "outputs": [
    {
     "data": {
      "text/plain": [
       "array([0.04978707, 0.19914827, 0.42319008, 0.64723189, 0.81526324,\n",
       "       0.91608206, 0.96649146, 0.9880955 , 0.99619701, 0.99889751,\n",
       "       0.99970766, 0.99992861, 0.99998385, 0.9999966 , 0.99999933,\n",
       "       0.99999988])"
      ]
     },
     "execution_count": 15,
     "metadata": {},
     "output_type": "execute_result"
    }
   ],
   "source": [
    "cumpoisson"
   ]
  },
  {
   "cell_type": "code",
   "execution_count": 16,
   "metadata": {},
   "outputs": [
    {
     "name": "stdout",
     "output_type": "stream",
     "text": [
      " a) Probability that the agent sells some policies is 0.9502\n"
     ]
    }
   ],
   "source": [
    "# P = probability that the agent sells some policies\n",
    "P   = 1 - cumpoisson[0]\n",
    "print(' a) Probability that the agent sells some policies is %1.4f' % P)"
   ]
  },
  {
   "cell_type": "markdown",
   "metadata": {},
   "source": [
    "b. Agent sells 2 or more but less than 5 policies "
   ]
  },
  {
   "cell_type": "code",
   "execution_count": 17,
   "metadata": {},
   "outputs": [
    {
     "name": "stdout",
     "output_type": "stream",
     "text": [
      " b) Probability that the agent sells between 2 and 5 policies is 0.6161\n"
     ]
    }
   ],
   "source": [
    "# Let P1 be the probability that the agent sells more than 4 policies\n",
    "P1 = cumpoisson[4] # P(X >=4)\n",
    "# Let P2 be the probability that the agent sells more than 1 policy\n",
    "P2 = cumpoisson[1] # P(X >=1)\n",
    "P = P1 - P2 # Prob. that the agent will sell between 2 and 5 policies\n",
    "print(' b) Probability that the agent sells between 2 and 5 policies is %1.4f' % P)"
   ]
  },
  {
   "cell_type": "markdown",
   "metadata": {},
   "source": [
    "# Plot a poisson distribution function"
   ]
  },
  {
   "cell_type": "code",
   "execution_count": 18,
   "metadata": {},
   "outputs": [
    {
     "data": {
      "image/png": "[encoded data removed]",
      "text/plain": [
       "<Figure size 432x288 with 1 Axes>"
      ]
     },
     "metadata": {
      "needs_background": "light"
     },
     "output_type": "display_data"
    }
   ],
   "source": [
    "poisson = stats.poisson.pmf(n,rate)\n",
    "plt.plot(n,poisson, 'o-')\n",
    "plt.title('Poisson')\n",
    "plt.xlabel('Number of Policies sold per week')\n",
    "plt.ylabel('Cumulative Prob of Policies sold per week')\n",
    "plt.show()"
   ]
  },
  {
   "cell_type": "markdown",
   "metadata": {},
   "source": [
    "# Question 5"
   ]
  },
  {
   "cell_type": "markdown",
   "metadata": {},
   "source": [
    "Computing Binomial probabilities for service at a Fast-Food Restaurant"
   ]
  },
  {
   "cell_type": "markdown",
   "metadata": {},
   "source": [
    "# Context:\n",
    "\n",
    "Accuracy in taking orders at a drive -through window is important for fast- food chains.Periodically, QSR Magazine publishes \"The Drive- thru Performance Study: Order accuracy\" that measures the percentage of orders that ar3 filled correctly. In a recent month, the percentage of orders filled correctly at Wendy's was approximately 86.8%. Suppose that you go to drive-through window at Wendy's and place an order. Two friends of yours independently place orders at the drive-through window at the same Wendy's."
   ]
  },
  {
   "cell_type": "markdown",
   "metadata": {},
   "source": [
    "# What are the probabilities that all three that none of the three, and that atleast two of the three orders will be filled correctly?"
   ]
  },
  {
   "cell_type": "code",
   "execution_count": 19,
   "metadata": {},
   "outputs": [
    {
     "ename": "SyntaxError",
     "evalue": "invalid syntax (<ipython-input-19-f6806da3488e>, line 1)",
     "output_type": "error",
     "traceback": [
      "\u001b[1;36m  File \u001b[1;32m\"<ipython-input-19-f6806da3488e>\"\u001b[1;36m, line \u001b[1;32m1\u001b[0m\n\u001b[1;33m    Because there are three orders and the probability of a correct order is 0.868.\u001b[0m\n\u001b[1;37m                ^\u001b[0m\n\u001b[1;31mSyntaxError\u001b[0m\u001b[1;31m:\u001b[0m invalid syntax\n"
     ]
    }
   ],
   "source": [
    "Because there are three orders and the probability of a correct order is 0.868.\n",
    "    Using Binomial distribution equation,\n",
    "    \n",
    "    P(X = 3|n =3, pi given = 0.868)\n",
    "    3!/ 3!(3-3)! * (0.868)^3 * (1-0.868)^3-3 = 0.6540\n",
    "    \n",
    "    Likewise, calculate X= 0, X=2\n",
    "     (X = 0) = 0.0023\n",
    "     (X = 2) = 0.2984\n",
    "    \n",
    "    Hence, P(X>=2) = P(X=2)+P(X=3) = 0.9524"
   ]
  },
  {
   "cell_type": "markdown",
   "metadata": {},
   "source": [
    "The probability that all the three orders are filled correctly is 0.6540, 65.4% The probability that none of the orders are \n",
    "filled correctly is 0.0023, 0.23% The probability that atleat two of the three are filled correctly is 0.9524, 95.24%"
   ]
  },
  {
   "cell_type": "markdown",
   "metadata": {},
   "source": [
    "## Question 6: Business Statistics Course"
   ]
  },
  {
   "cell_type": "markdown",
   "metadata": {},
   "source": [
    "# Objectives: Calculate probabilities based on Poisson and Normal distribution"
   ]
  },
  {
   "cell_type": "markdown",
   "metadata": {},
   "source": [
    "# Context: \n",
    "At the Conclusion of a course in business statistics, a group of management students sat for a written examination. The results \n",
    "throw up the following information."
   ]
  },
  {
   "cell_type": "markdown",
   "metadata": {},
   "source": [
    "Marks obtained have a mean of 60 and a standard deviation of 12. There were 300 students who wrote the exam. \n",
    "The pattern of marks follows a normal distribution \n",
    "a) what is the percentage of students who score more than 80\n",
    "b) What is the percentage of students who score less than 50\n",
    "c) What should be the distinction mark if the highest 10% of students are to be awarded distinction?\n",
    "Graphical method can be used for convenience."
   ]
  },
  {
   "cell_type": "markdown",
   "metadata": {},
   "source": [
    "a) Lets use the ztable that gives the area between 0 and positive z.\n",
    "Z = (x - µ)/σ \n",
    "(80 -60)/12 =1.67 \n",
    "proportions of students who score more than 1.67 = 0.5 - proportion scoring between 0 and 1.67 = 0.5 - 0.4525 = 0.0475\n",
    "That is 4.75% of students have scored more than 80"
   ]
  },
  {
   "cell_type": "markdown",
   "metadata": {},
   "source": [
    "b) similarly (50 - 60)/12 = -0.8333. Applying the property of symmetry, the area upto -0.8333 is same as area more \n",
    "than 0.8333 in the positive side. As before, it is = 0.5 - area between 0 and 0.8333 =  0.5 - 0.2967 = 0.2033. That is\n",
    "20.33% of students scored below 50"
   ]
  },
  {
   "cell_type": "markdown",
   "metadata": {},
   "source": [
    "c) Z = (x-60)/12. Here look at the normal tabel in inverse manner. That is the value of Z, the area between 0 and\n",
    "z = 0.40. this is to be seen from teh table.\n",
    " The Z value that will make the area =  0.40 is = 1.28. But z= (x - 60)/12. Hence (x-60)/12 = 1.28 Simplifying, x= 75.36\n",
    "This is the distinction mark that will be scored by 10% of the students."
   ]
  }
 ],
 "metadata": {
  "kernelspec": {
   "display_name": "Python 3",
   "language": "python",
   "name": "python3"
  },
  "language_info": {
   "codemirror_mode": {
    "name": "ipython",
    "version": 3
   },
   "file_extension": ".py",
   "mimetype": "text/x-python",
   "name": "python",
   "nbconvert_exporter": "python",
   "pygments_lexer": "ipython3",
   "version": "3.7.4"
  }
 },
 "nbformat": 4,
 "nbformat_minor": 2
}
