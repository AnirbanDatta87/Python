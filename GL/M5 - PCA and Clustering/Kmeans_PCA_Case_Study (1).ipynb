{
  "nbformat": 4,
  "nbformat_minor": 0,
  "metadata": {
    "kernelspec": {
      "display_name": "Python 3",
      "language": "python",
      "name": "python3"
    },
    "language_info": {
      "codemirror_mode": {
        "name": "ipython",
        "version": 3
      },
      "file_extension": ".py",
      "mimetype": "text/x-python",
      "name": "python",
      "nbconvert_exporter": "python",
      "pygments_lexer": "ipython3",
      "version": "3.7.3"
    },
    "colab": {
      "name": "Kmeans-PCA Case Study2 .ipynb",
      "provenance": [],
      "collapsed_sections": []
    }
  },
  "cells": [
    {
      "cell_type": "markdown",
      "metadata": {
        "id": "UwapCl9gDWY2",
        "colab_type": "text"
      },
      "source": [
        "# K-Means Clustering and PCA of Human Activity Recognition\n"
      ]
    },
    {
      "cell_type": "markdown",
      "metadata": {
        "id": "U7c9YBHMDWY4",
        "colab_type": "text"
      },
      "source": [
        "# Table of contents\n",
        "\n",
        "Contents of the notebook that include, \n",
        "\n",
        "- Dataset information\n",
        "- libraries \n",
        "- The problem statement \n",
        "- Reading data from Google Drive\n",
        "- Preprocessing steps\n",
        "- Elbow plot to find optimal value of K\n",
        "- Principal component analysis (PCA)\n",
        "- Results\n",
        "- Conclusion\n",
        "- References\n",
        "- Citation"
      ]
    },
    {
      "cell_type": "markdown",
      "metadata": {
        "id": "fU04Nz3zDWY5",
        "colab_type": "text"
      },
      "source": [
        "# Dataset Information\n",
        "### The Human Activity Recognition database was built from the recordings of 30 study participants performing activities of daily living (ADL) while carrying a waist-mounted smartphone with embedded inertial sensors.\n",
        "\n",
        "##Description of experiment\n",
        "The experiments have been carried out with a group of 30 volunteers within an age bracket of 19-48 years. Each person performed six activities (WALKING, WALKINGUPSTAIRS, WALKINGDOWNSTAIRS, SITTING, STANDING, LAYING) wearing a smartphone (Samsung Galaxy S II) on the waist. Using its embedded accelerometer and gyroscope, we captured 3-axial linear acceleration and 3-axial angular velocity at a constant rate of 50Hz. The experiments have been video-recorded to label the data manually. The obtained dataset has been randomly partitioned into two sets, where 70% of the volunteers was selected for generating the training data and 30% the test data.\n",
        "\n",
        "The sensor signals (accelerometer and gyroscope) were pre-processed by applying noise filters and then sampled in fixed-width sliding windows of 2.56 sec and 50% overlap (128 readings/window). The sensor acceleration signal, which has gravitational and body motion components, was separated using a Butterworth low-pass filter into body acceleration and gravity. The gravitational force is assumed to have only low frequency components, therefore a filter with 0.3 Hz cutoff frequency was used. From each window, a vector of features was obtained by calculating variables from the time and frequency domain.\n",
        "\n",
        "## Attribute information\n",
        "For each record in the dataset the following is provided:\n",
        "\n",
        "Triaxial acceleration from the accelerometer (total acceleration) and the estimated body acceleration.\n",
        "\n",
        "Triaxial Angular velocity from the gyroscope.\n",
        "\n",
        "A 561-feature vector with time and frequency domain variables.\n",
        "\n",
        "Its activity label.\n",
        "\n",
        "An identifier of the subject who carried out the experiment.\n",
        "\n"
      ]
    },
    {
      "cell_type": "markdown",
      "metadata": {
        "id": "hjXIcJ5BDWY6",
        "colab_type": "text"
      },
      "source": [
        "# libraries\n",
        "\n",
        "All the libraries used in the notebook"
      ]
    },
    {
      "cell_type": "code",
      "metadata": {
        "id": "X0gLZQAsTbB-",
        "colab_type": "code",
        "colab": {}
      },
      "source": [
        "import numpy as np \n",
        "import pandas as pd\n",
        "import matplotlib.pyplot as plt \n",
        "from sklearn.preprocessing import StandardScaler\n",
        "from IPython.display import display\n",
        "from sklearn.cluster import KMeans \n",
        "from sklearn.decomposition import PCA\n",
        "from mpl_toolkits.mplot3d import Axes3D\n",
        "from sklearn.metrics import homogeneity_score, completeness_score, \\\n",
        "v_measure_score, adjusted_rand_score, adjusted_mutual_info_score, silhouette_score\n",
        "%matplotlib inline"
      ],
      "execution_count": 0,
      "outputs": []
    },
    {
      "cell_type": "markdown",
      "metadata": {
        "id": "1j3OCTw5DWY7",
        "colab_type": "text"
      },
      "source": [
        "# The problem statement \n",
        "\n",
        "Can you identify behavior patterns via smart phone sensor data?"
      ]
    },
    {
      "cell_type": "markdown",
      "metadata": {
        "id": "7AgPXz0pDWY9",
        "colab_type": "text"
      },
      "source": [
        "# Reading the data from Google Drive"
      ]
    },
    {
      "cell_type": "code",
      "metadata": {
        "id": "8TdFnsLUUet3",
        "colab_type": "code",
        "outputId": "c854dd17-e2bc-45fc-8f4e-405636a2e513",
        "colab": {
          "base_uri": "https://localhost:8080/",
          "height": 34
        }
      },
      "source": [
        "from google.colab import drive\n",
        "drive.mount('/content/drive')\n"
      ],
      "execution_count": 0,
      "outputs": [
        {
          "output_type": "stream",
          "text": [
            "Drive already mounted at /content/drive; to attempt to forcibly remount, call drive.mount(\"/content/drive\", force_remount=True).\n"
          ],
          "name": "stdout"
        }
      ]
    },
    {
      "cell_type": "code",
      "metadata": {
        "id": "0VSICWSXXL9Y",
        "colab_type": "code",
        "outputId": "e973e5df-9331-4853-c63c-ac4c00e8855c",
        "colab": {
          "base_uri": "https://localhost:8080/",
          "height": 34
        }
      },
      "source": [
        "cd drive/My Drive"
      ],
      "execution_count": 0,
      "outputs": [
        {
          "output_type": "stream",
          "text": [
            "/content/drive/My Drive\n"
          ],
          "name": "stdout"
        }
      ]
    },
    {
      "cell_type": "code",
      "metadata": {
        "id": "u75ZBPcOXXuo",
        "colab_type": "code",
        "colab": {}
      },
      "source": [
        "Data = pd.read_csv('Kmeans_PCA_train.csv')"
      ],
      "execution_count": 0,
      "outputs": []
    },
    {
      "cell_type": "markdown",
      "metadata": {
        "id": "1BygFcgIDWY-",
        "colab_type": "text"
      },
      "source": [
        "# Preprocessing steps"
      ]
    },
    {
      "cell_type": "markdown",
      "metadata": {
        "id": "xoy6-H26hFGY",
        "colab_type": "text"
      },
      "source": [
        "### Let us have a look at a few samples of data to know what we are working with"
      ]
    },
    {
      "cell_type": "code",
      "metadata": {
        "id": "LZc21XurUy-b",
        "colab_type": "code",
        "outputId": "3c5ca22d-96ba-4f8a-f15a-4a549c8a87ef",
        "colab": {
          "base_uri": "https://localhost:8080/",
          "height": 253
        }
      },
      "source": [
        "Data.sample(5)"
      ],
      "execution_count": 0,
      "outputs": [
        {
          "output_type": "execute_result",
          "data": {
            "text/html": [
              "<div>\n",
              "<style scoped>\n",
              "    .dataframe tbody tr th:only-of-type {\n",
              "        vertical-align: middle;\n",
              "    }\n",
              "\n",
              "    .dataframe tbody tr th {\n",
              "        vertical-align: top;\n",
              "    }\n",
              "\n",
              "    .dataframe thead th {\n",
              "        text-align: right;\n",
              "    }\n",
              "</style>\n",
              "<table border=\"1\" class=\"dataframe\">\n",
              "  <thead>\n",
              "    <tr style=\"text-align: right;\">\n",
              "      <th></th>\n",
              "      <th>rn</th>\n",
              "      <th>activity</th>\n",
              "      <th>tBodyAcc.mean.X</th>\n",
              "      <th>tBodyAcc.mean.Y</th>\n",
              "      <th>tBodyAcc.mean.Z</th>\n",
              "      <th>tBodyAcc.std.X</th>\n",
              "      <th>tBodyAcc.std.Y</th>\n",
              "      <th>tBodyAcc.std.Z</th>\n",
              "      <th>tBodyAcc.mad.X</th>\n",
              "      <th>tBodyAcc.mad.Y</th>\n",
              "      <th>tBodyAcc.mad.Z</th>\n",
              "      <th>tBodyAcc.max.X</th>\n",
              "      <th>tBodyAcc.max.Y</th>\n",
              "      <th>tBodyAcc.max.Z</th>\n",
              "      <th>tBodyAcc.min.X</th>\n",
              "      <th>tBodyAcc.min.Y</th>\n",
              "      <th>tBodyAcc.min.Z</th>\n",
              "      <th>tBodyAcc.sma</th>\n",
              "      <th>tBodyAcc.energy.X</th>\n",
              "      <th>tBodyAcc.energy.Y</th>\n",
              "      <th>tBodyAcc.energy.Z</th>\n",
              "      <th>tBodyAcc.iqr.X</th>\n",
              "      <th>tBodyAcc.iqr.Y</th>\n",
              "      <th>tBodyAcc.iqr.Z</th>\n",
              "      <th>tBodyAcc.entropy.X</th>\n",
              "      <th>tBodyAcc.entropy.Y</th>\n",
              "      <th>tBodyAcc.entropy.Z</th>\n",
              "      <th>tBodyAcc.arCoeff.X.1</th>\n",
              "      <th>tBodyAcc.arCoeff.X.2</th>\n",
              "      <th>tBodyAcc.arCoeff.X.3</th>\n",
              "      <th>tBodyAcc.arCoeff.X.4</th>\n",
              "      <th>tBodyAcc.arCoeff.Y.1</th>\n",
              "      <th>tBodyAcc.arCoeff.Y.2</th>\n",
              "      <th>tBodyAcc.arCoeff.Y.3</th>\n",
              "      <th>tBodyAcc.arCoeff.Y.4</th>\n",
              "      <th>tBodyAcc.arCoeff.Z.1</th>\n",
              "      <th>tBodyAcc.arCoeff.Z.2</th>\n",
              "      <th>tBodyAcc.arCoeff.Z.3</th>\n",
              "      <th>tBodyAcc.arCoeff.Z.4</th>\n",
              "      <th>tBodyAcc.correlation.X.Y</th>\n",
              "      <th>...</th>\n",
              "      <th>fBodyBodyAccJerkMag.energy</th>\n",
              "      <th>fBodyBodyAccJerkMag.iqr</th>\n",
              "      <th>fBodyBodyAccJerkMag.entropy</th>\n",
              "      <th>fBodyBodyAccJerkMag.maxInds</th>\n",
              "      <th>fBodyBodyAccJerkMag.meanFreq</th>\n",
              "      <th>fBodyBodyAccJerkMag.skewness</th>\n",
              "      <th>fBodyBodyAccJerkMag.kurtosis</th>\n",
              "      <th>fBodyBodyGyroMag.mean</th>\n",
              "      <th>fBodyBodyGyroMag.std</th>\n",
              "      <th>fBodyBodyGyroMag.mad</th>\n",
              "      <th>fBodyBodyGyroMag.max</th>\n",
              "      <th>fBodyBodyGyroMag.min</th>\n",
              "      <th>fBodyBodyGyroMag.sma</th>\n",
              "      <th>fBodyBodyGyroMag.energy</th>\n",
              "      <th>fBodyBodyGyroMag.iqr</th>\n",
              "      <th>fBodyBodyGyroMag.entropy</th>\n",
              "      <th>fBodyBodyGyroMag.maxInds</th>\n",
              "      <th>fBodyBodyGyroMag.meanFreq</th>\n",
              "      <th>fBodyBodyGyroMag.skewness</th>\n",
              "      <th>fBodyBodyGyroMag.kurtosis</th>\n",
              "      <th>fBodyBodyGyroJerkMag.mean</th>\n",
              "      <th>fBodyBodyGyroJerkMag.std</th>\n",
              "      <th>fBodyBodyGyroJerkMag.mad</th>\n",
              "      <th>fBodyBodyGyroJerkMag.max</th>\n",
              "      <th>fBodyBodyGyroJerkMag.min</th>\n",
              "      <th>fBodyBodyGyroJerkMag.sma</th>\n",
              "      <th>fBodyBodyGyroJerkMag.energy</th>\n",
              "      <th>fBodyBodyGyroJerkMag.iqr</th>\n",
              "      <th>fBodyBodyGyroJerkMag.entropy</th>\n",
              "      <th>fBodyBodyGyroJerkMag.maxInds</th>\n",
              "      <th>fBodyBodyGyroJerkMag.meanFreq</th>\n",
              "      <th>fBodyBodyGyroJerkMag.skewness</th>\n",
              "      <th>fBodyBodyGyroJerkMag.kurtosis</th>\n",
              "      <th>angle.tBodyAccMean.gravity</th>\n",
              "      <th>angle.tBodyAccJerkMean.gravityMean</th>\n",
              "      <th>angle.tBodyGyroMean.gravityMean</th>\n",
              "      <th>angle.tBodyGyroJerkMean.gravityMean</th>\n",
              "      <th>angle.X.gravityMean</th>\n",
              "      <th>angle.Y.gravityMean</th>\n",
              "      <th>angle.Z.gravityMean</th>\n",
              "    </tr>\n",
              "  </thead>\n",
              "  <tbody>\n",
              "    <tr>\n",
              "      <th>849</th>\n",
              "      <td>2416</td>\n",
              "      <td>SITTING</td>\n",
              "      <td>0.281</td>\n",
              "      <td>-0.01340</td>\n",
              "      <td>-0.1000</td>\n",
              "      <td>-0.9940</td>\n",
              "      <td>-0.9740</td>\n",
              "      <td>-0.982</td>\n",
              "      <td>-0.995</td>\n",
              "      <td>-0.9740</td>\n",
              "      <td>-0.982</td>\n",
              "      <td>-0.939</td>\n",
              "      <td>-0.559</td>\n",
              "      <td>-0.812</td>\n",
              "      <td>0.842</td>\n",
              "      <td>0.686</td>\n",
              "      <td>0.832</td>\n",
              "      <td>-0.9860</td>\n",
              "      <td>-1.000</td>\n",
              "      <td>-1.000</td>\n",
              "      <td>-1.000</td>\n",
              "      <td>-0.996</td>\n",
              "      <td>-0.976</td>\n",
              "      <td>-0.981</td>\n",
              "      <td>-0.520</td>\n",
              "      <td>-0.396</td>\n",
              "      <td>-0.3740</td>\n",
              "      <td>0.126</td>\n",
              "      <td>-0.192</td>\n",
              "      <td>0.2500</td>\n",
              "      <td>0.0772</td>\n",
              "      <td>-0.0804</td>\n",
              "      <td>0.0293</td>\n",
              "      <td>0.20400</td>\n",
              "      <td>-0.19100</td>\n",
              "      <td>0.1190</td>\n",
              "      <td>0.0068</td>\n",
              "      <td>0.1020</td>\n",
              "      <td>-0.12900</td>\n",
              "      <td>0.28300</td>\n",
              "      <td>...</td>\n",
              "      <td>-1.000</td>\n",
              "      <td>-0.988</td>\n",
              "      <td>-1.0000</td>\n",
              "      <td>-0.937</td>\n",
              "      <td>0.3640</td>\n",
              "      <td>-0.391</td>\n",
              "      <td>-0.772</td>\n",
              "      <td>-0.966</td>\n",
              "      <td>-0.938</td>\n",
              "      <td>-0.958</td>\n",
              "      <td>-0.924</td>\n",
              "      <td>-0.990</td>\n",
              "      <td>-0.966</td>\n",
              "      <td>-0.998</td>\n",
              "      <td>-0.987</td>\n",
              "      <td>-0.611</td>\n",
              "      <td>-1.000</td>\n",
              "      <td>-0.1920</td>\n",
              "      <td>0.6210</td>\n",
              "      <td>0.418</td>\n",
              "      <td>-0.996</td>\n",
              "      <td>-0.994</td>\n",
              "      <td>-0.994</td>\n",
              "      <td>-0.995</td>\n",
              "      <td>-0.997</td>\n",
              "      <td>-0.996</td>\n",
              "      <td>-1.000</td>\n",
              "      <td>-0.994</td>\n",
              "      <td>-0.956</td>\n",
              "      <td>-0.968</td>\n",
              "      <td>0.1220</td>\n",
              "      <td>-0.2270</td>\n",
              "      <td>-0.5950</td>\n",
              "      <td>-0.2200</td>\n",
              "      <td>0.3920</td>\n",
              "      <td>0.00846</td>\n",
              "      <td>-0.0306</td>\n",
              "      <td>-0.880</td>\n",
              "      <td>0.0395</td>\n",
              "      <td>-0.0474</td>\n",
              "    </tr>\n",
              "    <tr>\n",
              "      <th>1809</th>\n",
              "      <td>5171</td>\n",
              "      <td>WALKING</td>\n",
              "      <td>0.304</td>\n",
              "      <td>-0.02050</td>\n",
              "      <td>-0.1960</td>\n",
              "      <td>-0.5480</td>\n",
              "      <td>-0.1430</td>\n",
              "      <td>-0.290</td>\n",
              "      <td>-0.575</td>\n",
              "      <td>-0.1590</td>\n",
              "      <td>-0.297</td>\n",
              "      <td>-0.441</td>\n",
              "      <td>-0.166</td>\n",
              "      <td>-0.278</td>\n",
              "      <td>0.409</td>\n",
              "      <td>0.114</td>\n",
              "      <td>0.310</td>\n",
              "      <td>-0.3250</td>\n",
              "      <td>-0.896</td>\n",
              "      <td>-0.857</td>\n",
              "      <td>-0.760</td>\n",
              "      <td>-0.599</td>\n",
              "      <td>-0.296</td>\n",
              "      <td>-0.393</td>\n",
              "      <td>0.655</td>\n",
              "      <td>0.282</td>\n",
              "      <td>-0.0224</td>\n",
              "      <td>-0.411</td>\n",
              "      <td>0.343</td>\n",
              "      <td>-0.0669</td>\n",
              "      <td>-0.0751</td>\n",
              "      <td>-0.4630</td>\n",
              "      <td>0.3490</td>\n",
              "      <td>0.08880</td>\n",
              "      <td>-0.11200</td>\n",
              "      <td>-0.6090</td>\n",
              "      <td>0.4870</td>\n",
              "      <td>-0.1690</td>\n",
              "      <td>-0.14100</td>\n",
              "      <td>0.04240</td>\n",
              "      <td>...</td>\n",
              "      <td>-0.863</td>\n",
              "      <td>-0.548</td>\n",
              "      <td>0.0494</td>\n",
              "      <td>-0.905</td>\n",
              "      <td>0.0069</td>\n",
              "      <td>0.533</td>\n",
              "      <td>0.365</td>\n",
              "      <td>-0.492</td>\n",
              "      <td>-0.381</td>\n",
              "      <td>-0.371</td>\n",
              "      <td>-0.326</td>\n",
              "      <td>-0.822</td>\n",
              "      <td>-0.492</td>\n",
              "      <td>-0.792</td>\n",
              "      <td>-0.387</td>\n",
              "      <td>0.396</td>\n",
              "      <td>-0.949</td>\n",
              "      <td>-0.2310</td>\n",
              "      <td>0.0327</td>\n",
              "      <td>-0.239</td>\n",
              "      <td>-0.743</td>\n",
              "      <td>-0.720</td>\n",
              "      <td>-0.717</td>\n",
              "      <td>-0.692</td>\n",
              "      <td>-0.827</td>\n",
              "      <td>-0.743</td>\n",
              "      <td>-0.961</td>\n",
              "      <td>-0.697</td>\n",
              "      <td>0.196</td>\n",
              "      <td>-0.905</td>\n",
              "      <td>-0.0299</td>\n",
              "      <td>0.2070</td>\n",
              "      <td>-0.0592</td>\n",
              "      <td>0.0914</td>\n",
              "      <td>0.0751</td>\n",
              "      <td>-0.86600</td>\n",
              "      <td>0.5580</td>\n",
              "      <td>-0.663</td>\n",
              "      <td>0.1600</td>\n",
              "      <td>-0.2170</td>\n",
              "    </tr>\n",
              "    <tr>\n",
              "      <th>1462</th>\n",
              "      <td>4182</td>\n",
              "      <td>STANDING</td>\n",
              "      <td>0.270</td>\n",
              "      <td>-0.02230</td>\n",
              "      <td>-0.0917</td>\n",
              "      <td>-0.9480</td>\n",
              "      <td>-0.8810</td>\n",
              "      <td>-0.892</td>\n",
              "      <td>-0.959</td>\n",
              "      <td>-0.8900</td>\n",
              "      <td>-0.885</td>\n",
              "      <td>-0.865</td>\n",
              "      <td>-0.479</td>\n",
              "      <td>-0.727</td>\n",
              "      <td>0.752</td>\n",
              "      <td>0.612</td>\n",
              "      <td>0.814</td>\n",
              "      <td>-0.9150</td>\n",
              "      <td>-0.998</td>\n",
              "      <td>-0.997</td>\n",
              "      <td>-0.993</td>\n",
              "      <td>-0.970</td>\n",
              "      <td>-0.923</td>\n",
              "      <td>-0.878</td>\n",
              "      <td>-0.116</td>\n",
              "      <td>-0.238</td>\n",
              "      <td>-0.0179</td>\n",
              "      <td>-0.139</td>\n",
              "      <td>0.252</td>\n",
              "      <td>-0.3360</td>\n",
              "      <td>0.6610</td>\n",
              "      <td>-0.1160</td>\n",
              "      <td>0.0460</td>\n",
              "      <td>0.26000</td>\n",
              "      <td>0.11000</td>\n",
              "      <td>-0.3030</td>\n",
              "      <td>0.1610</td>\n",
              "      <td>0.0215</td>\n",
              "      <td>-0.00721</td>\n",
              "      <td>-0.19800</td>\n",
              "      <td>...</td>\n",
              "      <td>-0.996</td>\n",
              "      <td>-0.926</td>\n",
              "      <td>-0.5660</td>\n",
              "      <td>-0.968</td>\n",
              "      <td>-0.1820</td>\n",
              "      <td>-0.106</td>\n",
              "      <td>-0.507</td>\n",
              "      <td>-0.921</td>\n",
              "      <td>-0.885</td>\n",
              "      <td>-0.892</td>\n",
              "      <td>-0.895</td>\n",
              "      <td>-0.975</td>\n",
              "      <td>-0.921</td>\n",
              "      <td>-0.993</td>\n",
              "      <td>-0.956</td>\n",
              "      <td>-0.279</td>\n",
              "      <td>-0.949</td>\n",
              "      <td>-0.3390</td>\n",
              "      <td>-0.1440</td>\n",
              "      <td>-0.555</td>\n",
              "      <td>-0.941</td>\n",
              "      <td>-0.941</td>\n",
              "      <td>-0.940</td>\n",
              "      <td>-0.944</td>\n",
              "      <td>-0.946</td>\n",
              "      <td>-0.941</td>\n",
              "      <td>-0.998</td>\n",
              "      <td>-0.943</td>\n",
              "      <td>-0.487</td>\n",
              "      <td>-0.968</td>\n",
              "      <td>-0.0236</td>\n",
              "      <td>-0.0406</td>\n",
              "      <td>-0.4640</td>\n",
              "      <td>0.1710</td>\n",
              "      <td>-0.2100</td>\n",
              "      <td>-0.14200</td>\n",
              "      <td>-0.2080</td>\n",
              "      <td>-0.609</td>\n",
              "      <td>0.3280</td>\n",
              "      <td>0.1600</td>\n",
              "    </tr>\n",
              "    <tr>\n",
              "      <th>3300</th>\n",
              "      <td>9418</td>\n",
              "      <td>STANDING</td>\n",
              "      <td>0.279</td>\n",
              "      <td>-0.01910</td>\n",
              "      <td>-0.1110</td>\n",
              "      <td>-0.9960</td>\n",
              "      <td>-0.9880</td>\n",
              "      <td>-0.974</td>\n",
              "      <td>-0.996</td>\n",
              "      <td>-0.9870</td>\n",
              "      <td>-0.970</td>\n",
              "      <td>-0.940</td>\n",
              "      <td>-0.569</td>\n",
              "      <td>-0.813</td>\n",
              "      <td>0.852</td>\n",
              "      <td>0.688</td>\n",
              "      <td>0.838</td>\n",
              "      <td>-0.9880</td>\n",
              "      <td>-1.000</td>\n",
              "      <td>-1.000</td>\n",
              "      <td>-0.999</td>\n",
              "      <td>-0.996</td>\n",
              "      <td>-0.987</td>\n",
              "      <td>-0.959</td>\n",
              "      <td>-0.591</td>\n",
              "      <td>-0.672</td>\n",
              "      <td>-0.4570</td>\n",
              "      <td>0.405</td>\n",
              "      <td>-0.258</td>\n",
              "      <td>0.3760</td>\n",
              "      <td>-0.0354</td>\n",
              "      <td>0.1320</td>\n",
              "      <td>-0.0645</td>\n",
              "      <td>0.20100</td>\n",
              "      <td>0.00546</td>\n",
              "      <td>0.0836</td>\n",
              "      <td>0.0280</td>\n",
              "      <td>-0.0651</td>\n",
              "      <td>-0.19900</td>\n",
              "      <td>-0.00808</td>\n",
              "      <td>...</td>\n",
              "      <td>-1.000</td>\n",
              "      <td>-0.995</td>\n",
              "      <td>-1.0000</td>\n",
              "      <td>-0.968</td>\n",
              "      <td>0.4150</td>\n",
              "      <td>-0.565</td>\n",
              "      <td>-0.783</td>\n",
              "      <td>-0.992</td>\n",
              "      <td>-0.992</td>\n",
              "      <td>-0.992</td>\n",
              "      <td>-0.993</td>\n",
              "      <td>-0.999</td>\n",
              "      <td>-0.992</td>\n",
              "      <td>-1.000</td>\n",
              "      <td>-0.992</td>\n",
              "      <td>-0.830</td>\n",
              "      <td>-0.949</td>\n",
              "      <td>0.1900</td>\n",
              "      <td>-0.4360</td>\n",
              "      <td>-0.743</td>\n",
              "      <td>-0.994</td>\n",
              "      <td>-0.994</td>\n",
              "      <td>-0.994</td>\n",
              "      <td>-0.994</td>\n",
              "      <td>-0.996</td>\n",
              "      <td>-0.994</td>\n",
              "      <td>-1.000</td>\n",
              "      <td>-0.993</td>\n",
              "      <td>-0.956</td>\n",
              "      <td>-1.000</td>\n",
              "      <td>0.1870</td>\n",
              "      <td>-0.2810</td>\n",
              "      <td>-0.6010</td>\n",
              "      <td>-0.3410</td>\n",
              "      <td>0.0368</td>\n",
              "      <td>0.18200</td>\n",
              "      <td>-0.6450</td>\n",
              "      <td>-0.699</td>\n",
              "      <td>0.2420</td>\n",
              "      <td>0.1720</td>\n",
              "    </tr>\n",
              "    <tr>\n",
              "      <th>1257</th>\n",
              "      <td>3586</td>\n",
              "      <td>WALKING_UPSTAIRS</td>\n",
              "      <td>0.363</td>\n",
              "      <td>-0.00516</td>\n",
              "      <td>-0.1220</td>\n",
              "      <td>-0.0289</td>\n",
              "      <td>0.0858</td>\n",
              "      <td>-0.371</td>\n",
              "      <td>-0.103</td>\n",
              "      <td>0.0647</td>\n",
              "      <td>-0.405</td>\n",
              "      <td>0.180</td>\n",
              "      <td>0.079</td>\n",
              "      <td>-0.332</td>\n",
              "      <td>0.128</td>\n",
              "      <td>0.162</td>\n",
              "      <td>0.511</td>\n",
              "      <td>-0.0358</td>\n",
              "      <td>-0.526</td>\n",
              "      <td>-0.772</td>\n",
              "      <td>-0.819</td>\n",
              "      <td>-0.197</td>\n",
              "      <td>-0.211</td>\n",
              "      <td>-0.511</td>\n",
              "      <td>0.576</td>\n",
              "      <td>0.212</td>\n",
              "      <td>-0.0012</td>\n",
              "      <td>-0.419</td>\n",
              "      <td>0.216</td>\n",
              "      <td>-0.0852</td>\n",
              "      <td>0.2950</td>\n",
              "      <td>-0.1350</td>\n",
              "      <td>0.0662</td>\n",
              "      <td>0.00851</td>\n",
              "      <td>0.26700</td>\n",
              "      <td>-0.2150</td>\n",
              "      <td>0.1740</td>\n",
              "      <td>-0.2460</td>\n",
              "      <td>0.26100</td>\n",
              "      <td>-0.56800</td>\n",
              "      <td>...</td>\n",
              "      <td>-0.787</td>\n",
              "      <td>-0.293</td>\n",
              "      <td>0.3780</td>\n",
              "      <td>-0.905</td>\n",
              "      <td>-0.0925</td>\n",
              "      <td>-0.300</td>\n",
              "      <td>-0.644</td>\n",
              "      <td>-0.597</td>\n",
              "      <td>-0.682</td>\n",
              "      <td>-0.595</td>\n",
              "      <td>-0.790</td>\n",
              "      <td>-0.712</td>\n",
              "      <td>-0.597</td>\n",
              "      <td>-0.921</td>\n",
              "      <td>-0.585</td>\n",
              "      <td>0.419</td>\n",
              "      <td>-0.744</td>\n",
              "      <td>0.0507</td>\n",
              "      <td>-0.6950</td>\n",
              "      <td>-0.930</td>\n",
              "      <td>-0.698</td>\n",
              "      <td>-0.738</td>\n",
              "      <td>-0.710</td>\n",
              "      <td>-0.773</td>\n",
              "      <td>-0.809</td>\n",
              "      <td>-0.698</td>\n",
              "      <td>-0.956</td>\n",
              "      <td>-0.731</td>\n",
              "      <td>0.275</td>\n",
              "      <td>-0.905</td>\n",
              "      <td>0.0307</td>\n",
              "      <td>-0.3440</td>\n",
              "      <td>-0.7140</td>\n",
              "      <td>-0.5420</td>\n",
              "      <td>0.1960</td>\n",
              "      <td>0.76600</td>\n",
              "      <td>-0.4200</td>\n",
              "      <td>-0.554</td>\n",
              "      <td>0.3650</td>\n",
              "      <td>0.1700</td>\n",
              "    </tr>\n",
              "  </tbody>\n",
              "</table>\n",
              "<p>5 rows × 563 columns</p>\n",
              "</div>"
            ],
            "text/plain": [
              "        rn          activity  ...  angle.Y.gravityMean  angle.Z.gravityMean\n",
              "849   2416           SITTING  ...               0.0395              -0.0474\n",
              "1809  5171           WALKING  ...               0.1600              -0.2170\n",
              "1462  4182          STANDING  ...               0.3280               0.1600\n",
              "3300  9418          STANDING  ...               0.2420               0.1720\n",
              "1257  3586  WALKING_UPSTAIRS  ...               0.3650               0.1700\n",
              "\n",
              "[5 rows x 563 columns]"
            ]
          },
          "metadata": {
            "tags": []
          },
          "execution_count": 52
        }
      ]
    },
    {
      "cell_type": "markdown",
      "metadata": {
        "id": "c-gi0ChF5KP4",
        "colab_type": "text"
      },
      "source": [
        "### Let's check the size of our dataset"
      ]
    },
    {
      "cell_type": "code",
      "metadata": {
        "id": "-7uDVQVeU2kB",
        "colab_type": "code",
        "outputId": "b9962629-278c-41b9-b29f-a20a9ceeff32",
        "colab": {
          "base_uri": "https://localhost:8080/",
          "height": 34
        }
      },
      "source": [
        "print('Shape of the data set: ' + str(Data.shape))"
      ],
      "execution_count": 0,
      "outputs": [
        {
          "output_type": "stream",
          "text": [
            "Shape of the data set: (3609, 563)\n"
          ],
          "name": "stdout"
        }
      ]
    },
    {
      "cell_type": "markdown",
      "metadata": {
        "id": "apeKTERO5dqQ",
        "colab_type": "text"
      },
      "source": [
        "### Saving Labels as strings and checking the unique strings"
      ]
    },
    {
      "cell_type": "code",
      "metadata": {
        "id": "5NK3ySFiU5is",
        "colab_type": "code",
        "outputId": "1d30bfa2-51c7-475b-da9f-3afdf68669b2",
        "colab": {
          "base_uri": "https://localhost:8080/",
          "height": 34
        }
      },
      "source": [
        "#save labels as string\n",
        "Labels = Data['activity'] # save activity column to a variable called 'Labels'\n",
        "Data = Data.drop(['rn', 'activity'], axis = 1) # drops activity column\n",
        "Labels_keys = Labels.unique().tolist() # finds unique labels and converts it to a list\n",
        "Labels = np.array(Labels)\n",
        "print('Activity labels: ' + str(Labels_keys))"
      ],
      "execution_count": 0,
      "outputs": [
        {
          "output_type": "stream",
          "text": [
            "Activity labels: ['STANDING', 'SITTING', 'LAYING', 'WALKING', 'WALKING_DOWNSTAIRS', 'WALKING_UPSTAIRS']\n"
          ],
          "name": "stdout"
        }
      ]
    },
    {
      "cell_type": "markdown",
      "metadata": {
        "id": "Ex_T5YI45fTu",
        "colab_type": "text"
      },
      "source": [
        "### Let us check if we have missing values in our data"
      ]
    },
    {
      "cell_type": "code",
      "metadata": {
        "id": "LFs4vbbYU9iI",
        "colab_type": "code",
        "outputId": "1ce8f713-f527-4de2-e523-2659fbae4faa",
        "colab": {
          "base_uri": "https://localhost:8080/",
          "height": 34
        }
      },
      "source": [
        "Temp = pd.DataFrame(Data.isnull().sum())\n",
        "Temp.columns = ['Sum']\n",
        "print('Amount of rows with missing values: ' + str(len(Temp.index[Temp['Sum'] > 0])) )"
      ],
      "execution_count": 0,
      "outputs": [
        {
          "output_type": "stream",
          "text": [
            "Amount of rows with missing values: 0\n"
          ],
          "name": "stdout"
        }
      ]
    },
    {
      "cell_type": "markdown",
      "metadata": {
        "id": "zqDqW-X05j9R",
        "colab_type": "text"
      },
      "source": [
        "### Scaling our data"
      ]
    },
    {
      "cell_type": "code",
      "metadata": {
        "id": "W3Ii9dDFVAgY",
        "colab_type": "code",
        "colab": {}
      },
      "source": [
        "#normalize the dataset\n",
        "scaler = StandardScaler()\n",
        "Data = scaler.fit_transform(Data) # scaling the data"
      ],
      "execution_count": 0,
      "outputs": []
    },
    {
      "cell_type": "markdown",
      "metadata": {
        "id": "XEuXEhW9h343",
        "colab_type": "text"
      },
      "source": [
        "Now that we have pre-processed our data, let us go ahead and use K means algorithm for clustering\n",
        "\n",
        "K-means is a simple unsupervised machine learning algorithm that groups a dataset into a user-specified number (k) of clusters. The algorithm is somewhat naive--it clusters the data into k clusters, even if k is not the right number of clusters to use. Therefore, when using k-means clustering, we need some way to determine whether they are using the right number of clusters.\n",
        "\n",
        "One method to validate the number of clusters is the elbow method. The idea of the elbow method is to run k-means clustering on the dataset for a range of values of k (say, k from 1 to 10), and for each value of k calculate the sum of squared errors (SSE). The goal is to minimise the inertia, or within-cluster sum-of-squares criterion."
      ]
    },
    {
      "cell_type": "markdown",
      "metadata": {
        "id": "98F-fOhO5mrl",
        "colab_type": "text"
      },
      "source": [
        "# Elbow plot to find the optimal value of K"
      ]
    },
    {
      "cell_type": "code",
      "metadata": {
        "id": "GuJEqHUmVDx-",
        "colab_type": "code",
        "outputId": "daecc38b-cef1-47bc-d5fd-8afa519bfd51",
        "colab": {
          "base_uri": "https://localhost:8080/",
          "height": 344
        }
      },
      "source": [
        "ks = range(1, 10)\n",
        "inertias = [] # initializing an empty array\n",
        "\n",
        "for k in ks:\n",
        "    model = KMeans(n_clusters=k)\n",
        "    model.fit(Data)\n",
        "    inertias.append(model.inertia_)\n",
        "\n",
        "plt.figure(figsize=(8,5))\n",
        "plt.style.use('bmh')\n",
        "plt.plot(ks, inertias, '-o')\n",
        "plt.xlabel('Number of clusters, k')\n",
        "plt.ylabel('Inertia')\n",
        "plt.xticks(ks)\n",
        "plt.show()"
      ],
      "execution_count": 0,
      "outputs": [
        {
          "output_type": "display_data",
          "data": {
            "image/png": "[encoded data removed]",
            "text/plain": [
              "<Figure size 576x360 with 1 Axes>"
            ]
          },
          "metadata": {
            "tags": []
          }
        }
      ]
    },
    {
      "cell_type": "markdown",
      "metadata": {
        "id": "VaGV1vAb5sCC",
        "colab_type": "text"
      },
      "source": [
        "### From the above graph, we can see that, after the Number of clusters crosses 2, the decrease in steepness of inertia is not as much, hence we can take K = 2(please feel free to change the value of K and observe the change in results)"
      ]
    },
    {
      "cell_type": "markdown",
      "metadata": {
        "id": "XU468H1K5w6o",
        "colab_type": "text"
      },
      "source": [
        "### Now that we have defined our K value, Let us define our k_means function -"
      ]
    },
    {
      "cell_type": "code",
      "metadata": {
        "id": "n4OIu1EhVL_b",
        "colab_type": "code",
        "colab": {}
      },
      "source": [
        "def k_means(n_clust, data_frame, true_labels):\n",
        "    \"\"\"\n",
        "    Function k_means applies k-means clustering alrorithm on dataset and prints the crosstab of cluster and actual labels \n",
        "    and clustering performance parameters.\n",
        "    \n",
        "    Input:\n",
        "    n_clust - number of clusters (k value)\n",
        "    data_frame - dataset we want to cluster\n",
        "    true_labels - original labels\n",
        "    \n",
        "    Output:\n",
        "    1 - crosstab of cluster and actual labels\n",
        "    2 - performance table\n",
        "    \"\"\"\n",
        "    k_means = KMeans(n_clusters = n_clust, random_state=123, n_init=30)\n",
        "    k_means.fit(data_frame)\n",
        "    c_labels = k_means.labels_\n",
        "    df = pd.DataFrame({'clust_label': c_labels, 'orig_label': true_labels.tolist()})\n",
        "    ct = pd.crosstab(df['clust_label'], df['orig_label'])\n",
        "    y_clust = k_means.predict(data_frame)\n",
        "    display(ct)\n",
        "    print('% 9s' % 'inertia  homo    compl   v-meas   ARI     AMI     silhouette')\n",
        "    print('%i   %.3f   %.3f   %.3f   %.3f   %.3f    %.3f'\n",
        "    %(k_means.inertia_,\n",
        "      homogeneity_score(true_labels, y_clust),\n",
        "      completeness_score(true_labels, y_clust),\n",
        "      v_measure_score(true_labels, y_clust),\n",
        "      adjusted_rand_score(true_labels, y_clust),\n",
        "      adjusted_mutual_info_score(true_labels, y_clust),\n",
        "      silhouette_score(data_frame, y_clust, metric='euclidean')))"
      ],
      "execution_count": 0,
      "outputs": []
    },
    {
      "cell_type": "markdown",
      "metadata": {
        "id": "o-QxTwbu52tw",
        "colab_type": "text"
      },
      "source": [
        "### Applying the k_means function with K=2"
      ]
    },
    {
      "cell_type": "code",
      "metadata": {
        "id": "6sdlzpktVVxJ",
        "colab_type": "code",
        "outputId": "c3a41ca1-dbb1-4bac-a19c-22437cd93184",
        "colab": {
          "base_uri": "https://localhost:8080/",
          "height": 176
        }
      },
      "source": [
        "k_means(n_clust=2, data_frame=Data, true_labels=Labels)"
      ],
      "execution_count": 0,
      "outputs": [
        {
          "output_type": "display_data",
          "data": {
            "text/html": [
              "<div>\n",
              "<style scoped>\n",
              "    .dataframe tbody tr th:only-of-type {\n",
              "        vertical-align: middle;\n",
              "    }\n",
              "\n",
              "    .dataframe tbody tr th {\n",
              "        vertical-align: top;\n",
              "    }\n",
              "\n",
              "    .dataframe thead th {\n",
              "        text-align: right;\n",
              "    }\n",
              "</style>\n",
              "<table border=\"1\" class=\"dataframe\">\n",
              "  <thead>\n",
              "    <tr style=\"text-align: right;\">\n",
              "      <th>orig_label</th>\n",
              "      <th>LAYING</th>\n",
              "      <th>SITTING</th>\n",
              "      <th>STANDING</th>\n",
              "      <th>WALKING</th>\n",
              "      <th>WALKING_DOWNSTAIRS</th>\n",
              "      <th>WALKING_UPSTAIRS</th>\n",
              "    </tr>\n",
              "    <tr>\n",
              "      <th>clust_label</th>\n",
              "      <th></th>\n",
              "      <th></th>\n",
              "      <th></th>\n",
              "      <th></th>\n",
              "      <th></th>\n",
              "      <th></th>\n",
              "    </tr>\n",
              "  </thead>\n",
              "  <tbody>\n",
              "    <tr>\n",
              "      <th>0</th>\n",
              "      <td>1</td>\n",
              "      <td>1</td>\n",
              "      <td>0</td>\n",
              "      <td>603</td>\n",
              "      <td>493</td>\n",
              "      <td>535</td>\n",
              "    </tr>\n",
              "    <tr>\n",
              "      <th>1</th>\n",
              "      <td>680</td>\n",
              "      <td>622</td>\n",
              "      <td>668</td>\n",
              "      <td>0</td>\n",
              "      <td>0</td>\n",
              "      <td>6</td>\n",
              "    </tr>\n",
              "  </tbody>\n",
              "</table>\n",
              "</div>"
            ],
            "text/plain": [
              "orig_label   LAYING  SITTING  ...  WALKING_DOWNSTAIRS  WALKING_UPSTAIRS\n",
              "clust_label                   ...                                      \n",
              "0                 1        1  ...                 493               535\n",
              "1               680      622  ...                   0                 6\n",
              "\n",
              "[2 rows x 6 columns]"
            ]
          },
          "metadata": {
            "tags": []
          }
        },
        {
          "output_type": "stream",
          "text": [
            "inertia  homo    compl   v-meas   ARI     AMI     silhouette\n",
            "1156484   0.378   0.981   0.546   0.329   0.546    0.390\n"
          ],
          "name": "stdout"
        }
      ]
    },
    {
      "cell_type": "markdown",
      "metadata": {
        "id": "9XJI9TABkKOw",
        "colab_type": "text"
      },
      "source": [
        "### In unsupervised learning, we don't have the ground truth labels.If the ground truth labels are not known, evaluation must be performed using the model itself. The Silhouette Coefficient is an example of such an evaluation, where a higher Silhouette Coefficient score relates to a model with better defined clusters.\n",
        "\n",
        "### Our inertia value looks like a very big number and our silhoutte score looks small, hence we can say that our model didn't perform quite as well as how we wanted it to perform."
      ]
    },
    {
      "cell_type": "markdown",
      "metadata": {
        "id": "D9QzCzDX5-oS",
        "colab_type": "text"
      },
      "source": [
        "### Let us make the problem a little more specific by changing our labels to only 2 classes based on movement -> Moving or Non Moving (from our existing classes of sitting/standing/laying/walking/walking_downstairs/walking_upstairs)\n",
        "\n",
        "### We convert the classes -> sitting, standing and laying to not moving\n",
        "\n",
        "### and similarly, convert the classes -> walking, walking_downstairs, walking_upstairs to moving"
      ]
    },
    {
      "cell_type": "code",
      "metadata": {
        "id": "UMF0zbAJVew8",
        "colab_type": "code",
        "colab": {}
      },
      "source": [
        "#change labels into binary: 0 - moving, 1 - not moving\n",
        "Labels_binary = Labels.copy()\n",
        "for i in range(len(Labels_binary)):\n",
        "    if (Labels_binary[i] == 'STANDING' or Labels_binary[i] == 'SITTING' or Labels_binary[i] == 'LAYING'): # for given labels, replacing strings with 1's\n",
        "        Labels_binary[i] = 1\n",
        "    else:\n",
        "        Labels_binary[i] = 0 # replacing the rest of the labels with 0\n",
        "Labels_binary = np.array(Labels_binary.astype(int))"
      ],
      "execution_count": 0,
      "outputs": []
    },
    {
      "cell_type": "markdown",
      "metadata": {
        "id": "JDye2Nmn6Pfo",
        "colab_type": "text"
      },
      "source": [
        "### We can see the inertia and silhoutte scores are still as they previously were."
      ]
    },
    {
      "cell_type": "code",
      "metadata": {
        "id": "Whf-s1IfVhKn",
        "colab_type": "code",
        "outputId": "b5200d58-d3de-4d19-e1b8-65f8035574db",
        "colab": {
          "base_uri": "https://localhost:8080/",
          "height": 176
        }
      },
      "source": [
        "k_means(n_clust=2, data_frame=Data, true_labels=Labels_binary)"
      ],
      "execution_count": 0,
      "outputs": [
        {
          "output_type": "display_data",
          "data": {
            "text/html": [
              "<div>\n",
              "<style scoped>\n",
              "    .dataframe tbody tr th:only-of-type {\n",
              "        vertical-align: middle;\n",
              "    }\n",
              "\n",
              "    .dataframe tbody tr th {\n",
              "        vertical-align: top;\n",
              "    }\n",
              "\n",
              "    .dataframe thead th {\n",
              "        text-align: right;\n",
              "    }\n",
              "</style>\n",
              "<table border=\"1\" class=\"dataframe\">\n",
              "  <thead>\n",
              "    <tr style=\"text-align: right;\">\n",
              "      <th>orig_label</th>\n",
              "      <th>0</th>\n",
              "      <th>1</th>\n",
              "    </tr>\n",
              "    <tr>\n",
              "      <th>clust_label</th>\n",
              "      <th></th>\n",
              "      <th></th>\n",
              "    </tr>\n",
              "  </thead>\n",
              "  <tbody>\n",
              "    <tr>\n",
              "      <th>0</th>\n",
              "      <td>1631</td>\n",
              "      <td>2</td>\n",
              "    </tr>\n",
              "    <tr>\n",
              "      <th>1</th>\n",
              "      <td>6</td>\n",
              "      <td>1970</td>\n",
              "    </tr>\n",
              "  </tbody>\n",
              "</table>\n",
              "</div>"
            ],
            "text/plain": [
              "orig_label      0     1\n",
              "clust_label            \n",
              "0            1631     2\n",
              "1               6  1970"
            ]
          },
          "metadata": {
            "tags": []
          }
        },
        {
          "output_type": "stream",
          "text": [
            "inertia  homo    compl   v-meas   ARI     AMI     silhouette\n",
            "1156484   0.977   0.978   0.978   0.991   0.978    0.390\n"
          ],
          "name": "stdout"
        }
      ]
    },
    {
      "cell_type": "markdown",
      "metadata": {
        "id": "kqDlXpMqnFK0",
        "colab_type": "text"
      },
      "source": [
        "Let us use PCA on our data, hoping it will change our results"
      ]
    },
    {
      "cell_type": "markdown",
      "metadata": {
        "id": "WUDaU4d6Vthb",
        "colab_type": "text"
      },
      "source": [
        "# Principal component analysis (PCA)\n",
        "### Principal Component Analysis is a dimension-reduction tool that can be used to reduce a large set of variables to a small set that still contains most of the information in the large set.\n",
        "\n",
        "### Let us apply PCA to our data and have a look at how much variance is explained with the number of features"
      ]
    },
    {
      "cell_type": "code",
      "metadata": {
        "id": "G2UzkV9yV3uy",
        "colab_type": "code",
        "outputId": "4c646cf0-86d3-4d70-ffda-5f55fdda022c",
        "colab": {
          "base_uri": "https://localhost:8080/",
          "height": 279
        }
      },
      "source": [
        "pca = PCA(random_state=123)\n",
        "pca.fit(Data)\n",
        "features = range(pca.n_components_)\n",
        "\n",
        "plt.figure(figsize=(8,4))\n",
        "plt.bar(features[:15], pca.explained_variance_[:15], color='lightskyblue')\n",
        "plt.xlabel('PCA feature')\n",
        "plt.ylabel('Variance')\n",
        "plt.xticks(features[:15])\n",
        "plt.show()"
      ],
      "execution_count": 0,
      "outputs": [
        {
          "output_type": "display_data",
          "data": {
            "image/png": "[encoded data removed]",
            "text/plain": [
              "<Figure size 576x288 with 1 Axes>"
            ]
          },
          "metadata": {
            "tags": []
          }
        }
      ]
    },
    {
      "cell_type": "markdown",
      "metadata": {
        "id": "eOJi5Yn76f_q",
        "colab_type": "text"
      },
      "source": [
        "### From the above graph, one feature seems to explain the highest variance"
      ]
    },
    {
      "cell_type": "code",
      "metadata": {
        "id": "VqumKD_fV6zz",
        "colab_type": "code",
        "colab": {}
      },
      "source": [
        "def pca_transform(n_comp):\n",
        "    pca = PCA(n_components=n_comp, random_state=123)\n",
        "    global Data_reduced\n",
        "    Data_reduced = pca.fit_transform(Data)\n",
        "    print('Shape of the new Data df: ' + str(Data_reduced.shape))"
      ],
      "execution_count": 0,
      "outputs": []
    },
    {
      "cell_type": "markdown",
      "metadata": {
        "id": "ta_Fx4gM6yyn",
        "colab_type": "text"
      },
      "source": [
        "### We transform the features with PCA along with n_component as 1 and use K means algorithm again"
      ]
    },
    {
      "cell_type": "code",
      "metadata": {
        "id": "QlgWR-_-508I",
        "colab_type": "code",
        "outputId": "b5ea3d79-e475-4689-c98e-2ce3cb4671b9",
        "colab": {
          "base_uri": "https://localhost:8080/",
          "height": 193
        }
      },
      "source": [
        "pca_transform(n_comp=1)\n",
        "k_means(n_clust=2, data_frame=Data_reduced, true_labels=Labels_binary)"
      ],
      "execution_count": 0,
      "outputs": [
        {
          "output_type": "stream",
          "text": [
            "Shape of the new Data df: (3609, 1)\n"
          ],
          "name": "stdout"
        },
        {
          "output_type": "display_data",
          "data": {
            "text/html": [
              "<div>\n",
              "<style scoped>\n",
              "    .dataframe tbody tr th:only-of-type {\n",
              "        vertical-align: middle;\n",
              "    }\n",
              "\n",
              "    .dataframe tbody tr th {\n",
              "        vertical-align: top;\n",
              "    }\n",
              "\n",
              "    .dataframe thead th {\n",
              "        text-align: right;\n",
              "    }\n",
              "</style>\n",
              "<table border=\"1\" class=\"dataframe\">\n",
              "  <thead>\n",
              "    <tr style=\"text-align: right;\">\n",
              "      <th>orig_label</th>\n",
              "      <th>0</th>\n",
              "      <th>1</th>\n",
              "    </tr>\n",
              "    <tr>\n",
              "      <th>clust_label</th>\n",
              "      <th></th>\n",
              "      <th></th>\n",
              "    </tr>\n",
              "  </thead>\n",
              "  <tbody>\n",
              "    <tr>\n",
              "      <th>0</th>\n",
              "      <td>1629</td>\n",
              "      <td>1</td>\n",
              "    </tr>\n",
              "    <tr>\n",
              "      <th>1</th>\n",
              "      <td>8</td>\n",
              "      <td>1971</td>\n",
              "    </tr>\n",
              "  </tbody>\n",
              "</table>\n",
              "</div>"
            ],
            "text/plain": [
              "orig_label      0     1\n",
              "clust_label            \n",
              "0            1629     1\n",
              "1               8  1971"
            ]
          },
          "metadata": {
            "tags": []
          }
        },
        {
          "output_type": "stream",
          "text": [
            "inertia  homo    compl   v-meas   ARI     AMI     silhouette\n",
            "168716   0.976   0.976   0.976   0.990   0.976    0.794\n"
          ],
          "name": "stdout"
        }
      ]
    },
    {
      "cell_type": "markdown",
      "metadata": {
        "id": "y75UinI-WE5B",
        "colab_type": "text"
      },
      "source": [
        "### Our Inertia and Silhouette have drastically improved when compared to without using PCA"
      ]
    },
    {
      "cell_type": "markdown",
      "metadata": {
        "id": "2f-2vlRhDWZC",
        "colab_type": "text"
      },
      "source": [
        "# Results\n",
        "\n",
        "### We can see that our Inertia and silhoutte scores drastically improve after doing Principal Component Analysis with n_component = 1 along with K means algorithm"
      ]
    },
    {
      "cell_type": "markdown",
      "metadata": {
        "id": "Fa78DKNLDWZD",
        "colab_type": "text"
      },
      "source": [
        "# Conclusion\n",
        "\n",
        "###We have read our data file from Google Drive, done pre-processing on the data, made an elbow plot to find the optimal value of K, defined a PCA function and applied it to our data and applied Kmeans again. We can see that our results have immensely improved post PCA.\n",
        "\n",
        "###Sensor data is widely used in all the fitness applications to track a user's health and fitness. This is just one use case of what we can do with sensor data, in the coming years with the onset of 5G technology, many products with sensor data in the form of latitude, longitude, temperature, humidity, time, etc will open up a range of applications which when combined with Data Science will give rise to wide variety of applications in the field."
      ]
    },
    {
      "cell_type": "markdown",
      "metadata": {
        "id": "l_YVbfQwDWZF",
        "colab_type": "text"
      },
      "source": [
        "# References -\n",
        "Dataset Source - https://archive.ics.uci.edu/ml/datasets/human+activity+recognition+using+smartphones"
      ]
    },
    {
      "cell_type": "markdown",
      "metadata": {
        "id": "3wM45NnPX2MV",
        "colab_type": "text"
      },
      "source": [
        "# Citation -\n",
        "\n",
        "#### Davide Anguita, Alessandro Ghio, Luca Oneto, Xavier Parra and Jorge L. Reyes-Ortiz. A Public Domain Dataset for Human Activity Recognition Using Smartphones. 21st European Symposium on Artificial Neural Networks, Computational Intelligence and Machine Learning, ESANN 2013. Bruges, Belgium 24-26 April 2013."
      ]
    }
  ]
}